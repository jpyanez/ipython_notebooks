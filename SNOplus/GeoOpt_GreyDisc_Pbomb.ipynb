{
 "cells": [
  {
   "cell_type": "markdown",
   "metadata": {},
   "source": [
    "## This comparison is done with a photon bomb\n",
    "## Photons are 400nm\n",
    "## Only testing the Grey Disc\n"
   ]
  },
  {
   "cell_type": "code",
   "execution_count": 1,
   "metadata": {
    "collapsed": false
   },
   "outputs": [
    {
     "name": "stderr",
     "output_type": "stream",
     "text": [
      "TClass::TClass:0: RuntimeWarning: no dictionary for class omtext is available\n"
     ]
    }
   ],
   "source": [
    "import ROOT, rat\n",
    "import os, sys\n",
    "import matplotlib.pyplot as plt\n",
    "import numpy as np\n",
    "%matplotlib inline   \n"
   ]
  },
  {
   "cell_type": "code",
   "execution_count": 2,
   "metadata": {
    "collapsed": true
   },
   "outputs": [],
   "source": [
    "outdir = '/home/jp/Dropbox/workflowy/snoplus/geo_validation'"
   ]
  },
  {
   "cell_type": "code",
   "execution_count": 3,
   "metadata": {
    "collapsed": true
   },
   "outputs": [],
   "source": [
    "sys.path.append('/home/jp/projects/snoplus/snoing/install/rat-dev/example/pyroot')\n",
    "sys.path.append('/home/jp/projects/python_tools')\n",
    "sys.path.append('/home/jp/projects/snoplus/python_modules')"
   ]
  },
  {
   "cell_type": "code",
   "execution_count": 4,
   "metadata": {
    "collapsed": false
   },
   "outputs": [
    {
     "data": {
      "text/plain": [
       "<module 'lowlevel_stats' from '/home/jp/projects/snoplus/python_modules/lowlevel_stats.pyc'>"
      ]
     },
     "execution_count": 4,
     "metadata": {},
     "output_type": "execute_result"
    }
   ],
   "source": [
    "import jp_mpl as jplot\n",
    "import lowlevel_stats\n",
    "reload(lowlevel_stats)"
   ]
  },
  {
   "cell_type": "code",
   "execution_count": 5,
   "metadata": {
    "collapsed": true
   },
   "outputs": [],
   "source": [
    "basedir = '/home/jp/projects/snoplus/rundir/pbomb'\n",
    "fname = 'photon_bomb.root'"
   ]
  },
  {
   "cell_type": "code",
   "execution_count": 6,
   "metadata": {
    "collapsed": false
   },
   "outputs": [
    {
     "name": "stdout",
     "output_type": "stream",
     "text": [
      "/home/jp/projects/snoplus/rundir/pbomb/snoplus/photon_bomb.root\n"
     ]
    }
   ],
   "source": [
    "# SNOPLUS official\n",
    "dirname = 'snoplus'\n",
    "file_name = os.path.join(basedir, dirname, fname)\n",
    "print file_name\n",
    "sno = lowlevel_stats.getMChits(file_name)\n",
    "sno_hittimes = lowlevel_stats.getHitTimes_MC(file_name)\n",
    "sno_petimes  = lowlevel_stats.getPETimes_MC(file_name)\n",
    "#sno_wlen     = lowlevel_stats.getPMTwlen(file_name)"
   ]
  },
  {
   "cell_type": "code",
   "execution_count": 7,
   "metadata": {
    "collapsed": false
   },
   "outputs": [
    {
     "name": "stdout",
     "output_type": "stream",
     "text": [
      "/home/jp/projects/snoplus/rundir/pbomb/snoplus_greydisc/photon_bomb.root\n"
     ]
    }
   ],
   "source": [
    "# SNOPLUS greydisc\n",
    "dirname = 'snoplus_greydisc'\n",
    "file_name = os.path.join(basedir, dirname, fname)\n",
    "print file_name\n",
    "snogd = lowlevel_stats.getMChits(file_name)\n",
    "snogd_hittimes = lowlevel_stats.getHitTimes_MC(file_name)\n",
    "snogd_petimes  = lowlevel_stats.getPETimes_MC(file_name)\n",
    "#snogd_wlen     = lowlevel_stats.getPMTwlen(file_name)"
   ]
  },
  {
   "cell_type": "markdown",
   "metadata": {},
   "source": [
    "## Checking the NHits distribution"
   ]
  },
  {
   "cell_type": "code",
   "execution_count": 16,
   "metadata": {
    "collapsed": false
   },
   "outputs": [],
   "source": [
    "mycolors = ['b','r','g','k','m','c']\n",
    "def plotNhits(nhits_list = [], scale_factor = [], labels = [], figname = ''):\n",
    "    xaxis = np.arange(550, 1000, 10)\n",
    "\n",
    "    nbins = []\n",
    "    for i, one_nhits in enumerate(nhits_list):\n",
    "        n, x = np.histogram(one_nhits, xaxis)\n",
    "        nbins.append(n)\n",
    "        print labels[i]\n",
    "        print 'Mean ', one_nhits.mean()*scale_factor[i]\n",
    "        print 'Std  ', one_nhits.std()*scale_factor[i]\n",
    "        print 'Sum ', one_nhits.sum()*scale_factor[i]\n",
    "        \n",
    "    myfig = plt.figure(figsize=(8,5))\n",
    "    for i, one_n in enumerate(nbins):\n",
    "        jplot.unfilledBar(xaxis, one_n*scale_factor[i], \n",
    "                              color = mycolors[i], label=labels[i])\n",
    "        jplot.errorMark(xaxis, one_n*scale_factor[i], \n",
    "                        error=np.sqrt(one_n)*scale_factor[i], color=mycolors[i])\n",
    "\n",
    "        \n",
    "        \n",
    "    plt.xlabel('Nhits (5 MeV electron at detector center)')\n",
    "    plt.ylabel('Entries per event')\n",
    "    \n",
    "    #plt.ylim([0,])\n",
    "    plt.legend(loc=0)\n",
    "    if len(figname) > 0:\n",
    "        myfig.savefig(os.path.join(outdir, figname + '.png'), dpi=300)"
   ]
  },
  {
   "cell_type": "code",
   "execution_count": 17,
   "metadata": {
    "collapsed": false
   },
   "outputs": [
    {
     "name": "stdout",
     "output_type": "stream",
     "text": [
      "SNO\n",
      "Mean  802.14\n",
      "Std   25.3464080295\n",
      "Sum  80214.0\n",
      "SNO GreyDisc\n",
      "Mean  630.86\n",
      "Std   22.6380299496\n",
      "Sum  63086\n"
     ]
    },
    {
     "data": {
      "image/png": "[encoded data removed]",
      "text/plain": [
       "<matplotlib.figure.Figure at 0x7fd704e090d0>"
      ]
     },
     "metadata": {},
     "output_type": "display_data"
    }
   ],
   "source": [
    "plotNhits([sno, snogd],[1., 1], ['SNO','SNO GreyDisc'], \n",
    "          'PBomb_SNO_official_vs_greydisc')"
   ]
  },
  {
   "cell_type": "code",
   "execution_count": 18,
   "metadata": {
    "collapsed": false
   },
   "outputs": [
    {
     "name": "stdout",
     "output_type": "stream",
     "text": [
      "1.27150239356\n",
      "1.27150239356\n"
     ]
    }
   ],
   "source": [
    "print 802.14/630.86\n",
    "print 80214.0/63086"
   ]
  },
  {
   "cell_type": "markdown",
   "metadata": {},
   "source": [
    "## Checking the hit times distribution"
   ]
  },
  {
   "cell_type": "code",
   "execution_count": 13,
   "metadata": {
    "collapsed": true
   },
   "outputs": [],
   "source": [
    "mycolors = ['b','r','g','k','m','c']\n",
    "def plotTOA(nhits_list = [], scale_factor = [], labels = [], figname = ''):\n",
    "    xaxis = np.arange(30, 200, 1)#20, 4000)\n",
    "\n",
    "    nbins = []\n",
    "    for one_nhits in nhits_list:\n",
    "        n, x = np.histogram(one_nhits, xaxis)\n",
    "        nbins.append(n)\n",
    "        \n",
    "    myfig = plt.figure(figsize=(8,5))\n",
    "    for i, one_n in enumerate(nbins):\n",
    "        jplot.unfilledBar(xaxis, one_n*scale_factor[i], \n",
    "                              color = mycolors[i], label=labels[i])\n",
    "        jplot.errorMark(xaxis, one_n*scale_factor[i], \n",
    "                        error=np.sqrt(one_n)*scale_factor[i], color=mycolors[i])\n",
    "        print labels[i]\n",
    "        print 'Mean ', one_n.mean()*scale_factor[i]\n",
    "        print 'Std  ', one_n.std()*scale_factor[i]\n",
    "        print 'Sum ', one_n.sum()\n",
    "        \n",
    "    plt.xlabel('Hit time (ns, 5 MeV electron at detector center)')\n",
    "    plt.ylabel('Hits')        \n",
    "\n",
    "    \n",
    "    #plt.ylim([0,])\n",
    "    plt.yscale('log')\n",
    "    plt.legend(loc=0)\n",
    "    if len(figname) > 0:\n",
    "        myfig.savefig(os.path.join(outdir, figname + '.png'), dpi=300)"
   ]
  },
  {
   "cell_type": "code",
   "execution_count": 14,
   "metadata": {
    "collapsed": false
   },
   "outputs": [
    {
     "name": "stdout",
     "output_type": "stream",
     "text": [
      "SNO\n",
      "Mean  467.75739645\n",
      "Std   1622.1037386\n",
      "Sum  79051\n",
      "SNO GreyDisc\n",
      "Mean  365.887573964\n",
      "Std   1254.37033607\n",
      "Sum  61835\n"
     ]
    },
    {
     "data": {
      "image/png": "[encoded data removed]",
      "text/plain": [
       "<matplotlib.figure.Figure at 0x7fd704fce510>"
      ]
     },
     "metadata": {},
     "output_type": "display_data"
    }
   ],
   "source": [
    "plotTOA([sno_hittimes, snogd_hittimes],[1., 1], ['SNO','SNO GreyDisc'], \n",
    "          'TOApbomb_SNO_official_vs_greydisc')"
   ]
  },
  {
   "cell_type": "code",
   "execution_count": 15,
   "metadata": {
    "collapsed": false
   },
   "outputs": [
    {
     "data": {
      "text/plain": [
       "1.278418371472467"
      ]
     },
     "execution_count": 15,
     "metadata": {},
     "output_type": "execute_result"
    }
   ],
   "source": [
    "79051/61835."
   ]
  },
  {
   "cell_type": "code",
   "execution_count": null,
   "metadata": {
    "collapsed": true
   },
   "outputs": [],
   "source": []
  }
 ],
 "metadata": {
  "kernelspec": {
   "display_name": "Python 2",
   "language": "python",
   "name": "python2"
  },
  "language_info": {
   "codemirror_mode": {
    "name": "ipython",
    "version": 2
   },
   "file_extension": ".py",
   "mimetype": "text/x-python",
   "name": "python",
   "nbconvert_exporter": "python",
   "pygments_lexer": "ipython2",
   "version": "2.7.11"
  }
 },
 "nbformat": 4,
 "nbformat_minor": 0
}
