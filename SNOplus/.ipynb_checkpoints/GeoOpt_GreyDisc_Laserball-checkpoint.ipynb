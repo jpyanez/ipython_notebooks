{
 "cells": [
  {
   "cell_type": "markdown",
   "metadata": {},
   "source": [
    "## This comparison is done with a Laser Ball\n",
    "## I modified the emission profile to be flat between 320 and 550 nm (fake N2)\n"
   ]
  },
  {
   "cell_type": "code",
   "execution_count": 1,
   "metadata": {
    "collapsed": false
   },
   "outputs": [
    {
     "name": "stderr",
     "output_type": "stream",
     "text": [
      "TClass::TClass:0: RuntimeWarning: no dictionary for class omtext is available\n"
     ]
    }
   ],
   "source": [
    "import ROOT, rat\n",
    "import os, sys\n",
    "import matplotlib.pyplot as plt\n",
    "import numpy as np\n",
    "%matplotlib inline   \n"
   ]
  },
  {
   "cell_type": "code",
   "execution_count": 2,
   "metadata": {
    "collapsed": true
   },
   "outputs": [],
   "source": [
    "outdir = '/home/jp/Dropbox/workflowy/snoplus/geo_validation'"
   ]
  },
  {
   "cell_type": "code",
   "execution_count": 3,
   "metadata": {
    "collapsed": true
   },
   "outputs": [],
   "source": [
    "sys.path.append('/home/jp/projects/snoplus/snoing/install/rat-dev/example/pyroot')\n",
    "sys.path.append('/home/jp/projects/python_tools')\n",
    "sys.path.append('/home/jp/projects/snoplus/python_modules')"
   ]
  },
  {
   "cell_type": "code",
   "execution_count": 4,
   "metadata": {
    "collapsed": false
   },
   "outputs": [
    {
     "data": {
      "text/plain": [
       "<module 'lowlevel_stats' from '/home/jp/projects/snoplus/python_modules/lowlevel_stats.pyc'>"
      ]
     },
     "execution_count": 4,
     "metadata": {},
     "output_type": "execute_result"
    }
   ],
   "source": [
    "import jp_mpl as jplot\n",
    "import lowlevel_stats\n",
    "reload(lowlevel_stats)"
   ]
  },
  {
   "cell_type": "code",
   "execution_count": 5,
   "metadata": {
    "collapsed": true
   },
   "outputs": [],
   "source": [
    "basedir = '/home/jp/projects/snoplus/rundir/laserball'\n",
    "fname = 'laserball.root'"
   ]
  },
  {
   "cell_type": "code",
   "execution_count": 6,
   "metadata": {
    "collapsed": false,
    "scrolled": true
   },
   "outputs": [
    {
     "name": "stdout",
     "output_type": "stream",
     "text": [
      "/home/jp/projects/snoplus/rundir/laserball/snoplus/laserball.root\n"
     ]
    }
   ],
   "source": [
    "# SNOPLUS official\n",
    "dirname = 'snoplus'\n",
    "file_name = os.path.join(basedir, dirname, fname)\n",
    "print file_name\n",
    "sno = lowlevel_stats.getMChits(file_name)\n",
    "sno_hittimes = lowlevel_stats.getHitTimes_MC(file_name)\n",
    "sno_petimes  = lowlevel_stats.getPETimes_MC(file_name)\n",
    "sno_wlen     = lowlevel_stats.getPhotonWlen(file_name)\n",
    "sno_wlenpmt, sno_trackid  = lowlevel_stats.getPMTWlen(file_name)\n",
    "sno_q, sno_peid = lowlevel_stats.getPEinfo(file_name)"
   ]
  },
  {
   "cell_type": "code",
   "execution_count": 15,
   "metadata": {
    "collapsed": false
   },
   "outputs": [
    {
     "data": {
      "text/plain": [
       "(63981, 59267)"
      ]
     },
     "execution_count": 15,
     "metadata": {},
     "output_type": "execute_result"
    }
   ],
   "source": [
    "sno_trackid.size, np.unique(sno_trackid).size"
   ]
  },
  {
   "cell_type": "code",
   "execution_count": 7,
   "metadata": {
    "collapsed": false
   },
   "outputs": [
    {
     "name": "stdout",
     "output_type": "stream",
     "text": [
      "6776 440\n"
     ]
    }
   ],
   "source": [
    "# Find the single photons\n",
    "multiple_pe = 0\n",
    "sno_pewlen = np.zeros_like(sno_q)\n",
    "for i, pid in enumerate(sno_peid):\n",
    "    index = np.where(pid == sno_trackid)[0]\n",
    "    if len(index) == 1:\n",
    "        sno_pewlen[i] = sno_wlenpmt[index[0]]\n",
    "    else:\n",
    "        multiple_pe +=1\n",
    "print sno_peid.size, multiple_pe"
   ]
  },
  {
   "cell_type": "code",
   "execution_count": 8,
   "metadata": {
    "collapsed": false
   },
   "outputs": [
    {
     "name": "stdout",
     "output_type": "stream",
     "text": [
      "/home/jp/projects/snoplus/rundir/laserball/snoplus_greydisc/laserball.root\n"
     ]
    }
   ],
   "source": [
    "# SNOPLUS greydisc\n",
    "dirname = 'snoplus_greydisc'\n",
    "file_name = os.path.join(basedir, dirname, fname)\n",
    "print file_name\n",
    "snogd = lowlevel_stats.getMChits(file_name)\n",
    "snogd_hittimes = lowlevel_stats.getHitTimes_MC(file_name)\n",
    "snogd_petimes  = lowlevel_stats.getPETimes_MC(file_name)\n",
    "snogd_wlen     = lowlevel_stats.getPhotonWlen(file_name)\n",
    "snogd_wlenpmt, snogd_trackid  = lowlevel_stats.getPMTWlen(file_name)\n",
    "snogd_q, snogd_peid = lowlevel_stats.getPEinfo(file_name)"
   ]
  },
  {
   "cell_type": "code",
   "execution_count": 14,
   "metadata": {
    "collapsed": false
   },
   "outputs": [
    {
     "data": {
      "text/plain": [
       "(64925, 59473)"
      ]
     },
     "execution_count": 14,
     "metadata": {},
     "output_type": "execute_result"
    }
   ],
   "source": [
    "snogd_trackid.size, np.unique(snogd_trackid).size"
   ]
  },
  {
   "cell_type": "code",
   "execution_count": 16,
   "metadata": {
    "collapsed": false
   },
   "outputs": [
    {
     "name": "stdout",
     "output_type": "stream",
     "text": [
      "5239 0\n"
     ]
    }
   ],
   "source": [
    "# Find the single photons\n",
    "gdmultiple_pe = 0\n",
    "snogd_pewlen = np.zeros_like(snogd_q)\n",
    "for i, pid in enumerate(snogd_peid):\n",
    "    index = np.where(pid == snogd_trackid)[0]\n",
    "    if len(index) == 1:\n",
    "        snogd_pewlen[i] = snogd_wlenpmt[index[0]]\n",
    "    else:\n",
    "        multiple_pe +=1\n",
    "print snogd_peid.size, gdmultiple_pe"
   ]
  },
  {
   "cell_type": "markdown",
   "metadata": {},
   "source": [
    "## Checking the NHits distribution"
   ]
  },
  {
   "cell_type": "code",
   "execution_count": 23,
   "metadata": {
    "collapsed": false
   },
   "outputs": [],
   "source": [
    "mycolors = ['b','r','g','k','m','c']\n",
    "def plotNhits(nhits_list = [], scale_factor = [], labels = [], figname = ''):\n",
    "    xaxis = np.arange(3000, 6000, 100)\n",
    "\n",
    "    nbins = []\n",
    "    for i, one_nhits in enumerate(nhits_list):\n",
    "        n, x = np.histogram(one_nhits, xaxis)\n",
    "        nbins.append(n)\n",
    "        print 'SUM ', one_nhits.sum()\n",
    "        print 'Mean ', one_nhits.mean()*scale_factor[i]\n",
    "        print 'Std  ', one_nhits.std()*scale_factor[i]\n",
    "        \n",
    "    myfig = plt.figure(figsize=(8,5))\n",
    "    for i, one_n in enumerate(nbins):\n",
    "        jplot.unfilledBar(xaxis, one_n*scale_factor[i], \n",
    "                              color = mycolors[i], label=labels[i])\n",
    "        jplot.errorMark(xaxis, one_n*scale_factor[i], \n",
    "                        error=np.sqrt(one_n)*scale_factor[i], color=mycolors[i])\n",
    "        print labels[i]\n",
    "\n",
    "        \n",
    "        \n",
    "    plt.xlabel('Nhits (Laserball with flat spectrum)')\n",
    "    plt.ylabel('Entries per event')\n",
    "    \n",
    "    #plt.ylim([0,])\n",
    "    plt.legend(loc=0)\n",
    "    if len(figname) > 0:\n",
    "        myfig.savefig(os.path.join(outdir, figname + '.png'), dpi=300)"
   ]
  },
  {
   "cell_type": "code",
   "execution_count": 24,
   "metadata": {
    "collapsed": false
   },
   "outputs": [
    {
     "name": "stdout",
     "output_type": "stream",
     "text": [
      "SUM  4822\n",
      "Mean  4822.0\n",
      "Std   0.0\n",
      "SUM  3951\n",
      "Mean  3951.0\n",
      "Std   0.0\n",
      "SNO\n",
      "SNO GreyDisc\n"
     ]
    },
    {
     "data": {
      "image/png": "[encoded data removed]",
      "text/plain": [
       "<matplotlib.figure.Figure at 0x7f8fd3ee4290>"
      ]
     },
     "metadata": {},
     "output_type": "display_data"
    }
   ],
   "source": [
    "plotNhits([sno, snogd],[1., 1], ['SNO','SNO GreyDisc'], \n",
    "          'LBall_SNO_official_vs_greydisc')"
   ]
  },
  {
   "cell_type": "markdown",
   "metadata": {},
   "source": [
    "## Checking the hit times distribution"
   ]
  },
  {
   "cell_type": "code",
   "execution_count": 29,
   "metadata": {
    "collapsed": false
   },
   "outputs": [],
   "source": [
    "mycolors = ['b','r','g','k','m','c']\n",
    "def plotTOA(nhits_list = [], scale_factor = [], labels = [], figname = ''):\n",
    "    xaxis = np.arange(100, 250, 3)#20, 4000)\n",
    "\n",
    "    nbins = []\n",
    "    for i,one_nhits in enumerate(nhits_list):\n",
    "        n, x = np.histogram(one_nhits, xaxis)\n",
    "        nbins.append(n)\n",
    "        print 'Mean ', one_nhits.mean()*scale_factor[i]\n",
    "        print 'Std  ', one_nhits.std()*scale_factor[i]\n",
    "        \n",
    "    myfig = plt.figure(figsize=(8,5))\n",
    "    for i, one_n in enumerate(nbins):\n",
    "        jplot.unfilledBar(xaxis, one_n*scale_factor[i], \n",
    "                              color = mycolors[i], label=labels[i])\n",
    "        jplot.errorMark(xaxis, one_n*scale_factor[i], \n",
    "                        error=np.sqrt(one_n)*scale_factor[i], color=mycolors[i])\n",
    "        print labels[i]\n",
    "\n",
    "        \n",
    "    plt.xlabel('Hit time (ns, Laserball with flat spectrum)')\n",
    "    plt.ylabel('Hits')        \n",
    "\n",
    "    \n",
    "    #plt.ylim([0,])\n",
    "    plt.legend(loc=0)\n",
    "    if len(figname) > 0:\n",
    "        myfig.savefig(os.path.join(outdir, figname + '.png'), dpi=300)"
   ]
  },
  {
   "cell_type": "code",
   "execution_count": 30,
   "metadata": {
    "collapsed": false
   },
   "outputs": [
    {
     "name": "stdout",
     "output_type": "stream",
     "text": [
      "Mean  154.486288174\n",
      "Std   27.9347865739\n",
      "Mean  155.205017397\n",
      "Std   30.2424601992\n",
      "SNO\n",
      "SNO GreyDisc\n"
     ]
    },
    {
     "data": {
      "image/png": "[encoded data removed]",
      "text/plain": [
       "<matplotlib.figure.Figure at 0x7f8fd3d07f90>"
      ]
     },
     "metadata": {},
     "output_type": "display_data"
    }
   ],
   "source": [
    "plotTOA([sno_hittimes, snogd_hittimes],[1., 1], ['SNO','SNO GreyDisc'], \n",
    "          'LBall_TOA_SNO_official_vs_greydisc')"
   ]
  },
  {
   "cell_type": "code",
   "execution_count": 33,
   "metadata": {
    "collapsed": false
   },
   "outputs": [
    {
     "name": "stdout",
     "output_type": "stream",
     "text": [
      "\n"
     ]
    }
   ],
   "source": [
    "mycolors = ['b','r','g','k','m','c']\n",
    "def plotWlen(wlen_list = [], scale_factor = [], labels = [], figname = ''):\n",
    "    xaxis = np.arange(300,700, 10)#20, 4000)\n",
    "\n",
    "    nbins = []\n",
    "    for one_nhits in wlen_list:\n",
    "        n, x = np.histogram(one_nhits, xaxis)\n",
    "        nbins.append(n)\n",
    "\n",
    "        \n",
    "    myfig = plt.figure(figsize=(8,5))\n",
    "    for i, one_n in enumerate(nbins):\n",
    "        jplot.unfilledBar(xaxis, one_n*scale_factor[i], \n",
    "                              color = mycolors[i], label=labels[i])\n",
    "        jplot.errorMark(xaxis, one_n*scale_factor[i], \n",
    "                        error=np.sqrt(one_n)*scale_factor[i], color=mycolors[i])\n",
    "        print labels[i]\n",
    "\n",
    "        \n",
    "    plt.xlabel('wavelength (nm)')\n",
    "    plt.ylabel('Photons produced')        \n",
    "\n",
    "    \n",
    "    #plt.ylim([0,])\n",
    "    plt.legend(loc=0)\n",
    "    if len(figname) > 0:\n",
    "        myfig.savefig(os.path.join(outdir, figname + '.png'), dpi=300)"
   ]
  },
  {
   "cell_type": "code",
   "execution_count": 34,
   "metadata": {
    "collapsed": false
   },
   "outputs": [
    {
     "name": "stdout",
     "output_type": "stream",
     "text": [
      "SNO\n",
      "SNO GreyDisc\n"
     ]
    },
    {
     "data": {
      "image/png": "[encoded data removed]",
      "text/plain": [
       "<matplotlib.figure.Figure at 0x7f8fd3bdbe90>"
      ]
     },
     "metadata": {},
     "output_type": "display_data"
    }
   ],
   "source": [
    "plotWlen([sno_wlen, snogd_wlen],[1., 1], ['SNO','SNO GreyDisc'], \n",
    "          'LBall_WlenPhoton_SNO_official_vs_greydisc')"
   ]
  },
  {
   "cell_type": "code",
   "execution_count": 35,
   "metadata": {
    "collapsed": false
   },
   "outputs": [
    {
     "name": "stdout",
     "output_type": "stream",
     "text": [
      "SNO\n",
      "SNO GreyDisc\n"
     ]
    },
    {
     "data": {
      "image/png": "[encoded data removed]",
      "text/plain": [
       "<matplotlib.figure.Figure at 0x7f8fd3bf3810>"
      ]
     },
     "metadata": {},
     "output_type": "display_data"
    }
   ],
   "source": [
    "plotWlen([sno_wlenpmt, snogd_wlenpmt],[1., 1], ['SNO','SNO GreyDisc'], \n",
    "          'LBall_WlenPMT_SNO_official_vs_greydisc')"
   ]
  },
  {
   "cell_type": "code",
   "execution_count": 40,
   "metadata": {
    "collapsed": true
   },
   "outputs": [],
   "source": [
    "mycolors = ['b','r','g','k','m','c']\n",
    "def plotWlenQ(wlen_list = [], q_list = [], scale_factor = [], \n",
    "              labels = [], figname = ''):\n",
    "    xaxis = np.arange(300,700, 20)#20, 4000)\n",
    "\n",
    "    nbins = []\n",
    "    for i, one_nhits in enumerate(wlen_list):\n",
    "        n, x = np.histogram(one_nhits, xaxis, weights = q_list[i])\n",
    "        nbins.append(n)\n",
    "\n",
    "        \n",
    "    myfig = plt.figure(figsize=(8,5))\n",
    "    for i, one_n in enumerate(nbins):\n",
    "        jplot.unfilledBar(xaxis, one_n*scale_factor[i], \n",
    "                              color = mycolors[i], label=labels[i])\n",
    "        jplot.errorMark(xaxis, one_n*scale_factor[i], \n",
    "                        error=np.sqrt(one_n)*scale_factor[i], color=mycolors[i])\n",
    "        print labels[i]\n",
    "    plt.xlabel('wavelength (nm)')\n",
    "    plt.ylabel('Photons produced') \n",
    "    \n",
    "    myfig2 = plt.figure(figsize=(8,5))\n",
    "    for i in range(len(nbins)-1):\n",
    "        jplot.unfilledBar(xaxis, nbins[i+1]/nbins[i],\n",
    "                         color = mycolors[i])\n",
    "\n",
    "        \n",
    "       \n",
    "\n",
    "    \n",
    "    #plt.ylim([0,])\n",
    "    plt.legend(loc=0)\n",
    "    if len(figname) > 0:\n",
    "        myfig.savefig(os.path.join(outdir, figname + '.png'), dpi=300)"
   ]
  },
  {
   "cell_type": "code",
   "execution_count": 41,
   "metadata": {
    "collapsed": false
   },
   "outputs": [
    {
     "name": "stdout",
     "output_type": "stream",
     "text": [
      "SNO\n",
      "SNO GreyDisc\n"
     ]
    },
    {
     "name": "stderr",
     "output_type": "stream",
     "text": [
      "/home/jp/anaconda2/lib/python2.7/site-packages/ipykernel/__main__.py:24: RuntimeWarning: divide by zero encountered in divide\n",
      "/home/jp/anaconda2/lib/python2.7/site-packages/ipykernel/__main__.py:24: RuntimeWarning: invalid value encountered in divide\n",
      "/home/jp/anaconda2/lib/python2.7/site-packages/matplotlib/axes/_axes.py:519: UserWarning: No labelled objects found. Use label='...' kwarg on individual plots.\n",
      "  warnings.warn(\"No labelled objects found. \"\n"
     ]
    },
    {
     "data": {
      "image/png": "[encoded data removed]",
      "text/plain": [
       "<matplotlib.figure.Figure at 0x7f8fd3acddd0>"
      ]
     },
     "metadata": {},
     "output_type": "display_data"
    },
    {
     "data": {
      "image/png": "[encoded data removed]",
      "text/plain": [
       "<matplotlib.figure.Figure at 0x7f8fd3a317d0>"
      ]
     },
     "metadata": {},
     "output_type": "display_data"
    }
   ],
   "source": [
    "plotWlenQ([sno_pewlen, snogd_pewlen], [sno_q, snogd_q],\n",
    "            [1., 1], ['SNO','SNO GreyDisc'])"
   ]
  },
  {
   "cell_type": "code",
   "execution_count": null,
   "metadata": {
    "collapsed": true
   },
   "outputs": [],
   "source": []
  },
  {
   "cell_type": "code",
   "execution_count": null,
   "metadata": {
    "collapsed": true
   },
   "outputs": [],
   "source": []
  },
  {
   "cell_type": "code",
   "execution_count": 53,
   "metadata": {
    "collapsed": true
   },
   "outputs": [],
   "source": [
    "elist = []\n",
    "def ftest(ratreader):\n",
    "    for ds, run in ratreader:\n",
    "        mymc = ds.GetMC()\n",
    "        for pmt_index in range(mymc.GetMCPMTCount()):\n",
    "            mypmt = mymc.GetMCPMT(pmt_index)\n",
    "            if mypmt.GetMCPhotonCount() > 1:\n",
    "                return mypmt, mymc\n",
    "            #for photon_index in range(mypmt.GetMCPhotonCount()):\n",
    "            #    elist.append(mypmt.GetMCPhoton(photon_index).GetEnergy())"
   ]
  },
  {
   "cell_type": "code",
   "execution_count": 54,
   "metadata": {
    "collapsed": false
   },
   "outputs": [],
   "source": [
    "try:\n",
    "    ratreader.close()\n",
    "except:\n",
    "    print 'Nothing to close'\n",
    "ratreader = rat.dsreader(file_name)\n",
    "pmt, mc = ftest(ratreader)\n"
   ]
  },
  {
   "cell_type": "code",
   "execution_count": 55,
   "metadata": {
    "collapsed": false
   },
   "outputs": [
    {
     "data": {
      "text/plain": [
       "<ROOT.RAT::DS::MCPMT object (\"RAT::DS::MCPMT\") at 0x65c5b48>"
      ]
     },
     "execution_count": 55,
     "metadata": {},
     "output_type": "execute_result"
    }
   ],
   "source": [
    "pmt"
   ]
  },
  {
   "cell_type": "code",
   "execution_count": 56,
   "metadata": {
    "collapsed": false
   },
   "outputs": [
    {
     "data": {
      "text/plain": [
       "5L"
      ]
     },
     "execution_count": 56,
     "metadata": {},
     "output_type": "execute_result"
    }
   ],
   "source": [
    "pmt.GetMCPhotonCount()"
   ]
  },
  {
   "cell_type": "code",
   "execution_count": 57,
   "metadata": {
    "collapsed": false
   },
   "outputs": [],
   "source": [
    "photon = pmt.GetMCPhoton(0)"
   ]
  },
  {
   "cell_type": "code",
   "execution_count": 66,
   "metadata": {
    "collapsed": false
   },
   "outputs": [],
   "source": [
    "mcpe = pmt.GetMCPE(0)"
   ]
  },
  {
   "cell_type": "code",
   "execution_count": 59,
   "metadata": {
    "collapsed": false
   },
   "outputs": [
    {
     "data": {
      "text/plain": [
       "21.51618766784668"
      ]
     },
     "execution_count": 59,
     "metadata": {},
     "output_type": "execute_result"
    }
   ],
   "source": [
    "mcpe.GetCharge()"
   ]
  },
  {
   "cell_type": "code",
   "execution_count": 60,
   "metadata": {
    "collapsed": false
   },
   "outputs": [],
   "source": [
    "trackid = mcpe.GetPhotonTrackID()"
   ]
  },
  {
   "cell_type": "code",
   "execution_count": 61,
   "metadata": {
    "collapsed": false
   },
   "outputs": [
    {
     "data": {
      "text/plain": [
       "4083L"
      ]
     },
     "execution_count": 61,
     "metadata": {},
     "output_type": "execute_result"
    }
   ],
   "source": [
    "trackid"
   ]
  },
  {
   "cell_type": "code",
   "execution_count": 28,
   "metadata": {
    "collapsed": false
   },
   "outputs": [],
   "source": [
    "track = mc.GetMCTrack(trackid)"
   ]
  },
  {
   "cell_type": "code",
   "execution_count": 29,
   "metadata": {
    "collapsed": false
   },
   "outputs": [
    {
     "data": {
      "text/plain": [
       "10610L"
      ]
     },
     "execution_count": 29,
     "metadata": {},
     "output_type": "execute_result"
    }
   ],
   "source": [
    "track.GetTrackID()"
   ]
  },
  {
   "cell_type": "code",
   "execution_count": 62,
   "metadata": {
    "collapsed": false
   },
   "outputs": [
    {
     "data": {
      "text/plain": [
       "9861"
      ]
     },
     "execution_count": 62,
     "metadata": {},
     "output_type": "execute_result"
    }
   ],
   "source": [
    "photon.GetPhotonTrackID()"
   ]
  },
  {
   "cell_type": "code",
   "execution_count": 63,
   "metadata": {
    "collapsed": false
   },
   "outputs": [
    {
     "data": {
      "text/plain": [
       "1L"
      ]
     },
     "execution_count": 63,
     "metadata": {},
     "output_type": "execute_result"
    }
   ],
   "source": [
    "pmt.GetMCPECount()"
   ]
  },
  {
   "cell_type": "code",
   "execution_count": 64,
   "metadata": {
    "collapsed": false
   },
   "outputs": [
    {
     "data": {
      "text/plain": [
       "5L"
      ]
     },
     "execution_count": 64,
     "metadata": {},
     "output_type": "execute_result"
    }
   ],
   "source": [
    "pmt.GetMCPhotonCount()"
   ]
  },
  {
   "cell_type": "code",
   "execution_count": 67,
   "metadata": {
    "collapsed": false
   },
   "outputs": [
    {
     "data": {
      "text/plain": [
       "4083L"
      ]
     },
     "execution_count": 67,
     "metadata": {},
     "output_type": "execute_result"
    }
   ],
   "source": [
    "mcpe.GetPhotonTrackID()"
   ]
  },
  {
   "cell_type": "code",
   "execution_count": 68,
   "metadata": {
    "collapsed": false
   },
   "outputs": [
    {
     "data": {
      "text/plain": [
       "(array([3]),)"
      ]
     },
     "execution_count": 68,
     "metadata": {},
     "output_type": "execute_result"
    }
   ],
   "source": [
    "np.where(sno_trackid == 4083)"
   ]
  },
  {
   "cell_type": "code",
   "execution_count": null,
   "metadata": {
    "collapsed": true
   },
   "outputs": [],
   "source": []
  }
 ],
 "metadata": {
  "kernelspec": {
   "display_name": "Python 2",
   "language": "python",
   "name": "python2"
  },
  "language_info": {
   "codemirror_mode": {
    "name": "ipython",
    "version": 2
   },
   "file_extension": ".py",
   "mimetype": "text/x-python",
   "name": "python",
   "nbconvert_exporter": "python",
   "pygments_lexer": "ipython2",
   "version": "2.7.11"
  }
 },
 "nbformat": 4,
 "nbformat_minor": 0
}
