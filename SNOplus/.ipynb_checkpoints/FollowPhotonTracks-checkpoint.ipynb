{
 "cells": [
  {
   "cell_type": "code",
   "execution_count": 2,
   "metadata": {
    "collapsed": false
   },
   "outputs": [
    {
     "name": "stderr",
     "output_type": "stream",
     "text": [
      "TClass::TClass:0: RuntimeWarning: no dictionary for class omtext is available\n"
     ]
    }
   ],
   "source": [
    "import ROOT, rat\n",
    "import os, sys\n",
    "import matplotlib.pyplot as plt\n",
    "import numpy as np\n",
    "%matplotlib inline \n",
    "sys.path.append('/home/jp/projects/python_tools')\n",
    "import jp_mpl as jplot\n",
    "import rat"
   ]
  },
  {
   "cell_type": "code",
   "execution_count": 3,
   "metadata": {
    "collapsed": true
   },
   "outputs": [],
   "source": [
    "import rat"
   ]
  },
  {
   "cell_type": "code",
   "execution_count": 4,
   "metadata": {
    "collapsed": true
   },
   "outputs": [],
   "source": [
    "infile_dir = '/home/jp/projects/snoplus/rundir/profiling_official_greydisc_geo/testing'"
   ]
  },
  {
   "cell_type": "code",
   "execution_count": 5,
   "metadata": {
    "collapsed": true
   },
   "outputs": [],
   "source": [
    "infile_name = 'profiler_greydisc.root'"
   ]
  },
  {
   "cell_type": "code",
   "execution_count": 6,
   "metadata": {
    "collapsed": false
   },
   "outputs": [
    {
     "name": "stdout",
     "output_type": "stream",
     "text": [
      "No ratreader file. Opening it for the first time\n"
     ]
    }
   ],
   "source": [
    "try:\n",
    "    ratreader.close()\n",
    "    print 'Closing file before reopenning'\n",
    "except:\n",
    "    print 'No ratreader file. Opening it for the first time'\n",
    "ratreader = rat.dsreader(os.path.join(infile_dir, infile_name))"
   ]
  },
  {
   "cell_type": "code",
   "execution_count": 7,
   "metadata": {
    "collapsed": false
   },
   "outputs": [],
   "source": [
    "def doRead():\n",
    "    photons_steps = [] # List of tracks\n",
    "    photons_p     = []\n",
    "    photons_ids   = []\n",
    "    end_volume    = []\n",
    "    process       = []\n",
    "    energy        = []\n",
    "    for ds, run in ratreader:\n",
    "        mymc = ds.GetMC()\n",
    "        for itrack in range(mymc.GetMCTrackCount()):\n",
    "            mytrack = mymc.GetMCTrack(itrack)\n",
    "            \n",
    "            # End here to study the info in a track\n",
    "            # return mytrack\n",
    "            \n",
    "            end_volume.append([])\n",
    "            process.append([])\n",
    "            photons_steps.append(np.zeros(3))\n",
    "            photons_p.append(np.zeros(3))\n",
    "            \n",
    "            photons_ids.append(mytrack.GetTrackID())\n",
    "            \n",
    "            pdg_code = mymc.GetMCTrack(itrack).GetPDGCode()\n",
    "            #if pdg_code != 22: \n",
    "            #    # Particle is not a gamma\n",
    "            #    continue\n",
    "            \n",
    "            for istep in range(mymc.GetMCTrack(itrack).GetMCTrackStepCount()):\n",
    "                photons_steps[-1] = np.vstack((photons_steps[-1], np.zeros(3)))\n",
    "                photons_p[-1] = np.vstack((photons_p[-1], np.zeros(3)))\n",
    "\n",
    "                mystep = mymc.GetMCTrack(itrack).GetMCTrackStep(istep)\n",
    "                position = mystep.GetPosition()\n",
    "                momentum = mystep.GetMomentum()\n",
    "                position.GetXYZ(photons_steps[-1][-1,:])\n",
    "                momentum.GetXYZ(photons_p[-1][-1,:])\n",
    "                end_volume[-1].append(mystep.GetEndVolume())\n",
    "                process[-1].append(mystep.GetProcess())\n",
    "                if istep == 0:\n",
    "                    energy.append(mystep.GetKineticEnergy())\n",
    "                \n",
    "    ratreader.close()\n",
    "    \n",
    "    hcvalue = 1.239841 # eV*um (electronvolts times micrometer)\n",
    "    wlen = 1E+3*hcvalue/(np.array(energy)*1E+6)\n",
    "    \n",
    "    return photons_steps, photons_p, end_volume, \\\n",
    "           process, wlen, np.array(photons_ids)"
   ]
  },
  {
   "cell_type": "code",
   "execution_count": 177,
   "metadata": {
    "collapsed": false
   },
   "outputs": [],
   "source": [
    "pos, mom, vol, proc, wlen, ids = doRead()"
   ]
  },
  {
   "cell_type": "code",
   "execution_count": 180,
   "metadata": {
    "collapsed": false
   },
   "outputs": [],
   "source": [
    "# Finding one of the ones that were reflected fine\n",
    "search_id = 467\n",
    "index = np.where(ids==search_id)[0][0]"
   ]
  },
  {
   "cell_type": "code",
   "execution_count": 181,
   "metadata": {
    "collapsed": false,
    "scrolled": false
   },
   "outputs": [
    {
     "name": "stdout",
     "output_type": "stream",
     "text": [
      "Position\n",
      "[[    0.             0.             0.        ]\n",
      " [ 3071.4309082   3488.15429688 -1602.17712402]\n",
      " [ 2707.26708984  3412.7722168   -471.6960144 ]\n",
      " [ 4495.11767578  2183.07299805 -3329.88476562]\n",
      " [ 4495.11767578  2183.07299805 -3329.88476562]\n",
      " [ 3761.59448242  1025.02941895 -3372.68994141]\n",
      " [ 1427.46569824 -4010.02636719 -4235.80664062]\n",
      " [ 1390.47229004 -4090.21337891 -4249.74609375]\n",
      " [ -470.21917725 -7199.72753906 -4330.16894531]\n",
      " [ -471.72009277 -7200.38427734 -4328.93603516]\n",
      " [ -471.72009277 -7200.38427734 -4328.93603516]\n",
      " [-1555.74768066 -6392.95166016 -2539.84912109]]\n",
      "Momentum\n",
      "[[  0.00000000e+00   0.00000000e+00   0.00000000e+00]\n",
      " [ -8.85186125e-07  -1.83234221e-07   2.74790068e-06]\n",
      " [  1.44119679e-06  -9.91267711e-07  -2.30400269e-06]\n",
      " [ -1.54717020e-06  -2.44258081e-06  -9.02857664e-08]\n",
      " [ -1.54717020e-06  -2.44258081e-06  -9.02857664e-08]\n",
      " [ -1.20219033e-06  -2.59329977e-06  -4.44547169e-07]\n",
      " [ -1.19698211e-06  -2.59458830e-06  -4.51036385e-07]\n",
      " [ -1.48500362e-06  -2.48167930e-06  -6.41850804e-08]\n",
      " [ -1.48500362e-06  -2.48167930e-06  -6.41850804e-08]\n",
      " [ -1.39849328e-06   1.04166054e-06   2.30808314e-06]\n",
      " [ -1.39849328e-06   1.04166054e-06   2.30808314e-06]\n",
      " [  1.00522618e-06  -2.03144123e-06  -1.84491830e-06]]\n",
      "Momentum abs\n",
      "[  3.21642873e-06   3.23664066e-07   3.23663919e-07   3.23663937e-07\n",
      "   3.23663937e-07   3.23664054e-07   3.23663891e-07   3.23664025e-07\n",
      "   3.23664025e-07   3.23663977e-07   3.23663977e-07   2.93937213e-07]\n",
      "Processes\n",
      "['Reemission_from_comp1', 'OpRayleigh', 'Transportation', 'Transportation', 'OpRayleigh', 'Transportation', 'Transportation', 'Transportation', 'Unknown', 'G4FastSimulationManagerProcess', 'OpRayleigh']\n",
      "Volumes\n"
     ]
    },
    {
     "data": {
      "text/plain": [
       "['inner_av',\n",
       " 'inner_av',\n",
       " 'av',\n",
       " 'inner_av',\n",
       " 'inner_av',\n",
       " 'av',\n",
       " 'cavity',\n",
       " 'innerPMT_pmtenv6701',\n",
       " 'GDOut',\n",
       " 'innerPMT_pmtenv6701',\n",
       " 'cavity']"
      ]
     },
     "execution_count": 181,
     "metadata": {},
     "output_type": "execute_result"
    }
   ],
   "source": [
    "print 'Position'\n",
    "print pos[index]\n",
    "print 'Momentum'\n",
    "print mom[index]\n",
    "print 'Momentum abs'\n",
    "abs_momentum = np.sqrt(np.sum(mom[index]**2,axis=1))\n",
    "print ref_momentum - abs_momentum\n",
    "print 'Processes'\n",
    "print proc[index]\n",
    "print 'Volumes'\n",
    "vol[index]"
   ]
  },
  {
   "cell_type": "code",
   "execution_count": 135,
   "metadata": {
    "collapsed": false
   },
   "outputs": [],
   "source": [
    "ref_momentum = abs_momentum[2]"
   ]
  },
  {
   "cell_type": "code",
   "execution_count": null,
   "metadata": {
    "collapsed": true
   },
   "outputs": [],
   "source": []
  },
  {
   "cell_type": "code",
   "execution_count": null,
   "metadata": {
    "collapsed": true
   },
   "outputs": [],
   "source": []
  },
  {
   "cell_type": "code",
   "execution_count": null,
   "metadata": {
    "collapsed": true
   },
   "outputs": [],
   "source": []
  },
  {
   "cell_type": "code",
   "execution_count": null,
   "metadata": {
    "collapsed": true
   },
   "outputs": [],
   "source": []
  },
  {
   "cell_type": "code",
   "execution_count": null,
   "metadata": {
    "collapsed": true
   },
   "outputs": [],
   "source": []
  },
  {
   "cell_type": "code",
   "execution_count": 8,
   "metadata": {
    "collapsed": false
   },
   "outputs": [],
   "source": [
    "track = doRead()"
   ]
  },
  {
   "cell_type": "code",
   "execution_count": 9,
   "metadata": {
    "collapsed": true
   },
   "outputs": [],
   "source": [
    "step = track.GetMCTrackStep(0)"
   ]
  },
  {
   "cell_type": "code",
   "execution_count": null,
   "metadata": {
    "collapsed": true
   },
   "outputs": [],
   "source": [
    "step.GetKineticEnergy()"
   ]
  }
 ],
 "metadata": {
  "kernelspec": {
   "display_name": "Python 2",
   "language": "python",
   "name": "python2"
  },
  "language_info": {
   "codemirror_mode": {
    "name": "ipython",
    "version": 2
   },
   "file_extension": ".py",
   "mimetype": "text/x-python",
   "name": "python",
   "nbconvert_exporter": "python",
   "pygments_lexer": "ipython2",
   "version": "2.7.11"
  }
 },
 "nbformat": 4,
 "nbformat_minor": 0
}
