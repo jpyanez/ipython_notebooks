{
 "cells": [
  {
   "cell_type": "code",
   "execution_count": 1,
   "metadata": {
    "collapsed": false
   },
   "outputs": [
    {
     "name": "stderr",
     "output_type": "stream",
     "text": [
      "TClass::TClass:0: RuntimeWarning: no dictionary for class omtext is available\n"
     ]
    }
   ],
   "source": [
    "import ROOT, rat\n",
    "import os, sys\n",
    "import matplotlib.pyplot as plt\n",
    "import numpy as np\n",
    "%matplotlib inline \n",
    "sys.path.append('/home/jp/projects/python_tools')\n",
    "import jp_mpl as jplot\n"
   ]
  },
  {
   "cell_type": "code",
   "execution_count": 2,
   "metadata": {
    "collapsed": true
   },
   "outputs": [],
   "source": [
    "import rat"
   ]
  },
  {
   "cell_type": "code",
   "execution_count": 4,
   "metadata": {
    "collapsed": false
   },
   "outputs": [],
   "source": [
    "elist = []\n",
    "ratreader = rat.dsreader('/home/jp/projects/snoplus/rundir/stored_photon_info/5MeV_electrons_storeall.root')\n",
    "for ds, run in ratreader:\n",
    "    mymc = ds.GetMC()\n",
    "    for pmt_index in range(mymc.GetMCPMTCount()):\n",
    "        mypmt = mymc.GetMCPMT(pmt_index)   \n",
    "        for photon_index in range(mypmt.GetMCPhotonCount()):\n",
    "            elist.append(mypmt.GetMCPhoton(photon_index).GetEnergy())\n",
    "ratreader.close()"
   ]
  },
  {
   "cell_type": "code",
   "execution_count": 34,
   "metadata": {
    "collapsed": false
   },
   "outputs": [],
   "source": [
    "elist = np.array(elist) #This is all in MeV"
   ]
  },
  {
   "cell_type": "code",
   "execution_count": 35,
   "metadata": {
    "collapsed": true
   },
   "outputs": [],
   "source": [
    "hcvalue = 1.239841 # eV*um (electronvolts times micrometer)"
   ]
  },
  {
   "cell_type": "code",
   "execution_count": 40,
   "metadata": {
    "collapsed": false
   },
   "outputs": [
    {
     "name": "stderr",
     "output_type": "stream",
     "text": [
      "/home/jp/anaconda2/lib/python2.7/site-packages/ipykernel/__main__.py:2: RuntimeWarning: divide by zero encountered in divide\n",
      "  from ipykernel import kernelapp as app\n"
     ]
    }
   ],
   "source": [
    "# Energy to wavelength\n",
    "wavelengths = 1E+3*hcvalue/(elist*1E+6)"
   ]
  },
  {
   "cell_type": "code",
   "execution_count": 46,
   "metadata": {
    "collapsed": false
   },
   "outputs": [
    {
     "data": {
      "text/plain": [
       "<matplotlib.text.Text at 0x7f650fd773d0>"
      ]
     },
     "execution_count": 46,
     "metadata": {},
     "output_type": "execute_result"
    },
    {
     "data": {
      "image/png": "[encoded data removed]",
      "text/plain": [
       "<matplotlib.figure.Figure at 0x7f654a122a10>"
      ]
     },
     "metadata": {},
     "output_type": "display_data"
    }
   ],
   "source": [
    "# Making a histogram\n",
    "xaxis = np.linspace(300, 550, 101)\n",
    "n, x = np.histogram(wavelengths, xaxis)\n",
    "jplot.unfilledBar(xaxis, n)\n",
    "plt.xlabel('wavelength (nm)')\n",
    "plt.ylabel('Photons')\n"
   ]
  },
  {
   "cell_type": "code",
   "execution_count": null,
   "metadata": {
    "collapsed": true
   },
   "outputs": [],
   "source": []
  }
 ],
 "metadata": {
  "kernelspec": {
   "display_name": "Python 2",
   "language": "python",
   "name": "python2"
  },
  "language_info": {
   "codemirror_mode": {
    "name": "ipython",
    "version": 2
   },
   "file_extension": ".py",
   "mimetype": "text/x-python",
   "name": "python",
   "nbconvert_exporter": "python",
   "pygments_lexer": "ipython2",
   "version": "2.7.11"
  }
 },
 "nbformat": 4,
 "nbformat_minor": 0
}
