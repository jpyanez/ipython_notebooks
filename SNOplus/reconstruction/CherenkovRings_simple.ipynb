{
 "cells": [
  {
   "cell_type": "code",
   "execution_count": 1,
   "metadata": {
    "collapsed": true
   },
   "outputs": [],
   "source": [
    "import numpy as np\n",
    "import pickle\n",
    "import matplotlib\n",
    "%matplotlib inline\n",
    "import matplotlib.pyplot as plt"
   ]
  },
  {
   "cell_type": "code",
   "execution_count": 2,
   "metadata": {
    "collapsed": false
   },
   "outputs": [],
   "source": [
    "pmt_info = pickle.load(open('/home/jpyanez/snoplus/snoplus_python/pmt_positions.pckl'))\n",
    "pmt_radii = np.linalg.norm(pmt_info['xyz'], axis=1)\n",
    "costheta = pmt_info['xyz'][:,2]/pmt_radii\n",
    "phi      = np.arctan2(pmt_info['xyz'][:,1], \n",
    "                      pmt_info['xyz'][:,0])"
   ]
  },
  {
   "cell_type": "code",
   "execution_count": 113,
   "metadata": {
    "collapsed": false
   },
   "outputs": [
    {
     "data": {
      "text/plain": [
       "numpy.ndarray"
      ]
     },
     "execution_count": 113,
     "metadata": {},
     "output_type": "execute_result"
    }
   ],
   "source": [
    "type(pmt_info['xyz'])"
   ]
  },
  {
   "cell_type": "code",
   "execution_count": 5,
   "metadata": {
    "collapsed": false
   },
   "outputs": [
    {
     "name": "stdout",
     "output_type": "stream",
     "text": [
      "Cherenkov angle 44.4153085972\n"
     ]
    }
   ],
   "source": [
    "effective_n = 1.4\n",
    "ch_angle = np.arccos(1/effective_n)\n",
    "print 'Cherenkov angle', np.rad2deg(ch_angle)"
   ]
  },
  {
   "cell_type": "code",
   "execution_count": 107,
   "metadata": {
    "collapsed": false
   },
   "outputs": [
    {
     "name": "stdout",
     "output_type": "stream",
     "text": [
      "Direction [ 0.81649658 -0.40824829 -0.40824829]\n"
     ]
    }
   ],
   "source": [
    "direction = np.array([20., -10., -10])\n",
    "normdir   = direction/np.linalg.norm(direction)\n",
    "position  = np.array([0., 5000., 0.])\n",
    "print 'Direction', normdir"
   ]
  },
  {
   "cell_type": "code",
   "execution_count": 108,
   "metadata": {
    "collapsed": false
   },
   "outputs": [],
   "source": [
    "pmt_vectors = pmt_info['xyz']-position\n",
    "pmt_vectors = (pmt_vectors/\n",
    "               np.reshape(np.linalg.norm(pmt_vectors, axis=1), [pmt_vectors.shape[0],1]))"
   ]
  },
  {
   "cell_type": "code",
   "execution_count": 109,
   "metadata": {
    "collapsed": false
   },
   "outputs": [],
   "source": [
    "# Select only those that are in the direction of the vector\n",
    "angles_to_track = np.arccos(np.dot(pmt_vectors,normdir))"
   ]
  },
  {
   "cell_type": "code",
   "execution_count": 110,
   "metadata": {
    "collapsed": false
   },
   "outputs": [
    {
     "name": "stdout",
     "output_type": "stream",
     "text": [
      "Selected PMTs: 169\n"
     ]
    }
   ],
   "source": [
    "pmts_cone = (np.abs(angles_to_track-ch_angle) < 0.02)\n",
    "print 'Selected PMTs:', np.sum(pmts_cone)"
   ]
  },
  {
   "cell_type": "code",
   "execution_count": 111,
   "metadata": {
    "collapsed": false
   },
   "outputs": [
    {
     "data": {
      "image/png": "[encoded data removed]",
      "text/plain": [
       "<matplotlib.figure.Figure at 0x7fe88ccec990>"
      ]
     },
     "metadata": {},
     "output_type": "display_data"
    }
   ],
   "source": [
    "fig = plt.figure(figsize=(12,7))\n",
    "ax = fig.add_subplot(111)\n",
    "plt.scatter(phi[pmts_cone]/np.pi, costheta[pmts_cone],\n",
    "            marker='o',lw = 0)\n",
    "plt.xlim([-1,1])\n",
    "plt.ylim([-1,1])\n",
    "plt.xlabel('Phi / pi')\n",
    "plt.ylabel('cos(theta)')\n",
    "plt.show()"
   ]
  },
  {
   "cell_type": "code",
   "execution_count": null,
   "metadata": {
    "collapsed": true
   },
   "outputs": [],
   "source": []
  },
  {
   "cell_type": "code",
   "execution_count": null,
   "metadata": {
    "collapsed": true
   },
   "outputs": [],
   "source": []
  }
 ],
 "metadata": {
  "kernelspec": {
   "display_name": "Python 2",
   "language": "python",
   "name": "python2"
  },
  "language_info": {
   "codemirror_mode": {
    "name": "ipython",
    "version": 2
   },
   "file_extension": ".py",
   "mimetype": "text/x-python",
   "name": "python",
   "nbconvert_exporter": "python",
   "pygments_lexer": "ipython2",
   "version": "2.7.13"
  }
 },
 "nbformat": 4,
 "nbformat_minor": 1
}
