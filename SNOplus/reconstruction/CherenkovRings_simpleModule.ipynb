{
 "cells": [
  {
   "cell_type": "code",
   "execution_count": 1,
   "metadata": {
    "collapsed": false
   },
   "outputs": [
    {
     "data": {
      "text/plain": [
       "<module 'cherenkov_rings' from '/home/jpyanez/snoplus/snoplus_python/cherenkov_rings.pyc'>"
      ]
     },
     "execution_count": 1,
     "metadata": {},
     "output_type": "execute_result"
    }
   ],
   "source": [
    "import numpy as np\n",
    "import pickle\n",
    "import matplotlib\n",
    "%matplotlib inline\n",
    "import matplotlib.pyplot as plt\n",
    "\n",
    "import cherenkov_rings\n",
    "reload(cherenkov_rings)"
   ]
  },
  {
   "cell_type": "code",
   "execution_count": 2,
   "metadata": {
    "collapsed": false
   },
   "outputs": [
    {
     "name": "stderr",
     "output_type": "stream",
     "text": [
      "TClass::TClass:0: RuntimeWarning: no dictionary for class omtext is available\n"
     ]
    }
   ],
   "source": [
    "import ROOT, rat"
   ]
  },
  {
   "cell_type": "code",
   "execution_count": 23,
   "metadata": {
    "collapsed": true
   },
   "outputs": [],
   "source": [
    "light_speed = 0.299792458*1000 # mm/ns"
   ]
  },
  {
   "cell_type": "code",
   "execution_count": 3,
   "metadata": {
    "collapsed": false
   },
   "outputs": [],
   "source": [
    "pmt_info = pickle.load(open('/home/jpyanez/snoplus/snoplus_python/pmt_positions.pckl'))\n",
    "pmt_radii = np.linalg.norm(pmt_info['xyz'], axis=1)\n",
    "costheta = pmt_info['xyz'][:,2]/pmt_radii\n",
    "phi      = np.arctan2(pmt_info['xyz'][:,1], \n",
    "                      pmt_info['xyz'][:,0])\n"
   ]
  },
  {
   "cell_type": "code",
   "execution_count": 24,
   "metadata": {
    "collapsed": true
   },
   "outputs": [],
   "source": [
    "effective_n = 1.4"
   ]
  },
  {
   "cell_type": "code",
   "execution_count": 25,
   "metadata": {
    "collapsed": false
   },
   "outputs": [
    {
     "name": "stdout",
     "output_type": "stream",
     "text": [
      "Using cherenkov angle 44.4153085972\n"
     ]
    }
   ],
   "source": [
    "pmts_ring = cherenkov_rings.PMTsInRing(effective_n = effective_n)"
   ]
  },
  {
   "cell_type": "code",
   "execution_count": 142,
   "metadata": {
    "collapsed": true
   },
   "outputs": [],
   "source": [
    "infile_name = '/home/jpyanez/snoplus/rundir/electrons_test/myelectrons.root'"
   ]
  },
  {
   "cell_type": "code",
   "execution_count": 143,
   "metadata": {
    "collapsed": true
   },
   "outputs": [],
   "source": [
    "reader = rat.dsreader(infile_name)"
   ]
  },
  {
   "cell_type": "code",
   "execution_count": 144,
   "metadata": {
    "collapsed": true
   },
   "outputs": [],
   "source": [
    "fudge = 100. #ns"
   ]
  },
  {
   "cell_type": "code",
   "execution_count": 153,
   "metadata": {
    "collapsed": false,
    "scrolled": false
   },
   "outputs": [
    {
     "name": "stdout",
     "output_type": "stream",
     "text": [
      "Selected PMTs: 41\n",
      "122.078211622\n"
     ]
    },
    {
     "data": {
      "image/png": "[encoded data removed]",
      "text/plain": [
       "<matplotlib.figure.Figure at 0x7fb8e0579bd0>"
      ]
     },
     "metadata": {},
     "output_type": "display_data"
    }
   ],
   "source": [
    "for ds, run in reader:\n",
    "    event_bool = np.zeros_like(pmt_info['type'],dtype=bool)\n",
    "    event_times = np.zeros_like(pmt_info['type'])\n",
    "    \n",
    "    # Assuming ONE event per trigger\n",
    "    event = ds.GetEV(0)\n",
    "    pmts  = event.GetCalPMTs()\n",
    "    for iPMT in range(pmts.GetNormalCount()):\n",
    "        one_pmt = pmts.GetPMT(iPMT)\n",
    "        event_bool[int(one_pmt.GetID())]= True\n",
    "        event_times[int(one_pmt.GetID())] = one_pmt.GetTime()\n",
    "    \n",
    "    # MC only info (or reconstruction)\n",
    "    mc = ds.GetMC()\n",
    "    mcev = ds.GetMCEV(0)\n",
    "    particle = mc.GetMCParticle(0)\n",
    "    e_dir = np.array(particle.GetMomentum())\n",
    "    e_pos = np.array(particle.GetPosition())\n",
    "    \n",
    "    pmts_cone = pmts_ring(position = e_pos,\n",
    "                      direction = e_dir)\n",
    "    # Need to know the distance to calculate ToA and give them color\n",
    "    pmt_vertex_distance = np.linalg.norm(pmt_info['xyz'][pmts_cone,:] - e_pos,axis=1)\n",
    "    \n",
    "    \n",
    "    fudge = event_times[event_bool]-(particle.GetTime()+mcev.GetGTTime()+\n",
    "                                     np.linalg.norm(pmt_info['xyz'][event_bool,:] - e_pos,axis=1)/(light_speed/effective_n)) \n",
    "    \n",
    "    print np.median(fudge)\n",
    "    \n",
    "    pmt_toa = np.median(fudge) + particle.GetTime() + mcev.GetGTTime() + pmt_vertex_distance/(light_speed/effective_n)\n",
    "    \n",
    "    \n",
    "    \n",
    "    #pmt_toa = particle.GetTime() + mcev.GetGTTime() + fudge + pmt_vertex_distance/(light_speed/effective_n)\n",
    "\n",
    "    \n",
    "\n",
    "    fig = plt.figure(figsize=(12,7))\n",
    "    ax = fig.add_subplot(111)\n",
    "    plt.scatter(phi[pmts_cone]/np.pi, costheta[pmts_cone], \n",
    "                c = pmt_toa, cmap = 'jet',\n",
    "                vmin=pmt_toa.min()-10, vmax=pmt_toa.max()+10,\n",
    "                marker='o',lw = 0)\n",
    "\n",
    "    plt.scatter(phi[event_bool]/np.pi, costheta[event_bool],\n",
    "                c = event_times[event_bool], cmap = 'jet',\n",
    "                vmin=pmt_toa.min()-10, vmax=pmt_toa.max()+10, s=100,\n",
    "                marker='+',lw = 2)\n",
    "    plt.colorbar()\n",
    "    \n",
    "    plt.xlim([-1,1])\n",
    "    plt.ylim([-1,1])\n",
    "    plt.xlabel('Phi / pi')\n",
    "    plt.ylabel('cos(theta)')\n",
    "    plt.show()\n",
    "    break #raw_input()\n",
    "        \n",
    "#reader.close()"
   ]
  },
  {
   "cell_type": "code",
   "execution_count": null,
   "metadata": {
    "collapsed": true
   },
   "outputs": [],
   "source": []
  }
 ],
 "metadata": {
  "kernelspec": {
   "display_name": "Python 2",
   "language": "python",
   "name": "python2"
  },
  "language_info": {
   "codemirror_mode": {
    "name": "ipython",
    "version": 2
   },
   "file_extension": ".py",
   "mimetype": "text/x-python",
   "name": "python",
   "nbconvert_exporter": "python",
   "pygments_lexer": "ipython2",
   "version": "2.7.13"
  }
 },
 "nbformat": 4,
 "nbformat_minor": 1
}
