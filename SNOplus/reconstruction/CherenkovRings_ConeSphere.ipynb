{
 "cells": [
  {
   "cell_type": "code",
   "execution_count": 29,
   "metadata": {
    "collapsed": true
   },
   "outputs": [],
   "source": [
    "import numpy as np\n",
    "import pickle\n",
    "import matplotlib\n",
    "%matplotlib inline\n",
    "import matplotlib.pyplot as plt"
   ]
  },
  {
   "cell_type": "code",
   "execution_count": 43,
   "metadata": {
    "collapsed": false
   },
   "outputs": [],
   "source": [
    "pmt_info = pickle.load(open('/home/jpyanez/snoplus/snoplus_python/pmt_positions.pckl'))\n",
    "pmt_radii = np.linalg.norm(pmt_info['xyz'], axis=1)\n",
    "costheta = pmt_info['xyz'][:,2]/pmt_radii\n",
    "phi      = np.arctan2(pmt_info['xyz'][:,1], \n",
    "                      pmt_info['xyz'][:,0])"
   ]
  },
  {
   "cell_type": "code",
   "execution_count": 52,
   "metadata": {
    "collapsed": false
   },
   "outputs": [
    {
     "name": "stdout",
     "output_type": "stream",
     "text": [
      "0.408248290464\n",
      "44.4153085972 0.408248290464\n"
     ]
    }
   ],
   "source": [
    "effective_n = 1.4\n",
    "ch_angle = np.arccos(1/effective_n)\n",
    "\n",
    "# This c is the opening parameter of the Cherenkov cone\n",
    "c  = np.tan(ch_angle/2.)\n",
    "print np.rad2deg(ch_angle), c"
   ]
  },
  {
   "cell_type": "code",
   "execution_count": 79,
   "metadata": {
    "collapsed": true
   },
   "outputs": [],
   "source": [
    "# Lets get the coordinates of the event"
   ]
  },
  {
   "cell_type": "code",
   "execution_count": 398,
   "metadata": {
    "collapsed": false
   },
   "outputs": [
    {
     "name": "stdout",
     "output_type": "stream",
     "text": [
      "Direction [ 0.          0.70710678  0.70710678]\n"
     ]
    }
   ],
   "source": [
    "direction = np.array([0., 4., 4])\n",
    "normdir   = direction/np.linalg.norm(direction)\n",
    "position  = np.array([0., 5000., 0.])\n",
    "print 'Direction', normdir"
   ]
  },
  {
   "cell_type": "code",
   "execution_count": 399,
   "metadata": {
    "collapsed": true
   },
   "outputs": [],
   "source": [
    "# What's the required rotation in theta\n",
    "# of the whole system so that this would\n",
    "# point upwards"
   ]
  },
  {
   "cell_type": "code",
   "execution_count": 400,
   "metadata": {
    "collapsed": false
   },
   "outputs": [
    {
     "name": "stdout",
     "output_type": "stream",
     "text": [
      "135.0 45.0\n",
      "Rotation matrix\n",
      "[[-0.5         0.5         0.70710678]\n",
      " [-0.70710678 -0.70710678  0.        ]\n",
      " [ 0.5        -0.5         0.70710678]]\n"
     ]
    }
   ],
   "source": [
    "# Defining the rotation angles\n",
    "N = np.cross(np.array([0,0,1]), normdir)\n",
    "alpha = np.arccos(np.dot(np.array([1,0,0]),N))\n",
    "beta  = np.arccos(np.dot(np.array([0,0,1]), normdir))\n",
    "gamma = 0.\n",
    "print np.rad2deg(alpha), np.rad2deg(beta)\n",
    "\n",
    "B = np.array([[1, 0,0],\n",
    "              [0, np.cos(gamma), np.sin(gamma)],\n",
    "              [0, -np.sin(gamma), np.cos(gamma)]])\n",
    "\n",
    "C = np.array([[np.cos(beta), 0, np.sin(beta)],\n",
    "              [0,1,0],\n",
    "              [-np.sin(beta), 0, np.cos(beta)]])\n",
    "\n",
    "D = np.array([[np.cos(alpha), np.sin(alpha), 0],\n",
    "              [-np.sin(alpha), np.cos(alpha), 0],\n",
    "              [0,0,1.]])\n",
    "R = np.dot(B,np.dot(C,D))\n",
    "print 'Rotation matrix\\n', R"
   ]
  },
  {
   "cell_type": "code",
   "execution_count": 401,
   "metadata": {
    "collapsed": false
   },
   "outputs": [
    {
     "name": "stdout",
     "output_type": "stream",
     "text": [
      "Rotated position\n",
      "[ 2500.         -3535.53390593 -2500.        ]\n"
     ]
    }
   ],
   "source": [
    "# Now I need to rotate the vertex\n",
    "rotpos = np.dot(R, position)\n",
    "print 'Rotated position\\n', rotpos"
   ]
  },
  {
   "cell_type": "code",
   "execution_count": 402,
   "metadata": {
    "collapsed": false
   },
   "outputs": [],
   "source": [
    "# And all PMTs\n",
    "rotpmts = np.zeros_like(pmt_info['xyz'])\n",
    "for i in range(rotpmts.shape[0]):\n",
    "    rotpmts[i,:] = np.dot(R,pmt_info['xyz'][i,:])"
   ]
  },
  {
   "cell_type": "code",
   "execution_count": 403,
   "metadata": {
    "collapsed": true
   },
   "outputs": [],
   "source": [
    "class ConeZ2(object):\n",
    "    def __init__(self,\n",
    "                 event_vertex = None):\n",
    "        self.x0 = event_vertex[0]\n",
    "        self.y0 = event_vertex[1]\n",
    "        self.z0 = event_vertex[2]\n",
    "        \n",
    "    def __call__(self, x,y):\n",
    "        z2 = ((x-self.x0)**2 + (y-self.y0)**2)/c**2\n",
    "        return np.sqrt(z2)+self.z0, -np.sqrt(z2)+self.z0\n",
    "    \n",
    "\n"
   ]
  },
  {
   "cell_type": "code",
   "execution_count": 404,
   "metadata": {
    "collapsed": true
   },
   "outputs": [],
   "source": [
    "cone_sphere = ConeZ2(event_vertex = rotpos)"
   ]
  },
  {
   "cell_type": "code",
   "execution_count": 405,
   "metadata": {
    "collapsed": true
   },
   "outputs": [],
   "source": [
    "z1, z2 = cone_sphere(rotpmts[:,0], rotpmts[:,1])"
   ]
  },
  {
   "cell_type": "code",
   "execution_count": 406,
   "metadata": {
    "collapsed": false
   },
   "outputs": [
    {
     "name": "stdout",
     "output_type": "stream",
     "text": [
      "PMTS in range 98\n"
     ]
    }
   ],
   "source": [
    "diff_pos = np.abs(rotpmts[:,2] - z1)\n",
    "diff_neg = np.abs(rotpmts[:,2] - z2)\n",
    "tolerance = 300.\n",
    "pos_pmts = (diff_pos<tolerance)\n",
    "neg_pmts = (diff_neg<tolerance)\n",
    "pmts_cone = pos_pmts*neg_pmts\n",
    "\n",
    "\n",
    "\n",
    "print \"PMTS in range\", np.sum(pmts_cone)"
   ]
  },
  {
   "cell_type": "code",
   "execution_count": 407,
   "metadata": {
    "collapsed": false
   },
   "outputs": [
    {
     "data": {
      "image/png": "[encoded data removed]",
      "text/plain": [
       "<matplotlib.figure.Figure at 0x7fb23d8950d0>"
      ]
     },
     "metadata": {},
     "output_type": "display_data"
    }
   ],
   "source": [
    "fig = plt.figure(figsize=(12,7))\n",
    "ax = fig.add_subplot(111)\n",
    "plt.scatter(phi[pmts_cone]/np.pi, costheta[pmts_cone],\n",
    "            marker='o',lw = 0)\n",
    "plt.xlim([-1,1])\n",
    "plt.ylim([-1,1])\n",
    "plt.xlabel('Phi / pi')\n",
    "plt.ylabel('cos(theta)')\n",
    "plt.show()"
   ]
  },
  {
   "cell_type": "code",
   "execution_count": null,
   "metadata": {
    "collapsed": true
   },
   "outputs": [],
   "source": []
  },
  {
   "cell_type": "code",
   "execution_count": null,
   "metadata": {
    "collapsed": true
   },
   "outputs": [],
   "source": [
    "\n",
    "class ConeZ2(x,y):\n",
    "    # This returns (z-z0)**2\n",
    "    z2 = ((x-x0)**2 + (y-y0)**2)/c**2\n",
    "    return np.sqrt(z2)+z0, -np.sqrt(z2)+z0"
   ]
  },
  {
   "cell_type": "code",
   "execution_count": null,
   "metadata": {
    "collapsed": true
   },
   "outputs": [],
   "source": []
  },
  {
   "cell_type": "code",
   "execution_count": null,
   "metadata": {
    "collapsed": true
   },
   "outputs": [],
   "source": [
    "z1, z2 = ConeZ2(pmt_info['xyz'][:,0], pmt_info['xyz'][:,1])\n",
    "diff_pos = np.abs(pmt_info['xyz'][:,2] - z1)\n",
    "diff_neg = np.abs(pmt_info['xyz'][:,2] - z2)\n",
    "\n",
    "tolerance = 300.\n",
    "pmts_cone = (diff_pos<tolerance)+(diff_neg<tolerance)"
   ]
  },
  {
   "cell_type": "code",
   "execution_count": null,
   "metadata": {
    "collapsed": true
   },
   "outputs": [],
   "source": [
    "# Need to rotate the p0 position as well as all the PMT positions to do the calculation.\n",
    "# select pmts_cone and then plot those"
   ]
  },
  {
   "cell_type": "code",
   "execution_count": 68,
   "metadata": {
    "collapsed": false
   },
   "outputs": [],
   "source": [
    "x0 = position[0]\n",
    "y0 = position[1]\n",
    "z0 = position[2]"
   ]
  },
  {
   "cell_type": "code",
   "execution_count": 69,
   "metadata": {
    "collapsed": true
   },
   "outputs": [],
   "source": []
  },
  {
   "cell_type": "code",
   "execution_count": 259,
   "metadata": {
    "collapsed": false
   },
   "outputs": [
    {
     "name": "stdout",
     "output_type": "stream",
     "text": [
      "82.35859494\n",
      "Rotation matrix\n",
      "[[ 0.13297266  0.          0.99111971]\n",
      " [ 0.          1.          0.        ]\n",
      " [-0.99111971  0.          0.13297266]]\n"
     ]
    }
   ],
   "source": [
    "# Rotation matrix\n",
    "beta = np.arccos(normdir[2])\n",
    "print np.rad2deg(beta)\n",
    "R = np.array([[np.cos(beta), 0, np.sin(beta)],\n",
    "              [0,1,0],\n",
    "              [-np.sin(beta), 0, np.cos(beta)]])\n",
    "print 'Rotation matrix\\n', R"
   ]
  },
  {
   "cell_type": "code",
   "execution_count": 76,
   "metadata": {
    "collapsed": false
   },
   "outputs": [],
   "source": [
    "z1, z2 = ConeZ2(pmt_info['xyz'][:,0], pmt_info['xyz'][:,1])\n",
    "diff_pos = np.abs(pmt_info['xyz'][:,2] - z1)\n",
    "diff_neg = np.abs(pmt_info['xyz'][:,2] - z2)\n",
    "\n",
    "tolerance = 300.\n",
    "pmts_cone = (diff_pos<tolerance)+(diff_neg<tolerance)"
   ]
  },
  {
   "cell_type": "code",
   "execution_count": 77,
   "metadata": {
    "collapsed": false
   },
   "outputs": [
    {
     "data": {
      "text/plain": [
       "98"
      ]
     },
     "execution_count": 77,
     "metadata": {},
     "output_type": "execute_result"
    }
   ],
   "source": [
    "np.sum(pmts_cone)"
   ]
  },
  {
   "cell_type": "code",
   "execution_count": null,
   "metadata": {
    "collapsed": true
   },
   "outputs": [],
   "source": []
  },
  {
   "cell_type": "code",
   "execution_count": null,
   "metadata": {
    "collapsed": true
   },
   "outputs": [],
   "source": []
  }
 ],
 "metadata": {
  "kernelspec": {
   "display_name": "Python 2",
   "language": "python",
   "name": "python2"
  },
  "language_info": {
   "codemirror_mode": {
    "name": "ipython",
    "version": 2
   },
   "file_extension": ".py",
   "mimetype": "text/x-python",
   "name": "python",
   "nbconvert_exporter": "python",
   "pygments_lexer": "ipython2",
   "version": "2.7.13"
  }
 },
 "nbformat": 4,
 "nbformat_minor": 1
}
