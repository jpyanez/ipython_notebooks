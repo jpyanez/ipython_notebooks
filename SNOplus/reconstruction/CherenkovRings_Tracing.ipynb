{
 "cells": [
  {
   "cell_type": "code",
   "execution_count": 29,
   "metadata": {
    "collapsed": true
   },
   "outputs": [],
   "source": [
    "import numpy as np\n",
    "import pickle\n",
    "import matplotlib\n",
    "%matplotlib inline\n",
    "import matplotlib.pyplot as plt"
   ]
  },
  {
   "cell_type": "code",
   "execution_count": 43,
   "metadata": {
    "collapsed": false
   },
   "outputs": [],
   "source": [
    "pmt_info = pickle.load(open('/home/jpyanez/snoplus/snoplus_python/pmt_positions.pckl'))\n",
    "pmt_radii = np.linalg.norm(pmt_info['xyz'], axis=1)\n",
    "costheta = pmt_info['xyz'][:,2]/pmt_radii\n",
    "phi      = np.arctan2(pmt_info['xyz'][:,1], \n",
    "                      pmt_info['xyz'][:,0])"
   ]
  },
  {
   "cell_type": "code",
   "execution_count": 52,
   "metadata": {
    "collapsed": false
   },
   "outputs": [
    {
     "name": "stdout",
     "output_type": "stream",
     "text": [
      "0.408248290464\n",
      "44.4153085972 0.408248290464\n"
     ]
    }
   ],
   "source": [
    "effective_n = 1.4\n",
    "ch_angle = np.arccos(1/effective_n)\n",
    "c  = np.tan(ch_angle/2.)\n",
    "print np.rad2deg(ch_angle), c"
   ]
  },
  {
   "cell_type": "code",
   "execution_count": 67,
   "metadata": {
    "collapsed": true
   },
   "outputs": [],
   "source": [
    "direction = np.array([0.3, 0.4, 0.2])\n",
    "normdir = direction/np.linalg.norm(direction)\n",
    "position  = np.array([0., 5000., 4000.])"
   ]
  },
  {
   "cell_type": "code",
   "execution_count": null,
   "metadata": {
    "collapsed": true
   },
   "outputs": [],
   "source": [
    "# Have to figure out how to do this properly"
   ]
  },
  {
   "cell_type": "code",
   "execution_count": null,
   "metadata": {
    "collapsed": true
   },
   "outputs": [],
   "source": [
    "# Defining the rotation angles\n",
    "N = np.cross(np.array(0,0,1), np.array(0,0,direction[2]))\n",
    "alpha = np.arccos(direction[2])\n",
    "beta = np.arccos(np.dot(np.array(1,0,0),N))\n",
    "gamma = np.arccos(np.dog(N, np.array()))"
   ]
  },
  {
   "cell_type": "code",
   "execution_count": null,
   "metadata": {
    "collapsed": true
   },
   "outputs": [],
   "source": [
    "# Need to rotate so that it points towards POSITIVE Z\n",
    "# Making use that R = 1\n",
    "zenith = np.arctan(direction[1]/direction[0])\n",
    "azimuth = "
   ]
  },
  {
   "cell_type": "code",
   "execution_count": null,
   "metadata": {
    "collapsed": true
   },
   "outputs": [],
   "source": [
    "# Need to rotate the p0 position as well as all the PMT positions to do the calculation.\n",
    "# select pmts_cone and then plot those"
   ]
  },
  {
   "cell_type": "code",
   "execution_count": 68,
   "metadata": {
    "collapsed": false
   },
   "outputs": [],
   "source": [
    "x0 = position[0]\n",
    "y0 = position[1]\n",
    "z0 = position[2]"
   ]
  },
  {
   "cell_type": "code",
   "execution_count": 69,
   "metadata": {
    "collapsed": true
   },
   "outputs": [],
   "source": [
    "def ConeZ2(x,y):\n",
    "    # This returns (z-z0)**2\n",
    "    z2 = ((x-x0)**2 + (y-y0)**2)/c**2\n",
    "    return np.sqrt(z2)+z0, -np.sqrt(z2)+z0"
   ]
  },
  {
   "cell_type": "code",
   "execution_count": 76,
   "metadata": {
    "collapsed": false
   },
   "outputs": [],
   "source": [
    "z1, z2 = ConeZ2(pmt_info['xyz'][:,0], pmt_info['xyz'][:,1])\n",
    "diff_pos = np.abs(pmt_info['xyz'][:,2] - z1)\n",
    "diff_neg = np.abs(pmt_info['xyz'][:,2] - z2)\n",
    "\n",
    "tolerance = 300.\n",
    "pmts_cone = (diff_pos<tolerance)+(diff_neg<tolerance)"
   ]
  },
  {
   "cell_type": "code",
   "execution_count": 77,
   "metadata": {
    "collapsed": false
   },
   "outputs": [
    {
     "data": {
      "text/plain": [
       "98"
      ]
     },
     "execution_count": 77,
     "metadata": {},
     "output_type": "execute_result"
    }
   ],
   "source": [
    "np.sum(pmts_cone)"
   ]
  },
  {
   "cell_type": "code",
   "execution_count": 78,
   "metadata": {
    "collapsed": false
   },
   "outputs": [
    {
     "data": {
      "image/png": "[encoded data removed]",
      "text/plain": [
       "<matplotlib.figure.Figure at 0x7fb23d84fed0>"
      ]
     },
     "metadata": {},
     "output_type": "display_data"
    }
   ],
   "source": [
    "fig = plt.figure(figsize=(12,7))\n",
    "ax = fig.add_subplot(111)\n",
    "plt.scatter(phi[pmts_cone]/np.pi, costheta[pmts_cone],\n",
    "            marker='o',lw = 0)\n",
    "plt.xlim([-1,1])\n",
    "plt.ylim([-1,1])\n",
    "plt.xlabel('Phi / pi')\n",
    "plt.ylabel('cos(theta)')\n",
    "plt.show()"
   ]
  },
  {
   "cell_type": "code",
   "execution_count": null,
   "metadata": {
    "collapsed": true
   },
   "outputs": [],
   "source": []
  },
  {
   "cell_type": "code",
   "execution_count": null,
   "metadata": {
    "collapsed": true
   },
   "outputs": [],
   "source": []
  }
 ],
 "metadata": {
  "kernelspec": {
   "display_name": "Python 2",
   "language": "python",
   "name": "python2"
  },
  "language_info": {
   "codemirror_mode": {
    "name": "ipython",
    "version": 2
   },
   "file_extension": ".py",
   "mimetype": "text/x-python",
   "name": "python",
   "nbconvert_exporter": "python",
   "pygments_lexer": "ipython2",
   "version": "2.7.13"
  }
 },
 "nbformat": 4,
 "nbformat_minor": 1
}
