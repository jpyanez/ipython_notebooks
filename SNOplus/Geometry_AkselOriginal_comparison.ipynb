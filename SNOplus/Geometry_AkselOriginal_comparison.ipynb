{
 "cells": [
  {
   "cell_type": "code",
   "execution_count": 1,
   "metadata": {
    "collapsed": false
   },
   "outputs": [
    {
     "name": "stderr",
     "output_type": "stream",
     "text": [
      "TClass::TClass:0: RuntimeWarning: no dictionary for class omtext is available\n",
      "/home/jp/anaconda2/lib/python2.7/site-packages/matplotlib/font_manager.py:273: UserWarning: Matplotlib is building the font cache using fc-list. This may take a moment.\n",
      "  warnings.warn('Matplotlib is building the font cache using fc-list. This may take a moment.')\n"
     ]
    }
   ],
   "source": [
    "import ROOT, rat\n",
    "import os, sys\n",
    "import matplotlib.pyplot as plt\n",
    "import numpy as np\n",
    "%matplotlib inline   \n"
   ]
  },
  {
   "cell_type": "code",
   "execution_count": 2,
   "metadata": {
    "collapsed": true
   },
   "outputs": [],
   "source": [
    "outdir = '/home/jp/Dropbox/workflowy/snoplus/geo_validation'"
   ]
  },
  {
   "cell_type": "code",
   "execution_count": 3,
   "metadata": {
    "collapsed": true
   },
   "outputs": [],
   "source": [
    "sys.path.append('/home/jp/projects/snoplus/snoing/install/rat-dev/example/pyroot')\n",
    "sys.path.append('/home/jp/projects/python_tools')\n",
    "sys.path.append('/home/jp/projects/snoplus/python_modules')"
   ]
  },
  {
   "cell_type": "code",
   "execution_count": 4,
   "metadata": {
    "collapsed": false
   },
   "outputs": [
    {
     "data": {
      "text/plain": [
       "<module 'lowlevel_stats' from '/home/jp/projects/snoplus/python_modules/lowlevel_stats.pyc'>"
      ]
     },
     "execution_count": 4,
     "metadata": {},
     "output_type": "execute_result"
    }
   ],
   "source": [
    "import jp_mpl as jplot\n",
    "import lowlevel_stats\n",
    "reload(lowlevel_stats)"
   ]
  },
  {
   "cell_type": "code",
   "execution_count": 5,
   "metadata": {
    "collapsed": true
   },
   "outputs": [],
   "source": [
    "mydir = '/home/jp/projects/snoplus/rundir/electrons_simple_aksel'\n",
    "myfile= '5MeV_electrons.root'\n",
    "file_name = os.path.join(mydir, myfile)"
   ]
  },
  {
   "cell_type": "code",
   "execution_count": 5,
   "metadata": {
    "collapsed": false
   },
   "outputs": [],
   "source": [
    "data = lowlevel_stats.getMChits(file_name)\n",
    "aksel_hittimes = lowlevel_stats.getHitTimes_MC(file_name)\n",
    "aksel_petimes  = lowlevel_stats.getPETimes_MC(file_name)"
   ]
  },
  {
   "cell_type": "code",
   "execution_count": 24,
   "metadata": {
    "collapsed": false
   },
   "outputs": [],
   "source": [
    "mydir = mydir.replace('aksel','official')\n",
    "file_name = os.path.join(mydir, myfile)"
   ]
  },
  {
   "cell_type": "code",
   "execution_count": 25,
   "metadata": {
    "collapsed": true
   },
   "outputs": [],
   "source": [
    "official = lowlevel_stats.getMChits(file_name)\n",
    "off_hittimes = lowlevel_stats.getHitTimes_MC(file_name)\n",
    "off_petimes  = lowlevel_stats.getPETimes_MC(file_name)"
   ]
  },
  {
   "cell_type": "markdown",
   "metadata": {},
   "source": [
    "## Checking the NHits distribution"
   ]
  },
  {
   "cell_type": "code",
   "execution_count": 7,
   "metadata": {
    "collapsed": false
   },
   "outputs": [
    {
     "name": "stdout",
     "output_type": "stream",
     "text": [
      "3513\n"
     ]
    }
   ],
   "source": [
    "max_nhits = np.max([official.max(),data.max()])\n",
    "print max_nhits"
   ]
  },
  {
   "cell_type": "code",
   "execution_count": 26,
   "metadata": {
    "collapsed": false
   },
   "outputs": [
    {
     "ename": "NameError",
     "evalue": "name 'data' is not defined",
     "output_type": "error",
     "traceback": [
      "\u001b[1;31m---------------------------------------------------------------------------\u001b[0m",
      "\u001b[1;31mNameError\u001b[0m                                 Traceback (most recent call last)",
      "\u001b[1;32m<ipython-input-26-5e4cc269e5c1>\u001b[0m in \u001b[0;36m<module>\u001b[1;34m()\u001b[0m\n\u001b[0;32m      1\u001b[0m \u001b[1;33m\u001b[0m\u001b[0m\n\u001b[0;32m      2\u001b[0m \u001b[0mxaxis\u001b[0m \u001b[1;33m=\u001b[0m \u001b[0mnp\u001b[0m\u001b[1;33m.\u001b[0m\u001b[0marange\u001b[0m\u001b[1;33m(\u001b[0m\u001b[1;36m1500\u001b[0m\u001b[1;33m,\u001b[0m \u001b[1;36m4000\u001b[0m\u001b[1;33m,\u001b[0m \u001b[1;36m50\u001b[0m\u001b[1;33m)\u001b[0m\u001b[1;31m#20, 4000)\u001b[0m\u001b[1;33m\u001b[0m\u001b[0m\n\u001b[1;32m----> 3\u001b[1;33m \u001b[0mn_aksel\u001b[0m\u001b[1;33m,\u001b[0m \u001b[0mx\u001b[0m \u001b[1;33m=\u001b[0m \u001b[0mnp\u001b[0m\u001b[1;33m.\u001b[0m\u001b[0mhistogram\u001b[0m\u001b[1;33m(\u001b[0m\u001b[0mdata\u001b[0m\u001b[1;33m,\u001b[0m \u001b[0mxaxis\u001b[0m\u001b[1;33m)\u001b[0m\u001b[1;33m\u001b[0m\u001b[0m\n\u001b[0m\u001b[0;32m      4\u001b[0m \u001b[0mn_off\u001b[0m\u001b[1;33m,\u001b[0m \u001b[0mx\u001b[0m \u001b[1;33m=\u001b[0m \u001b[0mnp\u001b[0m\u001b[1;33m.\u001b[0m\u001b[0mhistogram\u001b[0m\u001b[1;33m(\u001b[0m\u001b[0mofficial\u001b[0m\u001b[1;33m,\u001b[0m \u001b[0mxaxis\u001b[0m\u001b[1;33m)\u001b[0m\u001b[1;33m\u001b[0m\u001b[0m\n\u001b[0;32m      5\u001b[0m \u001b[0mmyfig\u001b[0m \u001b[1;33m=\u001b[0m \u001b[0mplt\u001b[0m\u001b[1;33m.\u001b[0m\u001b[0mfigure\u001b[0m\u001b[1;33m(\u001b[0m\u001b[0mfigsize\u001b[0m\u001b[1;33m=\u001b[0m\u001b[1;33m(\u001b[0m\u001b[1;36m8\u001b[0m\u001b[1;33m,\u001b[0m\u001b[1;36m5\u001b[0m\u001b[1;33m)\u001b[0m\u001b[1;33m)\u001b[0m\u001b[1;33m\u001b[0m\u001b[0m\n",
      "\u001b[1;31mNameError\u001b[0m: name 'data' is not defined"
     ]
    }
   ],
   "source": [
    "\n",
    "xaxis = np.arange(1500, 4000, 50)#20, 4000)\n",
    "n_aksel, x = np.histogram(data, xaxis)\n",
    "n_off, x = np.histogram(official, xaxis)\n",
    "myfig = plt.figure(figsize=(8,5))\n",
    "\n",
    "jplot.unfilledBar(xaxis, n_off, color='blue', label='Official Geo')\n",
    "jplot.unfilledBar(xaxis, n_aksel, color='red', label='Aksels Geo')\n",
    "plt.xlabel('Nhits (5 MeV electron at detector center)')\n",
    "plt.ylabel('Entries per event')\n",
    "plt.ylim([0,120])\n",
    "plt.legend(loc=0)\n",
    "\n",
    "myfig.savefig(os.path.join(outdir, 'FirstComparison_AkselOriginal_Nhits.png'))\n",
    "#jplot.errorMarkVert(xaxis, n_off, yerror=np.sqrt(n_off), color='blue')\n",
    "#jplot.errorMarkVert(xaxis, n_aksel, yerror=np.sqrt(n_off),color='red')\n",
    "jplot.errorMark(xaxis, n_off, error=np.sqrt(n_off), color='blue')\n",
    "jplot.errorMark(xaxis, n_aksel, error=np.sqrt(n_off),color='red')\n",
    "myfig.savefig(os.path.join(outdir, 'FirstComparison_AkselOriginal_Nhits_v2.png'))\n",
    "\n",
    "\n",
    "#plt.ylim([0,120])\n",
    "\n",
    "print 'Aksel geometry'\n",
    "print 'Mean', data.mean()\n",
    "print 'Std ', data.std()\n",
    "print '\\nOfficial geometry'\n",
    "print 'Mean', official.mean()\n",
    "print 'Std ', official.std()"
   ]
  },
  {
   "cell_type": "markdown",
   "metadata": {},
   "source": [
    "## Checking the hit times distribution"
   ]
  },
  {
   "cell_type": "code",
   "execution_count": 27,
   "metadata": {
    "collapsed": false
   },
   "outputs": [
    {
     "name": "stdout",
     "output_type": "stream",
     "text": [
      "2298.39160156\n"
     ]
    }
   ],
   "source": [
    "max_time = np.max([off_hittimes.max(),aksel_hittimes.max()])\n",
    "print max_time"
   ]
  },
  {
   "cell_type": "code",
   "execution_count": 34,
   "metadata": {
    "collapsed": false
   },
   "outputs": [
    {
     "name": "stdout",
     "output_type": "stream",
     "text": [
      "Aksel geometry\n",
      "Mean 71.5679718712\n",
      "Std  73.7524941508\n",
      "\n",
      "Official geometry\n",
      "Mean 71.9210259223\n",
      "Std  74.8897242953\n"
     ]
    },
    {
     "data": {
      "image/png": "[encoded data removed]",
      "text/plain": [
       "<matplotlib.figure.Figure at 0x7f96e75a6290>"
      ]
     },
     "metadata": {},
     "output_type": "display_data"
    }
   ],
   "source": [
    "xaxis = np.arange(0, 250, 3)#20, 4000)\n",
    "n_aksel, x = np.histogram(aksel_hittimes, xaxis)\n",
    "n_off, x = np.histogram(off_hittimes, xaxis)\n",
    "myfig = plt.figure(figsize=(8,5))\n",
    "\n",
    "jplot.unfilledBar(xaxis, n_off, color='blue', label='Official Geo')\n",
    "jplot.unfilledBar(xaxis, n_aksel, color='red', label='Aksels Geo')\n",
    "plt.xlabel('Hit time (ns, 5 MeV electron at detector center)')\n",
    "plt.ylabel('Hits')\n",
    "#plt.ylim([0,120])\n",
    "plt.legend(loc=0)\n",
    "\n",
    "myfig.savefig(os.path.join(outdir, 'FirstComparison_AkselOriginal_HitT.png'))\n",
    "#jplot.errorMarkVert(xaxis, n_off, yerror=np.sqrt(n_off), color='blue')\n",
    "#jplot.errorMarkVert(xaxis, n_aksel, yerror=np.sqrt(n_off),color='red')\n",
    "\n",
    "jplot.errorMark(xaxis, n_off, error=np.sqrt(n_off), color='blue')\n",
    "jplot.errorMark(xaxis, n_aksel, error=np.sqrt(n_off),color='red')\n",
    "myfig.savefig(os.path.join(outdir, 'FirstComparison_AkselOriginal_HitT_v2.png'))\n",
    "\n",
    "\n",
    "#plt.ylim([0,120])\n",
    "\n",
    "print 'Aksel geometry'\n",
    "print 'Mean', aksel_hittimes.mean()\n",
    "print 'Std ', aksel_hittimes.std()\n",
    "print '\\nOfficial geometry'\n",
    "print 'Mean', off_hittimes.mean()\n",
    "print 'Std ', off_hittimes.std()"
   ]
  },
  {
   "cell_type": "code",
   "execution_count": null,
   "metadata": {
    "collapsed": true
   },
   "outputs": [],
   "source": []
  }
 ],
 "metadata": {
  "kernelspec": {
   "display_name": "Python 2",
   "language": "python",
   "name": "python2"
  },
  "language_info": {
   "codemirror_mode": {
    "name": "ipython",
    "version": 2
   },
   "file_extension": ".py",
   "mimetype": "text/x-python",
   "name": "python",
   "nbconvert_exporter": "python",
   "pygments_lexer": "ipython2",
   "version": "2.7.11"
  }
 },
 "nbformat": 4,
 "nbformat_minor": 0
}
