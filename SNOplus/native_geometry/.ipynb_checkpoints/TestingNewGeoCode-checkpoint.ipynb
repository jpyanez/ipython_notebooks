{
 "cells": [
  {
   "cell_type": "markdown",
   "metadata": {},
   "source": [
    "### Testing my changes to the native geometry code"
   ]
  },
  {
   "cell_type": "code",
   "execution_count": 1,
   "metadata": {
    "collapsed": false
   },
   "outputs": [
    {
     "name": "stderr",
     "output_type": "stream",
     "text": [
      "TClass::TClass:0: RuntimeWarning: no dictionary for class omtext is available\n",
      "TClass::TClass:0: RuntimeWarning: no dictionary for class RAT::DU::ShadowingCalculator is available\n"
     ]
    },
    {
     "data": {
      "text/plain": [
       "<module 'snoplots' from '/home/jp/projects/snoplus/python_modules/snoplots.pyc'>"
      ]
     },
     "execution_count": 1,
     "metadata": {},
     "output_type": "execute_result"
    }
   ],
   "source": [
    "import ROOT, rat\n",
    "import os, sys\n",
    "import matplotlib.pyplot as plt\n",
    "import numpy as np\n",
    "%matplotlib inline  \n",
    "sys.path.append('/home/jp/projects/snoplus/snoing/install/rat-dev/example/pyroot')\n",
    "sys.path.append('/home/jp/projects/python_tools')\n",
    "sys.path.append('/home/jp/projects/snoplus/python_modules')\n",
    "import jp_mpl as jplot\n",
    "import lowlevel_stats\n",
    "reload(lowlevel_stats)\n",
    "import snoplots\n",
    "reload(snoplots)"
   ]
  },
  {
   "cell_type": "code",
   "execution_count": 2,
   "metadata": {
    "collapsed": true
   },
   "outputs": [],
   "source": [
    "# Initialize the data dictionary\n",
    "data = {}"
   ]
  },
  {
   "cell_type": "code",
   "execution_count": 3,
   "metadata": {
    "collapsed": true
   },
   "outputs": [],
   "source": [
    "basedir = '/home/jp/projects/snoplus/rundir/nativegeo_verification2/pbomb_comparison'\n"
   ]
  },
  {
   "cell_type": "code",
   "execution_count": 5,
   "metadata": {
    "collapsed": true
   },
   "outputs": [],
   "source": [
    "# Running without NCD anchors\n",
    "lowlevel_stats.readFile(data, basedir, 'nativegeo_fullmod','pbomb380.root', 'nativegeo_mod_380')\n",
    "lowlevel_stats.readFile(data, basedir, 'nativegeo_fullmod','pbomb500.root', 'nativegeo_mod_500')"
   ]
  },
  {
   "cell_type": "code",
   "execution_count": 6,
   "metadata": {
    "collapsed": true
   },
   "outputs": [],
   "source": [
    "# With my code now, also running without NCD anchors\n",
    "lowlevel_stats.readFile(data, basedir, 'nativegeo_fullmod_newcode','pbomb380.root', 'nativegeo_modcode_380')\n",
    "lowlevel_stats.readFile(data, basedir, 'nativegeo_fullmod_newcode','pbomb500.root', 'nativegeo_modcode_500')"
   ]
  },
  {
   "cell_type": "code",
   "execution_count": 7,
   "metadata": {
    "collapsed": false
   },
   "outputs": [
    {
     "ename": "NameError",
     "evalue": "name 'outdir' is not defined",
     "output_type": "error",
     "traceback": [
      "\u001b[1;31m---------------------------------------------------------------------------\u001b[0m",
      "\u001b[1;31mNameError\u001b[0m                                 Traceback (most recent call last)",
      "\u001b[1;32m<ipython-input-7-be493e0f1809>\u001b[0m in \u001b[0;36m<module>\u001b[1;34m()\u001b[0m\n\u001b[0;32m      7\u001b[0m                \u001b[0mxlabel\u001b[0m \u001b[1;33m=\u001b[0m \u001b[1;34m'Nhits'\u001b[0m\u001b[1;33m,\u001b[0m\u001b[1;33m\u001b[0m\u001b[0m\n\u001b[0;32m      8\u001b[0m                \u001b[0mylabel\u001b[0m \u001b[1;33m=\u001b[0m \u001b[1;34m'Entries'\u001b[0m\u001b[1;33m,\u001b[0m\u001b[1;33m\u001b[0m\u001b[0m\n\u001b[1;32m----> 9\u001b[1;33m                outdir = outdir)\n\u001b[0m",
      "\u001b[1;31mNameError\u001b[0m: name 'outdir' is not defined"
     ]
    }
   ],
   "source": [
    "snoplots.plotComparison(data = data,\n",
    "                        datasets = ['nativegeo_mod_380',\n",
    "                                   'nativegeo_modcode_380'],\n",
    "               datakey = 'nhit',\n",
    "               #figname = 'New_PBbomb380_nhit_fullmod',\n",
    "               xaxis = np.arange(20,200,4),\n",
    "               xlabel = 'Nhits',\n",
    "               ylabel = 'Entries',\n",
    "               outdir = outdir)"
   ]
  },
  {
   "cell_type": "code",
   "execution_count": null,
   "metadata": {
    "collapsed": true
   },
   "outputs": [],
   "source": []
  }
 ],
 "metadata": {
  "kernelspec": {
   "display_name": "Python 2",
   "language": "python",
   "name": "python2"
  },
  "language_info": {
   "codemirror_mode": {
    "name": "ipython",
    "version": 2
   },
   "file_extension": ".py",
   "mimetype": "text/x-python",
   "name": "python",
   "nbconvert_exporter": "python",
   "pygments_lexer": "ipython2",
   "version": "2.7.11"
  }
 },
 "nbformat": 4,
 "nbformat_minor": 0
}
