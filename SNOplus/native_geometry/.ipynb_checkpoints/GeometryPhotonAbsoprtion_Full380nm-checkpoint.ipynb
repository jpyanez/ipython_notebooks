{
 "cells": [
  {
   "cell_type": "markdown",
   "metadata": {},
   "source": [
    "## Studying the attenuation by geometry elements"
   ]
  },
  {
   "cell_type": "code",
   "execution_count": 1,
   "metadata": {
    "collapsed": false
   },
   "outputs": [
    {
     "name": "stderr",
     "output_type": "stream",
     "text": [
      "TClass::TClass:0: RuntimeWarning: no dictionary for class omtext is available\n"
     ]
    }
   ],
   "source": [
    "import ROOT, rat\n",
    "import os, sys\n",
    "import matplotlib.pyplot as plt\n",
    "import numpy as np\n",
    "%matplotlib inline \n",
    "sys.path.append('/home/jp/projects/python_tools')\n",
    "import jp_mpl as jplot\n",
    "import rat"
   ]
  },
  {
   "cell_type": "code",
   "execution_count": 2,
   "metadata": {
    "collapsed": true
   },
   "outputs": [],
   "source": [
    "def doRead(ratreader = None, radius_pass = 6200., max_photons = 100000, single=False):\n",
    "    end_position     = np.zeros([max_photons, 3])\n",
    "    theta_dir        = np.zeros(max_photons)\n",
    "    step_r           = np.zeros(max_photons)\n",
    "    end_volume       = ['volume']*max_photons\n",
    "    end_process      = ['process']*max_photons\n",
    "    counter = 0\n",
    "    for ds, run in ratreader:\n",
    "        mymc = ds.GetMC()\n",
    "        \n",
    "        if counter >= max_photons:\n",
    "            break\n",
    "        \n",
    "        # Loop over all the photons\n",
    "        for itrack in range(1, mymc.GetMCTrackCount()+1):\n",
    "            mytrack = mymc.GetMCTrack(itrack)\n",
    "            \n",
    "            # End here to study the info in a track\n",
    "            if single:\n",
    "                #print mymc.GetMCTrackCount()+1\n",
    "                return mytrack\n",
    "            \n",
    "            max_steps = mymc.GetMCTrack(itrack).GetMCTrackStepCount()              \n",
    "            \n",
    "            # The step 0 is always the starting point. Start at one.\n",
    "            first_step = mymc.GetMCTrack(itrack).GetMCTrackStep(1).GetPosition()\n",
    "            step_r[counter]    = np.linalg.norm(first_step)\n",
    "\n",
    "            # Get the initial direction of the photon\n",
    "            # I'm intersted in theta_dir = [8, 82] degrees\n",
    "            theta_dir[counter] = np.arccos(first_step[2]/step_r[counter])\n",
    "            \n",
    "            # Get the last step\n",
    "            last_step = mymc.GetMCTrack(itrack).GetMCTrackStep(max_steps-1)\n",
    "\n",
    "            # Also get the end volume\n",
    "            end_volume[counter] = last_step.GetEndVolume()\n",
    "            end_position[counter,:] = last_step.GetPosition()\n",
    "            end_process[counter] = last_step.GetProcess()\n",
    "            counter += 1\n",
    "            \n",
    "            if counter >= max_photons:\n",
    "                break\n",
    "                \n",
    "    ratreader.close()\n",
    "    \n",
    "    data = {'step_r':step_r[:counter],\n",
    "            'theta_dir':theta_dir[:counter],\n",
    "            'end_position':end_position[:counter,:],\n",
    "            'end_volume':np.array(end_volume[:counter]),\n",
    "            'end_process':np.array(end_process[:counter])}\n",
    "        \n",
    "    return data"
   ]
  },
  {
   "cell_type": "code",
   "execution_count": 3,
   "metadata": {
    "collapsed": false
   },
   "outputs": [
    {
     "name": "stdout",
     "output_type": "stream",
     "text": [
      "No ratreader file. Opening it for the first time\n"
     ]
    }
   ],
   "source": [
    "# Opening the file\n",
    "infile_dir = '/home/jp/projects/snoplus/rundir/nativegeo_verification2/pbomb_comparison/snoplus_fullmod_tracking'\n",
    "infile_name = 'pbomb380.root'\n",
    "try:\n",
    "    ratreader.close()\n",
    "    print 'Closing file before reopenning'\n",
    "except:\n",
    "    print 'No ratreader file. Opening it for the first time'\n",
    "ratreader = rat.dsreader(os.path.join(infile_dir, infile_name))"
   ]
  },
  {
   "cell_type": "code",
   "execution_count": 4,
   "metadata": {
    "collapsed": false
   },
   "outputs": [],
   "source": [
    "snoplus = doRead(ratreader=ratreader, max_photons = 10000000)"
   ]
  },
  {
   "cell_type": "code",
   "execution_count": 5,
   "metadata": {
    "collapsed": false
   },
   "outputs": [
    {
     "data": {
      "text/plain": [
       "array(['av', 'cavity', 'hold_down_ropes', 'hold_up_ropes_0',\n",
       "       'hold_up_ropes_1', 'hold_up_ropes_2', 'hold_up_ropes_3',\n",
       "       'hold_up_ropes_4', 'hold_up_ropes_5', 'hold_up_ropes_6',\n",
       "       'hold_up_ropes_7', 'hold_up_ropes_8', 'hold_up_ropes_9', 'inner_av',\n",
       "       'neck', 'world'], \n",
       "      dtype='|S15')"
      ]
     },
     "execution_count": 5,
     "metadata": {},
     "output_type": "execute_result"
    }
   ],
   "source": [
    "np.unique(snoplus['end_volume'])"
   ]
  },
  {
   "cell_type": "code",
   "execution_count": 6,
   "metadata": {
    "collapsed": false
   },
   "outputs": [],
   "source": [
    "# Replace\n",
    "for i in range(len(snoplus['end_volume'])):\n",
    "    if 'ropes' in snoplus['end_volume'][i]:\n",
    "        snoplus['end_volume'][i] = 'ropes'"
   ]
  },
  {
   "cell_type": "code",
   "execution_count": 7,
   "metadata": {
    "collapsed": false
   },
   "outputs": [
    {
     "name": "stdout",
     "output_type": "stream",
     "text": [
      "Closing file before reopenning\n"
     ]
    }
   ],
   "source": [
    "# Opening the file\n",
    "infile_dir = '/home/jp/projects/snoplus/rundir/nativegeo_verification2/pbomb_comparison/nativegeo_fullmod_tracking'\n",
    "infile_name = 'pbomb380.root'\n",
    "try:\n",
    "    ratreader.close()\n",
    "    print 'Closing file before reopenning'\n",
    "except:\n",
    "    print 'No ratreader file. Opening it for the first time'\n",
    "ratreader = rat.dsreader(os.path.join(infile_dir, infile_name))"
   ]
  },
  {
   "cell_type": "code",
   "execution_count": 8,
   "metadata": {
    "collapsed": true
   },
   "outputs": [],
   "source": [
    "nativegeo = doRead(ratreader=ratreader, max_photons = 10000000)"
   ]
  },
  {
   "cell_type": "code",
   "execution_count": 9,
   "metadata": {
    "collapsed": false
   },
   "outputs": [
    {
     "data": {
      "text/plain": [
       "array(['NULL', 'cavity', 'snoav', 'snorope', 'snosv', 'world'], \n",
       "      dtype='|S7')"
      ]
     },
     "execution_count": 9,
     "metadata": {},
     "output_type": "execute_result"
    }
   ],
   "source": [
    "np.unique(nativegeo['end_volume'])"
   ]
  },
  {
   "cell_type": "code",
   "execution_count": 27,
   "metadata": {
    "collapsed": false
   },
   "outputs": [
    {
     "name": "stdout",
     "output_type": "stream",
     "text": [
      "6358647\n"
     ]
    }
   ],
   "source": [
    "print len(nativegeo['end_volume'])"
   ]
  },
  {
   "cell_type": "code",
   "execution_count": 10,
   "metadata": {
    "collapsed": false
   },
   "outputs": [],
   "source": [
    "def getVolumeStats(data, geometry, theta_range = [0, np.pi]):\n",
    "    if geometry == 'native':\n",
    "        volumes = ['NULL', 'cavity', 'snoav', 'snorope', 'snosv', 'world']\n",
    "    else:\n",
    "        volumes = ['av', 'cavity', 'inner_av','neck', 'world', 'ropes']\n",
    "        \n",
    "    mybool = np.array([True]*len(data['end_volume']))\n",
    "    mybool *= (data['theta_dir'] < theta_range[1]) * (data['theta_dir'] > theta_range[0])\n",
    "        \n",
    "    print geometry\n",
    "    for one_volume in volumes:\n",
    "        print one_volume, np.sum(data['end_volume'][mybool] == one_volume)*1./len(data['end_volume'][mybool])"
   ]
  },
  {
   "cell_type": "code",
   "execution_count": 26,
   "metadata": {
    "collapsed": false
   },
   "outputs": [
    {
     "name": "stdout",
     "output_type": "stream",
     "text": [
      "official\n",
      "av 0.054341703357\n",
      "cavity 0.0594445890044\n",
      "inner_av 0.344308393777\n",
      "neck 0.00115171604212\n",
      "world 0.518788938795\n",
      "ropes 0.021964659024\n"
     ]
    }
   ],
   "source": [
    "getVolumeStats(snoplus, 'official', theta_range = [np.deg2rad(8.), np.deg2rad(82.)])"
   ]
  },
  {
   "cell_type": "code",
   "execution_count": 24,
   "metadata": {
    "collapsed": false
   },
   "outputs": [
    {
     "name": "stdout",
     "output_type": "stream",
     "text": [
      "native\n",
      "NULL 0.000446512563156\n",
      "cavity 0.0598071790201\n",
      "snoav 0.056527085903\n",
      "snorope 0.0215198356183\n",
      "snosv 0.343993943989\n",
      "world 0.517705442907\n"
     ]
    }
   ],
   "source": [
    "getVolumeStats(nativegeo, 'native', theta_range = [np.deg2rad(8.), np.deg2rad(82.)])"
   ]
  },
  {
   "cell_type": "code",
   "execution_count": 40,
   "metadata": {
    "collapsed": false
   },
   "outputs": [],
   "source": [
    "# Lets find out the position where the photons die for a thin slice in z\n",
    "def deadInRope(data, zmin = 3000., zwidth = 200, end_volume = 'ropes'):\n",
    "    zmax = zmin + zwidth\n",
    "    zbool = (data['end_position'][:,2] > zmin)*(data['end_position'][:,2] < zmax)\n",
    "    zbool *= (data['end_volume'] == end_volume)\n",
    "    print np.sum(zbool)\n",
    "    plt.plot(data['end_position'][zbool,0], data['end_position'][zbool,1], '.')"
   ]
  },
  {
   "cell_type": "code",
   "execution_count": 41,
   "metadata": {
    "collapsed": false
   },
   "outputs": [
    {
     "name": "stdout",
     "output_type": "stream",
     "text": [
      "1737\n"
     ]
    },
    {
     "data": {
      "image/png": "[encoded data removed]",
      "text/plain": [
       "<matplotlib.figure.Figure at 0x7f81522d4110>"
      ]
     },
     "metadata": {},
     "output_type": "display_data"
    }
   ],
   "source": [
    "deadInRope(snoplus)"
   ]
  },
  {
   "cell_type": "code",
   "execution_count": 42,
   "metadata": {
    "collapsed": false
   },
   "outputs": [
    {
     "name": "stdout",
     "output_type": "stream",
     "text": [
      "1865\n"
     ]
    },
    {
     "data": {
      "image/png": "[encoded data removed]",
      "text/plain": [
       "<matplotlib.figure.Figure at 0x7f815002af50>"
      ]
     },
     "metadata": {},
     "output_type": "display_data"
    }
   ],
   "source": [
    "deadInRope(nativegeo, end_volume='snorope')"
   ]
  },
  {
   "cell_type": "code",
   "execution_count": null,
   "metadata": {
    "collapsed": true
   },
   "outputs": [],
   "source": []
  }
 ],
 "metadata": {
  "kernelspec": {
   "display_name": "Python 2",
   "language": "python",
   "name": "python2"
  },
  "language_info": {
   "codemirror_mode": {
    "name": "ipython",
    "version": 2
   },
   "file_extension": ".py",
   "mimetype": "text/x-python",
   "name": "python",
   "nbconvert_exporter": "python",
   "pygments_lexer": "ipython2",
   "version": "2.7.11"
  }
 },
 "nbformat": 4,
 "nbformat_minor": 0
}
