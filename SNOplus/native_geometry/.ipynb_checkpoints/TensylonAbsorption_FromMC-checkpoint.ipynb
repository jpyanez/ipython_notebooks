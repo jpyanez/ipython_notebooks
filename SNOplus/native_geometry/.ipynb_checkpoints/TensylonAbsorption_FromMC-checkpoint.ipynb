{
 "cells": [
  {
   "cell_type": "code",
   "execution_count": 1,
   "metadata": {
    "collapsed": false
   },
   "outputs": [
    {
     "name": "stderr",
     "output_type": "stream",
     "text": [
      "TClass::TClass:0: RuntimeWarning: no dictionary for class omtext is available\n"
     ]
    }
   ],
   "source": [
    "import ROOT, rat\n",
    "import os, sys\n",
    "import matplotlib.pyplot as plt\n",
    "import numpy as np\n",
    "%matplotlib inline \n",
    "sys.path.append('/home/jp/projects/python_tools')\n",
    "import jp_mpl as jplot\n",
    "import rat"
   ]
  },
  {
   "cell_type": "code",
   "execution_count": 2,
   "metadata": {
    "collapsed": true
   },
   "outputs": [],
   "source": [
    "infile_dir = '/home/jp/projects/snoplus/rundir/nativegeo_verification2/rope_absorption'"
   ]
  },
  {
   "cell_type": "code",
   "execution_count": 15,
   "metadata": {
    "collapsed": true
   },
   "outputs": [],
   "source": [
    "infile_name = 'therope500.root'"
   ]
  },
  {
   "cell_type": "code",
   "execution_count": 16,
   "metadata": {
    "collapsed": false
   },
   "outputs": [
    {
     "name": "stdout",
     "output_type": "stream",
     "text": [
      "Closing file before reopenning\n"
     ]
    }
   ],
   "source": [
    "try:\n",
    "    ratreader.close()\n",
    "    print 'Closing file before reopenning'\n",
    "except:\n",
    "    print 'No ratreader file. Opening it for the first time'\n",
    "ratreader = rat.dsreader(os.path.join(infile_dir, infile_name))"
   ]
  },
  {
   "cell_type": "code",
   "execution_count": 17,
   "metadata": {
    "collapsed": true
   },
   "outputs": [],
   "source": [
    "def doRead(single = False):\n",
    "    photons_steps = [] # List of tracks\n",
    "    photons_p     = []\n",
    "    photons_ids   = []\n",
    "    volumes       = []\n",
    "    process       = []\n",
    "    for ds, run in ratreader:\n",
    "        mymc = ds.GetMC()\n",
    "        for itrack in range(1, mymc.GetMCTrackCount()+1):\n",
    "            mytrack = mymc.GetMCTrack(itrack)\n",
    "            \n",
    "            # End here to study the info in a track\n",
    "            if single:\n",
    "                return mytrack\n",
    "            \n",
    "            volumes.append([])\n",
    "            process.append([])\n",
    "            photons_steps.append(np.zeros(3))\n",
    "            photons_p.append(np.zeros(3))\n",
    "            \n",
    "            photons_ids.append(mytrack.GetTrackID())\n",
    "            \n",
    "            #if pdg_code != 22: \n",
    "            #    # Particle is not a gamma\n",
    "            #    continue\n",
    "            \n",
    "            for istep in range(mymc.GetMCTrack(itrack).GetMCTrackStepCount()):\n",
    "                photons_steps[-1] = np.vstack((photons_steps[-1], np.zeros(3)))\n",
    "                photons_p[-1] = np.vstack((photons_p[-1], np.zeros(3)))\n",
    "\n",
    "                mystep = mymc.GetMCTrack(itrack).GetMCTrackStep(istep)\n",
    "                position = mystep.GetPosition()\n",
    "                momentum = mystep.GetMomentum()\n",
    "                position.GetXYZ(photons_steps[-1][-1,:])\n",
    "                momentum.GetXYZ(photons_p[-1][-1,:])\n",
    "                process[-1].append(mystep.GetProcess())\n",
    "                volumes[-1].append(mystep.GetEndVolume())\n",
    "\n",
    "                \n",
    "    ratreader.close()\n",
    "    \n",
    "    hcvalue = 1.239841 # eV*um (electronvolts times micrometer)\n",
    "    \n",
    "    return photons_steps, photons_p, volumes, \\\n",
    "           process, np.array(photons_ids)"
   ]
  },
  {
   "cell_type": "code",
   "execution_count": 18,
   "metadata": {
    "collapsed": true
   },
   "outputs": [],
   "source": [
    "pos, mom, volumes,proc, ids = doRead()"
   ]
  },
  {
   "cell_type": "code",
   "execution_count": 19,
   "metadata": {
    "collapsed": false
   },
   "outputs": [
    {
     "name": "stdout",
     "output_type": "stream",
     "text": [
      "Position\n",
      "[[  0.           0.           0.        ]\n",
      " [ 61.         -29.89133072 -33.42259979]\n",
      " [ 59.         -29.89133072 -33.42259979]\n",
      " [-19.91872787 -29.89133072 -33.42259979]]\n",
      "Momentum\n",
      "[[  0.00000000e+00   0.00000000e+00   0.00000000e+00]\n",
      " [ -2.47999992e-06   0.00000000e+00   0.00000000e+00]\n",
      " [ -2.47999992e-06   0.00000000e+00   0.00000000e+00]\n",
      " [ -2.47999992e-06   0.00000000e+00   0.00000000e+00]]\n",
      "End volume\n",
      "['planewave', 'world', 'myrope']\n",
      "Processes\n",
      "['Unknown', 'Transportation', 'Transportation']\n",
      "Track ID\n",
      "1\n"
     ]
    }
   ],
   "source": [
    "# Following a photon\n",
    "index = 0\n",
    "print 'Position'\n",
    "print pos[index]\n",
    "print 'Momentum'\n",
    "print mom[index]\n",
    "print 'End volume'\n",
    "print volumes[index]\n",
    "print 'Processes'\n",
    "print proc[index]\n",
    "print 'Track ID'\n",
    "print ids[index]"
   ]
  },
  {
   "cell_type": "code",
   "execution_count": 20,
   "metadata": {
    "collapsed": true
   },
   "outputs": [],
   "source": [
    "rope_die  = 0\n",
    "rope_pass = 0\n",
    "for index in range(len(volumes)):\n",
    "    if volumes[index][-1] == 'myrope':\n",
    "        rope_die +=1\n",
    "    else:\n",
    "        rope_pass += 1"
   ]
  },
  {
   "cell_type": "code",
   "execution_count": 14,
   "metadata": {
    "collapsed": false
   },
   "outputs": [
    {
     "name": "stdout",
     "output_type": "stream",
     "text": [
      "380nm 99348 652 0.99348\n"
     ]
    }
   ],
   "source": [
    "print '380nm', rope_die, rope_pass, rope_die*1./(rope_die+rope_pass)"
   ]
  },
  {
   "cell_type": "code",
   "execution_count": 21,
   "metadata": {
    "collapsed": false
   },
   "outputs": [
    {
     "name": "stdout",
     "output_type": "stream",
     "text": [
      "500nm 99252 748 0.99252\n"
     ]
    }
   ],
   "source": [
    "print '500nm', rope_die, rope_pass, rope_die*1./(rope_die+rope_pass)"
   ]
  },
  {
   "cell_type": "code",
   "execution_count": null,
   "metadata": {
    "collapsed": true
   },
   "outputs": [],
   "source": []
  }
 ],
 "metadata": {
  "kernelspec": {
   "display_name": "Python 2",
   "language": "python",
   "name": "python2"
  },
  "language_info": {
   "codemirror_mode": {
    "name": "ipython",
    "version": 2
   },
   "file_extension": ".py",
   "mimetype": "text/x-python",
   "name": "python",
   "nbconvert_exporter": "python",
   "pygments_lexer": "ipython2",
   "version": "2.7.11"
  }
 },
 "nbformat": 4,
 "nbformat_minor": 0
}
