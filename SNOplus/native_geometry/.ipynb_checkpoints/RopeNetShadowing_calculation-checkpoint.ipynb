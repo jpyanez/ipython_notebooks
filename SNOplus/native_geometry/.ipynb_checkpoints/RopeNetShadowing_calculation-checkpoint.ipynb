{
 "cells": [
  {
   "cell_type": "markdown",
   "metadata": {},
   "source": [
    "### Calculate the shadowing expected from the ropes <br> Doing analytical approximations"
   ]
  },
  {
   "cell_type": "code",
   "execution_count": 68,
   "metadata": {
    "collapsed": true
   },
   "outputs": [],
   "source": [
    "import numpy as np\n",
    "from scipy import integrate\n",
    "import matplotlib.pyplot as plt\n",
    "import numpy as np\n",
    "%matplotlib inline "
   ]
  },
  {
   "cell_type": "markdown",
   "metadata": {},
   "source": [
    "# Upper half of the sphere"
   ]
  },
  {
   "cell_type": "markdown",
   "metadata": {},
   "source": [
    "### Hold down ropes"
   ]
  },
  {
   "cell_type": "code",
   "execution_count": 69,
   "metadata": {
    "collapsed": false
   },
   "outputs": [],
   "source": [
    "# Number of ropes\n",
    "nropes = 10\n",
    "# Spreader cover ~half of the circumference\n",
    "\n",
    "av_radius = 6060. # in mm\n",
    "av_inner  = 6005.\n",
    "\n",
    "rope_radius_off   = 39/2.\n",
    "rope_radius_aksel = 30/2.\n",
    "angle_used = 7.6 # For defining what top is\n",
    "\n",
    "neck_radius = 800.\n",
    "neck_angle = np.arcsin(neck_radius/av_inner)\n"
   ]
  },
  {
   "cell_type": "code",
   "execution_count": 70,
   "metadata": {
    "collapsed": false
   },
   "outputs": [
    {
     "name": "stdout",
     "output_type": "stream",
     "text": [
      "Height (htop) 6005.98224673\n",
      "Area used 228684398.412\n",
      "Area wrt full half sphere 0.991086179328\n"
     ]
    }
   ],
   "source": [
    "# Zone area formula = 2 pi R h\n",
    "# htop is the neck height at the outer AV\n",
    "htop = av_radius*np.cos(neck_angle)\n",
    "h = 0.\n",
    "area = 2*np.pi*av_radius * (htop-h)\n",
    "print 'Height (htop)', htop\n",
    "print 'Area used', area\n",
    "print 'Area wrt full half sphere', area/(2*np.pi*av_radius**2)"
   ]
  },
  {
   "cell_type": "code",
   "execution_count": 71,
   "metadata": {
    "collapsed": false
   },
   "outputs": [
    {
     "name": "stdout",
     "output_type": "stream",
     "text": [
      "Rope length 19038.0514808\n"
     ]
    }
   ],
   "source": [
    "# Now get the shadowing of the ropes\n",
    "\n",
    "# Rope\n",
    "rope_length = av_radius*np.pi\n",
    "print 'Rope length', rope_length"
   ]
  },
  {
   "cell_type": "code",
   "execution_count": 72,
   "metadata": {
    "collapsed": true
   },
   "outputs": [],
   "source": [
    "def down_rope_shadow(area = area, rope_radius = 19.):\n",
    "    rope_area = (rope_length*nropes)*2*rope_radius + rope_length*2*10.\n",
    "    return 1 - rope_area/area"
   ]
  },
  {
   "cell_type": "code",
   "execution_count": 73,
   "metadata": {
    "collapsed": false
   },
   "outputs": [
    {
     "name": "stdout",
     "output_type": "stream",
     "text": [
      "Shadowing  0.0266401053861\n"
     ]
    }
   ],
   "source": [
    "print 'Shadowing ', 1-down_rope_shadow(rope_radius = rope_radius_aksel)"
   ]
  },
  {
   "cell_type": "markdown",
   "metadata": {},
   "source": [
    "### Hold up ropes"
   ]
  },
  {
   "cell_type": "code",
   "execution_count": 74,
   "metadata": {
    "collapsed": true
   },
   "outputs": [],
   "source": [
    "# Hold up rope\n",
    "# Calculating the shadowed angle as function of angle\n",
    "# The angle goes from 0 to pi/2.\n",
    "# The result of the function is an angle. Needs to be \n",
    "r_rope = 16.5/2."
   ]
  },
  {
   "cell_type": "code",
   "execution_count": 75,
   "metadata": {
    "collapsed": true
   },
   "outputs": [],
   "source": [
    "# Hold up rope; shadowing as fnc of z\n",
    "upshadow = lambda z: 2*np.arctan(r_rope/np.sqrt(z**2 + av_radius**2))"
   ]
  },
  {
   "cell_type": "code",
   "execution_count": 76,
   "metadata": {
    "collapsed": false
   },
   "outputs": [],
   "source": [
    "zlow = 0.\n",
    "nstrings = 20.\n",
    "zhigh_list = np.linspace(0., 8400., 301)\n",
    "r = np.zeros_like(zhigh_list)\n",
    "for i, zhigh in enumerate(zhigh_list):\n",
    "    r[i] = 20*integrate.quad(upshadow, zlow, zhigh)[0]\n"
   ]
  },
  {
   "cell_type": "code",
   "execution_count": 77,
   "metadata": {
    "collapsed": false
   },
   "outputs": [
    {
     "data": {
      "text/plain": [
       "[<matplotlib.lines.Line2D at 0x7fa0f40e4950>]"
      ]
     },
     "execution_count": 77,
     "metadata": {},
     "output_type": "execute_result"
    },
    {
     "data": {
      "image/png": "[encoded data removed]",
      "text/plain": [
       "<matplotlib.figure.Figure at 0x7fa0f433b990>"
      ]
     },
     "metadata": {},
     "output_type": "display_data"
    }
   ],
   "source": [
    "plt.plot(zhigh_list, r)"
   ]
  },
  {
   "cell_type": "code",
   "execution_count": 78,
   "metadata": {
    "collapsed": false
   },
   "outputs": [
    {
     "name": "stdout",
     "output_type": "stream",
     "text": [
      "45082.4042395\n"
     ]
    }
   ],
   "source": [
    "maxz = av_radius/np.tan(neck_angle)\n",
    "print maxz"
   ]
  },
  {
   "cell_type": "code",
   "execution_count": 79,
   "metadata": {
    "collapsed": false
   },
   "outputs": [
    {
     "data": {
      "text/plain": [
       "45904.50000000001"
      ]
     },
     "execution_count": 79,
     "metadata": {},
     "output_type": "execute_result"
    }
   ],
   "source": [
    "6060./(800./6060.)"
   ]
  },
  {
   "cell_type": "code",
   "execution_count": 80,
   "metadata": {
    "collapsed": false
   },
   "outputs": [
    {
     "name": "stdout",
     "output_type": "stream",
     "text": [
      "0.00988073781865\n",
      "0.0365208432048\n"
     ]
    }
   ],
   "source": [
    "uprope_shadow = r[-1]/(2*np.pi*(htop))\n",
    "print uprope_shadow\n",
    "print uprope_shadow + (1-down_rope_shadow(rope_radius = rope_radius_aksel))"
   ]
  },
  {
   "cell_type": "markdown",
   "metadata": {},
   "source": [
    "# The lower half - only hold down ropes"
   ]
  },
  {
   "cell_type": "code",
   "execution_count": 87,
   "metadata": {
    "collapsed": true
   },
   "outputs": [],
   "source": [
    "# Hold down rope\n",
    "# Calculating the shadowed angle as function of angle\n",
    "# The angle goes from 0 to pi/2.\n",
    "# The result of the function is an angle\n",
    "r_rope = 15."
   ]
  },
  {
   "cell_type": "code",
   "execution_count": 88,
   "metadata": {
    "collapsed": true
   },
   "outputs": [],
   "source": [
    "# Hold up rope; shadowing as fnc of z\n",
    "upshadow = lambda z: 2*np.arctan(r_rope/np.sqrt(z**2 + av_radius**2))"
   ]
  },
  {
   "cell_type": "code",
   "execution_count": 93,
   "metadata": {
    "collapsed": true
   },
   "outputs": [],
   "source": [
    "zlow = 0.\n",
    "nstrings = 20.\n",
    "zhigh_list = np.linspace(0., 8400., 301)\n",
    "r = np.zeros_like(zhigh_list)\n",
    "for i, zhigh in enumerate(zhigh_list):\n",
    "    r[i] = 20*integrate.quad(upshadow, zlow, zhigh)[0]\n"
   ]
  },
  {
   "cell_type": "code",
   "execution_count": 97,
   "metadata": {
    "collapsed": false
   },
   "outputs": [
    {
     "name": "stdout",
     "output_type": "stream",
     "text": [
      "Shadowing lower hemisphere 0.017804823057\n"
     ]
    },
    {
     "data": {
      "image/png": "[encoded data removed]",
      "text/plain": [
       "<matplotlib.figure.Figure at 0x7fa0f3f08fd0>"
      ]
     },
     "metadata": {},
     "output_type": "display_data"
    }
   ],
   "source": [
    "plt.plot(zhigh_list, r)\n",
    "print 'Shadowing lower hemisphere', r[-1]/(2*np.pi*av_radius)"
   ]
  },
  {
   "cell_type": "code",
   "execution_count": 96,
   "metadata": {
    "collapsed": false
   },
   "outputs": [
    {
     "name": "stdout",
     "output_type": "stream",
     "text": [
      "Estimate of the average shadowing  2.3\n"
     ]
    }
   ],
   "source": [
    "print 'Estimate of the average shadowing ', (3.6+1.)/2."
   ]
  }
 ],
 "metadata": {
  "kernelspec": {
   "display_name": "Python 2",
   "language": "python",
   "name": "python2"
  },
  "language_info": {
   "codemirror_mode": {
    "name": "ipython",
    "version": 2
   },
   "file_extension": ".py",
   "mimetype": "text/x-python",
   "name": "python",
   "nbconvert_exporter": "python",
   "pygments_lexer": "ipython2",
   "version": "2.7.11"
  }
 },
 "nbformat": 4,
 "nbformat_minor": 0
}
