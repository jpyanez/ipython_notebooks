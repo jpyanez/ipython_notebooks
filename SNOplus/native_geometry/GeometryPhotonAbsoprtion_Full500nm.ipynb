{
 "cells": [
  {
   "cell_type": "markdown",
   "metadata": {},
   "source": [
    "## Studying the attenuation by geometry elements 500nm"
   ]
  },
  {
   "cell_type": "code",
   "execution_count": 1,
   "metadata": {
    "collapsed": false
   },
   "outputs": [
    {
     "name": "stderr",
     "output_type": "stream",
     "text": [
      "TClass::TClass:0: RuntimeWarning: no dictionary for class omtext is available\n"
     ]
    }
   ],
   "source": [
    "import ROOT, rat\n",
    "import os, sys\n",
    "import matplotlib.pyplot as plt\n",
    "import numpy as np\n",
    "%matplotlib inline \n",
    "sys.path.append('/home/jp/projects/python_tools')\n",
    "import jp_mpl as jplot\n",
    "import rat"
   ]
  },
  {
   "cell_type": "code",
   "execution_count": 2,
   "metadata": {
    "collapsed": true
   },
   "outputs": [],
   "source": [
    "def doRead(ratreader = None, radius_pass = 6200., max_photons = 100000, single=False):\n",
    "    end_position     = np.zeros([max_photons, 3])\n",
    "    theta_dir        = np.zeros(max_photons)\n",
    "    step_r           = np.zeros(max_photons)\n",
    "    end_volume       = ['volume']*max_photons\n",
    "    end_process      = ['process']*max_photons\n",
    "    counter = 0\n",
    "    for ds, run in ratreader:\n",
    "        mymc = ds.GetMC()\n",
    "        \n",
    "        if counter >= max_photons:\n",
    "            break\n",
    "        \n",
    "        # Loop over all the photons\n",
    "        for itrack in range(1, mymc.GetMCTrackCount()+1):\n",
    "            mytrack = mymc.GetMCTrack(itrack)\n",
    "            \n",
    "            # End here to study the info in a track\n",
    "            if single:\n",
    "                #print mymc.GetMCTrackCount()+1\n",
    "                return mytrack\n",
    "            \n",
    "            max_steps = mymc.GetMCTrack(itrack).GetMCTrackStepCount()              \n",
    "            \n",
    "            # The step 0 is always the starting point. Start at one.\n",
    "            first_step = mymc.GetMCTrack(itrack).GetMCTrackStep(1).GetPosition()\n",
    "            step_r[counter]    = np.linalg.norm(first_step)\n",
    "\n",
    "            # Get the initial direction of the photon\n",
    "            # I'm intersted in theta_dir = [8, 82] degrees\n",
    "            theta_dir[counter] = np.arccos(first_step[2]/step_r[counter])\n",
    "            \n",
    "            # Get the last step\n",
    "            last_step = mymc.GetMCTrack(itrack).GetMCTrackStep(max_steps-1)\n",
    "\n",
    "            # Also get the end volume\n",
    "            end_volume[counter] = last_step.GetEndVolume()\n",
    "            end_position[counter,:] = last_step.GetPosition()\n",
    "            end_process[counter] = last_step.GetProcess()\n",
    "            counter += 1\n",
    "            \n",
    "            if counter >= max_photons:\n",
    "                break\n",
    "                \n",
    "    ratreader.close()\n",
    "    \n",
    "    data = {'step_r':step_r[:counter],\n",
    "            'theta_dir':theta_dir[:counter],\n",
    "            'end_position':end_position[:counter,:],\n",
    "            'end_volume':np.array(end_volume[:counter]),\n",
    "            'end_process':np.array(end_process[:counter])}\n",
    "        \n",
    "    return data"
   ]
  },
  {
   "cell_type": "code",
   "execution_count": 3,
   "metadata": {
    "collapsed": false
   },
   "outputs": [],
   "source": [
    "def openRat(infile_dir, infile_name, *ratreader):\n",
    "    try:\n",
    "        ratreader.close()\n",
    "        print 'Closing file before reopenning'\n",
    "    except:\n",
    "        print 'No ratreader file. Opening it for the first time'\n",
    "    full_name = os.path.join(infile_dir, infile_name)\n",
    "    if os.path.exists(full_name):\n",
    "        ratreader = rat.dsreader(full_name)\n",
    "    else:\n",
    "        print 'File does not exist'\n",
    "        print full_name\n",
    "    return ratreader"
   ]
  },
  {
   "cell_type": "code",
   "execution_count": 4,
   "metadata": {
    "collapsed": true
   },
   "outputs": [],
   "source": [
    "ratreader = None"
   ]
  },
  {
   "cell_type": "code",
   "execution_count": 5,
   "metadata": {
    "collapsed": false
   },
   "outputs": [
    {
     "name": "stdout",
     "output_type": "stream",
     "text": [
      "No ratreader file. Opening it for the first time\n"
     ]
    }
   ],
   "source": [
    "# Opening the file\n",
    "infile_dir = '/home/jp/projects/snoplus/ratout/nativegeo_validation/tracking_nopmt/snoplus_nopipes'\n",
    "infile_name = 'pbomb500.root'\n",
    "ratreader = openRat(infile_dir, infile_name, ratreader)"
   ]
  },
  {
   "cell_type": "code",
   "execution_count": 6,
   "metadata": {
    "collapsed": false
   },
   "outputs": [],
   "source": [
    "snoplus = doRead(ratreader=ratreader, max_photons = 10000000)"
   ]
  },
  {
   "cell_type": "code",
   "execution_count": 7,
   "metadata": {
    "collapsed": false
   },
   "outputs": [
    {
     "data": {
      "text/plain": [
       "array(['av', 'cavity', 'hold_down_ropes', 'hold_up_ropes_0',\n",
       "       'hold_up_ropes_1', 'hold_up_ropes_2', 'hold_up_ropes_3',\n",
       "       'hold_up_ropes_4', 'hold_up_ropes_5', 'hold_up_ropes_6',\n",
       "       'hold_up_ropes_7', 'hold_up_ropes_8', 'hold_up_ropes_9', 'inner_av',\n",
       "       'ncd_anchors_0', 'ncd_anchors_10', 'ncd_anchors_11',\n",
       "       'ncd_anchors_12', 'ncd_anchors_13', 'ncd_anchors_15',\n",
       "       'ncd_anchors_16', 'ncd_anchors_17', 'ncd_anchors_18',\n",
       "       'ncd_anchors_19', 'ncd_anchors_2', 'ncd_anchors_20',\n",
       "       'ncd_anchors_21', 'ncd_anchors_23', 'ncd_anchors_24',\n",
       "       'ncd_anchors_25', 'ncd_anchors_26', 'ncd_anchors_27',\n",
       "       'ncd_anchors_28', 'ncd_anchors_29', 'ncd_anchors_3',\n",
       "       'ncd_anchors_30', 'ncd_anchors_31', 'ncd_anchors_32',\n",
       "       'ncd_anchors_33', 'ncd_anchors_34', 'ncd_anchors_35',\n",
       "       'ncd_anchors_36', 'ncd_anchors_37', 'ncd_anchors_38',\n",
       "       'ncd_anchors_39', 'ncd_anchors_4', 'ncd_anchors_40',\n",
       "       'ncd_anchors_41', 'ncd_anchors_42', 'ncd_anchors_43',\n",
       "       'ncd_anchors_44', 'ncd_anchors_45', 'ncd_anchors_46',\n",
       "       'ncd_anchors_48', 'ncd_anchors_49', 'ncd_anchors_5',\n",
       "       'ncd_anchors_50', 'ncd_anchors_51', 'ncd_anchors_52',\n",
       "       'ncd_anchors_53', 'ncd_anchors_55', 'ncd_anchors_56',\n",
       "       'ncd_anchors_58', 'ncd_anchors_6', 'ncd_anchors_60',\n",
       "       'ncd_anchors_61', 'ncd_anchors_63', 'ncd_anchors_64',\n",
       "       'ncd_anchors_65', 'ncd_anchors_66', 'ncd_anchors_67',\n",
       "       'ncd_anchors_68', 'ncd_anchors_7', 'ncd_anchors_70',\n",
       "       'ncd_anchors_73', 'ncd_anchors_74', 'ncd_anchors_75',\n",
       "       'ncd_anchors_76', 'ncd_anchors_78', 'ncd_anchors_79',\n",
       "       'ncd_anchors_8', 'ncd_anchors_80', 'ncd_anchors_81',\n",
       "       'ncd_anchors_82', 'ncd_anchors_83', 'ncd_anchors_84',\n",
       "       'ncd_anchors_85', 'ncd_anchors_86', 'ncd_anchors_87',\n",
       "       'ncd_anchors_88', 'ncd_anchors_89', 'ncd_anchors_9',\n",
       "       'ncd_anchors_90', 'ncd_anchors_91', 'ncd_anchors_92',\n",
       "       'ncd_anchors_93', 'ncd_anchors_94', 'ncd_anchors_95', 'neck',\n",
       "       'photon_ball', 'world'], \n",
       "      dtype='|S15')"
      ]
     },
     "execution_count": 7,
     "metadata": {},
     "output_type": "execute_result"
    }
   ],
   "source": [
    "np.unique(snoplus['end_volume'])"
   ]
  },
  {
   "cell_type": "code",
   "execution_count": 8,
   "metadata": {
    "collapsed": false
   },
   "outputs": [],
   "source": [
    "# Replace\n",
    "for i in range(len(snoplus['end_volume'])):\n",
    "    if 'ropes' in snoplus['end_volume'][i]:\n",
    "        snoplus['end_volume'][i] = 'ropes'"
   ]
  },
  {
   "cell_type": "code",
   "execution_count": 9,
   "metadata": {
    "collapsed": true
   },
   "outputs": [],
   "source": [
    "# Replace\n",
    "for i in range(len(snoplus['end_volume'])):\n",
    "    if 'anchors' in snoplus['end_volume'][i]:\n",
    "        snoplus['end_volume'][i] = 'anchors'"
   ]
  },
  {
   "cell_type": "code",
   "execution_count": 10,
   "metadata": {
    "collapsed": false
   },
   "outputs": [
    {
     "name": "stdout",
     "output_type": "stream",
     "text": [
      "No ratreader file. Opening it for the first time\n"
     ]
    }
   ],
   "source": [
    "# Opening the file\n",
    "infile_dir = '/home/jp/projects/snoplus/ratout/nativegeo_validation/tracking_nopmt/native'\n",
    "infile_name = 'pbomb500.root'\n",
    "ratreader = openRat(infile_dir, infile_name, ratreader)\n",
    "nativegeo = doRead(ratreader=ratreader, max_photons = 10000000)"
   ]
  },
  {
   "cell_type": "code",
   "execution_count": 11,
   "metadata": {
    "collapsed": false
   },
   "outputs": [
    {
     "data": {
      "text/plain": [
       "array(['NULL', 'cavity', 'snoav', 'snorope', 'snosv', 'world'], \n",
       "      dtype='|S7')"
      ]
     },
     "execution_count": 11,
     "metadata": {},
     "output_type": "execute_result"
    }
   ],
   "source": [
    "np.unique(nativegeo['end_volume'])"
   ]
  },
  {
   "cell_type": "code",
   "execution_count": 12,
   "metadata": {
    "collapsed": false
   },
   "outputs": [
    {
     "name": "stdout",
     "output_type": "stream",
     "text": [
      "5168452\n"
     ]
    }
   ],
   "source": [
    "print len(nativegeo['end_volume'])"
   ]
  },
  {
   "cell_type": "code",
   "execution_count": 62,
   "metadata": {
    "collapsed": false
   },
   "outputs": [],
   "source": [
    "def getVolumeStats(data, geometry, theta_range = [0, np.pi]):\n",
    "    if geometry == 'native':\n",
    "        volumes = ['NULL', 'cavity', 'snoav', 'snorope', 'snosv', 'world']\n",
    "    else:\n",
    "        volumes = ['av', 'cavity', 'inner_av','neck', 'world', 'ropes', 'anchors']\n",
    "        \n",
    "    mybool = np.array([True]*len(data['end_volume']))\n",
    "    mybool *= (data['theta_dir'] < theta_range[1]) * (data['theta_dir'] > theta_range[0])\n",
    "    print 'Total ', np.sum(mybool)\n",
    "    out_txt = str(np.sum(mybool)) + '\\n'\n",
    "    print geometry\n",
    "    for one_volume in volumes:\n",
    "        top = np.sum(data['end_volume'][mybool] == one_volume)*1.\n",
    "        bottom = len(data['end_volume'][mybool])\n",
    "        ratio = top/bottom\n",
    "        \n",
    "        rel_error_top    = np.sqrt(top)/top\n",
    "        rel_error_bottom = np.sqrt(bottom)/bottom\n",
    "        \n",
    "        error = np.sqrt(rel_error_top**2 + rel_error_bottom**2)\n",
    "        \n",
    "        print one_volume, \"%.3f\" % ratio + ' +/-'+\"%.3f\" % error\n",
    "        out_txt +=\"%.3f\" % ratio + ' +/-'+\"%.3f\" % error + '\\n'\n",
    "        \n",
    "    print out_txt"
   ]
  },
  {
   "cell_type": "markdown",
   "metadata": {},
   "source": [
    "### Attenuation numbers - SNOPLUS official geometry"
   ]
  },
  {
   "cell_type": "code",
   "execution_count": 63,
   "metadata": {
    "collapsed": false,
    "scrolled": true
   },
   "outputs": [
    {
     "name": "stdout",
     "output_type": "stream",
     "text": [
      "Total  5161336\n",
      "official\n",
      "av 0.041 +/-0.002\n",
      "cavity 0.188 +/-0.001\n",
      "inner_av 0.048 +/-0.002\n",
      "neck 0.002 +/-0.009\n",
      "world 0.698 +/-0.001\n",
      "ropes 0.022 +/-0.003\n",
      "anchors 0.000 +/-0.067\n",
      "5161336\n",
      "0.041 +/-0.002\n",
      "0.188 +/-0.001\n",
      "0.048 +/-0.002\n",
      "0.002 +/-0.009\n",
      "0.698 +/-0.001\n",
      "0.022 +/-0.003\n",
      "0.000 +/-0.067\n",
      "\n"
     ]
    }
   ],
   "source": [
    "getVolumeStats(snoplus, 'official', theta_range = [np.deg2rad(0), np.deg2rad(180)])"
   ]
  },
  {
   "cell_type": "code",
   "execution_count": 64,
   "metadata": {
    "collapsed": false
   },
   "outputs": [
    {
     "name": "stdout",
     "output_type": "stream",
     "text": [
      "Total  2194885\n",
      "official\n",
      "av 0.041 +/-0.003\n",
      "cavity 0.195 +/-0.002\n",
      "inner_av 0.048 +/-0.003\n",
      "neck 0.001 +/-0.030\n",
      "world 0.684 +/-0.001\n",
      "ropes 0.032 +/-0.004\n",
      "anchors 0.000 +/-0.258\n",
      "2194885\n",
      "0.041 +/-0.003\n",
      "0.195 +/-0.002\n",
      "0.048 +/-0.003\n",
      "0.001 +/-0.030\n",
      "0.684 +/-0.001\n",
      "0.032 +/-0.004\n",
      "0.000 +/-0.258\n",
      "\n"
     ]
    }
   ],
   "source": [
    "getVolumeStats(snoplus, 'official', theta_range = [np.deg2rad(8.), np.deg2rad(82.)])"
   ]
  },
  {
   "cell_type": "code",
   "execution_count": 65,
   "metadata": {
    "collapsed": false
   },
   "outputs": [
    {
     "name": "stdout",
     "output_type": "stream",
     "text": [
      "Total  719716\n",
      "official\n",
      "av 0.043 +/-0.006\n",
      "cavity 0.130 +/-0.003\n",
      "inner_av 0.047 +/-0.006\n",
      "neck 0.000 +/-0.079\n",
      "world 0.757 +/-0.002\n",
      "ropes 0.022 +/-0.008\n",
      "anchors 0.000 +/-0.408\n",
      "719716\n",
      "0.043 +/-0.006\n",
      "0.130 +/-0.003\n",
      "0.047 +/-0.006\n",
      "0.000 +/-0.079\n",
      "0.757 +/-0.002\n",
      "0.022 +/-0.008\n",
      "0.000 +/-0.408\n",
      "\n"
     ]
    }
   ],
   "source": [
    "getVolumeStats(snoplus, 'official', theta_range = [np.deg2rad(82), np.deg2rad(98)])"
   ]
  },
  {
   "cell_type": "code",
   "execution_count": 66,
   "metadata": {
    "collapsed": false
   },
   "outputs": [
    {
     "name": "stdout",
     "output_type": "stream",
     "text": [
      "Total  2221480\n",
      "official\n",
      "av 0.041 +/-0.003\n",
      "cavity 0.201 +/-0.002\n",
      "inner_av 0.048 +/-0.003\n",
      "neck 0.000 +/-0.039\n",
      "world 0.697 +/-0.001\n",
      "ropes 0.013 +/-0.006\n",
      "anchors 0.000 +/-0.070\n",
      "2221480\n",
      "0.041 +/-0.003\n",
      "0.201 +/-0.002\n",
      "0.048 +/-0.003\n",
      "0.000 +/-0.039\n",
      "0.697 +/-0.001\n",
      "0.013 +/-0.006\n",
      "0.000 +/-0.070\n",
      "\n"
     ]
    }
   ],
   "source": [
    "getVolumeStats(snoplus, 'official', theta_range = [np.deg2rad(98), np.deg2rad(180)])"
   ]
  },
  {
   "cell_type": "markdown",
   "metadata": {},
   "source": [
    "### Attenuation numbers - NATIVE geometry"
   ]
  },
  {
   "cell_type": "code",
   "execution_count": 67,
   "metadata": {
    "collapsed": false
   },
   "outputs": [
    {
     "name": "stdout",
     "output_type": "stream",
     "text": [
      "Total  5168452\n",
      "native\n",
      "NULL 0.001 +/-0.012\n",
      "cavity 0.187 +/-0.001\n",
      "snoav 0.045 +/-0.002\n",
      "snorope 0.020 +/-0.003\n",
      "snosv 0.050 +/-0.002\n",
      "world 0.696 +/-0.001\n",
      "5168452\n",
      "0.001 +/-0.012\n",
      "0.187 +/-0.001\n",
      "0.045 +/-0.002\n",
      "0.020 +/-0.003\n",
      "0.050 +/-0.002\n",
      "0.696 +/-0.001\n",
      "\n"
     ]
    }
   ],
   "source": [
    "getVolumeStats(nativegeo, 'native', theta_range = [np.deg2rad(0), np.deg2rad(180)])"
   ]
  },
  {
   "cell_type": "code",
   "execution_count": 68,
   "metadata": {
    "collapsed": false
   },
   "outputs": [
    {
     "name": "stdout",
     "output_type": "stream",
     "text": [
      "Total  2197428\n",
      "native\n",
      "NULL 0.001 +/-0.021\n",
      "cavity 0.195 +/-0.002\n",
      "snoav 0.043 +/-0.003\n",
      "snorope 0.030 +/-0.004\n",
      "snosv 0.048 +/-0.003\n",
      "world 0.683 +/-0.001\n",
      "2197428\n",
      "0.001 +/-0.021\n",
      "0.195 +/-0.002\n",
      "0.043 +/-0.003\n",
      "0.030 +/-0.004\n",
      "0.048 +/-0.003\n",
      "0.683 +/-0.001\n",
      "\n"
     ]
    }
   ],
   "source": [
    "getVolumeStats(nativegeo, 'native', theta_range = [np.deg2rad(8), np.deg2rad(82)])"
   ]
  },
  {
   "cell_type": "code",
   "execution_count": 69,
   "metadata": {
    "collapsed": false
   },
   "outputs": [
    {
     "name": "stdout",
     "output_type": "stream",
     "text": [
      "Total  718429\n",
      "native\n",
      "NULL 0.002 +/-0.027\n",
      "cavity 0.126 +/-0.004\n",
      "snoav 0.050 +/-0.005\n",
      "snorope 0.022 +/-0.008\n",
      "snosv 0.057 +/-0.005\n",
      "world 0.743 +/-0.002\n",
      "718429\n",
      "0.002 +/-0.027\n",
      "0.126 +/-0.004\n",
      "0.050 +/-0.005\n",
      "0.022 +/-0.008\n",
      "0.057 +/-0.005\n",
      "0.743 +/-0.002\n",
      "\n"
     ]
    }
   ],
   "source": [
    "getVolumeStats(nativegeo, 'native', theta_range = [np.deg2rad(82), np.deg2rad(98)])"
   ]
  },
  {
   "cell_type": "code",
   "execution_count": 70,
   "metadata": {
    "collapsed": false
   },
   "outputs": [
    {
     "name": "stdout",
     "output_type": "stream",
     "text": [
      "Total  2227130\n",
      "native\n",
      "NULL 0.002 +/-0.016\n",
      "cavity 0.200 +/-0.002\n",
      "snoav 0.044 +/-0.003\n",
      "snorope 0.010 +/-0.007\n",
      "snosv 0.049 +/-0.003\n",
      "world 0.695 +/-0.001\n",
      "2227130\n",
      "0.002 +/-0.016\n",
      "0.200 +/-0.002\n",
      "0.044 +/-0.003\n",
      "0.010 +/-0.007\n",
      "0.049 +/-0.003\n",
      "0.695 +/-0.001\n",
      "\n"
     ]
    }
   ],
   "source": [
    "getVolumeStats(nativegeo, 'native', theta_range = [np.deg2rad(98), np.deg2rad(180)])"
   ]
  },
  {
   "cell_type": "code",
   "execution_count": 16,
   "metadata": {
    "collapsed": false
   },
   "outputs": [],
   "source": [
    "# Lets find out the position where the photons die for a thin slice in z\n",
    "def deadInRope(data, zmin = 3000., zwidth = 200, end_volume = 'ropes'):\n",
    "    zmax = zmin + zwidth\n",
    "    zbool = (data['end_position'][:,2] > zmin)*(data['end_position'][:,2] < zmax)\n",
    "    zbool *= (data['end_volume'] == end_volume)\n",
    "    print np.sum(zbool)\n",
    "    plt.plot(data['end_position'][zbool,0], data['end_position'][zbool,1], '.')"
   ]
  },
  {
   "cell_type": "code",
   "execution_count": 17,
   "metadata": {
    "collapsed": false
   },
   "outputs": [
    {
     "name": "stdout",
     "output_type": "stream",
     "text": [
      "1931\n"
     ]
    },
    {
     "data": {
      "image/png": "[encoded data removed]",
      "text/plain": [
       "<matplotlib.figure.Figure at 0x7f821f61d710>"
      ]
     },
     "metadata": {},
     "output_type": "display_data"
    }
   ],
   "source": [
    "deadInRope(snoplus)"
   ]
  },
  {
   "cell_type": "code",
   "execution_count": 18,
   "metadata": {
    "collapsed": false
   },
   "outputs": [
    {
     "name": "stdout",
     "output_type": "stream",
     "text": [
      "1989\n"
     ]
    },
    {
     "data": {
      "image/png": "[encoded data removed]",
      "text/plain": [
       "<matplotlib.figure.Figure at 0x7f81fdce30d0>"
      ]
     },
     "metadata": {},
     "output_type": "display_data"
    }
   ],
   "source": [
    "deadInRope(nativegeo, end_volume='snorope')"
   ]
  },
  {
   "cell_type": "code",
   "execution_count": null,
   "metadata": {
    "collapsed": true
   },
   "outputs": [],
   "source": []
  }
 ],
 "metadata": {
  "kernelspec": {
   "display_name": "Python 2",
   "language": "python",
   "name": "python2"
  },
  "language_info": {
   "codemirror_mode": {
    "name": "ipython",
    "version": 2
   },
   "file_extension": ".py",
   "mimetype": "text/x-python",
   "name": "python",
   "nbconvert_exporter": "python",
   "pygments_lexer": "ipython2",
   "version": "2.7.11"
  }
 },
 "nbformat": 4,
 "nbformat_minor": 0
}
