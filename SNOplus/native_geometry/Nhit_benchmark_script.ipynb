{
 "cells": [
  {
   "cell_type": "markdown",
   "metadata": {},
   "source": [
    "## Generic benchmarking script for nhits"
   ]
  },
  {
   "cell_type": "code",
   "execution_count": 3,
   "metadata": {
    "collapsed": false
   },
   "outputs": [
    {
     "data": {
      "text/plain": [
       "<module 'snoplots' from '/home/jpyanez/snoplus/snoplus_python/snoplots.pyc'>"
      ]
     },
     "execution_count": 3,
     "metadata": {},
     "output_type": "execute_result"
    }
   ],
   "source": [
    "import ROOT, rat\n",
    "import os, sys\n",
    "import matplotlib.pyplot as plt\n",
    "import numpy as np\n",
    "%matplotlib inline  \n",
    "\n",
    "sys.path.append('/home/jpyanez/snoplus/snoplus_python')\n",
    "import jp_mpl as jplot\n",
    "import lowlevel_stats\n",
    "reload(lowlevel_stats)\n",
    "import snoplots\n",
    "reload(snoplots)"
   ]
  },
  {
   "cell_type": "code",
   "execution_count": 6,
   "metadata": {
    "collapsed": true
   },
   "outputs": [],
   "source": [
    "basedir = '/home/jpyanez/snoplus/rundir/benchmark_5MeV_electrons'"
   ]
  },
  {
   "cell_type": "markdown",
   "metadata": {},
   "source": [
    "#### Water comparisons"
   ]
  },
  {
   "cell_type": "code",
   "execution_count": 35,
   "metadata": {
    "collapsed": false
   },
   "outputs": [],
   "source": [
    "test_file = os.path.join(basedir, 'native_geo_scint.root')"
   ]
  },
  {
   "cell_type": "code",
   "execution_count": 36,
   "metadata": {
    "collapsed": true
   },
   "outputs": [],
   "source": [
    "std_file = os.path.join(basedir, 'std_geo_scint.root')"
   ]
  },
  {
   "cell_type": "code",
   "execution_count": 37,
   "metadata": {
    "collapsed": false
   },
   "outputs": [],
   "source": [
    "test_hits, test_q = lowlevel_stats.getHitRegions(test_file)"
   ]
  },
  {
   "cell_type": "code",
   "execution_count": 38,
   "metadata": {
    "collapsed": false
   },
   "outputs": [],
   "source": [
    "std_hits, std_q = lowlevel_stats.getHitRegions(std_file)"
   ]
  },
  {
   "cell_type": "markdown",
   "metadata": {},
   "source": [
    "### Numbers"
   ]
  },
  {
   "cell_type": "code",
   "execution_count": 39,
   "metadata": {
    "collapsed": false
   },
   "outputs": [
    {
     "name": "stdout",
     "output_type": "stream",
     "text": [
      "ALL integrated\n",
      "Standard case Nhit 1183.14942529\n",
      "Test case Nhit 1196.20895522\n",
      "\n",
      "TOP region\n",
      "Standard case Nhit 481.436781609\n",
      "Test case Nhit 505.130597015\n",
      "\n",
      "MIDDLE region\n",
      "Standard case Nhit 175.75862069\n",
      "Test case Nhit 168.791044776\n",
      "\n",
      "BOTTOM region\n",
      "Standard case Nhit 525.954022989\n",
      "Test case Nhit 522.287313433\n"
     ]
    }
   ],
   "source": [
    "# Making a plot to compare totals\n",
    "print 'ALL integrated'\n",
    "print 'Standard case Nhit', std_hits.sum(axis=1).mean()\n",
    "print 'Test case Nhit', test_hits.sum(axis=1).mean()\n",
    "\n",
    "# Now looking at different regions\n",
    "print '\\nTOP region'\n",
    "print 'Standard case Nhit', std_hits[:,0].mean()\n",
    "print 'Test case Nhit', test_hits[:,0].mean()\n",
    "\n",
    "print '\\nMIDDLE region'\n",
    "print 'Standard case Nhit', std_hits[:,1].mean()\n",
    "print 'Test case Nhit', test_hits[:,1].mean()\n",
    "\n",
    "print '\\nBOTTOM region'\n",
    "print 'Standard case Nhit', std_hits[:,2].mean()\n",
    "print 'Test case Nhit', test_hits[:,2].mean()"
   ]
  },
  {
   "cell_type": "code",
   "execution_count": 77,
   "metadata": {
    "collapsed": true
   },
   "outputs": [],
   "source": [
    "xaxis = np.arange(0, 3001, 100)\n",
    "#xaxis = np.arange(0, 71, 2)\n"
   ]
  },
  {
   "cell_type": "code",
   "execution_count": 78,
   "metadata": {
    "collapsed": false
   },
   "outputs": [
    {
     "data": {
      "text/plain": [
       "<matplotlib.text.Text at 0x2b6dc2997690>"
      ]
     },
     "execution_count": 78,
     "metadata": {},
     "output_type": "execute_result"
    },
    {
     "data": {
      "image/png": "[encoded data removed]",
      "text/plain": [
       "<matplotlib.figure.Figure at 0x2b6dc28c2050>"
      ]
     },
     "metadata": {},
     "output_type": "display_data"
    }
   ],
   "source": [
    "# Figures that compare the three regions\n",
    "\n",
    "\n",
    "nstd, _ = np.histogram(std_hits.sum(axis=1), xaxis)\n",
    "ntst, _ = np.histogram(test_hits.sum(axis=1), xaxis)\n",
    "\n",
    "jplot.unfilledBar(xaxis, nstd, label='Standard case', color = 'k')\n",
    "jplot.unfilledBar(xaxis, ntst, label = 'Test case', color = 'b')\n",
    "plt.legend(loc=0)\n",
    "plt.title('All PMTs')"
   ]
  },
  {
   "cell_type": "code",
   "execution_count": 79,
   "metadata": {
    "collapsed": false
   },
   "outputs": [
    {
     "data": {
      "text/plain": [
       "<matplotlib.text.Text at 0x2b6dc2a69210>"
      ]
     },
     "execution_count": 79,
     "metadata": {},
     "output_type": "execute_result"
    },
    {
     "data": {
      "image/png": "[encoded data removed]",
      "text/plain": [
       "<matplotlib.figure.Figure at 0x2b6dc29832d0>"
      ]
     },
     "metadata": {},
     "output_type": "display_data"
    }
   ],
   "source": [
    "# Figures that compare the three regions\n",
    "myax = 0\n",
    "nstd, _ = np.histogram(std_hits[:,myax], xaxis)\n",
    "ntst, _ = np.histogram(test_hits[:,myax], xaxis)\n",
    "\n",
    "jplot.unfilledBar(xaxis, nstd, label='Standard case', color = 'k')\n",
    "jplot.unfilledBar(xaxis, ntst, label = 'Test case', color = 'b')\n",
    "plt.legend(loc=0)\n",
    "plt.title('TOP PMTs')"
   ]
  },
  {
   "cell_type": "code",
   "execution_count": 80,
   "metadata": {
    "collapsed": false
   },
   "outputs": [
    {
     "data": {
      "text/plain": [
       "<matplotlib.text.Text at 0x2b6dc2b3d550>"
      ]
     },
     "execution_count": 80,
     "metadata": {},
     "output_type": "execute_result"
    },
    {
     "data": {
      "image/png": "[encoded data removed]",
      "text/plain": [
       "<matplotlib.figure.Figure at 0x2b6dc2a5e5d0>"
      ]
     },
     "metadata": {},
     "output_type": "display_data"
    }
   ],
   "source": [
    "# Figures that compare the three regions\n",
    "myax = 1\n",
    "nstd, _ = np.histogram(std_hits[:,myax], xaxis)\n",
    "ntst, _ = np.histogram(test_hits[:,myax], xaxis)\n",
    "\n",
    "jplot.unfilledBar(xaxis, nstd, label='Standard case', color = 'k')\n",
    "jplot.unfilledBar(xaxis, ntst, label = 'Test case', color = 'b')\n",
    "plt.legend(loc=0)\n",
    "plt.title('MIDDLE PMTs')"
   ]
  },
  {
   "cell_type": "code",
   "execution_count": 81,
   "metadata": {
    "collapsed": false
   },
   "outputs": [
    {
     "data": {
      "text/plain": [
       "<matplotlib.text.Text at 0x2b6dc2c0f490>"
      ]
     },
     "execution_count": 81,
     "metadata": {},
     "output_type": "execute_result"
    },
    {
     "data": {
      "image/png": "[encoded data removed]",
      "text/plain": [
       "<matplotlib.figure.Figure at 0x2b6dc2b34910>"
      ]
     },
     "metadata": {},
     "output_type": "display_data"
    }
   ],
   "source": [
    "# Figures that compare the three regions\n",
    "myax = 2\n",
    "nstd, _ = np.histogram(std_hits[:,myax], xaxis)\n",
    "ntst, _ = np.histogram(test_hits[:,myax], xaxis)\n",
    "\n",
    "jplot.unfilledBar(xaxis, nstd, label='Standard case', color = 'k')\n",
    "jplot.unfilledBar(xaxis, ntst, label = 'Test case', color = 'b')\n",
    "plt.legend(loc=0)\n",
    "plt.title('BOTTOM PMTs')"
   ]
  },
  {
   "cell_type": "code",
   "execution_count": null,
   "metadata": {
    "collapsed": true
   },
   "outputs": [],
   "source": []
  },
  {
   "cell_type": "code",
   "execution_count": null,
   "metadata": {
    "collapsed": true
   },
   "outputs": [],
   "source": []
  },
  {
   "cell_type": "code",
   "execution_count": null,
   "metadata": {
    "collapsed": true
   },
   "outputs": [],
   "source": []
  }
 ],
 "metadata": {
  "kernelspec": {
   "display_name": "Python 2",
   "language": "python",
   "name": "python2"
  },
  "language_info": {
   "codemirror_mode": {
    "name": "ipython",
    "version": 2
   },
   "file_extension": ".py",
   "mimetype": "text/x-python",
   "name": "python",
   "nbconvert_exporter": "python",
   "pygments_lexer": "ipython2",
   "version": "2.7.10"
  }
 },
 "nbformat": 4,
 "nbformat_minor": 0
}
