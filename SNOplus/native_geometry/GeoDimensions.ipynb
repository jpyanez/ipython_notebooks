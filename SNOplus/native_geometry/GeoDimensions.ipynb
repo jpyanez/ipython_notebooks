{
 "cells": [
  {
   "cell_type": "code",
   "execution_count": 1,
   "metadata": {
    "collapsed": true
   },
   "outputs": [],
   "source": [
    "import numpy as np"
   ]
  },
  {
   "cell_type": "code",
   "execution_count": 105,
   "metadata": {
    "collapsed": false
   },
   "outputs": [],
   "source": [
    "inch2mm          = 25.4;\n",
    "\n",
    "# MEASUREMENTS\n",
    "\n",
    "# AV - 2009 survey\n",
    "innerAVradius    = 6001.; # 6011.4; This is the measurement\n",
    "bellyInnerRadius = 5978.4; # 5978.1; This is the measurement\n",
    "# Ropes\n",
    "fDownRopeRadius      = 30./2.; # 19.812; # 30./2; Measurement\n",
    "fUpRopeRadius        = 16.5/2.; # 9.54; # 16.5/2;  Measurement\n",
    "  \n",
    "# DESIGN VALUES\n",
    "\n",
    "# PSUP radius\n",
    "psupRadius       = 8390.;\n",
    "# AV + Belly plate design 17-702-F-6499-02_Rev_01\n",
    "avThickness    = 2.17*inch2mm;\n",
    "bpAddThickness = 1.1*inch2mm;\n",
    "ncdHeight      = 2.25*inch2mm;\n",
    "fGrooveInRadius = 19.25*inch2mm;\n",
    "fGrooveRadius   = 20.55*inch2mm+0.03;\n",
    "fSlotHalfWidth  = 0.375*inch2mm-0.025;\n",
    "fGrooveDepth    = 1.5*inch2mm;\n",
    "\n",
    "# Belly plate dimensions from RPT 303489 - Design\n",
    "bpInSideMin = 25.624*inch2mm;\n",
    "bpInSideMax = 29.969*inch2mm;\n",
    "bpOutSideMin = 26.095*inch2mm;\n",
    "bpOutSideMax = 30.325*inch2mm;\n",
    "\n",
    "# NCD dimensions\n",
    "ncdRmax = 1.5*inch2mm;\n",
    "  \n",
    "# Neck dimensions from 17-702-F-6499-01 Rev 02\n",
    "fNeckThickness       = 2.55*inch2mm;\n",
    "fNeckBossThickness   = 7.48*inch2mm;\n",
    "fNeckBossHeight      = 18.*inch2mm;\n",
    "fNeckBossFeature     = 12.38*inch2mm;# The shoulder of the neck boss on the outer side\n",
    "fNeckTop             = 42*12*inch2mm; # End of the neck\n",
    "  \n",
    "fNeckInnerRadius     = 57.40/2*inch2mm;\n",
    "fNeckBossInnerRadius = 55.40/2*inch2mm;\n",
    "fNeckBossCurveVert   = 4.33*inch2mm;\n",
    "fNeckBossCurveHor    = 4.8*inch2mm;\n",
    "\n",
    "# Derived quantities used in multiple places\n",
    "outerAVradius    = innerAVradius + avThickness;\n",
    "ncdTops          = innerAVradius - ncdHeight;  # AVin - NCD size\n",
    "bellyOuterRadius = outerAVradius + bpAddThickness;   # AVout + belly plate extra thickness\n",
    "fNeckBossOuterRadius = fNeckBossInnerRadius + fNeckBossThickness; #    radius of hole in neck=55.4/2\"+7.48\"\n",
    "fNeckZ1_inner = np.sqrt(innerAVradius*innerAVradius-pow(fNeckBossOuterRadius+fNeckBossCurveHor,2))-fNeckBossCurveVert;\n",
    "fGrooveHalfWidth = fGrooveRadius - fGrooveInRadius - 0.05; "
   ]
  },
  {
   "cell_type": "code",
   "execution_count": 118,
   "metadata": {
    "collapsed": false
   },
   "outputs": [
    {
     "data": {
      "text/plain": [
       "5943.85"
      ]
     },
     "execution_count": 118,
     "metadata": {},
     "output_type": "execute_result"
    }
   ],
   "source": [
    "6001-2.25*25.4"
   ]
  },
  {
   "cell_type": "code",
   "execution_count": 106,
   "metadata": {
    "collapsed": true
   },
   "outputs": [],
   "source": [
    "inch = 25.4"
   ]
  },
  {
   "cell_type": "code",
   "execution_count": 107,
   "metadata": {
    "collapsed": false
   },
   "outputs": [
    {
     "name": "stdout",
     "output_type": "stream",
     "text": [
      "Validate SNOAV\n",
      "Definition\n",
      "6056.118 6084.058\n",
      "6056.118 6084.058\n",
      "fRadii[0]\n",
      "6056.118\n",
      "6056.118\n",
      "fRadii[1]\n",
      "6084.058\n",
      "6084.058\n",
      "fNeckRadius\n",
      "894.5\n",
      "893.572\n",
      "fNeckBossOuterRadius\n",
      "893.572\n",
      "893.572\n",
      "fNeckOuterRadius\n",
      "793.75\n",
      "793.75\n",
      "fNeckZ1 - warning here, fNeckBossOuterRadius has to match\n",
      "5989.83257786\n",
      "5989.83257786\n",
      "fNeckZ2\n",
      "6118.052\n",
      "6118.92491977\n",
      "fNeckZ3\n",
      "12801.6\n",
      "12801.6\n",
      "Belly plates\n",
      "662.813 770.255\n",
      "662.813 770.255\n",
      "Intersection above neck\n",
      "5771.8\n",
      "5804.47291977\n",
      "\n",
      "SNOAV has differences in intersections above neck and fNeckRadius\n",
      "Used original intersection value, and added 1mm to the neck radius\n"
     ]
    }
   ],
   "source": [
    "print 'Validate SNOAV'\n",
    "print 'Definition'\n",
    "print outerAVradius,bellyOuterRadius\n",
    "print 6001+2.17*25.4,6001+3.27*25.4\n",
    "\n",
    "print 'fRadii[0]'\n",
    "print 6001+2.17*inch;\n",
    "print outerAVradius\n",
    "\n",
    "print 'fRadii[1]'\n",
    "print 6001+2.17*inch+1.1*inch\n",
    "print bellyOuterRadius\n",
    "\n",
    "print 'fNeckRadius'\n",
    "print 894.5\n",
    "print fNeckBossOuterRadius\n",
    "\n",
    "print 'fNeckBossOuterRadius'\n",
    "print (55.4/2+7.48)*inch;\n",
    "print fNeckBossOuterRadius\n",
    "\n",
    "print 'fNeckOuterRadius'\n",
    "print (57.40/2+2.55)*inch;\n",
    "print fNeckInnerRadius + fNeckThickness\n",
    "\n",
    "print 'fNeckZ1 - warning here, fNeckBossOuterRadius has to match'\n",
    "print np.sqrt((6001+2.17*inch)**2-fNeckBossOuterRadius*fNeckBossOuterRadius);\n",
    "print np.sqrt(outerAVradius*outerAVradius-fNeckBossOuterRadius*fNeckBossOuterRadius)\n",
    "\n",
    "print 'fNeckZ2'\n",
    "print 5803.6+12.38*inch;\n",
    "print fNeckZ1_inner+fNeckBossFeature\n",
    "\n",
    "print 'fNeckZ3'\n",
    "print 42*12*inch;\n",
    "print fNeckTop\n",
    "\n",
    "print 'Belly plates'\n",
    "print bpOutSideMin,bpOutSideMax\n",
    "print 26.095*25.4, 30.325*25.4\n",
    "\n",
    "print 'Intersection above neck'\n",
    "print 5771.8\n",
    "print fNeckZ1_inner\n",
    "\n",
    "print '\\nSNOAV has differences in intersections above neck and fNeckRadius'\n",
    "print 'Used original intersection value, and added 1mm to the neck radius'"
   ]
  },
  {
   "cell_type": "code",
   "execution_count": 109,
   "metadata": {
    "collapsed": false
   },
   "outputs": [
    {
     "name": "stdout",
     "output_type": "stream",
     "text": [
      "AVBellyPlate\n",
      "522.0 522.0\n",
      "33.0 33.0\n",
      "522.0 521.5\n",
      "9.5 9.5\n",
      "6005.91705042 6005.91965777\n",
      "6044.01705042 6044.01965777\n",
      "Removed 0.5 from the slot radius to match original\n",
      "Added some extra stuff above as well\n"
     ]
    }
   ],
   "source": [
    "# Checking SNOAVBellyPlate now --- they all look fine (nothing to check in SNOSVBellyPlate)\n",
    "print 'AVBellyPlate'\n",
    "\n",
    "print fGrooveRadius, (489.+555.)/2\n",
    "print fGrooveHalfWidth, (555.-489.)/2\n",
    "print fGrooveRadius, (531.+512.)/2\n",
    "print fSlotHalfWidth, (531.0-512.0)/2\n",
    "print np.sqrt(pow(innerAVradius+avThickness/2.,2)-pow(fGrooveRadius,2)), np.sqrt(pow(6001+25.4*2.17/2,2)-pow(20.55*25.4,2))\n",
    "print np.sqrt(pow(innerAVradius+avThickness/2.,2)-pow(fGrooveRadius,2))+fGrooveDepth, np.sqrt(pow(6001+25.4*2.17/2,2)-pow(20.55*25.4,2))+1.50*25.4\n",
    "print 'Removed 0.5 from the slot radius to match original'\n",
    "print 'Added some extra stuff above as well'"
   ]
  },
  {
   "cell_type": "code",
   "execution_count": 110,
   "metadata": {
    "collapsed": false
   },
   "outputs": [
    {
     "name": "stdout",
     "output_type": "stream",
     "text": [
      "SNORopeLoop - reverted to original version\n"
     ]
    }
   ],
   "source": [
    "print 'SNORopeLoop - reverted to original version'"
   ]
  },
  {
   "cell_type": "code",
   "execution_count": 111,
   "metadata": {
    "collapsed": false
   },
   "outputs": [
    {
     "name": "stdout",
     "output_type": "stream",
     "text": [
      "SNORopeNet\n",
      "\n",
      "fRmin\n",
      "6056.2\n",
      "6056.218\n",
      "fRmax\n",
      "6084.058\n",
      "6084.018\n",
      "fZs\n",
      "-15 15\n",
      "-15.0 15.0\n",
      "\n",
      " The down rope radius is assumed to be an integer ... ok?\n",
      "Changed the fZs to be integers\n"
     ]
    }
   ],
   "source": [
    "print 'SNORopeNet'\n",
    "print '\\nfRmin'\n",
    "print 6056.2\n",
    "print outerAVradius + 0.1; \n",
    "print 'fRmax'\n",
    "print 6084.058\n",
    "print outerAVradius + 2*fDownRopeRadius - 2.1\n",
    "print 'fZs'\n",
    "print -15, 15\n",
    "print -1.*fDownRopeRadius,fDownRopeRadius\n",
    "\n",
    "print '\\n The down rope radius is assumed to be an integer ... ok?'\n",
    "print 'Changed the fZs to be integers'"
   ]
  },
  {
   "cell_type": "code",
   "execution_count": 112,
   "metadata": {
    "collapsed": false
   },
   "outputs": [
    {
     "name": "stdout",
     "output_type": "stream",
     "text": [
      "SNOSV\n",
      "\n",
      "Declaration\n",
      "5943.85 6001.0\n",
      "5943.85 6001\n",
      "fRadii[0]\n",
      "6001\n",
      "6001.0\n",
      "fRadii[1]\n",
      "5978.1\n",
      "5978.4\n",
      "fRadii[2]\n",
      "5943.85\n",
      "5943.85\n",
      "fRadii[3]\n",
      "6005\n",
      "6005.0\n",
      "\n",
      "Neck stuff\n",
      "fNeckRadius\n",
      "894.5\n",
      "893.572\n",
      "fNeckZs\n",
      "5804.47291977\n",
      "5804.47291977\n",
      "6261.67291977\n",
      "6261.67291977\n",
      "12801.6\n",
      "12801.6\n",
      "NeckInnerRadius\n",
      "728.98\n",
      "728.98\n",
      "fNeckBossInnerRadius\n",
      "703.58\n",
      "703.58\n",
      "Belly plates\n",
      "650.8496 761.2126\n",
      "650.8496 761.2126\n",
      "ncdRmax\n",
      "38.1 38.1\n"
     ]
    }
   ],
   "source": [
    "print 'SNOSV\\n'\n",
    "print 'Declaration'\n",
    "print  ncdTops, innerAVradius\n",
    "print 6001-2.25*25.4, 6001\n",
    "\n",
    "print 'fRadii[0]'\n",
    "print 6001\n",
    "print innerAVradius\n",
    "print 'fRadii[1]'\n",
    "print  5978.1\n",
    "print bellyInnerRadius;\n",
    "print 'fRadii[2]'\n",
    "print 6001  - 2.25*25.4;\n",
    "print ncdTops\n",
    "print 'fRadii[3]'\n",
    "print  6005;\n",
    "print innerAVradius + 4.;\n",
    "\n",
    "print '\\nNeck stuff'\n",
    "print 'fNeckRadius'\n",
    "print 894.5\n",
    "print fNeckBossOuterRadius\n",
    "print 'fNeckZs'\n",
    "fRadii = [6001]\n",
    "fNeckZ1 = np.sqrt(fRadii[0]*fRadii[0]-pow((55.4/2+7.48+4.8)*inch,2))-4.33*inch\n",
    "print np.sqrt(fRadii[0]*fRadii[0]-pow((55.4/2+7.48+4.8)*inch,2))-4.33*inch\n",
    "print fNeckZ1_inner\n",
    "\n",
    "print fNeckZ1+18*inch\n",
    "print fNeckZ1_inner+fNeckBossHeight\n",
    "\n",
    "print 42*12*inch\n",
    "print fNeckTop\n",
    "\n",
    "print 'NeckInnerRadius'\n",
    "print 57.40/2*inch\n",
    "print fNeckInnerRadius\n",
    "print 'fNeckBossInnerRadius'\n",
    "print 55.40/2*inch\n",
    "print fNeckBossInnerRadius\n",
    "\n",
    "\n",
    "print 'Belly plates'\n",
    "print 25.624*25.4, 29.969*25.4\n",
    "print bpInSideMin, bpInSideMax\n",
    "\n",
    "print 'ncdRmax'\n",
    "print  1.5*25.4, ncdRmax"
   ]
  },
  {
   "cell_type": "code",
   "execution_count": 113,
   "metadata": {
    "collapsed": false
   },
   "outputs": [
    {
     "name": "stdout",
     "output_type": "stream",
     "text": [
      "The neck radius is slightly larger in the original (1mm)\n",
      "Declaration fRadii[0] and fRadii[3] are integers\n",
      "Changed both\n"
     ]
    }
   ],
   "source": [
    "print 'The neck radius is slightly larger in the original (1mm)'\n",
    "print 'Declaration fRadii[0] and fRadii[3] are integers'\n",
    "print 'Changed both'"
   ]
  },
  {
   "cell_type": "code",
   "execution_count": 114,
   "metadata": {
    "collapsed": false
   },
   "outputs": [
    {
     "name": "stdout",
     "output_type": "stream",
     "text": [
      "SrepaderRope\n",
      "\n",
      "15 6056.2 6084.058\n",
      "15.0 6056.218 6086.118\n"
     ]
    }
   ],
   "source": [
    "print 'SrepaderRope\\n'\n",
    "print 15, 6056.2, 6084.058\n",
    "print fDownRopeRadius, outerAVradius + 0.1, outerAVradius+2*fDownRopeRadius"
   ]
  },
  {
   "cell_type": "code",
   "execution_count": 115,
   "metadata": {
    "collapsed": false
   },
   "outputs": [
    {
     "name": "stdout",
     "output_type": "stream",
     "text": [
      "The fRmax is smaller for the original native geo and the downrope is an integer\n",
      "Fixed both\n"
     ]
    }
   ],
   "source": [
    "print 'The fRmax is smaller for the original native geo and the downrope is an integer'\n",
    "print 'Fixed both'"
   ]
  },
  {
   "cell_type": "code",
   "execution_count": 116,
   "metadata": {
    "collapsed": false
   },
   "outputs": [
    {
     "name": "stdout",
     "output_type": "stream",
     "text": [
      "SNORope\n",
      "\n",
      "Declaration\n",
      "6056.118 6084.058\n",
      "6056.118 6086.118\n",
      "favradius\n",
      "6056.2\n",
      "6056.218\n",
      "fropecylinder\n",
      "6047\n",
      "6047.559\n",
      "fDownropeRadius\n",
      "15.0\n",
      "15.0\n",
      "fUpRopeRadius\n",
      "8.25\n",
      "8.25\n",
      "fUpZMax\n",
      "5816.00300894\n",
      "5816.00300894\n",
      "fDownZMin\n",
      "-5790.73661636\n",
      "-5790.73661636\n"
     ]
    }
   ],
   "source": [
    "print 'SNORope\\n'\n",
    "print 'Declaration'\n",
    "print 6056.118, 6084.058\n",
    "print  outerAVradius, outerAVradius+2*fDownRopeRadius\n",
    "print 'favradius'\n",
    "fAVRadius =  6056.2\n",
    "print 6056.2\n",
    "print outerAVradius + 0.1\n",
    "print 'fropecylinder'\n",
    "print 6047\n",
    "print innerAVradius + avThickness/2. + 2*fSlotHalfWidth\n",
    "fRopeCylinderRadius = 6047\n",
    "print 'fDownropeRadius'\n",
    "print 30.0/2\n",
    "print fDownRopeRadius\n",
    "print 'fUpRopeRadius'\n",
    "print 16.5/2\n",
    "print fUpRopeRadius\n",
    "print 'fUpZMax'\n",
    "print np.sqrt(8390*8390-fRopeCylinderRadius*fRopeCylinderRadius)\n",
    "print np.sqrt(psupRadius*psupRadius-fRopeCylinderRadius*fRopeCylinderRadius)\n",
    "print 'fDownZMin'\n",
    "print -np.sqrt(8390*8390-pow(fAVRadius+fDownRopeRadius,2))\n",
    "print -np.sqrt(psupRadius*psupRadius-pow(fAVRadius+fDownRopeRadius,2))\n"
   ]
  },
  {
   "cell_type": "code",
   "execution_count": 117,
   "metadata": {
    "collapsed": false
   },
   "outputs": [
    {
     "name": "stdout",
     "output_type": "stream",
     "text": [
      "The declaration is slightly different by 2 mm\n",
      "Fixed that\n"
     ]
    }
   ],
   "source": [
    "print 'The declaration is slightly different by 2 mm'\n",
    "print 'Fixed that'\n"
   ]
  },
  {
   "cell_type": "code",
   "execution_count": null,
   "metadata": {
    "collapsed": true
   },
   "outputs": [],
   "source": []
  }
 ],
 "metadata": {
  "kernelspec": {
   "display_name": "Python 2",
   "language": "python",
   "name": "python2"
  },
  "language_info": {
   "codemirror_mode": {
    "name": "ipython",
    "version": 2
   },
   "file_extension": ".py",
   "mimetype": "text/x-python",
   "name": "python",
   "nbconvert_exporter": "python",
   "pygments_lexer": "ipython2",
   "version": "2.7.11"
  }
 },
 "nbformat": 4,
 "nbformat_minor": 0
}
