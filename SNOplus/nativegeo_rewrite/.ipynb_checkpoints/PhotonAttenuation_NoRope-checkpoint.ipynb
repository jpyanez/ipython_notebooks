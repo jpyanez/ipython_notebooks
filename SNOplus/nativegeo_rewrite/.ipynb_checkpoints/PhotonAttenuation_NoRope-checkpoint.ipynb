{
 "cells": [
  {
   "cell_type": "markdown",
   "metadata": {},
   "source": [
    "## Attenuation with vessel+belly plates (no ropes or NCD anchors)"
   ]
  },
  {
   "cell_type": "code",
   "execution_count": 1,
   "metadata": {
    "collapsed": false
   },
   "outputs": [
    {
     "name": "stderr",
     "output_type": "stream",
     "text": [
      "TClass::TClass:0: RuntimeWarning: no dictionary for class omtext is available\n"
     ]
    }
   ],
   "source": [
    "import ROOT, rat\n",
    "import os, sys\n",
    "import matplotlib.pyplot as plt\n",
    "import numpy as np\n",
    "import collections\n",
    "%matplotlib inline \n",
    "sys.path.append('/home/jp/projects/python_tools')\n",
    "sys.path.append('/home/jp/projects/snoplus/python_modules')\n",
    "import jp_mpl as jplot\n",
    "import geo_studies, rat_misc"
   ]
  },
  {
   "cell_type": "code",
   "execution_count": 2,
   "metadata": {
    "collapsed": false
   },
   "outputs": [
    {
     "data": {
      "text/plain": [
       "<module 'geo_studies' from '/home/jp/projects/snoplus/python_modules/geo_studies.pyc'>"
      ]
     },
     "execution_count": 2,
     "metadata": {},
     "output_type": "execute_result"
    }
   ],
   "source": [
    "reload(geo_studies)"
   ]
  },
  {
   "cell_type": "code",
   "execution_count": 3,
   "metadata": {
    "collapsed": true
   },
   "outputs": [],
   "source": [
    "ratreader = None"
   ]
  },
  {
   "cell_type": "code",
   "execution_count": 4,
   "metadata": {
    "collapsed": false
   },
   "outputs": [
    {
     "name": "stdout",
     "output_type": "stream",
     "text": [
      "No ratreader file. Opening it for the first time\n"
     ]
    }
   ],
   "source": [
    "# Opening the file\n",
    "infile_dir = '/home/jp/projects/snoplus/rundir/nativegeo_rewrite/'\n",
    "infile_dir += 'ref_norope_noanchors'\n",
    "infile_name = 'pbomb380.root'\n",
    "ratreader = rat_misc.openRat(infile_dir, infile_name, ratreader)"
   ]
  },
  {
   "cell_type": "code",
   "execution_count": null,
   "metadata": {
    "collapsed": false
   },
   "outputs": [],
   "source": [
    "reference = geo_studies.doRead(ratreader=ratreader, max_photons = 10000000)"
   ]
  },
  {
   "cell_type": "code",
   "execution_count": null,
   "metadata": {
    "collapsed": false
   },
   "outputs": [],
   "source": [
    "# Opening the file\n",
    "infile_dir = '/home/jp/projects/snoplus/rundir/nativegeo_rewrite/'\n",
    "infile_dir += 'jpmod_norope_noanchors'\n",
    "infile_name = 'pbomb380.root'\n",
    "ratreader = rat_misc.openRat(infile_dir, infile_name, ratreader)"
   ]
  },
  {
   "cell_type": "code",
   "execution_count": null,
   "metadata": {
    "collapsed": true
   },
   "outputs": [],
   "source": [
    "jpmod = geo_studies.doRead(ratreader=ratreader, max_photons = 10000000)"
   ]
  },
  {
   "cell_type": "raw",
   "metadata": {
    "collapsed": false
   },
   "source": [
    "# Opening the file\n",
    "infile_dir = '/home/jp/projects/snoplus/rundir/nativegeo_rewrite/'\n",
    "infile_dir += 'jpmod_norope_noanchors_noplates_v2'\n",
    "infile_name = 'pbomb380.root'\n",
    "ratreader = rat_misc.openRat(infile_dir, infile_name, ratreader)\n",
    "jpmod2 = geo_studies.doRead(ratreader=ratreader, max_photons = 10000000)"
   ]
  },
  {
   "cell_type": "code",
   "execution_count": null,
   "metadata": {
    "collapsed": false,
    "scrolled": false
   },
   "outputs": [],
   "source": [
    "geo_studies.compareTracking(set_list = [reference, jpmod])"
   ]
  },
  {
   "cell_type": "code",
   "execution_count": null,
   "metadata": {
    "collapsed": false,
    "scrolled": false
   },
   "outputs": [],
   "source": [
    "cosz_list = np.linspace(-1, 1, 8)\n",
    "for i in range(len(cosz_list)-1):\n",
    "    costheta_range = [cosz_list[i],cosz_list[i+1]]\n",
    "    print '\\nRange ', costheta_range\n",
    "    geo_studies.compareTracking(set_list = [reference, jpmod],\n",
    "                               costheta_range = costheta_range)\n"
   ]
  },
  {
   "cell_type": "code",
   "execution_count": null,
   "metadata": {
    "collapsed": true
   },
   "outputs": [],
   "source": []
  }
 ],
 "metadata": {
  "kernelspec": {
   "display_name": "Python 2",
   "language": "python",
   "name": "python2"
  },
  "language_info": {
   "codemirror_mode": {
    "name": "ipython",
    "version": 2
   },
   "file_extension": ".py",
   "mimetype": "text/x-python",
   "name": "python",
   "nbconvert_exporter": "python",
   "pygments_lexer": "ipython2",
   "version": "2.7.11"
  }
 },
 "nbformat": 4,
 "nbformat_minor": 0
}
