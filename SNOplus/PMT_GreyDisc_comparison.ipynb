{
 "cells": [
  {
   "cell_type": "code",
   "execution_count": 17,
   "metadata": {
    "collapsed": false
   },
   "outputs": [],
   "source": [
    "import ROOT, rat\n",
    "import os, sys\n",
    "import matplotlib.pyplot as plt\n",
    "import numpy as np\n",
    "%matplotlib inline   \n"
   ]
  },
  {
   "cell_type": "code",
   "execution_count": 18,
   "metadata": {
    "collapsed": true
   },
   "outputs": [],
   "source": [
    "outdir = '/home/jp/Dropbox/workflowy/snoplus/geo_validation'"
   ]
  },
  {
   "cell_type": "code",
   "execution_count": 19,
   "metadata": {
    "collapsed": false
   },
   "outputs": [],
   "source": [
    "sys.path.append('/home/jp/projects/snoplus/snoing/install/rat-dev/example/pyroot')\n",
    "sys.path.append('/home/jp/projects/python_tools')\n",
    "sys.path.append('/home/jp/projects/snoplus/python_modules')"
   ]
  },
  {
   "cell_type": "code",
   "execution_count": 20,
   "metadata": {
    "collapsed": false
   },
   "outputs": [
    {
     "data": {
      "text/plain": [
       "<module 'lowlevel_stats' from '/home/jp/projects/snoplus/python_modules/lowlevel_stats.pyc'>"
      ]
     },
     "execution_count": 20,
     "metadata": {},
     "output_type": "execute_result"
    }
   ],
   "source": [
    "import jp_mpl as jplot\n",
    "import lowlevel_stats\n",
    "reload(lowlevel_stats)"
   ]
  },
  {
   "cell_type": "code",
   "execution_count": 21,
   "metadata": {
    "collapsed": true
   },
   "outputs": [],
   "source": [
    "mydir = '/home/jp/projects/snoplus/rundir/profiling_official_vsgreydisc'\n",
    "myfile= 'profiler_greydisc.root'\n",
    "file_name = os.path.join(mydir, myfile)"
   ]
  },
  {
   "cell_type": "code",
   "execution_count": 22,
   "metadata": {
    "collapsed": false
   },
   "outputs": [],
   "source": [
    "# Kept the old names. \"Aksel\" here means usual PMT\n",
    "data = lowlevel_stats.getMChits(file_name)\n",
    "pmt_hittimes = lowlevel_stats.getHitTimes_MC(file_name)\n",
    "pmt_petimes  = lowlevel_stats.getPETimes_MC(file_name)"
   ]
  },
  {
   "cell_type": "code",
   "execution_count": 23,
   "metadata": {
    "collapsed": false
   },
   "outputs": [],
   "source": [
    "mydir = '/home/jp/projects/snoplus/rundir/profiling_official_greydisc_geo'\n",
    "myfile = 'profiler_greydisc.root'\n",
    "file_name = os.path.join(mydir, myfile)"
   ]
  },
  {
   "cell_type": "code",
   "execution_count": 24,
   "metadata": {
    "collapsed": true
   },
   "outputs": [],
   "source": [
    "gdisc = lowlevel_stats.getMChits(file_name)\n",
    "gdisc_hittimes = lowlevel_stats.getHitTimes_MC(file_name)\n",
    "gdisc_petimes  = lowlevel_stats.getPETimes_MC(file_name)"
   ]
  },
  {
   "cell_type": "markdown",
   "metadata": {},
   "source": [
    "## Checking the NHits distribution"
   ]
  },
  {
   "cell_type": "code",
   "execution_count": 25,
   "metadata": {
    "collapsed": false
   },
   "outputs": [
    {
     "name": "stdout",
     "output_type": "stream",
     "text": [
      "3421\n"
     ]
    }
   ],
   "source": [
    "max_nhits = np.max([gdisc.max(),data.max()])\n",
    "print max_nhits"
   ]
  },
  {
   "cell_type": "code",
   "execution_count": 31,
   "metadata": {
    "collapsed": false
   },
   "outputs": [
    {
     "name": "stdout",
     "output_type": "stream",
     "text": [
      "Aksel geometry\n",
      "Mean 2926.53\n",
      "Std  510.106350774\n",
      "\n",
      "Official geometry\n",
      "Mean 2772.12\n",
      "Std  412.122852557\n"
     ]
    },
    {
     "data": {
      "image/png": "[encoded data removed]",
      "text/plain": [
       "<matplotlib.figure.Figure at 0x7fe013895910>"
      ]
     },
     "metadata": {},
     "output_type": "display_data"
    }
   ],
   "source": [
    "\n",
    "xaxis = np.arange(1500, 4000, 100)#20, 4000)\n",
    "n_pmt, x = np.histogram(data, xaxis)\n",
    "n_disc, x = np.histogram(gdisc, xaxis)\n",
    "myfig = plt.figure(figsize=(8,5))\n",
    "\n",
    "jplot.unfilledBar(xaxis, n_disc, color='blue', label='GreyDisc')\n",
    "jplot.unfilledBar(xaxis, n_pmt, color='red', label='FullPMT')\n",
    "plt.xlabel('Nhits (5 MeV electron at detector center)')\n",
    "plt.ylabel('Entries per event')\n",
    "plt.ylim([0,40])\n",
    "plt.legend(loc=0)\n",
    "\n",
    "myfig.savefig(os.path.join(outdir, 'FirstComparison_DiscPMT_Nhits.png'))\n",
    "#jplot.errorMarkVert(xaxis, n_off, yerror=np.sqrt(n_off), color='blue')\n",
    "#jplot.errorMarkVert(xaxis, n_aksel, yerror=np.sqrt(n_off),color='red')\n",
    "jplot.errorMark(xaxis, n_disc, error=np.sqrt(n_disc), color='blue')\n",
    "jplot.errorMark(xaxis, n_pmt, error=np.sqrt(n_pmt),color='red')\n",
    "myfig.savefig(os.path.join(outdir, 'FirstComparison_DiscPMT_Nhits_v2.png'))\n",
    "\n",
    "\n",
    "#plt.ylim([0,120])\n",
    "\n",
    "print 'Aksel geometry'\n",
    "print 'Mean', data.mean()\n",
    "print 'Std ', data.std()\n",
    "print '\\nOfficial geometry'\n",
    "print 'Mean', gdisc.mean()\n",
    "print 'Std ', gdisc.std()"
   ]
  },
  {
   "cell_type": "markdown",
   "metadata": {},
   "source": [
    "## Checking the hit times distribution"
   ]
  },
  {
   "cell_type": "code",
   "execution_count": 33,
   "metadata": {
    "collapsed": false
   },
   "outputs": [
    {
     "name": "stdout",
     "output_type": "stream",
     "text": [
      "2798.51635742\n"
     ]
    }
   ],
   "source": [
    "max_time = np.max([pmt_hittimes.max(),gdisc_hittimes.max()])\n",
    "print max_time"
   ]
  },
  {
   "cell_type": "code",
   "execution_count": 34,
   "metadata": {
    "collapsed": false
   },
   "outputs": [
    {
     "name": "stdout",
     "output_type": "stream",
     "text": [
      "Aksel geometry\n",
      "Mean 73.0153544825\n",
      "Std  76.81927315\n",
      "\n",
      "Official geometry\n",
      "Mean 72.0194004826\n",
      "Std  76.5839978043\n"
     ]
    },
    {
     "data": {
      "image/png": "[encoded data removed]",
      "text/plain": [
       "<matplotlib.figure.Figure at 0x7fe015e6c850>"
      ]
     },
     "metadata": {},
     "output_type": "display_data"
    }
   ],
   "source": [
    "xaxis = np.arange(0, 250, 3)#20, 4000)\n",
    "n_disc, x = np.histogram(gdisc_hittimes, xaxis)\n",
    "n_pmt, x = np.histogram(pmt_hittimes, xaxis)\n",
    "myfig = plt.figure(figsize=(8,5))\n",
    "\n",
    "jplot.unfilledBar(xaxis, n_pmt, color='blue', label='PMT')\n",
    "jplot.unfilledBar(xaxis, n_disc, color='red', label='GreyDisc')\n",
    "plt.xlabel('Hit time (ns, 5 MeV electron at detector center)')\n",
    "plt.ylabel('Hits')\n",
    "#plt.ylim([0,120])\n",
    "plt.legend(loc=0)\n",
    "\n",
    "myfig.savefig(os.path.join(outdir, 'FirstComparison_DiscPMT_HitT.png'))\n",
    "#jplot.errorMarkVert(xaxis, n_off, yerror=np.sqrt(n_off), color='blue')\n",
    "#jplot.errorMarkVert(xaxis, n_aksel, yerror=np.sqrt(n_off),color='red')\n",
    "\n",
    "jplot.errorMark(xaxis, n_pmt, error=np.sqrt(n_pmt), color='blue')\n",
    "jplot.errorMark(xaxis, n_disc, error=np.sqrt(n_disc),color='red')\n",
    "myfig.savefig(os.path.join(outdir, 'FirstComparison_DiscPMT_HitT_v2.png'))\n",
    "\n",
    "\n",
    "#plt.ylim([0,120])\n",
    "\n",
    "print 'Aksel geometry'\n",
    "print 'Mean', gdisc_hittimes.mean()\n",
    "print 'Std ', gdisc_hittimes.std()\n",
    "print '\\nOfficial geometry'\n",
    "print 'Mean', pmt_hittimes.mean()\n",
    "print 'Std ', pmt_hittimes.std()"
   ]
  },
  {
   "cell_type": "code",
   "execution_count": null,
   "metadata": {
    "collapsed": true
   },
   "outputs": [],
   "source": []
  }
 ],
 "metadata": {
  "kernelspec": {
   "display_name": "Python 2",
   "language": "python",
   "name": "python2"
  },
  "language_info": {
   "codemirror_mode": {
    "name": "ipython",
    "version": 2
   },
   "file_extension": ".py",
   "mimetype": "text/x-python",
   "name": "python",
   "nbconvert_exporter": "python",
   "pygments_lexer": "ipython2",
   "version": "2.7.11"
  }
 },
 "nbformat": 4,
 "nbformat_minor": 0
}
