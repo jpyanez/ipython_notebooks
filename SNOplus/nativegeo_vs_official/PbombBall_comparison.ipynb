{
 "cells": [
  {
   "cell_type": "markdown",
   "metadata": {},
   "source": [
    "## Testing Aksel's \"native\" geometry<br> Photon bomb at 380nm & 500 nm<br> Using labppo only<br>Moved from photons from a single point to photons from a ball of 10cm radius"
   ]
  },
  {
   "cell_type": "code",
   "execution_count": 1,
   "metadata": {
    "collapsed": false
   },
   "outputs": [
    {
     "name": "stderr",
     "output_type": "stream",
     "text": [
      "TClass::TClass:0: RuntimeWarning: no dictionary for class omtext is available\n",
      "TClass::TClass:0: RuntimeWarning: no dictionary for class RAT::DU::ShadowingCalculator is available\n"
     ]
    },
    {
     "data": {
      "text/plain": [
       "<module 'snoplots' from '/home/jp/projects/snoplus/python_modules/snoplots.pyc'>"
      ]
     },
     "execution_count": 1,
     "metadata": {},
     "output_type": "execute_result"
    }
   ],
   "source": [
    "import ROOT, rat\n",
    "import os, sys\n",
    "import matplotlib.pyplot as plt\n",
    "import numpy as np\n",
    "%matplotlib inline  \n",
    "sys.path.append('/home/jp/projects/snoplus/snoing/install/rat-dev/example/pyroot')\n",
    "sys.path.append('/home/jp/projects/python_tools')\n",
    "sys.path.append('/home/jp/projects/snoplus/python_modules')\n",
    "import jp_mpl as jplot\n",
    "import lowlevel_stats\n",
    "reload(lowlevel_stats)\n",
    "import snoplots\n",
    "reload(snoplots)"
   ]
  },
  {
   "cell_type": "code",
   "execution_count": 2,
   "metadata": {
    "collapsed": true
   },
   "outputs": [],
   "source": [
    "outdir = '/home/jp/Dropbox/workflowy/snoplus/nativegeo_validation/photon_ball_1016'"
   ]
  },
  {
   "cell_type": "code",
   "execution_count": 3,
   "metadata": {
    "collapsed": true
   },
   "outputs": [],
   "source": [
    "# Initialize the data dictionary\n",
    "data = {}"
   ]
  },
  {
   "cell_type": "code",
   "execution_count": 4,
   "metadata": {
    "collapsed": true
   },
   "outputs": [],
   "source": [
    "basedir = '/home/jp/projects/snoplus/rundir/nativegeo_finalcheck'"
   ]
  },
  {
   "cell_type": "markdown",
   "metadata": {},
   "source": [
    "### Using photon bomb ball (the hits are distributed over a sphere)"
   ]
  },
  {
   "cell_type": "markdown",
   "metadata": {},
   "source": [
    "#### Scintillator comparisons"
   ]
  },
  {
   "cell_type": "code",
   "execution_count": 5,
   "metadata": {
    "collapsed": true
   },
   "outputs": [],
   "source": [
    "lowlevel_stats.readFile(data, basedir, 'native','pbomb380.root', 'native380')"
   ]
  },
  {
   "cell_type": "code",
   "execution_count": 6,
   "metadata": {
    "collapsed": false
   },
   "outputs": [],
   "source": [
    "lowlevel_stats.readFile(data, basedir, 'snoplus','pbomb380.root', 'snoplus380')"
   ]
  },
  {
   "cell_type": "code",
   "execution_count": 18,
   "metadata": {
    "collapsed": false
   },
   "outputs": [],
   "source": [
    "def compareHits(data = None, datasets  = []):\n",
    "    nhits = np.zeros([len(datasets), 4], dtype=float)\n",
    "    for i, one_set in enumerate(datasets):\n",
    "        nhits[i,:] = np.sum(data[one_set]['nhit'], axis=0)\n",
    "    \n",
    "    # Now let's normalize to the official geometry\n",
    "    nhits_relerror = np.sqrt(nhits)/nhits\n",
    "    \n",
    "    nhits_normed = nhits/nhits[0,3]\n",
    "    nhits_error  = nhits_normed*nhits_relerror\n",
    "    \n",
    "    print nhits_normed\n",
    "    print nhits_error\n",
    "    print nhits_normed[0,:]/nhits_normed[1,:]\n"
   ]
  },
  {
   "cell_type": "code",
   "execution_count": 19,
   "metadata": {
    "collapsed": false
   },
   "outputs": [
    {
     "name": "stdout",
     "output_type": "stream",
     "text": [
      "[[ 0.41840043  0.14388003  0.43771954  1.        ]\n",
      " [ 0.42893812  0.13888138  0.4316401   0.99945961]]\n",
      "[[ 0.00751833  0.00440885  0.00768995  0.01162319]\n",
      " [ 0.00761242  0.00433159  0.00763636  0.01162005]]\n",
      "[ 0.97543307  1.03599222  1.01408451  1.00054069]\n"
     ]
    }
   ],
   "source": [
    "compareHits(data, ['snoplus380', 'native380'])"
   ]
  },
  {
   "cell_type": "code",
   "execution_count": 14,
   "metadata": {
    "collapsed": true
   },
   "outputs": [],
   "source": [
    "lowlevel_stats.readFile(data, basedir, 'native','pbomb500.root', 'native500')"
   ]
  },
  {
   "cell_type": "code",
   "execution_count": 13,
   "metadata": {
    "collapsed": true
   },
   "outputs": [],
   "source": [
    "lowlevel_stats.readFile(data, basedir, 'snoplus','pbomb500.root', 'snoplus500')"
   ]
  },
  {
   "cell_type": "code",
   "execution_count": 20,
   "metadata": {
    "collapsed": false
   },
   "outputs": [
    {
     "name": "stdout",
     "output_type": "stream",
     "text": [
      "[[ 0.41772336  0.13948404  0.4427926   1.        ]\n",
      " [ 0.41918088  0.13321673  0.42136715  0.97376476]]\n",
      "[[ 0.0078028   0.00450888  0.00803353  0.01207275]\n",
      " [ 0.0078164   0.00440642  0.00783676  0.01191333]]\n",
      "[ 0.99652295  1.04704595  1.05084746  1.02694207]\n"
     ]
    }
   ],
   "source": [
    "compareHits(data, ['snoplus500', 'native500'])"
   ]
  },
  {
   "cell_type": "code",
   "execution_count": null,
   "metadata": {
    "collapsed": true
   },
   "outputs": [],
   "source": []
  }
 ],
 "metadata": {
  "kernelspec": {
   "display_name": "Python 2",
   "language": "python",
   "name": "python2"
  },
  "language_info": {
   "codemirror_mode": {
    "name": "ipython",
    "version": 2
   },
   "file_extension": ".py",
   "mimetype": "text/x-python",
   "name": "python",
   "nbconvert_exporter": "python",
   "pygments_lexer": "ipython2",
   "version": "2.7.11"
  }
 },
 "nbformat": 4,
 "nbformat_minor": 0
}
