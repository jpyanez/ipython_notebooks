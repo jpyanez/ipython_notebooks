{
 "cells": [
  {
   "cell_type": "code",
   "execution_count": 1,
   "metadata": {
    "collapsed": false
   },
   "outputs": [
    {
     "name": "stderr",
     "output_type": "stream",
     "text": [
      "TClass::TClass:0: RuntimeWarning: no dictionary for class omtext is available\n"
     ]
    },
    {
     "data": {
      "text/plain": [
       "<module 'ntuple_tools' from '/home/jpyanez/snoplus/snoplus_python/ntuple_tools.pyc'>"
      ]
     },
     "execution_count": 1,
     "metadata": {},
     "output_type": "execute_result"
    }
   ],
   "source": [
    "import os, sys, pickle\n",
    "\n",
    "import matplotlib.pyplot as plt\n",
    "import numpy as np\n",
    "%matplotlib inline \n",
    "import scipy, math\n",
    "from scipy import stats\n",
    "import jp_mpl as jplot\n",
    "\n",
    "import ntuple_tools\n",
    "reload(ntuple_tools)"
   ]
  },
  {
   "cell_type": "code",
   "execution_count": 2,
   "metadata": {
    "collapsed": true
   },
   "outputs": [],
   "source": [
    "import ROOT\n",
    "import rat"
   ]
  },
  {
   "cell_type": "code",
   "execution_count": 50,
   "metadata": {
    "collapsed": true
   },
   "outputs": [],
   "source": [
    "basedir = '/home/jpyanez/scratch/snoplus/full_ntuples/n16_2017'\n",
    "#filename = 'Calibration_r0000107074_s000_p001.ntuple.root'\n",
    "filename = 'Calibration_r0000107071_s000_p001.ntuple.root' # center\n",
    "#filename = 'Calibration_r0000107064_s000_p001.ntuple.root' # 2m out in y\n",
    "\n",
    "#basedir = '/home/jpyanez/scratch/snoplus/full_ntuples/n16_2017_mc'\n",
    "#filename = 'WaterN16sourceRun_r106948_s0_p14.ntuple.root'\n",
    "#filename = 'WaterN16sourceRun_r106946_s0_p17.ntuple.root'\n",
    "#filename = 'WaterN16sourceRun_r106944_s0_p13.ntuple.root'"
   ]
  },
  {
   "cell_type": "code",
   "execution_count": 51,
   "metadata": {
    "collapsed": false
   },
   "outputs": [],
   "source": [
    "tfile = ROOT.TFile(os.path.join(basedir, filename))"
   ]
  },
  {
   "cell_type": "code",
   "execution_count": 52,
   "metadata": {
    "collapsed": false
   },
   "outputs": [],
   "source": [
    "def getArray(tfile, branch_name):\n",
    "    if branch_name == 'energy':\n",
    "        print 'Using RSP energy correction'\n",
    "        rc = rat.utility().GetReconCorrector().Get()\n",
    "        print 'Test RSP correction', rc.CorrectEnergyRSP(5.0)\n",
    "    \n",
    "    tree = tfile.Get('output')\n",
    "    branch = tree.GetBranch(branch_name)\n",
    "    tot_entries = branch.GetEntries()\n",
    "\n",
    "    values = np.zeros(tot_entries)\n",
    "    counter = 0\n",
    "    # Special loop for energy to avoid doing many ifs\n",
    "    if branch_name == 'energy':\n",
    "        None\n",
    "        for i in range(tot_entries):\n",
    "            branch.GetEntry(i)\n",
    "            values[counter] = rc.CorrectEnergyRSP(branch.GetLeaf(branch_name).GetValue(0))\n",
    "            counter += 1\n",
    "    else:\n",
    "        for i in range(tot_entries):\n",
    "            branch.GetEntry(i)\n",
    "            values[counter] = branch.GetLeaf(branch_name).GetValue(0)\n",
    "            counter += 1\n",
    "    return values\n",
    "    "
   ]
  },
  {
   "cell_type": "code",
   "execution_count": 53,
   "metadata": {
    "collapsed": true
   },
   "outputs": [],
   "source": [
    "var_names =['qpdtProbability',\n",
    "            'qpdtNhitsEarly',\n",
    "            'nhitsCleaned',\n",
    "            'itr',\n",
    "            'energy',\n",
    "            'beta14',\n",
    "            'fitValid',\n",
    "            'triggerWord',\n",
    "            'qpdtQMax',\n",
    "            'isCal',\n",
    "            'posr']\n",
    "if 'Calibration' in filename:\n",
    "    var_names += ['dcApplied',  'dcFlagged']"
   ]
  },
  {
   "cell_type": "code",
   "execution_count": 54,
   "metadata": {
    "collapsed": false
   },
   "outputs": [
    {
     "name": "stdout",
     "output_type": "stream",
     "text": [
      "Using RSP energy correction\n",
      "Test RSP correction 5.0004091635\n"
     ]
    }
   ],
   "source": [
    "mc_data = {}\n",
    "for one_var in var_names:\n",
    "    mc_data[one_var] = getArray(tfile, one_var)"
   ]
  },
  {
   "cell_type": "code",
   "execution_count": 55,
   "metadata": {
    "collapsed": false
   },
   "outputs": [],
   "source": [
    "data_sitr = (0.74-mc_data['itr'])*np.sqrt(mc_data['nhitsCleaned'])/0.43"
   ]
  },
  {
   "cell_type": "code",
   "execution_count": 56,
   "metadata": {
    "collapsed": false
   },
   "outputs": [],
   "source": [
    "# Plots\n",
    "my_keys = [['qpdtProbability', [0,1]],\n",
    "           ['qpdtNhitsEarly', [0,20]],\n",
    "           ['qpdtQMax', [0,200]],\n",
    "           ['nhitsCleaned', [0,50]],\n",
    "           ['itr', [0,1]],\n",
    "           ['energy', [2.2, 9]],\n",
    "           ['beta14', [0,1]],\n",
    "           ['posr', [0, 8300]]\n",
    "           ]\n",
    "\n",
    "#for one_key, axlim in my_keys:\n",
    "#    ntuple_tools.arrayDiagnostics(mc_data[one_key], one_key,ax_lim=axlim)\n"
   ]
  },
  {
   "cell_type": "raw",
   "metadata": {
    "collapsed": false,
    "scrolled": true
   },
   "source": [
    "_ = ntuple_tools.arrayDiagnostics(np.log10(data_tcp[data_tcp>0]), 'TC QPDT Prob',ax_lim=[-4,0])\n",
    "_ = ntuple_tools.arrayDiagnostics(data_sitr, 'Scaled ITR',ax_lim=[-3,6])\n"
   ]
  },
  {
   "cell_type": "code",
   "execution_count": 57,
   "metadata": {
    "collapsed": false
   },
   "outputs": [],
   "source": [
    "xenergy = np.linspace(3.25, 4, 12)\n",
    "xcenergy = (xenergy[1:] + xenergy[:-1])/2.\n",
    "xbeta14 = np.linspace(-0.12,0.95, 12)\n",
    "xradius = np.linspace(0, .8, 12)\n",
    "rav = 6000.\n"
   ]
  },
  {
   "cell_type": "code",
   "execution_count": 58,
   "metadata": {
    "collapsed": false
   },
   "outputs": [
    {
     "name": "stdout",
     "output_type": "stream",
     "text": [
      "0.563518741251\n"
     ]
    }
   ],
   "source": [
    "if 'Calibration' in filename:\n",
    "    mask_cut = np.zeros_like(mc_data['energy'], dtype=bool)\n",
    "    for i in range(mask_cut.size):\n",
    "        mask_cut[i] = (((int(mc_data['dcApplied'][i]) & 0x10000017FFE) & int(mc_data['dcFlagged'][i])) == \n",
    "                       (int(mc_data['dcApplied'][i]) & 0x10000017FFE))\n",
    "    print np.sum(mask_cut)*1./mask_cut.size"
   ]
  },
  {
   "cell_type": "code",
   "execution_count": 66,
   "metadata": {
    "collapsed": true
   },
   "outputs": [],
   "source": [
    "qpdt_prob_scale = 0.0143\n",
    "qpdtqmax = 200."
   ]
  },
  {
   "cell_type": "code",
   "execution_count": 67,
   "metadata": {
    "collapsed": false
   },
   "outputs": [
    {
     "name": "stdout",
     "output_type": "stream",
     "text": [
      "41460\n",
      "1045101\n",
      "Poisson 0.998721659431\n",
      "Probability 0.978268210323\n",
      "Combined 0.977062228654\n",
      "QMax 0.983188615533\n",
      "Nhit 0.594114809455\n",
      "Events 655\n",
      "Rejected fraction 1.57983598649 +/- 0.06172930001\n"
     ]
    }
   ],
   "source": [
    "data_cuts = (\n",
    "       (mc_data['energy']>3.) *\n",
    "       #(all_pmt['energy']<4.)*\n",
    "       (mc_data['nhitsCleaned'] > 15)*\n",
    "       (mc_data['fitValid']>0)*\n",
    "       (mc_data['itr']>0.55)*\n",
    "       (mc_data['beta14']<0.95)*\n",
    "       (mc_data['beta14']>-0.12)*\n",
    "       (mc_data['posr']<5500.)\n",
    "        )\n",
    "\n",
    "if 'Calibration' in filename:\n",
    "    data_cuts *=mask_cut*(mc_data['isCal']>0)\n",
    "\n",
    "print np.sum(data_cuts)\n",
    "print len(mc_data['itr'])\n",
    "#scale = len(pmt_cuts)*1./np.sum(pmt_cuts)\n",
    "#print scale\n",
    "\n",
    "poisson_cut = (stats.poisson.pmf(mc_data['qpdtNhitsEarly'], \n",
    "               mc_data['nhitsCleaned']*qpdt_prob_scale) > 0.002)\n",
    "prob_cut = (mc_data['qpdtProbability']> 0.01)\n",
    "nhit_cut = (mc_data['qpdtNhitsEarly']==0)\n",
    "qmax_cut = (mc_data['qpdtQMax']<qpdtqmax)\n",
    "\n",
    "# Efficiency of each cut\n",
    "print 'Poisson', 1.*np.sum(poisson_cut*data_cuts)/np.sum(data_cuts)\n",
    "print 'Probability', 1.*np.sum(prob_cut*data_cuts)/np.sum(data_cuts)\n",
    "print 'Combined', np.sum(poisson_cut*prob_cut*data_cuts)*1./np.sum(data_cuts)\n",
    "print 'QMax', 1.*np.sum(qmax_cut*data_cuts)/np.sum(data_cuts)\n",
    "print 'Nhit', 1.*np.sum(nhit_cut*data_cuts)/np.sum(data_cuts)\n",
    "\n",
    "tlqpdtcut = qmax_cut+nhit_cut+(poisson_cut*prob_cut)\n",
    "\n",
    "#tlqpdtcut = ((stats.poisson.pmf(mc_data['qpdtNhitsEarly'], mc_data['nhitsCleaned']*qpdt_prob_scale) > 0.002)*\n",
    "#           (((1-(1-mc_data['qpdtProbability'])**mc_data['qpdtNhitsEarly']) > 0.001) + \n",
    "#           (mc_data['qpdtNhitsEarly']==0)))\n",
    "\n",
    "#tlqpdtcut =(1-(1-mc_data['qpdtProbability'])**mc_data['qpdtNhitsEarly'])\n",
    "\n",
    "\n",
    "#qpdtcut = all_pmt_tcp > 0.01\n",
    "print 'Events', np.sum(data_cuts*~tlqpdtcut)\n",
    "relerror = np.sqrt(np.sum(data_cuts*~tlqpdtcut))/np.sum(data_cuts*~tlqpdtcut)\n",
    "rejected = 100*np.sum(data_cuts*~tlqpdtcut)*1./np.sum(data_cuts)\n",
    "print 'Rejected fraction', rejected , '+/-', rejected*relerror\n"
   ]
  },
  {
   "cell_type": "code",
   "execution_count": null,
   "metadata": {
    "collapsed": true
   },
   "outputs": [],
   "source": []
  },
  {
   "cell_type": "code",
   "execution_count": 61,
   "metadata": {
    "collapsed": false
   },
   "outputs": [
    {
     "data": {
      "text/plain": [
       "<matplotlib.text.Text at 0x7f60e96c23d0>"
      ]
     },
     "execution_count": 61,
     "metadata": {},
     "output_type": "execute_result"
    },
    {
     "data": {
      "image/png": "[encoded data removed]",
      "text/plain": [
       "<matplotlib.figure.Figure at 0x7f60e960f6d0>"
      ]
     },
     "metadata": {},
     "output_type": "display_data"
    }
   ],
   "source": [
    "xenergy = np.linspace(3.25, 10, 61)\n",
    "xcenergy = (xenergy[1:] + xenergy[:-1])/2.\n",
    "xbeta14 = np.linspace(-0.12,0.95, 31)\n",
    "xradius = np.linspace(0, .8, 31)\n",
    "rav = 6000.\n",
    "\n",
    "\n",
    "rej_histo,x = np.histogram(mc_data['energy'][data_cuts*~tlqpdtcut], xenergy)\n",
    "all_histo,x = np.histogram(mc_data['energy'][data_cuts], xenergy)\n",
    "nocuts,x = np.histogram(mc_data['energy'], xenergy)\n",
    "\n",
    "jplot.unfilledBar(xenergy, rej_histo*1./all_histo)\n",
    "#plt.ylim(0, 0.1)\n",
    "#plt.ylim(0.01, 0.)\n",
    "plt.yscale('log')\n",
    "plt.ylabel('Fraction rejected')\n",
    "plt.xlabel('Reco Energy (MeV)')\n"
   ]
  },
  {
   "cell_type": "code",
   "execution_count": 62,
   "metadata": {
    "collapsed": false
   },
   "outputs": [
    {
     "name": "stdout",
     "output_type": "stream",
     "text": [
      "Diagnostics posr\n",
      "5.21599035904 4682.31950257 650.390995456\n"
     ]
    },
    {
     "data": {
      "text/plain": [
       "(<matplotlib.figure.Figure at 0x7f60e9be2d50>,\n",
       " <matplotlib.axes._subplots.AxesSubplot at 0x7f60e9578790>)"
      ]
     },
     "execution_count": 62,
     "metadata": {},
     "output_type": "execute_result"
    },
    {
     "data": {
      "image/png": "[encoded data removed]",
      "text/plain": [
       "<matplotlib.figure.Figure at 0x7f60e9be2d50>"
      ]
     },
     "metadata": {},
     "output_type": "display_data"
    }
   ],
   "source": [
    "ntuple_tools.arrayDiagnostics(mc_data['posr'][data_cuts], 'posr',ax_lim=[0,8000])"
   ]
  },
  {
   "cell_type": "code",
   "execution_count": null,
   "metadata": {
    "collapsed": true
   },
   "outputs": [],
   "source": []
  }
 ],
 "metadata": {
  "kernelspec": {
   "display_name": "Python 2",
   "language": "python",
   "name": "python2"
  },
  "language_info": {
   "codemirror_mode": {
    "name": "ipython",
    "version": 2
   },
   "file_extension": ".py",
   "mimetype": "text/x-python",
   "name": "python",
   "nbconvert_exporter": "python",
   "pygments_lexer": "ipython2",
   "version": "2.7.13"
  }
 },
 "nbformat": 4,
 "nbformat_minor": 1
}
