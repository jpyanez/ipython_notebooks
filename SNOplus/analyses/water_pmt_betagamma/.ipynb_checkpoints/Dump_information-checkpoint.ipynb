{
 "cells": [
  {
   "cell_type": "code",
   "execution_count": 1,
   "metadata": {
    "collapsed": false
   },
   "outputs": [
    {
     "name": "stderr",
     "output_type": "stream",
     "text": [
      "TClass::TClass:0: RuntimeWarning: no dictionary for class omtext is available\n"
     ]
    }
   ],
   "source": [
    "import os, sys, pickle\n",
    "\n",
    "import matplotlib.pyplot as plt\n",
    "import numpy as np\n",
    "%matplotlib inline \n",
    "import scipy, math\n",
    "from scipy import stats\n",
    "import jp_mpl as jplot\n",
    "\n",
    "import rat_misc, jp_analysis\n",
    "from scipy import optimize\n",
    "import ROOT"
   ]
  },
  {
   "cell_type": "code",
   "execution_count": 2,
   "metadata": {
    "collapsed": true
   },
   "outputs": [],
   "source": [
    "data_dir = '/home/jpyanez/scratch/snoplus/analysis_water_analysis_tbin6_ntuple'\n",
    "pmt_dir = '/home/jpyanez/scratch/snoplus/analysis_water_mc_tl208pmt_tbin6_ntuple'\n",
    "in_dir = '/home/jpyanez/scratch/snoplus/analysis_water_mc_bi214_tbin6_ntuple'\n"
   ]
  },
  {
   "cell_type": "code",
   "execution_count": 3,
   "metadata": {
    "collapsed": true
   },
   "outputs": [],
   "source": [
    "def arrayDiagnostics(values, name, ax_lim = [None, None]):\n",
    "        print 'Diagnostics', name\n",
    "        print values.min(),values.max(), values.mean()\n",
    "        plt.figure()\n",
    "        if ax_lim[0] == None:\n",
    "            ax_lim[0] = 0.\n",
    "        if ax_lim[1] == None:\n",
    "            ax_lim[1] = np.median((values[values>0]))*10\n",
    "        \n",
    "        xaxis = np.linspace(ax_lim[0], ax_lim[1], 100)\n",
    "        b, x = np.histogram(values, xaxis)\n",
    "\n",
    "        jplot.unfilledBar(x,b)\n",
    "        plt.yscale('log')\n",
    "        plt.xlabel(name)"
   ]
  },
  {
   "cell_type": "code",
   "execution_count": 4,
   "metadata": {
    "collapsed": true
   },
   "outputs": [],
   "source": [
    "def dumpArray( indir, branch_name, outdir = None,\n",
    "              show_info = False, ax_lim = [None, None], max_files = -1):\n",
    "    file_list = [os.path.join(indir, x) for x in os.listdir(indir)]\n",
    "    file_list.sort()\n",
    "    if max_files >0:\n",
    "        file_list = file_list[:max_files]\n",
    "    print 'Going over ', len(file_list), ' files'\n",
    "    \n",
    "    # Test one file for content\n",
    "    tfile = ROOT.TFile(file_list[0])\n",
    "    tree = tfile.Get('output')\n",
    "    branch = tree.GetBranch(branch_name)   \n",
    "    tot_entries = branch.GetEntries()\n",
    "    \n",
    "    print 'Entries in file ', tot_entries, ' - adding 20% contintengcy'\n",
    "    \n",
    "    values = np.zeros(int(tot_entries*len(file_list)*1.2))\n",
    "    counter = 0\n",
    "    \n",
    "    for ifile, one_file in enumerate(file_list):\n",
    "        if ifile % 400 ==  0:\n",
    "            print ifile\n",
    "        tfile = ROOT.TFile(one_file)\n",
    "        tree = tfile.Get('output')\n",
    "        branch = tree.GetBranch(branch_name)   \n",
    "        tot_entries = branch.GetEntries()\n",
    "        \n",
    "        for i in range(tot_entries):\n",
    "            branch.GetEntry(i)\n",
    "            values[counter] = branch.GetLeaf(branch_name).GetValue(0)\n",
    "            counter += 1\n",
    "        tfile.Close()\n",
    "        \n",
    "    values = values[:counter]\n",
    "    \n",
    "    if outdir != None:\n",
    "        np.save(os.path.join(outdir, branch_name+'.npy'), values)\n",
    "        print 'Saved!'\n",
    "        \n",
    "    if show_info:\n",
    "        arrayDiagnostics(values,branch_name, ax_lim)\n",
    "    \n",
    "\n",
    "    return values"
   ]
  },
  {
   "cell_type": "code",
   "execution_count": 53,
   "metadata": {
    "collapsed": true
   },
   "outputs": [],
   "source": [
    "max_files = 2000\n",
    "use_dir = data_dir\n",
    "outdir = '/home/jpyanez/scratch/snoplus/npy_pmt'"
   ]
  },
  {
   "cell_type": "code",
   "execution_count": 54,
   "metadata": {
    "collapsed": false
   },
   "outputs": [
    {
     "name": "stdout",
     "output_type": "stream",
     "text": [
      "Going over  1631  files\n",
      "Entries in file  5783  - adding 20% contintengcy\n",
      "0\n",
      "400\n",
      "800\n",
      "1200\n",
      "1600\n",
      "Diagnostics qpdtProbability\n",
      "-0.00704392126019 1.0 0.606354656139\n"
     ]
    },
    {
     "data": {
      "image/png": "[encoded data removed]",
      "text/plain": [
       "<matplotlib.figure.Figure at 0x7f983787c410>"
      ]
     },
     "metadata": {},
     "output_type": "display_data"
    }
   ],
   "source": [
    "qpdtProbability = dumpArray(use_dir, 'qpdtProbability', \n",
    "              outdir = outdir, \n",
    "              show_info = True,\n",
    "              max_files = max_files,\n",
    "              ax_lim = [0, 1])"
   ]
  },
  {
   "cell_type": "code",
   "execution_count": 55,
   "metadata": {
    "collapsed": false
   },
   "outputs": [
    {
     "name": "stdout",
     "output_type": "stream",
     "text": [
      "Going over  1631  files\n",
      "Entries in file  5783  - adding 20% contintengcy\n",
      "0\n",
      "400\n",
      "800\n",
      "1200\n",
      "1600\n",
      "Diagnostics qpdtNhitsEarly\n",
      "0.0 23.0 0.889765386208\n"
     ]
    },
    {
     "data": {
      "image/png": "[encoded data removed]",
      "text/plain": [
       "<matplotlib.figure.Figure at 0x7f9836fc7390>"
      ]
     },
     "metadata": {},
     "output_type": "display_data"
    }
   ],
   "source": [
    "qpdtNhitsEarly = dumpArray(use_dir, 'qpdtNhitsEarly', \n",
    "              outdir = outdir, \n",
    "              show_info = True,\n",
    "              max_files = max_files,\n",
    "              ax_lim = [0, 20])"
   ]
  },
  {
   "cell_type": "code",
   "execution_count": 56,
   "metadata": {
    "collapsed": false
   },
   "outputs": [
    {
     "name": "stdout",
     "output_type": "stream",
     "text": [
      "Going over  1631  files\n",
      "Entries in file  5783  - adding 20% contintengcy\n",
      "0\n",
      "400\n",
      "800\n",
      "1200\n",
      "1600\n",
      "Diagnostics nhitsCleaned\n",
      "15.0 346.0 16.7021838145\n"
     ]
    },
    {
     "data": {
      "image/png": "[encoded data removed]",
      "text/plain": [
       "<matplotlib.figure.Figure at 0x7f983b345250>"
      ]
     },
     "metadata": {},
     "output_type": "display_data"
    }
   ],
   "source": [
    "nhitsCleaned = dumpArray(use_dir, 'nhitsCleaned', \n",
    "              outdir = outdir, \n",
    "              show_info = True,\n",
    "              max_files = max_files,\n",
    "              ax_lim = [0, 50])"
   ]
  },
  {
   "cell_type": "code",
   "execution_count": null,
   "metadata": {
    "collapsed": false
   },
   "outputs": [
    {
     "name": "stdout",
     "output_type": "stream",
     "text": [
      "Going over  1631  files\n",
      "Entries in file  5783  - adding 20% contintengcy\n",
      "0\n",
      "400\n",
      "800\n",
      "1200\n",
      "1600\n",
      "Diagnostics itr\n",
      "0.551724137931 1.0 0.680805481391\n"
     ]
    },
    {
     "data": {
      "image/png": "[encoded data removed]",
      "text/plain": [
       "<matplotlib.figure.Figure at 0x7f9837532f90>"
      ]
     },
     "metadata": {},
     "output_type": "display_data"
    }
   ],
   "source": [
    "itr = dumpArray(use_dir, 'itr', \n",
    "              outdir = outdir, \n",
    "              show_info = True,\n",
    "              max_files = max_files,\n",
    "              ax_lim = [0, 1])"
   ]
  },
  {
   "cell_type": "code",
   "execution_count": null,
   "metadata": {
    "collapsed": false
   },
   "outputs": [
    {
     "name": "stdout",
     "output_type": "stream",
     "text": [
      "Going over  1631  files\n",
      "Entries in file  5783  - adding 20% contintengcy\n",
      "0\n",
      "400\n"
     ]
    }
   ],
   "source": [
    "energy = dumpArray(use_dir, 'energy', \n",
    "              outdir = outdir, \n",
    "              show_info = True,\n",
    "              max_files = max_files,\n",
    "              ax_lim = [0, 10])"
   ]
  },
  {
   "cell_type": "code",
   "execution_count": null,
   "metadata": {
    "collapsed": false
   },
   "outputs": [],
   "source": [
    "posr = dumpArray(use_dir, 'posr', \n",
    "              outdir = outdir, \n",
    "              show_info = True,\n",
    "              max_files = max_files,\n",
    "              ax_lim = [0, 8000])"
   ]
  },
  {
   "cell_type": "code",
   "execution_count": 68,
   "metadata": {
    "collapsed": false
   },
   "outputs": [
    {
     "data": {
      "text/plain": [
       "array([ 4983.39515607,  6896.02094779,  4771.96093051, ...,  7805.14012715,\n",
       "        7977.91133196,  7484.07892442])"
      ]
     },
     "execution_count": 68,
     "metadata": {},
     "output_type": "execute_result"
    }
   ],
   "source": [
    "posr"
   ]
  },
  {
   "cell_type": "code",
   "execution_count": null,
   "metadata": {
    "collapsed": false
   },
   "outputs": [],
   "source": [
    "mybool = (energy>3.5)*(posr<5300.)*(energy<4)\n",
    "print 'Events ', np.sum(mybool), ' - Efficiency ', np.sum(mybool)*1./len(mybool)"
   ]
  },
  {
   "cell_type": "code",
   "execution_count": null,
   "metadata": {
    "collapsed": false
   },
   "outputs": [],
   "source": [
    "plt.plot(energy[mybool], posr[mybool]**3/6000.**3, '.')"
   ]
  },
  {
   "cell_type": "code",
   "execution_count": null,
   "metadata": {
    "collapsed": false
   },
   "outputs": [],
   "source": [
    "qpdtpos = stats.poisson.pmf(qpdtNhitsEarly, nhitsCleaned*0.0143)\n",
    "arrayDiagnostics(qpdtpos[mybool], 'QPDT Poisson CDF', [-0.3, 1.])\n"
   ]
  },
  {
   "cell_type": "code",
   "execution_count": null,
   "metadata": {
    "collapsed": false
   },
   "outputs": [],
   "source": [
    "pqcor = 1-(1-qpdtProbability)**qpdtNhitsEarly\n",
    "arrayDiagnostics(pqcor, 'QDPT PQcor', [-0.1,1.1])"
   ]
  },
  {
   "cell_type": "code",
   "execution_count": null,
   "metadata": {
    "collapsed": true
   },
   "outputs": [],
   "source": [
    "pqpdt_pass = (qpdtNhitsEarly == 0) + ((pqcor > 0.01)*qpdtpos > 0.002)"
   ]
  },
  {
   "cell_type": "code",
   "execution_count": null,
   "metadata": {
    "collapsed": false
   },
   "outputs": [],
   "source": [
    "print 'Passing fraction ', np.sum(pqpdt_pass)*1./pqpdt_pass.size"
   ]
  },
  {
   "cell_type": "code",
   "execution_count": null,
   "metadata": {
    "collapsed": false
   },
   "outputs": [],
   "source": [
    "scaled_itr = (0.74-itr)*np.sqrt(nhitsCleaned)\n",
    "xaxis = np.linspace(-2.5, 8, 51)\n",
    "b, x = np.histogram(scaled_itr[itr>0], xaxis)\n",
    "jplot.unfilledBar(x,b)"
   ]
  },
  {
   "cell_type": "code",
   "execution_count": null,
   "metadata": {
    "collapsed": false
   },
   "outputs": [],
   "source": [
    "plt.plot(scaled_itr[mybool], \n",
    "         qpdtProbability[mybool], '.', markersize=1)\n",
    "plt.xlim(-2.5, 8)\n",
    "plt.ylim(1E-4, 1)\n",
    "plt.yscale('log')\n",
    "plt.xlabel('Scaled ITR')\n",
    "plt.ylabel('QPDT Charge probability')"
   ]
  },
  {
   "cell_type": "code",
   "execution_count": null,
   "metadata": {
    "collapsed": true
   },
   "outputs": [],
   "source": []
  }
 ],
 "metadata": {
  "kernelspec": {
   "display_name": "Python 2",
   "language": "python",
   "name": "python2"
  },
  "language_info": {
   "codemirror_mode": {
    "name": "ipython",
    "version": 2
   },
   "file_extension": ".py",
   "mimetype": "text/x-python",
   "name": "python",
   "nbconvert_exporter": "python",
   "pygments_lexer": "ipython2",
   "version": "2.7.13"
  }
 },
 "nbformat": 4,
 "nbformat_minor": 1
}
