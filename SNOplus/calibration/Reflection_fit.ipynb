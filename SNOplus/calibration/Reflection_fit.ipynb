{
 "cells": [
  {
   "cell_type": "code",
   "execution_count": 1,
   "metadata": {
    "collapsed": false
   },
   "outputs": [],
   "source": [
    "import os, sys, pickle\n",
    "import matplotlib.pyplot as plt\n",
    "import numpy as np\n",
    "import collections\n",
    "%matplotlib inline \n",
    "sys.path.append('/home/jp/projects/snoplus/python_modules')\n",
    "import jp_mpl as jplot\n",
    "from scipy import ndimage\n",
    "from scipy import signal\n",
    "from matplotlib.colors import LogNorm\n",
    "from detect_peaks import detect_peaks\n",
    "import pickle, scipy\n",
    "from copy import deepcopy"
   ]
  },
  {
   "cell_type": "markdown",
   "metadata": {},
   "source": [
    "## Fitting class"
   ]
  },
  {
   "cell_type": "code",
   "execution_count": 2,
   "metadata": {
    "collapsed": false
   },
   "outputs": [],
   "source": [
    "class FitLBpos(object):\n",
    "    def __init__(self,\n",
    "                 data = None,\n",
    "                 error = None,\n",
    "                 pmt_xyz = None,\n",
    "                 pmtbool = None,\n",
    "                 psup_radius = 8390.,\n",
    "                 water_n = 1.34389,\n",
    "                 print_call = True):\n",
    "        self.c            = 0.299792458*1000 # mm/ns\n",
    "        self.data    = deepcopy(data)\n",
    "        self.pmt_xyz = deepcopy(pmt_xyz)\n",
    "        self.pmtbool = deepcopy(pmtbool)\n",
    "        self.pmt_r   = np.linalg.norm(pmt_xyz,axis=1)\n",
    "        self.header_done = False\n",
    "\n",
    "        self.R = psup_radius\n",
    "        #self.water_c = c/water_n\n",
    "        self.print_call = print_call\n",
    "        \n",
    "        self.pmtbool[self.data == 0] = False\n",
    "        \n",
    "        if error == None:\n",
    "            self.error = np.ones_like(data)\n",
    "        else:\n",
    "            self.error = error + 1 # Adding one ns for everything\n",
    "    \n",
    "    def print_eval_header(self):\n",
    "        print 'FCN \\t\\t u \\t v \\t w \\t n'\n",
    "        self.header_done = True\n",
    "        \n",
    "    def print_eval(self, value, u, v, w, n):\n",
    "        if not self.header_done:\n",
    "            self.print_eval_header()\n",
    "        print value, '\\t', u, '\\t', v, '\\t', w, '\\t', n\n",
    "        \n",
    "    def __call__(self, u, v, w, n):\n",
    "        this_pos = np.array([ u, v, w])\n",
    "        water_c = self.c/n\n",
    "        tdiff = 2*self.R/water_c* \\\n",
    "                (1+np.dot(self.pmt_xyz,this_pos)/(self.pmt_r*self.R))\n",
    "        \n",
    "        delta = (tdiff - self.data)[self.pmtbool]**2/self.error[self.pmtbool]**2\n",
    "        delta = np.sum(delta)\n",
    "        \n",
    "        if self.print_call:\n",
    "            self.print_eval(delta, u, v, w, n)\n",
    "        \n",
    "        return delta"
   ]
  },
  {
   "cell_type": "markdown",
   "metadata": {},
   "source": [
    "## PMT Information"
   ]
  },
  {
   "cell_type": "code",
   "execution_count": 3,
   "metadata": {
    "collapsed": false
   },
   "outputs": [],
   "source": [
    "pmt_info = pickle.load(open('/home/jp/projects/snoplus/python_modules/pmt_positions.pckl'))"
   ]
  },
  {
   "cell_type": "code",
   "execution_count": 4,
   "metadata": {
    "collapsed": true
   },
   "outputs": [],
   "source": [
    "quality_dir = '/home/jp/projects/snoplus/laserball_calibration/pmt_quality_occupancy'"
   ]
  },
  {
   "cell_type": "markdown",
   "metadata": {},
   "source": [
    "## Speed of light"
   ]
  },
  {
   "cell_type": "code",
   "execution_count": 5,
   "metadata": {
    "collapsed": true
   },
   "outputs": [],
   "source": [
    "c = 0.299792458*1000 # mm/ns"
   ]
  },
  {
   "cell_type": "markdown",
   "metadata": {},
   "source": [
    "## Getting SOC files - produce peaks files first"
   ]
  },
  {
   "cell_type": "code",
   "execution_count": 6,
   "metadata": {
    "collapsed": true
   },
   "outputs": [],
   "source": [
    "peakdir = '/home/jp/projects/snoplus/laserball_calibration/peak_output'"
   ]
  },
  {
   "cell_type": "code",
   "execution_count": 7,
   "metadata": {
    "collapsed": false
   },
   "outputs": [
    {
     "name": "stdout",
     "output_type": "stream",
     "text": [
      "0 17386.pckl\n",
      "1 17377.pckl\n",
      "2 100558.pckl\n",
      "3 100560.pckl\n",
      "4 100559.pckl\n",
      "5 17378.pckl\n",
      "6 17375.pckl\n",
      "7 100555.pckl\n",
      "8 17384.pckl\n",
      "9 17376.pckl\n",
      "10 100556.pckl\n",
      "11 100554.pckl\n"
     ]
    }
   ],
   "source": [
    "infile_list = os.listdir(peakdir)\n",
    "for i, x in enumerate(infile_list): print i, x "
   ]
  },
  {
   "cell_type": "markdown",
   "metadata": {},
   "source": [
    "# Fit everything!"
   ]
  },
  {
   "cell_type": "code",
   "execution_count": 48,
   "metadata": {
    "collapsed": true
   },
   "outputs": [],
   "source": [
    "use_quality_cuts = False\n",
    "use_peak = False # False means using dN/dt\n",
    "if use_peak:\n",
    "    data_index = 0\n",
    "else:\n",
    "    data_index = 1"
   ]
  },
  {
   "cell_type": "code",
   "execution_count": 49,
   "metadata": {
    "collapsed": false
   },
   "outputs": [
    {
     "name": "stdout",
     "output_type": "stream",
     "text": [
      "Starting run 17386.pckl\n",
      "PMTs in the fit pre-Q-cuts 7649\n",
      "Trying again 1\n",
      "Trying again 2\n",
      "Trying again 3\n",
      "Trying again 4\n",
      "Trying again 5\n",
      "Trying again 6\n",
      "Trying again 7\n",
      "Trying again 8\n",
      "Trying again 9\n",
      "Trying again 10\n",
      "Tried to fit TEN times without success - check that\n",
      "Starting run 17377.pckl\n",
      "PMTs in the fit pre-Q-cuts 2\n",
      "\n",
      "Fit successful 17377\n",
      "[   0. -254.   25.]\n",
      "[   2.34015226 -226.16465759   24.06827164]\n",
      "[  6.45557929e+02  -5.94279543e+02   4.64166968e+03   2.00000000e+00] \n",
      "\n",
      "Starting run 100558.pckl\n",
      "PMTs in the fit pre-Q-cuts 8315\n",
      "\n",
      "Fit successful 100558\n",
      "[   0. -254.   25.]\n",
      "[   6.7621541  -208.42858887   26.4679184 ]\n",
      "[  -8.00106687 -233.08537461   14.13158467    1.35582073] \n",
      "\n",
      "Starting run 100560.pckl\n",
      "PMTs in the fit pre-Q-cuts 17\n",
      "\n",
      "Fit successful 100560\n",
      "[   0. -254.   25.]\n",
      "[   3.88579869 -207.37480164   27.52195358]\n",
      "[ -2.25421418e+03   2.09636839e+02  -6.00000000e+03   6.09662080e-01] \n",
      "\n",
      "Starting run 100559.pckl\n",
      "PMTs in the fit pre-Q-cuts 0\n",
      "\n",
      "Fit successful 100559\n",
      "[   0. -254.   25.]\n",
      "[   2.24983931 -203.58409119   25.98548508]\n",
      "[   2.37158434 -220.67549458   26.07314394    1.358     ] \n",
      "\n",
      "Starting run 17378.pckl\n",
      "PMTs in the fit pre-Q-cuts 0\n",
      "\n",
      "Fit successful 17378\n",
      "[   0. -254.   25.]\n",
      "[   8.0424242  -222.29763794    7.75781345]\n",
      "[   8.723276   -228.23428973    8.07087905    1.358     ] \n",
      "\n",
      "Starting run 17375.pckl\n",
      "PMTs in the fit pre-Q-cuts 8663\n",
      "\n",
      "Fit successful 17375\n",
      "[   0. -254.   25.]\n",
      "[   0.24428572 -226.06359863   23.39888954]\n",
      "[   5.45736226 -219.04353158   -8.238338      1.34281724] \n",
      "\n",
      "Starting run 100555.pckl\n",
      "PMTs in the fit pre-Q-cuts 2393\n",
      "\n",
      "Fit successful 100555\n",
      "[   0. -254.   25.]\n",
      "[   5.36462784 -206.92816162   25.05916977]\n",
      "[  2.32280899e+02   7.33738151e+02   1.88285871e+03   1.07441687e+00] \n",
      "\n",
      "Starting run 17384.pckl\n",
      "PMTs in the fit pre-Q-cuts 8666\n"
     ]
    },
    {
     "name": "stderr",
     "output_type": "stream",
     "text": [
      "/home/jp/anaconda2/lib/python2.7/site-packages/ipykernel/__main__.py:23: FutureWarning: comparison to `None` will result in an elementwise object comparison in the future.\n"
     ]
    },
    {
     "name": "stdout",
     "output_type": "stream",
     "text": [
      "\n",
      "Fit successful 17384\n",
      "[   0. -254.   25.]\n",
      "[  -1.41507101 -219.31124878   21.13463783]\n",
      "[  23.1287987  -223.77817462  -16.85909869    1.37787584] \n",
      "\n",
      "Starting run 17376.pckl\n",
      "PMTs in the fit pre-Q-cuts 0\n",
      "\n",
      "Fit successful 17376\n",
      "[   0. -254.   25.]\n",
      "[   6.92900801 -225.00495911   24.29921532]\n",
      "[   7.13740191 -238.99386814   24.59624244    1.358     ] \n",
      "\n",
      "Starting run 100556.pckl\n",
      "PMTs in the fit pre-Q-cuts 8317\n",
      "\n",
      "Fit successful 100556\n",
      "[   0. -254.   25.]\n",
      "[   3.82698131 -207.07707214   24.78620338]\n",
      "[  12.63069986 -209.13405742    0.44959142    1.37481259] \n",
      "\n",
      "Starting run 100554.pckl\n",
      "PMTs in the fit pre-Q-cuts 0\n",
      "\n",
      "Fit successful 100554\n",
      "[   0. -254.   25.]\n",
      "[   1.49445307 -205.81411743   27.46838951]\n",
      "[   1.59655644 -225.1215825    27.95520027    1.358     ] \n",
      "\n"
     ]
    }
   ],
   "source": [
    "fit_values = np.zeros([len(infile_list), 4])\n",
    "for i, one_run in enumerate(infile_list):\n",
    "    \n",
    "    print 'Starting run', one_run\n",
    "    \n",
    "    # Get the data\n",
    "    data = pickle.load(open(os.path.join(peakdir, one_run)))\n",
    "    \n",
    "    # Get the PMT quality\n",
    "    pmtq_fname = os.path.join(quality_dir, one_run.rstrip('.pckl') + '_PMT_quality.pckl')\n",
    "    pmtq_file = open(pmtq_fname)\n",
    "    pmtq = pickle.load(pmtq_file)\n",
    "    pmtq_file.close()\n",
    "        \n",
    "    # Select the PMTs that should be included in the fit\n",
    "    typebool = (pmt_info['type'] == 1) + (pmt_info['type']==7)\n",
    "    socpmts  = np.zeros_like(pmt_info['type'],dtype=bool)\n",
    "    socpmts[data['soc_pmts']] = True\n",
    "    nonzero_peaks = (data['delta_ts'][:,0] > 0)*(data['delta_ts'][:,1] > 0)\n",
    "    mypmtbool = np.array(typebool*socpmts*nonzero_peaks,dtype=bool)\n",
    "\n",
    "    print 'PMTs in the fit pre-Q-cuts', np.sum(mypmtbool)\n",
    "    \n",
    "    if use_quality_cuts:\n",
    "        pmt_q_bool = (pmtq['positive']*pmtq['global_cut']*pmtq['normal_pmts']*\n",
    "                      pmtq['nearby_cut']*pmtq['unobstructed'])\n",
    "    else:\n",
    "        pmt_q_bool = (pmtq['positive']*pmtq['unobstructed'])\n",
    "        \n",
    "\n",
    "    lbfit = FitLBpos( data = data['delta_ts'][:,data_index],\n",
    "                      error = np.abs(data['delta_ts'][:,0]-data['delta_ts'][:,1]),\n",
    "                      pmt_xyz = pmt_info['xyz'],\n",
    "                      pmtbool = mypmtbool*pmt_q_bool,\n",
    "                      print_call = False)\n",
    "    \n",
    "    wrapfcn = lambda p: lbfit(*p)\n",
    "    repeat_fit = True\n",
    "    \n",
    "    fit_counter = 0\n",
    "    while repeat_fit:\n",
    "        my_x0 = np.concatenate((data['fit_pos']*(1+np.random.rand(3)/10.), [1.358]))\n",
    "        fit = scipy.optimize.minimize(wrapfcn,\n",
    "                                  x0 = my_x0,\n",
    "                                  method='SLSQP',\n",
    "                                  bounds=((-6000,6000),\n",
    "                                          (-6000,6000),\n",
    "                                          (-6000,6000),\n",
    "                                          (0.5, 2.)),\n",
    "                                  options={'ftol':1E-7, 'maxiter':1000})\n",
    "        fit_counter += 1\n",
    "        if fit.success:\n",
    "            repeat_fit = False\n",
    "            fit_values[i, : ] = fit.x\n",
    "            print '\\nFit successful', one_run.rstrip('.pckl')\n",
    "            print data['manip_pos']\n",
    "            print data['fit_pos']\n",
    "            print fit.x, '\\n'\n",
    "        else:\n",
    "            print 'Trying again', fit_counter\n",
    "            if fit_counter >= 10:\n",
    "                print 'Tried to fit TEN times without success - check that'\n",
    "                fit_values[i,:] = [-1]*4\n",
    "                repeat_fit = False\n",
    "                \n",
    "    \n",
    "    \n",
    "    "
   ]
  },
  {
   "cell_type": "code",
   "execution_count": 43,
   "metadata": {
    "collapsed": false
   },
   "outputs": [
    {
     "name": "stdout",
     "output_type": "stream",
     "text": [
      "17386 \t180.2425\t-11.4041\t-1027.6274\t0.7258\n",
      "17377 \t2.5145\t-245.5338\t24.0817\t1.3000\n",
      "100558 \t-18.8864\t-254.9390\t34.8627\t1.3430\n",
      "100560 \t-58.0867\t-2350.9556\t-1858.5849\t0.8243\n",
      "100559 \t2.4010\t-208.1592\t27.6866\t1.3000\n",
      "17378 \t8.5218\t-242.6129\t8.4931\t1.3000\n",
      "17375 \t-11.4714\t-239.0169\t15.4847\t1.3288\n",
      "100555 \t150.5715\t657.4651\t2014.0393\t1.0409\n",
      "17384 \t24.3538\t-283.7317\t31.0462\t1.3412\n",
      "17376 \t7.3428\t-233.9207\t26.1119\t1.3000\n",
      "100556 \t7.1757\t-229.0435\t14.8138\t1.3578\n",
      "100554 \t1.4979\t-211.9499\t27.6768\t1.3000\n"
     ]
    }
   ],
   "source": [
    "for i, fname in enumerate(infile_list):\n",
    "    print fname.rstrip('.pckl'), '\\t', '\\t'.join([\"%0.4f\" % x for x in fit_values[i,:]])"
   ]
  },
  {
   "cell_type": "code",
   "execution_count": null,
   "metadata": {
    "collapsed": true
   },
   "outputs": [],
   "source": [
    "data"
   ]
  }
 ],
 "metadata": {
  "kernelspec": {
   "display_name": "Python 2",
   "language": "python",
   "name": "python2"
  },
  "language_info": {
   "codemirror_mode": {
    "name": "ipython",
    "version": 2
   },
   "file_extension": ".py",
   "mimetype": "text/x-python",
   "name": "python",
   "nbconvert_exporter": "python",
   "pygments_lexer": "ipython2",
   "version": "2.7.13"
  }
 },
 "nbformat": 4,
 "nbformat_minor": 2
}
