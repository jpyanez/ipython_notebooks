{
 "cells": [
  {
   "cell_type": "code",
   "execution_count": 151,
   "metadata": {
    "collapsed": false
   },
   "outputs": [],
   "source": [
    "import os, sys, pickle\n",
    "import matplotlib.pyplot as plt\n",
    "import numpy as np\n",
    "%matplotlib inline \n",
    "import jp_mpl as jplot\n",
    "import pickle, scipy\n",
    "from copy import deepcopy\n",
    "from scipy import optimize"
   ]
  },
  {
   "cell_type": "markdown",
   "metadata": {},
   "source": [
    "## Fitting class"
   ]
  },
  {
   "cell_type": "code",
   "execution_count": 152,
   "metadata": {
    "collapsed": false
   },
   "outputs": [],
   "source": [
    "class FitLBpos(object):\n",
    "    def __init__(self,\n",
    "                 data = None,\n",
    "                 error = None,\n",
    "                 pmt_xyz = None,\n",
    "                 pmtbool = None,\n",
    "                 psup_radius = 8390.,\n",
    "                 water_n = 1.34389,\n",
    "                 print_call = True):\n",
    "        self.c            = 0.299792458*1000 # mm/ns\n",
    "        self.data    = deepcopy(data)\n",
    "        self.pmt_xyz = deepcopy(pmt_xyz)\n",
    "        self.pmtbool = deepcopy(pmtbool)\n",
    "        self.pmt_r   = np.linalg.norm(pmt_xyz,axis=1)\n",
    "        self.header_done = False\n",
    "\n",
    "        self.R = psup_radius\n",
    "        #self.water_c = c/water_n\n",
    "        self.print_call = print_call\n",
    "        \n",
    "        self.pmtbool[self.data == 0] = False\n",
    "        \n",
    "        if error == None:\n",
    "            self.error = np.ones_like(data)\n",
    "        else:\n",
    "            self.error = error + 1 # Adding one ns for everything\n",
    "    \n",
    "    def print_eval_header(self):\n",
    "        print 'FCN \\t\\t u \\t v \\t w \\t n'\n",
    "        self.header_done = True\n",
    "        \n",
    "    def print_eval(self, value, u, v, w, n):\n",
    "        if not self.header_done:\n",
    "            self.print_eval_header()\n",
    "        print value, '\\t', u, '\\t', v, '\\t', w, '\\t', n\n",
    "        \n",
    "    def __call__(self, u, v, w, n):\n",
    "        this_pos = np.array([ u, v, w])\n",
    "        water_c = self.c/n\n",
    "        tdiff = 2*self.R/water_c* \\\n",
    "                (1+np.dot(self.pmt_xyz,this_pos)/(self.pmt_r*self.R))\n",
    "        \n",
    "        delta = (tdiff - self.data)[self.pmtbool]**2/self.error[self.pmtbool]**2\n",
    "        delta = np.sum(delta)\n",
    "        \n",
    "        if self.print_call:\n",
    "            self.print_eval(delta, u, v, w, n)\n",
    "        \n",
    "        return delta"
   ]
  },
  {
   "cell_type": "markdown",
   "metadata": {},
   "source": [
    "## PMT Information"
   ]
  },
  {
   "cell_type": "code",
   "execution_count": 153,
   "metadata": {
    "collapsed": false
   },
   "outputs": [],
   "source": [
    "pmt_info = pickle.load(open('/home/jpyanez/snoplus/snoplus_python/pmt_positions.pckl'))\n",
    "typebool = (pmt_info['type'] == 1) + (pmt_info['type']==7)"
   ]
  },
  {
   "cell_type": "code",
   "execution_count": 154,
   "metadata": {
    "collapsed": true
   },
   "outputs": [],
   "source": [
    "quality_dir = '/home/jpyanez/snoplus/data/laserball_quality'"
   ]
  },
  {
   "cell_type": "markdown",
   "metadata": {},
   "source": [
    "## Speed of light"
   ]
  },
  {
   "cell_type": "code",
   "execution_count": 155,
   "metadata": {
    "collapsed": true
   },
   "outputs": [],
   "source": [
    "c = 0.299792458*1000 # mm/ns, same as in Geant4"
   ]
  },
  {
   "cell_type": "markdown",
   "metadata": {},
   "source": [
    "## Getting SOC files - produce peaks files first"
   ]
  },
  {
   "cell_type": "code",
   "execution_count": 156,
   "metadata": {
    "collapsed": true
   },
   "outputs": [],
   "source": [
    "peakdir = '/home/jpyanez/snoplus/data/SOC_peak_files'"
   ]
  },
  {
   "cell_type": "code",
   "execution_count": 157,
   "metadata": {
    "collapsed": false
   },
   "outputs": [
    {
     "name": "stdout",
     "output_type": "stream",
     "text": [
      "0 SOC_0000017375.pckl\n",
      "1 SOC_0000100556.pckl\n",
      "2 SOC_0000100558.pckl\n",
      "3 SOC_0000101427.pckl\n",
      "4 SOC_0000101428.pckl\n",
      "5 SOC_0000101432.pckl\n",
      "6 SOC_0000101433.pckl\n",
      "7 SOC_0000102518.pckl\n",
      "8 SOC_0000102529.pckl\n",
      "9 SOC_0000102552.pckl\n",
      "10 SOC_0000102554.pckl\n",
      "11 SOC_0000102570.pckl\n",
      "12 SOC_0000102572.pckl\n",
      "13 SOC_0000102574.pckl\n"
     ]
    }
   ],
   "source": [
    "infile_list = [x for x in os.listdir(peakdir) if os.path.isfile(os.path.join(peakdir,x))]\n",
    "for i, x in enumerate(infile_list): print i, x "
   ]
  },
  {
   "cell_type": "markdown",
   "metadata": {},
   "source": [
    "# Fit everything!"
   ]
  },
  {
   "cell_type": "code",
   "execution_count": 164,
   "metadata": {
    "collapsed": true
   },
   "outputs": [],
   "source": [
    "use_quality_cuts = False\n",
    "use_peak = False # False means using dN/dt\n",
    "if use_peak:\n",
    "    data_index = 0\n",
    "else:\n",
    "    data_index = 1"
   ]
  },
  {
   "cell_type": "code",
   "execution_count": 165,
   "metadata": {
    "collapsed": false
   },
   "outputs": [
    {
     "data": {
      "text/plain": [
       "9728"
      ]
     },
     "execution_count": 165,
     "metadata": {},
     "output_type": "execute_result"
    }
   ],
   "source": [
    "np.sum(pmt_q_bool)"
   ]
  },
  {
   "cell_type": "code",
   "execution_count": 167,
   "metadata": {
    "collapsed": false
   },
   "outputs": [
    {
     "name": "stdout",
     "output_type": "stream",
     "text": [
      "Starting run SOC_0000017375.pckl\n",
      "PMTs in the fit 8666\n",
      "Trying again 1\n",
      "Trying again 2\n",
      "Trying again 3\n",
      "Trying again 4\n",
      "\n",
      "Fit successful SOC_0000017375\n",
      "[   0. -254.   25.]\n",
      "[   0.24428572 -226.06359863   23.39888954]\n",
      "[   5.72648664 -225.92315638  -21.27683212    1.34286238] \n",
      "\n",
      "Starting run SOC_0000100556.pckl\n",
      "PMTs in the fit 8311\n",
      "Trying again 1\n",
      "\n",
      "Fit successful SOC_0000100556\n",
      "[   0. -254.   25.]\n",
      "[   3.82698131 -207.07707214   24.78620338]\n",
      "[  -0.4222418  -214.7128939    -5.39609767    1.36361971] \n",
      "\n",
      "Starting run SOC_0000100558.pckl\n",
      "PMTs in the fit 8316\n",
      "\n",
      "Fit successful SOC_0000100558\n",
      "[   0. -254.   25.]\n",
      "[   6.7621541  -208.42858887   26.4679184 ]\n",
      "[  -1.0662136  -233.34347538    3.80489529    1.35554063] \n",
      "\n",
      "Starting run SOC_0000101427.pckl\n",
      "PMTs in the fit 7946\n",
      "\n",
      "Fit successful SOC_0000101427\n",
      "[   0. -254.   25.]\n",
      "[ -20.76714706 -224.04202271   15.78341579]\n",
      "[-141.24503297   55.51353952  693.2448581     1.27947925] \n",
      "\n",
      "Starting run SOC_0000101428.pckl\n",
      "PMTs in the fit 8601\n",
      "\n",
      "Fit successful SOC_0000101428\n",
      "[   0. -254.   25.]\n",
      "[  -1.59058142 -222.88720703   17.9711895 ]\n",
      "[  -3.02540744 -225.76773024  -19.36509186    1.35327403] \n",
      "\n",
      "Starting run SOC_0000101432.pckl\n",
      "PMTs in the fit 8605\n",
      "Trying again 1\n",
      "Trying again 2\n",
      "\n",
      "Fit successful SOC_0000101432\n",
      "[   0. -254.   25.]\n",
      "[  -4.87509012 -220.33872986   16.92965698]\n",
      "[ -7.28581690e-02  -2.26846291e+02  -1.90669760e+01   1.36610519e+00] \n",
      "\n",
      "Starting run SOC_0000101433.pckl\n",
      "PMTs in the fit 8592\n",
      "\n",
      "Fit successful SOC_0000101433\n",
      "[   0. -254.   25.]\n",
      "[  -5.06806898 -220.26965332   17.70077133]\n",
      "[ -14.02173487 -246.4081317   127.57624571    1.3403367 ] \n",
      "\n",
      "Starting run SOC_0000102518.pckl\n",
      "PMTs in the fit 8441\n",
      "Trying again 1\n",
      "Trying again 2\n",
      "Trying again 3\n",
      "\n",
      "Fit successful SOC_0000102518\n",
      "[   0. -254.   25.]\n",
      "[ -1.53047293e-02  -2.18097885e+02   3.48450661e+01]\n",
      "[  -2.85755226 -225.83696574   -0.79514954    1.34897194] \n",
      "\n",
      "Starting run SOC_0000102529.pckl\n",
      "PMTs in the fit 8445\n",
      "Trying again 1\n",
      "Trying again 2\n",
      "Trying again 3\n",
      "Trying again 4\n",
      "Trying again 5\n",
      "Trying again 6\n",
      "Trying again 7\n",
      "\n",
      "Fit successful SOC_0000102529\n",
      "[   0. -254.   25.]\n",
      "[ -10.89273453 -216.66325378   32.9556427 ]\n",
      "[  -2.4594886  -223.72620382  -10.09689124    1.36385559] \n",
      "\n",
      "Starting run SOC_0000102552.pckl\n",
      "PMTs in the fit 8656\n",
      "Trying again 1\n",
      "Trying again 2\n",
      "Trying again 3\n",
      "Trying again 4\n",
      "Trying again 5\n",
      "Trying again 6\n",
      "Trying again 7\n",
      "Trying again 8\n",
      "Trying again 9\n",
      "\n",
      "Fit successful SOC_0000102552\n",
      "[   0. -254.   25.]\n",
      "[  10.72977734 -217.3815155     4.58402491]\n",
      "[-231.21578863  197.75812633  808.57853111    1.15482306] \n",
      "\n",
      "Starting run SOC_0000102554.pckl\n",
      "PMTs in the fit 8661\n",
      "Trying again 1\n",
      "Trying again 2\n",
      "Trying again 3\n",
      "\n",
      "Fit successful SOC_0000102554\n",
      "[   0. -254.   25.]\n",
      "[  10.25102615 -220.20629883    5.30883026]\n",
      "[  -2.76621804 -257.75499654    0.73480706    1.35727938] \n",
      "\n",
      "Starting run SOC_0000102570.pckl\n",
      "PMTs in the fit 8663\n",
      "Trying again 1\n",
      "Trying again 2\n",
      "Trying again 3\n",
      "Trying again 4\n",
      "Trying again 5\n",
      "Trying again 6\n",
      "Trying again 7\n",
      "Trying again 8\n",
      "Trying again 9\n",
      "Trying again 10\n",
      "Tried to fit TEN times without success - check that\n",
      "Starting run SOC_0000102572.pckl\n",
      "PMTs in the fit 8649\n",
      "Trying again 1\n",
      "\n",
      "Fit successful SOC_0000102572\n",
      "[    0.  -254.  5525.]\n",
      "[   14.71017838  -253.41467285  4729.13769531]\n",
      "[ -2.44438573e+01  -7.55238323e+01   1.89374597e+03   1.23483864e+00] \n",
      "\n",
      "Starting run SOC_0000102574.pckl\n",
      "PMTs in the fit 8452\n",
      "Trying again 1\n",
      "\n",
      "Fit successful SOC_0000102574\n",
      "[   0. -254.   25.]\n",
      "[  10.81211185 -223.69639587   -3.6282928 ]\n",
      "[  -7.87315096 -188.94021709   -6.55176032    1.37167175] \n",
      "\n"
     ]
    },
    {
     "name": "stderr",
     "output_type": "stream",
     "text": [
      "/gs/software/CentOS-6/eb/software/Toolchain/iomkl/2015b/IPython/3.2.1-Python-2.7.10/lib/python2.7/site-packages/IPython/kernel/__main__.py:23: FutureWarning: comparison to `None` will result in an elementwise object comparison in the future.\n"
     ]
    }
   ],
   "source": [
    "fit_values = np.zeros([len(infile_list), 4])\n",
    "manip_values = np.zeros([len(infile_list), 3])\n",
    "socfit_values = np.zeros_like(manip_values)\n",
    "average_occ   = np.zeros(len(infile_list))\n",
    "average_occ_all = np.zeros_like(average_occ)\n",
    "for i, one_run in enumerate(infile_list):\n",
    "    \n",
    "    print 'Starting run', one_run\n",
    "    \n",
    "    # Get the data\n",
    "    data = pickle.load(open(os.path.join(peakdir, one_run)))\n",
    "    \n",
    "    # Get the PMT quality\n",
    "    if use_quality_cuts:\n",
    "        pmtq_fname = os.path.join(quality_dir, one_run.rstrip('.pckl') + '_PMT_quality.pckl')\n",
    "        pmtq_file = open(pmtq_fname)\n",
    "        pmtq = pickle.load(pmtq_file)\n",
    "        pmtq_file.close()\n",
    "        \n",
    "    # Select the PMTs that should be included in the fit\n",
    "    socpmts  = np.zeros_like(pmt_info['type'],dtype=bool)\n",
    "    socpmts[data['soc_pmts']] = True\n",
    "    nonzero_peaks = (data['delta_ts'][:,0] > 0)*(data['delta_ts'][:,1] > 0)\n",
    "    mypmtbool = np.array(typebool*socpmts*nonzero_peaks,dtype=bool)\n",
    "\n",
    "    \n",
    "    if use_quality_cuts:\n",
    "        pmt_q_bool = (pmtq['positive']*pmtq['global_cut']*pmtq['normal_pmts']*\n",
    "                      pmtq['nearby_cut']*pmtq['unobstructed'])\n",
    "    else:\n",
    "        pmt_q_bool = np.ones_like(mypmtbool)\n",
    "        #pmt_q_bool = (pmtq['positive']*pmtq['unobstructed'])\n",
    "        \n",
    "\n",
    "    lbfit = FitLBpos( data = data['delta_ts'][:,data_index],\n",
    "                      error = np.abs(data['delta_ts'][:,0]-data['delta_ts'][:,1]),\n",
    "                      pmt_xyz = pmt_info['xyz'],\n",
    "                      pmtbool = mypmtbool*pmt_q_bool,\n",
    "                      print_call = False)\n",
    "    \n",
    "    print 'PMTs in the fit', np.sum(lbfit.pmtbool)\n",
    "\n",
    "    \n",
    "    wrapfcn = lambda p: lbfit(*p)\n",
    "    repeat_fit = True\n",
    "    \n",
    "    average_occ[i] = data['poccupancy'][lbfit.pmtbool*~np.isnan(data['poccupancy'])].mean()\n",
    "    average_occ_all[i] = data['poccupancy'][data['poccupancy']>0.].mean()\n",
    "    \n",
    "    fit_counter = 0\n",
    "    while repeat_fit:\n",
    "        my_x0 = np.concatenate((data['fit_pos']*(1+np.random.rand(3)/10.), [1.3]))\n",
    "        fit = optimize.minimize(wrapfcn,\n",
    "                                  x0 = my_x0,\n",
    "                                  method='SLSQP',\n",
    "                                  bounds=((-6500,6500),\n",
    "                                          (-6500,6500),\n",
    "                                          (-6500,6500),\n",
    "                                          (0.5, 2.)),\n",
    "                                  options={'ftol':1E-7, 'maxiter':1000})\n",
    "        fit_counter += 1\n",
    "        if fit.success:\n",
    "            repeat_fit = False\n",
    "            fit_values[i, : ] = fit.x\n",
    "            print '\\nFit successful', one_run.rstrip('.pckl')\n",
    "            print data['manip_pos']\n",
    "            print data['fit_pos']\n",
    "            print fit.x, '\\n'\n",
    "            manip_values[i,:] = data['manip_pos']\n",
    "            socfit_values[i,:] = data['fit_pos']\n",
    "        else:\n",
    "            print 'Trying again', fit_counter\n",
    "            if fit_counter >= 10:\n",
    "                print 'Tried to fit TEN times without success - check that'\n",
    "                fit_values[i,:] = [-1]*4\n",
    "                repeat_fit = False\n",
    "                \n",
    "        \n",
    "    \n",
    "    "
   ]
  },
  {
   "cell_type": "code",
   "execution_count": 168,
   "metadata": {
    "collapsed": false
   },
   "outputs": [],
   "source": [
    "# Figure out who has the maximum occupancy\n",
    "average_occ[np.isnan(average_occ)] = 0."
   ]
  },
  {
   "cell_type": "code",
   "execution_count": 169,
   "metadata": {
    "collapsed": false
   },
   "outputs": [
    {
     "name": "stdout",
     "output_type": "stream",
     "text": [
      "SOC_0000017375 \t5.7265\t-225.9232\t-21.2768\t1.3429\n",
      "SOC_0000100556 \t-0.4222\t-214.7129\t-5.3961\t1.3636\n",
      "SOC_0000100558 \t-1.0662\t-233.3435\t3.8049\t1.3555\n",
      "SOC_0000101427 \t-141.2450\t55.5135\t693.2449\t1.2795\n",
      "SOC_0000101428 \t-3.0254\t-225.7677\t-19.3651\t1.3533\n",
      "SOC_0000101432 \t-0.0729\t-226.8463\t-19.0670\t1.3661\n",
      "SOC_0000101433 \t-14.0217\t-246.4081\t127.5762\t1.3403\n",
      "SOC_0000102518 \t-2.8576\t-225.8370\t-0.7951\t1.3490\n",
      "SOC_0000102529 \t-2.4595\t-223.7262\t-10.0969\t1.3639\n",
      "SOC_0000102552 \t-231.2158\t197.7581\t808.5785\t1.1548\n",
      "SOC_0000102554 \t-2.7662\t-257.7550\t0.7348\t1.3573\n",
      "SOC_0000102570 \t-1.0000\t-1.0000\t-1.0000\t-1.0000\n",
      "SOC_0000102572 \t-24.4439\t-75.5238\t1893.7460\t1.2348\n",
      "SOC_0000102574 \t-7.8732\t-188.9402\t-6.5518\t1.3717\n"
     ]
    }
   ],
   "source": [
    "run_list = []\n",
    "for i, fname in enumerate(infile_list):\n",
    "    print fname.rstrip('.pckl').rstrip('_reprocessed'), '\\t', '\\t'.join([\"%0.4f\" % x for x in fit_values[i,:]])\n",
    "    run_list.append(fname.lstrip('SOC_0000').rstrip('.pckl').rstrip('_newPCA').rstrip('_reprocessed'))"
   ]
  },
  {
   "cell_type": "code",
   "execution_count": 170,
   "metadata": {
    "collapsed": false
   },
   "outputs": [
    {
     "data": {
      "text/plain": [
       "(-0.5, 14.5)"
      ]
     },
     "execution_count": 170,
     "metadata": {},
     "output_type": "execute_result"
    },
    {
     "data": {
      "image/png": "[encoded data removed]",
      "text/plain": [
       "<matplotlib.figure.Figure at 0x2b79cd3054d0>"
      ]
     },
     "metadata": {},
     "output_type": "display_data"
    }
   ],
   "source": [
    "fig = plt.figure(figsize=(9,12))\n",
    "axes = []\n",
    "\n",
    "axes.append(fig.add_subplot(511))\n",
    "\n",
    "plt.xlabel('Run')\n",
    "\n",
    "plt.plot(average_occ, 'xr')\n",
    "plt.plot(average_occ_all, 'xc')\n",
    "plt.ylim([0, average_occ.max()*1.1])\n",
    "plt.axhline(y=2700, xmin = 0, xmax=len(run_list), color = 'k', linestyle = '--')\n",
    "\n",
    "plt.ylabel('Mean occ.')\n",
    "for i, value_name in enumerate(['x', 'y', 'z', 'n']):\n",
    "    axes.append(fig.add_subplot(5, 1, i+2, sharex=axes[0]))\n",
    "    plt.ylabel(value_name)\n",
    "    plt.plot(fit_values[:,i], 'xr')\n",
    "    if i < 3:\n",
    "        plt.plot(manip_values[:,i], '.g')\n",
    "        plt.plot(socfit_values[:,i], '.c')\n",
    "        plt.ylim(-400, 400)\n",
    "    if i == 3:\n",
    "        plt.ylim([1.0, 1.6])\n",
    "plt.subplots_adjust(hspace = 0.)\n",
    "axes[-1].set_xticks(range(0, len(run_list)))\n",
    "axes[-1].set_xticklabels(run_list,rotation=90)\n",
    "axes[-1].set_xlim(-0.5, len(run_list)+0.5)"
   ]
  },
  {
   "cell_type": "code",
   "execution_count": null,
   "metadata": {
    "collapsed": true
   },
   "outputs": [],
   "source": []
  },
  {
   "cell_type": "code",
   "execution_count": null,
   "metadata": {
    "collapsed": true
   },
   "outputs": [],
   "source": []
  },
  {
   "cell_type": "code",
   "execution_count": null,
   "metadata": {
    "collapsed": true
   },
   "outputs": [],
   "source": []
  }
 ],
 "metadata": {
  "kernelspec": {
   "display_name": "Python 2",
   "language": "python",
   "name": "python2"
  },
  "language_info": {
   "codemirror_mode": {
    "name": "ipython",
    "version": 2
   },
   "file_extension": ".py",
   "mimetype": "text/x-python",
   "name": "python",
   "nbconvert_exporter": "python",
   "pygments_lexer": "ipython2",
   "version": "2.7.10"
  }
 },
 "nbformat": 4,
 "nbformat_minor": 2
}
