{
 "cells": [
  {
   "cell_type": "code",
   "execution_count": 119,
   "metadata": {
    "collapsed": false
   },
   "outputs": [],
   "source": [
    "import os, sys, pickle\n",
    "\n",
    "import matplotlib.pyplot as plt\n",
    "import numpy as np\n",
    "%matplotlib inline \n",
    "\n",
    "import jp_mpl as jplot\n",
    "import random\n",
    "from copy import deepcopy\n",
    "\n",
    "# My tools\n",
    "import jp_analysis as analysis\n",
    "reload(analysis)\n",
    "\n",
    "from scipy import optimize"
   ]
  },
  {
   "cell_type": "code",
   "execution_count": 421,
   "metadata": {
    "collapsed": false
   },
   "outputs": [],
   "source": [
    "import reflection_fit"
   ]
  },
  {
   "cell_type": "code",
   "execution_count": 779,
   "metadata": {
    "collapsed": true
   },
   "outputs": [],
   "source": [
    "pmt_info = pickle.load(open('/home/jpyanez/snoplus/snoplus_python/pmt_positions.pckl'))\n",
    "shadowed= pickle.load(open('/home/jpyanez/scratch/SOC_shadows/SOC_0000102574.pckl'))\n",
    "pmtbool = (pmt_info['type'] == 1)+(pmt_info['type'] == 7) * ~shadowed\n",
    "c = 0.299792458*1000 # mm/ns, same as in Geant4"
   ]
  },
  {
   "cell_type": "code",
   "execution_count": 780,
   "metadata": {
    "collapsed": true
   },
   "outputs": [],
   "source": [
    "# Settings\n",
    "#myinput = '/home/jpyanez/scratch/laserball/337/p300_n300_0'\n",
    "#myinput = '/home/jpyanez/scratch/laserball/337/p300_n300_p400'\n",
    "\n",
    "\n",
    "#myinput = '/home/jpyanez/scratch/laserball/337/0_n300_p400'\n",
    "\n",
    "myinput = '/home/jpyanez/scratch/laserball/337/0_0_n200'\n",
    "\n",
    "#myinput = '/home/jpyanez/scratch/laserball/337/0_n300_n300'\n",
    "\n",
    "#myinput = '/home/jpyanez/scratch/laserball/337/p300_0_0'\n",
    "\n",
    "#myinput = '/home/jpyanez/scratch/laserball/337/0_0_0'\n",
    "#myinput = '/home/jpyanez/scratch/laserball/505/0_0_0'\n",
    "\n",
    "analyze_fraction = 1."
   ]
  },
  {
   "cell_type": "code",
   "execution_count": 781,
   "metadata": {
    "collapsed": true
   },
   "outputs": [],
   "source": [
    "# Make it work either for a directory or a file\n",
    "if os.path.isdir(myinput):\n",
    "    infile_list = [os.path.join(myinput,x) for x in os.listdir(myinput) if '.pckl' in x]\n",
    "else:\n",
    "    infile_list = [myinput]    "
   ]
  },
  {
   "cell_type": "code",
   "execution_count": 782,
   "metadata": {
    "collapsed": true
   },
   "outputs": [],
   "source": [
    "# Randomize the list of files\n",
    "random.shuffle(infile_list)"
   ]
  },
  {
   "cell_type": "code",
   "execution_count": 783,
   "metadata": {
    "collapsed": false
   },
   "outputs": [],
   "source": [
    "# Select a subset of files\n",
    "total_files = int(np.ceil(len(infile_list)*analyze_fraction))\n",
    "infile_list = infile_list[:total_files]"
   ]
  },
  {
   "cell_type": "code",
   "execution_count": 784,
   "metadata": {
    "collapsed": false
   },
   "outputs": [
    {
     "name": "stdout",
     "output_type": "stream",
     "text": [
      "/home/jpyanez/scratch/laserball/337/0_0_n200/8_lb_wn_337_TOA.pckl  has no  occupancy\n",
      "/home/jpyanez/scratch/laserball/337/0_0_n200/12_lb_wn_337_TOA.pckl  has no  occupancy\n",
      "/home/jpyanez/scratch/laserball/337/0_0_n200/6_lb_wn_337_TOA.pckl  has no  occupancy\n",
      "/home/jpyanez/scratch/laserball/337/0_0_n200/4_lb_wn_337_TOA.pckl  has no  occupancy\n",
      "/home/jpyanez/scratch/laserball/337/0_0_n200/15_lb_wn_337_TOA.pckl  has no  occupancy\n",
      "/home/jpyanez/scratch/laserball/337/0_0_n200/2_lb_wn_337_TOA.pckl  has no  occupancy\n",
      "/home/jpyanez/scratch/laserball/337/0_0_n200/9_lb_wn_337_TOA.pckl  has no  occupancy\n",
      "/home/jpyanez/scratch/laserball/337/0_0_n200/18_lb_wn_337_TOA.pckl  has no  occupancy\n",
      "/home/jpyanez/scratch/laserball/337/0_0_n200/13_lb_wn_337_TOA.pckl  has no  occupancy\n",
      "/home/jpyanez/scratch/laserball/337/0_0_n200/10_lb_wn_337_TOA.pckl  has no  occupancy\n",
      "/home/jpyanez/scratch/laserball/337/0_0_n200/14_lb_wn_337_TOA.pckl  has no  occupancy\n",
      "/home/jpyanez/scratch/laserball/337/0_0_n200/19_lb_wn_337_TOA.pckl  has no  occupancy\n",
      "/home/jpyanez/scratch/laserball/337/0_0_n200/3_lb_wn_337_TOA.pckl  has no  occupancy\n",
      "/home/jpyanez/scratch/laserball/337/0_0_n200/1_lb_wn_337_TOA.pckl  has no  occupancy\n",
      "/home/jpyanez/scratch/laserball/337/0_0_n200/20_lb_wn_337_TOA.pckl  has no  occupancy\n",
      "/home/jpyanez/scratch/laserball/337/0_0_n200/5_lb_wn_337_TOA.pckl  has no  occupancy\n",
      "/home/jpyanez/scratch/laserball/337/0_0_n200/7_lb_wn_337_TOA.pckl  has no  occupancy\n",
      "/home/jpyanez/scratch/laserball/337/0_0_n200/16_lb_wn_337_TOA.pckl  has no  occupancy\n"
     ]
    }
   ],
   "source": [
    "# Open infiles, load and sum the histograms\n",
    "sumkeys = ['toa_map', 'occupancy']\n",
    "for iFile, fname in enumerate(infile_list):\n",
    "    fopen     = open(fname)\n",
    "    this_data = pickle.load(fopen)\n",
    "    if iFile == 0:\n",
    "        data = deepcopy(this_data)\n",
    "    else:\n",
    "        for one_key in sumkeys:\n",
    "            if this_data.has_key(one_key):\n",
    "                data[one_key] += this_data[one_key]\n",
    "            else:\n",
    "                print fname, ' has no ', one_key\n",
    "    fopen.close()\n",
    "    "
   ]
  },
  {
   "cell_type": "code",
   "execution_count": 785,
   "metadata": {
    "collapsed": false
   },
   "outputs": [
    {
     "name": "stdout",
     "output_type": "stream",
     "text": [
      "Maximum PMT occupancy  460000.0\n"
     ]
    }
   ],
   "source": [
    "print 'Maximum PMT occupancy ', data['toa_map'].max()"
   ]
  },
  {
   "cell_type": "markdown",
   "metadata": {},
   "source": [
    "print 'PMT time of arrival map'\n",
    "plt.imshow(np.log10(data['toa_map']).T, origin='lower', aspect='auto')\n",
    "plt.colorbar()"
   ]
  },
  {
   "cell_type": "code",
   "execution_count": 786,
   "metadata": {
    "collapsed": false
   },
   "outputs": [
    {
     "data": {
      "text/plain": [
       "['time_edges', 'toa_map', 'manip_pos', 'occupancy']"
      ]
     },
     "execution_count": 786,
     "metadata": {},
     "output_type": "execute_result"
    }
   ],
   "source": [
    "data.keys()"
   ]
  },
  {
   "cell_type": "code",
   "execution_count": 787,
   "metadata": {
    "collapsed": true
   },
   "outputs": [],
   "source": [
    "toa_peak = np.zeros([pmt_info['type'].size, 4])\n",
    "toa_dpeak = np.zeros_like(toa_peak)\n",
    "toa_gaus = np.zeros_like(toa_peak)"
   ]
  },
  {
   "cell_type": "code",
   "execution_count": 788,
   "metadata": {
    "collapsed": false
   },
   "outputs": [
    {
     "data": {
      "text/plain": [
       "<module 'reflection_fit' from '/home/jpyanez/snoplus/snoplus_python/reflection_fit.pyc'>"
      ]
     },
     "execution_count": 788,
     "metadata": {},
     "output_type": "execute_result"
    }
   ],
   "source": [
    "reload(reflection_fit)"
   ]
  },
  {
   "cell_type": "code",
   "execution_count": 789,
   "metadata": {
    "collapsed": false
   },
   "outputs": [],
   "source": [
    "for iPMT in range(toa.shape[0]):\n",
    "    toa_peak[iPMT,:] = reflection_fit.getPeakTimes( n = data['toa_map'][iPMT,:],\n",
    "                                               ybins = data['time_edges'],\n",
    "                                                  refl_peak_width=4.5)\n",
    "    toa_dpeak[iPMT,:] = reflection_fit.getDPeakTimes( n = data['toa_map'][iPMT,:],\n",
    "                                               ybins = data['time_edges'],\n",
    "                                                  refl_peak_width=4.5 )\n",
    "    toa_gaus[iPMT,:] = reflection_fit.getGausTimes( n = data['toa_map'][iPMT,:],\n",
    "                                               ybins = data['time_edges'],\n",
    "                                                  refl_peak_width=4.5 )"
   ]
  },
  {
   "cell_type": "code",
   "execution_count": 790,
   "metadata": {
    "collapsed": true
   },
   "outputs": [],
   "source": [
    "# Defining GOOD data\n",
    "peakbool= (toa_peak[:,0] > 0) * (toa_peak[:,2]>0)\n",
    "dpeakbool =  (toa_dpeak[:,0] > 0) * (toa_dpeak[:,2]>0)\n",
    "gausbool = (toa_gaus[:,0]>0)*(toa_gaus[:,2]>0)"
   ]
  },
  {
   "cell_type": "code",
   "execution_count": 791,
   "metadata": {
    "collapsed": true
   },
   "outputs": [],
   "source": [
    "# Defining the tdiff and errors\n",
    "peak_tdiff  = toa_peak[:,2] - toa_peak[:,0]\n",
    "dpeak_tdiff = toa_dpeak[:,2] - toa_dpeak[:,0]\n",
    "gaus_tdiff  = toa_gaus[:,2] - toa_gaus[:,0]\n",
    "\n",
    "# Defining errors\n",
    "peak_err  = dpeak_err = np.ones_like(peak_tdiff)\n",
    "gaus_err  = np.sqrt(toa_gaus[:,1]**2 + toa_gaus[:,3]**2)"
   ]
  },
  {
   "cell_type": "code",
   "execution_count": 792,
   "metadata": {
    "collapsed": false
   },
   "outputs": [],
   "source": [
    "peakfit = reflection_fit.FitLBpos( data = peak_tdiff,\n",
    "                                   error = peak_err,\n",
    "                                   pmt_xyz = pmt_info['xyz'],\n",
    "                                   pmtbool = peakbool*pmtbool,\n",
    "                                   print_call = False)"
   ]
  },
  {
   "cell_type": "code",
   "execution_count": 793,
   "metadata": {
    "collapsed": true
   },
   "outputs": [],
   "source": [
    "dpeakfit = reflection_fit.FitLBpos( data = dpeak_tdiff,\n",
    "                                   error = dpeak_err,\n",
    "                                   pmt_xyz = pmt_info['xyz'],\n",
    "                                   pmtbool = dpeakbool*pmtbool,\n",
    "                                   print_call = False)"
   ]
  },
  {
   "cell_type": "code",
   "execution_count": 794,
   "metadata": {
    "collapsed": true
   },
   "outputs": [],
   "source": [
    "gausfit = reflection_fit.FitLBpos( data = gaus_tdiff,\n",
    "                                   error = gaus_err,\n",
    "                                   pmt_xyz = pmt_info['xyz'],\n",
    "                                   pmtbool = gausbool*pmtbool,\n",
    "                                   print_call = False)"
   ]
  },
  {
   "cell_type": "code",
   "execution_count": 795,
   "metadata": {
    "collapsed": false
   },
   "outputs": [
    {
     "name": "stdout",
     "output_type": "stream",
     "text": [
      "PEAK good fit at  2\n"
     ]
    }
   ],
   "source": [
    "wrapfcn = lambda p: peakfit(*p)\n",
    "fit_counter = 0\n",
    "repeat_fit = True\n",
    "while repeat_fit:\n",
    "    my_x0 = np.concatenate((data['manip_pos']*(1+np.random.rand(3)/10.) + np.random.rand(3)/20., [1.3]))\n",
    "    peakr = optimize.minimize(wrapfcn,\n",
    "                        x0 = my_x0,\n",
    "                        method = 'SLSQP',\n",
    "                        bounds=((-6500,6500),\n",
    "                                (-6500,6500),\n",
    "                                (-6500,6500),\n",
    "                                (0.5, 2.)),\n",
    "                        options={'ftol':1E-7, 'maxiter':1000})\n",
    "    fit_counter += 1\n",
    "    if peakr.success:\n",
    "        repeat_fit = False\n",
    "        print 'PEAK good fit at ', fit_counter\n",
    "    if fit_counter >= 20:\n",
    "        print 'PEAK Fit failed! Check why'\n",
    "        repeat_fit = False"
   ]
  },
  {
   "cell_type": "code",
   "execution_count": 796,
   "metadata": {
    "collapsed": false
   },
   "outputs": [
    {
     "name": "stdout",
     "output_type": "stream",
     "text": [
      "PEAK Fit failed! Check why\n"
     ]
    }
   ],
   "source": [
    "wrapfcn = lambda p: dpeakfit(*p)\n",
    "fit_counter = 0\n",
    "repeat_fit = True\n",
    "while repeat_fit:\n",
    "    my_x0 = np.concatenate((data['manip_pos']*(1+np.random.rand(3)/10.) + np.random.rand(3)/20., [1.3]))\n",
    "    dpeakr = optimize.minimize(wrapfcn,\n",
    "                        x0 = my_x0,\n",
    "                        method = 'SLSQP',\n",
    "                        bounds=((-6500,6500),\n",
    "                                (-6500,6500),\n",
    "                                (-6500,6500),\n",
    "                                (0.5, 2.)),\n",
    "                        options={'ftol':1E-7, 'maxiter':1000})\n",
    "    fit_counter += 1\n",
    "    if dpeakr.success:\n",
    "        repeat_fit = False\n",
    "        print 'DPEAK good fit at ', fit_counter\n",
    "    if fit_counter >= 20:\n",
    "        print 'PEAK Fit failed! Check why'\n",
    "        repeat_fit = False"
   ]
  },
  {
   "cell_type": "code",
   "execution_count": 797,
   "metadata": {
    "collapsed": false
   },
   "outputs": [
    {
     "name": "stdout",
     "output_type": "stream",
     "text": [
      "GAUS Fit failed! Check why\n"
     ]
    }
   ],
   "source": [
    "wrapfcn = lambda p: gausfit(*p)\n",
    "fit_counter = 0\n",
    "repeat_fit = True\n",
    "while repeat_fit:\n",
    "    my_x0 = np.concatenate((data['manip_pos']*(1+np.random.rand(3)/10.) + np.random.rand(3)/100., [1.3]))\n",
    "    gausr = optimize.minimize(wrapfcn,\n",
    "                        x0 = my_x0,\n",
    "                        method = 'SLSQP',\n",
    "                        bounds=((-6500,6500),\n",
    "                                (-6500,6500),\n",
    "                                (-6500,6500),\n",
    "                                (0.5, 2.)),\n",
    "                        options={'ftol':1E-7, 'maxiter':1000})\n",
    "    fit_counter += 1\n",
    "    if gausr.success:\n",
    "        repeat_fit = False\n",
    "        print 'GAUS good fit at ', fit_counter\n",
    "    if fit_counter >= 20:\n",
    "        print 'GAUS Fit failed! Check why'\n",
    "        repeat_fit = False"
   ]
  },
  {
   "cell_type": "code",
   "execution_count": 798,
   "metadata": {
    "collapsed": false
   },
   "outputs": [
    {
     "name": "stdout",
     "output_type": "stream",
     "text": [
      "Peaks [   3.03903302   -4.1566993  -171.322532      1.40789053]\n",
      "Derivative [  2.26323017e-02   1.96636049e-02  -2.12199665e+02   1.30000000e+00]\n",
      "Gaus fit [ nan  nan  nan  nan]\n"
     ]
    }
   ],
   "source": [
    "print 'Peaks', peakr.x\n",
    "print 'Derivative', dpeakr.x\n",
    "print 'Gaus fit', gausr.x"
   ]
  },
  {
   "cell_type": "code",
   "execution_count": 799,
   "metadata": {
    "collapsed": false
   },
   "outputs": [
    {
     "name": "stdout",
     "output_type": "stream",
     "text": [
      "Peaks: Optimization terminated successfully.\n",
      "Derivative: Positive directional derivative for linesearch\n",
      "Gaus fit: Iteration limit exceeded\n"
     ]
    }
   ],
   "source": [
    "print 'Peaks:', peakr.message\n",
    "print 'Derivative:', dpeakr.message\n",
    "print 'Gaus fit:', gausr.message"
   ]
  },
  {
   "cell_type": "code",
   "execution_count": 800,
   "metadata": {
    "collapsed": true
   },
   "outputs": [],
   "source": [
    "outdir = '/home/jpyanez/scratch/laserball_results'"
   ]
  },
  {
   "cell_type": "code",
   "execution_count": 801,
   "metadata": {
    "collapsed": true
   },
   "outputs": [],
   "source": [
    "results = {'manip': data['manip_pos'],\n",
    "           'fit_peaks':peakr.x,\n",
    "           'fit_dpeaks':dpeakr.x,\n",
    "           'fit_gaus':gausr.x}"
   ]
  },
  {
   "cell_type": "code",
   "execution_count": 802,
   "metadata": {
    "collapsed": false
   },
   "outputs": [
    {
     "data": {
      "text/plain": [
       "'337_0_0_n200'"
      ]
     },
     "execution_count": 802,
     "metadata": {},
     "output_type": "execute_result"
    }
   ],
   "source": [
    "myinput.split('/')[-2]+ '_' + myinput.split('/')[-1]"
   ]
  },
  {
   "cell_type": "code",
   "execution_count": 803,
   "metadata": {
    "collapsed": true
   },
   "outputs": [],
   "source": [
    "outfile_name = os.path.join(outdir, myinput.split('/')[-2]+ '_' + myinput.split('/')[-1] + '.pckl')"
   ]
  },
  {
   "cell_type": "code",
   "execution_count": 804,
   "metadata": {
    "collapsed": true
   },
   "outputs": [],
   "source": [
    "pickle.dump(results, open(outfile_name, 'w'))"
   ]
  },
  {
   "cell_type": "code",
   "execution_count": null,
   "metadata": {
    "collapsed": true
   },
   "outputs": [],
   "source": []
  }
 ],
 "metadata": {
  "kernelspec": {
   "display_name": "Python 2",
   "language": "python",
   "name": "python2"
  },
  "language_info": {
   "codemirror_mode": {
    "name": "ipython",
    "version": 2
   },
   "file_extension": ".py",
   "mimetype": "text/x-python",
   "name": "python",
   "nbconvert_exporter": "python",
   "pygments_lexer": "ipython2",
   "version": "2.7.13"
  }
 },
 "nbformat": 4,
 "nbformat_minor": 1
}
