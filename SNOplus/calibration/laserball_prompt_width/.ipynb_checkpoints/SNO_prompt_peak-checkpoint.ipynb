{
 "cells": [
  {
   "cell_type": "code",
   "execution_count": 26,
   "metadata": {
    "collapsed": false
   },
   "outputs": [],
   "source": [
    "import ROOT\n",
    "import os, sys, pickle\n",
    "\n",
    "import matplotlib.pyplot as plt\n",
    "import numpy as np\n",
    "import collections\n",
    "%matplotlib inline \n",
    "\n",
    "import jp_mpl as jplot\n",
    "\n",
    "import pickle\n",
    "import ratdb_reader\n",
    "reload(ratdb_reader)\n",
    "from scipy import interpolate"
   ]
  },
  {
   "cell_type": "code",
   "execution_count": 2,
   "metadata": {
    "collapsed": false
   },
   "outputs": [
    {
     "name": "stdout",
     "output_type": "stream",
     "text": [
      "reader: Creating a dict in line 4\n",
      "reader: Closing a dict in line 17\n",
      "reader: Creating a dict in line 19\n",
      "reader: Closing a dict in line 34\n"
     ]
    }
   ],
   "source": [
    "infile_name = '/home/jpyanez/snoplus/software/rat/data/PMTTRANSIT.ratdb'\n",
    "dbdata = ratdb_reader.dbreader(infile_name)"
   ]
  },
  {
   "cell_type": "code",
   "execution_count": 3,
   "metadata": {
    "collapsed": true
   },
   "outputs": [],
   "source": [
    "sno_dir = '/home/jpyanez/snoplus/data/sno_laserball_data'\n",
    "all_files = os.listdir(sno_dir)"
   ]
  },
  {
   "cell_type": "code",
   "execution_count": 4,
   "metadata": {
    "collapsed": false
   },
   "outputs": [
    {
     "name": "stdout",
     "output_type": "stream",
     "text": [
      "sno_025012_p5.rch 337.0\n",
      "sno_022551_p2.rch 620.0\n",
      "sno_056128_p1.rch 421.0\n",
      "sno_035051_p2.rch 500.0\n",
      "sno_051231_p3.rch 386.0\n",
      "sno_035061_p2.rch 500.0\n",
      "sno_025143_p2.rch 365.0\n",
      "sno_059816_p2.rch 337.0\n",
      "sno_035102_p2.rch 365.0\n",
      "sno_059812_p2.rch 620.0\n",
      "sno_056812_p1.rch 386.0\n",
      "sno_035106_p2.rch 421.0\n",
      "sno_057162_p1.rch 620.0\n",
      "sno_035216_p2.rch 386.0\n",
      "sno_035193_p2.rch 500.0\n",
      "sno_035120_p2.rch 337.0\n",
      "sno_053371_p2.rch 500.0\n",
      "sno_035091_p2.rch 365.0\n",
      "sno_050812_p3.rch 500.0\n",
      "sno_023451_p2.rch 500.0\n",
      "sno_053401_p2.rch 500.0\n",
      "sno_051259_p3.rch 337.0\n",
      "sno_059841_p2.rch 421.0\n",
      "sno_035171_p2.rch 500.0\n",
      "sno_025212_p5.rch 620.0\n",
      "sno_035197_p2.rch 620.0\n",
      "sno_025601_p2.rch 500.0\n",
      "sno_051209_p3.rch 365.0\n",
      "sno_059718_p2.rch 386.0\n",
      "sno_059910_p2.rch 365.0\n",
      "sno_053142_p2.rch 337.0\n",
      "sno_059561_p2.rch 337.0\n",
      "sno_059613_p2.rch 500.0\n",
      "sno_056142_p1.rch 500.0\n",
      "sno_064512_p2.rch 337.0\n",
      "sno_051298_p3.rch 500.0\n",
      "sno_035210_p2.rch 620.0\n",
      "sno_059541_p2.rch 337.0\n",
      "sno_056124_p1.rch 365.0\n",
      "sno_035177_p2.rch 386.0\n",
      "sno_023514_p2.rch 500.0\n",
      "sno_051277_p3.rch 421.0\n",
      "sno_053381_p2.rch 500.0\n",
      "sno_059601_p2.rch 620.0\n",
      "sno_064510_p2.rch 365.0\n",
      "sno_062651_p2.rch 337.0\n",
      "sno_051326_p3.rch 500.0\n",
      "sno_021512_p4.rch 0.0\n",
      "sno_051129_p3.rch 421.0\n",
      "sno_035185_p2.rch 500.0\n",
      "sno_051022_p3.rch 421.0\n",
      "sno_051892_p1.rch 500.0\n",
      "sno_051223_p3.rch 421.0\n",
      "sno_035010_p2.rch 500.0\n",
      "sno_057125_p1.rch 500.0\n",
      "sno_062951_p2.rch 386.0\n",
      "sno_051271_p3.rch 421.0\n",
      "sno_035152_p2.rch 500.0\n",
      "sno_035071_p2.rch 620.0\n",
      "sno_056102_p1.rch 337.0\n",
      "sno_035187_p2.rch 620.0\n",
      "sno_046511_p2.rch 386.0\n",
      "sno_059716_p2.rch 421.0\n",
      "sno_051225_p3.rch 500.0\n",
      "sno_043551_p2.rch 421.0\n",
      "sno_035165_p2.rch 365.0\n",
      "sno_051273_p3.rch 500.0\n",
      "sno_025192_p5.rch 365.0\n",
      "sno_059951_p2.rch 337.0\n",
      "sno_059551_p2.rch 500.0\n",
      "sno_021451_p2.rch 421.0\n",
      "sno_035013_p2.rch 421.0\n",
      "sno_051203_p3.rch 500.0\n",
      "sno_035153_p2.rch 500.0\n",
      "sno_051233_p3.rch 365.0\n",
      "sno_035251_p2.rch 337.0\n",
      "sno_024501_p2.rch 421.0\n",
      "sno_053127_p3.rch 500.0\n",
      "sno_059914_p2.rch 421.0\n",
      "sno_051296_p3.rch 421.0\n",
      "sno_051029_p3.rch 421.0\n",
      "sno_035136_p2.rch 386.0\n",
      "sno_059831_p2.rch 500.0\n",
      "sno_025102_p5.rch 500.0\n",
      "sno_051092_p3.rch 365.0\n",
      "sno_025127_p5.rch 337.0\n",
      "sno_035175_p2.rch 421.0\n",
      "sno_035183_p2.rch 500.0\n",
      "sno_035104_p2.rch 386.0\n",
      "sno_051012_p3.rch 620.0\n",
      "sno_051123_p3.rch 421.0\n",
      "sno_053312_p2.rch 421.0\n",
      "sno_031512_p5.rch 337.0\n",
      "sno_035112_p2.rch 421.0\n",
      "sno_059615_p2.rch 500.0\n",
      "sno_035021_p2.rch 620.0\n",
      "sno_051102_p3.rch 421.0\n",
      "sno_059714_p2.rch 500.0\n",
      "sno_035167_p2.rch 386.0\n",
      "sno_035015_p2.rch 386.0\n",
      "sno_051267_p3.rch 365.0\n",
      "sno_051253_p3.rch 421.0\n",
      "sno_051281_p3.rch 365.0\n",
      "sno_045315_p2.rch 500.0\n",
      "sno_051251_p3.rch 500.0\n",
      "sno_035081_p2.rch 421.0\n",
      "sno_035017_p2.rch 365.0\n",
      "sno_035191_p2.rch 500.0\n",
      "sno_051263_p3.rch 620.0\n",
      "sno_051249_p3.rch 500.0\n",
      "sno_035159_p2.rch 365.0\n",
      "sno_053130_p2.rch 500.0\n",
      "sno_057182_p1.rch 620.0\n",
      "sno_051237_p3.rch 620.0\n",
      "sno_035128_p2.rch 421.0\n",
      "sno_035130_p2.rch 500.0\n",
      "sno_051205_p3.rch 421.0\n",
      "sno_051201_p3.rch 500.0\n",
      "sno_035161_p2.rch 337.0\n",
      "sno_052912_p4.rch 365.0\n",
      "sno_035124_p2.rch 386.0\n",
      "sno_035140_p2.rch 337.0\n",
      "sno_025412_p5.rch 620.0\n",
      "sno_064351_p2.rch 620.0\n",
      "sno_051121_p3.rch 386.0\n",
      "sno_056126_p1.rch 386.0\n",
      "sno_051125_p3.rch 500.0\n",
      "sno_051247_p3.rch 421.0\n",
      "sno_035138_p2.rch 365.0\n",
      "sno_051324_p3.rch 421.0\n",
      "sno_035291_p2.rch 500.0\n",
      "sno_057172_p1.rch 421.0\n",
      "sno_023512_p2.rch 500.0\n",
      "sno_051312_p3.rch 337.0\n",
      "sno_064591_p2.rch 620.0\n",
      "sno_035144_p2.rch 365.0\n",
      "sno_025010_p2.rch 365.0\n",
      "sno_051261_p3.rch 620.0\n",
      "sno_051290_p3.rch 337.0\n",
      "sno_051213_p3.rch 620.0\n",
      "sno_059916_p2.rch 500.0\n",
      "sno_059912_p2.rch 386.0\n",
      "sno_059617_p2.rch 500.0\n",
      "sno_059811_p2.rch 620.0\n",
      "sno_051020_p3.rch 386.0\n",
      "sno_056412_p1.rch 500.0\n",
      "sno_043851_p2.rch 500.0\n",
      "sno_053412_p3.rch 386.0\n",
      "sno_053012_p3.rch 337.0\n",
      "sno_057121_p1.rch 500.0\n",
      "sno_057123_p1.rch 500.0\n",
      "sno_051328_p3.rch 500.0\n",
      "sno_059611_p2.rch 500.0\n",
      "sno_021516_p2.rch 421.0\n",
      "sno_051302_p3.rch 500.0\n",
      "sno_023531_p2.rch 337.0\n",
      "sno_025121_p5.rch 421.0\n",
      "sno_046512_p4.rch 386.0\n",
      "sno_043561_p2.rch 500.0\n",
      "sno_051235_p3.rch 337.0\n",
      "sno_064516_p2.rch 620.0\n",
      "sno_045316_p2.rch 500.0\n",
      "sno_051221_p3.rch 386.0\n",
      "sno_057152_p1.rch 386.0\n",
      "sno_035199_p2.rch 500.0\n",
      "sno_056182_p1.rch 386.0\n",
      "sno_051219_p3.rch 365.0\n",
      "sno_035126_p2.rch 386.0\n",
      "sno_035179_p2.rch 620.0\n",
      "sno_059814_p2.rch 620.0\n",
      "sno_051211_p3.rch 337.0\n",
      "sno_045941_p2.rch 500.0\n",
      "sno_035189_p2.rch 620.0\n",
      "sno_035142_p2.rch 337.0\n",
      "sno_051287_p3.rch 620.0\n",
      "sno_035241_p2.rch 500.0\n",
      "sno_035163_p2.rch 337.0\n",
      "sno_059918_p2.rch 500.0\n",
      "sno_035218_p2.rch 421.0\n",
      "sno_051292_p3.rch 365.0\n",
      "sno_056120_p1.rch 365.0\n",
      "sno_035181_p2.rch 620.0\n",
      "sno_051217_p3.rch 337.0\n",
      "sno_053125_p3.rch 500.0\n",
      "sno_035134_p2.rch 421.0\n",
      "sno_035195_p2.rch 620.0\n",
      "sno_056132_p1.rch 620.0\n",
      "sno_053121_p3.rch 421.0\n",
      "sno_025123_p5.rch 386.0\n",
      "sno_035212_p2.rch 337.0\n",
      "sno_051241_p3.rch 337.0\n",
      "sno_051227_p3.rch 500.0\n",
      "sno_035150_p2.rch 500.0\n",
      "sno_035118_p2.rch 337.0\n",
      "sno_051275_p3.rch 500.0\n",
      "sno_059731_p2.rch 365.0\n",
      "sno_035122_p2.rch 365.0\n",
      "sno_051283_p3.rch 337.0\n",
      "sno_056172_p1.rch 500.0\n",
      "sno_035146_p2.rch 386.0\n",
      "sno_051322_p3.rch 386.0\n",
      "sno_035019_p2.rch 337.0\n",
      "sno_051255_p3.rch 386.0\n",
      "sno_051279_p3.rch 386.0\n",
      "sno_025125_p5.rch 365.0\n",
      "sno_025129_p5.rch 337.0\n",
      "sno_059712_p2.rch 500.0\n",
      "sno_035155_p2.rch 421.0\n",
      "sno_051215_p3.rch 620.0\n",
      "sno_051229_p3.rch 421.0\n",
      "sno_051285_p3.rch 620.0\n",
      "sno_057192_p1.rch 386.0\n",
      "sno_051127_p3.rch 500.0\n",
      "sno_035214_p2.rch 365.0\n",
      "sno_051257_p3.rch 365.0\n",
      "sno_060051_p2.rch 500.0\n",
      "sno_059618_p2.rch 500.0\n",
      "sno_064651_p2.rch 365.0\n",
      "sno_064518_p2.rch 337.0\n",
      "sno_035114_p2.rch 386.0\n",
      "sno_035110_p2.rch 500.0\n",
      "sno_051024_p3.rch 500.0\n",
      "sno_051320_p3.rch 365.0\n",
      "sno_035148_p2.rch 421.0\n",
      "sno_025931_p2.rch 500.0\n",
      "sno_035201_p2.rch 500.0\n",
      "sno_051239_p3.rch 620.0\n",
      "sno_035132_p2.rch 500.0\n",
      "sno_022591_p2.rch 0.0\n",
      "sno_045912_p1.rch 500.0\n",
      "sno_035157_p2.rch 386.0\n",
      "sno_053132_p3.rch 500.0\n",
      "sno_035116_p2.rch 365.0\n",
      "sno_023510_p2.rch 500.0\n",
      "sno_056012_p1.rch 386.0\n",
      "sno_021518_p2.rch 421.0\n",
      "sno_051265_p3.rch 337.0\n",
      "sno_059818_p2.rch 365.0\n",
      "sno_021351_p2.rch 365.0\n",
      "sno_035108_p2.rch 500.0\n",
      "sno_064581_p2.rch 500.0\n",
      "sno_059710_p2.rch 421.0\n",
      "sno_051207_p3.rch 386.0\n",
      "sno_035169_p2.rch 421.0\n",
      "sno_046851_p2.rch 421.0\n",
      "sno_053123_p3.rch 500.0\n",
      "sno_035100_p2.rch 337.0\n",
      "sno_051269_p3.rch 386.0\n",
      "sno_051026_p3.rch 500.0\n",
      "sno_056122_p1.rch 337.0\n",
      "sno_064514_p2.rch 620.0\n",
      "sno_051243_p3.rch 365.0\n",
      "sno_059961_p2.rch 386.0\n",
      "sno_051245_p3.rch 386.0\n",
      "sno_035173_p2.rch 500.0\n",
      "sno_053391_p2.rch 500.0\n",
      "sno_060151_p2.rch 500.0\n",
      "sno_051294_p3.rch 386.0\n"
     ]
    }
   ],
   "source": [
    "for one_file in all_files:\n",
    "    tfile = ROOT.TFile(os.path.join(sno_dir, one_file))\n",
    "    print one_file, np.array(tfile.Get('lambda'))[1]\n",
    "    tfile.Close()"
   ]
  },
  {
   "cell_type": "code",
   "execution_count": 5,
   "metadata": {
    "collapsed": false
   },
   "outputs": [
    {
     "name": "stdout",
     "output_type": "stream",
     "text": [
      "File information\n",
      "Position:  [  -1.54999995 -290.16000366 -298.85998535  102.11128998]\n",
      "Lambda  [   3.  421.]\n",
      "Cast  [   4.            4.           -1.54999995 -290.1499939  -234.47000122\n",
      "    0.            0.            0.            0.            0.            0.\n",
      "    2.            0.            0.            0.        ]\n",
      "Version  [ 1.]\n"
     ]
    }
   ],
   "source": [
    "one_file = 'sno_035106_p2.rch'\n",
    "tfile = ROOT.TFile(os.path.join(sno_dir, one_file))\n",
    "print 'File information'\n",
    "spos = np.array(tfile.Get('source_pos'))\n",
    "print 'Position: ', spos\n",
    "lamb = np.array(tfile.Get('lambda'))\n",
    "print 'Lambda ', lamb\n",
    "cast = np.array(tfile.Get('cast'))\n",
    "print 'Cast ', cast\n",
    "version = np.array(tfile.Get('version'))\n",
    "print 'Version ', version"
   ]
  },
  {
   "cell_type": "code",
   "execution_count": 133,
   "metadata": {
    "collapsed": true
   },
   "outputs": [],
   "source": [
    "caltime = tfile.Get('fRchTime')"
   ]
  },
  {
   "cell_type": "code",
   "execution_count": 134,
   "metadata": {
    "collapsed": false
   },
   "outputs": [],
   "source": [
    "# Getting the time binning\n",
    "nbins = caltime.GetXaxis().GetNbins()\n",
    "xaxis = np.zeros(nbins+1)\n",
    "for ibin in range(nbins):\n",
    "    xaxis[ibin] = rootaxis.GetBinLowEdge(ibin)\n",
    "xaxis[nbins] = rootaxis.GetBinLowEdge(nbins)"
   ]
  },
  {
   "cell_type": "code",
   "execution_count": 148,
   "metadata": {
    "collapsed": true
   },
   "outputs": [],
   "source": [
    "npmts = caltime.GetYaxis().GetNbins()\n",
    "fwhm_sno = np.zeros(npmts)"
   ]
  },
  {
   "cell_type": "code",
   "execution_count": null,
   "metadata": {
    "collapsed": false
   },
   "outputs": [],
   "source": [
    "x = (xaxis[1:] + xaxis[:-1])/2.\n",
    "x= x[::2]\n",
    "bad_pmt = 0\n",
    "for one_pmt in range(npmts):\n",
    "\n",
    "    pmt_tres = np.zeros(nbins)\n",
    "\n",
    "    for ibin in range(nbins):\n",
    "        pmt_tres[ibin] = caltime.GetBinContent(ibin, one_pmt)\n",
    "        \n",
    "    if pmt_tres.sum() < 20:\n",
    "        continue\n",
    "\n",
    "    # Merging to 0.5ns binsd\n",
    "    pmt_tres = pmt_tres[1:] + pmt_tres[:-1]\n",
    "    pmt_tres = pmt_tres[::2]\n",
    "\n",
    "\n",
    "\n",
    "    # Select a smaller time window\n",
    "    mybool = (x>-15)*(x<20)\n",
    "    x = x[mybool]\n",
    "    pmt_tres = pmt_tres[mybool]\n",
    "\n",
    "    spline = interpolate.UnivariateSpline(x, pmt_tres-pmt_tres.max()/2., s=1)\n",
    "    \n",
    "    try:\n",
    "        r1, r2 = spline.roots()\n",
    "        fwhm_sno[one_pmt] = r2-r1\n",
    "    except:\n",
    "        bad_pmt+=1\n",
    "        #print spline.roots(), one_pmt\n",
    "        #test = np.linspace(-15, 20, 101)\n",
    "        #plot.unfilledBar(x, pmt_tres[:-1]-pmt_tres.max()/2.)\n",
    "        #plt.plot(xtest, spline(xtest), color = 'red')\n",
    "        #plt.show()\n",
    "        #raw_input()\n",
    "    \n",
    "print 'Bad', bad_pmt\n"
   ]
  },
  {
   "cell_type": "code",
   "execution_count": null,
   "metadata": {
    "collapsed": true
   },
   "outputs": [],
   "source": [
    "# Read the fwhm_sno and plot"
   ]
  },
  {
   "cell_type": "code",
   "execution_count": 125,
   "metadata": {
    "collapsed": false
   },
   "outputs": [
    {
     "data": {
      "text/plain": [
       "(-10, 20)"
      ]
     },
     "execution_count": 125,
     "metadata": {},
     "output_type": "execute_result"
    },
    {
     "data": {
      "image/png": "[encoded data removed]",
      "text/plain": [
       "<matplotlib.figure.Figure at 0x2b17c1de90d0>"
      ]
     },
     "metadata": {},
     "output_type": "display_data"
    }
   ],
   "source": [
    "spline.set_smoothing_factor(0.001)\n",
    "xtest = np.linspace(-15, 20, 101)\n",
    "jplot.unfilledBar(x, pmt_tres[:-1]-pmt_tres.max()/2.)\n",
    "plt.plot(xtest, spline(xtest), color = 'red')\n",
    "#plt.yscale('log')\n",
    "plt.xlim(-10, 20)"
   ]
  },
  {
   "cell_type": "code",
   "execution_count": 126,
   "metadata": {
    "collapsed": false
   },
   "outputs": [
    {
     "data": {
      "text/plain": [
       "array([-2.00042331,  1.76710914])"
      ]
     },
     "execution_count": 126,
     "metadata": {},
     "output_type": "execute_result"
    }
   ],
   "source": [
    "spline.roots()"
   ]
  },
  {
   "cell_type": "code",
   "execution_count": null,
   "metadata": {
    "collapsed": true
   },
   "outputs": [],
   "source": []
  }
 ],
 "metadata": {
  "kernelspec": {
   "display_name": "Python 2",
   "language": "python",
   "name": "python2"
  },
  "language_info": {
   "codemirror_mode": {
    "name": "ipython",
    "version": 2
   },
   "file_extension": ".py",
   "mimetype": "text/x-python",
   "name": "python",
   "nbconvert_exporter": "python",
   "pygments_lexer": "ipython2",
   "version": "2.7.10"
  }
 },
 "nbformat": 4,
 "nbformat_minor": 0
}
