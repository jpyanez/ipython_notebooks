{
 "cells": [
  {
   "cell_type": "code",
   "execution_count": 35,
   "metadata": {
    "collapsed": false
   },
   "outputs": [
    {
     "data": {
      "text/plain": [
       "<module 'ratdb_reader' from '/home/jpyanez/snoplus/snoplus_python/ratdb_reader.pyc'>"
      ]
     },
     "execution_count": 35,
     "metadata": {},
     "output_type": "execute_result"
    }
   ],
   "source": [
    "import ROOT, rat\n",
    "import os, sys, pickle\n",
    "\n",
    "import matplotlib.pyplot as plt\n",
    "import numpy as np\n",
    "import collections\n",
    "%matplotlib inline \n",
    "\n",
    "import jp_mpl as jplot\n",
    "\n",
    "from scipy import interpolate\n",
    "\n",
    "import pickle\n",
    "import ratdb_reader\n",
    "reload(ratdb_reader)\n"
   ]
  },
  {
   "cell_type": "code",
   "execution_count": 2,
   "metadata": {
    "collapsed": false
   },
   "outputs": [
    {
     "name": "stdout",
     "output_type": "stream",
     "text": [
      "This is AIRPLANE MODE - be careful!\n"
     ]
    },
    {
     "name": "stderr",
     "output_type": "stream",
     "text": [
      "TClass::TClass:0: RuntimeWarning: no dictionary for class RAT::DBTableKey is available\n"
     ]
    }
   ],
   "source": [
    "# Airplane mode\n",
    "db = rat.RAT.DB.Get()\n",
    "db.SetAirplaneModeStatus(True)\n",
    "db.SetDefaultPlaneLockStatus(False)\n",
    "print 'This is AIRPLANE MODE - be careful!'"
   ]
  },
  {
   "cell_type": "code",
   "execution_count": 3,
   "metadata": {
    "collapsed": false
   },
   "outputs": [],
   "source": [
    "# Optics DB water\n",
    "dbwl = np.array([200.0, 205.0, 210.0, 215.0, 220.0, 225.0, 230.0, 235.0, 240.0, 245.0, 250.0, 255.0, 260.0, 265.0, 270.0, 275.0, 280.0, 285.0, 290.0, 295.0, 300.0, 305.0, 310.0, 315.0, 320.0, 325.0, 330.0, 335.0, 340.0, 345.0, 350.0, 355.0, 360.0, 365.0, 370.0, 375.0, 380.0, 385.0, 390.0, 395.0, 400.0, 405.0, 410.0, 415.0, 420.0, 425.0, 430.0, 435.0, 440.0, 445.0, 450.0, 455.0, 460.0, 465.0, 470.0, 475.0, 480.0, 485.0, 490.0, 495.0, 500.0, 505.0, 510.0, 515.0, 520.0, 525.0, 530.0, 535.0, 540.0, 545.0, 550.0, 555.0, 560.0, 565.0, 570.0, 575.0, 580.0, 585.0, 590.0, 595.0, 600.0, 605.0, 610.0, 615.0, 620.0, 625.0, 630.0, 635.0, 640.0, 645.0, 650.0, 655.0, 660.0, 665.0, 670.0, 675.0, 680.0, 685.0, 690.0, 695.0, 700.0, 705.0, 710.0, 715.0, 720.0, 725.0, 730.0, 735.0, 740.0, 745.0, 750.0, 755.0, 760.0, 765.0, 770.0, 775.0, 780.0, 785.0, 790.0, 795.0, 800.0, ])\n",
    "gvel = np.array([182.709, 185.104, 187.309, 189.341, 191.217, 192.951, 194.558, 196.047, 197.432, 198.72, 199.92, 201.04, 202.088, 203.068, 203.986, 204.849, 205.659, 206.422, 207.14, 207.818, 208.458, 209.063, 209.636, 210.179, 210.694, 211.183, 211.648, 212.09, 212.51, 212.911, 213.294, 213.659, 214.008, 214.342, 214.661, 214.967, 215.26, 215.541, 215.81, 216.069, 216.318, 216.557, 216.787, 217.008, 217.222, 217.427, 217.626, 217.817, 218.001, 218.18, 218.352, 218.518, 218.679, 218.835, 218.986, 219.132, 219.274, 219.411, 219.544, 219.673, 219.798, 219.92, 220.038, 220.153, 220.264, 220.372, 220.478, 220.58, 220.68, 220.777, 220.872, 220.964, 221.054, 221.141, 221.226, 221.31, 221.391, 221.47, 221.547, 221.622, 221.696, 221.768, 221.838, 221.907, 221.974, 222.039, 222.104, 222.166, 222.228, 222.288, 222.346, 222.404, 222.46, 222.515, 222.569, 222.622, 222.674, 222.725, 222.775, 222.824, 222.871, 222.918, 222.964, 223.01, 223.054, 223.097, 223.14, 223.182, 223.223, 223.264, 223.303, 223.342, 223.381, 223.418, 223.455, 223.491, 223.527, 223.562, 223.597, 223.631, 223.664,])\n",
    "group_vel_fcn = interpolate.InterpolatedUnivariateSpline(dbwl, gvel)"
   ]
  },
  {
   "cell_type": "code",
   "execution_count": 9,
   "metadata": {
    "collapsed": true
   },
   "outputs": [],
   "source": [
    "pmt_info = pickle.load(open('/home/jpyanez/snoplus/snoplus_python/pmt_positions.pckl'))"
   ]
  },
  {
   "cell_type": "code",
   "execution_count": 84,
   "metadata": {
    "collapsed": true
   },
   "outputs": [],
   "source": [
    "outdir = '/sb/project/qbs-015-aa/jpyanez/data/laserball_runs/trigger_verification_figures'"
   ]
  },
  {
   "cell_type": "code",
   "execution_count": 73,
   "metadata": {
    "collapsed": true
   },
   "outputs": [],
   "source": []
  },
  {
   "cell_type": "code",
   "execution_count": 100,
   "metadata": {
    "collapsed": true
   },
   "outputs": [],
   "source": [
    "# This is the info that changes with each laserball run\n",
    "run_nr = '100556'\n",
    "manip_pos = np.array([0,-254.,25.])\n",
    "fit_pos = np.array([-10., -268., -3.])\n",
    "light_c = group_vel_fcn(420.)"
   ]
  },
  {
   "cell_type": "code",
   "execution_count": 101,
   "metadata": {
    "collapsed": true
   },
   "outputs": [],
   "source": [
    "infile = '/home/jpyanez/snoplus/data/laserball_runs/root/SNOP_0000' + run_nr + '.root'"
   ]
  },
  {
   "cell_type": "code",
   "execution_count": 102,
   "metadata": {
    "collapsed": true
   },
   "outputs": [],
   "source": [
    "median_tolerance = 1000."
   ]
  },
  {
   "cell_type": "code",
   "execution_count": null,
   "metadata": {
    "collapsed": false
   },
   "outputs": [
    {
     "name": "stdout",
     "output_type": "stream",
     "text": [
      "0\n",
      "1000\n",
      "2000\n",
      "3000\n",
      "4000\n",
      "5000\n",
      "6000\n",
      "7000\n",
      "8000\n",
      "9000\n",
      "10000\n",
      "11000\n",
      "12000\n",
      "13000\n",
      "14000\n",
      "15000\n",
      "16000\n",
      "17000\n",
      "18000\n",
      "19000\n",
      "20000\n",
      "21000\n",
      "22000\n",
      "23000\n",
      "24000\n",
      "25000\n",
      "26000\n",
      "27000\n",
      "28000\n",
      "29000\n",
      "30000\n",
      "31000\n",
      "32000\n",
      "33000\n",
      "34000\n",
      "35000\n",
      "36000\n",
      "37000\n",
      "38000"
     ]
    }
   ],
   "source": [
    "reader = rat.dsreader(infile)\n",
    "\n",
    "max_events = 100000 # half a million seems to be the maximum\n",
    "all_median_manip = np.zeros(max_events)\n",
    "all_median_fit = np.zeros(max_events)\n",
    "event_time = np.zeros(max_events)\n",
    "\n",
    "all_qhs = np.zeros(max_events)\n",
    "all_qhl = np.zeros(max_events)\n",
    "all_nhit = np.zeros(max_events)\n",
    "\n",
    "counter = 0\n",
    "exit_loop = False\n",
    "for ds, run in reader:\n",
    "    for iEV in range(ds.GetEVCount()):\n",
    "        event = ds.GetEV(iEV)\n",
    "        toa_series_manip = np.zeros(event.GetNhits())\n",
    "        toa_series_fit = np.zeros(event.GetNhits())\n",
    "        pmts = event.GetCalPMTs()\n",
    "        tot_qhl = 0\n",
    "        tot_qhs = 0\n",
    "        all_nhit[counter] = pmts.GetCount()\n",
    "        event_time[counter] = event.GetUniversalTime().GetNanoSeconds()\n",
    "        for iPMT in range(int(all_nhit[counter])):\n",
    "            one_pmt = pmts.GetPMT(iPMT)\n",
    "\n",
    "            light_path_manip  =  np.linalg.norm(manip_pos - pmt_info['xyz'][one_pmt.GetID()])\n",
    "            light_path_fit  =  np.linalg.norm(fit_pos - pmt_info['xyz'][one_pmt.GetID()])\n",
    "            travel_time_manip =  light_path_manip/light_c\n",
    "            travel_time_fit =  light_path_fit/light_c\n",
    "            #one_pmt.GetID() # In case I need the position\n",
    "            this_time = one_pmt.GetTime()\n",
    "            if this_time < 0:\n",
    "                continue\n",
    "\n",
    "            toa_series_manip[iPMT] = one_pmt.GetTime() - travel_time_manip\n",
    "            toa_series_fit[iPMT] = one_pmt.GetTime() - travel_time_fit\n",
    "            all_qhl[counter] += one_pmt.GetQHL()\n",
    "            all_qhs[counter] += one_pmt.GetQHS()\n",
    "\n",
    "        # First easy check - do the median\n",
    "        all_median_manip[counter] = np.median(toa_series_manip[toa_series_manip>0])\n",
    "        all_median_fit[counter] = np.median(toa_series_fit[toa_series_fit>0])\n",
    "\n",
    "        if np.abs(all_median_manip[counter]-310) > median_tolerance:\n",
    "            xaxis = np.arange(100, 325, 0.25)\n",
    "            counts, x = np.histogram(toa_series_manip, xaxis)\n",
    "            jplot.unfilledBar(xaxis, counts)\n",
    "            plt.show()\n",
    "            raw_input()\n",
    "            \n",
    "        if counter %1000 == 0:\n",
    "            print counter\n",
    "        \n",
    "        \n",
    "        \n",
    "        counter += 1\n",
    "        if counter == max_events:\n",
    "            print 'Max number of events reached. Exiting!'\n",
    "            exit_loop = True\n",
    "        \n",
    "        if exit_loop:\n",
    "            break\n",
    "    if exit_loop:\n",
    "        break\n",
    "        \n",
    "all_median_manip = all_median_manip[:counter]\n",
    "all_median_fit = all_median_fit[:counter]\n",
    "\n",
    "all_qhl = all_qhl[:counter]\n",
    "all_qhs = all_qhs[:counter]\n",
    "all_nhit = all_nhit[:counter]\n",
    "event_time = event_time[:counter]\n",
    "reader.close()\n"
   ]
  },
  {
   "cell_type": "code",
   "execution_count": 106,
   "metadata": {
    "collapsed": false
   },
   "outputs": [
    {
     "data": {
      "image/png": "[encoded data removed]",
      "text/plain": [
       "<matplotlib.figure.Figure at 0x2b9c2e656e10>"
      ]
     },
     "metadata": {},
     "output_type": "display_data"
    }
   ],
   "source": [
    "\n",
    "fig = plt.figure(figsize=(9,6))\n",
    "\n",
    "ax = fig.add_subplot(111)\n",
    "xaxis = np.arange(0, np.median(all_median_manip)+200, 0.05)\n",
    "counts_manip, x = np.histogram(all_median_manip, xaxis)\n",
    "counts_fit, x = np.histogram(all_median_fit, xaxis)\n",
    "\n",
    "\n",
    "jplot.unfilledBar(xaxis, counts_manip, label='manip')\n",
    "jplot.unfilledBar(xaxis, counts_fit, color='green',label='fit')\n",
    "\n",
    "plt.yscale('log')\n",
    "plt.xlabel('Corrected event time median (ns) ')\n",
    "plt.xlabel('Corrected event time median (ns) ')\n",
    "plt.ylabel('Events')\n",
    "plt.legend(loc=0)\n",
    "\n",
    "fig.savefig(os.path.join(outdir, run_nr + '_MedianHistogram.png'), dpi=200)"
   ]
  },
  {
   "cell_type": "code",
   "execution_count": 107,
   "metadata": {
    "collapsed": false
   },
   "outputs": [
    {
     "ename": "ValueError",
     "evalue": "too many values to unpack",
     "output_type": "error",
     "traceback": [
      "\u001b[1;31m---------------------------------------------------------------------------\u001b[0m",
      "\u001b[1;31mValueError\u001b[0m                                Traceback (most recent call last)",
      "\u001b[1;32m<ipython-input-107-ad28fa671355>\u001b[0m in \u001b[0;36m<module>\u001b[1;34m()\u001b[0m\n\u001b[0;32m     12\u001b[0m \u001b[1;33m\u001b[0m\u001b[0m\n\u001b[0;32m     13\u001b[0m \u001b[0mspline\u001b[0m \u001b[1;33m=\u001b[0m \u001b[0minterpolate\u001b[0m\u001b[1;33m.\u001b[0m\u001b[0mUnivariateSpline\u001b[0m\u001b[1;33m(\u001b[0m\u001b[1;33m(\u001b[0m\u001b[0mx\u001b[0m\u001b[1;33m[\u001b[0m\u001b[1;36m1\u001b[0m\u001b[1;33m:\u001b[0m\u001b[1;33m]\u001b[0m\u001b[1;33m+\u001b[0m\u001b[0mx\u001b[0m\u001b[1;33m[\u001b[0m\u001b[1;33m:\u001b[0m\u001b[1;33m-\u001b[0m\u001b[1;36m1\u001b[0m\u001b[1;33m]\u001b[0m\u001b[1;33m)\u001b[0m\u001b[1;33m/\u001b[0m\u001b[1;36m2.\u001b[0m\u001b[1;33m,\u001b[0m \u001b[0mcounts_manip\u001b[0m\u001b[1;33m-\u001b[0m\u001b[0mcounts_manip\u001b[0m\u001b[1;33m.\u001b[0m\u001b[0mmax\u001b[0m\u001b[1;33m(\u001b[0m\u001b[1;33m)\u001b[0m\u001b[1;33m/\u001b[0m\u001b[1;36m2.\u001b[0m\u001b[1;33m,\u001b[0m \u001b[0ms\u001b[0m\u001b[1;33m=\u001b[0m\u001b[1;36m0\u001b[0m\u001b[1;33m)\u001b[0m\u001b[1;33m\u001b[0m\u001b[0m\n\u001b[1;32m---> 14\u001b[1;33m \u001b[0mr1\u001b[0m\u001b[1;33m,\u001b[0m \u001b[0mr2\u001b[0m \u001b[1;33m=\u001b[0m \u001b[0mspline\u001b[0m\u001b[1;33m.\u001b[0m\u001b[0mroots\u001b[0m\u001b[1;33m(\u001b[0m\u001b[1;33m)\u001b[0m\u001b[1;33m\u001b[0m\u001b[0m\n\u001b[0m\u001b[0;32m     15\u001b[0m \u001b[1;33m\u001b[0m\u001b[0m\n\u001b[0;32m     16\u001b[0m \u001b[0mplt\u001b[0m\u001b[1;33m.\u001b[0m\u001b[0maxvspan\u001b[0m\u001b[1;33m(\u001b[0m\u001b[0mr1\u001b[0m\u001b[1;33m,\u001b[0m \u001b[0mr2\u001b[0m\u001b[1;33m,\u001b[0m \u001b[0mfacecolor\u001b[0m\u001b[1;33m=\u001b[0m\u001b[1;34m'r'\u001b[0m\u001b[1;33m,\u001b[0m \u001b[0malpha\u001b[0m\u001b[1;33m=\u001b[0m\u001b[1;36m0.5\u001b[0m\u001b[1;33m)\u001b[0m\u001b[1;33m\u001b[0m\u001b[0m\n",
      "\u001b[1;31mValueError\u001b[0m: too many values to unpack"
     ]
    },
    {
     "data": {
      "image/png": "[encoded data removed]",
      "text/plain": [
       "<matplotlib.figure.Figure at 0x2b9c2e64f410>"
      ]
     },
     "metadata": {},
     "output_type": "display_data"
    }
   ],
   "source": [
    "fig = plt.figure(figsize=(9,6))\n",
    "\n",
    "ax = fig.add_subplot(111)\n",
    "xaxis = np.arange(np.median(all_median_manip)-1, np.median(all_median_manip)+1.4, 0.05)\n",
    "counts_manip, x = np.histogram(all_median_manip, xaxis)\n",
    "counts_fit, x   = np.histogram(all_median_fit, xaxis)\n",
    "\n",
    "jplot.unfilledBar(xaxis, counts_manip, color = 'blue', label='manip')\n",
    "jplot.unfilledBar(xaxis, counts_fit, color = 'green', label='fit')\n",
    "\n",
    "\n",
    "\n",
    "spline = interpolate.UnivariateSpline((x[1:]+x[:-1])/2., counts_manip-counts_manip.max()/2., s=0)\n",
    "r1, r2 = spline.roots()\n",
    "\n",
    "plt.axvspan(r1, r2, facecolor='r', alpha=0.5)\n",
    "print 'FWHM', r2-r1\n",
    "\n",
    "\n",
    "plt.xlabel('Corrected event time median (ns) ')\n",
    "plt.ylabel('Events')\n",
    "plt.legend(loc=0)\n",
    "fig.savefig(os.path.join(outdir, run_nr + '_MedianHistogram_zoom.png'), dpi=200)"
   ]
  },
  {
   "cell_type": "code",
   "execution_count": null,
   "metadata": {
    "collapsed": false
   },
   "outputs": [],
   "source": [
    "fig = plt.figure(figsize=(8,6))\n",
    "\n",
    "ax = fig.add_subplot(111)\n",
    "\n",
    "plt.plot(all_median_fit, all_nhit, '.g', label='fit')\n",
    "plt.plot(all_median_manip, all_nhit, '.b', label='manip')\n",
    "\n",
    "nhit_median = np.median(all_nhit)\n",
    "time_median = np.median(all_median_fit)\n",
    "plt.ylim(nhit_median*0.7, nhit_median*1.5)\n",
    "plt.xlim(time_median-0.7, time_median+1)\n",
    "\n",
    "plt.xlabel('Corrected event time median (ns) ')\n",
    "plt.ylabel('Event Nhit')\n",
    "plt.legend(loc=0)\n",
    "\n",
    "# Pearson correlation coefficient (only things in the plot)\n",
    "plotbool = ((all_nhit > (nhit_median*0.7))*\n",
    "            (all_nhit < (nhit_median*1.5))*\n",
    "            (all_median_manip > (time_median-0.7))*\n",
    "            (all_median_manip < (time_median+1.)))\n",
    "\n",
    "r = np.corrcoef(all_median_manip[plotbool], all_nhit[plotbool])[0,1]\n",
    "\n",
    "ax.text(0.95, 0.04, 'Corr.coeff='+'%0.3f' % r,\n",
    "       horizontalalignment='right',\n",
    "        transform=ax.transAxes, fontsize='x-large')\n",
    "\n",
    "print 'Pearsons correlation', r\n",
    "fig.savefig(os.path.join(outdir, run_nr + '_MedianVsNhit.png'), dpi=200)"
   ]
  },
  {
   "cell_type": "code",
   "execution_count": null,
   "metadata": {
    "collapsed": false
   },
   "outputs": [],
   "source": [
    "fig = plt.figure(figsize=(8,6))\n",
    "\n",
    "ax = fig.add_subplot(111)\n",
    "plt.plot(all_median_fit, all_qhs, '.g', label='fit')\n",
    "plt.plot(all_median_manip, all_qhs, '.b', label='manip')\n",
    "nhit_median = np.median(all_qhs)\n",
    "time_median = np.median(all_median_manip)\n",
    "plt.ylim(nhit_median*0.2, nhit_median*2.3)\n",
    "plt.xlim(time_median-0.7, time_median+1)\n",
    "\n",
    "plt.xlabel('Corrected event time median (ns) ')\n",
    "plt.ylabel('Event QHS')\n",
    "plt.legend(loc=0)\n",
    "r = np.corrcoef(all_median_manip[plotbool], all_qhs[plotbool])[0,1]\n",
    "\n",
    "ax.text(0.95, 0.04, 'Corr.coeff='+'%0.3f' % r,\n",
    "       horizontalalignment='right',\n",
    "        transform=ax.transAxes, fontsize='x-large')\n",
    "fig.savefig(os.path.join(outdir, run_nr + '_MedianVsQhs.png'), dpi=200)"
   ]
  },
  {
   "cell_type": "code",
   "execution_count": null,
   "metadata": {
    "collapsed": false
   },
   "outputs": [],
   "source": [
    "fig = plt.figure(figsize=(8,6))\n",
    "\n",
    "ax = fig.add_subplot(111)\n",
    "plt.plot(all_median_fit, all_qhs, '.g', label='fit')\n",
    "plt.plot(all_median_manip, all_qhs, '.b', label='manip')\n",
    "nhit_median = np.median(all_qhl)\n",
    "time_median = np.median(all_median_manip)\n",
    "plt.ylim(nhit_median*0.2, nhit_median*2.3)\n",
    "plt.xlim(time_median-0.7, time_median+1)\n",
    "\n",
    "plt.xlabel('Corrected event time median (ns) ')\n",
    "plt.ylabel('Event QHL')\n",
    "plt.legend(loc=0)\n",
    "r = np.corrcoef(all_median_manip[plotbool], all_qhl[plotbool])[0,1]\n",
    "\n",
    "ax.text(0.95, 0.04, 'Corr.coeff='+'%0.3f' % r,\n",
    "       horizontalalignment='right',\n",
    "        transform=ax.transAxes, fontsize='x-large')\n",
    "fig.savefig(os.path.join(outdir, run_nr + '_MedianVsQhl.png'), dpi=200)"
   ]
  },
  {
   "cell_type": "code",
   "execution_count": null,
   "metadata": {
    "collapsed": false
   },
   "outputs": [],
   "source": [
    "# I should also put a time series of the median, just to see how it changes with time\n",
    "fig = plt.figure(figsize=(10,6))\n",
    "ax = fig.add_subplot(111)\n",
    "#plt.plot(event_time - event_time.min(), all_median_manip, '.')\n",
    "plt.plot(event_time[plotbool], \n",
    "         all_median_manip[plotbool] - all_median_manip[plotbool].mean(), '.g')\n",
    "\n",
    "plt.ylabel('Median time deviation (ns)')\n",
    "plt.xlabel('Event time (ns)')\n",
    "fig.savefig(os.path.join(outdir, run_nr + '_MedianVsTime.png'), dpi=200)"
   ]
  },
  {
   "cell_type": "code",
   "execution_count": null,
   "metadata": {
    "collapsed": true
   },
   "outputs": [],
   "source": []
  }
 ],
 "metadata": {
  "kernelspec": {
   "display_name": "Python 2",
   "language": "python",
   "name": "python2"
  },
  "language_info": {
   "codemirror_mode": {
    "name": "ipython",
    "version": 2
   },
   "file_extension": ".py",
   "mimetype": "text/x-python",
   "name": "python",
   "nbconvert_exporter": "python",
   "pygments_lexer": "ipython2",
   "version": "2.7.10"
  }
 },
 "nbformat": 4,
 "nbformat_minor": 0
}
