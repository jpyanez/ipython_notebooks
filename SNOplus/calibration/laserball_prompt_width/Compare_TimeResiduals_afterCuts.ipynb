{
 "cells": [
  {
   "cell_type": "code",
   "execution_count": 37,
   "metadata": {
    "collapsed": true
   },
   "outputs": [],
   "source": [
    "import pickle\n",
    "import numpy as np\n",
    "import os, sys\n",
    "%matplotlib inline\n",
    "import matplotlib.pyplot as plt\n",
    "import jp_mpl as jplot\n",
    "from scipy import interpolate"
   ]
  },
  {
   "cell_type": "code",
   "execution_count": 2,
   "metadata": {
    "collapsed": true
   },
   "outputs": [],
   "source": [
    "run_nr = '101428'"
   ]
  },
  {
   "cell_type": "code",
   "execution_count": 5,
   "metadata": {
    "collapsed": true
   },
   "outputs": [],
   "source": [
    "new_dir = '/home/jpyanez/snoplus/data/laserball_runs/oca_mine'\n",
    "ref_dir = '/sb/project/qbs-015-aa/jpyanez/data/SOC_histograms_python'"
   ]
  },
  {
   "cell_type": "code",
   "execution_count": 6,
   "metadata": {
    "collapsed": true
   },
   "outputs": [],
   "source": [
    "ref_data = pickle.load(open(os.path.join(ref_dir, 'SOC_0000' + run_nr + '.pckl')))"
   ]
  },
  {
   "cell_type": "code",
   "execution_count": 7,
   "metadata": {
    "collapsed": true
   },
   "outputs": [],
   "source": [
    "new_data = pickle.load(open(os.path.join(new_dir, 'SNOP_0000'+run_nr+'.pckl')))"
   ]
  },
  {
   "cell_type": "code",
   "execution_count": 8,
   "metadata": {
    "collapsed": false
   },
   "outputs": [
    {
     "data": {
      "text/plain": [
       "['residual_axis',\n",
       " 'bin_width',\n",
       " 'time_residuals',\n",
       " 'manip_pos',\n",
       " 'fit_pos',\n",
       " 'wavelength',\n",
       " 'pmt_delays',\n",
       " 'soc_pmts']"
      ]
     },
     "execution_count": 8,
     "metadata": {},
     "output_type": "execute_result"
    }
   ],
   "source": [
    "ref_data.keys()"
   ]
  },
  {
   "cell_type": "code",
   "execution_count": 9,
   "metadata": {
    "collapsed": false
   },
   "outputs": [
    {
     "data": {
      "text/plain": [
       "['bin_width', 'time_residuals', 'residual_axis']"
      ]
     },
     "execution_count": 9,
     "metadata": {},
     "output_type": "execute_result"
    }
   ],
   "source": [
    "new_data.keys()"
   ]
  },
  {
   "cell_type": "code",
   "execution_count": 10,
   "metadata": {
    "collapsed": false
   },
   "outputs": [
    {
     "data": {
      "text/plain": [
       "(0.5, 0.5)"
      ]
     },
     "execution_count": 10,
     "metadata": {},
     "output_type": "execute_result"
    }
   ],
   "source": [
    "new_data['bin_width'], ref_data['bin_width']"
   ]
  },
  {
   "cell_type": "code",
   "execution_count": 12,
   "metadata": {
    "collapsed": false
   },
   "outputs": [
    {
     "data": {
      "text/plain": [
       "(200, 9728)"
      ]
     },
     "execution_count": 12,
     "metadata": {},
     "output_type": "execute_result"
    }
   ],
   "source": [
    "ref_data['time_residuals'].shape"
   ]
  },
  {
   "cell_type": "code",
   "execution_count": 28,
   "metadata": {
    "collapsed": false
   },
   "outputs": [
    {
     "name": "stdout",
     "output_type": "stream",
     "text": [
      "Reference 31323134.0\n",
      "New selection 30779996.0\n",
      "Fraction kept 0.98266016421\n"
     ]
    }
   ],
   "source": [
    "# Check the number of hits in time window\n",
    "ref_total = ref_data['time_residuals'].sum()\n",
    "new_total = new_data['time_residuals'][1:,:].sum()\n",
    "print 'Reference', ref_total\n",
    "print 'New selection', new_total\n",
    "print 'Fraction kept', new_total/ref_total\n"
   ]
  },
  {
   "cell_type": "code",
   "execution_count": 114,
   "metadata": {
    "collapsed": false
   },
   "outputs": [
    {
     "name": "stdout",
     "output_type": "stream",
     "text": [
      "FWHM 4.14554204507\n"
     ]
    },
    {
     "data": {
      "image/png": "[encoded data removed]",
      "text/plain": [
       "<matplotlib.figure.Figure at 0x2b9f1e2d1490>"
      ]
     },
     "metadata": {},
     "output_type": "display_data"
    }
   ],
   "source": [
    "counts = ref_data['time_residuals'].sum(axis=1)\n",
    "x = ref_data['residual_axis']\n",
    "\n",
    "jplot.unfilledBar(x, counts)\n",
    "plt.yscale('log')\n",
    "\n",
    "spline = interpolate.UnivariateSpline((x[1:]+x[:-1])/2., counts-counts.max()/2., s=0)\n",
    "r1, r2 = spline.roots()\n",
    "\n",
    "plt.axvspan(r1, r2, facecolor='r', alpha=0.5)\n",
    "print 'FWHM', r2-r1"
   ]
  },
  {
   "cell_type": "code",
   "execution_count": 113,
   "metadata": {
    "collapsed": false
   },
   "outputs": [
    {
     "name": "stdout",
     "output_type": "stream",
     "text": [
      "FWHM 4.19024387262\n"
     ]
    },
    {
     "data": {
      "image/png": "[encoded data removed]",
      "text/plain": [
       "<matplotlib.figure.Figure at 0x2b9f0e186f50>"
      ]
     },
     "metadata": {},
     "output_type": "display_data"
    }
   ],
   "source": [
    "counts = new_data['time_residuals'].sum(axis=1)\n",
    "x = new_data['residual_axis']\n",
    "\n",
    "jplot.unfilledBar(x, counts)\n",
    "plt.yscale('log')\n",
    "\n",
    "spline = interpolate.UnivariateSpline((x[1:]+x[:-1])/2., counts-counts.max()/2., s=0)\n",
    "r1, r2 = spline.roots()\n",
    "\n",
    "plt.axvspan(r1, r2, facecolor='r', alpha=0.5)\n",
    "print 'FWHM', r2-r1"
   ]
  },
  {
   "cell_type": "code",
   "execution_count": 308,
   "metadata": {
    "collapsed": false
   },
   "outputs": [
    {
     "data": {
      "text/plain": [
       "(10000, 3162277.6601683795)"
      ]
     },
     "execution_count": 308,
     "metadata": {},
     "output_type": "execute_result"
    },
    {
     "data": {
      "image/png": "[encoded data removed]",
      "text/plain": [
       "<matplotlib.figure.Figure at 0x2b9f20c670d0>"
      ]
     },
     "metadata": {},
     "output_type": "display_data"
    }
   ],
   "source": [
    "plt.figure(figsize=(10,6))\n",
    "counts = ref_data['time_residuals'].sum(axis=1)\n",
    "x = ref_data['residual_axis']\n",
    "\n",
    "jplot.unfilledBar(x, counts, label='Reference')\n",
    "plt.yscale('log')\n",
    "\n",
    "counts = new_data['time_residuals'].sum(axis=1)\n",
    "x = new_data['residual_axis']\n",
    "\n",
    "jplot.unfilledBar(x+1., counts, label = 'New', color = 'red')\n",
    "plt.legend(loc=0)\n",
    "plt.xlim(-8, 80)\n",
    "plt.ylim(10**4, 10**6.5)"
   ]
  },
  {
   "cell_type": "code",
   "execution_count": 291,
   "metadata": {
    "collapsed": true
   },
   "outputs": [],
   "source": [
    "# Obtaining the FWHM of the new\n",
    "def getAllFWHM(data, logmode = False):\n",
    "    bad_counter = 0\n",
    "    fwhm = np.zeros(data['time_residuals'].shape[1])\n",
    "    x = data['residual_axis']\n",
    "    for pmtid in range(data['time_residuals'].shape[1]):\n",
    "        if pmtid % 1000 == 0:\n",
    "            print 'PMT ', pmtid\n",
    "        if data['time_residuals'][:,pmtid].sum() < 5: \n",
    "            continue\n",
    "        if logmode:\n",
    "            c = np.log10(data['time_residuals'][:,pmtid])\n",
    "            c[0] = 0.\n",
    "            c[c==-np.inf] = 0.\n",
    "            \n",
    "            logc = c - c.max()/2.\n",
    "\n",
    "            \n",
    "            spline = interpolate.UnivariateSpline((x[1:]+x[:-1])/2., \n",
    "                        logc, \n",
    "                        s=1)\n",
    "        else:\n",
    "            c = data['time_residuals'][:,pmtid]-data['time_residuals'][:,pmtid].max()/2.\n",
    "            c[0] = 0.\n",
    "            #print np.sum(c)\n",
    "            spline = interpolate.UnivariateSpline((x[1:]+x[:-1])/2., \n",
    "                        c, s=1)\n",
    "\n",
    "        try:\n",
    "            roots = spline.roots()\n",
    "            fwhm[pmtid] = roots[1]-roots[0]\n",
    "        except:\n",
    "            bad_counter += 1\n",
    "            #print 'Problem', pmtid, roots\n",
    "            #jplot.unfilledBar(data['residual_axis'],\n",
    "            #                  logc,\n",
    "            #            color = 'green')\n",
    "            #plt.show()\n",
    "            #raw_input()\n",
    "            #return spline\n",
    "    print bad_counter\n",
    "    return fwhm"
   ]
  },
  {
   "cell_type": "code",
   "execution_count": 292,
   "metadata": {
    "collapsed": false
   },
   "outputs": [
    {
     "name": "stdout",
     "output_type": "stream",
     "text": [
      "PMT  0\n",
      "PMT  1000\n",
      "PMT  2000\n",
      "PMT  3000\n",
      "PMT  4000\n",
      "PMT  5000\n",
      "PMT  6000\n",
      "PMT  7000\n",
      "PMT  8000\n",
      "PMT  9000\n",
      "0\n"
     ]
    }
   ],
   "source": [
    "ref_fwhm = getAllFWHM(ref_data)"
   ]
  },
  {
   "cell_type": "code",
   "execution_count": 293,
   "metadata": {
    "collapsed": false
   },
   "outputs": [
    {
     "name": "stdout",
     "output_type": "stream",
     "text": [
      "PMT  0\n",
      "PMT  1000\n",
      "PMT  2000\n",
      "PMT  3000\n",
      "PMT  4000\n",
      "PMT  5000\n",
      "PMT  6000\n",
      "PMT  7000\n",
      "PMT  8000\n",
      "PMT  9000\n",
      "0\n"
     ]
    }
   ],
   "source": [
    "new_fwhm = getAllFWHM(new_data)"
   ]
  },
  {
   "cell_type": "code",
   "execution_count": 294,
   "metadata": {
    "collapsed": false
   },
   "outputs": [
    {
     "data": {
      "text/plain": [
       "<matplotlib.legend.Legend at 0x2b9f2076d3d0>"
      ]
     },
     "execution_count": 294,
     "metadata": {},
     "output_type": "execute_result"
    },
    {
     "data": {
      "image/png": "[encoded data removed]",
      "text/plain": [
       "<matplotlib.figure.Figure at 0x2b9f1f67b790>"
      ]
     },
     "metadata": {},
     "output_type": "display_data"
    }
   ],
   "source": [
    "xaxis = np.arange(0., 7., 0.05)\n",
    "b, x = np.histogram(ref_fwhm[ref_fwhm>0], xaxis)\n",
    "bn, x = np.histogram(new_fwhm[ref_fwhm>0], xaxis)\n",
    "\n",
    "jplot.unfilledBar(x,b, label='Reference')\n",
    "jplot.unfilledBar(x,bn, color = 'red', label='New')\n",
    "plt.legend(loc=0)"
   ]
  },
  {
   "cell_type": "code",
   "execution_count": 310,
   "metadata": {
    "collapsed": false
   },
   "outputs": [
    {
     "name": "stdout",
     "output_type": "stream",
     "text": [
      "3.93297845599 4.06120276027\n"
     ]
    }
   ],
   "source": [
    "print np.median(ref_fwhm), np.median(new_fwhm)"
   ]
  },
  {
   "cell_type": "code",
   "execution_count": 296,
   "metadata": {
    "collapsed": false
   },
   "outputs": [
    {
     "data": {
      "text/plain": [
       "<matplotlib.legend.Legend at 0x2b9f20917fd0>"
      ]
     },
     "execution_count": 296,
     "metadata": {},
     "output_type": "execute_result"
    },
    {
     "data": {
      "image/png": "[encoded data removed]",
      "text/plain": [
       "<matplotlib.figure.Figure at 0x2b9f207b6710>"
      ]
     },
     "metadata": {},
     "output_type": "display_data"
    }
   ],
   "source": [
    "xaxis = np.arange(-3., 3., 0.05)\n",
    "logdiff = ref_fwhm - new_fwhm\n",
    "nonzero = (new_fwhm>0)*(ref_fwhm>0)\n",
    "b, x = np.histogram(logdiff[nonzero], xaxis)\n",
    "\n",
    "jplot.unfilledBar(x, np.cumsum(b), color = 'k')\n",
    "jplot.unfilledBar(x,b*b.sum()/b.max(), label='Difference')\n",
    "\n",
    "#plt.ylim(0, 2000)\n",
    "plt.legend(loc=0)"
   ]
  },
  {
   "cell_type": "code",
   "execution_count": 297,
   "metadata": {
    "collapsed": false
   },
   "outputs": [
    {
     "name": "stdout",
     "output_type": "stream",
     "text": [
      "(137,)\n",
      "[ 143  225  230  251  308  406  487  892 1115 1319 1364 1412 1560 1570 1592\n",
      " 1716 1724 1895 1947 1963 2106 2163 2170 2183 2189 2199 2363 2390 2535 2536\n",
      " 2601 2621 2754 2799 2810 2858 2862 2964 3020 3190 3389 3468 3474 3497 3642\n",
      " 3661 3681 3682 3759 3770 3888 3926 3975 4141 4203 4235 4365 4417 4516 4538\n",
      " 4709 4816 4861 4882 5077 5174 5177 5178 5273 5338 5356 5399 5443 5466 5483\n",
      " 5622 5624 5651 5804 5864 6026 6183 6254 6291 6353 6453 6457 6465 6483 6500\n",
      " 6641 6686 6709 6838 6864 6886 6894 7105 7248 7265 7467 7628 7694 7705 7719\n",
      " 7760 7819 7861 7871 7900 7951 7954 8129 8202 8274 8377 8434 8443 8485 8582\n",
      " 8610 8781 8883 8893 9005 9006 9025 9039 9082 9158 9334 9419 9491 9506 9522\n",
      " 9641 9679]\n"
     ]
    }
   ],
   "source": [
    "# Look for a PMT with a large difference here\n",
    "diff = np.where((logdiff > 2.)& (new_fwhm_log > 0) & (ref_fwhm_log>0))[0]\n",
    "print diff.shape\n",
    "print diff"
   ]
  },
  {
   "cell_type": "code",
   "execution_count": 249,
   "metadata": {
    "collapsed": false
   },
   "outputs": [
    {
     "name": "stdout",
     "output_type": "stream",
     "text": [
      "PMT  0\n",
      "PMT  1000\n",
      "PMT  2000\n",
      "PMT  3000\n",
      "PMT  4000\n",
      "PMT  5000\n",
      "PMT  6000\n",
      "PMT  7000\n",
      "PMT  8000\n",
      "PMT  9000\n",
      "0\n"
     ]
    },
    {
     "name": "stderr",
     "output_type": "stream",
     "text": [
      "/gs/software/CentOS-6/eb/software/Toolchain/iomkl/2015b/IPython/3.2.1-Python-2.7.10/lib/python2.7/site-packages/IPython/kernel/__main__.py:12: RuntimeWarning: divide by zero encountered in log10\n"
     ]
    }
   ],
   "source": [
    "ref_fwhm_log = getAllFWHM(ref_data, logmode=True)"
   ]
  },
  {
   "cell_type": "code",
   "execution_count": 264,
   "metadata": {
    "collapsed": false
   },
   "outputs": [
    {
     "name": "stdout",
     "output_type": "stream",
     "text": [
      "PMT  0\n",
      "PMT  1000\n",
      "PMT  2000\n",
      "PMT  3000\n",
      "PMT  4000\n",
      "PMT  5000\n",
      "PMT  6000\n",
      "PMT  7000\n",
      "PMT  8000\n",
      "PMT  9000\n",
      "101\n"
     ]
    },
    {
     "name": "stderr",
     "output_type": "stream",
     "text": [
      "/gs/software/CentOS-6/eb/software/Toolchain/iomkl/2015b/IPython/3.2.1-Python-2.7.10/lib/python2.7/site-packages/IPython/kernel/__main__.py:12: RuntimeWarning: divide by zero encountered in log10\n"
     ]
    }
   ],
   "source": [
    "new_fwhm_log = getAllFWHM(new_data, logmode = True)"
   ]
  },
  {
   "cell_type": "code",
   "execution_count": 269,
   "metadata": {
    "collapsed": false
   },
   "outputs": [
    {
     "name": "stdout",
     "output_type": "stream",
     "text": [
      "Nonzeros 8678 8891\n",
      "Max 49.4303569426 18.5086438341\n"
     ]
    }
   ],
   "source": [
    "print 'Nonzeros', np.sum(ref_fwhm_log>0), np.sum(new_fwhm_log>0)\n",
    "print 'Max', ref_fwhm_log.max(), new_fwhm_log.max()"
   ]
  },
  {
   "cell_type": "code",
   "execution_count": 271,
   "metadata": {
    "collapsed": false
   },
   "outputs": [
    {
     "data": {
      "text/plain": [
       "<matplotlib.legend.Legend at 0x2b9f2040e8d0>"
      ]
     },
     "execution_count": 271,
     "metadata": {},
     "output_type": "execute_result"
    },
    {
     "data": {
      "image/png": "[encoded data removed]",
      "text/plain": [
       "<matplotlib.figure.Figure at 0x2b9f201eed50>"
      ]
     },
     "metadata": {},
     "output_type": "display_data"
    }
   ],
   "source": [
    "xaxis = np.arange(0., 12., 0.05)\n",
    "b, x = np.histogram(ref_fwhm_log[ref_fwhm_log>0], xaxis)\n",
    "bn, x = np.histogram(new_fwhm_log[ref_fwhm_log>0], xaxis)\n",
    "\n",
    "jplot.unfilledBar(x,b, label='Reference')\n",
    "jplot.unfilledBar(x,bn, color = 'red', label='New')\n",
    "#plt.ylim(0, 2000)\n",
    "plt.legend(loc=0)"
   ]
  },
  {
   "cell_type": "code",
   "execution_count": 273,
   "metadata": {
    "collapsed": false
   },
   "outputs": [
    {
     "data": {
      "text/plain": [
       "<matplotlib.legend.Legend at 0x2b9f205c69d0>"
      ]
     },
     "execution_count": 273,
     "metadata": {},
     "output_type": "execute_result"
    },
    {
     "data": {
      "image/png": "[encoded data removed]",
      "text/plain": [
       "<matplotlib.figure.Figure at 0x2b9f20538d90>"
      ]
     },
     "metadata": {},
     "output_type": "display_data"
    }
   ],
   "source": [
    "xaxis = np.arange(-3., 3., 0.05)\n",
    "logdiff = ref_fwhm_log - new_fwhm_log\n",
    "nonzero = (new_fwhm_log>0)*(ref_fwhm_log>0)\n",
    "b, x = np.histogram(logdiff[(new_fwhm_log>0)*(ref_fwhm_log>0)], xaxis)\n",
    "\n",
    "jplot.unfilledBar(x, np.cumsum(b), color = 'k')\n",
    "jplot.unfilledBar(x,b*b.sum()/b.max(), label='Difference')\n",
    "\n",
    "#plt.ylim(0, 2000)\n",
    "plt.legend(loc=0)"
   ]
  },
  {
   "cell_type": "code",
   "execution_count": 274,
   "metadata": {
    "collapsed": false
   },
   "outputs": [
    {
     "data": {
      "text/plain": [
       "8678"
      ]
     },
     "execution_count": 274,
     "metadata": {},
     "output_type": "execute_result"
    }
   ],
   "source": [
    "np.sum(nonzero)"
   ]
  },
  {
   "cell_type": "code",
   "execution_count": 285,
   "metadata": {
    "collapsed": false
   },
   "outputs": [
    {
     "name": "stdout",
     "output_type": "stream",
     "text": [
      "(160,)\n",
      "[  38  111  159  322  363  437  457  484  487  500  502  509  625  653  793\n",
      "  804  859  967 1056 1066 1069 1070 1071 1075 1076 1077 1078 1083 1320 1333\n",
      " 1334 1335 1341 1534 1711 2079 2170 2265 2368 2383 2446 2458 2465 2535 2567\n",
      " 2754 2764 2769 2770 2796 2870 2925 2949 2971 3089 3377 3378 3581 3588 3609\n",
      " 3681 3684 3685 3687 3689 3699 3701 3702 3703 3705 3709 3711 3964 3989 4015\n",
      " 4141 4235 4242 4366 4389 4395 4399 4405 4549 4862 5138 5141 5143 5145 5146\n",
      " 5150 5168 5243 5273 5394 5529 5619 5651 5652 5653 5656 5660 5663 5712 5976\n",
      " 6227 6233 6253 6272 6301 6325 6397 6461 6504 6527 6545 6548 6550 6557 6572\n",
      " 6610 6680 6686 6712 6724 6829 6836 6845 6868 6880 6987 7021 7080 7090 7229\n",
      " 7274 7307 7442 7508 7694 7906 7944 8028 8167 8176 8179 8274 8358 8485 8587\n",
      " 8693 8770 8832 9048 9050 9082 9307 9450 9460 9488]\n"
     ]
    }
   ],
   "source": [
    "# Look for a PMT with a large difference here\n",
    "diff = np.where((logdiff > 2.)& (new_fwhm_log > 0) & (ref_fwhm_log>0))[0]\n",
    "print diff.shape\n",
    "print diff"
   ]
  },
  {
   "cell_type": "code",
   "execution_count": 286,
   "metadata": {
    "collapsed": false
   },
   "outputs": [
    {
     "data": {
      "text/plain": [
       "10.117400252203517"
      ]
     },
     "execution_count": 286,
     "metadata": {},
     "output_type": "execute_result"
    }
   ],
   "source": [
    "logdiff[111]"
   ]
  },
  {
   "cell_type": "code",
   "execution_count": 298,
   "metadata": {
    "collapsed": false
   },
   "outputs": [
    {
     "name": "stdout",
     "output_type": "stream",
     "text": [
      "9.02950890302 9.44671509167\n",
      "[-3.73155084  5.32578108] [-3.87722889  5.59494613]\n",
      "9.05733191558 9.47217501874\n"
     ]
    },
    {
     "name": "stderr",
     "output_type": "stream",
     "text": [
      "/gs/software/CentOS-6/eb/software/Toolchain/iomkl/2015b/IPython/3.2.1-Python-2.7.10/lib/python2.7/site-packages/IPython/kernel/__main__.py:6: RuntimeWarning: divide by zero encountered in log10\n",
      "/gs/software/CentOS-6/eb/software/Toolchain/iomkl/2015b/IPython/3.2.1-Python-2.7.10/lib/python2.7/site-packages/IPython/kernel/__main__.py:7: RuntimeWarning: divide by zero encountered in log10\n"
     ]
    },
    {
     "data": {
      "text/plain": [
       "(-10, 80)"
      ]
     },
     "execution_count": 298,
     "metadata": {},
     "output_type": "execute_result"
    },
    {
     "data": {
      "image/png": "[encoded data removed]",
      "text/plain": [
       "<matplotlib.figure.Figure at 0x2b9f209ad250>"
      ]
     },
     "metadata": {},
     "output_type": "display_data"
    }
   ],
   "source": [
    "# Check the whole thing\n",
    "pmtid = 143\n",
    "\n",
    "print ref_fwhm_log[pmtid], new_fwhm_log[pmtid]\n",
    "\n",
    "ref_counts = np.log10(ref_data['time_residuals'][:,pmtid])\n",
    "new_counts = np.log10(new_data['time_residuals'][:,pmtid])\n",
    "new_counts[0] = 0.\n",
    "\n",
    "\n",
    "ref_counts[ref_counts==-np.inf] = 0\n",
    "new_counts[new_counts==-np.inf] = 0\n",
    "\n",
    "\n",
    "new_counts *= ref_counts.max()/new_counts.max()\n",
    "\n",
    "\n",
    "\n",
    "plt.figure(figsize=(12,6))\n",
    "jplot.unfilledBar(ref_data['residual_axis'] - ref_data['residual_axis'][ref_counts.argmax()],\n",
    "                 ref_counts-ref_counts.max()/2., color = 'blue')\n",
    "jplot.unfilledBar(new_data['residual_axis'] - new_data['residual_axis'][new_counts.argmax()],\n",
    "                 new_counts-new_counts.max()/2., color = 'green')\n",
    "\n",
    "\n",
    "x = ref_data['residual_axis'] - ref_data['residual_axis'][ref_counts.argmax()]\n",
    "spline_ref = interpolate.UnivariateSpline((x[1:]+x[:-1])/2., \n",
    "                        ref_counts - ref_counts.max()/2., \n",
    "                        s=2)\n",
    "\n",
    "x = new_data['residual_axis'] - new_data['residual_axis'][new_counts.argmax()]\n",
    "spline_new = interpolate.UnivariateSpline((x[1:]+x[:-1])/2., \n",
    "                        new_counts - new_counts.max()/2., \n",
    "                        s=2)\n",
    "\n",
    "newx = np.linspace(-10, 10)\n",
    "plt.plot(newx, spline_ref(newx), '--b')\n",
    "plt.plot(newx, spline_new(newx), '--g')\n",
    "\n",
    "roots_ref = spline_ref.roots()\n",
    "roots_new = spline_new.roots()\n",
    "print roots_ref, roots_new\n",
    "print roots_ref[1]-roots_ref[0], roots_new[1]-roots_new[0]\n",
    "\n",
    "plt.ylim(-1,2)\n",
    "plt.xlim(-10, 80)\n",
    "\n",
    "#plt.yscale('log')"
   ]
  },
  {
   "cell_type": "code",
   "execution_count": null,
   "metadata": {
    "collapsed": true
   },
   "outputs": [],
   "source": []
  }
 ],
 "metadata": {
  "kernelspec": {
   "display_name": "Python 2",
   "language": "python",
   "name": "python2"
  },
  "language_info": {
   "codemirror_mode": {
    "name": "ipython",
    "version": 2
   },
   "file_extension": ".py",
   "mimetype": "text/x-python",
   "name": "python",
   "nbconvert_exporter": "python",
   "pygments_lexer": "ipython2",
   "version": "2.7.10"
  }
 },
 "nbformat": 4,
 "nbformat_minor": 0
}
