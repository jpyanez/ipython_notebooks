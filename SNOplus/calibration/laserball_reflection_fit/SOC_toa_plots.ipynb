{
 "cells": [
  {
   "cell_type": "code",
   "execution_count": 23,
   "metadata": {
    "collapsed": false
   },
   "outputs": [],
   "source": [
    "import ROOT, rat\n",
    "import os, sys, pickle\n",
    "\n",
    "import matplotlib.pyplot as plt\n",
    "import numpy as np\n",
    "import collections\n",
    "%matplotlib inline \n",
    "\n",
    "import jp_mpl as jplot\n",
    "\n",
    "from matplotlib.colors import LogNorm\n",
    "import pickle\n",
    "import ratdb_reader\n",
    "reload(ratdb_reader)\n",
    "from copy import deepcopy"
   ]
  },
  {
   "cell_type": "code",
   "execution_count": 2,
   "metadata": {
    "collapsed": false
   },
   "outputs": [
    {
     "name": "stdout",
     "output_type": "stream",
     "text": [
      "This is AIRPLANE MODE - be careful!\n"
     ]
    },
    {
     "name": "stderr",
     "output_type": "stream",
     "text": [
      "TClass::TClass:0: RuntimeWarning: no dictionary for class RAT::DBTableKey is available\n"
     ]
    }
   ],
   "source": [
    "# Airplane mode\n",
    "db = rat.RAT.DB.Get()\n",
    "db.SetAirplaneModeStatus(True)\n",
    "db.SetDefaultPlaneLockStatus(False)\n",
    "print 'This is AIRPLANE MODE - be careful!'"
   ]
  },
  {
   "cell_type": "code",
   "execution_count": 214,
   "metadata": {
    "collapsed": false
   },
   "outputs": [],
   "source": [
    "infiles = \\\n",
    "[['Data_102529', '/home/jpyanez/snoplus/data/SOC_files/SOC_0000102529.root'],\n",
    " ['MC_105529', '/home/jpyanez/snoplus/rundir/laserball_runmc/stdgeo/LB_420nm_center_102529.root'],\n",
    " ['MC_default', '/home/jpyanez/snoplus/rundir/laserball_runmc/stdgeo/LB_420nm_center_generic.root'],\n",
    " ['MC_modGV', '/home/jpyanez/snoplus/rundir/laserball_runmc/stdgeo/LB_420nm_center_generic_newgvel.root'],\n",
    " ['MC_modGV_offcentre', '/home/jpyanez/snoplus/rundir/laserball_runmc/stdgeo/LB_420nm_center_generic_newgvel_offzaxis.root']]"
   ]
  },
  {
   "cell_type": "code",
   "execution_count": 52,
   "metadata": {
    "collapsed": false
   },
   "outputs": [],
   "source": [
    "def plotPMTtoa(time_array,\n",
    "               bin_width   = 1., # in ns\n",
    "               time_window = 400.,\n",
    "               start_time  = -100,\n",
    "               plot = False):\n",
    "\n",
    "    residual_axis = np.arange(start_time, time_window + start_time+ bin_width/2., bin_width)\n",
    "\n",
    "    counts, x = np.histogram(time_array, residual_axis)\n",
    "    #print residual_axis.size\n",
    "    \n",
    "    if plot:\n",
    "        print mytime\n",
    "\n",
    "        plt.figure(figsize=(10,6))\n",
    "        plt.plot(mytime+residual_axis[counts.argmax()]-mytime[mylatep.argmax()], \n",
    "                 mylatep*counts.max()*1./mylatep.max(), '--k')\n",
    "\n",
    "        jplot.unfilledBar(residual_axis, counts)\n",
    "        plt.xlabel('Time of arrival (ns)', fontsize='x-large')\n",
    "        plt.ylabel('Counts')\n",
    "        plt.yscale('log')\n",
    "        \n",
    "    return counts, x"
   ]
  },
  {
   "cell_type": "code",
   "execution_count": 224,
   "metadata": {
    "collapsed": false,
    "scrolled": true
   },
   "outputs": [
    {
     "name": "stdout",
     "output_type": "stream",
     "text": [
      "RUN info\n",
      "manip position [   0. -254.   25.]\n",
      "0\n",
      "300\n",
      "600\n",
      "900\n",
      "1200\n",
      "1500\n",
      "1800\n",
      "2100\n",
      "2400\n",
      "2700\n",
      "3000\n",
      "3300\n",
      "3600\n",
      "3900\n",
      "4200\n",
      "4500\n",
      "4800\n",
      "5100\n",
      "5400\n",
      "5700\n",
      "6000\n",
      "6300\n",
      "6600\n",
      "6900\n",
      "7200\n",
      "7500\n",
      "7800\n",
      "8100\n",
      "8400\n",
      "8700\n",
      "9000\n",
      "9300\n",
      "9600\n",
      "RUN info\n",
      "manip position [  10.        -224.          -3.5999999]\n",
      "300\n",
      "600\n",
      "900\n",
      "1200\n",
      "1500\n",
      "1800\n",
      "2100\n",
      "2400\n",
      "2700\n",
      "3000\n",
      "3300\n",
      "3600\n",
      "3900\n",
      "4200\n",
      "4500\n",
      "4800\n",
      "5100\n",
      "5400\n",
      "5700\n",
      "6000\n",
      "6300\n",
      "6600\n",
      "6900\n",
      "7200\n",
      "7500\n",
      "7800\n",
      "8100\n",
      "8400\n",
      "8700\n",
      "9000\n",
      "9300\n",
      "9600\n",
      "RUN info\n",
      "manip position [  10.        -224.          -3.5999999]\n",
      "300\n",
      "600\n",
      "900\n",
      "1200\n",
      "1500\n",
      "1800\n",
      "2100\n",
      "2400\n",
      "2700\n",
      "3000\n",
      "3300\n",
      "3600\n",
      "3900\n",
      "4200\n",
      "4500\n",
      "4800\n",
      "5100\n",
      "5400\n",
      "5700\n",
      "6000\n",
      "6300\n",
      "6600\n",
      "6900\n",
      "7200\n",
      "7800\n",
      "8100\n",
      "8400\n",
      "8700\n",
      "9000\n",
      "9300\n",
      "9600\n",
      "RUN info\n",
      "manip position [  10.        -224.          -3.5999999]\n",
      "300\n",
      "600\n",
      "900\n",
      "1200\n",
      "1500\n",
      "1800\n",
      "2100\n",
      "2400\n",
      "2700\n",
      "3000\n",
      "3300\n",
      "3600\n",
      "3900\n",
      "4200\n",
      "4500\n",
      "4800\n",
      "5100\n",
      "5400\n",
      "5700\n",
      "6000\n",
      "6300\n",
      "6600\n",
      "6900\n",
      "7200\n",
      "7800\n",
      "8100\n",
      "8400\n",
      "8700\n",
      "9000\n",
      "9300\n",
      "9600\n",
      "RUN info\n",
      "manip position [  10. -224.  644.]\n",
      "300\n",
      "600\n",
      "900\n",
      "1200\n",
      "1500\n",
      "1800\n",
      "2100\n",
      "2400\n",
      "2700\n",
      "3000\n",
      "3300\n",
      "3600\n",
      "3900\n",
      "4200\n",
      "4500\n",
      "4800\n",
      "5100\n",
      "5400\n",
      "5700\n",
      "6000\n",
      "6300\n",
      "6600\n",
      "6900\n",
      "7200\n",
      "7800\n",
      "8100\n",
      "8400\n",
      "8700\n",
      "9000\n",
      "9300\n",
      "9600\n"
     ]
    }
   ],
   "source": [
    "#toa = np.zeros()\n",
    "toa = np.zeros([9800, 400])\n",
    "toa_all = []\n",
    "for iEntry in range(len(infiles)):\n",
    "\n",
    "    # Get the soc object\n",
    "    reader = rat.socreader(infiles[iEntry][1])\n",
    "    soc, run = reader.next()\n",
    "    print 'RUN info'\n",
    "    print 'manip position', np.array(soc.calib.GetPos())\n",
    "    #print 'socfit position', np.array(soc.GetFitResult(soc.GetFitNames()[0]).GetVertex(0).GetPosition())\n",
    "    #print 'wavelength', soc.calib.GetMode()\n",
    "    \n",
    "    for one_pmt in soc.GetSOCPMTIDs():\n",
    "        if one_pmt % 300 == 0:\n",
    "            print one_pmt\n",
    "        time_array = soc.GetSOCPMT(one_pmt).GetTimes()\n",
    "        toa[one_pmt, :], toa_edges = plotPMTtoa(time_array,\n",
    "                                               start_time=300)\n",
    "    \n",
    "    toa_all.append(deepcopy(toa))\n"
   ]
  },
  {
   "cell_type": "code",
   "execution_count": 143,
   "metadata": {
    "collapsed": false
   },
   "outputs": [
    {
     "name": "stdout",
     "output_type": "stream",
     "text": [
      "reader: Creating a dict in line 4\n",
      "reader: Closing a dict in line 17\n",
      "reader: Creating a dict in line 19\n",
      "reader: Closing a dict in line 34\n"
     ]
    }
   ],
   "source": [
    "import ratdb_reader\n",
    "reload(ratdb_reader)\n",
    "infile_name = '/home/jpyanez/snoplus/software/rat/data/PMTTRANSIT.ratdb'\n",
    "dbdata = ratdb_reader.dbreader(infile_name)\n",
    "from scipy import interpolate\n",
    "lpfcn = interpolate.InterpolatedUnivariateSpline(dbdata['r1408']['x'][1:], \n",
    "                                                 dbdata['r1408']['y'][1:] - dbdata['r1408']['y'][:-1])"
   ]
  },
  {
   "cell_type": "code",
   "execution_count": 222,
   "metadata": {
    "collapsed": false
   },
   "outputs": [
    {
     "data": {
      "text/plain": [
       "2"
      ]
     },
     "execution_count": 222,
     "metadata": {},
     "output_type": "execute_result"
    }
   ],
   "source": [
    "len(toa_all)"
   ]
  },
  {
   "cell_type": "code",
   "execution_count": 252,
   "metadata": {
    "collapsed": false
   },
   "outputs": [
    {
     "data": {
      "text/plain": [
       "<matplotlib.text.Text at 0x2b58134b4910>"
      ]
     },
     "execution_count": 252,
     "metadata": {},
     "output_type": "execute_result"
    },
    {
     "data": {
      "image/png": "[encoded data removed]",
      "text/plain": [
       "<matplotlib.figure.Figure at 0x2b5813271fd0>"
      ]
     },
     "metadata": {},
     "output_type": "display_data"
    }
   ],
   "source": [
    "fig = plt.figure(figsize=(12,6))\n",
    "datamax = toa_all[0].sum(axis=0).max()\n",
    "colors = ['k','g','r','c','m','y','k']\n",
    "\n",
    "for i, one_toa in enumerate(toa_all):\n",
    "    if i >1 or i > 2 or i > 3:\n",
    "        continue\n",
    "    projection = one_toa.sum(axis=0)\n",
    "    \n",
    "    #jplot.unfilledBar(toa_edges-toa_edges[projection.argmax()], \n",
    "    #                                      projection*datamax/projection.max(), \n",
    "    #                  label = infiles[i][0], color = colors[i])\n",
    "    scale=1.\n",
    "    if i > 0:\n",
    "        scale=100.\n",
    "    jplot.unfilledBar(toa_edges-toa_edges[projection.argmax()], \n",
    "                                          projection*scale, \n",
    "                      label = infiles[i][0], color = colors[i])\n",
    "    #if i == 1:\n",
    "    #    break\n",
    "\n",
    "#mytime  = np.linspace(-10, 80, 1001)\n",
    "#mylatep = lpfcn(mytime)\n",
    "#plt.plot(mytime, mylatep*datamax/mylatep.max())\n",
    "#print mylatep.max()\n",
    "\n",
    "# These are the actual peaks\n",
    "#plt.axvline(x=54.5, ymin=0, ymax=1, linewidth=2, color = 'k', linestyle='--')\n",
    "#plt.axvline(x=61.5, ymin=0, ymax=1, linewidth=2, color = 'k', linestyle='--')\n",
    "#plt.axvline(x=76., ymin=0, ymax=1, linewidth=2, color = 'k', linestyle='--')\n",
    "\n",
    "# These are the peaks in mc expected\n",
    "#for peak in mc_peaks:\n",
    "#    plt.axvline(x=peak, ymin=0, ymax=1, linewidth=2, color = 'r', linestyle='--')\n",
    "\n",
    "#for peak in mc_fast:\n",
    "#    plt.axvline(x=peak, ymin=0, ymax=1, linewidth=2, color = 'c', linestyle='--')\n",
    "    \n",
    "#for peak in data_peaks:\n",
    "#    plt.axvline(x=peak, ymin=0, ymax=1, linewidth=2, color = 'k', linestyle='--')\n",
    "    \n",
    "#for peak in slow_peaks:\n",
    "#    plt.axvline(x=peak, ymin=0, ymax=1, linewidth=2, color = 'g', linestyle='--')\n",
    "\n",
    "#x = np.linspace(0, 40, 101)\n",
    "#y = x*(-1.5/30) + 4.8\n",
    "#plt.plot(40. + x,10**y, '--b')\n",
    "\n",
    "#x = np.linspace(0, 40, 41)\n",
    "#y = 10**(x*(-1.5/30) + 4.8)[:-1]\n",
    "#jplot.unfilledBar(x+40.,y)\n",
    "\n",
    "plt.yscale('log')\n",
    "plt.xlim(-10, 85)\n",
    "plt.ylim(10**4, 3*10**7)\n",
    "plt.legend(loc=0)\n",
    "plt.xlabel('time (ns)', fontsize='x-large')\n",
    "plt.ylabel('Counts', fontsize='x-large')\n",
    "\n",
    "\n"
   ]
  },
  {
   "cell_type": "code",
   "execution_count": 251,
   "metadata": {
    "collapsed": false
   },
   "outputs": [
    {
     "data": {
      "text/plain": [
       "(array([   0.,    2.,    1.,    0.,    2.,    1.,    0.,    2.,    1.,\n",
       "           0.,    1.,    1.,    1.,    0.,    0.,    2.,    0.,    4.,\n",
       "           4.,    0.,    3.,    4.,    5.,    0.,    8.,   10.,    0.,\n",
       "          11.,   12.,    0.,    9.,   23.,   23.,    0.,   21.,   23.,\n",
       "           0.,   47.,   36.,    0.,   37.,   37.,   41.,    0.,   39.,\n",
       "          54.,    0.,   60.,   57.,    0.,   57.,   61.,   61.,    0.,\n",
       "          82.,   71.,    0.,   96.,   72.,    0.,   87.,  105.,   85.,\n",
       "           0.,   87.,  102.,    0.,  119.,  109.,    0.,   88.,  106.,\n",
       "         118.,    0.,  130.,  121.,    0.,  124.,  119.,    0.,  110.,\n",
       "         121.,  111.,    0.,  113.,  135.,    0.,  112.,  121.,    0.,\n",
       "         142.,  100.,  118.,    0.,  130.,   94.,    0.,  102.,  122.,\n",
       "           0.,  117.,  106.,  102.,    0.,  106.,  131.,    0.,  118.,\n",
       "         116.,    0.,  115.,  121.,  108.,    0.,  102.,  101.,    0.,\n",
       "         111.,   92.,    0.,  111.,  109.,   82.,    0.,  100.,  120.,\n",
       "           0.,  104.,   87.,    0.,   98.,   96.,   92.,    0.,   97.,\n",
       "          86.,    0.,   86.,   82.,    0.,   78.,   80.,   97.,    0.,\n",
       "          70.,   99.,    0.,   75.,   73.,    0.,   76.,   54.,   59.,\n",
       "           0.,   66.,   57.,    0.,   57.,   55.,    0.,   44.,   49.,\n",
       "          42.,    0.,   42.,   32.,    0.,   32.,   28.,    0.,   24.,\n",
       "          36.,   34.,    0.,   34.,   18.,    0.,   19.,   17.,    0.,\n",
       "          12.,    3.,   11.,    0.,   11.,    5.,    0.,    7.,   10.,\n",
       "           0.,    2.,    9.,    3.,    0.,    2.,    4.,    0.,    3.,\n",
       "           0.,    1.]),\n",
       " array([  10. ,   10.7,   11.4,   12.1,   12.8,   13.5,   14.2,   14.9,\n",
       "          15.6,   16.3,   17. ,   17.7,   18.4,   19.1,   19.8,   20.5,\n",
       "          21.2,   21.9,   22.6,   23.3,   24. ,   24.7,   25.4,   26.1,\n",
       "          26.8,   27.5,   28.2,   28.9,   29.6,   30.3,   31. ,   31.7,\n",
       "          32.4,   33.1,   33.8,   34.5,   35.2,   35.9,   36.6,   37.3,\n",
       "          38. ,   38.7,   39.4,   40.1,   40.8,   41.5,   42.2,   42.9,\n",
       "          43.6,   44.3,   45. ,   45.7,   46.4,   47.1,   47.8,   48.5,\n",
       "          49.2,   49.9,   50.6,   51.3,   52. ,   52.7,   53.4,   54.1,\n",
       "          54.8,   55.5,   56.2,   56.9,   57.6,   58.3,   59. ,   59.7,\n",
       "          60.4,   61.1,   61.8,   62.5,   63.2,   63.9,   64.6,   65.3,\n",
       "          66. ,   66.7,   67.4,   68.1,   68.8,   69.5,   70.2,   70.9,\n",
       "          71.6,   72.3,   73. ,   73.7,   74.4,   75.1,   75.8,   76.5,\n",
       "          77.2,   77.9,   78.6,   79.3,   80. ,   80.7,   81.4,   82.1,\n",
       "          82.8,   83.5,   84.2,   84.9,   85.6,   86.3,   87. ,   87.7,\n",
       "          88.4,   89.1,   89.8,   90.5,   91.2,   91.9,   92.6,   93.3,\n",
       "          94. ,   94.7,   95.4,   96.1,   96.8,   97.5,   98.2,   98.9,\n",
       "          99.6,  100.3,  101. ,  101.7,  102.4,  103.1,  103.8,  104.5,\n",
       "         105.2,  105.9,  106.6,  107.3,  108. ,  108.7,  109.4,  110.1,\n",
       "         110.8,  111.5,  112.2,  112.9,  113.6,  114.3,  115. ,  115.7,\n",
       "         116.4,  117.1,  117.8,  118.5,  119.2,  119.9,  120.6,  121.3,\n",
       "         122. ,  122.7,  123.4,  124.1,  124.8,  125.5,  126.2,  126.9,\n",
       "         127.6,  128.3,  129. ,  129.7,  130.4,  131.1,  131.8,  132.5,\n",
       "         133.2,  133.9,  134.6,  135.3,  136. ,  136.7,  137.4,  138.1,\n",
       "         138.8,  139.5,  140.2,  140.9,  141.6,  142.3,  143. ,  143.7,\n",
       "         144.4,  145.1,  145.8,  146.5,  147.2,  147.9,  148.6,  149.3,\n",
       "         150. ]),\n",
       " <a list of 200 Patch objects>)"
      ]
     },
     "execution_count": 251,
     "metadata": {},
     "output_type": "execute_result"
    },
    {
     "data": {
      "image/png": "[encoded data removed]",
      "text/plain": [
       "<matplotlib.figure.Figure at 0x2b5812f8c890>"
      ]
     },
     "metadata": {},
     "output_type": "display_data"
    }
   ],
   "source": [
    "plt.hist(toa_all[1].sum(axis=1), np.linspace(10, 150, 201))"
   ]
  },
  {
   "cell_type": "code",
   "execution_count": 248,
   "metadata": {
    "collapsed": false
   },
   "outputs": [
    {
     "data": {
      "text/plain": [
       "71.044122585643365"
      ]
     },
     "execution_count": 248,
     "metadata": {},
     "output_type": "execute_result"
    }
   ],
   "source": [
    "toa_all[0].sum()/toa_all[1].sum()"
   ]
  },
  {
   "cell_type": "code",
   "execution_count": 203,
   "metadata": {
    "collapsed": false
   },
   "outputs": [
    {
     "name": "stdout",
     "output_type": "stream",
     "text": [
      "54.0990990991 -0.0576576576577\n",
      "0.225225225225\n"
     ]
    }
   ],
   "source": [
    "t = (6005. - 6011.4)/222.\n",
    "print (2*6005.)/222., 2*t\n",
    "print 50/222."
   ]
  },
  {
   "cell_type": "code",
   "execution_count": null,
   "metadata": {
    "collapsed": true
   },
   "outputs": [],
   "source": []
  },
  {
   "cell_type": "code",
   "execution_count": null,
   "metadata": {
    "collapsed": true
   },
   "outputs": [],
   "source": [
    "fig = plt.figure(figsize=(12,6))\n",
    "datamax = toa_all[0].sum(axis=0).max()\n",
    "colors = ['k','g','r','c','m','y','k']\n",
    "\n",
    "for i, one_toa in enumerate(toa_all):\n",
    "    if i == 1 or i == 2:\n",
    "        continue\n",
    "    projection = one_toa.sum(axis=0)\n",
    "    \n",
    "    if i == 3:\n",
    "        x = np.linspace(0, 40, 41)\n",
    "        y = 10**(x*(-1.5/1000) + 4.8)[:-1]\n",
    "        #jplot.unfilledBar(x+40.,y)\n",
    "        \n",
    "        offset = 37\n",
    "        \n",
    "        counts = projection*datamax/projection.max()\n",
    "        minindex = counts.argmax()\n",
    "        counts[offset+minindex:offset+minindex+40] += 0.5*y\n",
    "    \n",
    "        jplot.unfilledBar(toa_edges-toa_edges[projection.argmax()], \n",
    "                      counts,\n",
    "                      #projection*datamax/projection.max(), \n",
    "                      label = infiles[i][0], color = colors[i])\n",
    "    else:\n",
    "        jplot.unfilledBar(toa_edges-toa_edges[projection.argmax()], \n",
    "                                          projection*datamax/projection.max(), \n",
    "                      label = infiles[i][0], color = colors[i])\n",
    "    #if i == 1:\n",
    "    #    break\n",
    "\n",
    "#mytime  = np.linspace(-10, 80, 1001)\n",
    "#mylatep = lpfcn(mytime)\n",
    "#plt.plot(mytime, mylatep*datamax/mylatep.max())\n",
    "#print mylatep.max()\n",
    "\n",
    "# These are the actual peaks\n",
    "#plt.axvline(x=54.5, ymin=0, ymax=1, linewidth=2, color = 'k', linestyle='--')\n",
    "#plt.axvline(x=61.5, ymin=0, ymax=1, linewidth=2, color = 'k', linestyle='--')\n",
    "#plt.axvline(x=76., ymin=0, ymax=1, linewidth=2, color = 'k', linestyle='--')\n",
    "\n",
    "# These are the peaks in mc expected\n",
    "#for peak in mc_peaks:\n",
    "#    plt.axvline(x=peak, ymin=0, ymax=1, linewidth=2, color = 'r', linestyle='--')\n",
    "\n",
    "#for peak in mc_fast:\n",
    "    #plt.axvline(x=peak, ymin=0, ymax=1, linewidth=2, color = 'c', linestyle='--')\n",
    "    \n",
    "#for peak in data_peaks:\n",
    "    #plt.axvline(x=peak, ymin=0, ymax=1, linewidth=2, color = 'k', linestyle='--')\n",
    "    \n",
    "#for peak in slow_peaks:\n",
    "#    plt.axvline(x=peak, ymin=0, ymax=1, linewidth=2, color = 'g', linestyle='--')\n",
    "\n",
    "#x = np.linspace(0, 40, 101)\n",
    "#y = x*(-1.5/30) + 4.8\n",
    "#plt.plot(40. + x,10**y, '--b')\n",
    "\n",
    "#x = np.linspace(0, 40, 41)\n",
    "#y = 10**(x*(-1.5/30) + 4.8)[:-1]\n",
    "#jplot.unfilledBar(x+40.,y)\n",
    "\n",
    "plt.yscale('log')\n",
    "plt.xlim(-10, 85)\n",
    "plt.ylim(10**4, 3*10**7)\n",
    "plt.legend(loc=0)\n",
    "plt.xlabel('time (ns)', fontsize='x-large')\n",
    "plt.ylabel('Counts', fontsize='x-large')\n",
    "\n",
    "\n"
   ]
  },
  {
   "cell_type": "code",
   "execution_count": 155,
   "metadata": {
    "collapsed": false
   },
   "outputs": [
    {
     "data": {
      "text/plain": [
       "[<matplotlib.lines.Line2D at 0x2b580b231e50>]"
      ]
     },
     "execution_count": 155,
     "metadata": {},
     "output_type": "execute_result"
    },
    {
     "data": {
      "image/png": "[encoded data removed]",
      "text/plain": [
       "<matplotlib.figure.Figure at 0x2b57f4084d90>"
      ]
     },
     "metadata": {},
     "output_type": "display_data"
    }
   ],
   "source": [
    "x = np.linspace(0, 40, 101)\n",
    "y = x*(-1.5/20) + 5\n",
    "plt.plot(x,y)"
   ]
  },
  {
   "cell_type": "code",
   "execution_count": 115,
   "metadata": {
    "collapsed": false
   },
   "outputs": [
    {
     "name": "stdout",
     "output_type": "stream",
     "text": [
      "[ 55.8974359   63.07692308  77.94871795]\n"
     ]
    }
   ],
   "source": [
    "data_peaks = np.array([54.5, 61.5, 76.])\n",
    "deltav = 0.025\n",
    "slow_peaks = data_peaks*(1./(1-deltav))\n",
    "print old_peaks"
   ]
  },
  {
   "cell_type": "code",
   "execution_count": 253,
   "metadata": {
    "collapsed": false
   },
   "outputs": [
    {
     "data": {
      "text/plain": [
       "array([-2. , -2.5, -1.5])"
      ]
     },
     "execution_count": 253,
     "metadata": {},
     "output_type": "execute_result"
    }
   ],
   "source": [
    "data_peaks - mc_peaks"
   ]
  },
  {
   "cell_type": "code",
   "execution_count": 140,
   "metadata": {
    "collapsed": false
   },
   "outputs": [
    {
     "name": "stdout",
     "output_type": "stream",
     "text": [
      "[ 55.8974359   63.07692308  77.94871795]\n"
     ]
    }
   ],
   "source": [
    "mc_peaks = np.array([56.5, 64., 77.5])\n",
    "deltav = 0.025\n",
    "mc_fast = mc_peaks*(1./(1+deltav))\n",
    "print old_peaks"
   ]
  },
  {
   "cell_type": "code",
   "execution_count": 91,
   "metadata": {
    "collapsed": false
   },
   "outputs": [
    {
     "data": {
      "text/plain": [
       "1.5487804878048723"
      ]
     },
     "execution_count": 91,
     "metadata": {},
     "output_type": "execute_result"
    }
   ],
   "source": [
    "63.5*(1-1/1.025)"
   ]
  },
  {
   "cell_type": "raw",
   "metadata": {},
   "source": [
    "v1 = d/t1\n",
    "v2 = d/t2\n",
    "v2 = v1*1.025\n",
    "v1*1.025 = d/t2\n",
    "\n",
    "t2 - t1 = d/v1 - d/v2\n",
    "t2-t1 = d/v1 - d/(v1*1.025)\n",
    "t2-t1 = d/v1 - (d/1.025)/v1\n",
    "t2-t1 = d/v1 ( 1-1/1.025)\n",
    "delta_t = t1 ( 1- 1/1.025)"
   ]
  },
  {
   "cell_type": "code",
   "execution_count": null,
   "metadata": {
    "collapsed": true
   },
   "outputs": [],
   "source": [
    "v = d/t"
   ]
  }
 ],
 "metadata": {
  "kernelspec": {
   "display_name": "Python 2",
   "language": "python",
   "name": "python2"
  },
  "language_info": {
   "codemirror_mode": {
    "name": "ipython",
    "version": 2
   },
   "file_extension": ".py",
   "mimetype": "text/x-python",
   "name": "python",
   "nbconvert_exporter": "python",
   "pygments_lexer": "ipython2",
   "version": "2.7.10"
  }
 },
 "nbformat": 4,
 "nbformat_minor": 2
}
