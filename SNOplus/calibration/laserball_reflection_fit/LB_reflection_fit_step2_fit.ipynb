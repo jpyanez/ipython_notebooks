{
 "cells": [
  {
   "cell_type": "code",
   "execution_count": 47,
   "metadata": {
    "collapsed": false
   },
   "outputs": [],
   "source": [
    "import os, sys, pickle\n",
    "\n",
    "import matplotlib.pyplot as plt\n",
    "import numpy as np\n",
    "import collections\n",
    "%matplotlib inline \n",
    "import os\n",
    "\n",
    "import jp_mpl as jplot\n",
    "\n",
    "from scipy import optimize\n",
    "from matplotlib.colors import LogNorm\n",
    "import pickle\n",
    "\n",
    "# My tools\n",
    "import jp_analysis as analysis\n",
    "import reflection_fit_v2 as reflection_fit\n",
    "reload(reflection_fit)\n",
    "\n",
    "from copy import deepcopy"
   ]
  },
  {
   "cell_type": "markdown",
   "metadata": {},
   "source": [
    "## This step uses the histograms and calculates the peak positions of the first peak when the fit is initialized. The second peak is calculated as part of the minimization."
   ]
  },
  {
   "cell_type": "code",
   "execution_count": 48,
   "metadata": {
    "collapsed": true
   },
   "outputs": [],
   "source": [
    "# Load PMT positions\n",
    "pmt_info = pickle.load(open('/home/jpyanez/snoplus/snoplus_python/pmt_positions.pckl'))\n"
   ]
  },
  {
   "cell_type": "code",
   "execution_count": 49,
   "metadata": {
    "collapsed": true
   },
   "outputs": [],
   "source": [
    "# Settings\n",
    "#myinput = '/home/jpyanez/scratch/laserball/337/p300_n300_0'\n",
    "histdir = '/sb/project/qbs-015-ac/jpyanez/data/SOC_histograms_python'\n",
    "fitdir  = '/sb/project/qbs-015-ac/jpyanez/data/SOC_reflection_fits'\n"
   ]
  },
  {
   "cell_type": "code",
   "execution_count": 50,
   "metadata": {
    "collapsed": true
   },
   "outputs": [],
   "source": [
    "usable_run_list =  [17375,\n",
    "100556,\n",
    "100558,\n",
    "101427,\n",
    "101428,\n",
    "101432,\n",
    "101433,\n",
    "102518,\n",
    "102529,\n",
    "102552,\n",
    "102554,\n",
    "102570,\n",
    "102572,\n",
    "102574]"
   ]
  },
  {
   "cell_type": "code",
   "execution_count": 51,
   "metadata": {
    "collapsed": false
   },
   "outputs": [
    {
     "name": "stdout",
     "output_type": "stream",
     "text": [
      "List of good run files\n"
     ]
    },
    {
     "data": {
      "text/plain": [
       "['SOC_0000101432.pckl',\n",
       " 'SOC_0000101428.pckl',\n",
       " 'SOC_0000101427.pckl',\n",
       " 'SOC_0000100558.pckl',\n",
       " 'SOC_0000017375.pckl',\n",
       " 'SOC_0000100556.pckl',\n",
       " 'SOC_0000101433.pckl',\n",
       " 'SOC_0000102518.pckl',\n",
       " 'SOC_0000102529.pckl',\n",
       " 'SOC_0000102552.pckl',\n",
       " 'SOC_0000102554.pckl',\n",
       " 'SOC_0000102570.pckl',\n",
       " 'SOC_0000102572.pckl',\n",
       " 'SOC_0000102574.pckl']"
      ]
     },
     "execution_count": 51,
     "metadata": {},
     "output_type": "execute_result"
    }
   ],
   "source": [
    "original_infile_list = os.listdir(histdir)\n",
    "socfiles = []\n",
    "for one_file in original_infile_list:\n",
    "    for usable_run in usable_run_list:\n",
    "        if (\"%i\" % usable_run in one_file) and ('pckl' in one_file):\n",
    "            socfiles.append(one_file)\n",
    "            break\n",
    "            \n",
    "print 'List of good run files'\n",
    "socfiles"
   ]
  },
  {
   "cell_type": "code",
   "execution_count": 52,
   "metadata": {
    "collapsed": false
   },
   "outputs": [],
   "source": [
    "use_file = 4\n",
    "data = pickle.load(open(os.path.join(histdir, socfiles[use_file])))"
   ]
  },
  {
   "cell_type": "code",
   "execution_count": 53,
   "metadata": {
    "collapsed": false
   },
   "outputs": [],
   "source": [
    "non_bottom = (pmt_info['xyz'][:,2]>-6000)#*(pmt_info['xyz'][:,2]<6000)\n"
   ]
  },
  {
   "cell_type": "code",
   "execution_count": 54,
   "metadata": {
    "collapsed": false
   },
   "outputs": [
    {
     "name": "stdout",
     "output_type": "stream",
     "text": [
      "Calculating first peak position\n",
      "Difference wrt MANIP [ -7.62116241  12.91597766  -8.47322699]\n"
     ]
    }
   ],
   "source": [
    "peakfit = reflection_fit.FitLBpos( data = data,\n",
    "                                   pmt_xyz = pmt_info['xyz'],\n",
    "                                   fix_xy = True,\n",
    "                                   pmtbool = non_bottom,\n",
    "                                   print_call = True)\n",
    "my_x0 = np.concatenate((data['manip_pos']+np.random.normal(0., 20., size=3), [1.35]))\n",
    "print 'Difference wrt MANIP', data['manip_pos'] - my_x0[:3]"
   ]
  },
  {
   "cell_type": "code",
   "execution_count": 55,
   "metadata": {
    "collapsed": false
   },
   "outputs": [],
   "source": [
    "peakfit.x = data['manip_pos'][0]\n",
    "peakfit.y = data['manip_pos'][1]"
   ]
  },
  {
   "cell_type": "code",
   "execution_count": 57,
   "metadata": {
    "collapsed": true
   },
   "outputs": [],
   "source": [
    "wrapfcn = lambda p: peakfit(*p)"
   ]
  },
  {
   "cell_type": "code",
   "execution_count": 58,
   "metadata": {
    "collapsed": false
   },
   "outputs": [
    {
     "name": "stdout",
     "output_type": "stream",
     "text": [
      "0.0 -254.0\n",
      "Calculating the second peak position\n",
      "FCN \t\t u \t v \t w \t n \t nbool\n",
      "24300.4458467 \t0.0 \t-254.0 \t33.4732269874 \t1.35 \t7144\n",
      "24300.4458467 \t0.0 \t-254.0 \t33.4732269874 \t1.35 \t7144\n",
      "24300.445848 \t0.0 \t-254.0 \t33.4732270023 \t1.35 \t7144\n",
      "24300.4827793 \t0.0 \t-254.0 \t33.4732269874 \t1.3500000149 \t7144\n",
      "68041911.1841 \t0.0 \t-254.0 \t33.4610743454 \t0.499999999574 \t7144\n",
      "514871.177015 \t0.0 \t-254.0 \t33.4720117232 \t1.26499999996 \t7144\n",
      "8477.45800409 \t0.0 \t-254.0 \t33.4730444379 \t1.33723182335 \t7144\n",
      "8477.45800409 \t0.0 \t-254.0 \t33.4730444379 \t1.33723182335 \t7144\n",
      "8477.45800455 \t0.0 \t-254.0 \t33.4730444528 \t1.33723182335 \t7144\n",
      "8477.45800409 \t0.0 \t-254.0 \t33.4730444379 \t1.33723183825 \t7144\n",
      "8477.32476932 \t0.0 \t-254.0 \t33.4687252608 \t1.33723191896 \t7144\n",
      "8477.32476932 \t0.0 \t-254.0 \t33.4687252608 \t1.33723191896 \t7144\n",
      "8477.32476978 \t0.0 \t-254.0 \t33.4687252757 \t1.33723191896 \t7144\n",
      "8477.32476932 \t0.0 \t-254.0 \t33.4687252608 \t1.33723193386 \t7144\n",
      "8476.65903042 \t0.0 \t-254.0 \t33.4471331729 \t1.33723240197 \t7144\n",
      "8476.65903042 \t0.0 \t-254.0 \t33.4471331729 \t1.33723240197 \t7144\n",
      "8476.65903088 \t0.0 \t-254.0 \t33.4471331878 \t1.33723240197 \t7144\n",
      "8476.65903042 \t0.0 \t-254.0 \t33.4471331729 \t1.33723241687 \t7144\n",
      "8473.34085443 \t0.0 \t-254.0 \t33.3392565697 \t1.33723481504 \t7144\n",
      "8473.34085443 \t0.0 \t-254.0 \t33.3392565697 \t1.33723481504 \t7144\n",
      "8473.34085488 \t0.0 \t-254.0 \t33.3392565846 \t1.33723481504 \t7144\n",
      "8473.34085442 \t0.0 \t-254.0 \t33.3392565697 \t1.33723482994 \t7144\n",
      "8457.0129212 \t0.0 \t-254.0 \t32.8020216247 \t1.33724683216 \t7144\n",
      "8457.0129212 \t0.0 \t-254.0 \t32.8020216247 \t1.33724683216 \t7144\n",
      "8457.01292165 \t0.0 \t-254.0 \t32.8020216396 \t1.33724683216 \t7144\n",
      "8457.0129212 \t0.0 \t-254.0 \t32.8020216247 \t1.33724684706 \t7144\n",
      "8381.73754791 \t0.0 \t-254.0 \t30.1692417276 \t1.33730571641 \t7144\n",
      "8381.73754791 \t0.0 \t-254.0 \t30.1692417276 \t1.33730571641 \t7144\n",
      "8381.73754832 \t0.0 \t-254.0 \t30.1692417425 \t1.33730571641 \t7144\n",
      "8381.73754801 \t0.0 \t-254.0 \t30.1692417276 \t1.33730573131 \t7144\n",
      "8140.41269505 \t0.0 \t-254.0 \t18.3144133813 \t1.33757069186 \t7144\n",
      "8140.41269505 \t0.0 \t-254.0 \t18.3144133813 \t1.33757069186 \t7144\n",
      "8140.41269525 \t0.0 \t-254.0 \t18.3144133962 \t1.33757069186 \t7144\n",
      "8140.41269709 \t0.0 \t-254.0 \t18.3144133813 \t1.33757070676 \t7144\n",
      "8058.99060857 \t0.0 \t-254.0 \t6.34163406359 \t1.33783691864 \t7144\n",
      "8058.99060857 \t0.0 \t-254.0 \t6.34163406359 \t1.33783691864 \t7144\n",
      "8058.99060857 \t0.0 \t-254.0 \t6.3416340785 \t1.33783691864 \t7144\n",
      "8058.99061188 \t0.0 \t-254.0 \t6.34163406359 \t1.33783693354 \t7144\n"
     ]
    }
   ],
   "source": [
    "peakfit.x = data['manip_pos'][0]\n",
    "peakfit.y = data['manip_pos'][1]\n",
    "print peakfit.x, peakfit.y\n",
    "peakr = optimize.minimize(wrapfcn,\n",
    "                          x0 = my_x0[2:],\n",
    "                          method = 'SLSQP',\n",
    "                          bounds=((-6500,6500),\n",
    "                                  (0.5, 2.)),\n",
    "                          options={'ftol':1E-7, 'maxiter':1000})"
   ]
  },
  {
   "cell_type": "code",
   "execution_count": 10,
   "metadata": {
    "collapsed": false
   },
   "outputs": [
    {
     "name": "stdout",
     "output_type": "stream",
     "text": [
      "Calculating first peak position\n"
     ]
    },
    {
     "ename": "KeyboardInterrupt",
     "evalue": "",
     "output_type": "error",
     "traceback": [
      "\u001b[1;31m---------------------------------------------------------------------------\u001b[0m",
      "\u001b[1;31mKeyboardInterrupt\u001b[0m                         Traceback (most recent call last)",
      "\u001b[1;32m<ipython-input-10-0ace3d02fcec>\u001b[0m in \u001b[0;36m<module>\u001b[1;34m()\u001b[0m\n\u001b[0;32m      5\u001b[0m                                    \u001b[0mpmt_xyz\u001b[0m \u001b[1;33m=\u001b[0m \u001b[0mpmt_info\u001b[0m\u001b[1;33m[\u001b[0m\u001b[1;34m'xyz'\u001b[0m\u001b[1;33m]\u001b[0m\u001b[1;33m,\u001b[0m\u001b[1;33m\u001b[0m\u001b[0m\n\u001b[0;32m      6\u001b[0m                                    \u001b[0mpmtbool\u001b[0m \u001b[1;33m=\u001b[0m \u001b[0mnon_bottom\u001b[0m\u001b[1;33m,\u001b[0m\u001b[1;33m\u001b[0m\u001b[0m\n\u001b[1;32m----> 7\u001b[1;33m                                    print_call = True)\n\u001b[0m\u001b[0;32m      8\u001b[0m \u001b[0mmy_x0\u001b[0m \u001b[1;33m=\u001b[0m \u001b[0mnp\u001b[0m\u001b[1;33m.\u001b[0m\u001b[0mconcatenate\u001b[0m\u001b[1;33m(\u001b[0m\u001b[1;33m(\u001b[0m\u001b[0mdata\u001b[0m\u001b[1;33m[\u001b[0m\u001b[1;34m'manip_pos'\u001b[0m\u001b[1;33m]\u001b[0m\u001b[1;33m+\u001b[0m\u001b[0mnp\u001b[0m\u001b[1;33m.\u001b[0m\u001b[0mrandom\u001b[0m\u001b[1;33m.\u001b[0m\u001b[0mnormal\u001b[0m\u001b[1;33m(\u001b[0m\u001b[1;36m0.\u001b[0m\u001b[1;33m,\u001b[0m \u001b[1;36m20.\u001b[0m\u001b[1;33m,\u001b[0m \u001b[0msize\u001b[0m\u001b[1;33m=\u001b[0m\u001b[1;36m3\u001b[0m\u001b[1;33m)\u001b[0m\u001b[1;33m,\u001b[0m \u001b[1;33m[\u001b[0m\u001b[1;36m1.35\u001b[0m\u001b[1;33m]\u001b[0m\u001b[1;33m)\u001b[0m\u001b[1;33m)\u001b[0m\u001b[1;33m\u001b[0m\u001b[0m\n\u001b[0;32m      9\u001b[0m \u001b[1;32mprint\u001b[0m \u001b[1;34m'Difference wrt MANIP'\u001b[0m\u001b[1;33m,\u001b[0m \u001b[0mdata\u001b[0m\u001b[1;33m[\u001b[0m\u001b[1;34m'manip_pos'\u001b[0m\u001b[1;33m]\u001b[0m \u001b[1;33m-\u001b[0m \u001b[0mmy_x0\u001b[0m\u001b[1;33m[\u001b[0m\u001b[1;33m:\u001b[0m\u001b[1;36m3\u001b[0m\u001b[1;33m]\u001b[0m\u001b[1;33m\u001b[0m\u001b[0m\n",
      "\u001b[1;32m/home/jpyanez/snoplus/snoplus_python/reflection_fit_v2.pyc\u001b[0m in \u001b[0;36m__init__\u001b[1;34m(self, data, pmt_xyz, pmtbool, psup_radius, fit_mode, print_call)\u001b[0m\n\u001b[0;32m     98\u001b[0m                             \u001b[0mresidual_axis\u001b[0m \u001b[1;33m=\u001b[0m \u001b[0mself\u001b[0m\u001b[1;33m.\u001b[0m\u001b[0mdata\u001b[0m\u001b[1;33m[\u001b[0m\u001b[1;34m'residual_axis'\u001b[0m\u001b[1;33m]\u001b[0m\u001b[1;33m,\u001b[0m\u001b[1;33m\u001b[0m\u001b[0m\n\u001b[0;32m     99\u001b[0m                             \u001b[0mtime_guess\u001b[0m \u001b[1;33m=\u001b[0m \u001b[1;36m0.\u001b[0m\u001b[1;33m,\u001b[0m\u001b[1;33m\u001b[0m\u001b[0m\n\u001b[1;32m--> 100\u001b[1;33m                             sigma = 4.)\n\u001b[0m\u001b[0;32m    101\u001b[0m \u001b[1;33m\u001b[0m\u001b[0m\n\u001b[0;32m    102\u001b[0m         \u001b[1;31m# PMTs without an error aren't any good - discard them\u001b[0m\u001b[1;33m\u001b[0m\u001b[1;33m\u001b[0m\u001b[0m\n",
      "\u001b[1;32m/home/jpyanez/snoplus/snoplus_python/reflection_fit_v2.pyc\u001b[0m in \u001b[0;36mgetGausTime\u001b[1;34m(residual_histo, residual_axis, time_guess, sigma, min_hits)\u001b[0m\n\u001b[0;32m     29\u001b[0m         \u001b[1;32mreturn\u001b[0m \u001b[1;33m-\u001b[0m\u001b[1;36m1\u001b[0m\u001b[1;33m,\u001b[0m \u001b[1;33m-\u001b[0m\u001b[1;36m1\u001b[0m\u001b[1;33m\u001b[0m\u001b[0m\n\u001b[0;32m     30\u001b[0m \u001b[1;33m\u001b[0m\u001b[0m\n\u001b[1;32m---> 31\u001b[1;33m     \u001b[0mpopt\u001b[0m    \u001b[1;33m=\u001b[0m \u001b[1;33m[\u001b[0m\u001b[0mresidual_histo\u001b[0m\u001b[1;33m[\u001b[0m\u001b[0mbinbool\u001b[0m\u001b[1;33m]\u001b[0m\u001b[1;33m.\u001b[0m\u001b[0mmax\u001b[0m\u001b[1;33m(\u001b[0m\u001b[1;33m)\u001b[0m\u001b[1;33m,\u001b[0m \u001b[0mtime_guess\u001b[0m\u001b[1;33m,\u001b[0m \u001b[0msigma\u001b[0m\u001b[1;33m/\u001b[0m\u001b[1;36m2.\u001b[0m\u001b[1;33m]\u001b[0m\u001b[1;33m\u001b[0m\u001b[0m\n\u001b[0m\u001b[0;32m     32\u001b[0m \u001b[1;33m\u001b[0m\u001b[0m\n\u001b[0;32m     33\u001b[0m     \u001b[1;32mtry\u001b[0m\u001b[1;33m:\u001b[0m\u001b[1;33m\u001b[0m\u001b[0m\n",
      "\u001b[1;32m/software/CentOS-6/eb/software/Toolchain/iomkl/2015b/Python/2.7.10/lib/python2.7/site-packages/numpy/core/_methods.pyc\u001b[0m in \u001b[0;36m_amax\u001b[1;34m(a, axis, out, keepdims)\u001b[0m\n\u001b[0;32m     24\u001b[0m \u001b[1;31m# small reductions\u001b[0m\u001b[1;33m\u001b[0m\u001b[1;33m\u001b[0m\u001b[0m\n\u001b[0;32m     25\u001b[0m \u001b[1;32mdef\u001b[0m \u001b[0m_amax\u001b[0m\u001b[1;33m(\u001b[0m\u001b[0ma\u001b[0m\u001b[1;33m,\u001b[0m \u001b[0maxis\u001b[0m\u001b[1;33m=\u001b[0m\u001b[0mNone\u001b[0m\u001b[1;33m,\u001b[0m \u001b[0mout\u001b[0m\u001b[1;33m=\u001b[0m\u001b[0mNone\u001b[0m\u001b[1;33m,\u001b[0m \u001b[0mkeepdims\u001b[0m\u001b[1;33m=\u001b[0m\u001b[0mFalse\u001b[0m\u001b[1;33m)\u001b[0m\u001b[1;33m:\u001b[0m\u001b[1;33m\u001b[0m\u001b[0m\n\u001b[1;32m---> 26\u001b[1;33m     \u001b[1;32mreturn\u001b[0m \u001b[0mumr_maximum\u001b[0m\u001b[1;33m(\u001b[0m\u001b[0ma\u001b[0m\u001b[1;33m,\u001b[0m \u001b[0maxis\u001b[0m\u001b[1;33m,\u001b[0m \u001b[0mNone\u001b[0m\u001b[1;33m,\u001b[0m \u001b[0mout\u001b[0m\u001b[1;33m,\u001b[0m \u001b[0mkeepdims\u001b[0m\u001b[1;33m)\u001b[0m\u001b[1;33m\u001b[0m\u001b[0m\n\u001b[0m\u001b[0;32m     27\u001b[0m \u001b[1;33m\u001b[0m\u001b[0m\n\u001b[0;32m     28\u001b[0m \u001b[1;32mdef\u001b[0m \u001b[0m_amin\u001b[0m\u001b[1;33m(\u001b[0m\u001b[0ma\u001b[0m\u001b[1;33m,\u001b[0m \u001b[0maxis\u001b[0m\u001b[1;33m=\u001b[0m\u001b[0mNone\u001b[0m\u001b[1;33m,\u001b[0m \u001b[0mout\u001b[0m\u001b[1;33m=\u001b[0m\u001b[0mNone\u001b[0m\u001b[1;33m,\u001b[0m \u001b[0mkeepdims\u001b[0m\u001b[1;33m=\u001b[0m\u001b[0mFalse\u001b[0m\u001b[1;33m)\u001b[0m\u001b[1;33m:\u001b[0m\u001b[1;33m\u001b[0m\u001b[0m\n",
      "\u001b[1;31mKeyboardInterrupt\u001b[0m: "
     ]
    }
   ],
   "source": [
    "bestfit_value = 9E9\n",
    "results = errors = None\n",
    "all_results = {}\n",
    "peakfit.second_peak_error = []\n",
    "    \n",
    "print '\\n****************Iteration ', iFit, '********************'\n",
    "wrapfcn = lambda p: peakfit(*p)\n",
    "\n",
    "peakr = optimize.minimize(wrapfcn,\n",
    "                          x0 = my_x0,\n",
    "                          method = 'SLSQP',\n",
    "                          bounds=((-6500,6500),\n",
    "                            (-6500,6500),\n",
    "                            (-6500,6500),\n",
    "                            (0.5, 2.)),\n",
    "                    options={'ftol':1E-7, 'maxiter':1000})\n",
    "\n",
    "all_results[iFit] = {'fit':deepcopy(peakr),\n",
    "                     'npmts':np.sum(peakfit.thisbool)}\n"
   ]
  },
  {
   "cell_type": "code",
   "execution_count": null,
   "metadata": {
    "collapsed": true
   },
   "outputs": [],
   "source": []
  },
  {
   "cell_type": "code",
   "execution_count": null,
   "metadata": {
    "collapsed": true
   },
   "outputs": [],
   "source": []
  },
  {
   "cell_type": "code",
   "execution_count": null,
   "metadata": {
    "collapsed": true
   },
   "outputs": [],
   "source": []
  }
 ],
 "metadata": {
  "kernelspec": {
   "display_name": "Python 2",
   "language": "python",
   "name": "python2"
  },
  "language_info": {
   "codemirror_mode": {
    "name": "ipython",
    "version": 2
   },
   "file_extension": ".py",
   "mimetype": "text/x-python",
   "name": "python",
   "nbconvert_exporter": "python",
   "pygments_lexer": "ipython2",
   "version": "2.7.10"
  }
 },
 "nbformat": 4,
 "nbformat_minor": 1
}
