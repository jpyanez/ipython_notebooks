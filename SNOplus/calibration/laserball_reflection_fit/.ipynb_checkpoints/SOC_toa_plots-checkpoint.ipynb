{
 "cells": [
  {
   "cell_type": "code",
   "execution_count": 64,
   "metadata": {
    "collapsed": false
   },
   "outputs": [
    {
     "data": {
      "text/plain": [
       "<module 'ratdb_reader' from '/home/jpyanez/snoplus/snoplus_python/ratdb_reader.pyc'>"
      ]
     },
     "execution_count": 64,
     "metadata": {},
     "output_type": "execute_result"
    }
   ],
   "source": [
    "import ROOT, rat\n",
    "import os, sys, pickle\n",
    "\n",
    "import matplotlib.pyplot as plt\n",
    "import numpy as np\n",
    "import collections\n",
    "%matplotlib inline \n",
    "\n",
    "import jp_mpl as jplot\n",
    "\n",
    "from matplotlib.colors import LogNorm\n",
    "import pickle\n",
    "import ratdb_reader\n",
    "reload(ratdb_reader)"
   ]
  },
  {
   "cell_type": "code",
   "execution_count": 2,
   "metadata": {
    "collapsed": false
   },
   "outputs": [
    {
     "name": "stdout",
     "output_type": "stream",
     "text": [
      "This is AIRPLANE MODE - be careful!\n"
     ]
    },
    {
     "name": "stderr",
     "output_type": "stream",
     "text": [
      "TClass::TClass:0: RuntimeWarning: no dictionary for class RAT::DBTableKey is available\n"
     ]
    }
   ],
   "source": [
    "# Airplane mode\n",
    "db = rat.RAT.DB.Get()\n",
    "db.SetAirplaneModeStatus(True)\n",
    "db.SetDefaultPlaneLockStatus(False)\n",
    "print 'This is AIRPLANE MODE - be careful!'"
   ]
  },
  {
   "cell_type": "code",
   "execution_count": 65,
   "metadata": {
    "collapsed": false
   },
   "outputs": [
    {
     "name": "stdout",
     "output_type": "stream",
     "text": [
      "reader: Creating a dict in line 4\n",
      "reader: Closing a dict in line 17\n",
      "reader: Creating a dict in line 19\n",
      "reader: Closing a dict in line 34\n"
     ]
    }
   ],
   "source": [
    "infile_name = '/home/jpyanez/snoplus/software/rat/data/PMTTRANSIT.ratdb'\n",
    "dbdata = ratdb_reader.dbreader(infile_name)"
   ]
  },
  {
   "cell_type": "code",
   "execution_count": 3,
   "metadata": {
    "collapsed": true
   },
   "outputs": [],
   "source": [
    "socdir = '/sb/project/qbs-015-ac/jpyanez/data/SOC_files'"
   ]
  },
  {
   "cell_type": "code",
   "execution_count": 59,
   "metadata": {
    "collapsed": false
   },
   "outputs": [
    {
     "name": "stdout",
     "output_type": "stream",
     "text": [
      "['SOC_0000017375_reprocessed.root', 'SOC_0000017376_reprocessed.root', 'SOC_0000017377_reprocessed.root', 'SOC_0000017378_reprocessed.root', 'SOC_0000017384_reprocessed.root', 'SOC_0000017386_reprocessed.root', 'SOC_0000100554.root', 'SOC_0000100555.root', 'SOC_0000100556.root', 'SOC_0000100558.root', 'SOC_0000100559.root', 'SOC_0000100560.root', 'SOC_0000101152.root', 'SOC_0000101153.root', 'SOC_0000101154_000.root', 'SOC_0000101154_001.root', 'SOC_0000101154_002.root', 'SOC_0000101154_003.root', 'SOC_0000101154_004.root', 'SOC_0000101155.root', 'SOC_0000101158.root', 'SOC_0000101159.root', 'SOC_0000101160.root', 'SOC_0000101161.root', 'SOC_0000101427_reprocessed_newPCA.root', 'SOC_0000101428_reprocessed_newPCA.root', 'SOC_0000101432_reprocessed_newPCA.root', 'SOC_0000101433_reprocessed_newPCA.root', 'SOC_0000101437_reprocessed_newPCA.root', 'SOC_0000102518.root', 'SOC_0000102521.root', 'SOC_0000102523.root', 'SOC_0000102526.root', 'SOC_0000102529.root', 'SOC_0000102552.root', 'SOC_0000102554.root', 'SOC_0000102556.root', 'SOC_0000102558.root', 'SOC_0000102560.root', 'SOC_0000102562.root', 'SOC_0000102564.root', 'SOC_0000102566.root', 'SOC_0000102568.root', 'SOC_0000102570.root', 'SOC_0000102572.root', 'SOC_0000102574_000.root', 'SOC_0000102574_001.root', 'SOC_0000102574_002.root', 'SOC_0000102574_003.root', 'SOC_0000102576.root', 'SOC_0000102578.root', 'SOC_0000102580.root', 'SOC_0000102582.root', 'SOC_0000104182.root']\n"
     ]
    }
   ],
   "source": [
    "all_files = os.listdir(socdir)\n",
    "print all_files"
   ]
  },
  {
   "cell_type": "code",
   "execution_count": 86,
   "metadata": {
    "collapsed": false
   },
   "outputs": [],
   "source": [
    "def plotPMTtoa(time_array,\n",
    "               bin_width   = 0.5, # in ns\n",
    "               time_window = 400.,\n",
    "               start_time  = -100):\n",
    "\n",
    "    residual_axis = np.arange(start_time, time_window + start_time+ bin_width/2., bin_width)\n",
    "\n",
    "    counts, x = np.histogram(time_array, residual_axis)\n",
    "    \n",
    "    mytime  = np.linspace(-10, 80, 1001)\n",
    "    mylatep = lpfcn(mytime)\n",
    "    print mytime\n",
    "    \n",
    "    plt.figure(figsize=(10,6))\n",
    "    plt.plot(mytime+residual_axis[counts.argmax()]-mytime[mylatep.argmax()], \n",
    "             mylatep*counts.max()*1./mylatep.max(), '--k')\n",
    "\n",
    "    jplot.unfilledBar(residual_axis, counts)\n",
    "    plt.xlabel('Time of arrival (ns)', fontsize='x-large')\n",
    "    plt.ylabel('Counts')\n",
    "    plt.yscale('log')"
   ]
  },
  {
   "cell_type": "code",
   "execution_count": 60,
   "metadata": {
    "collapsed": false
   },
   "outputs": [
    {
     "name": "stdout",
     "output_type": "stream",
     "text": [
      "['SOC_0000104182.root']\n"
     ]
    }
   ],
   "source": [
    "run_of_interest = '104182'\n",
    "file_of_interest = [x for x in all_files if run_of_interest in x]\n",
    "print file_of_interest"
   ]
  },
  {
   "cell_type": "code",
   "execution_count": 61,
   "metadata": {
    "collapsed": false
   },
   "outputs": [
    {
     "name": "stdout",
     "output_type": "stream",
     "text": [
      "RUN info\n",
      "manip position [   0. -254.  108.]\n",
      "socfit position [  -2.76727128 -253.02403259  102.68698883]\n",
      "wavelength 419\n"
     ]
    }
   ],
   "source": [
    "# Get the soc object\n",
    "reader = rat.socreader(os.path.join(socdir, file_of_interest[0]))\n",
    "soc, run = reader.next()\n",
    "print 'RUN info'\n",
    "print 'manip position', np.array(soc.calib.GetPos())\n",
    "print 'socfit position', np.array(soc.GetFitResult(soc.GetFitNames()[0]).GetVertex(0).GetPosition())\n",
    "print 'wavelength', soc.calib.GetMode()"
   ]
  },
  {
   "cell_type": "code",
   "execution_count": 78,
   "metadata": {
    "collapsed": false
   },
   "outputs": [],
   "source": [
    "from scipy import interpolate\n",
    "lpfcn = interpolate.InterpolatedUnivariateSpline(dbdata['r1408']['x'][1:], \n",
    "                                                 dbdata['r1408']['y'][1:] - dbdata['r1408']['y'][:-1])\n",
    "#xaxis = np.linspace(550, 10000, 501)\n",
    "#plt.plot(xaxis, apfcn(xaxis))\n"
   ]
  },
  {
   "cell_type": "code",
   "execution_count": 90,
   "metadata": {
    "collapsed": false
   },
   "outputs": [
    {
     "name": "stdout",
     "output_type": "stream",
     "text": [
      "[-10.    -9.91  -9.82 ...,  79.82  79.91  80.  ]\n"
     ]
    },
    {
     "data": {
      "image/png": "[encoded data removed]",
      "text/plain": [
       "<matplotlib.figure.Figure at 0x2b43a2b529d0>"
      ]
     },
     "metadata": {},
     "output_type": "display_data"
    }
   ],
   "source": [
    "one_pmt = 5000\n",
    "time_array = soc.GetSOCPMT(one_pmt).GetTimes()\n",
    "plotPMTtoa(time_array,\n",
    "          start_time=300)\n",
    "\n",
    "\n",
    "\n",
    "str_name = 'RUN_' + run_of_interest + '_-_PMT_' +  \"%i\" % one_pmt\n",
    "plt.title(str_name)\n",
    "plt.xlim([340,400])\n",
    "plt.ylim([1, 10**4])\n",
    "plt.savefig('/home/jpyanez/snoplus/data/SOC_quick_checks/' + str_name + '.png')"
   ]
  },
  {
   "cell_type": "code",
   "execution_count": 227,
   "metadata": {
    "collapsed": false
   },
   "outputs": [],
   "source": [
    "sno_dir = '/home/jpyanez/snoplus/data/sno_laserball_data'\n",
    "all_files = os.listdir(sno_dir)"
   ]
  },
  {
   "cell_type": "code",
   "execution_count": 229,
   "metadata": {
    "collapsed": false,
    "scrolled": true
   },
   "outputs": [
    {
     "name": "stdout",
     "output_type": "stream",
     "text": [
      "sno_025012_p5.rch 337.0\n",
      "sno_022551_p2.rch 620.0\n",
      "sno_056128_p1.rch 421.0\n",
      "sno_035051_p2.rch 500.0\n",
      "sno_051231_p3.rch 386.0\n",
      "sno_035061_p2.rch 500.0\n",
      "sno_025143_p2.rch 365.0\n",
      "sno_059816_p2.rch 337.0\n",
      "sno_035102_p2.rch 365.0\n",
      "sno_059812_p2.rch 620.0\n",
      "sno_056812_p1.rch 386.0\n",
      "sno_035106_p2.rch 421.0\n",
      "sno_057162_p1.rch 620.0\n",
      "sno_035216_p2.rch 386.0\n",
      "sno_035193_p2.rch 500.0\n",
      "sno_035120_p2.rch 337.0\n",
      "sno_053371_p2.rch 500.0\n",
      "sno_035091_p2.rch 365.0\n",
      "sno_050812_p3.rch 500.0\n",
      "sno_023451_p2.rch 500.0\n",
      "sno_053401_p2.rch 500.0\n",
      "sno_051259_p3.rch 337.0\n",
      "sno_059841_p2.rch 421.0\n",
      "sno_035171_p2.rch 500.0\n",
      "sno_025212_p5.rch 620.0\n",
      "sno_035197_p2.rch 620.0\n",
      "sno_025601_p2.rch 500.0\n",
      "sno_051209_p3.rch 365.0\n",
      "sno_059718_p2.rch 386.0\n",
      "sno_059910_p2.rch 365.0\n",
      "sno_053142_p2.rch 337.0\n",
      "sno_059561_p2.rch 337.0\n",
      "sno_059613_p2.rch 500.0\n",
      "sno_056142_p1.rch 500.0\n",
      "sno_064512_p2.rch 337.0\n",
      "sno_051298_p3.rch 500.0\n",
      "sno_035210_p2.rch 620.0\n",
      "sno_059541_p2.rch 337.0\n",
      "sno_056124_p1.rch 365.0\n",
      "sno_035177_p2.rch 386.0\n",
      "sno_023514_p2.rch 500.0\n",
      "sno_051277_p3.rch 421.0\n",
      "sno_053381_p2.rch 500.0\n",
      "sno_059601_p2.rch 620.0\n",
      "sno_064510_p2.rch 365.0\n",
      "sno_062651_p2.rch 337.0\n",
      "sno_051326_p3.rch 500.0\n",
      "sno_021512_p4.rch 0.0\n",
      "sno_051129_p3.rch 421.0\n",
      "sno_035185_p2.rch 500.0\n",
      "sno_051022_p3.rch 421.0\n",
      "sno_051892_p1.rch 500.0\n",
      "sno_051223_p3.rch 421.0\n",
      "sno_035010_p2.rch 500.0\n",
      "sno_057125_p1.rch 500.0\n",
      "sno_062951_p2.rch 386.0\n",
      "sno_051271_p3.rch 421.0\n",
      "sno_035152_p2.rch 500.0\n",
      "sno_035071_p2.rch 620.0\n",
      "sno_056102_p1.rch 337.0\n",
      "sno_035187_p2.rch 620.0\n",
      "sno_046511_p2.rch 386.0\n",
      "sno_059716_p2.rch 421.0\n",
      "sno_051225_p3.rch 500.0\n",
      "sno_043551_p2.rch 421.0\n",
      "sno_035165_p2.rch 365.0\n",
      "sno_051273_p3.rch 500.0\n",
      "sno_025192_p5.rch 365.0\n",
      "sno_059951_p2.rch 337.0\n",
      "sno_059551_p2.rch 500.0\n",
      "sno_021451_p2.rch 421.0\n",
      "sno_035013_p2.rch 421.0\n",
      "sno_051203_p3.rch 500.0\n",
      "sno_035153_p2.rch 500.0\n",
      "sno_051233_p3.rch 365.0\n",
      "sno_035251_p2.rch 337.0\n",
      "sno_024501_p2.rch 421.0\n",
      "sno_053127_p3.rch 500.0\n",
      "sno_059914_p2.rch 421.0\n",
      "sno_051296_p3.rch 421.0\n",
      "sno_051029_p3.rch 421.0\n",
      "sno_035136_p2.rch 386.0\n",
      "sno_059831_p2.rch 500.0\n",
      "sno_025102_p5.rch 500.0\n",
      "sno_051092_p3.rch 365.0\n",
      "sno_025127_p5.rch 337.0\n",
      "sno_035175_p2.rch 421.0\n",
      "sno_035183_p2.rch 500.0\n",
      "sno_035104_p2.rch 386.0\n",
      "sno_051012_p3.rch 620.0\n",
      "sno_051123_p3.rch 421.0\n",
      "sno_053312_p2.rch 421.0\n",
      "sno_031512_p5.rch 337.0\n",
      "sno_035112_p2.rch 421.0\n",
      "sno_059615_p2.rch 500.0\n",
      "sno_035021_p2.rch 620.0\n",
      "sno_051102_p3.rch 421.0\n",
      "sno_059714_p2.rch 500.0\n",
      "sno_035167_p2.rch 386.0\n",
      "sno_035015_p2.rch 386.0\n",
      "sno_051267_p3.rch 365.0\n",
      "sno_051253_p3.rch 421.0\n",
      "sno_051281_p3.rch 365.0\n",
      "sno_045315_p2.rch 500.0\n",
      "sno_051251_p3.rch 500.0\n",
      "sno_035081_p2.rch 421.0\n",
      "sno_035017_p2.rch 365.0\n",
      "sno_035191_p2.rch 500.0\n",
      "sno_051263_p3.rch 620.0\n",
      "sno_051249_p3.rch 500.0\n",
      "sno_035159_p2.rch 365.0\n",
      "sno_053130_p2.rch 500.0\n",
      "sno_057182_p1.rch 620.0\n",
      "sno_051237_p3.rch 620.0\n",
      "sno_035128_p2.rch 421.0\n",
      "sno_035130_p2.rch 500.0\n",
      "sno_051205_p3.rch 421.0\n",
      "sno_051201_p3.rch 500.0\n",
      "sno_035161_p2.rch 337.0\n",
      "sno_052912_p4.rch 365.0\n",
      "sno_035124_p2.rch 386.0\n",
      "sno_035140_p2.rch 337.0\n",
      "sno_025412_p5.rch 620.0\n",
      "sno_064351_p2.rch 620.0\n",
      "sno_051121_p3.rch 386.0\n",
      "sno_056126_p1.rch 386.0\n",
      "sno_051125_p3.rch 500.0\n",
      "sno_051247_p3.rch 421.0\n",
      "sno_035138_p2.rch 365.0\n",
      "sno_051324_p3.rch 421.0\n",
      "sno_035291_p2.rch 500.0\n",
      "sno_057172_p1.rch 421.0\n",
      "sno_023512_p2.rch 500.0\n",
      "sno_051312_p3.rch 337.0\n",
      "sno_064591_p2.rch 620.0\n",
      "sno_035144_p2.rch 365.0\n",
      "sno_025010_p2.rch 365.0\n",
      "sno_051261_p3.rch 620.0\n",
      "sno_051290_p3.rch 337.0\n",
      "sno_051213_p3.rch 620.0\n",
      "sno_059916_p2.rch 500.0\n",
      "sno_059912_p2.rch 386.0\n",
      "sno_059617_p2.rch 500.0\n",
      "sno_059811_p2.rch 620.0\n",
      "sno_051020_p3.rch 386.0\n",
      "sno_056412_p1.rch 500.0\n",
      "sno_043851_p2.rch 500.0\n",
      "sno_053412_p3.rch 386.0\n",
      "sno_053012_p3.rch 337.0\n",
      "sno_057121_p1.rch 500.0\n",
      "sno_057123_p1.rch 500.0\n",
      "sno_051328_p3.rch 500.0\n",
      "sno_059611_p2.rch 500.0\n",
      "sno_021516_p2.rch 421.0\n",
      "sno_051302_p3.rch 500.0\n",
      "sno_023531_p2.rch 337.0\n",
      "sno_025121_p5.rch 421.0\n",
      "sno_046512_p4.rch 386.0\n",
      "sno_043561_p2.rch 500.0\n",
      "sno_051235_p3.rch 337.0\n",
      "sno_064516_p2.rch 620.0\n",
      "sno_045316_p2.rch 500.0\n",
      "sno_051221_p3.rch 386.0\n",
      "sno_057152_p1.rch 386.0\n",
      "sno_035199_p2.rch 500.0\n",
      "sno_056182_p1.rch 386.0\n",
      "sno_051219_p3.rch 365.0\n",
      "sno_035126_p2.rch 386.0\n",
      "sno_035179_p2.rch 620.0\n",
      "sno_059814_p2.rch 620.0\n",
      "sno_051211_p3.rch 337.0\n",
      "sno_045941_p2.rch 500.0\n",
      "sno_035189_p2.rch 620.0\n",
      "sno_035142_p2.rch 337.0\n",
      "sno_051287_p3.rch 620.0\n",
      "sno_035241_p2.rch 500.0\n",
      "sno_035163_p2.rch 337.0\n",
      "sno_059918_p2.rch 500.0\n",
      "sno_035218_p2.rch 421.0\n",
      "sno_051292_p3.rch 365.0\n",
      "sno_056120_p1.rch 365.0\n",
      "sno_035181_p2.rch 620.0\n",
      "sno_051217_p3.rch 337.0\n",
      "sno_053125_p3.rch 500.0\n",
      "sno_035134_p2.rch 421.0\n",
      "sno_035195_p2.rch 620.0\n",
      "sno_056132_p1.rch 620.0\n",
      "sno_053121_p3.rch 421.0\n",
      "sno_025123_p5.rch 386.0\n",
      "sno_035212_p2.rch 337.0\n",
      "sno_051241_p3.rch 337.0\n",
      "sno_051227_p3.rch 500.0\n",
      "sno_035150_p2.rch 500.0\n",
      "sno_035118_p2.rch 337.0\n",
      "sno_051275_p3.rch 500.0\n",
      "sno_059731_p2.rch 365.0\n",
      "sno_035122_p2.rch 365.0\n",
      "sno_051283_p3.rch 337.0\n",
      "sno_056172_p1.rch 500.0\n",
      "sno_035146_p2.rch 386.0\n",
      "sno_051322_p3.rch 386.0\n",
      "sno_035019_p2.rch 337.0\n",
      "sno_051255_p3.rch 386.0\n",
      "sno_051279_p3.rch 386.0\n",
      "sno_025125_p5.rch 365.0\n",
      "sno_025129_p5.rch 337.0\n",
      "sno_059712_p2.rch 500.0\n",
      "sno_035155_p2.rch 421.0\n",
      "sno_051215_p3.rch 620.0\n",
      "sno_051229_p3.rch 421.0\n",
      "sno_051285_p3.rch 620.0\n",
      "sno_057192_p1.rch 386.0\n",
      "sno_051127_p3.rch 500.0\n",
      "sno_035214_p2.rch 365.0\n",
      "sno_051257_p3.rch 365.0\n",
      "sno_060051_p2.rch 500.0\n",
      "sno_059618_p2.rch 500.0\n",
      "sno_064651_p2.rch 365.0\n",
      "sno_064518_p2.rch 337.0\n",
      "sno_035114_p2.rch 386.0\n",
      "sno_035110_p2.rch 500.0\n",
      "sno_051024_p3.rch 500.0\n",
      "sno_051320_p3.rch 365.0\n",
      "sno_035148_p2.rch 421.0\n",
      "sno_025931_p2.rch 500.0\n",
      "sno_035201_p2.rch 500.0\n",
      "sno_051239_p3.rch 620.0\n",
      "sno_035132_p2.rch 500.0\n",
      "sno_022591_p2.rch 0.0\n",
      "sno_045912_p1.rch 500.0\n",
      "sno_035157_p2.rch 386.0\n",
      "sno_053132_p3.rch 500.0\n",
      "sno_035116_p2.rch 365.0\n",
      "sno_023510_p2.rch 500.0\n",
      "sno_056012_p1.rch 386.0\n",
      "sno_021518_p2.rch 421.0\n",
      "sno_051265_p3.rch 337.0\n",
      "sno_059818_p2.rch 365.0\n",
      "sno_021351_p2.rch 365.0\n",
      "sno_035108_p2.rch 500.0\n",
      "sno_064581_p2.rch 500.0\n",
      "sno_059710_p2.rch 421.0\n",
      "sno_051207_p3.rch 386.0\n",
      "sno_035169_p2.rch 421.0\n",
      "sno_046851_p2.rch 421.0\n",
      "sno_053123_p3.rch 500.0\n",
      "sno_035100_p2.rch 337.0\n",
      "sno_051269_p3.rch 386.0\n",
      "sno_051026_p3.rch 500.0\n",
      "sno_056122_p1.rch 337.0\n",
      "sno_064514_p2.rch 620.0\n",
      "sno_051243_p3.rch 365.0\n",
      "sno_059961_p2.rch 386.0\n",
      "sno_051245_p3.rch 386.0\n",
      "sno_035173_p2.rch 500.0\n",
      "sno_053391_p2.rch 500.0\n",
      "sno_060151_p2.rch 500.0\n",
      "sno_051294_p3.rch 386.0\n"
     ]
    }
   ],
   "source": [
    "for one_file in all_files:\n",
    "    tfile = ROOT.TFile(os.path.join(sno_dir, one_file))\n",
    "    print one_file, np.array(tfile.Get('lambda'))[1]\n",
    "    tfile.Close()"
   ]
  },
  {
   "cell_type": "code",
   "execution_count": 230,
   "metadata": {
    "collapsed": false
   },
   "outputs": [
    {
     "name": "stdout",
     "output_type": "stream",
     "text": [
      "File information\n",
      "Position:  [  -1.54999995 -290.16000366 -298.85998535  102.11128998]\n",
      "Lambda  [   3.  421.]\n",
      "Cast  [   4.            4.           -1.54999995 -290.1499939  -234.47000122\n",
      "    0.            0.            0.            0.            0.            0.\n",
      "    2.            0.            0.            0.        ]\n",
      "Version  [ 1.]\n"
     ]
    }
   ],
   "source": [
    "one_file = 'sno_035106_p2.rch'\n",
    "tfile = ROOT.TFile(os.path.join(sno_dir, one_file))\n",
    "print 'File information'\n",
    "spos = np.array(tfile.Get('source_pos'))\n",
    "print 'Position: ', spos\n",
    "lamb = np.array(tfile.Get('lambda'))\n",
    "print 'Lambda ', lamb\n",
    "cast = np.array(tfile.Get('cast'))\n",
    "print 'Cast ', cast\n",
    "version = np.array(tfile.Get('version'))\n",
    "print 'Version ', version"
   ]
  },
  {
   "cell_type": "code",
   "execution_count": 231,
   "metadata": {
    "collapsed": true
   },
   "outputs": [],
   "source": [
    "caltime = tfile.Get('fRchTime')"
   ]
  },
  {
   "cell_type": "code",
   "execution_count": 232,
   "metadata": {
    "collapsed": true
   },
   "outputs": [],
   "source": [
    "caltime_x = caltime.ProjectionX()\n",
    "rootaxis = caltime_x.GetXaxis()"
   ]
  },
  {
   "cell_type": "code",
   "execution_count": 233,
   "metadata": {
    "collapsed": false
   },
   "outputs": [],
   "source": [
    "nbins = caltime_x.GetNbinsX()\n",
    "binc = np.zeros(nbins)\n",
    "xaxis = np.zeros(nbins+1)"
   ]
  },
  {
   "cell_type": "code",
   "execution_count": 234,
   "metadata": {
    "collapsed": false
   },
   "outputs": [],
   "source": [
    "for ibin in range(nbins):\n",
    "    binc[ibin]  = caltime_x.GetBinContent(ibin)\n",
    "    xaxis[ibin] = rootaxis.GetBinLowEdge(ibin)\n",
    "xaxis[nbins] = rootaxis.GetBinLowEdge(nbins)"
   ]
  },
  {
   "cell_type": "code",
   "execution_count": 235,
   "metadata": {
    "collapsed": false
   },
   "outputs": [],
   "source": [
    "xaxis=xaxis[1:]\n",
    "binc = binc[1:]"
   ]
  },
  {
   "cell_type": "code",
   "execution_count": 236,
   "metadata": {
    "collapsed": false
   },
   "outputs": [
    {
     "name": "stdout",
     "output_type": "stream",
     "text": [
      "[-10.    -9.91  -9.82 ...,  79.82  79.91  80.  ]\n"
     ]
    },
    {
     "data": {
      "text/plain": [
       "(1000, 2000000)"
      ]
     },
     "execution_count": 236,
     "metadata": {},
     "output_type": "execute_result"
    },
    {
     "data": {
      "image/png": "[encoded data removed]",
      "text/plain": [
       "<matplotlib.figure.Figure at 0x2b43a21c91d0>"
      ]
     },
     "metadata": {},
     "output_type": "display_data"
    }
   ],
   "source": [
    "mytime  = np.linspace(-10, 80, 1001)\n",
    "mylatep = lpfcn(mytime)\n",
    "print mytime\n",
    "\n",
    "plt.figure(figsize=(10,6))\n",
    "jplot.unfilledBar(xaxis, binc)\n",
    "plt.plot(mytime+xaxis[binc.argmax()]-mytime[mylatep.argmax()], \n",
    "         mylatep*binc.max()*1./mylatep.max(), '--k')\n",
    "plt.yscale('log')\n",
    "plt.xlim(-10, 50)\n",
    "plt.ylim(10**3, 2*10**6)"
   ]
  },
  {
   "cell_type": "code",
   "execution_count": 265,
   "metadata": {
    "collapsed": false
   },
   "outputs": [],
   "source": [
    "thispmt = 2000\n",
    "bincone = np.zeros(nbins)\n",
    "for ibin in range(nbins):\n",
    "    bincone[ibin] = caltime.GetBinContent(ibin, thispmt)\n",
    "bincone = bincone[1:]"
   ]
  },
  {
   "cell_type": "code",
   "execution_count": 266,
   "metadata": {
    "collapsed": false
   },
   "outputs": [
    {
     "data": {
      "image/png": "[encoded data removed]",
      "text/plain": [
       "<matplotlib.figure.Figure at 0x2b43a26c8810>"
      ]
     },
     "metadata": {},
     "output_type": "display_data"
    }
   ],
   "source": [
    "fig = plt.figure(figsize=(10,6))\n",
    "jplot.unfilledBar(xaxis, bincone)\n",
    "plt.plot(mytime+xaxis[bincone.argmax()]-mytime[mylatep.argmax()], \n",
    "         mylatep*bincone.max()*1./mylatep.max(), '--k')\n",
    "plt.yscale('log')\n",
    "plt.xlim(-10, 50)\n",
    "plt.ylim(10**-1,100 *10**2)\n",
    "plotname = \"SNO_\"+one_file+\"_-_PMT_\" + \"%i\" % thispmt \n",
    "plt.xlabel('Time of arrival (ns)', fontsize='x-large')\n",
    "plt.ylabel('Counts')\n",
    "fig.savefig('/home/jpyanez/snoplus/data/SOC_quick_checks/' + plotname + '.png')"
   ]
  },
  {
   "cell_type": "code",
   "execution_count": null,
   "metadata": {
    "collapsed": true
   },
   "outputs": [],
   "source": []
  }
 ],
 "metadata": {
  "kernelspec": {
   "display_name": "Python 2",
   "language": "python",
   "name": "python2"
  },
  "language_info": {
   "codemirror_mode": {
    "name": "ipython",
    "version": 2
   },
   "file_extension": ".py",
   "mimetype": "text/x-python",
   "name": "python",
   "nbconvert_exporter": "python",
   "pygments_lexer": "ipython2",
   "version": "2.7.10"
  }
 },
 "nbformat": 4,
 "nbformat_minor": 2
}
