{
 "cells": [
  {
   "cell_type": "code",
   "execution_count": 1,
   "metadata": {
    "collapsed": false
   },
   "outputs": [
    {
     "name": "stderr",
     "output_type": "stream",
     "text": [
      "TClass::TClass:0: RuntimeWarning: no dictionary for class omtext is available\n"
     ]
    }
   ],
   "source": [
    "import rat, ROOT\n",
    "import numpy as np\n",
    "%matplotlib inline\n",
    "import matplotlib.pyplot as plt\n",
    "import jp_mpl as jplot"
   ]
  },
  {
   "cell_type": "code",
   "execution_count": 2,
   "metadata": {
    "collapsed": true
   },
   "outputs": [],
   "source": [
    "import os, sys"
   ]
  },
  {
   "cell_type": "code",
   "execution_count": 32,
   "metadata": {
    "collapsed": true
   },
   "outputs": [],
   "source": [
    "basedir = '/home/jpyanez/snoplus/data/laserball_soc'\n",
    "#fname_original = os.path.join(basedir, 'SNOP_0000100556_noq.root')\n",
    "#fname_pmtcuts  = os.path.join(basedir, 'SNOP_0000100556_pmtq.root')\n",
    "fname_original = os.path.join(basedir, 'SNOP_0000101432_noq.root')\n",
    "fname_pmtcuts  = os.path.join(basedir, 'SNOP_0000101432_pmtq.root')"
   ]
  },
  {
   "cell_type": "code",
   "execution_count": 33,
   "metadata": {
    "collapsed": true
   },
   "outputs": [],
   "source": [
    "oreader = rat.socreader(fname_original)\n",
    "nreader = rat.socreader(fname_pmtcuts)"
   ]
  },
  {
   "cell_type": "code",
   "execution_count": 34,
   "metadata": {
    "collapsed": true
   },
   "outputs": [],
   "source": [
    "osoc, orun = oreader.next()"
   ]
  },
  {
   "cell_type": "code",
   "execution_count": 35,
   "metadata": {
    "collapsed": true
   },
   "outputs": [],
   "source": [
    "nsoc, nrun = nreader.next()"
   ]
  },
  {
   "cell_type": "code",
   "execution_count": 36,
   "metadata": {
    "collapsed": true
   },
   "outputs": [],
   "source": [
    "opmts = np.array(osoc.GetSOCPMTIDs())\n",
    "npmts = np.array(nsoc.GetSOCPMTIDs())"
   ]
  },
  {
   "cell_type": "code",
   "execution_count": 37,
   "metadata": {
    "collapsed": true
   },
   "outputs": [],
   "source": [
    "o_occ = np.zeros(len(opmts))\n",
    "n_occ = np.zeros(len(npmts))\n",
    "on_occ = np.zeros(len(npmts))"
   ]
  },
  {
   "cell_type": "code",
   "execution_count": 38,
   "metadata": {
    "collapsed": false
   },
   "outputs": [],
   "source": [
    "iNew = 0\n",
    "for iOld, one_pmt in enumerate(opmts):\n",
    "    o_occ[iOld] = osoc.GetSOCPMT(one_pmt).GetPromptOccupancy()\n",
    "    if one_pmt in npmts:\n",
    "        n_occ[iNew] = nsoc.GetSOCPMT(one_pmt).GetPromptOccupancy()\n",
    "        on_occ[iNew] = o_occ[iOld]\n",
    "        iNew += 1"
   ]
  },
  {
   "cell_type": "code",
   "execution_count": 39,
   "metadata": {
    "collapsed": false
   },
   "outputs": [
    {
     "name": "stdout",
     "output_type": "stream",
     "text": [
      "Total number of pmts: No cuts, with cuts\n"
     ]
    },
    {
     "data": {
      "text/plain": [
       "(9283, 8247, 0.8883981471507056)"
      ]
     },
     "execution_count": 39,
     "metadata": {},
     "output_type": "execute_result"
    }
   ],
   "source": [
    "print 'Total number of pmts: No cuts, with cuts'\n",
    "len(opmts), len(npmts), len(npmts)*1./len(opmts)"
   ]
  },
  {
   "cell_type": "code",
   "execution_count": 40,
   "metadata": {
    "collapsed": false
   },
   "outputs": [
    {
     "data": {
      "text/plain": [
       "6831.9280028096464"
      ]
     },
     "execution_count": 40,
     "metadata": {},
     "output_type": "execute_result"
    }
   ],
   "source": [
    "o_occ[o_occ>0].mean()"
   ]
  },
  {
   "cell_type": "code",
   "execution_count": 44,
   "metadata": {
    "collapsed": false
   },
   "outputs": [
    {
     "data": {
      "text/plain": [
       "<matplotlib.text.Text at 0x2af13b6dd150>"
      ]
     },
     "execution_count": 44,
     "metadata": {},
     "output_type": "execute_result"
    },
    {
     "data": {
      "image/png": "[encoded data removed]",
      "text/plain": [
       "<matplotlib.figure.Figure at 0x2af13b685750>"
      ]
     },
     "metadata": {},
     "output_type": "display_data"
    }
   ],
   "source": [
    "# Occupancy before, after cuts\n",
    "plt.figure(figsize=(7,4))\n",
    "xedges = np.linspace(0, 12500, 51)\n",
    "nold, x = np.histogram(o_occ, xedges)\n",
    "nnew, x = np.histogram(n_occ, xedges)\n",
    "jplot.unfilledBar(xedges, nold, color = 'red', label = 'No cuts')\n",
    "jplot.unfilledBar(xedges, nnew, color = 'blue', label = 'PMT Q-cuts')\n",
    "plt.xlabel('Prompt occupancy', fontsize=16)\n",
    "plt.ylabel('Event PMTs', fontsize=16)\n",
    "plt.legend(loc=0, fontsize=16)\n",
    "plt.title('Run 100556', fontsize='x-large')"
   ]
  },
  {
   "cell_type": "code",
   "execution_count": 42,
   "metadata": {
    "collapsed": false
   },
   "outputs": [
    {
     "name": "stdout",
     "output_type": "stream",
     "text": [
      "No difference 1616  - Different 6538\n"
     ]
    },
    {
     "data": {
      "image/png": "[encoded data removed]",
      "text/plain": [
       "<matplotlib.figure.Figure at 0x2af13b4dc810>"
      ]
     },
     "metadata": {},
     "output_type": "display_data"
    }
   ],
   "source": [
    "# Difference in occupancy\n",
    "plt.figure(figsize=(7,4))\n",
    "occdiff = (on_occ - n_occ)*1./on_occ\n",
    "print 'No difference', np.sum(occdiff==0), ' - Different', len(occdiff[occdiff>0])\n",
    "xedges = np.linspace(0, 0.16, 41)\n",
    "n, x = np.histogram(occdiff[occdiff>0], xedges)\n",
    "jplot.unfilledBar(xedges, n)\n",
    "plt.xlabel('Occupancy relative difference', fontsize=16)\n",
    "plt.ylabel('Event PMTs', fontsize=16)\n",
    "plt.yscale('log')"
   ]
  },
  {
   "cell_type": "code",
   "execution_count": 43,
   "metadata": {
    "collapsed": false
   },
   "outputs": [
    {
     "name": "stdout",
     "output_type": "stream",
     "text": [
      "[ -21.8277092  -219.77833557   23.84130478]\n",
      "[ -21.56974411 -220.1491394    24.55760574]\n"
     ]
    }
   ],
   "source": [
    "print np.array(osoc.GetFitResult(osoc.GetFitNames()[0]).GetVertex(0).GetPosition())\n",
    "print np.array(nsoc.GetFitResult(nsoc.GetFitNames()[0]).GetVertex(0).GetPosition())"
   ]
  },
  {
   "cell_type": "code",
   "execution_count": null,
   "metadata": {
    "collapsed": true
   },
   "outputs": [],
   "source": []
  }
 ],
 "metadata": {
  "kernelspec": {
   "display_name": "Python 2",
   "language": "python",
   "name": "python2"
  },
  "language_info": {
   "codemirror_mode": {
    "name": "ipython",
    "version": 2
   },
   "file_extension": ".py",
   "mimetype": "text/x-python",
   "name": "python",
   "nbconvert_exporter": "python",
   "pygments_lexer": "ipython2",
   "version": "2.7.10"
  }
 },
 "nbformat": 4,
 "nbformat_minor": 0
}
