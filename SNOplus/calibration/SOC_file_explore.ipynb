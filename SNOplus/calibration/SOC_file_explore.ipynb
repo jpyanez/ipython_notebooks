{
 "cells": [
  {
   "cell_type": "code",
   "execution_count": 103,
   "metadata": {
    "collapsed": false
   },
   "outputs": [
    {
     "data": {
      "text/plain": [
       "<module 'ratdb_reader' from '/home/jpyanez/snoplus/snoplus_python/ratdb_reader.pyc'>"
      ]
     },
     "execution_count": 103,
     "metadata": {},
     "output_type": "execute_result"
    }
   ],
   "source": [
    "import ROOT, rat\n",
    "import os, sys, pickle\n",
    "\n",
    "import matplotlib.pyplot as plt\n",
    "import numpy as np\n",
    "import collections\n",
    "%matplotlib inline \n",
    "\n",
    "import jp_mpl as jplot\n",
    "\n",
    "from matplotlib.colors import LogNorm\n",
    "import pickle\n",
    "import ratdb_reader\n",
    "reload(ratdb_reader)"
   ]
  },
  {
   "cell_type": "code",
   "execution_count": 104,
   "metadata": {
    "collapsed": false
   },
   "outputs": [
    {
     "name": "stdout",
     "output_type": "stream",
     "text": [
      "This is AIRPLANE MODE - be careful!\n"
     ]
    }
   ],
   "source": [
    "# Airplane mode\n",
    "db = rat.RAT.DB.Get()\n",
    "db.SetAirplaneModeStatus(True)\n",
    "db.SetDefaultPlaneLockStatus(False)\n",
    "print 'This is AIRPLANE MODE - be careful!'"
   ]
  },
  {
   "cell_type": "code",
   "execution_count": 105,
   "metadata": {
    "collapsed": false
   },
   "outputs": [
    {
     "name": "stdout",
     "output_type": "stream",
     "text": [
      "reader: Creating a dict in line 4\n",
      "reader: Closing a dict in line 17\n",
      "reader: Creating a dict in line 19\n",
      "reader: Closing a dict in line 34\n"
     ]
    }
   ],
   "source": [
    "infile_name = '/home/jpyanez/snoplus/software/rat/data/PMTTRANSIT.ratdb'\n",
    "dbdata = ratdb_reader.dbreader(infile_name)"
   ]
  },
  {
   "cell_type": "code",
   "execution_count": 106,
   "metadata": {
    "collapsed": true
   },
   "outputs": [],
   "source": [
    "socdir = '/sb/project/qbs-015-ac/jpyanez/data/SOC_files'"
   ]
  },
  {
   "cell_type": "code",
   "execution_count": 107,
   "metadata": {
    "collapsed": false
   },
   "outputs": [
    {
     "name": "stdout",
     "output_type": "stream",
     "text": [
      "['SOC_0000017375_reprocessed.root', 'SOC_0000017376_reprocessed.root', 'SOC_0000017377_reprocessed.root', 'SOC_0000017378_reprocessed.root', 'SOC_0000017384_reprocessed.root', 'SOC_0000017386_reprocessed.root', 'SOC_0000100554.root', 'SOC_0000100555.root', 'SOC_0000100556.root', 'SOC_0000100558.root', 'SOC_0000100559.root', 'SOC_0000100560.root', 'SOC_0000101152.root', 'SOC_0000101153.root', 'SOC_0000101154_000.root', 'SOC_0000101154_001.root', 'SOC_0000101154_002.root', 'SOC_0000101154_003.root', 'SOC_0000101154_004.root', 'SOC_0000101155.root', 'SOC_0000101158.root', 'SOC_0000101159.root', 'SOC_0000101160.root', 'SOC_0000101161.root', 'SOC_0000101427_reprocessed_newPCA.root', 'SOC_0000101428_reprocessed_newPCA.root', 'SOC_0000101432_reprocessed_newPCA.root', 'SOC_0000101433_reprocessed_newPCA.root', 'SOC_0000101437_reprocessed_newPCA.root', 'SOC_0000102518.root', 'SOC_0000102521.root', 'SOC_0000102523.root', 'SOC_0000102526.root', 'SOC_0000102529.root', 'SOC_0000102552.root', 'SOC_0000102554.root', 'SOC_0000102556.root', 'SOC_0000102558.root', 'SOC_0000102560.root', 'SOC_0000102562.root', 'SOC_0000102564.root', 'SOC_0000102566.root', 'SOC_0000102568.root', 'SOC_0000102570.root', 'SOC_0000102572.root', 'SOC_0000102574_000.root', 'SOC_0000102574_001.root', 'SOC_0000102574_002.root', 'SOC_0000102574_003.root', 'SOC_0000102576.root', 'SOC_0000102578.root', 'SOC_0000102580.root', 'SOC_0000102582.root', 'SOC_0000104182.root']\n"
     ]
    }
   ],
   "source": [
    "all_files = os.listdir(socdir)\n",
    "print all_files"
   ]
  },
  {
   "cell_type": "code",
   "execution_count": 124,
   "metadata": {
    "collapsed": false
   },
   "outputs": [],
   "source": [
    "def plotPMTtoa(time_array,\n",
    "               bin_width   = 0.5, # in ns\n",
    "               time_window = 400.,\n",
    "               start_time  = -100,\n",
    "              color = 'b'):\n",
    "\n",
    "    residual_axis = np.arange(start_time, time_window + start_time+ bin_width/2., bin_width)\n",
    "\n",
    "    counts, x = np.histogram(time_array, residual_axis)\n",
    "    \n",
    "    mytime  = np.linspace(-10, 80, 1001)\n",
    "    mylatep = lpfcn(mytime)\n",
    "    print mytime\n",
    "    \n",
    "\n",
    "    plt.plot(0.5+mytime+residual_axis[counts.argmax()]-mytime[mylatep.argmax()], \n",
    "             mylatep*counts.max()*1./mylatep.max(), '--k')\n",
    "\n",
    "    jplot.unfilledBar(residual_axis, counts, color=color)\n",
    "    plt.xlabel('Time of arrival (ns)', fontsize='x-large')\n",
    "    plt.ylabel('Counts')\n",
    "    plt.yscale('log')"
   ]
  },
  {
   "cell_type": "code",
   "execution_count": 226,
   "metadata": {
    "collapsed": false
   },
   "outputs": [
    {
     "name": "stdout",
     "output_type": "stream",
     "text": [
      "['SOC_0000102529.root']\n"
     ]
    }
   ],
   "source": [
    "run_of_interest = '102529'\n",
    "file_of_interest = [x for x in all_files if run_of_interest in x]\n",
    "print file_of_interest"
   ]
  },
  {
   "cell_type": "code",
   "execution_count": 227,
   "metadata": {
    "collapsed": false
   },
   "outputs": [
    {
     "name": "stdout",
     "output_type": "stream",
     "text": [
      "RUN info\n",
      "manip position [   0. -254.   25.]\n",
      "socfit position [ -10.89273453 -216.66325378   32.9556427 ]\n",
      "wavelength 419\n"
     ]
    }
   ],
   "source": [
    "# Get the soc object\n",
    "reader = rat.socreader(os.path.join(socdir, file_of_interest[0]))\n",
    "soc, run = reader.next()\n",
    "print 'RUN info'\n",
    "print 'manip position', np.array(soc.calib.GetPos())\n",
    "print 'socfit position', np.array(soc.GetFitResult(soc.GetFitNames()[0]).GetVertex(0).GetPosition())\n",
    "print 'wavelength', soc.calib.GetMode()"
   ]
  },
  {
   "cell_type": "code",
   "execution_count": 228,
   "metadata": {
    "collapsed": false
   },
   "outputs": [],
   "source": [
    "xdata = dbdata['r1408']['x'][1:]\n",
    "xtest = np.linspace(-10, 80, 301)\n",
    "ydata = 1000.*(dbdata['r1408']['y'][1:] - dbdata['r1408']['y'][:-1])\n",
    "lpfcn = interpolate.InterpolatedUnivariateSpline(xdata, \n",
    "                                                 ydata)\n"
   ]
  },
  {
   "cell_type": "code",
   "execution_count": 229,
   "metadata": {
    "collapsed": false
   },
   "outputs": [
    {
     "name": "stdout",
     "output_type": "stream",
     "text": [
      "3.77044789207\n"
     ]
    }
   ],
   "source": [
    "lpfcn_roots = interpolate.InterpolatedUnivariateSpline(xdata, \n",
    "                                                 ydata-ydata.max()/2.)\n",
    "r1,r2 = lpfcn_roots.roots()\n",
    "print r2-r1"
   ]
  },
  {
   "cell_type": "code",
   "execution_count": 231,
   "metadata": {
    "collapsed": false
   },
   "outputs": [
    {
     "name": "stdout",
     "output_type": "stream",
     "text": [
      "[-10.    -9.91  -9.82 ...,  79.82  79.91  80.  ]\n"
     ]
    },
    {
     "data": {
      "image/png": "[encoded data removed]",
      "text/plain": [
       "<matplotlib.figure.Figure at 0x2b816d829c50>"
      ]
     },
     "metadata": {},
     "output_type": "display_data"
    },
    {
     "data": {
      "image/png": "[encoded data removed]",
      "text/plain": [
       "<matplotlib.figure.Figure at 0x2b816d297650>"
      ]
     },
     "metadata": {},
     "output_type": "display_data"
    }
   ],
   "source": [
    "one_pmt = 6729\n",
    "\n",
    "bigger_than = 60\n",
    "\n",
    "time_array = np.array(soc.GetSOCPMT(one_pmt).GetTimes())\n",
    "qhs_array  = np.array(soc.GetSOCPMT(one_pmt).GetQHSs())\n",
    "\n",
    "xqhs = np.arange(-10, 140, 1)\n",
    "qhs, x = np.histogram(qhs_array, xqhs)\n",
    "jplot.unfilledBar(xqhs, qhs*1./qhs.max())\n",
    "plt.plot(xqhs[:-1], np.cumsum(qhs)*1./np.sum(qhs), '--k')\n",
    "plt.xlabel('QHS')\n",
    "plt.ylabel('Normalized counts')\n",
    "\n",
    "plt.figure(figsize=(10,6))\n",
    "#plotPMTtoa(time_array,\n",
    "#          start_time=300)\n",
    "plotPMTtoa(time_array[qhs_array > bigger_than],\n",
    "          start_time=300, color = 'red')\n",
    "\n",
    "\n",
    "str_name = 'RUN_' + run_of_interest + '_-_PMT_' +  \"%i\" % one_pmt\n",
    "plt.title(str_name)\n",
    "plt.xlim([330,390])\n",
    "plt.ylim([1, 10**4])\n",
    "plt.text(370, 50, 'QHS > ' + \"%i\" % bigger_than, fontsize='x-large')\n",
    "plt.savefig('/home/jpyanez/snoplus/data/SOC_quick_checks/' + str_name + '_BiggerThan'+ \"%i\" % bigger_than +'.png')"
   ]
  },
  {
   "cell_type": "code",
   "execution_count": null,
   "metadata": {
    "collapsed": true
   },
   "outputs": [],
   "source": []
  }
 ],
 "metadata": {
  "kernelspec": {
   "display_name": "Python 2",
   "language": "python",
   "name": "python2"
  },
  "language_info": {
   "codemirror_mode": {
    "name": "ipython",
    "version": 2
   },
   "file_extension": ".py",
   "mimetype": "text/x-python",
   "name": "python",
   "nbconvert_exporter": "python",
   "pygments_lexer": "ipython2",
   "version": "2.7.10"
  }
 },
 "nbformat": 4,
 "nbformat_minor": 2
}
