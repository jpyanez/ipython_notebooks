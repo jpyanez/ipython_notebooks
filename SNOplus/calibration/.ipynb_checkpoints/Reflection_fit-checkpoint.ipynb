{
 "cells": [
  {
   "cell_type": "code",
   "execution_count": 233,
   "metadata": {
    "collapsed": false
   },
   "outputs": [],
   "source": [
    "import ROOT, rat\n",
    "import os, sys, pickle\n",
    "import matplotlib.pyplot as plt\n",
    "import numpy as np\n",
    "import collections\n",
    "%matplotlib inline \n",
    "sys.path.append('/home/jp/projects/snoplus/python_modules')\n",
    "import jp_mpl as jplot\n",
    "import geo_studies, rat_misc\n",
    "from scipy import ndimage\n",
    "reload(rat_misc)\n",
    "from scipy import signal\n",
    "from matplotlib.colors import LogNorm\n",
    "from detect_peaks import detect_peaks\n",
    "import pickle, scipy\n",
    "from copy import deepcopy"
   ]
  },
  {
   "cell_type": "code",
   "execution_count": 2,
   "metadata": {
    "collapsed": false
   },
   "outputs": [
    {
     "name": "stdout",
     "output_type": "stream",
     "text": [
      "This is AIRPLANE MODE - be careful!\n"
     ]
    },
    {
     "name": "stderr",
     "output_type": "stream",
     "text": [
      "TClass::TClass:0: RuntimeWarning: no dictionary for class RAT::DBTableKey is available\n"
     ]
    }
   ],
   "source": [
    "# Airplane mode\n",
    "db = rat.RAT.DB.Get()\n",
    "db.SetAirplaneModeStatus(True)\n",
    "db.SetDefaultPlaneLockStatus(False)\n",
    "print 'This is AIRPLANE MODE - be careful!'"
   ]
  },
  {
   "cell_type": "markdown",
   "metadata": {},
   "source": [
    "## PMT Information"
   ]
  },
  {
   "cell_type": "code",
   "execution_count": 3,
   "metadata": {
    "collapsed": false
   },
   "outputs": [],
   "source": [
    "pmt_info = pickle.load(open('/home/jp/projects/snoplus/python_modules/pmt_positions.pckl'))"
   ]
  },
  {
   "cell_type": "code",
   "execution_count": 5,
   "metadata": {
    "collapsed": true
   },
   "outputs": [],
   "source": [
    "quality_dir = '/home/jp/projects/snoplus/laserball_calibration/pmt_quality_occupancy'"
   ]
  },
  {
   "cell_type": "markdown",
   "metadata": {},
   "source": [
    "## Speed of light"
   ]
  },
  {
   "cell_type": "code",
   "execution_count": 6,
   "metadata": {
    "collapsed": true
   },
   "outputs": [],
   "source": [
    "c = 0.299792458*1000 # mm/ns"
   ]
  },
  {
   "cell_type": "markdown",
   "metadata": {},
   "source": [
    "## Getting SOC files"
   ]
  },
  {
   "cell_type": "code",
   "execution_count": 127,
   "metadata": {
    "collapsed": true
   },
   "outputs": [],
   "source": [
    "socdir = '/home/jp/projects/snoplus/laserball_calibration/all_runs'\n",
    "peakdir = '/home/jp/projects/snoplus/laserball_calibration/peak_output'"
   ]
  },
  {
   "cell_type": "code",
   "execution_count": 8,
   "metadata": {
    "collapsed": true
   },
   "outputs": [],
   "source": [
    "infile_list = os.listdir(socdir)"
   ]
  },
  {
   "cell_type": "code",
   "execution_count": 9,
   "metadata": {
    "collapsed": false
   },
   "outputs": [
    {
     "name": "stdout",
     "output_type": "stream",
     "text": [
      "0 SOC_0000017377_reprocessed.root\n",
      "1 SOC_0000017375_reprocessed.root\n",
      "2 SOC_0000017378_reprocessed.root\n",
      "3 SOC_0000100558.root\n",
      "4 SOC_0000100559.root\n",
      "5 SOC_0000100560.root\n",
      "6 SOC_0000100554.root\n",
      "7 SOC_0000017386_reprocessed.root\n",
      "8 SOC_0000100556.root\n",
      "9 SOC_0000017376_reprocessed.root\n",
      "10 SOC_0000100555.root\n",
      "11 SOC_0000017384_reprocessed.root\n"
     ]
    }
   ],
   "source": [
    "for i, x in enumerate(infile_list): print i, x "
   ]
  },
  {
   "cell_type": "code",
   "execution_count": 718,
   "metadata": {
    "collapsed": true
   },
   "outputs": [],
   "source": [
    "# Using water refractive index (validate!)\n",
    "water_n = 1.34389\n",
    "water_c = c/water_n"
   ]
  },
  {
   "cell_type": "code",
   "execution_count": 255,
   "metadata": {
    "collapsed": true
   },
   "outputs": [],
   "source": [
    "infile_name = os.path.join(socdir, infile_list[8])"
   ]
  },
  {
   "cell_type": "markdown",
   "metadata": {},
   "source": [
    "### Getting the peak of one PMT"
   ]
  },
  {
   "cell_type": "code",
   "execution_count": 719,
   "metadata": {
    "collapsed": true
   },
   "outputs": [],
   "source": [
    "def getTimeDiff(time_array,\n",
    "                bin_width=0.5,\n",
    "                twindow = [110, 220],\n",
    "                plot = False):\n",
    "    ybins  = np.linspace(0, 300, (300/bin_width)+1)\n",
    "    smooth_coeff = 1./(ybins[1]-ybins[0])\n",
    "    \n",
    "    # Finding the peak positions\n",
    "    n, x = np.histogram(time_array, ybins)\n",
    "    nsmooth = ndimage.filters.gaussian_filter1d(n, sigma=smooth_coeff)\n",
    "    \n",
    "    # Will use log(n) - zeros go away\n",
    "    nsmooth[nsmooth<=0] = 1\n",
    "\n",
    "    # Peak finding algorithm\n",
    "    peaks = detect_peaks(nsmooth, \n",
    "                         mpd = 10*smooth_coeff,\n",
    "                         edge='rising',show=False, mph=1.1)\n",
    "    \n",
    "    # Obtain the highest peak\n",
    "    highest_peak = peaks[nsmooth[peaks].argmax()]\n",
    "    # Obtain the latest peak\n",
    "    latest_peak = peaks[ybins[peaks].argmax()]\n",
    "    # Getting the time difference between highest ones\n",
    "    tdiff_peak = ybins[latest_peak] - ybins[highest_peak]\n",
    "    \n",
    "    # Finding the peaks of the derivative\n",
    "    dx = (ybins[1]-ybins[0])/2.\n",
    "    dn = np.diff(np.log10(n))/dx\n",
    "    ydn = ybins[1:-1]\n",
    "\n",
    "    # Derivating, and smoothing over it\n",
    "    dnsmooth = np.diff(np.log10(nsmooth))/dx  \n",
    "    dnsmooth = ndimage.filters.gaussian_filter1d(dnsmooth, \n",
    "                                                 sigma=smooth_coeff)\n",
    "\n",
    "    dpeaks = detect_peaks(dnsmooth, mpd = 10*smooth_coeff,\n",
    "                          edge='rising',show=False, mph=0.1)\n",
    "    \n",
    "    # Obtain the highest peak\n",
    "    highest_dpeak = dpeaks[dnsmooth[dpeaks].argmax()]\n",
    "    # Obtain the latest peak\n",
    "    latest_dpeak = dpeaks[ydn[dpeaks].argmax()]\n",
    "    # Getting the time difference between highest ones\n",
    "    tdiff_dpeak = ydn[latest_dpeak] - ydn[highest_dpeak]\n",
    "\n",
    "    if plot:\n",
    "        fig = plt.figure(figsize=(8,8))\n",
    "        ax1 = fig.add_subplot(211)\n",
    "        jplot.unfilledBar(ybins, n)\n",
    "        jplot.unfilledBar(ybins, nsmooth, color='red')\n",
    "        plt.yscale('log')\n",
    "        plt.plot((ybins[dpeaks]+ybins[dpeaks-1])/2., \n",
    "                 nsmooth[dpeaks], 'xg')\n",
    "        \n",
    "        used_peaks = np.array([highest_peak, latest_peak])\n",
    "        plt.plot(ybins[used_peaks], nsmooth[used_peaks], 'ok')\n",
    "        ax2 = fig.add_subplot(212,sharex=ax1)\n",
    "        plt.plot(ydn, dn, color = 'blue')\n",
    "\n",
    "        plt.plot(ydn, dnsmooth, color = 'red')\n",
    "        plt.subplots_adjust(hspace=0.)\n",
    "        plt.xlim(twindow)\n",
    "        used_dpeaks = np.array([highest_dpeak, latest_dpeak])\n",
    "\n",
    "        plt.plot((ydn[dpeaks]+ydn[dpeaks-1])/2., \n",
    "                  dnsmooth[dpeaks], 'xg')\n",
    "        plt.plot(ydn[used_dpeaks], dnsmooth[used_dpeaks], 'ok')\n",
    "        plt.show()\n",
    "        #raw_input()\n",
    "    return tdiff_peak, tdiff_dpeak"
   ]
  },
  {
   "cell_type": "code",
   "execution_count": 727,
   "metadata": {
    "collapsed": false
   },
   "outputs": [],
   "source": [
    "reader = rat.socreader(infile_name)\n",
    "soc, run = reader.next()\n",
    "soc.GetRunID()\n",
    "soc_pmts = np.array(soc.GetSOCPMTIDs())"
   ]
  },
  {
   "cell_type": "code",
   "execution_count": 728,
   "metadata": {
    "collapsed": true
   },
   "outputs": [],
   "source": [
    "pmtq_fname = os.path.join(quality_dir, \"%i\" % soc.GetRunID() + '_PMT_quality.pckl')\n",
    "pmtq_file = open(pmtq_fname)\n",
    "pmtq = pickle.load(pmtq_file)\n",
    "pmtq_file.close()"
   ]
  },
  {
   "cell_type": "code",
   "execution_count": 729,
   "metadata": {
    "collapsed": false,
    "scrolled": true
   },
   "outputs": [
    {
     "name": "stdout",
     "output_type": "stream",
     "text": [
      "Position  [   0. -254.   25.]\n"
     ]
    }
   ],
   "source": [
    "print 'Position ', np.array(soc.GetCalib().GetPos())"
   ]
  },
  {
   "cell_type": "code",
   "execution_count": 730,
   "metadata": {
    "collapsed": false
   },
   "outputs": [
    {
     "name": "stdout",
     "output_type": "stream",
     "text": [
      "[   0. -254.   25.]\n",
      "[   3.82698131 -207.07707214   24.78620338]\n"
     ]
    }
   ],
   "source": [
    "# Known laserball positions\n",
    "manip_pos = np.array(soc.calib.GetPos())\n",
    "fit_pos = np.array(soc.GetFitResult(soc.GetFitNames()[0]).GetVertex(0).GetPosition())\n",
    "print manip_pos\n",
    "print fit_pos"
   ]
  },
  {
   "cell_type": "code",
   "execution_count": 731,
   "metadata": {
    "collapsed": false
   },
   "outputs": [
    {
     "name": "stdout",
     "output_type": "stream",
     "text": [
      "8977\n"
     ]
    }
   ],
   "source": [
    "# Select normal and HQE PMTs and SOC PMTs\n",
    "typebool = (pmt_info['type'] == 1) + (pmt_info['type']==7)\n",
    "socbool = np.zeros_like(pmt_info['type'])\n",
    "socbool[soc_pmts] = True\n",
    "mypmtbool = np.array(socbool*typebool,dtype=bool)\n",
    "print np.sum(mypmtbool)"
   ]
  },
  {
   "cell_type": "code",
   "execution_count": 732,
   "metadata": {
    "collapsed": false
   },
   "outputs": [],
   "source": [
    "# Absolute distance of PMT to center\n",
    "pmt_r = np.linalg.norm(pmt_info['xyz'],axis=1)\n",
    "# PSUP radius in mm\n",
    "R = 8390. # PSUP radius in mm"
   ]
  },
  {
   "cell_type": "markdown",
   "metadata": {},
   "source": [
    "### Time-consuming, getting the peak positions"
   ]
  },
  {
   "cell_type": "code",
   "execution_count": 733,
   "metadata": {
    "collapsed": false
   },
   "outputs": [
    {
     "name": "stdout",
     "output_type": "stream",
     "text": [
      "Using the width  0.5\n",
      "Going over the  9195  PMTs\n",
      "0"
     ]
    },
    {
     "name": "stderr",
     "output_type": "stream",
     "text": [
      "/home/jp/anaconda2/lib/python2.7/site-packages/ipykernel/__main__.py:42: RuntimeWarning: divide by zero encountered in log10\n",
      "/home/jp/anaconda2/lib/python2.7/site-packages/ipykernel/__main__.py:48: RuntimeWarning: divide by zero encountered in log10\n"
     ]
    },
    {
     "name": "stdout",
     "output_type": "stream",
     "text": [
      " 500 [242 304 349 375] []\n",
      "1000 [254 306 333 357 394] []\n",
      "[243 314 352] []\n",
      "[241 313] []\n",
      "1500 [241 302 369] []\n",
      "2000 [242 301 370 392] []\n",
      "[243 307 347] []\n",
      "[251 298 321 343 364 394] []\n",
      "[238 295 321 343] []\n",
      "[243 301 325 349 396] []\n",
      "[252 300 323 357 391] []\n",
      "[238 315 341] []\n",
      "2500 [243 292 319 345] []\n",
      "3000 [246 311 349 371 404] []\n",
      "[242 306 329 402] []\n",
      "[253 301 323 356 379 403] []\n",
      "[241 303 352] []\n",
      "[254 298 323 362 403] []\n",
      "[241 294 348] []\n",
      "3500 [242 303 351 401] []\n",
      "4000 [253 311 336 359 394 452] []\n",
      "[242 306 354 451] []\n",
      "4500 [252 273 326 362 393] []\n",
      "[241 309 351 405] []\n",
      "[241 351] []\n",
      "5000 [239 298 346] []\n",
      "5500 [242 294 317 345] []\n",
      "[253 278 305 327 360 397] []\n",
      "[241 313 347] []\n",
      "[239 295 323 350] []\n",
      "[253 303 325 352 376 404] []\n",
      "[241 303 343 402] []\n",
      "[243 308 349] []\n",
      "[253 295 325 359 386 407] []\n",
      "[241 293 343] []\n",
      "[241 290 355] []\n",
      "6000 [242 319] []\n",
      "6500 [212 283 311 369 392 432 472 512 552 592] []\n",
      "7000 [240 303 352] []\n",
      "7500 [241 296 323 350] []\n",
      "[252 305 331 360 381 405] []\n",
      "[240 300 328 355] []\n",
      "[240 297 327 354] []\n",
      "8000 [253 305 330 362 401] []\n",
      "[241 301 323 361] []\n",
      "[253 302 333 367 398] []\n",
      "[241 330 352] []\n",
      "8500 9000 Zero counter 0\n",
      "Skip counter 874\n"
     ]
    }
   ],
   "source": [
    "\n",
    "for bin_width in [0.5]:\n",
    "    zero_counter = 0\n",
    "    skip_counter = 0\n",
    "    print 'Using the width ', bin_width\n",
    "    delta_ts = np.zeros([pmt_info['type'].size, 2])\n",
    "    print 'Going over the ', len(soc_pmts), ' PMTs'\n",
    "\n",
    "    for ipmt, one_pmt in enumerate(soc_pmts):\n",
    "        time_array = np.array(soc.GetSOCPMT(one_pmt).GetTimes())\n",
    "        if ipmt % 500 == 0:\n",
    "            print ipmt,\n",
    "        time_array[time_array < 0] = 0.\n",
    "        if time_array.mean() == 0 or time_array.size < 1000 or np.sum(time_array>0) < 1000:\n",
    "            skip_counter += 1\n",
    "            continue\n",
    "\n",
    "        \n",
    "        delta_ts[one_pmt, :] = getTimeDiff(time_array,\n",
    "                                            bin_width = 0.5)\n",
    "        if np.sum(delta_ts[one_pmt,:]) == 0:\n",
    "            zero_counter += 1\n",
    "            \n",
    "    pickle.dump(delta_ts, open(os.path.join(peakdir, \"%i\" % soc.GetRunID()+ '.pckl'),'w'))\n",
    "    print 'Zero counter', zero_counter\n",
    "    print 'Skip counter', skip_counter\n",
    "reader.close()"
   ]
  },
  {
   "cell_type": "code",
   "execution_count": 734,
   "metadata": {
    "collapsed": false
   },
   "outputs": [
    {
     "name": "stdout",
     "output_type": "stream",
     "text": [
      "0 874\n",
      "1420 1441\n"
     ]
    }
   ],
   "source": [
    "print zero_counter, skip_counter\n",
    "print np.sum(delta_ts[:,0]<=0), np.sum(delta_ts[:,1]<=0)"
   ]
  },
  {
   "cell_type": "markdown",
   "metadata": {},
   "source": [
    "# Fit starts here - load the files"
   ]
  },
  {
   "cell_type": "code",
   "execution_count": 336,
   "metadata": {
    "collapsed": false
   },
   "outputs": [],
   "source": [
    "delta_ts = pickle.load(open('/home/jp/projects/snoplus/laserball_calibration/peak_output/100556_600.pckl'))"
   ]
  },
  {
   "cell_type": "code",
   "execution_count": 735,
   "metadata": {
    "collapsed": true
   },
   "outputs": [],
   "source": [
    "delta_ts = pickle.load(open('/home/jp/projects/snoplus/laserball_calibration/peak_output/100556.pckl'))"
   ]
  },
  {
   "cell_type": "code",
   "execution_count": 737,
   "metadata": {
    "collapsed": false
   },
   "outputs": [
    {
     "data": {
      "text/plain": [
       "1441"
      ]
     },
     "execution_count": 737,
     "metadata": {},
     "output_type": "execute_result"
    }
   ],
   "source": [
    "np.sum(delta_ts[:,1] <= 0)"
   ]
  },
  {
   "cell_type": "code",
   "execution_count": 738,
   "metadata": {
    "collapsed": true
   },
   "outputs": [],
   "source": [
    "run = '100556'"
   ]
  },
  {
   "cell_type": "markdown",
   "metadata": {
    "collapsed": true
   },
   "source": [
    "# Fit the position of the laserball"
   ]
  },
  {
   "cell_type": "code",
   "execution_count": 739,
   "metadata": {
    "collapsed": false
   },
   "outputs": [],
   "source": [
    "class FitLBpos(object):\n",
    "    def __init__(self,\n",
    "                 data = None,\n",
    "                 error = None,\n",
    "                 pmt_xyz = None,\n",
    "                 pmtbool = None,\n",
    "                 psup_radius = 8390.,\n",
    "                 water_n = 1.34389,\n",
    "                 print_call = True):\n",
    "        c            = 0.299792458*1000 # mm/ns\n",
    "        self.data    = deepcopy(data)\n",
    "        self.pmt_xyz = deepcopy(pmt_xyz)\n",
    "        self.pmtbool = deepcopy(pmtbool)\n",
    "        self.pmt_r   = np.linalg.norm(pmt_xyz,axis=1)\n",
    "        self.header_done = False\n",
    "\n",
    "        self.R = psup_radius\n",
    "        self.water_c = c/water_n\n",
    "        self.print_call = print_call\n",
    "        \n",
    "        self.pmtbool[self.data == 0] = False\n",
    "        \n",
    "        if error == None:\n",
    "            self.error = np.ones_like(data)\n",
    "        else:\n",
    "            self.error = error + 1 # Adding one ns for everything\n",
    "    \n",
    "    def print_eval_header(self):\n",
    "        print 'FCN \\t\\t u \\t v \\t w'\n",
    "        self.header_done = True\n",
    "        \n",
    "    def print_eval(self, value, u, v, w):\n",
    "        if not self.header_done:\n",
    "            self.print_eval_header()\n",
    "        print value, '\\t', u, '\\t', v, '\\t', w\n",
    "        \n",
    "    def __call__(self, u, v, w):\n",
    "        this_pos = np.array([ u, v, w])\n",
    "        tdiff = 2*self.R/self.water_c* \\\n",
    "                (1+np.dot(self.pmt_xyz,this_pos)/(self.pmt_r*self.R))\n",
    "        \n",
    "        delta = (tdiff - self.data)[self.pmtbool]**2/self.error[self.pmtbool]**2\n",
    "        delta = np.sum(delta)\n",
    "        \n",
    "        if self.print_call:\n",
    "            self.print_eval(delta, u, v, w)\n",
    "        \n",
    "        return delta"
   ]
  },
  {
   "cell_type": "code",
   "execution_count": 740,
   "metadata": {
    "collapsed": false
   },
   "outputs": [],
   "source": [
    "pmtq.keys()\n",
    "pmt_q_bool = (pmtq['positive']*pmtq['global_cut']*pmtq['normal_pmts']*\n",
    "            pmtq['nearby_cut']*pmtq['unobstructed'])\n",
    "#pmt_q_bool = (pmtq['positive']*pmtq['normal_pmts']*\n",
    "#              pmtq['unobstructed']*pmtq['global_cut'])\n",
    "#pmt_q_bool = (pmtq['positive']*pmtq['unobstructed'])"
   ]
  },
  {
   "cell_type": "code",
   "execution_count": 741,
   "metadata": {
    "collapsed": false
   },
   "outputs": [],
   "source": [
    "nonzero = (delta_ts[:,0] > 0)*(delta_ts[:,1] > 0)"
   ]
  },
  {
   "cell_type": "code",
   "execution_count": 742,
   "metadata": {
    "collapsed": false
   },
   "outputs": [
    {
     "data": {
      "text/plain": [
       "8287"
      ]
     },
     "execution_count": 742,
     "metadata": {},
     "output_type": "execute_result"
    }
   ],
   "source": [
    "np.sum(nonzero)"
   ]
  },
  {
   "cell_type": "code",
   "execution_count": 743,
   "metadata": {
    "collapsed": false
   },
   "outputs": [
    {
     "name": "stderr",
     "output_type": "stream",
     "text": [
      "/home/jp/anaconda2/lib/python2.7/site-packages/ipykernel/__main__.py:23: FutureWarning: comparison to `None` will result in an elementwise object comparison in the future.\n"
     ]
    }
   ],
   "source": [
    "lbfit = FitLBpos( data = delta_ts[:,1],\n",
    "                  error = np.abs(delta_ts[:,0]-delta_ts[:,1]),\n",
    "                  pmt_xyz = pmt_info['xyz'],\n",
    "                  pmtbool = mypmtbool*pmt_q_bool*nonzero)"
   ]
  },
  {
   "cell_type": "code",
   "execution_count": 744,
   "metadata": {
    "collapsed": false
   },
   "outputs": [
    {
     "name": "stdout",
     "output_type": "stream",
     "text": [
      "PMTs used 5309\n"
     ]
    },
    {
     "data": {
      "text/plain": [
       "<matplotlib.text.Text at 0x7f07a5a42550>"
      ]
     },
     "execution_count": 744,
     "metadata": {},
     "output_type": "execute_result"
    },
    {
     "data": {
      "image/png": "[encoded data removed]",
      "text/plain": [
       "<matplotlib.figure.Figure at 0x7f07addc6dd0>"
      ]
     },
     "metadata": {},
     "output_type": "display_data"
    },
    {
     "data": {
      "image/png": "[encoded data removed]",
      "text/plain": [
       "<matplotlib.figure.Figure at 0x7f07a5a3fe10>"
      ]
     },
     "metadata": {},
     "output_type": "display_data"
    }
   ],
   "source": [
    "fig = plt.figure(figsize=(10,5))\n",
    "fig.add_subplot(121)\n",
    "plt.plot(delta_ts[pmtbool*pmt_q_bool,0], '.')\n",
    "fig.add_subplot(122)\n",
    "plt.plot(lbfit.error[pmtbool*pmt_q_bool*nonzero], 'x')\n",
    "print 'PMTs used', np.sum(mypmtbool*pmt_q_bool)\n",
    "\n",
    "plt.figure()\n",
    "_ = plt.hist(lbfit.error[pmtbool*pmt_q_bool*nonzero], np.linspace(0, 30, 31))\n",
    "plt.xlabel('Error estimate (ns)')"
   ]
  },
  {
   "cell_type": "markdown",
   "metadata": {},
   "source": [
    "## Fitting with scipy"
   ]
  },
  {
   "cell_type": "code",
   "execution_count": 745,
   "metadata": {
    "collapsed": true
   },
   "outputs": [],
   "source": [
    "wrapfcn = lambda p: lbfit(*p)"
   ]
  },
  {
   "cell_type": "code",
   "execution_count": 746,
   "metadata": {
    "collapsed": false
   },
   "outputs": [],
   "source": [
    "import scipy"
   ]
  },
  {
   "cell_type": "code",
   "execution_count": 747,
   "metadata": {
    "collapsed": false,
    "scrolled": true
   },
   "outputs": [
    {
     "name": "stdout",
     "output_type": "stream",
     "text": [
      "FCN \t\t u \t v \t w\n",
      "5878.1045778 \t3.82698130608 \t-207.077072144 \t24.7862033844\n",
      "5878.1045778 \t3.82698130608 \t-207.077072144 \t24.7862033844\n",
      "5878.1045778 \t3.82698132098 \t-207.077072144 \t24.7862033844\n",
      "5878.1045778 \t3.82698130608 \t-207.077072129 \t24.7862033844\n",
      "5878.10457782 \t3.82698130608 \t-207.077072144 \t24.7862033993\n",
      "5875.96714377 \t3.69166636467 \t-207.304428101 \t23.3433322906\n",
      "5875.96714377 \t3.69166636467 \t-207.304428101 \t23.3433322906\n",
      "5875.96714377 \t3.69166637957 \t-207.304428101 \t23.3433322906\n",
      "5875.96714377 \t3.69166636467 \t-207.304428086 \t23.3433322906\n",
      "5875.96714379 \t3.69166636467 \t-207.304428101 \t23.3433323056\n",
      "5865.84866848 \t3.02577244462 \t-208.428085941 \t16.2260188244\n",
      "5865.84866848 \t3.02577244462 \t-208.428085941 \t16.2260188244\n",
      "5865.84866849 \t3.02577245952 \t-208.428085941 \t16.2260188244\n",
      "5865.84866849 \t3.02577244462 \t-208.428085926 \t16.2260188244\n",
      "5865.8486685 \t3.02577244462 \t-208.428085941 \t16.2260188393\n",
      "5828.00765148 \t-0.06846541611 \t-213.676420864 \t-16.9551306677\n",
      "5828.00765148 \t-0.06846541611 \t-213.676420864 \t-16.9551306677\n",
      "5828.00765148 \t-0.0684654012088 \t-213.676420864 \t-16.9551306677\n",
      "5828.00765148 \t-0.06846541611 \t-213.67642085 \t-16.9551306677\n",
      "5828.0076515 \t-0.06846541611 \t-213.676420864 \t-16.9551306528\n",
      "5798.418452 \t-6.11096451792 \t-224.003170754 \t-82.063420657\n",
      "5798.418452 \t-6.11096451792 \t-224.003170754 \t-82.063420657\n",
      "5798.418452 \t-6.11096450302 \t-224.003170754 \t-82.063420657\n",
      "5798.418452 \t-6.11096451792 \t-224.003170739 \t-82.063420657\n",
      "5798.418452 \t-6.11096451792 \t-224.003170754 \t-82.0634206421\n",
      "5798.41686468 \t-6.08227746688 \t-224.031026725 \t-82.0630186178\n",
      "5798.41686468 \t-6.08227746688 \t-224.031026725 \t-82.0630186178\n",
      "5798.41686468 \t-6.08227745198 \t-224.031026725 \t-82.0630186178\n",
      "5798.41686468 \t-6.08227746688 \t-224.03102671 \t-82.0630186178\n",
      "5798.41686468 \t-6.08227746688 \t-224.031026725 \t-82.0630186029\n",
      "5798.40937743 \t-5.94479288169 \t-224.175810501 \t-82.1035767243\n",
      "5798.40937743 \t-5.94479288169 \t-224.175810501 \t-82.1035767243\n",
      "5798.40937743 \t-5.94479286679 \t-224.175810501 \t-82.1035767243\n",
      "5798.40937743 \t-5.94479288169 \t-224.175810486 \t-82.1035767243\n",
      "5798.40937743 \t-5.94479288169 \t-224.175810501 \t-82.1035767094\n",
      "5798.38174306 \t-5.27306076081 \t-224.819388514 \t-82.0400817382\n",
      "5798.38174306 \t-5.27306076081 \t-224.819388514 \t-82.0400817382\n",
      "5798.38174306 \t-5.27306074591 \t-224.819388514 \t-82.0400817382\n",
      "5798.38174306 \t-5.27306076081 \t-224.819388499 \t-82.0400817382\n",
      "5798.38174306 \t-5.27306076081 \t-224.819388514 \t-82.0400817233\n",
      "5798.36417475 \t-4.17231753136 \t-225.900045599 \t-82.0236574154\n",
      "5798.36417475 \t-4.17231753136 \t-225.900045599 \t-82.0236574154\n",
      "5798.36417475 \t-4.17231751646 \t-225.900045599 \t-82.0236574154\n",
      "5798.36417475 \t-4.17231753136 \t-225.900045584 \t-82.0236574154\n",
      "5798.36417475 \t-4.17231753136 \t-225.900045599 \t-82.0236574005\n",
      "5798.36416601 \t-4.17287647271 \t-225.90297515 \t-82.0207811167\n",
      "5798.36416601 \t-4.17287647271 \t-225.90297515 \t-82.0207811167\n",
      "5798.36416601 \t-4.17287645781 \t-225.90297515 \t-82.0207811167\n",
      "5798.36416601 \t-4.17287647271 \t-225.902975135 \t-82.0207811167\n",
      "5798.36416601 \t-4.17287647271 \t-225.90297515 \t-82.0207811018\n",
      "5798.36412035 \t-4.1782054025 \t-225.922479136 \t-82.0260663371\n",
      "5798.36412035 \t-4.1782054025 \t-225.922479136 \t-82.0260663371\n",
      "5798.36412035 \t-4.1782053876 \t-225.922479136 \t-82.0260663371\n",
      "5798.36412035 \t-4.1782054025 \t-225.922479121 \t-82.0260663371\n",
      "5798.36412035 \t-4.1782054025 \t-225.922479136 \t-82.0260663222\n",
      "5798.36394264 \t-4.22179263834 \t-226.001590522 \t-82.0022741486\n",
      "5798.36394264 \t-4.22179263834 \t-226.001590522 \t-82.0022741486\n",
      "5798.36394264 \t-4.22179262344 \t-226.001590522 \t-82.0022741486\n",
      "5798.36394264 \t-4.22179263834 \t-226.001590507 \t-82.0022741486\n",
      "5798.36394264 \t-4.22179263834 \t-226.001590522 \t-82.0022741337\n",
      "5798.36387775 \t-4.29836944286 \t-226.064181615 \t-81.9929633081\n",
      "5798.36387775 \t-4.29836944286 \t-226.064181615 \t-81.9929633081\n",
      "5798.36387775 \t-4.29836942796 \t-226.064181615 \t-81.9929633081\n",
      "5798.36387775 \t-4.29836944286 \t-226.0641816 \t-81.9929633081\n",
      "5798.36387775 \t-4.29836944286 \t-226.064181615 \t-81.9929632932\n",
      "5798.36387664 \t-4.29857051221 \t-226.052403763 \t-81.9899824047\n",
      "5798.36387664 \t-4.29857051221 \t-226.052403763 \t-81.9899824047\n",
      "5798.36387664 \t-4.29857049731 \t-226.052403763 \t-81.9899824047\n",
      "5798.36387664 \t-4.29857051221 \t-226.052403748 \t-81.9899824047\n",
      "5798.36387664 \t-4.29857051221 \t-226.052403763 \t-81.9899823898\n",
      "5798.36387678 \t-4.29856021622 \t-226.051455482 \t-81.9928952783\n",
      "5798.36387667 \t-4.29856758956 \t-226.052134581 \t-81.9908092612\n",
      "5798.36387665 \t-4.29856953885 \t-226.052314115 \t-81.990257781\n",
      "5798.36387664 \t-4.29857017248 \t-226.052372474 \t-81.9900785173\n",
      "5798.36387664 \t-4.29857039176 \t-226.05239267 \t-81.9900164816\n",
      "5798.36387664 \t-4.29857046926 \t-226.052399808 \t-81.9899945551\n",
      "5798.36387664 \t-4.29857049687 \t-226.05240235 \t-81.9899867447\n",
      "5798.36387664 \t-4.29857050674 \t-226.052403259 \t-81.9899839528\n",
      "5798.36387664 \t-4.29857051026 \t-226.052403584 \t-81.9899829559\n",
      "5798.36387664 \t-4.29857051152 \t-226.052403699 \t-81.9899826008\n",
      "5798.36387664 \t-4.29857051197 \t-226.052403741 \t-81.9899824721\n"
     ]
    }
   ],
   "source": [
    "fit = scipy.optimize.minimize(wrapfcn,\n",
    "                              x0 = fit_pos,\n",
    "                              method='SLSQP',\n",
    "                              bounds=((-4000,4000),\n",
    "                                      (-4000,4000),\n",
    "                                      (-4000,4000)),\n",
    "                              options={'ftol':1E-7, 'maxiter':1000})"
   ]
  },
  {
   "cell_type": "code",
   "execution_count": 748,
   "metadata": {
    "collapsed": false
   },
   "outputs": [
    {
     "name": "stdout",
     "output_type": "stream",
     "text": [
      "     fun: 5798.363876641884\n",
      "     jac: array([  0.00000000e+00,   0.00000000e+00,   6.10351562e-05])\n",
      " message: 'Optimization terminated successfully.'\n",
      "    nfev: 81\n",
      "     nit: 14\n",
      "    njev: 14\n",
      "  status: 0\n",
      " success: True\n",
      "       x: array([  -4.29857051, -226.05240374,  -81.98998247])\n"
     ]
    }
   ],
   "source": [
    "print fit"
   ]
  },
  {
   "cell_type": "code",
   "execution_count": 438,
   "metadata": {
    "collapsed": false
   },
   "outputs": [
    {
     "name": "stdout",
     "output_type": "stream",
     "text": [
      "     fun: 11696.265783456125\n",
      "     jac: array([-0.00012207, -0.00012207,  0.        ])\n",
      " message: 'Optimization terminated successfully.'\n",
      "    nfev: 89\n",
      "     nit: 17\n",
      "    njev: 17\n",
      "  status: 0\n",
      " success: True\n",
      "       x: array([   4.11815418, -255.71129445,   26.82540701])\n"
     ]
    }
   ],
   "source": [
    "print fit"
   ]
  },
  {
   "cell_type": "code",
   "execution_count": 393,
   "metadata": {
    "collapsed": false
   },
   "outputs": [
    {
     "name": "stdout",
     "output_type": "stream",
     "text": [
      "DOF 5308\n"
     ]
    }
   ],
   "source": [
    "print 'DOF', np.sum(lbfit.pmtbool)"
   ]
  },
  {
   "cell_type": "code",
   "execution_count": 476,
   "metadata": {
    "collapsed": false
   },
   "outputs": [
    {
     "name": "stdout",
     "output_type": "stream",
     "text": [
      "[   3.82698131 -207.07707214   24.78620338]\n",
      "[   0. -254.   25.]\n"
     ]
    }
   ],
   "source": [
    "print fit_pos\n",
    "print manip_pos"
   ]
  },
  {
   "cell_type": "markdown",
   "metadata": {},
   "source": [
    "## Fitting with minuit"
   ]
  },
  {
   "cell_type": "code",
   "execution_count": 468,
   "metadata": {
    "collapsed": true
   },
   "outputs": [],
   "source": [
    "import iminuit"
   ]
  },
  {
   "cell_type": "code",
   "execution_count": 469,
   "metadata": {
    "collapsed": false
   },
   "outputs": [],
   "source": [
    "kwargs = {'u':fit_pos[0],\n",
    "          'v':fit_pos[1],\n",
    "          'w':fit_pos[2]}\n",
    "\n",
    "for one_key in kwargs.keys():\n",
    "    kwargs['error_'+one_key] = 50.\n",
    "    kwargs['limit_'+one_key] = (-1000., 1000.)\n",
    "    \n",
    "kwargs['print_level'] = 0.\n",
    "kwargs['errordef'] = 1.\n",
    "   \n",
    "fit = iminuit.Minuit(lbfit, **kwargs)"
   ]
  },
  {
   "cell_type": "code",
   "execution_count": 470,
   "metadata": {
    "collapsed": false
   },
   "outputs": [
    {
     "name": "stdout",
     "output_type": "stream",
     "text": [
      "13288.4756518 \t3.82698130608 \t-207.077072144 \t24.7862033844\n",
      "13289.6041334 \t6.64258932441 \t-207.077072144 \t24.7862033844\n",
      "13287.6069863 \t1.01134294795 \t-207.077072144 \t24.7862033844\n",
      "13288.634771 \t4.26670588457 \t-207.077072144 \t24.7862033844\n",
      "13288.3228697 \t3.38725598759 \t-207.077072144 \t24.7862033844\n",
      "13291.1953153 \t3.82698130608 \t-204.260373437 \t24.7862033844\n",
      "13285.9760454 \t3.82698130608 \t-209.89205538 \t24.7862033844\n",
      "13288.9216542 \t3.82698130608 \t-206.599210196 \t24.7862033844\n",
      "13288.0359864 \t3.82698130608 \t-207.554884691 \t24.7862033844\n",
      "13289.5090535 \t3.82698130608 \t-207.077072144 \t27.6017310861\n",
      "13287.644925 \t3.82698130608 \t-207.077072144 \t21.9704790627\n",
      "13288.6436323 \t3.82698130608 \t-207.077072144 \t25.284068735\n",
      "13288.3140084 \t3.82698130608 \t-207.077072144 \t24.2883318862\n",
      "13268.9735534 \t-6.99457698795 \t-240.341935334 \t11.8358441009\n",
      "13268.9719804 \t-6.55518222518 \t-240.341935334 \t11.8358441009\n",
      "13268.981454 \t-7.43397040022 \t-240.341935334 \t11.8358441009\n",
      "13268.9802178 \t-6.99457698795 \t-239.868147846 \t11.8358441009\n",
      "13268.9730737 \t-6.99457698795 \t-240.815665571 \t11.8358441009\n",
      "13268.9735327 \t-6.99457698795 \t-240.341935334 \t12.3334630147\n",
      "13268.9799067 \t-6.99457698795 \t-240.341935334 \t11.3382222558\n",
      "13268.9699592 \t-6.66719900311 \t-240.615753602 \t12.0844402529\n",
      "13268.9731226 \t-6.22780441026 \t-240.615753602 \t12.0844402529\n",
      "13268.9731235 \t-7.10659230869 \t-240.615753602 \t12.0844402529\n",
      "13268.9731544 \t-6.66719900311 \t-240.136554466 \t12.0844402529\n",
      "13268.9730903 \t-6.66719900311 \t-241.094894098 \t12.0844402529\n",
      "13268.9731546 \t-6.66719900311 \t-240.615753602 \t12.5818589543\n",
      "13268.9730914 \t-6.66719900311 \t-240.615753602 \t11.5870185611\n",
      "13268.9699592 \t-6.66719900311 \t-240.615753602 \t12.0844402529\n",
      "13268.9731226 \t-6.22780441026 \t-240.615753602 \t12.0844402529\n",
      "13268.9731235 \t-7.10659230869 \t-240.615753602 \t12.0844402529\n",
      "13268.9731544 \t-6.66719900311 \t-240.136554466 \t12.0844402529\n",
      "13268.9730903 \t-6.66719900311 \t-241.094894098 \t12.0844402529\n",
      "13268.9731546 \t-6.66719900311 \t-240.615753602 \t12.5818589543\n",
      "13268.9730914 \t-6.66719900311 \t-240.615753602 \t11.5870185611\n",
      "13268.9700857 \t-6.57932018481 \t-240.615753602 \t12.0844402529\n",
      "13268.9700859 \t-6.75507776993 \t-240.615753602 \t12.0844402529\n",
      "13268.9700921 \t-6.66719900311 \t-240.519918463 \t12.0844402529\n",
      "13268.9700794 \t-6.66719900311 \t-240.711586396 \t12.0844402529\n",
      "13268.9700921 \t-6.66719900311 \t-240.615753602 \t12.1839242364\n",
      "13268.9700795 \t-6.66719900311 \t-240.615753602 \t11.9849561499\n",
      "13268.976354 \t-6.22780441026 \t-240.136554466 \t12.0844402529\n",
      "13268.9764031 \t-6.22780441026 \t-240.615753602 \t12.5818589543\n",
      "13268.9763645 \t-6.66719900311 \t-240.136554466 \t12.5818589543\n"
     ]
    },
    {
     "data": {
      "text/plain": [
       "({'hesse_failed': False, 'has_reached_call_limit': False, 'has_accurate_covar': True, 'has_posdef_covar': True, 'up': 1.0, 'edm': 1.5814604910059457e-07, 'is_valid': True, 'is_above_max_edm': False, 'has_covariance': True, 'has_made_posdef_covar': False, 'has_valid_parameters': True, 'fval': 13268.969959228569, 'nfcn': 43},\n",
       " [{'is_const': False, 'name': 'u', 'has_limits': True, 'value': -6.667199003112273, 'number': 0, 'has_lower_limit': True, 'upper_limit': 1000.0, 'lower_limit': -1000.0, 'has_upper_limit': True, 'error': 7.812490100592811, 'is_fixed': False},\n",
       "  {'is_const': False, 'name': 'v', 'has_limits': True, 'value': -240.61575360239544, 'number': 1, 'has_lower_limit': True, 'upper_limit': 1000.0, 'lower_limit': -1000.0, 'has_upper_limit': True, 'error': 8.519860005898863, 'is_fixed': False},\n",
       "  {'is_const': False, 'name': 'w', 'has_limits': True, 'value': 12.084440252946138, 'number': 2, 'has_lower_limit': True, 'upper_limit': 1000.0, 'lower_limit': -1000.0, 'has_upper_limit': True, 'error': 8.844128301008027, 'is_fixed': False}])"
      ]
     },
     "execution_count": 470,
     "metadata": {},
     "output_type": "execute_result"
    }
   ],
   "source": [
    "fit.migrad(ncall=1000)"
   ]
  },
  {
   "cell_type": "code",
   "execution_count": 471,
   "metadata": {
    "collapsed": false,
    "scrolled": true
   },
   "outputs": [
    {
     "name": "stdout",
     "output_type": "stream",
     "text": [
      "13268.9699592 \t-6.66719900311 \t-240.615753602 \t12.0844402529\n",
      "13268.9731233 \t-6.2277590512 \t-240.615753602 \t12.0844402529\n",
      "13268.9731242 \t-7.10663766749 \t-240.615753602 \t12.0844402529\n",
      "13268.9731552 \t-6.66719900311 \t-240.136494201 \t12.0844402529\n",
      "13268.9730911 \t-6.66719900311 \t-241.094954348 \t12.0844402529\n",
      "13268.9731553 \t-6.66719900311 \t-240.615753602 \t12.5819073865\n",
      "13268.973092 \t-6.66719900311 \t-240.615753602 \t11.5869701283\n",
      "13268.9699592 \t-6.66719900311 \t-240.615753602 \t12.0844402529\n",
      "13268.9731233 \t-6.2277590512 \t-240.615753602 \t12.0844402529\n",
      "13268.9731242 \t-7.10663766749 \t-240.615753602 \t12.0844402529\n",
      "13268.9731552 \t-6.66719900311 \t-240.136494201 \t12.0844402529\n",
      "13268.9730911 \t-6.66719900311 \t-241.094954348 \t12.0844402529\n",
      "13268.9731553 \t-6.66719900311 \t-240.615753602 \t12.5819073865\n",
      "13268.973092 \t-6.66719900311 \t-240.615753602 \t11.5869701283\n",
      "13268.9700857 \t-6.57931111302 \t-240.615753602 \t12.0844402529\n",
      "13268.9700859 \t-6.75508684171 \t-240.615753602 \t12.0844402529\n",
      "13268.9700921 \t-6.66719900311 \t-240.519906411 \t12.0844402529\n",
      "13268.9700795 \t-6.66719900311 \t-240.711598448 \t12.0844402529\n",
      "13268.9700921 \t-6.66719900311 \t-240.615753602 \t12.1839339229\n",
      "13268.9700795 \t-6.66719900311 \t-240.615753602 \t11.9849464634\n",
      "13268.9763555 \t-6.2277590512 \t-240.136494201 \t12.0844402529\n",
      "13268.9764044 \t-6.2277590512 \t-240.615753602 \t12.5819073865\n",
      "13268.9763659 \t-6.66719900311 \t-240.136494201 \t12.5819073865\n"
     ]
    },
    {
     "data": {
      "text/plain": [
       "[{'is_const': False, 'name': 'u', 'has_limits': True, 'value': -6.667199003112273, 'number': 0, 'has_lower_limit': True, 'upper_limit': 1000.0, 'lower_limit': -1000.0, 'has_upper_limit': True, 'error': 7.812490104299911, 'is_fixed': False},\n",
       " {'is_const': False, 'name': 'v', 'has_limits': True, 'value': -240.61575360239544, 'number': 1, 'has_lower_limit': True, 'upper_limit': 1000.0, 'lower_limit': -1000.0, 'has_upper_limit': True, 'error': 8.51986000797632, 'is_fixed': False},\n",
       " {'is_const': False, 'name': 'w', 'has_limits': True, 'value': 12.084440252946138, 'number': 2, 'has_lower_limit': True, 'upper_limit': 1000.0, 'lower_limit': -1000.0, 'has_upper_limit': True, 'error': 8.844128302665126, 'is_fixed': False}]"
      ]
     },
     "execution_count": 471,
     "metadata": {},
     "output_type": "execute_result"
    }
   ],
   "source": [
    "fit.hesse()"
   ]
  },
  {
   "cell_type": "code",
   "execution_count": 474,
   "metadata": {
    "collapsed": false
   },
   "outputs": [
    {
     "data": {
      "text/html": [
       "\n",
       "            <table>\n",
       "                <tr>\n",
       "                    <td><a onclick=\"$('#VNRZWXpaCU').toggle()\" href=\"#\">+</a></td>\n",
       "        \n",
       "            <td>\n",
       "            <div style=\"width:20px;position:relative; width: -moz-fit-content;\">\n",
       "            <div style=\"display:inline-block;-webkit-writing-mode:vertical-rl;-moz-writing-mode: vertical-rl;writing-mode: vertical-rl;\">\n",
       "            u\n",
       "            </div>\n",
       "            </div>\n",
       "            </td>\n",
       "            \n",
       "            <td>\n",
       "            <div style=\"width:20px;position:relative; width: -moz-fit-content;\">\n",
       "            <div style=\"display:inline-block;-webkit-writing-mode:vertical-rl;-moz-writing-mode: vertical-rl;writing-mode: vertical-rl;\">\n",
       "            v\n",
       "            </div>\n",
       "            </div>\n",
       "            </td>\n",
       "            \n",
       "            <td>\n",
       "            <div style=\"width:20px;position:relative; width: -moz-fit-content;\">\n",
       "            <div style=\"display:inline-block;-webkit-writing-mode:vertical-rl;-moz-writing-mode: vertical-rl;writing-mode: vertical-rl;\">\n",
       "            w\n",
       "            </div>\n",
       "            </div>\n",
       "            </td>\n",
       "            \n",
       "                </tr>\n",
       "                \n",
       "            <tr>\n",
       "                <td>u</td>\n",
       "            \n",
       "                <td style=\"background-color:rgb(255,117,117)\">\n",
       "                1.00\n",
       "                </td>\n",
       "                \n",
       "                <td style=\"background-color:rgb(164,253,186)\">\n",
       "                -0.01\n",
       "                </td>\n",
       "                \n",
       "                <td style=\"background-color:rgb(164,252,185)\">\n",
       "                -0.01\n",
       "                </td>\n",
       "                \n",
       "            </tr>\n",
       "            \n",
       "            <tr>\n",
       "                <td>v</td>\n",
       "            \n",
       "                <td style=\"background-color:rgb(164,253,186)\">\n",
       "                -0.01\n",
       "                </td>\n",
       "                \n",
       "                <td style=\"background-color:rgb(255,117,117)\">\n",
       "                1.00\n",
       "                </td>\n",
       "                \n",
       "                <td style=\"background-color:rgb(163,254,186)\">\n",
       "                -0.00\n",
       "                </td>\n",
       "                \n",
       "            </tr>\n",
       "            \n",
       "            <tr>\n",
       "                <td>w</td>\n",
       "            \n",
       "                <td style=\"background-color:rgb(164,252,185)\">\n",
       "                -0.01\n",
       "                </td>\n",
       "                \n",
       "                <td style=\"background-color:rgb(163,254,186)\">\n",
       "                -0.00\n",
       "                </td>\n",
       "                \n",
       "                <td style=\"background-color:rgb(255,117,117)\">\n",
       "                1.00\n",
       "                </td>\n",
       "                \n",
       "            </tr>\n",
       "            </table>\n",
       "\n",
       "            <pre id=\"VNRZWXpaCU\" style=\"display:none;\">\n",
       "            <textarea rows=\"15\" cols=\"50\" onclick=\"this.select()\" readonly>%\\usepackage[table]{xcolor} % include this for color\n",
       "%\\usepackage{rotating} % include this for rotate header\n",
       "%\\documentclass[xcolor=table]{beamer} % for beamer\n",
       "\\begin{tabular}{|c|c|c|c|}\n",
       "\\hline\n",
       "\\rotatebox{90}{} & \\rotatebox{90}{u} & \\rotatebox{90}{v} & \\rotatebox{90}{w}\\\\\n",
       "\\hline\n",
       "u & \\cellcolor[RGB]{255,117,117} 1.00 & \\cellcolor[RGB]{164,253,186} -0.01 & \\cellcolor[RGB]{164,252,185} -0.01\\\\\n",
       "\\hline\n",
       "v & \\cellcolor[RGB]{164,253,186} -0.01 & \\cellcolor[RGB]{255,117,117} 1.00 & \\cellcolor[RGB]{163,254,186} -0.00\\\\\n",
       "\\hline\n",
       "w & \\cellcolor[RGB]{164,252,185} -0.01 & \\cellcolor[RGB]{163,254,186} -0.00 & \\cellcolor[RGB]{255,117,117} 1.00\\\\\n",
       "\\hline\n",
       "\\end{tabular}</textarea>\n",
       "            </pre>\n",
       "            "
      ]
     },
     "metadata": {},
     "output_type": "display_data"
    }
   ],
   "source": [
    "fit.print_matrix()"
   ]
  },
  {
   "cell_type": "code",
   "execution_count": 473,
   "metadata": {
    "collapsed": false
   },
   "outputs": [
    {
     "ename": "NameError",
     "evalue": "name 'myfit_pos' is not defined",
     "output_type": "error",
     "traceback": [
      "\u001b[0;31m---------------------------------------------------------------------------\u001b[0m",
      "\u001b[0;31mNameError\u001b[0m                                 Traceback (most recent call last)",
      "\u001b[0;32m<ipython-input-473-4ebe9b113300>\u001b[0m in \u001b[0;36m<module>\u001b[0;34m()\u001b[0m\n\u001b[1;32m     16\u001b[0m \u001b[0;34m\u001b[0m\u001b[0m\n\u001b[1;32m     17\u001b[0m \u001b[0;31m# Myfit\u001b[0m\u001b[0;34m\u001b[0m\u001b[0;34m\u001b[0m\u001b[0m\n\u001b[0;32m---> 18\u001b[0;31m \u001b[0mmyfit_dis\u001b[0m \u001b[0;34m=\u001b[0m \u001b[0mpmt_info\u001b[0m\u001b[0;34m[\u001b[0m\u001b[0;34m'xyz'\u001b[0m\u001b[0;34m]\u001b[0m\u001b[0;34m*\u001b[0m\u001b[0mmyfit_pos\u001b[0m\u001b[0;34m\u001b[0m\u001b[0m\n\u001b[0m\u001b[1;32m     19\u001b[0m \u001b[0mmyfit_dcost\u001b[0m \u001b[0;34m=\u001b[0m \u001b[0mnp\u001b[0m\u001b[0;34m.\u001b[0m\u001b[0msum\u001b[0m\u001b[0;34m(\u001b[0m\u001b[0mmyfit_dis\u001b[0m\u001b[0;34m,\u001b[0m\u001b[0maxis\u001b[0m\u001b[0;34m=\u001b[0m\u001b[0;36m1\u001b[0m\u001b[0;34m)\u001b[0m\u001b[0;34m/\u001b[0m\u001b[0mpmt_r\u001b[0m\u001b[0;34m\u001b[0m\u001b[0m\n\u001b[1;32m     20\u001b[0m \u001b[0mmyfit_dcost_x\u001b[0m \u001b[0;34m=\u001b[0m \u001b[0mmyfit_dis\u001b[0m\u001b[0;34m[\u001b[0m\u001b[0;34m:\u001b[0m\u001b[0;34m,\u001b[0m\u001b[0;36m0\u001b[0m\u001b[0;34m]\u001b[0m\u001b[0;34m/\u001b[0m\u001b[0mpmt_r\u001b[0m\u001b[0;34m\u001b[0m\u001b[0m\n",
      "\u001b[0;31mNameError\u001b[0m: name 'myfit_pos' is not defined"
     ]
    }
   ],
   "source": [
    "# Calculating the displacements wrt fit and manip\n",
    "\n",
    "# MANIP\n",
    "manip_dis = pmt_info['xyz']*manip_pos\n",
    "manip_dcost = np.sum(manip_dis,axis=1)/pmt_r\n",
    "manip_dcost_x = manip_dis[:,0]/pmt_r\n",
    "manip_dcost_y = manip_dis[:,1]/pmt_r\n",
    "manip_dcost_z = manip_dis[:,2]/pmt_r\n",
    "\n",
    "# FIT\n",
    "fit_dis = pmt_info['xyz']*fit_pos\n",
    "fit_dcost = np.sum(fit_dis,axis=1)/pmt_r\n",
    "fit_dcost_x = fit_dis[:,0]/pmt_r\n",
    "fit_dcost_y = fit_dis[:,1]/pmt_r\n",
    "fit_dcost_z = fit_dis[:,2]/pmt_r\n",
    "\n",
    "# Myfit\n",
    "myfit_dis = pmt_info['xyz']*myfit_pos\n",
    "myfit_dcost = np.sum(myfit_dis,axis=1)/pmt_r\n",
    "myfit_dcost_x = myfit_dis[:,0]/pmt_r\n",
    "myfit_dcost_y = myfit_dis[:,1]/pmt_r\n",
    "myfit_dcost_z = myfit_dis[:,2]/pmt_r\n"
   ]
  },
  {
   "cell_type": "code",
   "execution_count": 80,
   "metadata": {
    "collapsed": true
   },
   "outputs": [],
   "source": [
    "# Time differences\n",
    "tdiff_manip = 2*R/water_c * (1+ manip_dcost/R)\n",
    "tdiff_fit = 2*R/water_c * (1+ fit_dcost/R)\n",
    "tdiff_myfit = 2*R/water_c * (1+myfit_dcost/R)"
   ]
  },
  {
   "cell_type": "code",
   "execution_count": 81,
   "metadata": {
    "collapsed": true
   },
   "outputs": [],
   "source": [
    "idelta = 0"
   ]
  },
  {
   "cell_type": "code",
   "execution_count": 84,
   "metadata": {
    "collapsed": false
   },
   "outputs": [
    {
     "data": {
      "text/plain": [
       "(70, 80)"
      ]
     },
     "execution_count": 84,
     "metadata": {},
     "output_type": "execute_result"
    },
    {
     "data": {
      "image/png": "[encoded data removed]",
      "text/plain": [
       "<matplotlib.figure.Figure at 0x7f83d2416b50>"
      ]
     },
     "metadata": {},
     "output_type": "display_data"
    }
   ],
   "source": [
    "# Total displacement\n",
    "\n",
    "#plt.plot(manip_dcost[pmtbool], tdiff_manip[pmtbool], 'x')\n",
    "#plt.plot(fit_dcost[pmtbool], tdiff_fit[pmtbool], 'x')\n",
    "plt.plot(fit_dcost[pmtbool], delta_ts[pmtbool,idelta], '.')\n",
    "plt.plot(myfit_dcost[pmtbool], delta_ts[pmtbool,idelta], '.')\n",
    "\n",
    "plt.title('Total')\n",
    "plt.xlabel('Displacement (mm)')\n",
    "plt.ylabel('Time (ns)')\n",
    "plt.ylim([70, 80])"
   ]
  },
  {
   "cell_type": "code",
   "execution_count": 87,
   "metadata": {
    "collapsed": false
   },
   "outputs": [
    {
     "data": {
      "text/plain": [
       "688.56533084246291"
      ]
     },
     "execution_count": 87,
     "metadata": {},
     "output_type": "execute_result"
    }
   ],
   "source": [
    "np.linalg.norm(myfit_pos)"
   ]
  },
  {
   "cell_type": "code",
   "execution_count": 88,
   "metadata": {
    "collapsed": false
   },
   "outputs": [
    {
     "data": {
      "text/plain": [
       "(70, 80)"
      ]
     },
     "execution_count": 88,
     "metadata": {},
     "output_type": "execute_result"
    },
    {
     "data": {
      "image/png": "[encoded data removed]",
      "text/plain": [
       "<matplotlib.figure.Figure at 0x7f83d2408610>"
      ]
     },
     "metadata": {},
     "output_type": "display_data"
    }
   ],
   "source": [
    "#plt.plot(manip_dcost_x[pmtbool], tdiff_manip[pmtbool], 'x')\n",
    "#plt.plot(fit_dcost_x[pmtbool], tdiff_fit[pmtbool], '.')\n",
    "plt.plot(fit_dcost_x[pmtbool], delta_ts[pmtbool,idelta], '.')\n",
    "plt.plot(myfit_dcost[pmtbool], delta_ts[pmtbool,idelta], '.')\n",
    "\n",
    "plt.title('X')\n",
    "plt.xlabel('Displacement in x (mm)')\n",
    "plt.ylabel('Time (ns)')\n",
    "plt.ylim([70, 80])"
   ]
  },
  {
   "cell_type": "code",
   "execution_count": 89,
   "metadata": {
    "collapsed": false
   },
   "outputs": [
    {
     "data": {
      "text/plain": [
       "(70, 80)"
      ]
     },
     "execution_count": 89,
     "metadata": {},
     "output_type": "execute_result"
    },
    {
     "data": {
      "image/png": "[encoded data removed]",
      "text/plain": [
       "<matplotlib.figure.Figure at 0x7f83d13767d0>"
      ]
     },
     "metadata": {},
     "output_type": "display_data"
    }
   ],
   "source": [
    "#plt.plot(manip_dcost_y[pmtbool], tdiff_manip[pmtbool], 'x')\n",
    "#plt.plot(fit_dcost_y[pmtbool], tdiff_fit[pmtbool], '.')\n",
    "plt.plot(fit_dcost_y[pmtbool], delta_ts[pmtbool,idelta], '.')\n",
    "plt.plot(myfit_dcost_y[pmtbool], delta_ts[pmtbool,idelta], '.')\n",
    "\n",
    "plt.title('Y')\n",
    "plt.xlabel('Displacement in y (mm)')\n",
    "plt.ylabel('Time (ns)')\n",
    "plt.ylim([70, 80])"
   ]
  },
  {
   "cell_type": "code",
   "execution_count": 90,
   "metadata": {
    "collapsed": false,
    "scrolled": true
   },
   "outputs": [
    {
     "data": {
      "text/plain": [
       "(70, 80)"
      ]
     },
     "execution_count": 90,
     "metadata": {},
     "output_type": "execute_result"
    },
    {
     "data": {
      "image/png": "[encoded data removed]",
      "text/plain": [
       "<matplotlib.figure.Figure at 0x7f83d11d7750>"
      ]
     },
     "metadata": {},
     "output_type": "display_data"
    }
   ],
   "source": [
    "#plt.plot(manip_dcost_z[pmtbool], tdiff_manip[pmtbool], 'x')\n",
    "#plt.plot(fit_dcost_z[pmtbool], tdiff_fit[pmtbool], '.')\n",
    "plt.plot(fit_dcost_z[pmtbool], delta_ts[pmtbool,idelta], '.')\n",
    "plt.plot(myfit_dcost_z[pmtbool], delta_ts[pmtbool,idelta], '.')\n",
    "\n",
    "plt.title('Z')\n",
    "plt.xlabel('Displacement in z (mm)')\n",
    "plt.ylabel('Time (ns)')\n",
    "plt.ylim([70, 80])"
   ]
  },
  {
   "cell_type": "markdown",
   "metadata": {},
   "source": [
    "## Test part of the algorithm"
   ]
  },
  {
   "cell_type": "code",
   "execution_count": 477,
   "metadata": {
    "collapsed": true
   },
   "outputs": [],
   "source": [
    "reader = rat.socreader(infile_name)\n",
    "soc, run = reader.next()\n",
    "soc.GetRunID()\n",
    "soc_pmts = np.array(soc.GetSOCPMTIDs())"
   ]
  },
  {
   "cell_type": "code",
   "execution_count": 478,
   "metadata": {
    "collapsed": false
   },
   "outputs": [],
   "source": [
    "time_array = np.array(soc.GetSOCPMT(120).GetTimes())\n",
    "nbins = 600\n",
    "twindow = [110, 220]\n",
    "\n",
    "ybins  = np.linspace(0, 300, nbins+1)\n",
    "smooth_coeff = 1./(ybins[1]-ybins[0])\n",
    "n, x = np.histogram(time_array, ybins)\n",
    "    \n",
    "nsmooth = ndimage.filters.gaussian_filter1d(n, sigma=smooth_coeff)\n",
    "nsmooth[nsmooth<=0] = 1"
   ]
  },
  {
   "cell_type": "code",
   "execution_count": 479,
   "metadata": {
    "collapsed": false
   },
   "outputs": [],
   "source": [
    "peaks = detect_peaks(nsmooth, mpd = 10*smooth_coeff,\n",
    "                         edge='rising',show=False, mph=1.1)\n"
   ]
  },
  {
   "cell_type": "code",
   "execution_count": 480,
   "metadata": {
    "collapsed": false
   },
   "outputs": [
    {
     "data": {
      "text/plain": [
       "8863"
      ]
     },
     "execution_count": 480,
     "metadata": {},
     "output_type": "execute_result"
    }
   ],
   "source": [
    "time_array.size"
   ]
  },
  {
   "cell_type": "code",
   "execution_count": 481,
   "metadata": {
    "collapsed": false
   },
   "outputs": [
    {
     "name": "stderr",
     "output_type": "stream",
     "text": [
      "/home/jp/anaconda2/lib/python2.7/site-packages/ipykernel/__main__.py:15: RuntimeWarning: divide by zero encountered in log10\n"
     ]
    },
    {
     "data": {
      "image/png": "[encoded data removed]",
      "text/plain": [
       "<matplotlib.figure.Figure at 0x7f07a7ee4250>"
      ]
     },
     "metadata": {},
     "output_type": "display_data"
    }
   ],
   "source": [
    "fig = plt.figure(figsize=(8,8))\n",
    "ax1 = fig.add_subplot(211)\n",
    "jplot.unfilledBar(ybins, n, color = '0.8')\n",
    "jplot.unfilledBar(ybins, nsmooth, color='red')\n",
    "plt.yscale('log')\n",
    "plt.plot((ybins[peaks]+ybins[peaks-1])/2., \n",
    "         nsmooth[peaks], 'xg', markersize=12)\n",
    "plt.xlim(twindow)\n",
    "plt.ylabel('Number of photons')\n",
    "\n",
    "\n",
    "    \n",
    "\n",
    "dx = (ybins[1]-ybins[0])/2.\n",
    "dn = np.diff(np.log10(n))/dx\n",
    "dnsmooth = np.diff(np.log10(nsmooth))/dx  \n",
    "# Smoothing over the derivative\n",
    "dnsmooth = ndimage.filters.gaussian_filter1d(dnsmooth, \n",
    "                                         sigma=smooth_coeff)\n",
    "ydn = ybins[1:-1]\n",
    "peaks2 = detect_peaks(dnsmooth, mpd = 10*smooth_coeff,\n",
    "                                 edge='rising',show=False, mph=0.1)\n",
    "\n",
    "ax2 = fig.add_subplot(212,sharex=ax1)\n",
    "plt.plot(ydn, dn, color = '0.8')\n",
    "\n",
    "plt.plot(ydn, dnsmooth, color = 'red')\n",
    "plt.subplots_adjust(hspace=0.)\n",
    "plt.xlim(twindow)\n",
    "plt.plot((ydn[peaks2]+ydn[peaks2-1])/2., \n",
    "          dnsmooth[peaks2], 'xg', markersize=12)\n",
    "plt.ylabel('dN/dt')\n",
    "plt.xlabel('Time of arrival (ns)')\n",
    "plt.show()"
   ]
  },
  {
   "cell_type": "code",
   "execution_count": 506,
   "metadata": {
    "collapsed": false
   },
   "outputs": [
    {
     "data": {
      "text/plain": [
       "array([ 204.71652222,  125.48567963,  128.57115173, ...,  135.47254944,\n",
       "        183.67631531,  129.77758789])"
      ]
     },
     "execution_count": 506,
     "metadata": {},
     "output_type": "execute_result"
    }
   ],
   "source": [
    "time_array"
   ]
  },
  {
   "cell_type": "code",
   "execution_count": 507,
   "metadata": {
    "collapsed": false
   },
   "outputs": [
    {
     "name": "stderr",
     "output_type": "stream",
     "text": [
      "/home/jp/anaconda2/lib/python2.7/site-packages/ipykernel/__main__.py:39: RuntimeWarning: divide by zero encountered in log10\n"
     ]
    },
    {
     "ename": "ValueError",
     "evalue": "attempt to get argmax of an empty sequence",
     "output_type": "error",
     "traceback": [
      "\u001b[0;31m---------------------------------------------------------------------------\u001b[0m",
      "\u001b[0;31mValueError\u001b[0m                                Traceback (most recent call last)",
      "\u001b[0;32m<ipython-input-507-8753a44508bc>\u001b[0m in \u001b[0;36m<module>\u001b[0;34m()\u001b[0m\n\u001b[0;32m----> 1\u001b[0;31m \u001b[0mgetTimeDiff2\u001b[0m\u001b[0;34m(\u001b[0m\u001b[0mtime_array\u001b[0m\u001b[0;34m,\u001b[0m \u001b[0mplot\u001b[0m\u001b[0;34m=\u001b[0m\u001b[0mTrue\u001b[0m\u001b[0;34m)\u001b[0m\u001b[0;34m\u001b[0m\u001b[0m\n\u001b[0m",
      "\u001b[0;32m<ipython-input-505-3b0ac74829f5>\u001b[0m in \u001b[0;36mgetTimeDiff2\u001b[0;34m(time_array, bin_width, twindow, plot)\u001b[0m\n\u001b[1;32m     56\u001b[0m     \u001b[0mhighest_dpeak\u001b[0m \u001b[0;34m=\u001b[0m \u001b[0mdpeaks\u001b[0m\u001b[0;34m[\u001b[0m\u001b[0mdnsmooth\u001b[0m\u001b[0;34m[\u001b[0m\u001b[0mdpeaks\u001b[0m\u001b[0;34m]\u001b[0m\u001b[0;34m.\u001b[0m\u001b[0margmax\u001b[0m\u001b[0;34m(\u001b[0m\u001b[0;34m)\u001b[0m\u001b[0;34m]\u001b[0m\u001b[0;34m\u001b[0m\u001b[0m\n\u001b[1;32m     57\u001b[0m     \u001b[0;31m# Obtain the latest peak\u001b[0m\u001b[0;34m\u001b[0m\u001b[0;34m\u001b[0m\u001b[0m\n\u001b[0;32m---> 58\u001b[0;31m     \u001b[0mlatest_dpeak\u001b[0m \u001b[0;34m=\u001b[0m \u001b[0mdpeaks2\u001b[0m\u001b[0;34m[\u001b[0m\u001b[0mydn2\u001b[0m\u001b[0;34m[\u001b[0m\u001b[0mdpeaks2\u001b[0m\u001b[0;34m]\u001b[0m\u001b[0;34m.\u001b[0m\u001b[0margmax\u001b[0m\u001b[0;34m(\u001b[0m\u001b[0;34m)\u001b[0m\u001b[0;34m]\u001b[0m\u001b[0;34m\u001b[0m\u001b[0m\n\u001b[0m\u001b[1;32m     59\u001b[0m     \u001b[0;31m# Getting the time difference between highest ones\u001b[0m\u001b[0;34m\u001b[0m\u001b[0;34m\u001b[0m\u001b[0m\n\u001b[1;32m     60\u001b[0m     \u001b[0mtdiff_dpeak\u001b[0m \u001b[0;34m=\u001b[0m \u001b[0mydn\u001b[0m\u001b[0;34m[\u001b[0m\u001b[0mlatest_dpeak\u001b[0m\u001b[0;34m]\u001b[0m \u001b[0;34m-\u001b[0m \u001b[0mydn\u001b[0m\u001b[0;34m[\u001b[0m\u001b[0mhighest_dpeak\u001b[0m\u001b[0;34m]\u001b[0m\u001b[0;34m\u001b[0m\u001b[0m\n",
      "\u001b[0;31mValueError\u001b[0m: attempt to get argmax of an empty sequence"
     ]
    }
   ],
   "source": [
    "getTimeDiff2(time_array, plot=True)"
   ]
  },
  {
   "cell_type": "code",
   "execution_count": 647,
   "metadata": {
    "collapsed": false
   },
   "outputs": [
    {
     "data": {
      "image/png": "[encoded data removed]",
      "text/plain": [
       "<matplotlib.figure.Figure at 0x7f07a5a05b10>"
      ]
     },
     "metadata": {},
     "output_type": "display_data"
    },
    {
     "ename": "ValueError",
     "evalue": "attempt to get argmax of an empty sequence",
     "output_type": "error",
     "traceback": [
      "\u001b[0;31m---------------------------------------------------------------------------\u001b[0m",
      "\u001b[0;31mValueError\u001b[0m                                Traceback (most recent call last)",
      "\u001b[0;32m<ipython-input-647-fe1c2f2e99d2>\u001b[0m in \u001b[0;36m<module>\u001b[0;34m()\u001b[0m\n\u001b[1;32m     26\u001b[0m                      edge='rising',show=True, mph=1.1)\n\u001b[1;32m     27\u001b[0m \u001b[0;31m# Obtain the latest peak\u001b[0m\u001b[0;34m\u001b[0m\u001b[0;34m\u001b[0m\u001b[0m\n\u001b[0;32m---> 28\u001b[0;31m \u001b[0mlatest_peak\u001b[0m \u001b[0;34m=\u001b[0m \u001b[0mpeaks2\u001b[0m\u001b[0;34m[\u001b[0m\u001b[0mybins2\u001b[0m\u001b[0;34m[\u001b[0m\u001b[0mpeaks2\u001b[0m\u001b[0;34m]\u001b[0m\u001b[0;34m.\u001b[0m\u001b[0margmax\u001b[0m\u001b[0;34m(\u001b[0m\u001b[0;34m)\u001b[0m\u001b[0;34m]\u001b[0m\u001b[0;34m\u001b[0m\u001b[0m\n\u001b[0m\u001b[1;32m     29\u001b[0m \u001b[0;34m\u001b[0m\u001b[0m\n\u001b[1;32m     30\u001b[0m \u001b[0;31m# Getting the time difference between highest ones\u001b[0m\u001b[0;34m\u001b[0m\u001b[0;34m\u001b[0m\u001b[0m\n",
      "\u001b[0;31mValueError\u001b[0m: attempt to get argmax of an empty sequence"
     ]
    }
   ],
   "source": [
    "plot = True\n",
    "\n",
    "# Using the whole time window\n",
    "ybins  = np.linspace(0, 300, int(300/bin_width)+1)\n",
    "smooth_coeff = 1./bin_width\n",
    "n, x = np.histogram(time_array, ybins)\n",
    "nsmooth = ndimage.filters.gaussian_filter1d(n, sigma=smooth_coeff)\n",
    "# Will use log(n) - zeros go away\n",
    "nsmooth[nsmooth<=0] = 1\n",
    "# Peak finding algorithm\n",
    "peaks = detect_peaks(nsmooth, \n",
    "                     mpd = 10*smooth_coeff,\n",
    "                     edge='rising',show=False, mph=1.1)\n",
    "# Obtain the highest peak\n",
    "highest_peak = peaks[nsmooth[peaks].argmax()]\n",
    "\n",
    "\n",
    "# Do a histogram of late light only\n",
    "ybins2 = np.linspace(ybins[highest_peak] + 55.,\n",
    "                     ybins[highest_peak] + 55. + 20., \n",
    "                     int(20/bin_width/2.))\n",
    "n, x = np.histogram(time_array, ybins2)\n",
    "nsmooth2 = ndimage.filters.gaussian_filter1d(n, sigma=smooth_coeff/2.)\n",
    "peaks2 = detect_peaks(nsmooth2, \n",
    "                     mpd = 2*smooth_coeff,\n",
    "                     edge='rising',show=True, mph=1.1)\n",
    "# Obtain the latest peak\n",
    "latest_peak = peaks2[ybins2[peaks2].argmax()]\n",
    "\n",
    "# Getting the time difference between highest ones\n",
    "print latest_peak, highest_peak, ybins.shape, ybins2.shape\n",
    "tdiff_peak = ybins2[latest_peak] - ybins[highest_peak]\n",
    "\n",
    "\n",
    "# Finding the peaks of the derivative\n",
    "dx = (ybins[1]-ybins[0])/2.\n",
    "dn = np.diff(np.log10(n))/dx\n",
    "ydn = ybins[1:-1]\n",
    "ydn2 = ybins2[1:-1]\n",
    "\n",
    "# Derivating, and smoothing over it\n",
    "dnsmooth = np.diff(np.log10(nsmooth))/dx  \n",
    "dnsmooth2 = np.diff(np.log10(nsmooth2))/dx\n",
    "dnsmooth = ndimage.filters.gaussian_filter1d(dnsmooth, \n",
    "                                             sigma=smooth_coeff)\n",
    "dnsmooth2 = ndimage.filters.gaussian_filter1d(dnsmooth2, \n",
    "                                             sigma=smooth_coeff/5.)\n",
    "dpeaks = detect_peaks(dnsmooth, mpd = 10*smooth_coeff,\n",
    "                      edge='rising',show=False, mph=0.1)\n",
    "dpeaks2 = detect_peaks(dnsmooth2, mpd = 1.,\n",
    "                      edge='rising',show=True, mph=0.01)\n",
    "\n",
    "# Obtain the highest peak\n",
    "highest_dpeak = dpeaks[dnsmooth[dpeaks].argmax()]\n",
    "# Obtain the latest peak\n",
    "latest_dpeak = dpeaks2[ydn2[dpeaks2].argmax()]\n",
    "# Getting the time difference between highest ones\n",
    "tdiff_dpeak = ydn2[latest_dpeak] - ydn[highest_dpeak]\n",
    "\n"
   ]
  },
  {
   "cell_type": "code",
   "execution_count": 725,
   "metadata": {
    "collapsed": false
   },
   "outputs": [
    {
     "data": {
      "image/png": "[encoded data removed]",
      "text/plain": [
       "<matplotlib.figure.Figure at 0x7f07a5aa0290>"
      ]
     },
     "metadata": {},
     "output_type": "display_data"
    },
    {
     "data": {
      "image/png": "[encoded data removed]",
      "text/plain": [
       "<matplotlib.figure.Figure at 0x7f07a5e3b790>"
      ]
     },
     "metadata": {},
     "output_type": "display_data"
    },
    {
     "name": "stdout",
     "output_type": "stream",
     "text": [
      "\n"
     ]
    }
   ],
   "source": [
    "time_gap = 55.\n",
    "# Using the whole time window\n",
    "ybins  = np.linspace(0, 300, int(300/bin_width)+1)\n",
    "smooth_coeff = 1./bin_width\n",
    "n, x = np.histogram(time_array, ybins)\n",
    "nsmooth = ndimage.filters.gaussian_filter1d(n, sigma=smooth_coeff)\n",
    "# Will use log(n) - zeros go away\n",
    "nsmooth[nsmooth<=0] = 1\n",
    "# Peak finding algorithm\n",
    "peaks = detect_peaks(nsmooth, \n",
    "                     mpd = 10*smooth_coeff,\n",
    "                     edge='rising',show=False, mph=1.1)\n",
    "# Obtain the highest peak\n",
    "highest_peak = peaks[nsmooth[peaks].argmax()]\n",
    "\n",
    "\n",
    "# Do a histogram of late light only\n",
    "ybins2 = np.linspace(ybins[highest_peak] + time_gap,\n",
    "                     ybins[highest_peak] + time_gap + 40., \n",
    "                     int(20/bin_width/2.))\n",
    "n, x = np.histogram(time_array, ybins2)\n",
    "nsmooth2 = ndimage.filters.gaussian_filter1d(n, sigma=smooth_coeff/5.)\n",
    "peaks2 = detect_peaks(nsmooth2, \n",
    "                     mpd = 5*smooth_coeff,\n",
    "                     edge='rising',show=True, mph=1.1)\n",
    "# Obtain the latest peak\n",
    "latest_peak = peaks2[ybins2[peaks2].argmax()]\n",
    "\n",
    "\n",
    "# Getting the time difference between highest ones\n",
    "if peaks.size !=0 or peaks2.size !=0:\n",
    "    tdiff_peak = ybins2[latest_peak] - ybins[highest_peak]\n",
    "else:\n",
    "    print peaks, peaks2\n",
    "    tdiff_peak = -1\n",
    "\n",
    "\n",
    "# Finding the peaks of the derivative\n",
    "dx = (ybins[1]-ybins[0])/2.\n",
    "dn = np.diff(np.log10(n))/dx\n",
    "ydn = ybins[1:-1]\n",
    "ydn2 = ybins2[1:-1]\n",
    "\n",
    "# Derivating, and smoothing over it\n",
    "dnsmooth = np.diff(np.log10(nsmooth))/dx  \n",
    "dnsmooth2 = np.diff(np.log10(nsmooth2))/dx\n",
    "dnsmooth = ndimage.filters.gaussian_filter1d(dnsmooth, \n",
    "                                             sigma=smooth_coeff)\n",
    "dnsmooth2 = ndimage.filters.gaussian_filter1d(dnsmooth2, \n",
    "                                             sigma=smooth_coeff/10.)\n",
    "dpeaks = detect_peaks(dnsmooth, mpd = 10*smooth_coeff,\n",
    "                      edge='rising',show=False, mph=0.1)\n",
    "dpeaks2 = detect_peaks(dnsmooth2, mpd = 2*smooth_coeff,\n",
    "                      edge='rising',show=True, mph=0.01)\n",
    "\n",
    "# Obtain the highest peak\n",
    "highest_dpeak = dpeaks[dnsmooth[dpeaks].argmax()]\n",
    "# Obtain the latest peak\n",
    "latest_dpeak = dpeaks2[ydn2[dpeaks2].argmax()]\n",
    "# Getting the time difference between highest ones\n",
    "if dpeaks.size !=0 or dpeaks2.size !=0:\n",
    "    tdiff_dpeak = ydn2[latest_dpeak] - ydn[highest_dpeak]\n",
    "else:\n",
    "    print peaks, peaks2\n",
    "    tdiff_dpeak = -1"
   ]
  },
  {
   "cell_type": "code",
   "execution_count": null,
   "metadata": {
    "collapsed": true
   },
   "outputs": [],
   "source": []
  }
 ],
 "metadata": {
  "kernelspec": {
   "display_name": "Python 2",
   "language": "python",
   "name": "python2"
  },
  "language_info": {
   "codemirror_mode": {
    "name": "ipython",
    "version": 2
   },
   "file_extension": ".py",
   "mimetype": "text/x-python",
   "name": "python",
   "nbconvert_exporter": "python",
   "pygments_lexer": "ipython2",
   "version": "2.7.13"
  }
 },
 "nbformat": 4,
 "nbformat_minor": 2
}
