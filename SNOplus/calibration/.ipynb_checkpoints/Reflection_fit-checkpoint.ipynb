{
 "cells": [
  {
   "cell_type": "code",
   "execution_count": 58,
   "metadata": {
    "collapsed": false
   },
   "outputs": [],
   "source": [
    "import os, sys, pickle\n",
    "import matplotlib.pyplot as plt\n",
    "import numpy as np\n",
    "%matplotlib inline \n",
    "import jp_mpl as jplot\n",
    "import pickle, scipy\n",
    "from copy import deepcopy\n",
    "from scipy import optimize"
   ]
  },
  {
   "cell_type": "markdown",
   "metadata": {},
   "source": [
    "## Fitting class"
   ]
  },
  {
   "cell_type": "code",
   "execution_count": 59,
   "metadata": {
    "collapsed": false
   },
   "outputs": [],
   "source": [
    "class FitLBpos(object):\n",
    "    def __init__(self,\n",
    "                 data = None,\n",
    "                 error = None,\n",
    "                 pmt_xyz = None,\n",
    "                 pmtbool = None,\n",
    "                 psup_radius = 8390.,\n",
    "                 water_n = 1.34389,\n",
    "                 print_call = True):\n",
    "        self.c            = 0.299792458*1000 # mm/ns\n",
    "        self.data    = deepcopy(data)\n",
    "        self.pmt_xyz = deepcopy(pmt_xyz)\n",
    "        self.pmtbool = deepcopy(pmtbool)\n",
    "        self.pmt_r   = np.linalg.norm(pmt_xyz,axis=1)\n",
    "        self.header_done = False\n",
    "\n",
    "        self.R = psup_radius\n",
    "        #self.water_c = c/water_n\n",
    "        self.print_call = print_call\n",
    "        \n",
    "        self.pmtbool[self.data == 0] = False\n",
    "        \n",
    "        if error == None:\n",
    "            self.error = np.ones_like(data)\n",
    "        else:\n",
    "            self.error = error + 1 # Adding one ns for everything\n",
    "    \n",
    "    def print_eval_header(self):\n",
    "        print 'FCN \\t\\t u \\t v \\t w \\t n'\n",
    "        self.header_done = True\n",
    "        \n",
    "    def print_eval(self, value, u, v, w, n):\n",
    "        if not self.header_done:\n",
    "            self.print_eval_header()\n",
    "        print value, '\\t', u, '\\t', v, '\\t', w, '\\t', n\n",
    "        \n",
    "    def __call__(self, u, v, w, n):\n",
    "        this_pos = np.array([ u, v, w])\n",
    "        water_c = self.c/n\n",
    "        tdiff = 2*self.R/water_c* \\\n",
    "                (1+np.dot(self.pmt_xyz,this_pos)/(self.pmt_r*self.R))\n",
    "        \n",
    "        delta = (tdiff - self.data)[self.pmtbool]**2/self.error[self.pmtbool]**2\n",
    "        delta = np.sum(delta)\n",
    "        \n",
    "        if self.print_call:\n",
    "            self.print_eval(delta, u, v, w, n)\n",
    "        \n",
    "        return delta"
   ]
  },
  {
   "cell_type": "markdown",
   "metadata": {},
   "source": [
    "## PMT Information"
   ]
  },
  {
   "cell_type": "code",
   "execution_count": 60,
   "metadata": {
    "collapsed": false
   },
   "outputs": [],
   "source": [
    "pmt_info = pickle.load(open('/home/jpyanez/snoplus/snoplus_python/pmt_positions.pckl'))\n",
    "typebool = (pmt_info['type'] == 1) + (pmt_info['type']==7)"
   ]
  },
  {
   "cell_type": "code",
   "execution_count": 61,
   "metadata": {
    "collapsed": true
   },
   "outputs": [],
   "source": [
    "quality_dir = '/home/jpyanez/snoplus/data/laserball_quality'"
   ]
  },
  {
   "cell_type": "markdown",
   "metadata": {},
   "source": [
    "## Speed of light"
   ]
  },
  {
   "cell_type": "code",
   "execution_count": 62,
   "metadata": {
    "collapsed": true
   },
   "outputs": [],
   "source": [
    "c = 0.299792458*1000 # mm/ns, same as in Geant4"
   ]
  },
  {
   "cell_type": "markdown",
   "metadata": {},
   "source": [
    "## Getting SOC files - produce peaks files first"
   ]
  },
  {
   "cell_type": "code",
   "execution_count": 63,
   "metadata": {
    "collapsed": true
   },
   "outputs": [],
   "source": [
    "peakdir = '/home/jpyanez/snoplus/data/SOC_peak_files'"
   ]
  },
  {
   "cell_type": "code",
   "execution_count": 64,
   "metadata": {
    "collapsed": false
   },
   "outputs": [
    {
     "name": "stdout",
     "output_type": "stream",
     "text": [
      "0 SOC_0000017375.pckl\n",
      "1 SOC_0000100556.pckl\n",
      "2 SOC_0000100558.pckl\n",
      "3 SOC_0000101427.pckl\n",
      "4 SOC_0000101428.pckl\n",
      "5 SOC_0000101432.pckl\n",
      "6 SOC_0000101433.pckl\n",
      "7 SOC_0000102518.pckl\n",
      "8 SOC_0000102529.pckl\n",
      "9 SOC_0000102552.pckl\n",
      "10 SOC_0000102554.pckl\n",
      "11 SOC_0000102570.pckl\n",
      "12 SOC_0000102572.pckl\n",
      "13 SOC_0000102574.pckl\n"
     ]
    }
   ],
   "source": [
    "infile_list = os.listdir(peakdir)\n",
    "for i, x in enumerate(infile_list): print i, x "
   ]
  },
  {
   "cell_type": "markdown",
   "metadata": {},
   "source": [
    "# Fit everything!"
   ]
  },
  {
   "cell_type": "code",
   "execution_count": 65,
   "metadata": {
    "collapsed": true
   },
   "outputs": [],
   "source": [
    "use_quality_cuts = False\n",
    "use_peak = True # False means using dN/dt\n",
    "if use_peak:\n",
    "    data_index = 0\n",
    "else:\n",
    "    data_index = 1"
   ]
  },
  {
   "cell_type": "code",
   "execution_count": 76,
   "metadata": {
    "collapsed": false
   },
   "outputs": [
    {
     "data": {
      "text/plain": [
       "9728"
      ]
     },
     "execution_count": 76,
     "metadata": {},
     "output_type": "execute_result"
    }
   ],
   "source": [
    "np.sum(pmt_q_bool)"
   ]
  },
  {
   "cell_type": "code",
   "execution_count": 66,
   "metadata": {
    "collapsed": false
   },
   "outputs": [
    {
     "name": "stdout",
     "output_type": "stream",
     "text": [
      "Starting run SOC_0000017375.pckl\n",
      "PMTs in the fit 123\n",
      "\n",
      "Fit successful SOC_0000017375\n",
      "[   0. -254.   25.]\n",
      "[  10.81211185 -223.69639587   -3.6282928 ]\n",
      "[-155.49980823 -457.3098656   143.60277627    1.39690723] \n",
      "\n",
      "Starting run SOC_0000100556.pckl\n",
      "PMTs in the fit 123\n",
      "\n",
      "Fit successful SOC_0000100556\n",
      "[   0. -254.   25.]\n",
      "[  10.81211185 -223.69639587   -3.6282928 ]\n",
      "[-155.82196627 -457.273173    143.84114166    1.39697159] \n",
      "\n",
      "Starting run SOC_0000100558.pckl\n",
      "PMTs in the fit 123\n",
      "\n",
      "Fit successful SOC_0000100558\n",
      "[   0. -254.   25.]\n",
      "[  10.81211185 -223.69639587   -3.6282928 ]\n",
      "[-155.67182571 -457.32976423  143.73099522    1.39694248] \n",
      "\n",
      "Starting run SOC_0000101427.pckl\n",
      "PMTs in the fit 123\n",
      "\n",
      "Fit successful SOC_0000101427\n",
      "[   0. -254.   25.]\n",
      "[  10.81211185 -223.69639587   -3.6282928 ]\n",
      "[-155.66946494 -457.20768214  143.68715928    1.39693445] \n",
      "\n",
      "Starting run SOC_0000101428.pckl\n",
      "PMTs in the fit 123\n",
      "\n",
      "Fit successful SOC_0000101428\n",
      "[   0. -254.   25.]\n",
      "[  10.81211185 -223.69639587   -3.6282928 ]\n",
      "[-155.5113781  -457.29567196  143.60701928    1.39690854] \n",
      "\n",
      "Starting run SOC_0000101432.pckl\n",
      "PMTs in the fit 123\n",
      "\n",
      "Fit successful SOC_0000101432\n",
      "[   0. -254.   25.]\n",
      "[  10.81211185 -223.69639587   -3.6282928 ]\n",
      "[-155.4781644  -457.3855114   143.59891876    1.39690628] \n",
      "\n",
      "Starting run SOC_0000101433.pckl\n",
      "PMTs in the fit 123\n",
      "\n",
      "Fit successful SOC_0000101433\n",
      "[   0. -254.   25.]\n",
      "[  10.81211185 -223.69639587   -3.6282928 ]\n",
      "[-155.47878207 -457.30645622  143.58740671    1.39690233] \n",
      "\n",
      "Starting run SOC_0000102518.pckl\n",
      "PMTs in the fit 123\n",
      "\n",
      "Fit successful SOC_0000102518\n",
      "[   0. -254.   25.]\n",
      "[  10.81211185 -223.69639587   -3.6282928 ]\n",
      "[-155.57978776 -457.31150373  143.65186657    1.39692248] \n",
      "\n",
      "Starting run SOC_0000102529.pckl\n",
      "PMTs in the fit 123\n",
      "\n",
      "Fit successful SOC_0000102529\n",
      "[   0. -254.   25.]\n",
      "[  10.81211185 -223.69639587   -3.6282928 ]\n",
      "[-155.58172822 -457.30567518  143.67929537    1.3969249 ] \n",
      "\n",
      "Starting run SOC_0000102552.pckl\n",
      "PMTs in the fit 123\n",
      "\n",
      "Fit successful SOC_0000102552\n",
      "[   0. -254.   25.]\n",
      "[  10.81211185 -223.69639587   -3.6282928 ]\n",
      "[-155.54752349 -457.33079561  143.64085694    1.3969177 ] \n",
      "\n",
      "Starting run SOC_0000102554.pckl\n",
      "PMTs in the fit 123\n",
      "\n",
      "Fit successful SOC_0000102554\n",
      "[   0. -254.   25.]\n",
      "[  10.81211185 -223.69639587   -3.6282928 ]\n",
      "[-155.53917669 -457.32194607  143.67459605    1.39691952] \n",
      "\n",
      "Starting run SOC_0000102570.pckl\n",
      "PMTs in the fit 123\n",
      "\n",
      "Fit successful SOC_0000102570\n",
      "[   0. -254.   25.]\n",
      "[  10.81211185 -223.69639587   -3.6282928 ]\n",
      "[-155.46699247 -457.30804301  143.55532624    1.39689824] \n",
      "\n",
      "Starting run SOC_0000102572.pckl\n",
      "PMTs in the fit 123\n",
      "\n",
      "Fit successful SOC_0000102572\n",
      "[   0. -254.   25.]\n",
      "[  10.81211185 -223.69639587   -3.6282928 ]\n",
      "[-155.48284811 -457.31591568  143.59898062    1.3969046 ] \n",
      "\n",
      "Starting run SOC_0000102574.pckl\n",
      "PMTs in the fit 8452\n",
      "Trying again 1\n",
      "\n",
      "Fit successful SOC_0000102574\n",
      "[   0. -254.   25.]\n",
      "[  10.81211185 -223.69639587   -3.6282928 ]\n",
      "[  -4.01045145 -220.12291077   13.7298022     1.35252962] \n",
      "\n"
     ]
    },
    {
     "name": "stderr",
     "output_type": "stream",
     "text": [
      "/gs/software/CentOS-6/eb/software/Toolchain/iomkl/2015b/IPython/3.2.1-Python-2.7.10/lib/python2.7/site-packages/IPython/kernel/__main__.py:23: FutureWarning: comparison to `None` will result in an elementwise object comparison in the future.\n"
     ]
    }
   ],
   "source": [
    "fit_values = np.zeros([len(infile_list), 4])\n",
    "manip_values = np.zeros([len(infile_list), 3])\n",
    "socfit_values = np.zeros_like(manip_values)\n",
    "average_occ   = np.zeros(len(infile_list))\n",
    "average_occ_all = np.zeros_like(average_occ)\n",
    "for i, one_run in enumerate(infile_list):\n",
    "    \n",
    "    print 'Starting run', one_run\n",
    "    \n",
    "    # Get the data\n",
    "    data = pickle.load(open(os.path.join(peakdir, one_run)))\n",
    "    \n",
    "    # Get the PMT quality\n",
    "    if use_quality_cuts:\n",
    "        pmtq_fname = os.path.join(quality_dir, one_run.rstrip('.pckl') + '_PMT_quality.pckl')\n",
    "        pmtq_file = open(pmtq_fname)\n",
    "        pmtq = pickle.load(pmtq_file)\n",
    "        pmtq_file.close()\n",
    "        \n",
    "    # Select the PMTs that should be included in the fit\n",
    "    socpmts  = np.zeros_like(pmt_info['type'],dtype=bool)\n",
    "    socpmts[data['soc_pmts']] = True\n",
    "    nonzero_peaks = (data['delta_ts'][:,0] > 0)*(data['delta_ts'][:,1] > 0)\n",
    "    mypmtbool = np.array(typebool*socpmts*nonzero_peaks,dtype=bool)\n",
    "\n",
    "    \n",
    "    if use_quality_cuts:\n",
    "        pmt_q_bool = (pmtq['positive']*pmtq['global_cut']*pmtq['normal_pmts']*\n",
    "                      pmtq['nearby_cut']*pmtq['unobstructed'])\n",
    "    else:\n",
    "        pmt_q_bool = np.ones_like(mypmtbool)\n",
    "        #pmt_q_bool = (pmtq['positive']*pmtq['unobstructed'])\n",
    "        \n",
    "\n",
    "    lbfit = FitLBpos( data = data['delta_ts'][:,data_index],\n",
    "                      error = np.abs(data['delta_ts'][:,0]-data['delta_ts'][:,1]),\n",
    "                      pmt_xyz = pmt_info['xyz'],\n",
    "                      pmtbool = mypmtbool*pmt_q_bool,\n",
    "                      print_call = False)\n",
    "    \n",
    "    print 'PMTs in the fit', np.sum(lbfit.pmtbool)\n",
    "\n",
    "    \n",
    "    wrapfcn = lambda p: lbfit(*p)\n",
    "    repeat_fit = True\n",
    "    \n",
    "    average_occ[i] = data['poccupancy'][lbfit.pmtbool*~np.isnan(data['poccupancy'])].mean()\n",
    "    average_occ_all[i] = data['poccupancy'][data['poccupancy']>0.].mean()\n",
    "    \n",
    "    fit_counter = 0\n",
    "    while repeat_fit:\n",
    "        my_x0 = np.concatenate((data['fit_pos']*(1+np.random.rand(3)/10.), [1.3]))\n",
    "        fit = optimize.minimize(wrapfcn,\n",
    "                                  x0 = my_x0,\n",
    "                                  method='SLSQP',\n",
    "                                  bounds=((-6500,6500),\n",
    "                                          (-6500,6500),\n",
    "                                          (-6500,6500),\n",
    "                                          (0.5, 2.)),\n",
    "                                  options={'ftol':1E-7, 'maxiter':1000})\n",
    "        fit_counter += 1\n",
    "        if fit.success:\n",
    "            repeat_fit = False\n",
    "            fit_values[i, : ] = fit.x\n",
    "            print '\\nFit successful', one_run.rstrip('.pckl')\n",
    "            print data['manip_pos']\n",
    "            print data['fit_pos']\n",
    "            print fit.x, '\\n'\n",
    "            manip_values[i,:] = data['manip_pos']\n",
    "            socfit_values[i,:] = data['fit_pos']\n",
    "        else:\n",
    "            print 'Trying again', fit_counter\n",
    "            if fit_counter >= 10:\n",
    "                print 'Tried to fit TEN times without success - check that'\n",
    "                fit_values[i,:] = [-1]*4\n",
    "                repeat_fit = False\n",
    "                \n",
    "        \n",
    "    \n",
    "    "
   ]
  },
  {
   "cell_type": "code",
   "execution_count": 67,
   "metadata": {
    "collapsed": false
   },
   "outputs": [],
   "source": [
    "# Figure out who has the maximum occupancy\n",
    "average_occ[np.isnan(average_occ)] = 0."
   ]
  },
  {
   "cell_type": "code",
   "execution_count": 68,
   "metadata": {
    "collapsed": false
   },
   "outputs": [
    {
     "name": "stdout",
     "output_type": "stream",
     "text": [
      "SOC_0000017375 \t-155.4998\t-457.3099\t143.6028\t1.3969\n",
      "SOC_0000100556 \t-155.8220\t-457.2732\t143.8411\t1.3970\n",
      "SOC_0000100558 \t-155.6718\t-457.3298\t143.7310\t1.3969\n",
      "SOC_0000101427 \t-155.6695\t-457.2077\t143.6872\t1.3969\n",
      "SOC_0000101428 \t-155.5114\t-457.2957\t143.6070\t1.3969\n",
      "SOC_0000101432 \t-155.4782\t-457.3855\t143.5989\t1.3969\n",
      "SOC_0000101433 \t-155.4788\t-457.3065\t143.5874\t1.3969\n",
      "SOC_0000102518 \t-155.5798\t-457.3115\t143.6519\t1.3969\n",
      "SOC_0000102529 \t-155.5817\t-457.3057\t143.6793\t1.3969\n",
      "SOC_0000102552 \t-155.5475\t-457.3308\t143.6409\t1.3969\n",
      "SOC_0000102554 \t-155.5392\t-457.3219\t143.6746\t1.3969\n",
      "SOC_0000102570 \t-155.4670\t-457.3080\t143.5553\t1.3969\n",
      "SOC_0000102572 \t-155.4828\t-457.3159\t143.5990\t1.3969\n",
      "SOC_0000102574 \t-4.0105\t-220.1229\t13.7298\t1.3525\n"
     ]
    }
   ],
   "source": [
    "run_list = []\n",
    "for i, fname in enumerate(infile_list):\n",
    "    print fname.rstrip('.pckl').rstrip('_reprocessed'), '\\t', '\\t'.join([\"%0.4f\" % x for x in fit_values[i,:]])\n",
    "    run_list.append(fname.lstrip('SOC_0000').rstrip('.pckl').rstrip('_newPCA').rstrip('_reprocessed'))"
   ]
  },
  {
   "cell_type": "code",
   "execution_count": 69,
   "metadata": {
    "collapsed": false
   },
   "outputs": [
    {
     "data": {
      "text/plain": [
       "[<matplotlib.text.Text at 0x2b79c7a43490>,\n",
       " <matplotlib.text.Text at 0x2b79c7a4c890>,\n",
       " <matplotlib.text.Text at 0x2b79c7a99350>,\n",
       " <matplotlib.text.Text at 0x2b79c7a99ad0>,\n",
       " <matplotlib.text.Text at 0x2b79c7aa3290>,\n",
       " <matplotlib.text.Text at 0x2b79c7aa3a10>,\n",
       " <matplotlib.text.Text at 0x2b79c7aad1d0>,\n",
       " <matplotlib.text.Text at 0x2b79c7aad950>,\n",
       " <matplotlib.text.Text at 0x2b79c7ab7110>,\n",
       " <matplotlib.text.Text at 0x2b79c7ab7890>,\n",
       " <matplotlib.text.Text at 0x2b79c7ac1050>,\n",
       " <matplotlib.text.Text at 0x2b79c7ac17d0>,\n",
       " <matplotlib.text.Text at 0x2b79c7ac1f50>,\n",
       " <matplotlib.text.Text at 0x2b79c7aca710>]"
      ]
     },
     "execution_count": 69,
     "metadata": {},
     "output_type": "execute_result"
    },
    {
     "data": {
      "image/png": "[encoded data removed]",
      "text/plain": [
       "<matplotlib.figure.Figure at 0x2b79c6e78a50>"
      ]
     },
     "metadata": {},
     "output_type": "display_data"
    }
   ],
   "source": [
    "fig = plt.figure(figsize=(9,12))\n",
    "axes = []\n",
    "\n",
    "axes.append(fig.add_subplot(511))\n",
    "\n",
    "plt.xlabel('Run')\n",
    "\n",
    "plt.plot(average_occ, 'xr')\n",
    "plt.plot(average_occ_all, 'xc')\n",
    "plt.ylim([0, average_occ.max()*1.1])\n",
    "plt.axhline(y=2700, xmin = 0, xmax=len(run_list), color = 'k', linestyle = '--')\n",
    "\n",
    "plt.ylabel('Mean occ.')\n",
    "for i, value_name in enumerate(['x', 'y', 'z', 'n']):\n",
    "    axes.append(fig.add_subplot(5, 1, i+2, sharex=axes[0]))\n",
    "    plt.ylabel(value_name)\n",
    "    plt.plot(fit_values[:,i], 'xr')\n",
    "    if i < 3:\n",
    "        plt.plot(manip_values[:,i], '.g')\n",
    "        plt.plot(socfit_values[:,i], '.c')\n",
    "        plt.ylim(-400, 400)\n",
    "    if i == 3:\n",
    "        plt.ylim([1.0, 1.6])\n",
    "plt.subplots_adjust(hspace = 0.)\n",
    "axes[-1].set_xticks(range(0, len(run_list)))\n",
    "axes[-1].set_xticklabels(run_list,rotation=90)"
   ]
  },
  {
   "cell_type": "code",
   "execution_count": 31,
   "metadata": {
    "collapsed": false
   },
   "outputs": [
    {
     "data": {
      "text/plain": [
       "53"
      ]
     },
     "execution_count": 31,
     "metadata": {},
     "output_type": "execute_result"
    }
   ],
   "source": [
    "len(run_list)"
   ]
  },
  {
   "cell_type": "code",
   "execution_count": 77,
   "metadata": {
    "collapsed": true
   },
   "outputs": [],
   "source": [
    "tst = pickle.load(open(os.path.join(peakdir, 'SOC_0000102572.pckl')))"
   ]
  },
  {
   "cell_type": "code",
   "execution_count": null,
   "metadata": {
    "collapsed": true
   },
   "outputs": [],
   "source": []
  }
 ],
 "metadata": {
  "kernelspec": {
   "display_name": "Python 2",
   "language": "python",
   "name": "python2"
  },
  "language_info": {
   "codemirror_mode": {
    "name": "ipython",
    "version": 2
   },
   "file_extension": ".py",
   "mimetype": "text/x-python",
   "name": "python",
   "nbconvert_exporter": "python",
   "pygments_lexer": "ipython2",
   "version": "2.7.10"
  }
 },
 "nbformat": 4,
 "nbformat_minor": 2
}
