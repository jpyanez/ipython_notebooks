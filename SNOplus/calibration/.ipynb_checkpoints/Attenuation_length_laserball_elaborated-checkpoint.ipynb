{
 "cells": [
  {
   "cell_type": "code",
   "execution_count": 1,
   "metadata": {
    "collapsed": false
   },
   "outputs": [
    {
     "name": "stdout",
     "output_type": "stream",
     "text": [
      "Populating the interactive namespace from numpy and matplotlib\n"
     ]
    },
    {
     "name": "stderr",
     "output_type": "stream",
     "text": [
      "TClass::TClass:0: RuntimeWarning: no dictionary for class omtext is available\n"
     ]
    }
   ],
   "source": [
    "%pylab inline\n",
    "import ROOT, rat\n",
    "import os, sys, pickle\n",
    "import jp_mpl as jplot"
   ]
  },
  {
   "cell_type": "markdown",
   "metadata": {},
   "source": [
    "### Read all the PMT information from all the available files"
   ]
  },
  {
   "cell_type": "code",
   "execution_count": 2,
   "metadata": {
    "collapsed": true
   },
   "outputs": [],
   "source": [
    "# List the files\n",
    "indir = '/home/jp/projects/snoplus/laserball_calibration/all_runs'\n",
    "file_list = os.listdir(indir)\n",
    "outdir = '/home/jp/projects/snoplus/laserball_calibration/all_runs_pckl'"
   ]
  },
  {
   "cell_type": "code",
   "execution_count": 3,
   "metadata": {
    "collapsed": true
   },
   "outputs": [],
   "source": [
    "reader = rat.socreader(os.path.join(indir, file_list[0]))"
   ]
  },
  {
   "cell_type": "code",
   "execution_count": 4,
   "metadata": {
    "collapsed": true
   },
   "outputs": [],
   "source": [
    "soc, run = reader.next()"
   ]
  },
  {
   "cell_type": "code",
   "execution_count": 5,
   "metadata": {
    "collapsed": false
   },
   "outputs": [
    {
     "data": {
      "text/plain": [
       "False"
      ]
     },
     "execution_count": 5,
     "metadata": {},
     "output_type": "execute_result"
    }
   ],
   "source": [
    "run.CSSBitsExist(100)"
   ]
  },
  {
   "cell_type": "code",
   "execution_count": 6,
   "metadata": {
    "collapsed": false
   },
   "outputs": [
    {
     "data": {
      "text/plain": [
       "-2.353437368264535e-185"
      ]
     },
     "execution_count": 6,
     "metadata": {},
     "output_type": "execute_result"
    }
   ],
   "source": [
    "run.GetRunLength()"
   ]
  },
  {
   "cell_type": "code",
   "execution_count": 7,
   "metadata": {
    "collapsed": false
   },
   "outputs": [],
   "source": [
    "pmt = soc.GetSOCPMT(20)"
   ]
  },
  {
   "cell_type": "code",
   "execution_count": 8,
   "metadata": {
    "collapsed": false
   },
   "outputs": [
    {
     "data": {
      "text/plain": [
       "312.0"
      ]
     },
     "execution_count": 8,
     "metadata": {},
     "output_type": "execute_result"
    }
   ],
   "source": [
    "pmt.GetPromptOccupancy()"
   ]
  },
  {
   "cell_type": "code",
   "execution_count": 9,
   "metadata": {
    "collapsed": false
   },
   "outputs": [
    {
     "ename": "SyntaxError",
     "evalue": "invalid syntax (<ipython-input-9-d834bb15adbf>, line 1)",
     "output_type": "error",
     "traceback": [
      "\u001b[0;36m  File \u001b[0;32m\"<ipython-input-9-d834bb15adbf>\"\u001b[0;36m, line \u001b[0;32m1\u001b[0m\n\u001b[0;31m    n [139]: for i in range(1,20):\u001b[0m\n\u001b[0m           ^\u001b[0m\n\u001b[0;31mSyntaxError\u001b[0m\u001b[0;31m:\u001b[0m invalid syntax\n"
     ]
    }
   ],
   "source": [
    "n [139]: for i in range(1,20):\n",
    "     ...:     try:\n",
    "     ...:         print i, status_bits.GetBitName(i)\n",
    "     ...:     except:\n",
    "     ...:         pass\n",
    "     ...: \n",
    "1 run_length\n",
    "2 high_occ\n",
    "3 low_occ\n",
    "4 qhs\n",
    "5 qhl\n",
    "6 qlx\n",
    "7 tac\n",
    "8 eca\n",
    "9 pca\n",
    "10 chs\n",
    "ChanSWStatusBits::GetBitName: Index '11' is invalid.\n",
    "ChanSWStatusBits::GetBitName: Index '12' is invalid.\n",
    "ChanSWStatusBits::GetBitName: Index '13' is invalid.\n",
    "ChanSWStatusBits::GetBitName: Index '14' is invalid.\n",
    "ChanSWStatusBits::GetBitName: Index '15' is invalid.\n",
    "ChanSWStatusBits::GetBitName: Index '16' is invalid.\n",
    "ChanSWStatusBits::GetBitName: Index '17' is invalid.\n",
    "ChanSWStatusBits::GetBitName: Index '18' is invalid.\n",
    "ChanSWStatusBits::GetBitName: Index '19' is invalid.\n",
    "11 12 13 14 15 16 17 18 19\n"
   ]
  },
  {
   "cell_type": "markdown",
   "metadata": {},
   "source": [
    "### Making manageable files from ROOT files"
   ]
  },
  {
   "cell_type": "code",
   "execution_count": 13,
   "metadata": {
    "collapsed": false
   },
   "outputs": [
    {
     "name": "stdout",
     "output_type": "stream",
     "text": [
      "Doing file SOC_0000017377_reprocessed.root  ... exists. Skipping it.\n",
      "Doing file SOC_0000017375_reprocessed.root  ... exists. Skipping it.\n",
      "Doing file SOC_0000017378_reprocessed.root  ... exists. Skipping it.\n",
      "Doing file SOC_0000100558.root  ... exists. Skipping it.\n",
      "Doing file SOC_0000100559.root  ... exists. Skipping it.\n",
      "Doing file SOC_0000100560.root  ... exists. Skipping it.\n",
      "Doing file SOC_0000100554.root  ... exists. Skipping it.\n",
      "Doing file SOC_0000017386_reprocessed.root  ... exists. Skipping it.\n",
      "Doing file SOC_0000100556.root  ... exists. Skipping it.\n",
      "Doing file SOC_0000017376_reprocessed.root  ... exists. Skipping it.\n",
      "Doing file SOC_0000100555.root  ... exists. Skipping it.\n",
      "Doing file SOC_0000017384_reprocessed.root  ... exists. Skipping it.\n"
     ]
    }
   ],
   "source": [
    "for file_index, file_name in enumerate(file_list):\n",
    "\n",
    "    print 'Doing file', file_name ,\n",
    "    outfile_path = os.path.join(outdir, file_name.rstrip('.root')+'.pckl')\n",
    "    if os.path.isfile(outfile_path):\n",
    "        print ' ... exists. Skipping it.'\n",
    "        continue\n",
    "    \n",
    "    qhs       = np.zeros(pmt_radius.size)\n",
    "    qhl       = np.zeros_like(qhs)\n",
    "    occupancy = np.zeros_like(qhl)\n",
    "    not_valid = 0\n",
    "    reader = rat.socreader(os.path.join(indir, file_name))\n",
    "\n",
    "    for soc, run in reader:\n",
    "        # Get the run information\n",
    "        result  = soc.GetFitResult(soc.GetFitNames()[0])\n",
    "        vertex  = np.array(result.GetVertex(0).GetPosition())\n",
    "        calib   = np.array(soc.GetCalib().GetPos())\n",
    "        npulses = soc.GetNPulsesTriggered()\n",
    "\n",
    "        # Go over the PMTs of interest\n",
    "        # Should add some quality criteria here for PMTs\n",
    "        for one_id in range(pmt_radius.size):\n",
    "            try:\n",
    "                pmt = soc.GetSOCPMT(one_id)\n",
    "            except:\n",
    "                not_valid +=1\n",
    "                continue\n",
    "            qhs[one_id] = np.sum(np.array(pmt.GetQHSs()))\n",
    "            qhl[one_id] = np.sum(np.array(pmt.GetQHLs()))\n",
    "            occupancy[one_id] = pmt.GetPromptOccupancy()\n",
    "            \n",
    "      \n",
    "    reader.close()\n",
    "    print '... done! - not valid PMTs ', not_valid\n",
    "    \n",
    "    # Save the file\n",
    "    ofile = open(outfile_path, 'w')\n",
    "    pickle.dump({'vertex':vertex, 'calib':calib, 'npulses':npulses,\n",
    "                 'qhs':qhs, 'qhl':qhl, 'occupancy':occupancy}, ofile)\n",
    "    ofile.close()"
   ]
  },
  {
   "cell_type": "markdown",
   "metadata": {},
   "source": [
    "### Load the python-friendly files"
   ]
  },
  {
   "cell_type": "code",
   "execution_count": 14,
   "metadata": {
    "collapsed": false
   },
   "outputs": [
    {
     "name": "stdout",
     "output_type": "stream",
     "text": [
      "Loading  SOC_0000100559.pckl\n",
      "Loading  SOC_0000100560.pckl\n",
      "Loading  SOC_0000100558.pckl\n",
      "Loading  SOC_0000017386_reprocessed.pckl\n",
      "Loading  SOC_0000017375_reprocessed.pckl\n",
      "Loading  SOC_0000017376_reprocessed.pckl\n",
      "Loading  SOC_0000017377_reprocessed.pckl\n",
      "Loading  SOC_0000100554.pckl\n",
      "Loading  SOC_0000100555.pckl\n",
      "Loading  SOC_0000100556.pckl\n",
      "Loading  SOC_0000017384_reprocessed.pckl\n",
      "Loading  SOC_0000017378_reprocessed.pckl\n"
     ]
    }
   ],
   "source": [
    "# Load all the already available files\n",
    "pfile_list = os.listdir(outdir)\n",
    "data = []\n",
    "for one_file in pfile_list:\n",
    "    print 'Loading ', one_file\n",
    "    infile = open(os.path.join(outdir, one_file))\n",
    "    data.append(pickle.load(infile))\n",
    "    data[-1]['run'] = int(one_file[4:14])\n",
    "    infile.close()"
   ]
  },
  {
   "cell_type": "markdown",
   "metadata": {},
   "source": [
    "### Load the PMT information"
   ]
  },
  {
   "cell_type": "code",
   "execution_count": 15,
   "metadata": {
    "collapsed": true
   },
   "outputs": [],
   "source": [
    "pmt_info = pickle.load(open('/home/jp/projects/snoplus/python_modules/pmt_positions.pckl'))"
   ]
  },
  {
   "cell_type": "markdown",
   "metadata": {},
   "source": [
    "### Select which PMTs will be used"
   ]
  },
  {
   "cell_type": "code",
   "execution_count": 16,
   "metadata": {
    "collapsed": false
   },
   "outputs": [
    {
     "data": {
      "text/plain": [
       "<matplotlib.text.Text at 0x7ff70805c750>"
      ]
     },
     "execution_count": 16,
     "metadata": {},
     "output_type": "execute_result"
    },
    {
     "data": {
      "image/png": "[encoded data removed]",
      "text/plain": [
       "<matplotlib.figure.Figure at 0x7ff73411f650>"
      ]
     },
     "metadata": {},
     "output_type": "display_data"
    }
   ],
   "source": [
    "valid_pmts = (pmt_info['type'] == 1)\n",
    "pmt_radius = np.sqrt(np.sum(pmt_info['xyz']**2, axis=1))\n",
    "plt.plot(pmt_radius[valid_pmts], 'x')\n",
    "plt.xlabel('PMT number')\n",
    "plt.ylabel('Radius (m)')"
   ]
  },
  {
   "cell_type": "markdown",
   "metadata": {},
   "source": [
    "### For each laserball run, calculate emission angle and distance to every PMT"
   ]
  },
  {
   "cell_type": "code",
   "execution_count": 17,
   "metadata": {
    "collapsed": false
   },
   "outputs": [],
   "source": [
    "pos_key = 'vertex'\n",
    "for one_run in data:\n",
    "    one_run['distance'] = np.sqrt(np.sum((pmt_info['xyz'] - one_run[pos_key])**2,axis=1))\n",
    "    one_run['costheta'] = (pmt_info['xyz'][:,2] - one_run[pos_key][2])/one_run['distance']\n",
    "    one_run['phi'] = np.arctan2((pmt_info['xyz'][:,1] - one_run[pos_key][1]), \n",
    "                                (pmt_info['xyz'][:,0] - one_run[pos_key][0]))"
   ]
  },
  {
   "cell_type": "code",
   "execution_count": 18,
   "metadata": {
    "collapsed": false
   },
   "outputs": [
    {
     "name": "stdout",
     "output_type": "stream",
     "text": [
      "0 [   2.24983931 -203.58409119   25.98548508]\n",
      "1 [   3.88579869 -207.37480164   27.52195358]\n",
      "2 [   6.7621541  -208.42858887   26.4679184 ]\n",
      "3 [   -9.96615696  -322.74142456  4855.18701172]\n",
      "4 [   0.24428572 -226.06359863   23.39888954]\n",
      "5 [   6.92900801 -225.00495911   24.29921532]\n",
      "6 [   2.34015226 -226.16465759   24.06827164]\n",
      "7 [   1.49445307 -205.81411743   27.46838951]\n",
      "8 [   5.36462784 -206.92816162   25.05916977]\n",
      "9 [   3.82698131 -207.07707214   24.78620338]\n",
      "10 [  -1.41507101 -219.31124878   21.13463783]\n",
      "11 [   8.0424242  -222.29763794    7.75781345]\n"
     ]
    }
   ],
   "source": [
    "for i, one_run in enumerate(data):\n",
    "    print i, one_run[pos_key]"
   ]
  },
  {
   "cell_type": "code",
   "execution_count": 19,
   "metadata": {
    "collapsed": false
   },
   "outputs": [],
   "source": [
    "# Analyze within a single run\n",
    "cosaxis = np.linspace(-1, 1, 11)\n",
    "phiaxis = np.linspace(-np.pi, np.pi, 7)\n",
    "thisrun = (one_run['qhs']>0.)*(one_run['qhs']<20000)\n",
    "n, x, y = np.histogram2d(one_run['phi'][valid_pmts*thisrun], one_run['costheta'][valid_pmts*thisrun], \n",
    "                         [phiaxis, cosaxis],\n",
    "                         weights = one_run['qhs'][valid_pmts*thisrun])"
   ]
  },
  {
   "cell_type": "code",
   "execution_count": 20,
   "metadata": {
    "collapsed": false
   },
   "outputs": [
    {
     "data": {
      "text/plain": [
       "(array([  6.01000000e+02,   5.60000000e+01,   9.90000000e+01,\n",
       "          2.43000000e+02,   5.17000000e+02,   8.11000000e+02,\n",
       "          1.16300000e+03,   1.16000000e+03,   1.00800000e+03,\n",
       "          8.12000000e+02,   5.95000000e+02,   3.94000000e+02,\n",
       "          2.84000000e+02,   2.25000000e+02,   1.64000000e+02,\n",
       "          1.64000000e+02,   1.53000000e+02,   1.31000000e+02,\n",
       "          1.22000000e+02,   7.80000000e+01,   5.80000000e+01,\n",
       "          4.90000000e+01,   3.90000000e+01,   3.60000000e+01,\n",
       "          3.70000000e+01,   2.60000000e+01,   2.30000000e+01,\n",
       "          2.00000000e+01,   1.80000000e+01,   1.20000000e+01,\n",
       "          1.40000000e+01,   1.00000000e+01,   7.00000000e+00,\n",
       "          7.00000000e+00,   1.10000000e+01,   7.00000000e+00,\n",
       "          1.30000000e+01,   6.00000000e+00,   4.00000000e+00,\n",
       "          5.00000000e+00,   6.00000000e+00,   1.00000000e+00,\n",
       "          3.00000000e+00,   7.00000000e+00,   9.00000000e+00,\n",
       "          3.00000000e+00,   3.00000000e+00,   4.00000000e+00,\n",
       "          0.00000000e+00]),\n",
       " array([     0.        ,    408.16326531,    816.32653061,   1224.48979592,\n",
       "          1632.65306122,   2040.81632653,   2448.97959184,   2857.14285714,\n",
       "          3265.30612245,   3673.46938776,   4081.63265306,   4489.79591837,\n",
       "          4897.95918367,   5306.12244898,   5714.28571429,   6122.44897959,\n",
       "          6530.6122449 ,   6938.7755102 ,   7346.93877551,   7755.10204082,\n",
       "          8163.26530612,   8571.42857143,   8979.59183673,   9387.75510204,\n",
       "          9795.91836735,  10204.08163265,  10612.24489796,  11020.40816327,\n",
       "         11428.57142857,  11836.73469388,  12244.89795918,  12653.06122449,\n",
       "         13061.2244898 ,  13469.3877551 ,  13877.55102041,  14285.71428571,\n",
       "         14693.87755102,  15102.04081633,  15510.20408163,  15918.36734694,\n",
       "         16326.53061224,  16734.69387755,  17142.85714286,  17551.02040816,\n",
       "         17959.18367347,  18367.34693878,  18775.51020408,  19183.67346939,\n",
       "         19591.83673469,  20000.        ]),\n",
       " <a list of 49 Patch objects>)"
      ]
     },
     "execution_count": 20,
     "metadata": {},
     "output_type": "execute_result"
    },
    {
     "data": {
      "image/png": "[encoded data removed]",
      "text/plain": [
       "<matplotlib.figure.Figure at 0x7ff6fe202a50>"
      ]
     },
     "metadata": {},
     "output_type": "display_data"
    }
   ],
   "source": [
    "plt.hist(one_run['qhs'], np.linspace(0, 20000))"
   ]
  },
  {
   "cell_type": "code",
   "execution_count": 21,
   "metadata": {
    "collapsed": false
   },
   "outputs": [
    {
     "data": {
      "text/plain": [
       "<matplotlib.colorbar.Colorbar at 0x7ff6fdeb4950>"
      ]
     },
     "execution_count": 21,
     "metadata": {},
     "output_type": "execute_result"
    },
    {
     "data": {
      "image/png": "[encoded data removed]",
      "text/plain": [
       "<matplotlib.figure.Figure at 0x7ff6fe060410>"
      ]
     },
     "metadata": {},
     "output_type": "display_data"
    }
   ],
   "source": [
    "plt.pcolor(phiaxis, cosaxis, n.T)\n",
    "plt.colorbar()"
   ]
  },
  {
   "cell_type": "code",
   "execution_count": 22,
   "metadata": {
    "collapsed": false
   },
   "outputs": [
    {
     "name": "stdout",
     "output_type": "stream",
     "text": [
      "Distance std 122.53953923\n",
      "Vtx displacement 209.229218117\n"
     ]
    }
   ],
   "source": [
    "one_run = data[1]\n",
    "print 'Distance std', one_run['distance'][valid_pmts].std()\n",
    "print 'Vtx displacement', np.sqrt(np.sum(one_run[pos_key]**2))\n",
    "costheta_ref = [-1., -0.9]"
   ]
  },
  {
   "cell_type": "code",
   "execution_count": 23,
   "metadata": {
    "collapsed": false
   },
   "outputs": [
    {
     "name": "stdout",
     "output_type": "stream",
     "text": [
      "PMTs in reference region  482\n",
      "Distance - mu: 8433.80560709 , sigma: 46.6487244961\n"
     ]
    },
    {
     "data": {
      "image/png": "[encoded data removed]",
      "text/plain": [
       "<matplotlib.figure.Figure at 0x7ff70157f390>"
      ]
     },
     "metadata": {},
     "output_type": "display_data"
    }
   ],
   "source": [
    "pmt_ref =(one_run['costheta']>costheta_ref[0])*(one_run['costheta']<costheta_ref[1])\n",
    "print 'PMTs in reference region ', np.sum(pmt_ref[valid_pmts])\n",
    "plt.figure()\n",
    "pmt_distance = one_run['distance'][valid_pmts*pmt_ref]\n",
    "print 'Distance - mu:', pmt_distance.mean(), ', sigma:', pmt_distance.std()\n",
    "dummy = plt.hist(pmt_distance)"
   ]
  },
  {
   "cell_type": "code",
   "execution_count": 27,
   "metadata": {
    "collapsed": false
   },
   "outputs": [
    {
     "data": {
      "text/plain": [
       "<matplotlib.legend.Legend at 0x7ff6fd900550>"
      ]
     },
     "execution_count": 27,
     "metadata": {},
     "output_type": "execute_result"
    },
    {
     "data": {
      "image/png": "[encoded data removed]",
      "text/plain": [
       "<matplotlib.figure.Figure at 0x7ff6fda68e10>"
      ]
     },
     "metadata": {},
     "output_type": "display_data"
    }
   ],
   "source": [
    "nbins = 10\n",
    "cos_bins = np.linspace(-1, 1, nbins+1)\n",
    "cos_centers = (cos_bins[1:] + cos_bins[:-1])/2.\n",
    "fig = plt.figure(figsize=(12,4))\n",
    "ax1 = fig.add_subplot(121)\n",
    "ax2 = fig.add_subplot(122)\n",
    "\n",
    "for irun, one_run in enumerate(data):\n",
    "    if irun ==  3:\n",
    "        continue\n",
    "\n",
    "    qhs = np.zeros(nbins)\n",
    "    qhl = np.zeros_like(qhs)\n",
    "    occ = np.zeros_like(qhs)\n",
    "\n",
    "    for ibin in range(nbins):\n",
    "        ipmts = (one_run['costheta']>cos_bins[ibin])*(one_run['costheta']<cos_bins[ibin+1])\n",
    "        pmt_distance = one_run['distance'][valid_pmts*ipmts]\n",
    "\n",
    "\n",
    "\n",
    "        qhs[ibin] = one_run['qhs'][valid_pmts*ipmts].mean()\n",
    "        qhl[ibin] = one_run['qhl'][valid_pmts*ipmts].mean()\n",
    "        occ[ibin] = one_run['occupancy'][valid_pmts*ipmts].mean() \n",
    "        \n",
    "        qhs[ibin] = np.median(one_run['qhs'][valid_pmts*ipmts])\n",
    "        qhl[ibin] = np.median(one_run['qhl'][valid_pmts*ipmts])\n",
    "        occ[ibin] = np.median(one_run['occupancy'][valid_pmts*ipmts])\n",
    "\n",
    "\n",
    "    #print rqhs, rqhl, rocc\n",
    "    ax1.plot(cos_centers, qhs/qhs.mean(), 'x', label = one_run['run'])\n",
    "    ax2.plot(cos_centers, occ/occ.mean(), 'x', label = one_run['run'])\n",
    "ax1.set_ylim(0., 1.5)\n",
    "ax2.set_ylim(0., 1.5)\n",
    "plt.legend(loc=0,ncol=3)"
   ]
  },
  {
   "cell_type": "code",
   "execution_count": 26,
   "metadata": {
    "collapsed": false
   },
   "outputs": [
    {
     "data": {
      "image/png": "[encoded data removed]",
      "text/plain": [
       "<matplotlib.figure.Figure at 0x7ff6fdacba10>"
      ]
     },
     "metadata": {},
     "output_type": "display_data"
    }
   ],
   "source": [
    "nbins = 10\n",
    "cos_bins = np.linspace(-1, 1, nbins+1)\n",
    "cos_centers = (cos_bins[1:] + cos_bins[:-1])/2.\n",
    "plt.figure()\n",
    "\n",
    "\n",
    "for irun, one_run in enumerate(data):\n",
    "    if irun !=  3:\n",
    "        continue\n",
    "\n",
    "    qhs = np.zeros(nbins)\n",
    "    qhl = np.zeros_like(qhs)\n",
    "    occ = np.zeros_like(qhs)\n",
    "\n",
    "    for ibin in range(nbins):\n",
    "        ipmts = (one_run['costheta']>cos_bins[ibin])*(one_run['costheta']<cos_bins[ibin+1])\n",
    "        pmt_distance = one_run['distance'][valid_pmts*ipmts]\n",
    "\n",
    "\n",
    "        if ibin == 0:\n",
    "            rqhs = one_run['qhs'][valid_pmts*ipmts].mean()\n",
    "            rqhl = one_run['qhl'][valid_pmts*ipmts].mean()\n",
    "            rocc = one_run['occupancy'][valid_pmts*ipmts].mean()\n",
    "\n",
    "        qhs[ibin] = one_run['qhs'][valid_pmts*ipmts].mean()/rqhs\n",
    "        qhl[ibin] = one_run['qhl'][valid_pmts*ipmts].mean()/rqhl\n",
    "        occ[ibin] = one_run['occupancy'][valid_pmts*ipmts].mean()/rocc    \n",
    "\n",
    "        #print 'Range', cos_bins[ibin], cos_bins[ibin+1], \\\n",
    "        #    ', mu:', pmt_distance.mean(), \\\n",
    "        #    ', sigma:', pmt_distance.std()\n",
    "\n",
    "    #print rqhs, rqhl, rocc\n",
    "    plt.plot(cos_centers, qhs, 'x')\n",
    "    #plt.ylim(0., 1.5)"
   ]
  },
  {
   "cell_type": "code",
   "execution_count": null,
   "metadata": {
    "collapsed": false
   },
   "outputs": [],
   "source": []
  },
  {
   "cell_type": "code",
   "execution_count": null,
   "metadata": {
    "collapsed": true
   },
   "outputs": [],
   "source": []
  }
 ],
 "metadata": {
  "kernelspec": {
   "display_name": "Python 2",
   "language": "python",
   "name": "python2"
  },
  "language_info": {
   "codemirror_mode": {
    "name": "ipython",
    "version": 2
   },
   "file_extension": ".py",
   "mimetype": "text/x-python",
   "name": "python",
   "nbconvert_exporter": "python",
   "pygments_lexer": "ipython2",
   "version": "2.7.13"
  }
 },
 "nbformat": 4,
 "nbformat_minor": 2
}
