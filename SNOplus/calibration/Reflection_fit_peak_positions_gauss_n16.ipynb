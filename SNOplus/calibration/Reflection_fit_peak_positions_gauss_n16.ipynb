{
 "cells": [
  {
   "cell_type": "code",
   "execution_count": 1,
   "metadata": {
    "collapsed": false
   },
   "outputs": [
    {
     "ename": "ImportError",
     "evalue": "No module named ROOT",
     "output_type": "error",
     "traceback": [
      "\u001b[0;31m---------------------------------------------------------------------------\u001b[0m",
      "\u001b[0;31mImportError\u001b[0m                               Traceback (most recent call last)",
      "\u001b[0;32m<ipython-input-1-07cba73bbf11>\u001b[0m in \u001b[0;36m<module>\u001b[0;34m()\u001b[0m\n\u001b[0;32m----> 1\u001b[0;31m \u001b[0;32mimport\u001b[0m \u001b[0mROOT\u001b[0m\u001b[0;34m\u001b[0m\u001b[0m\n\u001b[0m\u001b[1;32m      2\u001b[0m \u001b[0;32mimport\u001b[0m \u001b[0mos\u001b[0m\u001b[0;34m,\u001b[0m \u001b[0msys\u001b[0m\u001b[0;34m,\u001b[0m \u001b[0mpickle\u001b[0m\u001b[0;34m\u001b[0m\u001b[0m\n\u001b[1;32m      3\u001b[0m \u001b[0;34m\u001b[0m\u001b[0m\n\u001b[1;32m      4\u001b[0m \u001b[0;32mimport\u001b[0m \u001b[0mmatplotlib\u001b[0m\u001b[0;34m.\u001b[0m\u001b[0mpyplot\u001b[0m \u001b[0;32mas\u001b[0m \u001b[0mplt\u001b[0m\u001b[0;34m\u001b[0m\u001b[0m\n\u001b[1;32m      5\u001b[0m \u001b[0;32mimport\u001b[0m \u001b[0mnumpy\u001b[0m \u001b[0;32mas\u001b[0m \u001b[0mnp\u001b[0m\u001b[0;34m\u001b[0m\u001b[0m\n",
      "\u001b[0;31mImportError\u001b[0m: No module named ROOT"
     ]
    }
   ],
   "source": [
    "import ROOT\n",
    "import os, sys, pickle\n",
    "\n",
    "import matplotlib.pyplot as plt\n",
    "import numpy as np\n",
    "import collections\n",
    "%matplotlib inline \n",
    "\n",
    "import jp_mpl as jplot\n",
    "\n",
    "from scipy import optimize\n",
    "\n",
    "# My tools\n",
    "import jp_analysis as analysis\n",
    "from copy import deepcopy\n",
    "reload(analysis)\n",
    "import reflection_fit\n",
    "reload(reflection_fit)"
   ]
  },
  {
   "cell_type": "code",
   "execution_count": 2,
   "metadata": {
    "collapsed": true
   },
   "outputs": [],
   "source": [
    "c = 0.299792458*1000 # mm/ns, same as in Geant4"
   ]
  },
  {
   "cell_type": "code",
   "execution_count": 3,
   "metadata": {
    "collapsed": true
   },
   "outputs": [],
   "source": [
    "pmt_info = pickle.load(open('/home/jpyanez/snoplus/snoplus_python/pmt_positions.pckl'))"
   ]
  },
  {
   "cell_type": "code",
   "execution_count": 4,
   "metadata": {
    "collapsed": true
   },
   "outputs": [],
   "source": [
    "shadowed= pickle.load(open('/home/jpyanez/snoplus/data/SOC_shadows/SOC_0000017375.pckl'))"
   ]
  },
  {
   "cell_type": "code",
   "execution_count": 5,
   "metadata": {
    "collapsed": false
   },
   "outputs": [],
   "source": [
    "infile = ROOT.TFile('/home/jpyanez/snoplus/data/n16/ResolMC_FitMPW_N16_rat631_x0100_y0100_z0100.root')\n",
    "#infile = ROOT.TFile('/home/jpyanez/snoplus/data/n16/ResolMC_FitMPW_N16_rat631_x0000_y0000_z0000.root')\n",
    "#infile = ROOT.TFile('/home/jpyanez/snoplus/data/n16/Merged_Fit_100934.root')\n",
    "\n",
    "hist = infile.Get('htResVsPMTID')\n",
    "x_bins = hist.GetNbinsX()\n",
    "y_bins = hist.GetNbinsY()\n",
    "tcenters = np.zeros(y_bins)\n",
    "bins = np.zeros((x_bins,y_bins))\n",
    "for y_bin in xrange(y_bins):\n",
    "    tcenters[y_bin] = hist.GetYaxis().GetBinCenter(y_bin)\n",
    "    for x_bin in xrange(x_bins): \n",
    "        bins[x_bin,y_bin] = hist.GetBinContent(x_bin + 1,y_bin + 1)\n",
    "tedges = np.concatenate((tcenters - 0.5, [tcenters[-1]+0.5]))\n",
    "infile.Close()"
   ]
  },
  {
   "cell_type": "code",
   "execution_count": 8,
   "metadata": {
    "collapsed": false
   },
   "outputs": [],
   "source": [
    "# Realign the histogram - do it once, and save it\n",
    "rbins = np.zeros_like(bins)\n",
    "reference = bins[1,:]\n",
    "for iPMT in range(0, rbins.shape[0]):\n",
    "    rbins[iPMT,:] = analysis.alignHistogram(reference = bins[1,:],\n",
    "                                   test = bins[iPMT, :])"
   ]
  },
  {
   "cell_type": "code",
   "execution_count": 9,
   "metadata": {
    "collapsed": true
   },
   "outputs": [],
   "source": [
    "obins = deepcopy(bins)"
   ]
  },
  {
   "cell_type": "code",
   "execution_count": 10,
   "metadata": {
    "collapsed": false
   },
   "outputs": [
    {
     "name": "stderr",
     "output_type": "stream",
     "text": [
      "/gs/software/CentOS-6/eb/software/Toolchain/iomkl/2015b/IPython/3.2.1-Python-2.7.10/lib/python2.7/site-packages/IPython/kernel/__main__.py:2: RuntimeWarning: divide by zero encountered in log10\n",
      "  from IPython.kernel.zmq import kernelapp as app\n"
     ]
    },
    {
     "data": {
      "text/plain": [
       "<matplotlib.text.Text at 0x2b036d1c2b90>"
      ]
     },
     "execution_count": 10,
     "metadata": {},
     "output_type": "execute_result"
    },
    {
     "data": {
      "image/png": "[encoded data removed]",
      "text/plain": [
       "<matplotlib.figure.Figure at 0x2b03b4d759d0>"
      ]
     },
     "metadata": {},
     "output_type": "display_data"
    }
   ],
   "source": [
    "# This is the realigned histogram\n",
    "plt.imshow(np.log10(rbins.T), interpolation='nearest', aspect='auto',\n",
    "          origin='lower')\n",
    "plt.colorbar()\n",
    "plt.ylabel('Time residual (ns)')\n",
    "plt.xlabel('PMT ID')"
   ]
  },
  {
   "cell_type": "code",
   "execution_count": 11,
   "metadata": {
    "collapsed": false
   },
   "outputs": [
    {
     "name": "stderr",
     "output_type": "stream",
     "text": [
      "/gs/software/CentOS-6/eb/software/Toolchain/iomkl/2015b/IPython/3.2.1-Python-2.7.10/lib/python2.7/site-packages/IPython/kernel/__main__.py:1: RuntimeWarning: divide by zero encountered in log10\n",
      "  if __name__ == '__main__':\n"
     ]
    },
    {
     "data": {
      "text/plain": [
       "<matplotlib.text.Text at 0x2b03bca0f650>"
      ]
     },
     "execution_count": 11,
     "metadata": {},
     "output_type": "execute_result"
    },
    {
     "data": {
      "image/png": "[encoded data removed]",
      "text/plain": [
       "<matplotlib.figure.Figure at 0x2b03c8342d10>"
      ]
     },
     "metadata": {},
     "output_type": "display_data"
    }
   ],
   "source": [
    "jplot.unfilledBar(tedges, np.log10(bins[1,:]))\n",
    "#plt.xlim([240, 300])\n",
    "plt.ylabel('log10(hits)')\n",
    "plt.xlabel('Time (ns)')"
   ]
  },
  {
   "cell_type": "code",
   "execution_count": 12,
   "metadata": {
    "collapsed": false
   },
   "outputs": [],
   "source": [
    "def getTimeDiff(n = None,\n",
    "                ybins = None,\n",
    "                ycenters = None,\n",
    "                peak_width=4., # in ns \n",
    "                peak_width2 = 3.,\n",
    "                \n",
    "                expected_tdelay = 76.,\n",
    "                plot = False,\n",
    "                debug = False):\n",
    "    \n",
    "    bin_width = ybins[1]-ybins[0]\n",
    "    \n",
    "    # Find the highest peak\n",
    "    prompt_peak_index = n.argmax()\n",
    "    \n",
    "    # First peak range (in bins)\n",
    "    fit_s = prompt_peak_index - int(peak_width/bin_width)\n",
    "    fit_e = prompt_peak_index + int(peak_width/bin_width)\n",
    "    \n",
    "    \n",
    "    # Fit a gaussian +/- 4. ns around the peak\n",
    "    popt =  [n[prompt_peak_index]/2., ycenters[prompt_peak_index],3.]\n",
    "    try:\n",
    "        popt, pcov = optimize.curve_fit(analysis.gaus,\n",
    "                                        ycenters[fit_s:fit_e+1],\n",
    "                                        n[fit_s:fit_e+1],\n",
    "                                        popt,\n",
    "                                       )\n",
    "        perr = np.sqrt(np.diag(pcov))\n",
    "        terr1 = perr[1]\n",
    "        t1 = popt[1]\n",
    "    except:\n",
    "        terr1 = np.nan\n",
    "        t1 = np.nan\n",
    "    \n",
    "    # Fit a gaussian around the second peak\n",
    "    refl_peak_index = prompt_peak_index + int(expected_tdelay/bin_width)\n",
    "    fit_s2 = refl_peak_index - int(peak_width2/bin_width)\n",
    "    fit_e2 = refl_peak_index + int((peak_width2*2)/bin_width)\n",
    "    fit_e2 = np.min([fit_e2, ybins.size-1])\n",
    "    \n",
    "    if refl_peak_index > (ybins.size-1):\n",
    "        terr2 = np.nan\n",
    "        t2 = np.nan\n",
    "    else:   \n",
    "        # Fit a gaussian +/- 4. ns around the peak\n",
    "        try:\n",
    "            popt2 = [n[refl_peak_index]/2.,ycenters[refl_peak_index],3.]\n",
    "            popt2, pcov2 = optimize.curve_fit(analysis.gaus,\n",
    "                                              ycenters[fit_s2:fit_e2+1],\n",
    "                                              n[fit_s2:fit_e2+1],\n",
    "                                              popt2)   \n",
    "            perr2 = np.sqrt(np.diag(pcov2))\n",
    "            terr2 = perr2[1]\n",
    "            t2 = popt2[1]\n",
    "        except RuntimeError: \n",
    "            terr2 = np.nan\n",
    "            t2 = np.nan\n",
    "    \n",
    "\n",
    "    if plot:\n",
    "        fig = plt.figure(figsize=(7,4))\n",
    "        ax1 = fig.add_subplot(111)\n",
    "        jplot.unfilledBar(ybins, n, color='0.7')\n",
    "\n",
    "        newx = np.linspace(ycenters[fit_s]-3., ycenters[fit_e]+3., 101)\n",
    "        plt.plot(newx, analysis.gaus(newx, *popt), 'r')\n",
    "        \n",
    "        try:\n",
    "            newx = np.linspace(ycenters[fit_s2]-3., ycenters[fit_e2]+3., 101)\n",
    "            plt.plot(newx, analysis.gaus(newx, *popt2), 'r')    \n",
    "            plt.xlim([ycenters[prompt_peak_index]-20., ycenters[refl_peak_index] + 20])\n",
    "        except:\n",
    "            print 'Could not plot second gaus (out of bounds)'\n",
    "        \n",
    "        plt.yscale('log')\n",
    "        plt.ylabel('N hits')\n",
    "        plt.ylim([1., n[prompt_peak_index]*1.3])\n",
    "\n",
    "        return fig\n",
    "    \n",
    "        #raw_input()\n",
    "    return t1, terr1, t2, terr2"
   ]
  },
  {
   "cell_type": "markdown",
   "metadata": {},
   "source": [
    "### Going over the dimension, selecting PMTs"
   ]
  },
  {
   "cell_type": "code",
   "execution_count": 86,
   "metadata": {
    "collapsed": true
   },
   "outputs": [],
   "source": [
    "class FitLBpos(object):\n",
    "    def __init__(self,\n",
    "                 data = None,\n",
    "                 error = None,\n",
    "                 pmt_xyz = None,\n",
    "                 pmtbool = None,\n",
    "                 psup_radius = 8390.,\n",
    "                 water_n = 1.34389,\n",
    "                 print_call = True):\n",
    "        self.c            = 0.299792458*1000 # mm/ns\n",
    "        self.data    = deepcopy(data)\n",
    "        self.pmt_xyz = deepcopy(pmt_xyz)\n",
    "        self.pmtbool = deepcopy(pmtbool)\n",
    "        self.pmt_r   = np.linalg.norm(pmt_xyz,axis=1)\n",
    "        self.header_done = False\n",
    "\n",
    "        self.R = psup_radius\n",
    "        #self.water_c = c/water_n\n",
    "        self.print_call = print_call\n",
    "        \n",
    "        self.pmtbool[self.data == 0] = False\n",
    "        \n",
    "        if error == None:\n",
    "            self.error = np.ones_like(data)\n",
    "        else:\n",
    "            self.error = error + 1 # Adding one ns for everything\n",
    "    \n",
    "    def print_eval_header(self):\n",
    "        print 'FCN \\t\\t u \\t v \\t w \\t n'\n",
    "        self.header_done = True\n",
    "        \n",
    "    def print_eval(self, value, u, v, w, n):\n",
    "        if not self.header_done:\n",
    "            self.print_eval_header()\n",
    "        print value, '\\t', u, '\\t', v, '\\t', w, '\\t', n\n",
    "        \n",
    "    def __call__(self, u, v, w, n):\n",
    "        this_pos = np.array([ u, v, w])\n",
    "        water_c = self.c/n\n",
    "        tdiff = 2*self.R/water_c* \\\n",
    "                (1+np.dot(self.pmt_xyz,this_pos)/(self.pmt_r*self.R))\n",
    "        \n",
    "        delta = (tdiff - self.data)[self.pmtbool]**2/self.error[self.pmtbool]**2\n",
    "        delta = np.sum(delta)\n",
    "        \n",
    "        if self.print_call:\n",
    "            self.print_eval(delta, u, v, w, n)\n",
    "        \n",
    "        return delta"
   ]
  },
  {
   "cell_type": "code",
   "execution_count": 13,
   "metadata": {
    "collapsed": false
   },
   "outputs": [],
   "source": [
    "pmtbool = (pmt_info['type'] == 1)+(pmt_info['type'] == 7) * ~shadowed\n"
   ]
  },
  {
   "cell_type": "code",
   "execution_count": 118,
   "metadata": {
    "collapsed": true
   },
   "outputs": [],
   "source": [
    "psup_radius = 8390.\n",
    "n = 1.383\n",
    "zmin = -6000"
   ]
  },
  {
   "cell_type": "markdown",
   "metadata": {},
   "source": [
    "## Doing the fit all together, splitting by angular region"
   ]
  },
  {
   "cell_type": "code",
   "execution_count": 119,
   "metadata": {
    "collapsed": false
   },
   "outputs": [],
   "source": [
    "shifted_sum = True\n",
    "if shifted_sum:\n",
    "    bins = rbins\n",
    "else:\n",
    "    bins = obins\n",
    "\n",
    "# Bin in costheta and phi\n",
    "phi_slices = 10\n",
    "ct_slices  = 20\n",
    "\n",
    "pmtbool = (pmt_info['type'] == 1)+(pmt_info['type'] == 7)\n",
    "\n",
    "phi_edges = np.linspace(-np.pi, np.pi, phi_slices + 1)\n",
    "ct_edges  = np.linspace(-1, 1, ct_slices + 1)\n",
    "\n",
    "tof = np.zeros([phi_slices*ct_slices,4])\n",
    "slice_xyz = np.zeros([phi_slices*ct_slices, 3])\n",
    "slice_npmt = np.zeros(phi_slices*ct_slices)\n",
    "\n",
    "iBin = 0\n",
    "for iPhi in range(phi_slices):\n",
    "    for iCt in range(ct_slices):\n",
    "        \n",
    "        # Select pmts in this angular range\n",
    "        angbool = ((pmt_info['phi'] > phi_edges[iPhi]) * \n",
    "                   (pmt_info['phi'] < phi_edges[iPhi+1])*\n",
    "                   (pmt_info['costheta'] > ct_edges[iCt])*\n",
    "                   (pmt_info['costheta'] < ct_edges[iCt+1]))\n",
    "        \n",
    "        slice_npmt[iBin] = np.sum(angbool*pmtbool)\n",
    "        if slice_npmt[iBin] == 0:\n",
    "            tof[iBin,:] = [np.nan, np.nan, np.nan, np.nan]\n",
    "            continue\n",
    "            \n",
    "        slice_xyz[iBin,:] = pmt_info['xyz'][angbool*pmtbool,:].mean(axis=0)\n",
    "        \n",
    "        newbins = np.sum(bins[pmtbool*angbool, :], axis=0)\n",
    "        \n",
    "        #print newbins.shape, tedges.shape, tcenters.shape\n",
    "        \n",
    "        tof[iBin,:] = getTimeDiff(n = newbins,\n",
    "                                  ybins = tedges,\n",
    "                                  ycenters = tcenters,\n",
    "                                  expected_tdelay = 77.,\n",
    "                                  peak_width2 = 4.,\n",
    "                                  plot = False)        \n",
    "        \n",
    "        iBin += 1\n"
   ]
  },
  {
   "cell_type": "markdown",
   "metadata": {},
   "source": [
    "### This is Jie's fit, each dimension at a time"
   ]
  },
  {
   "cell_type": "code",
   "execution_count": 120,
   "metadata": {
    "collapsed": false
   },
   "outputs": [
    {
     "name": "stdout",
     "output_type": "stream",
     "text": [
      "Valid PMT sections 200 out of  200\n"
     ]
    },
    {
     "data": {
      "image/png": "[encoded data removed]",
      "text/plain": [
       "<matplotlib.figure.Figure at 0x2b03c8ab3cd0>"
      ]
     },
     "metadata": {},
     "output_type": "display_data"
    }
   ],
   "source": [
    "valid = (~np.isnan(tof[:,0]))*(~np.isnan(tof[:,2]))\n",
    "print 'Valid PMT sections', np.sum(valid), 'out of ', tof.shape[0]\n",
    "tdelay = tof[:,2] - tof[:,0]\n",
    "tderr  = np.sqrt(tof[:,1]**2 + tof[:,3]**2)\n",
    "fig = plt.figure(figsize=(14,12))\n",
    "\n",
    "refl_fit = np.zeros([3,2])\n",
    "refl_err = np.zeros([3,2])\n",
    "\n",
    "newaxis = np.linspace(-psup_radius, psup_radius, 1001)\n",
    "zaxis = np.linspace(zmin, psup_radius, 1001)\n",
    "plotaxes = [newaxis, newaxis, zaxis]\n",
    "\n",
    "axes_names = ['x','y','z']\n",
    "for iAx in range(3):\n",
    "\n",
    "    fig.add_subplot(3,1,iAx+1)\n",
    "    plt.errorbar(x = slice_xyz[valid, iAx], \n",
    "                 y = tdelay[valid],\n",
    "                 yerr = tderr[valid],\n",
    "                 fmt = 'none', elinewidth=2., capsize=0., ecolor = '0.6')\n",
    "    \n",
    "    if iAx == 2: # Additional constraint for the validity of PMTs in Z\n",
    "        valid *= slice_xyz[:,iAx] > zmin\n",
    "    p0 = [0., 2*psup_radius/(c/1.3)]\n",
    "    xfit,xcov = optimize.curve_fit(f = analysis.line_fcn,\n",
    "                                    xdata = slice_xyz[valid, iAx],\n",
    "                                    ydata = tdelay[valid],\n",
    "                                    p0 = p0,\n",
    "                                    sigma = tderr[valid]\n",
    "                                    )        \n",
    "    refl_fit[iAx,:] = xfit\n",
    "    refl_err[iAx,:] = np.sqrt(np.diag(xcov))\n",
    "\n",
    "    plt.plot(plotaxes[iAx], \n",
    "             analysis.line_fcn(plotaxes[iAx], *xfit), '-g') \n",
    "    \n",
    "    plt.ylabel('Time delay (ns)')\n",
    "    plt.xlabel(axes_names[iAx] + ' PMT (mm)')\n",
    "    plt.ylim([60, 80])\n",
    "    plt.xlim([-8500, 8500])\n",
    "    "
   ]
  },
  {
   "cell_type": "code",
   "execution_count": 121,
   "metadata": {
    "collapsed": false
   },
   "outputs": [
    {
     "name": "stdout",
     "output_type": "stream",
     "text": [
      "Calculating the positions\n",
      "x = 72.2960691053 +/- 11.0629585979\n",
      "y = 85.891334438 +/- 10.1537824483\n",
      "z = 68.4342575193 +/- 14.8235849599\n"
     ]
    }
   ],
   "source": [
    "print 'Calculating the positions'\n",
    "psup_radius = 8390.\n",
    "n = 1.383\n",
    "for iAx in range(3):\n",
    "    print axes_names[iAx], '=', refl_fit[iAx,0]*(c/n)*psup_radius/2., \\\n",
    "        '+/-', refl_err[iAx,0]*(c/n)*psup_radius/2."
   ]
  },
  {
   "cell_type": "markdown",
   "metadata": {},
   "source": [
    "## This is my fit, all 3 and n at once"
   ]
  },
  {
   "cell_type": "code",
   "execution_count": 122,
   "metadata": {
    "collapsed": false
   },
   "outputs": [
    {
     "name": "stderr",
     "output_type": "stream",
     "text": [
      "/gs/software/CentOS-6/eb/software/Toolchain/iomkl/2015b/IPython/3.2.1-Python-2.7.10/lib/python2.7/site-packages/IPython/kernel/__main__.py:23: FutureWarning: comparison to `None` will result in an elementwise object comparison in the future.\n"
     ]
    }
   ],
   "source": [
    "sourcefit = FitLBpos( data = tdelay,\n",
    "                      error = tderr,\n",
    "                      pmt_xyz = slice_xyz,\n",
    "                      pmtbool = valid,\n",
    "                      print_call = False)"
   ]
  },
  {
   "cell_type": "code",
   "execution_count": 123,
   "metadata": {
    "collapsed": false
   },
   "outputs": [
    {
     "data": {
      "text/plain": [
       "array([ 78.60469739,  96.27926335,  79.10316982,   1.36457781])"
      ]
     },
     "execution_count": 123,
     "metadata": {},
     "output_type": "execute_result"
    }
   ],
   "source": [
    "wrapfcn = lambda p: sourcefit(*p)\n",
    "my_x0 = np.array([10., 10., 10., 1.3])\n",
    "fit = optimize.minimize(wrapfcn,\n",
    "                        x0 = my_x0,\n",
    "                        method = 'SLSQP',\n",
    "                        bounds=((-6500,6500),\n",
    "                                (-6500,6500),\n",
    "                                (-6500,6500),\n",
    "                                (0.5, 2.)),\n",
    "                        options={'ftol':1E-7, 'maxiter':1000})\n",
    "fit.x"
   ]
  },
  {
   "cell_type": "markdown",
   "metadata": {
    "collapsed": true
   },
   "source": [
    "## Doing the fit one dimension at a time, redoing slices"
   ]
  },
  {
   "cell_type": "code",
   "execution_count": 130,
   "metadata": {
    "collapsed": false
   },
   "outputs": [
    {
     "name": "stdout",
     "output_type": "stream",
     "text": [
      "Average nPMTs 276.176470588\n",
      "Average nPMTs 276.235294118\n",
      "Average nPMTs 276.147058824\n"
     ]
    },
    {
     "data": {
      "image/png": "[encoded data removed]",
      "text/plain": [
       "<matplotlib.figure.Figure at 0x2b03c8cbc590>"
      ]
     },
     "metadata": {},
     "output_type": "display_data"
    }
   ],
   "source": [
    "fig = plt.figure(figsize=(14,12))\n",
    "\n",
    "shifted_sum = True\n",
    "if shifted_sum:\n",
    "    bins = rbins\n",
    "else:\n",
    "    bins = obins\n",
    "    \n",
    "zmin = -6000\n",
    "\n",
    "# The PMTs need to be selected according to their position in X, Y, Z\n",
    "axes_names = ['x','y','z']\n",
    "axes = [0, 1, 2]\n",
    "tol  = 500 # in mm\n",
    "pmtbool = (pmt_info['type'] == 1)+(pmt_info['type'] == 7)\n",
    "psup_radius = 8390.\n",
    "\n",
    "\n",
    "newaxis = np.linspace(-psup_radius, psup_radius, 1001)\n",
    "zaxis = np.linspace(zmin, psup_radius, 1001)\n",
    "plotaxes = [newaxis, newaxis, zaxis]\n",
    "\n",
    "refl_fit = np.zeros([3,2])\n",
    "refl_err = np.zeros([3,2])\n",
    "\n",
    "for iAx in range(len(axes)):\n",
    "    xmax = pmt_info['xyz'][pmtbool,axes[iAx]].max()\n",
    "    xmin = pmt_info['xyz'][pmtbool,axes[iAx]].min()\n",
    "    pmt_bins = int(np.ceil((xmax-xmin)/tol))\n",
    "    npmts = np.zeros(pmt_bins)\n",
    "    \n",
    "    tof = np.zeros([pmt_bins,4])\n",
    "    xpos   = np.zeros(pmt_bins)\n",
    "    \n",
    "\n",
    "    for iBin in range(pmt_bins):\n",
    "        rangebool = ((pmt_info['xyz'][:,iAx] > (xmin+iBin*tol) ) * \n",
    "                     (pmt_info['xyz'][:,iAx] < (xmin+(iBin+1)*tol)))\n",
    "        #print 'Bin ', iBin, '- PMTs in range', np.sum(rangebool)\n",
    "        npmts[iBin] = np.sum(rangebool*pmtbool)\n",
    "        if np.sum(rangebool*pmtbool) == 0:\n",
    "            tof[iBin,:] = np.nan\n",
    "            xpos[iBin] = np.nan\n",
    "            continue\n",
    "        newbins = np.sum(bins[pmtbool*rangebool, :], axis=0)\n",
    "        \n",
    "        xpos[iBin] = pmt_info['xyz'][pmtbool*rangebool, iAx].mean()\n",
    "        \n",
    "        tof[iBin,:] = getTimeDiff(n = newbins,\n",
    "                                     ybins = tedges,\n",
    "                                     ycenters = tcenters,\n",
    "                                     expected_tdelay = 77.,\n",
    "                                     peak_width2 = 4.,\n",
    "                                     plot = False)\n",
    "        \n",
    "    # After selecting PMTs and finding peaks, it is time to fit\n",
    "        \n",
    "    # PMTs with valid fits\n",
    "    valid = (~np.isnan(tof[:,0]))*(~np.isnan(tof[:,2]))\n",
    "\n",
    "        \n",
    "        \n",
    "    tdelay = tof[:,2] - tof[:,0]\n",
    "    tderr  = np.sqrt(tof[:,1]**2 + tof[:,3]**2)\n",
    "    fig.add_subplot(3,1,iAx+1)\n",
    "    plt.errorbar(x = xpos[valid], \n",
    "                 y = tdelay[valid],\n",
    "                 yerr = tderr[valid],\n",
    "                fmt = 'none', elinewidth=2., capsize=0., ecolor = '0.6')\n",
    "    \n",
    "    if iAx == 2: # Additional constraint for the validity of PMTs in Z\n",
    "        valid *= xpos > zmin\n",
    "    p0 = [0., 2*psup_radius/(c/1.3)]\n",
    "    xfit,xcov = optimize.curve_fit(f = analysis.line_fcn,\n",
    "                                    xdata = xpos[valid],\n",
    "                                    ydata = tdelay[valid],\n",
    "                                    p0 = p0,\n",
    "                                    sigma = tderr[valid]\n",
    "                                    )        \n",
    "    refl_fit[iAx,:] = xfit\n",
    "    refl_err[iAx,:] = np.sqrt(np.diag(xcov))\n",
    "\n",
    "    plt.plot(plotaxes[iAx], \n",
    "             analysis.line_fcn(plotaxes[iAx], *xfit), '-g') \n",
    "    \n",
    "    plt.ylabel('Time delay (ns)')\n",
    "    plt.xlabel(axes_names[iAx] + ' PMT (mm)')\n",
    "    plt.ylim([60, 80])\n",
    "    plt.xlim([-8500, 8500])\n",
    "    \n",
    "    \n",
    "\n",
    "        \n",
    "    print 'Average nPMTs', npmts.mean()\n",
    "\n",
    "    \n"
   ]
  },
  {
   "cell_type": "code",
   "execution_count": 131,
   "metadata": {
    "collapsed": false
   },
   "outputs": [
    {
     "name": "stdout",
     "output_type": "stream",
     "text": [
      "Calculating the positions\n",
      "x = 87.9897063301 +/- 8.56873347287\n",
      "y = 103.701295774 +/- 9.18905961093\n",
      "z = 82.2299447062 +/- 13.377587938\n"
     ]
    }
   ],
   "source": [
    "print 'Calculating the positions'\n",
    "psup_radius = 8390.\n",
    "n = 1.383\n",
    "for iAx in range(3):\n",
    "    print axes_names[iAx], '=', refl_fit[iAx,0]*(c/n)*psup_radius/2., \\\n",
    "        '+/-', refl_err[iAx,0]*(c/n)*psup_radius/2."
   ]
  }
 ],
 "metadata": {
  "kernelspec": {
   "display_name": "Python 2",
   "language": "python",
   "name": "python2"
  },
  "language_info": {
   "codemirror_mode": {
    "name": "ipython",
    "version": 2
   },
   "file_extension": ".py",
   "mimetype": "text/x-python",
   "name": "python",
   "nbconvert_exporter": "python",
   "pygments_lexer": "ipython2",
   "version": "2.7.13"
  }
 },
 "nbformat": 4,
 "nbformat_minor": 2
}
