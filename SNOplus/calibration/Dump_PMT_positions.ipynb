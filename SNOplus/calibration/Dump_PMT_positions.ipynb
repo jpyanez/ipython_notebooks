{
 "cells": [
  {
   "cell_type": "code",
   "execution_count": 1,
   "metadata": {
    "collapsed": false
   },
   "outputs": [
    {
     "name": "stdout",
     "output_type": "stream",
     "text": [
      "Populating the interactive namespace from numpy and matplotlib\n"
     ]
    },
    {
     "name": "stderr",
     "output_type": "stream",
     "text": [
      "TClass::TClass:0: RuntimeWarning: no dictionary for class omtext is available\n"
     ]
    }
   ],
   "source": [
    "%pylab inline\n",
    "\n",
    "import ROOT, rat\n",
    "import numpy as np\n",
    "import rat_misc"
   ]
  },
  {
   "cell_type": "code",
   "execution_count": 2,
   "metadata": {
    "collapsed": false
   },
   "outputs": [
    {
     "name": "stdout",
     "output_type": "stream",
     "text": [
      "No ratreader file. Opening it for the first time\n"
     ]
    }
   ],
   "source": [
    "# Need to read at least one file to use the rat utility\n",
    "infile='/home/jpyanez/snoplus/data/october17_data_test/Analysis_r0000104887_s003_p000.root'\n",
    "ratreader = None\n",
    "ratreader = rat_misc.openRat(infile, None, ratreader)"
   ]
  },
  {
   "cell_type": "code",
   "execution_count": 3,
   "metadata": {
    "collapsed": true
   },
   "outputs": [],
   "source": [
    "ds, run = ratreader.next()"
   ]
  },
  {
   "cell_type": "code",
   "execution_count": 5,
   "metadata": {
    "collapsed": false
   },
   "outputs": [
    {
     "name": "stdout",
     "output_type": "stream",
     "text": [
      "Maximum reached, exiting 9728\n"
     ]
    }
   ],
   "source": [
    "# Obtain and store pmt positions\n",
    "du = rat.utility()\n",
    "maxpmts = 10000\n",
    "pmt_positions = np.zeros([maxpmts,3])\n",
    "pmt_type = np.zeros(maxpmts)\n",
    "for i in range(maxpmts):\n",
    "    try:\n",
    "        pmt_positions[i,:] = np.array(du.GetPMTInfo().GetPosition(i))\n",
    "        pmt_type[i] = du.GetPMTInfo().GetType(i)\n",
    "    except:\n",
    "        print 'Maximum reached, exiting', i\n",
    "        exit_i = i\n",
    "        break\n",
    "pmt_positions = pmt_positions[:exit_i,:]\n",
    "pmt_type = pmt_type[:exit_i]\n",
    "\n",
    "pmt_radii = np.sqrt(np.sum(pmt_positions**2,axis=1))\n",
    "costheta = pmt_positions[:,2]/pmt_radii\n",
    "phi      = np.arctan2(pmt_positions[:,1], \n",
    "                      pmt_positions[:,0])\n",
    "import pickle\n",
    "pickle.dump({'xyz':pmt_positions, 'phi':phi, 'costheta':costheta, 'type':pmt_type}, \n",
    "             open('/home/jpyanez/snoplus/snoplus_python/pmt_positions_2.pckl','w'))"
   ]
  },
  {
   "cell_type": "code",
   "execution_count": 4,
   "metadata": {
    "collapsed": false
   },
   "outputs": [
    {
     "name": "stderr",
     "output_type": "stream",
     "text": [
      "TClass::TClass:0: RuntimeWarning: no dictionary for class RAT::DU::ShadowingCalculator is available\n"
     ]
    }
   ],
   "source": [
    "du = rat.utility()"
   ]
  },
  {
   "cell_type": "code",
   "execution_count": 5,
   "metadata": {
    "collapsed": false
   },
   "outputs": [],
   "source": [
    "pmt_info = du.GetPMTInfo()"
   ]
  },
  {
   "cell_type": "code",
   "execution_count": 33,
   "metadata": {
    "collapsed": false
   },
   "outputs": [
    {
     "data": {
      "text/plain": [
       "array([-99999., -99999., -99999.])"
      ]
     },
     "execution_count": 33,
     "metadata": {},
     "output_type": "execute_result"
    }
   ],
   "source": [
    "np.array( pmt_info.GetPosition(0))"
   ]
  },
  {
   "cell_type": "code",
   "execution_count": 8,
   "metadata": {
    "collapsed": false
   },
   "outputs": [],
   "source": [
    "pmt_info.Get"
   ]
  },
  {
   "cell_type": "code",
   "execution_count": null,
   "metadata": {
    "collapsed": true
   },
   "outputs": [],
   "source": []
  }
 ],
 "metadata": {
  "kernelspec": {
   "display_name": "Python 2",
   "language": "python",
   "name": "python2"
  },
  "language_info": {
   "codemirror_mode": {
    "name": "ipython",
    "version": 2
   },
   "file_extension": ".py",
   "mimetype": "text/x-python",
   "name": "python",
   "nbconvert_exporter": "python",
   "pygments_lexer": "ipython2",
   "version": "2.7.10"
  }
 },
 "nbformat": 4,
 "nbformat_minor": 2
}
