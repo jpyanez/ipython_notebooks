{
 "cells": [
  {
   "cell_type": "code",
   "execution_count": 1,
   "metadata": {},
   "outputs": [
    {
     "name": "stderr",
     "output_type": "stream",
     "text": [
      "TClass::TClass:0: RuntimeWarning: no dictionary for class omtext is available\n"
     ]
    },
    {
     "name": "stdout",
     "output_type": "stream",
     "text": [
      "This is AIRPLANE MODE - be careful!\n"
     ]
    },
    {
     "name": "stderr",
     "output_type": "stream",
     "text": [
      "TClass::TClass:0: RuntimeWarning: no dictionary for class RAT::DBTableKey is available\n"
     ]
    }
   ],
   "source": [
    "import ROOT, rat\n",
    "\n",
    "import os, sys\n",
    "\n",
    "import numpy as np\n",
    "\n",
    "from copy import deepcopy\n",
    "\n",
    "# Only extracting information, always run in airplane mode\n",
    "# Airplane mode\n",
    "db = rat.RAT.DB.Get()\n",
    "db.SetAirplaneModeStatus(True)\n",
    "db.SetDefaultPlaneLockStatus(False)\n",
    "print 'This is AIRPLANE MODE - be careful!'\n",
    "\n"
   ]
  },
  {
   "cell_type": "code",
   "execution_count": 80,
   "metadata": {},
   "outputs": [],
   "source": [
    "#infile_name = '/home/jpyanez/snoplus/data/tests/no_noise.root'\n",
    "#infile_name = '/home/jpyanez/snoplus/data/tests/add_noise.root'\n",
    "infile_name = '/home/jpyanez/snoplus/software/rat-jonathan/mac/production/water_splitprod/jp_noise.root'"
   ]
  },
  {
   "cell_type": "code",
   "execution_count": 81,
   "metadata": {},
   "outputs": [],
   "source": [
    "def find_noise(ds):\n",
    "    mc = ds.GetMC()\n",
    "    for iPMT in range(mc.GetMCPMTCount()+2):\n",
    "        try:\n",
    "            pmt = mc.GetMCPMT(iPMT)\n",
    "            for iMCPE in range(pmt.GetMCPECount()+1):\n",
    "                try:\n",
    "                    mcpe = pmt.GetMCPE(iMCPE)\n",
    "                    print('Noise', mcpe.GetNoise(), mcpe.GetCreationTime())\n",
    "                    if iMCPE >= pmt.GetMCPECount():\n",
    "                        print('Problem in counting of MCPEs!')\n",
    "                except:\n",
    "                    break\n",
    "            if iPMT >= mc.GetMCPMTCount():\n",
    "                print('Problem in counting of PMTs!')\n",
    "        except:\n",
    "            break"
   ]
  },
  {
   "cell_type": "code",
   "execution_count": 82,
   "metadata": {},
   "outputs": [],
   "source": [
    "infile = rat.dsreader(infile_name)"
   ]
  },
  {
   "cell_type": "code",
   "execution_count": 83,
   "metadata": {},
   "outputs": [
    {
     "name": "stdout",
     "output_type": "stream",
     "text": [
      "\n",
      "New event\n",
      "('Noise', True, -36.08634948730469)\n",
      "('Noise', True, -26.07107925415039)\n",
      "('Noise', False, 0.2934744954109192)\n",
      "('Noise', False, 0.6147663593292236)\n",
      "('Noise', False, 0.7048330903053284)\n",
      "('Noise', False, 27.67999839782715)\n",
      "('Noise', True, 33.0749397277832)\n",
      "('Noise', False, 46.26654052734375)\n",
      "('Noise', False, 47.616607666015625)\n",
      "('Noise', False, 49.54940414428711)\n",
      "('Noise', True, 50.40017318725586)\n",
      "('Noise', False, 79.08001708984375)\n",
      "('Noise', True, 171.89146423339844)\n",
      "('Noise', True, 393.8115234375)\n",
      "('Noise', True, 397.87115478515625)\n",
      "('Noise', True, 475.7103576660156)\n",
      "('Noise', True, 658.1395263671875)\n",
      "\n",
      "New event\n",
      "('Noise', False, 1.0376678705215454)\n",
      "('Noise', False, 1.0511966943740845)\n",
      "('Noise', False, 1.1177269220352173)\n",
      "('Noise', False, 1.128499984741211)\n",
      "('Noise', False, 1.1442091464996338)\n",
      "('Noise', False, 1.1873148679733276)\n",
      "('Noise', False, 1.2775167226791382)\n",
      "('Noise', False, 1.3514714241027832)\n",
      "('Noise', False, 1.380593180656433)\n",
      "('Noise', True, 164.75408935546875)\n",
      "('Noise', True, 329.7275085449219)\n",
      "('Noise', True, 402.7594299316406)\n",
      "('Noise', True, 497.93670654296875)\n",
      "('Noise', True, 579.4359741210938)\n",
      "\n",
      "New event\n",
      "('Noise', True, -277.34576416015625)\n",
      "('Noise', True, -94.05746459960938)\n",
      "('Noise', True, -49.7614860534668)\n",
      "('Noise', True, 79.57334899902344)\n",
      "('Noise', True, 393.32171630859375)\n",
      "('Noise', True, 511.52459716796875)\n",
      "('Noise', True, 715.2634887695312)\n",
      "\n",
      "New event\n",
      "('Noise', True, -166.18765258789062)\n",
      "('Noise', False, 0.5939193964004517)\n",
      "('Noise', True, 39.24562454223633)\n",
      "('Noise', True, 179.03468322753906)\n",
      "('Noise', True, 249.9457550048828)\n",
      "('Noise', True, 413.5942077636719)\n",
      "('Noise', True, 465.8423156738281)\n",
      "\n",
      "New event\n",
      "('Noise', False, 0.8008315563201904)\n",
      "('Noise', True, 116.01851654052734)\n"
     ]
    }
   ],
   "source": [
    "for ds, run in infile:\n",
    "    print '\\nNew event'\n",
    "    find_noise(ds)"
   ]
  },
  {
   "cell_type": "code",
   "execution_count": 84,
   "metadata": {},
   "outputs": [
    {
     "name": "stdout",
     "output_type": "stream",
     "text": [
      "\n",
      "New event\n",
      "('Noise', False, 0.2934744954109192)\n",
      "('Noise', False, 0.6147663593292236)\n",
      "('Noise', False, 0.7048330903053284)\n",
      "('Noise', False, 27.67999839782715)\n",
      "('Noise', False, 46.26654052734375)\n",
      "('Noise', False, 47.616607666015625)\n",
      "('Noise', False, 49.54940414428711)\n",
      "('Noise', False, 79.08001708984375)\n",
      "\n",
      "New event\n",
      "('Noise', False, 1.0376678705215454)\n",
      "('Noise', False, 1.0511966943740845)\n",
      "('Noise', False, 1.1177269220352173)\n",
      "('Noise', False, 1.128499984741211)\n",
      "('Noise', False, 1.1442091464996338)\n",
      "('Noise', False, 1.1873148679733276)\n",
      "('Noise', False, 1.2775167226791382)\n",
      "('Noise', False, 1.3514714241027832)\n",
      "('Noise', False, 1.380593180656433)\n",
      "\n",
      "New event\n",
      "\n",
      "New event\n",
      "('Noise', False, 0.5939193964004517)\n",
      "\n",
      "New event\n",
      "('Noise', False, 0.8008315563201904)\n"
     ]
    }
   ],
   "source": [
    "infile_name = '/home/jpyanez/snoplus/data/tests/no_noise.root'\n",
    "infile = rat.dsreader(infile_name)\n",
    "for ds, run in infile:\n",
    "    print '\\nNew event'\n",
    "    find_noise(ds)"
   ]
  }
 ],
 "metadata": {
  "kernelspec": {
   "display_name": "Python 2",
   "language": "python",
   "name": "python2"
  },
  "language_info": {
   "codemirror_mode": {
    "name": "ipython",
    "version": 2
   },
   "file_extension": ".py",
   "mimetype": "text/x-python",
   "name": "python",
   "nbconvert_exporter": "python",
   "pygments_lexer": "ipython2",
   "version": "2.7.14"
  }
 },
 "nbformat": 4,
 "nbformat_minor": 2
}
