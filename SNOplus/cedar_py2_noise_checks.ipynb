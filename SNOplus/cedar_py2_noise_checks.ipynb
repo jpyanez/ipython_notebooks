{
 "cells": [
  {
   "cell_type": "code",
   "execution_count": 1,
   "metadata": {},
   "outputs": [
    {
     "name": "stderr",
     "output_type": "stream",
     "text": [
      "TClass::TClass:0: RuntimeWarning: no dictionary for class omtext is available\n"
     ]
    },
    {
     "name": "stdout",
     "output_type": "stream",
     "text": [
      "This is AIRPLANE MODE - be careful!\n"
     ]
    },
    {
     "name": "stderr",
     "output_type": "stream",
     "text": [
      "TClass::TClass:0: RuntimeWarning: no dictionary for class RAT::DBTableKey is available\n"
     ]
    }
   ],
   "source": [
    "import ROOT, rat\n",
    "\n",
    "import os, sys\n",
    "\n",
    "import numpy as np\n",
    "\n",
    "from copy import deepcopy\n",
    "\n",
    "# Only extracting information, always run in airplane mode\n",
    "# Airplane mode\n",
    "db = rat.RAT.DB.Get()\n",
    "db.SetAirplaneModeStatus(True)\n",
    "db.SetDefaultPlaneLockStatus(False)\n",
    "print 'This is AIRPLANE MODE - be careful!'\n",
    "\n"
   ]
  },
  {
   "cell_type": "code",
   "execution_count": 80,
   "metadata": {},
   "outputs": [],
   "source": [
    "#infile_name = '/home/jpyanez/snoplus/data/tests/no_noise.root'\n",
    "#infile_name = '/home/jpyanez/snoplus/data/tests/add_noise.root'\n"
   ]
  },
  {
   "cell_type": "code",
   "execution_count": 89,
   "metadata": {},
   "outputs": [],
   "source": [
    "def find_noise(ds):\n",
    "    mc = ds.GetMC()\n",
    "    for iPMT in range(mc.GetMCPMTCount()):\n",
    "        pmt = mc.GetMCPMT(iPMT)\n",
    "        for iMCPE in range(pmt.GetMCPECount()):\n",
    "            mcpe = pmt.GetMCPE(iMCPE)\n",
    "            print('PMT', pmt.GetID(), 'Is noise?',  mcpe.GetNoise(), 'Time', mcpe.GetCreationTime())"
   ]
  },
  {
   "cell_type": "code",
   "execution_count": 91,
   "metadata": {},
   "outputs": [
    {
     "name": "stdout",
     "output_type": "stream",
     "text": [
      "\n",
      "New event\n",
      "('PMT', 3725L, 'Is noise?', False, 'Time', 0.2934744954109192)\n",
      "('PMT', 3725L, 'Is noise?', False, 'Time', 0.6147663593292236)\n",
      "('PMT', 3725L, 'Is noise?', False, 'Time', 0.7048330903053284)\n",
      "('PMT', 4722L, 'Is noise?', False, 'Time', 27.67999839782715)\n",
      "('PMT', 6592L, 'Is noise?', False, 'Time', 46.26654052734375)\n",
      "('PMT', 5057L, 'Is noise?', False, 'Time', 47.616607666015625)\n",
      "('PMT', 2181L, 'Is noise?', False, 'Time', 49.54940414428711)\n",
      "('PMT', 9234L, 'Is noise?', False, 'Time', 79.08001708984375)\n",
      "\n",
      "New event\n",
      "('PMT', 7560L, 'Is noise?', False, 'Time', 1.0376678705215454)\n",
      "('PMT', 7560L, 'Is noise?', False, 'Time', 1.0511966943740845)\n",
      "('PMT', 7560L, 'Is noise?', False, 'Time', 1.1177269220352173)\n",
      "('PMT', 7560L, 'Is noise?', False, 'Time', 1.128499984741211)\n",
      "('PMT', 7560L, 'Is noise?', False, 'Time', 1.1442091464996338)\n",
      "('PMT', 7560L, 'Is noise?', False, 'Time', 1.1873148679733276)\n",
      "('PMT', 7560L, 'Is noise?', False, 'Time', 1.2775167226791382)\n",
      "('PMT', 7560L, 'Is noise?', False, 'Time', 1.3514714241027832)\n",
      "('PMT', 7560L, 'Is noise?', False, 'Time', 1.380593180656433)\n",
      "\n",
      "New event\n",
      "\n",
      "New event\n",
      "('PMT', 7777L, 'Is noise?', False, 'Time', 0.5939193964004517)\n",
      "\n",
      "New event\n",
      "('PMT', 3325L, 'Is noise?', False, 'Time', 0.8008315563201904)\n"
     ]
    }
   ],
   "source": [
    "infile_name = '/home/jpyanez/snoplus/data/tests/no_noise.root'\n",
    "infile = rat.dsreader(infile_name)\n",
    "for ds, run in infile:\n",
    "    print '\\nNew event'\n",
    "    find_noise(ds)"
   ]
  },
  {
   "cell_type": "code",
   "execution_count": 90,
   "metadata": {},
   "outputs": [
    {
     "name": "stdout",
     "output_type": "stream",
     "text": [
      "\n",
      "New event\n",
      "('PMT', 8029L, 'Is noise?', True, 'Time', -36.08634948730469)\n",
      "('PMT', 1830L, 'Is noise?', True, 'Time', -26.07107925415039)\n",
      "('PMT', 3725L, 'Is noise?', False, 'Time', 0.2934744954109192)\n",
      "('PMT', 3725L, 'Is noise?', False, 'Time', 0.6147663593292236)\n",
      "('PMT', 3725L, 'Is noise?', False, 'Time', 0.7048330903053284)\n",
      "('PMT', 4722L, 'Is noise?', False, 'Time', 27.67999839782715)\n",
      "('PMT', 3982L, 'Is noise?', True, 'Time', 33.0749397277832)\n",
      "('PMT', 6592L, 'Is noise?', False, 'Time', 46.26654052734375)\n",
      "('PMT', 5057L, 'Is noise?', False, 'Time', 47.616607666015625)\n",
      "('PMT', 2181L, 'Is noise?', False, 'Time', 49.54940414428711)\n",
      "('PMT', 6348L, 'Is noise?', True, 'Time', 50.40017318725586)\n",
      "('PMT', 9234L, 'Is noise?', False, 'Time', 79.08001708984375)\n",
      "('PMT', 406L, 'Is noise?', True, 'Time', 171.89146423339844)\n",
      "('PMT', 6219L, 'Is noise?', True, 'Time', 393.8115234375)\n",
      "('PMT', 9652L, 'Is noise?', True, 'Time', 397.87115478515625)\n",
      "('PMT', 8990L, 'Is noise?', True, 'Time', 475.7103576660156)\n",
      "('PMT', 688L, 'Is noise?', True, 'Time', 658.1395263671875)\n",
      "\n",
      "New event\n",
      "('PMT', 7560L, 'Is noise?', False, 'Time', 1.0376678705215454)\n",
      "('PMT', 7560L, 'Is noise?', False, 'Time', 1.0511966943740845)\n",
      "('PMT', 7560L, 'Is noise?', False, 'Time', 1.1177269220352173)\n",
      "('PMT', 7560L, 'Is noise?', False, 'Time', 1.128499984741211)\n",
      "('PMT', 7560L, 'Is noise?', False, 'Time', 1.1442091464996338)\n",
      "('PMT', 7560L, 'Is noise?', False, 'Time', 1.1873148679733276)\n",
      "('PMT', 7560L, 'Is noise?', False, 'Time', 1.2775167226791382)\n",
      "('PMT', 7560L, 'Is noise?', False, 'Time', 1.3514714241027832)\n",
      "('PMT', 7560L, 'Is noise?', False, 'Time', 1.380593180656433)\n",
      "('PMT', 6407L, 'Is noise?', True, 'Time', 164.75408935546875)\n",
      "('PMT', 5192L, 'Is noise?', True, 'Time', 329.7275085449219)\n",
      "('PMT', 1457L, 'Is noise?', True, 'Time', 402.7594299316406)\n",
      "('PMT', 44L, 'Is noise?', True, 'Time', 497.93670654296875)\n",
      "('PMT', 5519L, 'Is noise?', True, 'Time', 579.4359741210938)\n",
      "\n",
      "New event\n",
      "('PMT', 1310L, 'Is noise?', True, 'Time', -277.34576416015625)\n",
      "('PMT', 9473L, 'Is noise?', True, 'Time', -94.05746459960938)\n",
      "('PMT', 3001L, 'Is noise?', True, 'Time', -49.7614860534668)\n",
      "('PMT', 5932L, 'Is noise?', True, 'Time', 79.57334899902344)\n",
      "('PMT', 2175L, 'Is noise?', True, 'Time', 393.32171630859375)\n",
      "('PMT', 142L, 'Is noise?', True, 'Time', 511.52459716796875)\n",
      "('PMT', 1655L, 'Is noise?', True, 'Time', 715.2634887695312)\n",
      "\n",
      "New event\n",
      "('PMT', 9023L, 'Is noise?', True, 'Time', -166.18765258789062)\n",
      "('PMT', 7777L, 'Is noise?', False, 'Time', 0.5939193964004517)\n",
      "('PMT', 3566L, 'Is noise?', True, 'Time', 39.24562454223633)\n",
      "('PMT', 1564L, 'Is noise?', True, 'Time', 179.03468322753906)\n",
      "('PMT', 5411L, 'Is noise?', True, 'Time', 249.9457550048828)\n",
      "('PMT', 7543L, 'Is noise?', True, 'Time', 413.5942077636719)\n",
      "('PMT', 8401L, 'Is noise?', True, 'Time', 465.8423156738281)\n",
      "\n",
      "New event\n",
      "('PMT', 3325L, 'Is noise?', False, 'Time', 0.8008315563201904)\n",
      "('PMT', 1153L, 'Is noise?', True, 'Time', 116.01851654052734)\n"
     ]
    }
   ],
   "source": [
    "infile_name = '/home/jpyanez/snoplus/software/rat-jonathan/mac/production/water_splitprod/jp_noise.root'\n",
    "infile = rat.dsreader(infile_name)\n",
    "for ds, run in infile:\n",
    "    print '\\nNew event'\n",
    "    find_noise(ds)"
   ]
  }
 ],
 "metadata": {
  "kernelspec": {
   "display_name": "Python 2",
   "language": "python",
   "name": "python2"
  },
  "language_info": {
   "codemirror_mode": {
    "name": "ipython",
    "version": 2
   },
   "file_extension": ".py",
   "mimetype": "text/x-python",
   "name": "python",
   "nbconvert_exporter": "python",
   "pygments_lexer": "ipython2",
   "version": "2.7.14"
  }
 },
 "nbformat": 4,
 "nbformat_minor": 2
}
