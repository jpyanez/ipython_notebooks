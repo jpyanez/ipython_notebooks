{
 "cells": [
  {
   "cell_type": "code",
   "execution_count": 2,
   "metadata": {
    "collapsed": false
   },
   "outputs": [
    {
     "name": "stderr",
     "output_type": "stream",
     "text": [
      "TClass::TClass:0: RuntimeWarning: no dictionary for class omtext is available\n"
     ]
    }
   ],
   "source": [
    "import ROOT, rat\n",
    "import os, sys\n",
    "import matplotlib.pyplot as plt\n",
    "import numpy as np\n",
    "%matplotlib inline \n",
    "sys.path.append('/home/jp/projects/python_tools')\n",
    "import jp_mpl as jplot\n",
    "import rat"
   ]
  },
  {
   "cell_type": "code",
   "execution_count": 3,
   "metadata": {
    "collapsed": true
   },
   "outputs": [],
   "source": [
    "import rat"
   ]
  },
  {
   "cell_type": "code",
   "execution_count": 4,
   "metadata": {
    "collapsed": true
   },
   "outputs": [],
   "source": [
    "infile_dir = '/home/jp/projects/snoplus/rundir/profiling_official_greydisc_geo/testing'"
   ]
  },
  {
   "cell_type": "code",
   "execution_count": 5,
   "metadata": {
    "collapsed": true
   },
   "outputs": [],
   "source": [
    "infile_name = 'profiler_greydisc.root'"
   ]
  },
  {
   "cell_type": "code",
   "execution_count": 10,
   "metadata": {
    "collapsed": false
   },
   "outputs": [
    {
     "name": "stdout",
     "output_type": "stream",
     "text": [
      "Closing file before reopenning\n"
     ]
    }
   ],
   "source": [
    "try:\n",
    "    ratreader.close()\n",
    "    print 'Closing file before reopenning'\n",
    "except:\n",
    "    print 'No ratreader file. Opening it for the first time'\n",
    "ratreader = rat.dsreader(os.path.join(infile_dir, infile_name))"
   ]
  },
  {
   "cell_type": "code",
   "execution_count": 11,
   "metadata": {
    "collapsed": false
   },
   "outputs": [],
   "source": [
    "def doRead():\n",
    "    photons_steps = [] # List of tracks\n",
    "    photons_p     = []\n",
    "    photons_ids   = []\n",
    "    end_volume    = []\n",
    "    process       = []\n",
    "    energy        = []\n",
    "    for ds, run in ratreader:\n",
    "        mymc = ds.GetMC()\n",
    "        for itrack in range(mymc.GetMCTrackCount()):\n",
    "            mytrack = mymc.GetMCTrack(itrack)\n",
    "            \n",
    "            # End here to study the info in a track\n",
    "            # return mytrack\n",
    "            \n",
    "            end_volume.append([])\n",
    "            process.append([])\n",
    "            photons_steps.append(np.zeros(3))\n",
    "            photons_p.append(np.zeros(3))\n",
    "            \n",
    "            photons_ids.append(mytrack.GetTrackID())\n",
    "            \n",
    "            pdg_code = mymc.GetMCTrack(itrack).GetPDGCode()\n",
    "            #if pdg_code != 22: \n",
    "            #    # Particle is not a gamma\n",
    "            #    continue\n",
    "            \n",
    "            for istep in range(mymc.GetMCTrack(itrack).GetMCTrackStepCount()):\n",
    "                photons_steps[-1] = np.vstack((photons_steps[-1], np.zeros(3)))\n",
    "                photons_p[-1] = np.vstack((photons_p[-1], np.zeros(3)))\n",
    "\n",
    "                mystep = mymc.GetMCTrack(itrack).GetMCTrackStep(istep)\n",
    "                position = mystep.GetPosition()\n",
    "                momentum = mystep.GetMomentum()\n",
    "                position.GetXYZ(photons_steps[-1][-1,:])\n",
    "                momentum.GetXYZ(photons_p[-1][-1,:])\n",
    "                end_volume[-1].append(mystep.GetEndVolume())\n",
    "                process[-1].append(mystep.GetProcess())\n",
    "                if istep == 0:\n",
    "                    energy.append(mystep.GetKineticEnergy())\n",
    "                \n",
    "    ratreader.close()\n",
    "    \n",
    "    hcvalue = 1.239841 # eV*um (electronvolts times micrometer)\n",
    "    wlen = 1E+3*hcvalue/(np.array(energy)*1E+6)\n",
    "    \n",
    "    return photons_steps, photons_p, end_volume, \\\n",
    "           process, wlen, np.array(photons_ids)"
   ]
  },
  {
   "cell_type": "code",
   "execution_count": 12,
   "metadata": {
    "collapsed": false
   },
   "outputs": [],
   "source": [
    "pos, mom, vol, proc, wlen, ids = doRead()"
   ]
  },
  {
   "cell_type": "code",
   "execution_count": 23,
   "metadata": {
    "collapsed": false
   },
   "outputs": [
    {
     "name": "stdout",
     "output_type": "stream",
     "text": [
      "Position\n",
      "[[    0.             0.             0.        ]\n",
      " [-1398.90698242   769.77008057   -74.7129364 ]\n",
      " [-4015.37084961  4390.76220703  -811.19091797]\n",
      " [-4047.38012695  4435.04150391  -820.19567871]\n",
      " [-5385.33203125  6340.79199219 -1211.6072998 ]\n",
      " [-5385.95947266  6341.68554688 -1211.79089355]]\n",
      "Momentum\n",
      "[[  0.00000000e+00   0.00000000e+00   0.00000000e+00]\n",
      " [ -1.71335830e-06   2.37116092e-06  -4.82273322e-07]\n",
      " [ -1.71385250e-06   2.37083168e-06  -4.82135249e-07]\n",
      " [ -1.68003794e-06   2.39301085e-06  -4.91487413e-07]\n",
      " [ -1.68003794e-06   2.39301085e-06  -4.91487413e-07]\n",
      " [ -1.68003794e-06   2.39301085e-06  -4.91487413e-07]]\n",
      "Processes\n",
      "['Scintillation', 'Transportation', 'Transportation', 'Transportation', 'G4FastSimulationManagerProcess']\n",
      "Volumes\n",
      "['inner_av', 'av', 'cavity', 'innerPMT_pmtenv3949', 'innerPMT_pmtenv3949']\n"
     ]
    }
   ],
   "source": [
    "# Following a photon\n",
    "search_id = 204\n",
    "index = np.where(ids==search_id)[0][0]\n",
    "print 'Position'\n",
    "print pos[index]\n",
    "print 'Momentum'\n",
    "print mom[index]\n",
    "print 'Processes'\n",
    "print proc[index]\n",
    "print 'Volumes'\n",
    "print vol[index]"
   ]
  },
  {
   "cell_type": "code",
   "execution_count": 16,
   "metadata": {
    "collapsed": false
   },
   "outputs": [
    {
     "data": {
      "text/plain": [
       "<matplotlib.text.Text at 0x7f8bfb10b8d0>"
      ]
     },
     "execution_count": 16,
     "metadata": {},
     "output_type": "execute_result"
    },
    {
     "data": {
      "image/png": "[encoded data removed]",
      "text/plain": [
       "<matplotlib.figure.Figure at 0x7f8bfd430b90>"
      ]
     },
     "metadata": {},
     "output_type": "display_data"
    }
   ],
   "source": [
    "# Making a histogram of the track energies\n",
    "xaxis = np.linspace(300, 550, 101)\n",
    "n, x = np.histogram(wlen, xaxis)\n",
    "jplot.unfilledBar(xaxis, n)\n",
    "plt.xlabel('wavelength (nm)')\n",
    "plt.ylabel('Photons')"
   ]
  },
  {
   "cell_type": "code",
   "execution_count": null,
   "metadata": {
    "collapsed": true
   },
   "outputs": [],
   "source": []
  },
  {
   "cell_type": "code",
   "execution_count": null,
   "metadata": {
    "collapsed": true
   },
   "outputs": [],
   "source": []
  },
  {
   "cell_type": "code",
   "execution_count": null,
   "metadata": {
    "collapsed": true
   },
   "outputs": [],
   "source": []
  },
  {
   "cell_type": "code",
   "execution_count": null,
   "metadata": {
    "collapsed": true
   },
   "outputs": [],
   "source": []
  },
  {
   "cell_type": "code",
   "execution_count": 8,
   "metadata": {
    "collapsed": false
   },
   "outputs": [],
   "source": [
    "# Run this to study the info in a track\n",
    "track = doRead()"
   ]
  }
 ],
 "metadata": {
  "kernelspec": {
   "display_name": "Python 2",
   "language": "python",
   "name": "python2"
  },
  "language_info": {
   "codemirror_mode": {
    "name": "ipython",
    "version": 2
   },
   "file_extension": ".py",
   "mimetype": "text/x-python",
   "name": "python",
   "nbconvert_exporter": "python",
   "pygments_lexer": "ipython2",
   "version": "2.7.11"
  }
 },
 "nbformat": 4,
 "nbformat_minor": 0
}
