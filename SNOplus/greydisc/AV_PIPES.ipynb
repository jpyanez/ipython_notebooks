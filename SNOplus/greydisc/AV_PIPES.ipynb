{
 "cells": [
  {
   "cell_type": "code",
   "execution_count": 32,
   "metadata": {
    "collapsed": true
   },
   "outputs": [],
   "source": [
    "import os, sys"
   ]
  },
  {
   "cell_type": "code",
   "execution_count": 33,
   "metadata": {
    "collapsed": false
   },
   "outputs": [],
   "source": [
    "import yaml"
   ]
  },
  {
   "cell_type": "code",
   "execution_count": 38,
   "metadata": {
    "collapsed": false
   },
   "outputs": [],
   "source": [
    "import numpy as np"
   ]
  },
  {
   "cell_type": "code",
   "execution_count": 95,
   "metadata": {
    "collapsed": false
   },
   "outputs": [
    {
     "name": "stdout",
     "output_type": "stream",
     "text": [
      "Neck inner radius (minimum) 703.58\n"
     ]
    }
   ],
   "source": [
    "print 'Neck inner radius (minimum)', 55.40*25.4/2"
   ]
  },
  {
   "cell_type": "code",
   "execution_count": 96,
   "metadata": {
    "collapsed": false
   },
   "outputs": [
    {
     "name": "stdout",
     "output_type": "stream",
     "text": [
      "Bottom of the neck boss 5898.9647122\n"
     ]
    }
   ],
   "source": [
    "print 'Bottom of the neck boss', np.sqrt(6011.**2 - (55.4/2+7.48+4.8*25.4)**2)-4.33*25.4"
   ]
  },
  {
   "cell_type": "code",
   "execution_count": 205,
   "metadata": {
    "collapsed": false
   },
   "outputs": [
    {
     "name": "stdout",
     "output_type": "stream",
     "text": [
      "Inner r 5978.1\n",
      "Inner r 5953.89\n"
     ]
    }
   ],
   "source": [
    "inner_r = 5978.1\n",
    "print 'Inner r', inner_r\n",
    "inner_r = 6011.4 - 57.51\n",
    "print 'Inner r', inner_r\n",
    "def pipePos(x,y,z, r):\n",
    "    abs_r = np.sqrt(np.array(x)**2 + np.array(y)**2 + np.array(z)**2)+r\n",
    "    print 'Absolute radius: ', abs_r\n",
    "    print 'X-Y radius: ', np.sqrt(np.array(x)**2 + np.array(y)**2)+r\n",
    "    \n",
    "    if np.sum(abs_r[1:] > inner_r) > 0:\n",
    "        print 'Problem with absolute radius!'\n",
    "    return abs_r[1:]"
   ]
  },
  {
   "cell_type": "code",
   "execution_count": 207,
   "metadata": {
    "collapsed": true
   },
   "outputs": [],
   "source": [
    "all_r = []"
   ]
  },
  {
   "cell_type": "code",
   "execution_count": 208,
   "metadata": {
    "collapsed": false
   },
   "outputs": [
    {
     "name": "stdout",
     "output_type": "stream",
     "text": [
      "AV pipe 1\n",
      "Absolute radius:  [ 12745.31163689   9845.19301854]\n",
      "X-Y radius:  [ 671.5125  671.5125]\n",
      "Problem with absolute radius!\n"
     ]
    }
   ],
   "source": [
    "print \"AV pipe 1\"\n",
    "r_max= 23.8125\n",
    "x= np.array([-318.9427398790156, -318.9427398790156])\n",
    "y=  np.array([563.7293842602729, 563.7293842602729])\n",
    "z=  np.array([12705.0, 9800.0])\n",
    "all_r.append(pipePos(x,y,z,r_max))"
   ]
  },
  {
   "cell_type": "code",
   "execution_count": 209,
   "metadata": {
    "collapsed": false
   },
   "outputs": [
    {
     "name": "stdout",
     "output_type": "stream",
     "text": [
      "AV pipe 2\n",
      "Absolute radius:  [ 12745.31163689   5661.14478487]\n",
      "X-Y radius:  [ 671.5125  671.5125]\n"
     ]
    }
   ],
   "source": [
    "print 'AV pipe 2'\n",
    "r_max= 23.8125\n",
    "x= [-242.6326905554862, -242.6326905554862]\n",
    "y= [600.5369826029081, 600.5369826029081]\n",
    "z= [12705.0, 5600.0]\n",
    "all_r.append(pipePos(x,y,z,r_max))"
   ]
  },
  {
   "cell_type": "code",
   "execution_count": 210,
   "metadata": {
    "collapsed": false
   },
   "outputs": [
    {
     "name": "stdout",
     "output_type": "stream",
     "text": [
      "AV pipe 3\n",
      "Absolute radius:  [ 12745.31163689   5760.49405731   5783.69652094   5976.1875       5976.1875\n",
      "   5976.1875       5976.1875    ]\n",
      "X-Y radius:  [  671.5125       671.5125       852.22298683  1362.8055321   2059.64465063\n",
      "  3647.388811    4777.59054412]\n",
      "Problem with absolute radius!\n"
     ]
    }
   ],
   "source": [
    "print 'AV pipe 3'\n",
    "r_max= 23.8125\n",
    "x= [-162.17112862606172, -162.17112862606172, -207.4174210505285, -335.2570808060827,\n",
    "  -509.7316621284328, -907.2710514387022, -1190.2509659601183]\n",
    "y= [627.0692266729003, 627.0692266729003, 802.0236580862037, 1296.3429445104043, 1970.9860928365101,\n",
    "  3508.156855220576, 4602.35899629386]\n",
    "\n",
    "z= [12705.0, 5700.0, 5700.0, 5799.816014376014, 5593.402863650522, 4722.336588916041,\n",
    "  3582.228698434674]\n",
    "all_r.append(pipePos(x,y,z,r_max))"
   ]
  },
  {
   "cell_type": "code",
   "execution_count": 211,
   "metadata": {
    "collapsed": false
   },
   "outputs": [
    {
     "name": "stdout",
     "output_type": "stream",
     "text": [
      "AV pipe 4\n",
      "Absolute radius:  [ 12745.31163689   5760.49405731   5783.69652094   5976.1875       5976.1875\n",
      "   5976.1875       5976.1875       5976.1875       5976.1875       5976.1875    ]\n",
      "X-Y radius:  [  671.5125       671.5125       852.22298683  1564.40051359  2253.61142148\n",
      "  3809.98859643  4899.71264962  5700.69343471  5976.1875      5700.69343471]\n",
      "Problem with absolute radius!\n"
     ]
    }
   ],
   "source": [
    "print 'AV pipe 4'\n",
    "r_max= 23.8125\n",
    "\n",
    "x= [-78.93477372351401, -78.93477372351401, -100.95784209956572, -187.7504496743117,\n",
    "  -271.74413048676587, -461.41879488768325, -594.2227497438209, -691.8377521023048,\n",
    "  -725.4120329512147, -691.8377521023048]\n",
    "y= [642.8721424180842, 642.8721424180842, 822.2356406796212, 1529.1047041556042, 2213.1783384529535,\n",
    "  3757.9545139438455, 4839.5559292973285, 5634.566325072379, 5908.006899376014, 5634.566325072379]\n",
    "z= [12705.0, 5700.0, 5700.0, 5749.5527402573925, 5518.945996326981, 4592.99887954248,\n",
    "  3414.1420403250586, 1789.9136833242474, 3.644778495537363e-13, -1789.913683324248]\n",
    "all_r.append(pipePos(x,y,z,r_max))"
   ]
  },
  {
   "cell_type": "code",
   "execution_count": 212,
   "metadata": {
    "collapsed": false
   },
   "outputs": [
    {
     "name": "stdout",
     "output_type": "stream",
     "text": [
      "AV pipe labs\n",
      "Absolute radius:  [ 12765.94913689   5781.13155731   5803.51064738   5955.55         5955.55\n",
      "   5955.55         5955.55         5955.55         5955.55         5955.55\n",
      "   5955.55         5955.55         5955.55         5955.55         5955.55      ]\n",
      "X-Y radius:  [  692.15         692.15         867.11611709  1574.35525751  2258.78703434\n",
      "  3804.37196788  4886.539649    5681.96626757  5955.55        5681.96626757\n",
      "  4886.539649    3642.89968301  2066.16526921   302.28856066    44.45      ]\n",
      "Problem with absolute radius!\n"
     ]
    }
   ],
   "source": [
    "print 'AV pipe labs'\n",
    "r_max= 44.45\n",
    "x= [28.252277196528123, 28.252277196528123, 35.88419203346935, 66.73353005939698,\n",
    "  96.58802485832058, 164.00549278056386, 211.20898405726908, 245.905005853425, 257.83856065523764,\n",
    "  245.905005853425, 211.20898405726908, 156.96217063803422, 88.18598147018855, 11.246760054941513,\n",
    "  3.157611680031975e-14]\n",
    "y= [647.0835331185692, 647.0835331185692, 821.8831212294645, 1528.4491266996145, 2212.229476141019,\n",
    "  3756.34335530096, 4837.481052570034, 5632.150601252448, 5905.47394259252, 5632.150601252448,\n",
    "  4837.481052570034, 3595.0247562663876, 2019.7910442514965, 257.5931554778416, 7.23211976124403e-13]\n",
    "z= [12705.0, 5700.0, 5700.0, 5709.684151777312, 5480.6764827297375, 4561.1500748631515,\n",
    "  3390.467672914669, 1777.5020514497087, 3.61950484721996e-13, -1777.5020514497094,\n",
    "  -3390.467672914669, -4689.5909297955195, -5554.617050727583, -5905.47394259252,\n",
    "  -5911.1]\n",
    "all_r.append(pipePos(x,y,z,r_max))"
   ]
  },
  {
   "cell_type": "code",
   "execution_count": 213,
   "metadata": {
    "collapsed": false
   },
   "outputs": [
    {
     "name": "stdout",
     "output_type": "stream",
     "text": [
      "AV pipe 6\n",
      "Absolute radius:  [ 12745.30913689   5760.49155731   5783.69402094   5976.185        5976.185\n",
      "   5976.185        5976.185        5976.185        5976.185        5976.185\n",
      "   5976.185        5976.185        5976.185     ]\n",
      "X-Y radius:  [  671.51         671.51         852.22048683  1362.8030321   2059.64215063\n",
      "  3647.386311    4777.58804412  5634.76564554  5961.68531367  5759.69981892\n",
      "  5015.89172187  3809.98609643  2253.60892148]\n",
      "Problem with absolute radius!\n"
     ]
    }
   ],
   "source": [
    "print 'AV pipe 6'\n",
    "r_max= 23.81\n",
    "x= [134.6644021426627, 134.6644021426627, 172.23622500739995, 278.3923052971225, 423.2733046582493,\n",
    "  753.3838776263124, 988.3660309248634, 1166.5832753676332, 1234.55369632919, 1192.5585505955457,\n",
    "  1037.9121514952844, 787.1902739416834, 463.6012639493631]\n",
    "y= [633.5462009952859, 633.5462009952859, 810.3077301127197, 1309.7328217479608, 1991.3443336336466,\n",
    "  3544.39247467638, 4649.896588274825, 5488.342802508563, 5808.1184915182275, 5610.546864447789,\n",
    "  4882.992758918279, 3703.4390646746356, 2181.072465168442]\n",
    "z= [12705.0, 5700.0, 5700.0, 5799.816014376014, 5593.402863650522, 4722.336588916041,\n",
    "  3582.228698434674, 1986.943603731617, 415.21669040268745, -1590.703028808814, -3241.895776047572,\n",
    "  -4592.998879542481, -5518.945996326981]\n",
    "all_r.append(pipePos(x,y,z,r_max))"
   ]
  },
  {
   "cell_type": "code",
   "execution_count": 214,
   "metadata": {
    "collapsed": false
   },
   "outputs": [
    {
     "name": "stdout",
     "output_type": "stream",
     "text": [
      "AV pipe labr\n",
      "Absolute radius:  [ 12765.94913689   6178.74012111]\n",
      "X-Y radius:  [ 692.15  692.15]\n",
      "Problem with absolute radius!\n"
     ]
    }
   ],
   "source": [
    "print 'AV pipe labr'\n",
    "r_max = 44.45\n",
    "\n",
    "x= [237.38284454932733, 237.38284454932733]\n",
    "y= [602.6314587819572, 602.6314587819572]\n",
    "z= [12705.0, 6100.0]\n",
    "all_r.append(pipePos(x,y,z,r_max))"
   ]
  },
  {
   "cell_type": "code",
   "execution_count": 223,
   "metadata": {
    "collapsed": false
   },
   "outputs": [],
   "source": [
    "new_r = np.array([0])\n",
    "for i in range(len(all_r)):\n",
    "    new_r = np.concatenate((new_r, all_r[i]))\n",
    "new_r = new_r[2:]"
   ]
  },
  {
   "cell_type": "code",
   "execution_count": 226,
   "metadata": {
    "collapsed": false
   },
   "outputs": [],
   "source": [
    "plt.plot(new_r, 'x')\n",
    "plt.plot(new_r-44.5*2, 'x')\n",
    "\n",
    "plt.show()"
   ]
  },
  {
   "cell_type": "code",
   "execution_count": null,
   "metadata": {
    "collapsed": true
   },
   "outputs": [],
   "source": []
  },
  {
   "cell_type": "code",
   "execution_count": 113,
   "metadata": {
    "collapsed": false
   },
   "outputs": [],
   "source": [
    "import matplotlib.pyplot as plt\n",
    "import os, sys\n",
    "sys.path.append('/home/jp/projects/python_tools')\n",
    "\n",
    "import jp_mpl as jplot"
   ]
  },
  {
   "cell_type": "code",
   "execution_count": 191,
   "metadata": {
    "collapsed": false
   },
   "outputs": [
    {
     "name": "stdout",
     "output_type": "stream",
     "text": [
      "10232.940555\n"
     ]
    }
   ],
   "source": [
    "x= np.random.rand(100000)*6000\n",
    "y = np.random.rand(100000)*6000\n",
    "z = np.random.rand(100000)*6000\n",
    "r = np.sqrt(x**2 + y**2 + z**2)\n",
    "print r.max()"
   ]
  },
  {
   "cell_type": "code",
   "execution_count": 190,
   "metadata": {
    "collapsed": false
   },
   "outputs": [],
   "source": [
    "plt.plot(x,y, '.')\n",
    "plt.show()"
   ]
  },
  {
   "cell_type": "code",
   "execution_count": 192,
   "metadata": {
    "collapsed": false
   },
   "outputs": [],
   "source": [
    "xx = np.linspace(0, 8000., 50)\n",
    "b,xx= np.histogram(r, xx)\n",
    "jplot.unfilledBar(xx, b)\n",
    "plt.show()"
   ]
  },
  {
   "cell_type": "code",
   "execution_count": 203,
   "metadata": {
    "collapsed": false
   },
   "outputs": [],
   "source": [
    "xx = np.linspace(0, 8000**(3.), 50)**(1/3.)\n",
    "b,xx= np.histogram(r, xx)\n",
    "jplot.unfilledBar(xx**3, b)\n",
    "plt.ylim([0, 1.2*np.max(b)])\n",
    "plt.axvline(x=6000.**3, ymin=0, ymax=1.2*np.max(b), color='k', linestyle='--')\n",
    "plt.show()\n"
   ]
  },
  {
   "cell_type": "code",
   "execution_count": 204,
   "metadata": {
    "collapsed": false
   },
   "outputs": [],
   "source": [
    "xx = np.linspace(0, 2., 50.)\n",
    "b,xx= np.histogram((r/6000.)**3, xx)\n",
    "jplot.unfilledBar(xx, b)\n",
    "plt.ylim([0, 1.2*np.max(b)])\n",
    "plt.show()"
   ]
  },
  {
   "cell_type": "code",
   "execution_count": null,
   "metadata": {
    "collapsed": true
   },
   "outputs": [],
   "source": []
  }
 ],
 "metadata": {
  "kernelspec": {
   "display_name": "Python 2",
   "language": "python",
   "name": "python2"
  },
  "language_info": {
   "codemirror_mode": {
    "name": "ipython",
    "version": 2
   },
   "file_extension": ".py",
   "mimetype": "text/x-python",
   "name": "python",
   "nbconvert_exporter": "python",
   "pygments_lexer": "ipython2",
   "version": "2.7.11"
  }
 },
 "nbformat": 4,
 "nbformat_minor": 0
}
