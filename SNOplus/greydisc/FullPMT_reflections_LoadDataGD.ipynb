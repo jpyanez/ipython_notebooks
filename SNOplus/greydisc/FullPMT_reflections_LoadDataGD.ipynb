{
 "cells": [
  {
   "cell_type": "code",
   "execution_count": 23,
   "metadata": {
    "collapsed": false
   },
   "outputs": [],
   "source": [
    "import ROOT, rat\n",
    "import os, sys\n",
    "import matplotlib.pyplot as plt\n",
    "import numpy as np\n",
    "%matplotlib inline \n",
    "sys.path.append('/home/jp/projects/python_tools')\n",
    "import jp_mpl as jplot\n",
    "from jp_analysis import *\n",
    "import rat"
   ]
  },
  {
   "cell_type": "code",
   "execution_count": 24,
   "metadata": {
    "collapsed": true
   },
   "outputs": [],
   "source": [
    "infile_dir = '/home/jp/projects/snoplus/rundir/greydisc_validation/onepmt_gdisc_model'\n"
   ]
  },
  {
   "cell_type": "code",
   "execution_count": 25,
   "metadata": {
    "collapsed": true
   },
   "outputs": [],
   "source": [
    "infile_name = 'thebox_337nm_diffuse.root'"
   ]
  },
  {
   "cell_type": "code",
   "execution_count": 26,
   "metadata": {
    "collapsed": false
   },
   "outputs": [
    {
     "name": "stdout",
     "output_type": "stream",
     "text": [
      "Closing file before reopenning\n",
      "File exists\n"
     ]
    }
   ],
   "source": [
    "try:\n",
    "    ratreader.close()\n",
    "    print 'Closing file before reopenning'\n",
    "except:\n",
    "    print 'No ratreader file. Opening it for the first time'\n",
    "fname = os.path.join(infile_dir, infile_name)\n",
    "if os.path.isfile(fname): print 'File exists'\n",
    "ratreader = rat.dsreader(fname)"
   ]
  },
  {
   "cell_type": "code",
   "execution_count": 27,
   "metadata": {
    "collapsed": false
   },
   "outputs": [],
   "source": [
    "def doRead(single = False):\n",
    "    photons_steps = [] # List of tracks\n",
    "    photons_p     = []\n",
    "    photons_ids   = []\n",
    "    volumes       = []\n",
    "    process       = []\n",
    "    for ds, run in ratreader:\n",
    "        mymc = ds.GetMC()\n",
    "        for itrack in range(1, mymc.GetMCTrackCount()+1):\n",
    "            mytrack = mymc.GetMCTrack(itrack)\n",
    "            \n",
    "            # End here to study the info in a track\n",
    "            if single:\n",
    "                return mytrack\n",
    "            \n",
    "            volumes.append([])\n",
    "            process.append([])\n",
    "            photons_steps.append(np.zeros(3))\n",
    "            photons_p.append(np.zeros(3))\n",
    "            \n",
    "            photons_ids.append(mytrack.GetTrackID())\n",
    "            \n",
    "            #if pdg_code != 22: \n",
    "            #    # Particle is not a gamma\n",
    "            #    continue\n",
    "            \n",
    "            for istep in range(mymc.GetMCTrack(itrack).GetMCTrackStepCount()):\n",
    "                photons_steps[-1] = np.vstack((photons_steps[-1], np.zeros(3)))\n",
    "                photons_p[-1] = np.vstack((photons_p[-1], np.zeros(3)))\n",
    "\n",
    "                mystep = mymc.GetMCTrack(itrack).GetMCTrackStep(istep)\n",
    "                position = mystep.GetPosition()\n",
    "                momentum = mystep.GetMomentum()\n",
    "                position.GetXYZ(photons_steps[-1][-1,:])\n",
    "                momentum.GetXYZ(photons_p[-1][-1,:])\n",
    "                process[-1].append(mystep.GetProcess())\n",
    "                volumes[-1].append(mystep.GetEndVolume())\n",
    "\n",
    "                \n",
    "    ratreader.close()\n",
    "    \n",
    "    hcvalue = 1.239841 # eV*um (electronvolts times micrometer)\n",
    "    \n",
    "    return photons_steps, photons_p, volumes, \\\n",
    "           process, np.array(photons_ids)"
   ]
  },
  {
   "cell_type": "code",
   "execution_count": 28,
   "metadata": {
    "collapsed": false
   },
   "outputs": [],
   "source": [
    "#r = doRead(single = True)"
   ]
  },
  {
   "cell_type": "code",
   "execution_count": 29,
   "metadata": {
    "collapsed": false
   },
   "outputs": [],
   "source": [
    "pos, mom, volumes,proc, ids = doRead()"
   ]
  },
  {
   "cell_type": "code",
   "execution_count": 30,
   "metadata": {
    "collapsed": false
   },
   "outputs": [
    {
     "data": {
      "text/plain": [
       "100000"
      ]
     },
     "execution_count": 30,
     "metadata": {},
     "output_type": "execute_result"
    }
   ],
   "source": [
    "len(pos)"
   ]
  },
  {
   "cell_type": "code",
   "execution_count": 31,
   "metadata": {
    "collapsed": false
   },
   "outputs": [],
   "source": [
    "# Need only those that are reflected from the PMT ... so I need at least 2 steps, right?"
   ]
  },
  {
   "cell_type": "code",
   "execution_count": 32,
   "metadata": {
    "collapsed": false
   },
   "outputs": [
    {
     "name": "stdout",
     "output_type": "stream",
     "text": [
      "Position\n",
      "[[    0.             0.             0.        ]\n",
      " [   15.67576504    73.50461578   130.5       ]\n",
      " [   15.76173973    73.55891418   130.3999939 ]\n",
      " [   16.78087234    84.00509644   130.40332031]\n",
      " [   16.78087234    84.00509644   130.40332031]\n",
      " [   16.7110939     84.08904266   130.5       ]\n",
      " [   16.13373184    84.78366089   131.30000305]\n",
      " [ -610.80895996   839.0513916   1000.        ]]\n",
      "Momentum\n",
      "[[  0.00000000e+00   0.00000000e+00   0.00000000e+00]\n",
      " [  2.21238702e-06   1.39726683e-06  -2.57330294e-06]\n",
      " [  2.21238702e-06   1.39726683e-06  -2.57330294e-06]\n",
      " [ -1.75613229e-06   2.11278325e-06   2.43332011e-06]\n",
      " [ -1.75613229e-06   2.11278325e-06   2.43332011e-06]\n",
      " [ -1.75613229e-06   2.11278325e-06   2.43332011e-06]\n",
      " [ -1.75613229e-06   2.11278325e-06   2.43332011e-06]\n",
      " [ -1.75613229e-06   2.11278325e-06   2.43332011e-06]]\n",
      "End volume\n",
      "['world', 'r1408_pmtenv0', 'GDOut', 'r1408_pmtenv0', 'planewave', 'world', 'NULL']\n",
      "Processes\n",
      "['Unknown', 'Transportation', 'Unknown', 'G4FastSimulationManagerProcess', 'Transportation', 'Transportation', 'Transportation']\n",
      "Track ID\n",
      "1\n"
     ]
    }
   ],
   "source": [
    "# Following a photon\n",
    "index = 1\n",
    "print 'Position'\n",
    "print pos[index]\n",
    "print 'Momentum'\n",
    "print mom[index]\n",
    "print 'End volume'\n",
    "print volumes[index]\n",
    "print 'Processes'\n",
    "print proc[index]\n",
    "print 'Track ID'\n",
    "print ids[index]\n"
   ]
  },
  {
   "cell_type": "code",
   "execution_count": 33,
   "metadata": {
    "collapsed": false
   },
   "outputs": [
    {
     "name": "stdout",
     "output_type": "stream",
     "text": [
      "[ nan  nan  nan]\n",
      "[ 0.60283027  0.38072667 -0.70117249]\n",
      "[ 0.60283027  0.38072667 -0.70117249]\n",
      "[-0.47851015  0.57569025  0.66302999]\n",
      "[-0.47851015  0.57569025  0.66302999]\n",
      "[-0.47851015  0.57569025  0.66302999]\n",
      "[-0.47851015  0.57569025  0.66302999]\n",
      "[-0.47851015  0.57569025  0.66302999]\n"
     ]
    },
    {
     "name": "stderr",
     "output_type": "stream",
     "text": [
      "/home/jp/anaconda2/lib/python2.7/site-packages/ipykernel/__main__.py:2: RuntimeWarning: invalid value encountered in divide\n",
      "  from ipykernel import kernelapp as app\n"
     ]
    }
   ],
   "source": [
    "for momentum in mom[index]:\n",
    "    print momentum/np.linalg.norm(momentum)"
   ]
  },
  {
   "cell_type": "code",
   "execution_count": 34,
   "metadata": {
    "collapsed": true
   },
   "outputs": [],
   "source": [
    "# The particles that end up in NULL made it out of the PMT\n",
    "# If the momentum in x in the second step is negative it goes away from the PMT\n",
    "# Positive momentum goes towards the PMT -- done\n",
    "\n",
    "# I put the zeros there myself, dont look at them\n",
    "# If the length of end volume or processes is 2, then the particle wasnt reflected\n",
    "# If the last volume is the 'r_1408_pmt' then the particle as absorbed\n",
    "# Gotta be careful with reflections from the outside of the PMT volume ... \n",
    "# These reflections wouldn't be a problem if I could put a cylindrical cap instead of the box\n",
    "# Easy fix: only take photons that are emitted within the radius of the concentrator (see gdisc radius)\n",
    "# Last momentum needs to have negative x\n",
    "# End volume needs to be NULL\n",
    "# Re-run with a smaller world to avoid scattering in the water ... also, change to heavy water"
   ]
  },
  {
   "cell_type": "code",
   "execution_count": 35,
   "metadata": {
    "collapsed": false
   },
   "outputs": [],
   "source": [
    "good_pos = []\n",
    "good_mom = []\n",
    "all_volumes = []\n",
    "all_proc = []\n",
    "gdisc_radius = 137.7\n",
    "for iPhoton in range(len(pos)):\n",
    "    \n",
    "    # Only use photons produced on the side of my volume looking at the PMT\n",
    "    # This won't change the conclusions of the study (material doesn't change)\n",
    "    # but it matters for the first reflection study\n",
    "    if pos[iPhoton][1][2] > 130.9:\n",
    "        continue    \n",
    "    \n",
    "    # Look at px of step 1 (step 0 is zero by construction) - only take negatives\n",
    "    if mom[iPhoton][1][2] > 0:\n",
    "        continue\n",
    "\n",
    "    # Last step needs to be going outwards\n",
    "    if mom[iPhoton][-1][2] < 0:\n",
    "        continue\n",
    "\n",
    "    # Calculate the radius at emission point, only take those starting within the gdisc radius \n",
    "    r = np.sqrt(np.sum(pos[iPhoton][1][:2]**2))\n",
    "    if r > gdisc_radius:\n",
    "        continue\n",
    "        \n",
    "    if volumes[iPhoton][-1] != 'NULL':\n",
    "        continue\n",
    "        \n",
    "    \n",
    "    # Keep all these photons\n",
    "    # I could do my operations here, but I'll store them for now\n",
    "    good_pos.append(pos[iPhoton])\n",
    "    good_mom.append(mom[iPhoton])\n",
    "    all_volumes.append(volumes[iPhoton])\n",
    "    all_proc.append(proc[iPhoton])"
   ]
  },
  {
   "cell_type": "code",
   "execution_count": 36,
   "metadata": {
    "collapsed": false
   },
   "outputs": [
    {
     "data": {
      "text/plain": [
       "5996"
      ]
     },
     "execution_count": 36,
     "metadata": {},
     "output_type": "execute_result"
    }
   ],
   "source": [
    "len(good_pos)"
   ]
  },
  {
   "cell_type": "code",
   "execution_count": 37,
   "metadata": {
    "collapsed": false
   },
   "outputs": [
    {
     "name": "stdout",
     "output_type": "stream",
     "text": [
      "0\n"
     ]
    }
   ],
   "source": [
    "# Contents of the output dictionary\n",
    "# Recall the PMT rotational symmetry is around the x-axis\n",
    "# y - starting position in y (front, back)\n",
    "# z - starting position in z (up, down)\n",
    "# xr - position (xyz) of the reflection \n",
    "# momentum - incoming momentum vector\n",
    "# theta_i\n",
    "# phi_i\n",
    "# theta_f\n",
    "# phi_f\n",
    "\n",
    "\n",
    "keys = ['nsteps', 'y','x', 'xr', 'theta_i', 'phi_i','theta_f','phi_f','momentum',]\n",
    "data = {}\n",
    "for iKey in keys:\n",
    "    if iKey != 'momentum':\n",
    "        data[iKey] = np.zeros(len(good_pos))\n",
    "data['momentum'] = np.zeros([len(good_pos), 3])\n",
    "data['xr']       = np.zeros([len(good_pos), 3])\n",
    "\n",
    "\n",
    "normal = np.array([0, 0, 1])\n",
    "\n",
    "stop_at = -1\n",
    "\n",
    "for iPhoton in range(len(good_pos)):\n",
    "    data['x'][iPhoton] = good_pos[iPhoton][1][0]\n",
    "    data['y'][iPhoton] = good_pos[iPhoton][1][1]\n",
    "    \n",
    "    \n",
    "    # Because I'm looking at the reflection, the x should come from the *second* step\n",
    "    # Remember, step 0 is nothing, 1 is the first position, 2 is the reflection (starting point)\n",
    "    \n",
    "    # I have to look at the 3rd position because the 2nd one seems to be still an effect of the surface\n",
    "    data['xr'][iPhoton,:] = good_pos[iPhoton][3][:]\n",
    "    #for one_step in range(good_pos[iPhoton].shape[0]):\n",
    "    #    if data['xr'][iPhoton,0] < good_pos[iPhoton][one_step][0]:\n",
    "    #        data['xr'][iPhoton,:] = good_pos[iPhoton][one_step][:]\n",
    "\n",
    "    data['momentum'][iPhoton,:] = good_mom[iPhoton][1][:]\n",
    "    \n",
    "    # The negative value is because the theta is negative - otherwise I would need to correct for it later\n",
    "    data['theta_i'][iPhoton] = np.arccos(np.dot(normal, \n",
    "                                                -getNorm(good_mom[iPhoton][1])))\n",
    "    \n",
    "    # The phi is obtained \n",
    "    data['phi_i'][iPhoton]   = np.arctan2(good_mom[iPhoton][1][1],\n",
    "                                          good_mom[iPhoton][1][0])\n",
    "    \n",
    "    data['theta_f'][iPhoton] = np.arccos(np.dot(normal, \n",
    "                                                getNorm(good_mom[iPhoton][-1])))\n",
    "    \n",
    "    # This is not correct, should be momentum\n",
    "    data['phi_f'][iPhoton]   = np.arctan2(good_mom[iPhoton][-1][1], \n",
    "                                   good_mom[iPhoton][-1][0])\n",
    "    \n",
    "    if iPhoton % 10000 == 0:\n",
    "        print iPhoton\n",
    "        \n",
    "    if iPhoton == stop_at:\n",
    "        print 'Momentum'\n",
    "        print good_mom[iPhoton]\n",
    "        print 'Position'\n",
    "        print good_pos[iPhoton]\n",
    "        break\n",
    "    \n",
    "    data['nsteps'][iPhoton] = len(good_pos[iPhoton])"
   ]
  },
  {
   "cell_type": "code",
   "execution_count": 38,
   "metadata": {
    "collapsed": false
   },
   "outputs": [],
   "source": [
    "data['r'] = np.sqrt(data['x']**2 + data['y']**2)\n",
    "phidiff = (data['phi_f'] - data['phi_i'])\n",
    "phidiff[phidiff<0] += np.pi*2\n",
    "data['phidiff'] = phidiff"
   ]
  },
  {
   "cell_type": "code",
   "execution_count": 39,
   "metadata": {
    "collapsed": true
   },
   "outputs": [],
   "source": [
    "phidiff = data['phi_f'] - data['phi_i']"
   ]
  },
  {
   "cell_type": "code",
   "execution_count": 40,
   "metadata": {
    "collapsed": false
   },
   "outputs": [
    {
     "name": "stdout",
     "output_type": "stream",
     "text": [
      "[ 0.56330649  1.82310386  2.94109654 -1.89414649 -1.48247316 -0.90115459\n",
      " -2.05587276 -0.41878945 -0.22014391  0.09149709]\n",
      "[ 2.26427059 -2.173925    3.03193414 -1.18144088  2.65751065  2.49163012\n",
      " -2.77213166  0.84778772  2.63343039 -2.33226032]\n"
     ]
    }
   ],
   "source": [
    "print data['phi_i'][:10]\n",
    "print data['phi_f'][:10]\n"
   ]
  },
  {
   "cell_type": "code",
   "execution_count": 41,
   "metadata": {
    "collapsed": false
   },
   "outputs": [
    {
     "data": {
      "text/plain": [
       "[<matplotlib.lines.Line2D at 0x7ff9296ce610>]"
      ]
     },
     "execution_count": 41,
     "metadata": {},
     "output_type": "execute_result"
    },
    {
     "data": {
      "image/png": "[encoded data removed]",
      "text/plain": [
       "<matplotlib.figure.Figure at 0x7ff91f605e10>"
      ]
     },
     "metadata": {},
     "output_type": "display_data"
    }
   ],
   "source": [
    "b,x = np.histogram(data['nsteps'],np.arange(0, 50, 1))\n",
    "jplot.unfilledBar(x,b)"
   ]
  },
  {
   "cell_type": "code",
   "execution_count": 42,
   "metadata": {
    "collapsed": false
   },
   "outputs": [
    {
     "data": {
      "text/plain": [
       "5994"
      ]
     },
     "execution_count": 42,
     "metadata": {},
     "output_type": "execute_result"
    }
   ],
   "source": [
    "np.sum(data['nsteps'] < 16)"
   ]
  },
  {
   "cell_type": "code",
   "execution_count": 43,
   "metadata": {
    "collapsed": true
   },
   "outputs": [],
   "source": [
    "import pickle\n",
    "outname = 'condensed_' + infile_name.rstrip('.root') + '.pckl'\n",
    "pickle.dump(data, open('/home/jp/projects/snoplus/rundir/greydisc_validation/onepmt_gdisc_model/'+outname,'w'))"
   ]
  },
  {
   "cell_type": "code",
   "execution_count": null,
   "metadata": {
    "collapsed": true
   },
   "outputs": [],
   "source": []
  },
  {
   "cell_type": "code",
   "execution_count": null,
   "metadata": {
    "collapsed": true
   },
   "outputs": [],
   "source": []
  }
 ],
 "metadata": {
  "kernelspec": {
   "display_name": "Python 2",
   "language": "python",
   "name": "python2"
  },
  "language_info": {
   "codemirror_mode": {
    "name": "ipython",
    "version": 2
   },
   "file_extension": ".py",
   "mimetype": "text/x-python",
   "name": "python",
   "nbconvert_exporter": "python",
   "pygments_lexer": "ipython2",
   "version": "2.7.11"
  }
 },
 "nbformat": 4,
 "nbformat_minor": 0
}
