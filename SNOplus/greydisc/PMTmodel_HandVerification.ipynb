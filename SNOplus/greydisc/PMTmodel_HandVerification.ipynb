{
 "cells": [
  {
   "cell_type": "code",
   "execution_count": 2,
   "metadata": {
    "collapsed": true
   },
   "outputs": [],
   "source": [
    "import numpy as np"
   ]
  },
  {
   "cell_type": "code",
   "execution_count": 6,
   "metadata": {
    "collapsed": true
   },
   "outputs": [],
   "source": [
    "def PMTmultiple(random_value, dir_z):\n",
    "    theta_i = np.arccos(-dir_z)\n",
    "    rot_angle = 0.603749333397\n",
    "    delta = (random_value - theta_i *np.sin(rot_angle))/np.cos(rot_angle)\n",
    "    print delta\n",
    "    "
   ]
  },
  {
   "cell_type": "code",
   "execution_count": 13,
   "metadata": {
    "collapsed": true
   },
   "outputs": [],
   "source": [
    "def PMTsingle(random_value, dir_z):\n",
    "    rot_angle = np.pi/4.\n",
    "    theta_i = np.arccos(-dir_z)\n",
    "    delta = (random_value - theta_i *np.sin(rot_angle))/np.cos(rot_angle)\n",
    "    print delta"
   ]
  },
  {
   "cell_type": "code",
   "execution_count": 14,
   "metadata": {
    "collapsed": true
   },
   "outputs": [],
   "source": [
    "def PMTreflections( dirz, radius):\n",
    "    rot_angle = 1.56686777558\n",
    "    value = -dirz*np.sin(rot_angle) + radius*np.cos(rot_angle)\n",
    "    print value"
   ]
  },
  {
   "cell_type": "code",
   "execution_count": 16,
   "metadata": {
    "collapsed": false
   },
   "outputs": [
    {
     "name": "stdout",
     "output_type": "stream",
     "text": [
      "0.469202833149\n"
     ]
    }
   ],
   "source": [
    "PMTmultiple(0.547772,-0.959803 )"
   ]
  },
  {
   "cell_type": "code",
   "execution_count": 23,
   "metadata": {
    "collapsed": false
   },
   "outputs": [
    {
     "name": "stdout",
     "output_type": "stream",
     "text": [
      "1.16772270299\n",
      "0.261645257908\n"
     ]
    }
   ],
   "source": [
    "PMTreflections(-0.909733, 65.6724)\n",
    "PMTsingle( 0.487763 , -0.909733)"
   ]
  },
  {
   "cell_type": "code",
   "execution_count": 4,
   "metadata": {
    "collapsed": false
   },
   "outputs": [
    {
     "data": {
      "text/plain": [
       "2.991592653589793"
      ]
     },
     "execution_count": 4,
     "metadata": {},
     "output_type": "execute_result"
    }
   ],
   "source": [
    "np.pi-0.15"
   ]
  },
  {
   "cell_type": "code",
   "execution_count": null,
   "metadata": {
    "collapsed": true
   },
   "outputs": [],
   "source": []
  }
 ],
 "metadata": {
  "kernelspec": {
   "display_name": "Python 2",
   "language": "python",
   "name": "python2"
  },
  "language_info": {
   "codemirror_mode": {
    "name": "ipython",
    "version": 2
   },
   "file_extension": ".py",
   "mimetype": "text/x-python",
   "name": "python",
   "nbconvert_exporter": "python",
   "pygments_lexer": "ipython2",
   "version": "2.7.11"
  }
 },
 "nbformat": 4,
 "nbformat_minor": 0
}
