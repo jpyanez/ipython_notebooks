{
 "cells": [
  {
   "cell_type": "code",
   "execution_count": 1,
   "metadata": {
    "collapsed": false
   },
   "outputs": [
    {
     "name": "stderr",
     "output_type": "stream",
     "text": [
      "TClass::TClass:0: RuntimeWarning: no dictionary for class omtext is available\n"
     ]
    }
   ],
   "source": [
    "import ROOT, rat\n",
    "import os, sys\n",
    "import matplotlib.pyplot as plt\n",
    "import numpy as np\n",
    "%matplotlib inline \n",
    "sys.path.append('/home/jp/projects/python_tools')\n",
    "import jp_mpl as jplot\n",
    "import rat\n",
    "from itertools import cycle\n"
   ]
  },
  {
   "cell_type": "code",
   "execution_count": 2,
   "metadata": {
    "collapsed": false
   },
   "outputs": [],
   "source": [
    "gaus = lambda x, normalization, mean, sigma: normalization * np.exp(-0.5 * (x - mean)**2 / sigma**2)\n",
    "two_gaus = lambda x, n1, m1, s1, n2, m2, s2: gaus(x, n1, m1, s1) + gaus(x, n2, m2, s2)\n",
    "from scipy import optimize\n",
    "\n",
    "def getNorm(v):\n",
    "    return v/np.sqrt(np.sum(v**2))\n",
    "def renormN(n, axis=0):\n",
    "    n+= 1E-9\n",
    "\n",
    "    integral = np.sum(n,axis=axis)\n",
    "    if axis==0:\n",
    "        return n/integral\n",
    "    else:\n",
    "        return (n.T/integral).T"
   ]
  },
  {
   "cell_type": "code",
   "execution_count": 3,
   "metadata": {
    "collapsed": true
   },
   "outputs": [],
   "source": [
    "infile_dir = '/home/jp/projects/snoplus/rundir/greydisc_validation/onepmt_greydiscON'\n"
   ]
  },
  {
   "cell_type": "code",
   "execution_count": 4,
   "metadata": {
    "collapsed": true
   },
   "outputs": [],
   "source": [
    "infile_name = 'thebox.root'"
   ]
  },
  {
   "cell_type": "code",
   "execution_count": 5,
   "metadata": {
    "collapsed": false
   },
   "outputs": [
    {
     "name": "stdout",
     "output_type": "stream",
     "text": [
      "No ratreader file. Opening it for the first time\n",
      "File exists\n"
     ]
    }
   ],
   "source": [
    "try:\n",
    "    ratreader.close()\n",
    "    print 'Closing file before reopenning'\n",
    "except:\n",
    "    print 'No ratreader file. Opening it for the first time'\n",
    "fname = os.path.join(infile_dir, infile_name)\n",
    "if os.path.isfile(fname): print 'File exists'\n",
    "ratreader = rat.dsreader(fname)"
   ]
  },
  {
   "cell_type": "code",
   "execution_count": 6,
   "metadata": {
    "collapsed": false
   },
   "outputs": [],
   "source": [
    "def doRead(single = False):\n",
    "    photons_steps = [] # List of tracks\n",
    "    photons_p     = []\n",
    "    photons_ids   = []\n",
    "    volumes       = []\n",
    "    process       = []\n",
    "    for ds, run in ratreader:\n",
    "        mymc = ds.GetMC()\n",
    "        for itrack in range(1, mymc.GetMCTrackCount()+1):\n",
    "            mytrack = mymc.GetMCTrack(itrack)\n",
    "            \n",
    "            # End here to study the info in a track\n",
    "            if single:\n",
    "                return mytrack\n",
    "            \n",
    "            volumes.append([])\n",
    "            process.append([])\n",
    "            photons_steps.append(np.zeros(3))\n",
    "            photons_p.append(np.zeros(3))\n",
    "            \n",
    "            photons_ids.append(mytrack.GetTrackID())\n",
    "            \n",
    "            #if pdg_code != 22: \n",
    "            #    # Particle is not a gamma\n",
    "            #    continue\n",
    "            \n",
    "            for istep in range(mymc.GetMCTrack(itrack).GetMCTrackStepCount()):\n",
    "                photons_steps[-1] = np.vstack((photons_steps[-1], np.zeros(3)))\n",
    "                photons_p[-1] = np.vstack((photons_p[-1], np.zeros(3)))\n",
    "\n",
    "                mystep = mymc.GetMCTrack(itrack).GetMCTrackStep(istep)\n",
    "                position = mystep.GetPosition()\n",
    "                momentum = mystep.GetMomentum()\n",
    "                position.GetXYZ(photons_steps[-1][-1,:])\n",
    "                momentum.GetXYZ(photons_p[-1][-1,:])\n",
    "                process[-1].append(mystep.GetProcess())\n",
    "                volumes[-1].append(mystep.GetEndVolume())\n",
    "\n",
    "                \n",
    "    ratreader.close()\n",
    "    \n",
    "    hcvalue = 1.239841 # eV*um (electronvolts times micrometer)\n",
    "    \n",
    "    return photons_steps, photons_p, volumes, \\\n",
    "           process, np.array(photons_ids)"
   ]
  },
  {
   "cell_type": "code",
   "execution_count": 7,
   "metadata": {
    "collapsed": false
   },
   "outputs": [],
   "source": [
    "one_track = doRead(single=True)"
   ]
  },
  {
   "cell_type": "code",
   "execution_count": 8,
   "metadata": {
    "collapsed": false
   },
   "outputs": [
    {
     "name": "stdout",
     "output_type": "stream",
     "text": [
      "Closing file before reopenning\n",
      "File exists\n"
     ]
    }
   ],
   "source": [
    "try:\n",
    "    ratreader.close()\n",
    "    print 'Closing file before reopenning'\n",
    "except:\n",
    "    print 'No ratreader file. Opening it for the first time'\n",
    "fname = os.path.join(infile_dir, infile_name)\n",
    "if os.path.isfile(fname): print 'File exists'\n",
    "ratreader = rat.dsreader(fname)"
   ]
  },
  {
   "cell_type": "code",
   "execution_count": 9,
   "metadata": {
    "collapsed": false
   },
   "outputs": [],
   "source": [
    "pos, mom, volumes,proc, ids = doRead()"
   ]
  },
  {
   "cell_type": "markdown",
   "metadata": {
    "collapsed": false
   },
   "source": [
    "### Need only those that are reflected from the PMT ... so I need at least 2 steps, right?"
   ]
  },
  {
   "cell_type": "code",
   "execution_count": 10,
   "metadata": {
    "collapsed": false
   },
   "outputs": [
    {
     "name": "stdout",
     "output_type": "stream",
     "text": [
      "Following a photon\n",
      "Position\n",
      "[[    0.             0.             0.        ]\n",
      " [   61.          -119.19255829    96.79275513]\n",
      " [   59.          -122.96282959    94.7420578 ]\n",
      " [ -406.23828125 -1000.          -382.28845215]]\n",
      "Momentum\n",
      "[[  0.00000000e+00   0.00000000e+00   0.00000000e+00]\n",
      " [ -1.04751712e-06  -1.97471149e-06  -1.07406811e-06]\n",
      " [ -1.04751712e-06  -1.97471149e-06  -1.07406811e-06]\n",
      " [ -1.04751712e-06  -1.97471149e-06  -1.07406811e-06]]\n",
      "End volume\n",
      "['planewave', 'world', 'NULL']\n",
      "Processes\n",
      "['Unknown', 'Transportation', 'Transportation']\n",
      "Track ID\n",
      "1\n"
     ]
    }
   ],
   "source": [
    "print 'Following a photon'\n",
    "index = 250\n",
    "print 'Position'\n",
    "print pos[index]\n",
    "print 'Momentum'\n",
    "print mom[index]\n",
    "print 'End volume'\n",
    "print volumes[index]\n",
    "print 'Processes'\n",
    "print proc[index]\n",
    "print 'Track ID'\n",
    "print ids[index]\n"
   ]
  },
  {
   "cell_type": "code",
   "execution_count": 11,
   "metadata": {
    "collapsed": true
   },
   "outputs": [],
   "source": [
    "# The particles that end up in NULL made it out of the PMT\n",
    "# If the momentum in x in the second step is negative it goes away from the PMT\n",
    "# Positive momentum goes towards the PMT -- done\n",
    "\n",
    "# I put the zeros there myself, dont look at them\n",
    "# If the length of end volume or processes is 2, then the particle wasnt reflected\n",
    "# If the last volume is the 'r_1408_pmt' then the particle as absorbed\n",
    "# Gotta be careful with reflections from the outside of the PMT volume ... \n",
    "# These reflections wouldn't be a problem if I could put a cylindrical cap instead of the box\n",
    "# Easy fix: only take photons that are emitted within the radius of the concentrator (see gdisc radius)\n",
    "# Last momentum needs to have negative x\n",
    "# End volume needs to be NULL\n",
    "# Re-run with a smaller world to avoid scattering in the water ... also, change to heavy water"
   ]
  },
  {
   "cell_type": "code",
   "execution_count": 12,
   "metadata": {
    "collapsed": false
   },
   "outputs": [],
   "source": [
    "good_pos = []\n",
    "good_mom = []\n",
    "all_volumes = []\n",
    "all_proc = []\n",
    "gdisc_radius = 137.7\n",
    "for iPhoton in range(len(pos)):\n",
    "    \n",
    "    # Only use photons produced on the side of my volume looking at the PMT\n",
    "    # This won't change the conclusions of the study (material doesn't change)\n",
    "    # but it matters for the first reflection study\n",
    "    if pos[iPhoton][1][0] < 60.5:\n",
    "        continue\n",
    "    \n",
    "    # Look at px of step 1 (step 0 is zero by construction) - only take positives\n",
    "    if mom[iPhoton][1][0] < 0:\n",
    "        continue\n",
    "\n",
    "    # Last step needs to be going outwards\n",
    "    if mom[iPhoton][-1][0] > 0:\n",
    "        continue\n",
    "\n",
    "    # Calculate the radius at emission point, only take those starting within the gdisc radius \n",
    "    r = np.sqrt(np.sum(pos[iPhoton][1][1:]**2))\n",
    "    if r > gdisc_radius:\n",
    "        continue\n",
    "        \n",
    "    if volumes[iPhoton][-1] != 'NULL':\n",
    "        continue\n",
    "        \n",
    "    # Keep all these photons\n",
    "    # I could do my operations here, but I'll store them for now\n",
    "    good_pos.append(pos[iPhoton])\n",
    "    good_mom.append(mom[iPhoton])\n",
    "    all_volumes.append(volumes[iPhoton])\n",
    "    all_proc.append(proc[iPhoton])"
   ]
  },
  {
   "cell_type": "code",
   "execution_count": 13,
   "metadata": {
    "collapsed": false,
    "scrolled": true
   },
   "outputs": [
    {
     "name": "stdout",
     "output_type": "stream",
     "text": [
      "[[    0.             0.             0.        ]\n",
      " [   61.           -27.67610359     4.64361   ]\n",
      " [   62.20000076   -27.02384186     5.83188915]\n",
      " [   62.1980896    -29.10103607    -3.67985392]\n",
      " [   62.1980896    -29.10103607    -3.67985392]\n",
      " [   61.           -30.08831024    -6.40552855]\n",
      " [   59.           -31.73639107   -10.95556068]\n",
      " [ -375.74169922  -389.98117065 -1000.        ]]\n",
      "[[  0.00000000e+00   0.00000000e+00   0.00000000e+00]\n",
      " [  1.64385960e-06   8.93521985e-07   1.62780339e-06]\n",
      " [  1.64385960e-06   8.93521985e-07   1.62780339e-06]\n",
      " [ -9.47231513e-07  -7.80557116e-07  -2.15496698e-06]\n",
      " [ -9.47231513e-07  -7.80557116e-07  -2.15496698e-06]\n",
      " [ -9.47231513e-07  -7.80557116e-07  -2.15496698e-06]\n",
      " [ -9.47231513e-07  -7.80557116e-07  -2.15496698e-06]\n",
      " [ -9.47231513e-07  -7.80557116e-07  -2.15496698e-06]]\n"
     ]
    }
   ],
   "source": [
    "i =379\n",
    "print good_pos[i]\n",
    "print good_mom[i]"
   ]
  },
  {
   "cell_type": "code",
   "execution_count": 14,
   "metadata": {
    "collapsed": false,
    "scrolled": true
   },
   "outputs": [
    {
     "name": "stdout",
     "output_type": "stream",
     "text": [
      "0\n",
      "10000\n",
      "20000\n",
      "30000\n",
      "40000\n",
      "50000\n",
      "60000\n",
      "70000\n"
     ]
    }
   ],
   "source": [
    "# Contents of the output dictionary\n",
    "# Recall the PMT rotational symmetry is around the x-axis\n",
    "# y - starting position in y (front, back)\n",
    "# z - starting position in z (up, down)\n",
    "# xr - position (xyz) of the reflection \n",
    "# momentum - incoming momentum vector\n",
    "# theta_i\n",
    "# phi_i\n",
    "# theta_f\n",
    "# phi_f\n",
    "\n",
    "\n",
    "keys = ['y','z', 'xr', 'theta_i', 'phi_i','theta_f','phi_f','momentum',]\n",
    "data = {}\n",
    "for iKey in keys:\n",
    "    if iKey != 'momentum':\n",
    "        data[iKey] = np.zeros(len(good_pos))\n",
    "data['momentum'] = np.zeros([len(good_pos), 3])\n",
    "data['xr']       = np.zeros([len(good_pos), 3])\n",
    "\n",
    "\n",
    "normal = np.array([-1, 0, 0])\n",
    "\n",
    "stop_at = -1\n",
    "\n",
    "for iPhoton in range(len(good_pos)):\n",
    "    data['y'][iPhoton] = good_pos[iPhoton][1][1]\n",
    "    data['z'][iPhoton] = good_pos[iPhoton][1][2]\n",
    "    \n",
    "    # Because I'm looking at the reflection, the x should come from the *second* step\n",
    "    # Remember, step 0 is nothing, 1 is the first position, 2 is the reflection (starting point)\n",
    "    \n",
    "    # I have to look at the 3rd position because the 2nd one seems to be still an effect of the surface\n",
    "    data['xr'][iPhoton,:] = good_pos[iPhoton][3][:]\n",
    "    #for one_step in range(good_pos[iPhoton].shape[0]):\n",
    "    #    if data['xr'][iPhoton,0] < good_pos[iPhoton][one_step][0]:\n",
    "    #        data['xr'][iPhoton,:] = good_pos[iPhoton][one_step][:]\n",
    "\n",
    "    data['momentum'][iPhoton,:] = good_mom[iPhoton][1][:]\n",
    "    \n",
    "    # The negative value is because the theta is negative - otherwise I would need to correct for it later\n",
    "    data['theta_i'][iPhoton] = np.arccos(np.dot(normal, -getNorm(good_mom[iPhoton][1])))\n",
    "    \n",
    "    # The phi is obtained \n",
    "    data['phi_i'][iPhoton]   = np.arctan2(good_mom[iPhoton][1][2],\n",
    "                               good_mom[iPhoton][1][1])\n",
    "    \n",
    "    data['theta_f'][iPhoton] = np.arccos(np.dot(normal, getNorm(good_mom[iPhoton][-1])))\n",
    "    \n",
    "    # This is not correct, should be momentum\n",
    "    data['phi_f'][iPhoton]   = np.arctan2(good_mom[iPhoton][-1][2], \n",
    "                                   good_mom[iPhoton][-1][1])\n",
    "    \n",
    "    if iPhoton % 10000 == 0:\n",
    "        print iPhoton\n",
    "        \n",
    "    if iPhoton == stop_at:\n",
    "        print 'Momentum'\n",
    "        print good_mom[iPhoton]\n",
    "        print 'Position'\n",
    "        print good_pos[iPhoton]\n",
    "        break"
   ]
  },
  {
   "cell_type": "code",
   "execution_count": 15,
   "metadata": {
    "collapsed": false
   },
   "outputs": [
    {
     "data": {
      "text/plain": [
       "[<matplotlib.lines.Line2D at 0x7fc38b36f690>]"
      ]
     },
     "execution_count": 15,
     "metadata": {},
     "output_type": "execute_result"
    },
    {
     "data": {
      "image/png": "[encoded data removed]",
      "text/plain": [
       "<matplotlib.figure.Figure at 0x7fc3712dec10>"
      ]
     },
     "metadata": {},
     "output_type": "display_data"
    }
   ],
   "source": [
    "xarray = np.linspace(50, 270, 101)\n",
    "b, x = np.histogram(data['xr'][:,0], xarray)\n",
    "jplot.unfilledBar(x,b)"
   ]
  },
  {
   "cell_type": "code",
   "execution_count": 16,
   "metadata": {
    "collapsed": false
   },
   "outputs": [
    {
     "name": "stdout",
     "output_type": "stream",
     "text": [
      "20413\n"
     ]
    },
    {
     "data": {
      "text/plain": [
       "[<matplotlib.lines.Line2D at 0x7fc372118ed0>]"
      ]
     },
     "execution_count": 16,
     "metadata": {},
     "output_type": "execute_result"
    },
    {
     "data": {
      "image/png": "[encoded data removed]",
      "text/plain": [
       "<matplotlib.figure.Figure at 0x7fc392c9af50>"
      ]
     },
     "metadata": {},
     "output_type": "display_data"
    }
   ],
   "source": [
    "yz_center = 0\n",
    "tol = 30 # mm\n",
    "ybool = (data['xr'][:,1] > (yz_center-tol) )*(data['xr'][:,1]< (yz_center+tol) )\n",
    "print np.sum(ybool)\n",
    "plt.plot(data['xr'][ybool,2], 350-data['xr'][ybool,0], '.')"
   ]
  },
  {
   "cell_type": "code",
   "execution_count": 17,
   "metadata": {
    "collapsed": true
   },
   "outputs": [],
   "source": [
    "data['r'] = np.sqrt(data['y']**2 + data['z']**2)\n",
    "phidiff = (data['phi_f'] - data['phi_i'])\n",
    "phidiff[phidiff<0] += np.pi*2\n",
    "data['phidiff'] = phidiff"
   ]
  },
  {
   "cell_type": "code",
   "execution_count": 18,
   "metadata": {
    "collapsed": true
   },
   "outputs": [],
   "source": [
    "# Verifying PhiDiff (and the meaning of 180 degrees)"
   ]
  },
  {
   "cell_type": "code",
   "execution_count": 19,
   "metadata": {
    "collapsed": false
   },
   "outputs": [
    {
     "data": {
      "text/plain": [
       "array([False, False, False, ..., False, False,  True], dtype=bool)"
      ]
     },
     "execution_count": 19,
     "metadata": {},
     "output_type": "execute_result"
    }
   ],
   "source": [
    "phi_reflect = (data['phidiff'] - np.pi) < 0.2\n",
    "phi_reflect\n",
    "#np.rad2deg(data['phidiff'][phi_reflect][0])"
   ]
  },
  {
   "cell_type": "code",
   "execution_count": 20,
   "metadata": {
    "collapsed": false
   },
   "outputs": [
    {
     "name": "stdout",
     "output_type": "stream",
     "text": [
      "71866\n"
     ]
    }
   ],
   "source": [
    "len(mom)\n",
    "print len(data['phidiff'])"
   ]
  },
  {
   "cell_type": "code",
   "execution_count": 21,
   "metadata": {
    "collapsed": false
   },
   "outputs": [],
   "source": [
    "import pickle\n",
    "pickle.dump(data, open('/home/jp/projects/snoplus/rundir/greydisc_validation/onepmt_greydiscON/condensed.pckl','w'))"
   ]
  },
  {
   "cell_type": "code",
   "execution_count": null,
   "metadata": {
    "collapsed": true
   },
   "outputs": [],
   "source": []
  }
 ],
 "metadata": {
  "kernelspec": {
   "display_name": "Python 2",
   "language": "python",
   "name": "python2"
  },
  "language_info": {
   "codemirror_mode": {
    "name": "ipython",
    "version": 2
   },
   "file_extension": ".py",
   "mimetype": "text/x-python",
   "name": "python",
   "nbconvert_exporter": "python",
   "pygments_lexer": "ipython2",
   "version": "2.7.11"
  }
 },
 "nbformat": 4,
 "nbformat_minor": 0
}
