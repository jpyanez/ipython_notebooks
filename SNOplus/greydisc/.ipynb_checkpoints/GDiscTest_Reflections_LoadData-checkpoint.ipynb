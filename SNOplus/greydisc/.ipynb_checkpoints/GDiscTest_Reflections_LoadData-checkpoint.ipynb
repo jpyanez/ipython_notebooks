{
 "cells": [
  {
   "cell_type": "code",
   "execution_count": 29,
   "metadata": {
    "collapsed": false
   },
   "outputs": [],
   "source": [
    "import ROOT, rat\n",
    "import os, sys\n",
    "import matplotlib.pyplot as plt\n",
    "import numpy as np\n",
    "%matplotlib inline \n",
    "sys.path.append('/home/jp/projects/python_tools')\n",
    "import jp_mpl as jplot\n",
    "import rat\n",
    "from itertools import cycle\n"
   ]
  },
  {
   "cell_type": "code",
   "execution_count": 30,
   "metadata": {
    "collapsed": false
   },
   "outputs": [],
   "source": [
    "gaus = lambda x, normalization, mean, sigma: normalization * np.exp(-0.5 * (x - mean)**2 / sigma**2)\n",
    "two_gaus = lambda x, n1, m1, s1, n2, m2, s2: gaus(x, n1, m1, s1) + gaus(x, n2, m2, s2)\n",
    "from scipy import optimize\n",
    "\n",
    "def getNorm(v):\n",
    "    return v/np.sqrt(np.sum(v**2))\n",
    "def renormN(n, axis=0):\n",
    "    n+= 1E-9\n",
    "\n",
    "    integral = np.sum(n,axis=axis)\n",
    "    if axis==0:\n",
    "        return n/integral\n",
    "    else:\n",
    "        return (n.T/integral).T"
   ]
  },
  {
   "cell_type": "code",
   "execution_count": 31,
   "metadata": {
    "collapsed": true
   },
   "outputs": [],
   "source": [
    "infile_dir = '/home/jp/projects/snoplus/rundir/greydisc_validation/onepmt_greydiscON'\n"
   ]
  },
  {
   "cell_type": "code",
   "execution_count": 32,
   "metadata": {
    "collapsed": true
   },
   "outputs": [],
   "source": [
    "infile_name = 'thebox.root'"
   ]
  },
  {
   "cell_type": "code",
   "execution_count": 33,
   "metadata": {
    "collapsed": false
   },
   "outputs": [
    {
     "name": "stdout",
     "output_type": "stream",
     "text": [
      "Closing file before reopenning\n",
      "File exists\n"
     ]
    }
   ],
   "source": [
    "try:\n",
    "    ratreader.close()\n",
    "    print 'Closing file before reopenning'\n",
    "except:\n",
    "    print 'No ratreader file. Opening it for the first time'\n",
    "fname = os.path.join(infile_dir, infile_name)\n",
    "if os.path.isfile(fname): print 'File exists'\n",
    "ratreader = rat.dsreader(fname)"
   ]
  },
  {
   "cell_type": "code",
   "execution_count": 34,
   "metadata": {
    "collapsed": false
   },
   "outputs": [],
   "source": [
    "def doRead(single = False):\n",
    "    photons_steps = [] # List of tracks\n",
    "    photons_p     = []\n",
    "    photons_ids   = []\n",
    "    volumes       = []\n",
    "    process       = []\n",
    "    for ds, run in ratreader:\n",
    "        mymc = ds.GetMC()\n",
    "        for itrack in range(1, mymc.GetMCTrackCount()+1):\n",
    "            mytrack = mymc.GetMCTrack(itrack)\n",
    "            \n",
    "            # End here to study the info in a track\n",
    "            if single:\n",
    "                return mytrack\n",
    "            \n",
    "            volumes.append([])\n",
    "            process.append([])\n",
    "            photons_steps.append(np.zeros(3))\n",
    "            photons_p.append(np.zeros(3))\n",
    "            \n",
    "            photons_ids.append(mytrack.GetTrackID())\n",
    "            \n",
    "            #if pdg_code != 22: \n",
    "            #    # Particle is not a gamma\n",
    "            #    continue\n",
    "            \n",
    "            for istep in range(mymc.GetMCTrack(itrack).GetMCTrackStepCount()):\n",
    "                photons_steps[-1] = np.vstack((photons_steps[-1], np.zeros(3)))\n",
    "                photons_p[-1] = np.vstack((photons_p[-1], np.zeros(3)))\n",
    "\n",
    "                mystep = mymc.GetMCTrack(itrack).GetMCTrackStep(istep)\n",
    "                position = mystep.GetPosition()\n",
    "                momentum = mystep.GetMomentum()\n",
    "                position.GetXYZ(photons_steps[-1][-1,:])\n",
    "                momentum.GetXYZ(photons_p[-1][-1,:])\n",
    "                process[-1].append(mystep.GetProcess())\n",
    "                volumes[-1].append(mystep.GetEndVolume())\n",
    "\n",
    "                \n",
    "    ratreader.close()\n",
    "    \n",
    "    hcvalue = 1.239841 # eV*um (electronvolts times micrometer)\n",
    "    \n",
    "    return photons_steps, photons_p, volumes, \\\n",
    "           process, np.array(photons_ids)"
   ]
  },
  {
   "cell_type": "code",
   "execution_count": 35,
   "metadata": {
    "collapsed": false
   },
   "outputs": [],
   "source": [
    "one_track = doRead(single=True)"
   ]
  },
  {
   "cell_type": "code",
   "execution_count": 36,
   "metadata": {
    "collapsed": false
   },
   "outputs": [
    {
     "name": "stdout",
     "output_type": "stream",
     "text": [
      "Closing file before reopenning\n",
      "File exists\n"
     ]
    }
   ],
   "source": [
    "try:\n",
    "    ratreader.close()\n",
    "    print 'Closing file before reopenning'\n",
    "except:\n",
    "    print 'No ratreader file. Opening it for the first time'\n",
    "fname = os.path.join(infile_dir, infile_name)\n",
    "if os.path.isfile(fname): print 'File exists'\n",
    "ratreader = rat.dsreader(fname)"
   ]
  },
  {
   "cell_type": "code",
   "execution_count": 37,
   "metadata": {
    "collapsed": false
   },
   "outputs": [],
   "source": [
    "pos, mom, volumes,proc, ids = doRead()"
   ]
  },
  {
   "cell_type": "markdown",
   "metadata": {
    "collapsed": false
   },
   "source": [
    "### Need only those that are reflected from the PMT ... so I need at least 2 steps, right?"
   ]
  },
  {
   "cell_type": "code",
   "execution_count": 38,
   "metadata": {
    "collapsed": false
   },
   "outputs": [
    {
     "name": "stdout",
     "output_type": "stream",
     "text": [
      "Following a photon\n",
      "Position\n",
      "[[    0.             0.             0.        ]\n",
      " [   59.           -81.83901215   -76.79812622]\n",
      " [ -967.92913818   544.48925781 -1000.        ]]\n",
      "Momentum\n",
      "[[  0.00000000e+00   0.00000000e+00   0.00000000e+00]\n",
      " [ -1.67960206e-06   1.02439617e-06  -1.50995015e-06]\n",
      " [ -1.67960206e-06   1.02439617e-06  -1.50995015e-06]]\n",
      "End volume\n",
      "['world', 'NULL']\n",
      "Processes\n",
      "['Unknown', 'Transportation']\n",
      "Track ID\n",
      "1\n"
     ]
    }
   ],
   "source": [
    "print 'Following a photon'\n",
    "index = 250\n",
    "print 'Position'\n",
    "print pos[index]\n",
    "print 'Momentum'\n",
    "print mom[index]\n",
    "print 'End volume'\n",
    "print volumes[index]\n",
    "print 'Processes'\n",
    "print proc[index]\n",
    "print 'Track ID'\n",
    "print ids[index]\n"
   ]
  },
  {
   "cell_type": "code",
   "execution_count": 39,
   "metadata": {
    "collapsed": true
   },
   "outputs": [],
   "source": [
    "# The particles that end up in NULL made it out of the PMT\n",
    "# If the momentum in x in the second step is negative it goes away from the PMT\n",
    "# Positive momentum goes towards the PMT -- done\n",
    "\n",
    "# I put the zeros there myself, dont look at them\n",
    "# If the length of end volume or processes is 2, then the particle wasnt reflected\n",
    "# If the last volume is the 'r_1408_pmt' then the particle as absorbed\n",
    "# Gotta be careful with reflections from the outside of the PMT volume ... \n",
    "# These reflections wouldn't be a problem if I could put a cylindrical cap instead of the box\n",
    "# Easy fix: only take photons that are emitted within the radius of the concentrator (see gdisc radius)\n",
    "# Last momentum needs to have negative x\n",
    "# End volume needs to be NULL\n",
    "# Re-run with a smaller world to avoid scattering in the water ... also, change to heavy water"
   ]
  },
  {
   "cell_type": "code",
   "execution_count": 40,
   "metadata": {
    "collapsed": false
   },
   "outputs": [],
   "source": [
    "good_pos = []\n",
    "good_mom = []\n",
    "all_volumes = []\n",
    "all_proc = []\n",
    "gdisc_radius = 137.7\n",
    "for iPhoton in range(len(pos)):\n",
    "    \n",
    "    # Only use photons produced on the side of my volume looking at the PMT\n",
    "    # This won't change the conclusions of the study (material doesn't change)\n",
    "    # but it matters for the first reflection study\n",
    "    if pos[iPhoton][1][0] < 60.5:\n",
    "        continue\n",
    "    \n",
    "    # Look at px of step 1 (step 0 is zero by construction) - only take positives\n",
    "    if mom[iPhoton][1][0] < 0:\n",
    "        continue\n",
    "\n",
    "    # Last step needs to be going outwards\n",
    "    if mom[iPhoton][-1][0] > 0:\n",
    "        continue\n",
    "\n",
    "    # Calculate the radius at emission point, only take those starting within the gdisc radius \n",
    "    r = np.sqrt(np.sum(pos[iPhoton][1][1:]**2))\n",
    "    if r > gdisc_radius:\n",
    "        continue\n",
    "        \n",
    "    if volumes[iPhoton][-1] != 'NULL':\n",
    "        continue\n",
    "        \n",
    "    # Keep all these photons\n",
    "    # I could do my operations here, but I'll store them for now\n",
    "    good_pos.append(pos[iPhoton])\n",
    "    good_mom.append(mom[iPhoton])\n",
    "    all_volumes.append(volumes[iPhoton])\n",
    "    all_proc.append(proc[iPhoton])"
   ]
  },
  {
   "cell_type": "code",
   "execution_count": 52,
   "metadata": {
    "collapsed": false,
    "scrolled": true
   },
   "outputs": [
    {
     "name": "stdout",
     "output_type": "stream",
     "text": [
      "[[    0.             0.             0.        ]\n",
      " [   61.          -111.11880493   -63.927948  ]\n",
      " [   62.20000076  -110.95534515   -63.57535934]\n",
      " [   62.19510269  -108.54416656   -60.83179092]\n",
      " [   62.19510269  -108.54416656   -60.83179092]\n",
      " [   61.          -108.31770325   -60.73991394]\n",
      " [   59.          -107.9387207    -60.58615875]\n",
      " [-1000.            92.73110962    20.82653809]]\n",
      "[[  0.00000000e+00   0.00000000e+00   0.00000000e+00]\n",
      " [  2.35935022e-06   3.21389848e-07   6.93235052e-07]\n",
      " [  2.35935022e-06   3.21389848e-07   6.93235052e-07]\n",
      " [ -2.42971919e-06   4.60407279e-07   1.86789407e-07]\n",
      " [ -2.42971919e-06   4.60407279e-07   1.86789407e-07]\n",
      " [ -2.42971919e-06   4.60407279e-07   1.86789407e-07]\n",
      " [ -2.42971919e-06   4.60407279e-07   1.86789407e-07]\n",
      " [ -2.42971919e-06   4.60407279e-07   1.86789407e-07]]\n"
     ]
    }
   ],
   "source": [
    "i =379\n",
    "print good_pos[i]\n",
    "print good_mom[i]"
   ]
  },
  {
   "cell_type": "code",
   "execution_count": 42,
   "metadata": {
    "collapsed": false,
    "scrolled": true
   },
   "outputs": [
    {
     "name": "stdout",
     "output_type": "stream",
     "text": [
      "0\n"
     ]
    }
   ],
   "source": [
    "# Contents of the output dictionary\n",
    "# Recall the PMT rotational symmetry is around the x-axis\n",
    "# y - starting position in y (front, back)\n",
    "# z - starting position in z (up, down)\n",
    "# xr - position (xyz) of the reflection \n",
    "# momentum - incoming momentum vector\n",
    "# theta_i\n",
    "# phi_i\n",
    "# theta_f\n",
    "# phi_f\n",
    "\n",
    "\n",
    "keys = ['y','z', 'xr', 'theta_i', 'phi_i','theta_f','phi_f','momentum',]\n",
    "data = {}\n",
    "for iKey in keys:\n",
    "    if iKey != 'momentum':\n",
    "        data[iKey] = np.zeros(len(good_pos))\n",
    "data['momentum'] = np.zeros([len(good_pos), 3])\n",
    "data['xr']       = np.zeros([len(good_pos), 3])\n",
    "\n",
    "\n",
    "normal = np.array([-1, 0, 0])\n",
    "\n",
    "stop_at = -1\n",
    "\n",
    "for iPhoton in range(len(good_pos)):\n",
    "    data['y'][iPhoton] = good_pos[iPhoton][1][1]\n",
    "    data['z'][iPhoton] = good_pos[iPhoton][1][2]\n",
    "    \n",
    "    # Because I'm looking at the reflection, the x should come from the *second* step\n",
    "    # Remember, step 0 is nothing, 1 is the first position, 2 is the reflection (starting point)\n",
    "    \n",
    "    # I have to look at the 3rd position because the 2nd one seems to be still an effect of the surface\n",
    "    data['xr'][iPhoton,:] = good_pos[iPhoton][3][:]\n",
    "    #for one_step in range(good_pos[iPhoton].shape[0]):\n",
    "    #    if data['xr'][iPhoton,0] < good_pos[iPhoton][one_step][0]:\n",
    "    #        data['xr'][iPhoton,:] = good_pos[iPhoton][one_step][:]\n",
    "\n",
    "    data['momentum'][iPhoton,:] = good_mom[iPhoton][1][:]\n",
    "    \n",
    "    # The negative value is because the theta is negative - otherwise I would need to correct for it later\n",
    "    data['theta_i'][iPhoton] = np.arccos(np.dot(normal, -getNorm(good_mom[iPhoton][1])))\n",
    "    \n",
    "    # The phi is obtained \n",
    "    data['phi_i'][iPhoton]   = np.arctan2(good_mom[iPhoton][1][2],\n",
    "                               good_mom[iPhoton][1][1])\n",
    "    \n",
    "    data['theta_f'][iPhoton] = np.arccos(np.dot(normal, getNorm(good_mom[iPhoton][-1])))\n",
    "    \n",
    "    # This is not correct, should be momentum\n",
    "    data['phi_f'][iPhoton]   = np.arctan2(good_mom[iPhoton][-1][2], \n",
    "                                   good_mom[iPhoton][-1][1])\n",
    "    \n",
    "    if iPhoton % 10000 == 0:\n",
    "        print iPhoton\n",
    "        \n",
    "    if iPhoton == stop_at:\n",
    "        print 'Momentum'\n",
    "        print good_mom[iPhoton]\n",
    "        print 'Position'\n",
    "        print good_pos[iPhoton]\n",
    "        break"
   ]
  },
  {
   "cell_type": "code",
   "execution_count": 43,
   "metadata": {
    "collapsed": false
   },
   "outputs": [
    {
     "data": {
      "text/plain": [
       "[<matplotlib.lines.Line2D at 0x7fc188c7a8d0>]"
      ]
     },
     "execution_count": 43,
     "metadata": {},
     "output_type": "execute_result"
    },
    {
     "data": {
      "image/png": "[encoded data removed]",
      "text/plain": [
       "<matplotlib.figure.Figure at 0x7fc1950aa1d0>"
      ]
     },
     "metadata": {},
     "output_type": "display_data"
    }
   ],
   "source": [
    "xarray = np.linspace(50, 270, 101)\n",
    "b, x = np.histogram(data['xr'][:,0], xarray)\n",
    "jplot.unfilledBar(x,b)"
   ]
  },
  {
   "cell_type": "code",
   "execution_count": 44,
   "metadata": {
    "collapsed": false
   },
   "outputs": [
    {
     "name": "stdout",
     "output_type": "stream",
     "text": [
      "2084\n"
     ]
    },
    {
     "data": {
      "text/plain": [
       "[<matplotlib.lines.Line2D at 0x7fc187acf890>]"
      ]
     },
     "execution_count": 44,
     "metadata": {},
     "output_type": "execute_result"
    },
    {
     "data": {
      "image/png": "[encoded data removed]",
      "text/plain": [
       "<matplotlib.figure.Figure at 0x7fc1ce921a90>"
      ]
     },
     "metadata": {},
     "output_type": "display_data"
    }
   ],
   "source": [
    "yz_center = 0\n",
    "tol = 30 # mm\n",
    "ybool = (data['xr'][:,1] > (yz_center-tol) )*(data['xr'][:,1]< (yz_center+tol) )\n",
    "print np.sum(ybool)\n",
    "plt.plot(data['xr'][ybool,2], 350-data['xr'][ybool,0], '.')"
   ]
  },
  {
   "cell_type": "code",
   "execution_count": 45,
   "metadata": {
    "collapsed": true
   },
   "outputs": [],
   "source": [
    "data['r'] = np.sqrt(data['y']**2 + data['z']**2)\n",
    "phidiff = (data['phi_f'] - data['phi_i'])\n",
    "phidiff[phidiff<0] += np.pi*2\n",
    "data['phidiff'] = phidiff"
   ]
  },
  {
   "cell_type": "code",
   "execution_count": 46,
   "metadata": {
    "collapsed": true
   },
   "outputs": [],
   "source": [
    "# Verifying PhiDiff (and the meaning of 180 degrees)"
   ]
  },
  {
   "cell_type": "code",
   "execution_count": 47,
   "metadata": {
    "collapsed": false
   },
   "outputs": [
    {
     "data": {
      "text/plain": [
       "array([ True,  True, False, ..., False,  True, False], dtype=bool)"
      ]
     },
     "execution_count": 47,
     "metadata": {},
     "output_type": "execute_result"
    }
   ],
   "source": [
    "phi_reflect = (data['phidiff'] - np.pi) < 0.2\n",
    "phi_reflect\n",
    "#np.rad2deg(data['phidiff'][phi_reflect][0])"
   ]
  },
  {
   "cell_type": "code",
   "execution_count": 48,
   "metadata": {
    "collapsed": false
   },
   "outputs": [
    {
     "name": "stdout",
     "output_type": "stream",
     "text": [
      "7288\n"
     ]
    }
   ],
   "source": [
    "len(mom)\n",
    "print len(data['phidiff'])"
   ]
  },
  {
   "cell_type": "code",
   "execution_count": 49,
   "metadata": {
    "collapsed": false
   },
   "outputs": [],
   "source": [
    "import pickle\n",
    "pickle.dump(data, open('/home/jp/projects/snoplus/rundir/greydisc_validation/onepmt_greydiscON/condensed.pckl','w'))"
   ]
  }
 ],
 "metadata": {
  "kernelspec": {
   "display_name": "Python 2",
   "language": "python",
   "name": "python2"
  },
  "language_info": {
   "codemirror_mode": {
    "name": "ipython",
    "version": 2
   },
   "file_extension": ".py",
   "mimetype": "text/x-python",
   "name": "python",
   "nbconvert_exporter": "python",
   "pygments_lexer": "ipython2",
   "version": "2.7.11"
  }
 },
 "nbformat": 4,
 "nbformat_minor": 0
}
