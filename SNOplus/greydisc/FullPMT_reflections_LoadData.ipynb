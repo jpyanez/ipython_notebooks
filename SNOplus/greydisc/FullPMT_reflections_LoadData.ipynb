{
 "cells": [
  {
   "cell_type": "code",
   "execution_count": 2,
   "metadata": {
    "collapsed": false
   },
   "outputs": [
    {
     "name": "stderr",
     "output_type": "stream",
     "text": [
      "TClass::TClass:0: RuntimeWarning: no dictionary for class omtext is available\n"
     ]
    }
   ],
   "source": [
    "import ROOT, rat\n",
    "import os, sys\n",
    "import matplotlib.pyplot as plt\n",
    "import numpy as np\n",
    "%matplotlib inline \n",
    "sys.path.append('/home/jp/projects/python_tools')\n",
    "from jp_analysis import *\n",
    "import jp_mpl as jplot\n",
    "import rat"
   ]
  },
  {
   "cell_type": "code",
   "execution_count": 3,
   "metadata": {
    "collapsed": true
   },
   "outputs": [],
   "source": [
    "infile_dir = '/home/jp/projects/snoplus/rundir/greydisc_validation/onepmt_geo'\n"
   ]
  },
  {
   "cell_type": "code",
   "execution_count": 5,
   "metadata": {
    "collapsed": true
   },
   "outputs": [],
   "source": [
    "infile_name = 'thebox_337nm.root'"
   ]
  },
  {
   "cell_type": "code",
   "execution_count": 6,
   "metadata": {
    "collapsed": false
   },
   "outputs": [
    {
     "name": "stdout",
     "output_type": "stream",
     "text": [
      "No ratreader file. Opening it for the first time\n",
      "File exists\n"
     ]
    }
   ],
   "source": [
    "try:\n",
    "    ratreader.close()\n",
    "    print 'Closing file before reopenning'\n",
    "except:\n",
    "    print 'No ratreader file. Opening it for the first time'\n",
    "fname = os.path.join(infile_dir, infile_name)\n",
    "if os.path.isfile(fname): print 'File exists'\n",
    "ratreader = rat.dsreader(fname)"
   ]
  },
  {
   "cell_type": "code",
   "execution_count": 7,
   "metadata": {
    "collapsed": false
   },
   "outputs": [],
   "source": [
    "def doRead(single = False, max_photons = -1):\n",
    "    photons_steps = [] # List of tracks\n",
    "    photons_p     = []\n",
    "    photons_ids   = []\n",
    "    volumes       = []\n",
    "    process       = []\n",
    "    times         = []\n",
    "    counter = 0\n",
    "    for ds, run in ratreader:\n",
    "        if counter == max_photons:\n",
    "            break\n",
    "        mymc = ds.GetMC()\n",
    "        for itrack in range(1, mymc.GetMCTrackCount()+1):\n",
    "            if counter == max_photons:\n",
    "                break           \n",
    "            \n",
    "            \n",
    "            mytrack = mymc.GetMCTrack(itrack)\n",
    "            \n",
    "            # End here to study the info in a track\n",
    "            if single:\n",
    "                return mytrack\n",
    "            \n",
    "            volumes.append([])\n",
    "            process.append([])\n",
    "            times.append([])\n",
    "            photons_steps.append(np.zeros(3))\n",
    "            photons_p.append(np.zeros(3))\n",
    "            \n",
    "            photons_ids.append(mytrack.GetTrackID())\n",
    "            \n",
    "            #if pdg_code != 22: \n",
    "            #    # Particle is not a gamma\n",
    "            #    continue\n",
    "            \n",
    "            for istep in range(mymc.GetMCTrack(itrack).GetMCTrackStepCount()):\n",
    "                photons_steps[-1] = np.vstack((photons_steps[-1], np.zeros(3)))\n",
    "                photons_p[-1] = np.vstack((photons_p[-1], np.zeros(3)))\n",
    "\n",
    "                mystep = mymc.GetMCTrack(itrack).GetMCTrackStep(istep)\n",
    "                position = mystep.GetPosition()\n",
    "                momentum = mystep.GetMomentum()\n",
    "                position.GetXYZ(photons_steps[-1][-1,:])\n",
    "                momentum.GetXYZ(photons_p[-1][-1,:])\n",
    "                process[-1].append(mystep.GetProcess())\n",
    "                volumes[-1].append(mystep.GetEndVolume())\n",
    "                times[-1].append(mystep.GetGlobalTime())\n",
    "            counter += 1\n",
    "\n",
    "\n",
    "                \n",
    "    ratreader.close()\n",
    "    \n",
    "    hcvalue = 1.239841 # eV*um (electronvolts times micrometer)\n",
    "    \n",
    "    return photons_steps, photons_p, times, volumes, \\\n",
    "           process, np.array(photons_ids)"
   ]
  },
  {
   "cell_type": "code",
   "execution_count": null,
   "metadata": {
    "collapsed": false
   },
   "outputs": [],
   "source": [
    "r = doRead(single = True)"
   ]
  },
  {
   "cell_type": "code",
   "execution_count": null,
   "metadata": {
    "collapsed": false
   },
   "outputs": [],
   "source": [
    "pos, mom, times,volumes,proc, ids = doRead(max_photons=-1)"
   ]
  },
  {
   "cell_type": "code",
   "execution_count": null,
   "metadata": {
    "collapsed": false
   },
   "outputs": [],
   "source": [
    "# Need only those that are reflected from the PMT ... so I need at least 2 steps, right?"
   ]
  },
  {
   "cell_type": "code",
   "execution_count": null,
   "metadata": {
    "collapsed": false
   },
   "outputs": [],
   "source": [
    "# Following a photon\n",
    "index = 0\n",
    "print 'Position'\n",
    "print pos[index]\n",
    "print 'Momentum'\n",
    "print mom[index]\n",
    "print 'Times'\n",
    "print times[index]\n",
    "print 'End volume'\n",
    "print volumes[index]\n",
    "print 'Processes'\n",
    "print proc[index]\n",
    "print 'Track ID'\n",
    "print ids[index]\n"
   ]
  },
  {
   "cell_type": "code",
   "execution_count": null,
   "metadata": {
    "collapsed": true
   },
   "outputs": [],
   "source": [
    "# The particles that end up in NULL made it out of the PMT\n",
    "# If the momentum in x in the second step is negative it goes away from the PMT\n",
    "# Positive momentum goes towards the PMT -- done\n",
    "\n",
    "# I put the zeros there myself, dont look at them\n",
    "# If the length of end volume or processes is 2, then the particle wasnt reflected\n",
    "# If the last volume is the 'r_1408_pmt' then the particle as absorbed\n",
    "# Gotta be careful with reflections from the outside of the PMT volume ... \n",
    "# These reflections wouldn't be a problem if I could put a cylindrical cap instead of the box\n",
    "# Easy fix: only take photons that are emitted within the radius of the concentrator (see gdisc radius)\n",
    "# Last momentum needs to have negative x\n",
    "# End volume needs to be NULL\n",
    "# Re-run with a smaller world to avoid scattering in the water ... also, change to heavy water"
   ]
  },
  {
   "cell_type": "code",
   "execution_count": null,
   "metadata": {
    "collapsed": false
   },
   "outputs": [],
   "source": [
    "good_pos = []\n",
    "good_mom = []\n",
    "good_times = []\n",
    "all_volumes = []\n",
    "all_proc = []\n",
    "gdisc_radius = 137.7\n",
    "for iPhoton in range(len(pos)):\n",
    "    \n",
    "    # Only use photons produced on the side of my volume looking at the PMT\n",
    "    # This won't change the conclusions of the study (material doesn't change)\n",
    "    # but it matters for the first reflection study\n",
    "    if pos[iPhoton][1][2] > 130.9:\n",
    "        continue    \n",
    "        \n",
    "    if pos[iPhoton][-1][2] < 130.4:\n",
    "        continue\n",
    "    \n",
    "    # Look at px of step 1 - should be going down into the PMT\n",
    "    if mom[iPhoton][1][2] > 0:\n",
    "        continue\n",
    "\n",
    "    # Last step needs to be going outwards\n",
    "    if mom[iPhoton][-1][2] < 0:\n",
    "        continue\n",
    "\n",
    "    # Calculate the radius at emission point, only take those starting within the gdisc radius \n",
    "    r = np.sqrt(np.sum(pos[iPhoton][1][:2]**2))\n",
    "    if r > gdisc_radius:\n",
    "        continue\n",
    "        \n",
    "    if volumes[iPhoton][-1] != 'NULL':\n",
    "        continue\n",
    "        \n",
    "    \n",
    "    # Keep all these photons\n",
    "    # I could do my operations here, but I'll store them for now\n",
    "    good_pos.append(pos[iPhoton])\n",
    "    good_mom.append(mom[iPhoton])\n",
    "    good_times.append(times[iPhoton])\n",
    "    all_volumes.append(volumes[iPhoton])\n",
    "    all_proc.append(proc[iPhoton])"
   ]
  },
  {
   "cell_type": "code",
   "execution_count": null,
   "metadata": {
    "collapsed": false
   },
   "outputs": [],
   "source": [
    "len(good_pos)"
   ]
  },
  {
   "cell_type": "code",
   "execution_count": null,
   "metadata": {
    "collapsed": false
   },
   "outputs": [],
   "source": [
    "# Contents of the output dictionary\n",
    "# Recall the PMT rotational symmetry is around the x-axis\n",
    "# y - starting position in y (front, back)\n",
    "# z - starting position in z (up, down)\n",
    "# xr - position (xyz) of the reflection \n",
    "# momentum - incoming momentum vector\n",
    "# theta_i\n",
    "# phi_i\n",
    "# theta_f\n",
    "# phi_f\n",
    "\n",
    "\n",
    "keys = ['nsteps', 'y','x', 'xr', 'delta_t', 'theta_i', 'phi_i','theta_f','phi_f','momentum',]\n",
    "data = {}\n",
    "for iKey in keys:\n",
    "    if iKey != 'momentum':\n",
    "        data[iKey] = np.zeros(len(good_pos))\n",
    "data['momentum'] = np.zeros([len(good_pos), 3])\n",
    "data['xr']       = np.zeros([len(good_pos), 3])\n",
    "\n",
    "\n",
    "normal = np.array([0, 0, 1])\n",
    "\n",
    "stop_at = -1\n",
    "\n",
    "for iPhoton in range(len(good_pos)):\n",
    "    data['x'][iPhoton] = good_pos[iPhoton][1][0]\n",
    "    data['y'][iPhoton] = good_pos[iPhoton][1][1]\n",
    "    \n",
    "    \n",
    "    # Because I'm looking at the reflection, the x should come from the *second* step\n",
    "    # Remember, step 0 is nothing, 1 is the first position, 2 is the reflection (starting point)\n",
    "    \n",
    "    # I have to look at the 3rd position because the 2nd one seems to be still an effect of the surface\n",
    "    data['xr'][iPhoton,:] = good_pos[iPhoton][3][:]\n",
    "    #for one_step in range(good_pos[iPhoton].shape[0]):\n",
    "    #    if data['xr'][iPhoton,0] < good_pos[iPhoton][one_step][0]:\n",
    "    #        data['xr'][iPhoton,:] = good_pos[iPhoton][one_step][:]\n",
    "\n",
    "    data['momentum'][iPhoton,:] = good_mom[iPhoton][1][:]\n",
    "    \n",
    "    # The negative value is because the theta is negative - otherwise I would need to correct for it later\n",
    "    data['theta_i'][iPhoton] = np.arccos(np.dot(normal, \n",
    "                                                -getNorm(good_mom[iPhoton][1])))\n",
    "    \n",
    "    # The phi is obtained \n",
    "    data['phi_i'][iPhoton]   = np.arctan2(good_mom[iPhoton][1][1],\n",
    "                               good_mom[iPhoton][1][0])\n",
    "    \n",
    "    data['theta_f'][iPhoton] = np.arccos(np.dot(normal, \n",
    "                                                getNorm(good_mom[iPhoton][-1])))\n",
    "    \n",
    "    # This is not correct, should be momentum\n",
    "    data['phi_f'][iPhoton]   = np.arctan2(good_mom[iPhoton][-1][1], \n",
    "                                   good_mom[iPhoton][-1][0])\n",
    "    \n",
    "    leaving_times = (good_mom[iPhoton][:,2] > 0)\n",
    "    leaving_pos = (good_pos[iPhoton][:,2]>130.)\n",
    "    data['delta_t'][iPhoton] = np.array(good_times[iPhoton])[(leaving_times*leaving_pos)[1:]][0]\n",
    "\n",
    "    \n",
    "    if iPhoton % 10000 == 0:\n",
    "        print iPhoton\n",
    "        \n",
    "    if iPhoton == stop_at:\n",
    "        print 'Momentum'\n",
    "        print good_mom[iPhoton]\n",
    "        print 'Position'\n",
    "        print good_pos[iPhoton]\n",
    "        break\n",
    "    \n",
    "    data['nsteps'][iPhoton] = len(good_pos[iPhoton])"
   ]
  },
  {
   "cell_type": "code",
   "execution_count": null,
   "metadata": {
    "collapsed": false
   },
   "outputs": [],
   "source": [
    "b,x = np.histogram(data['delta_t'], np.linspace(0, 3.))\n",
    "jplot.unfilledBar(x,b)\n",
    "plt.xlabel('Time delay (ns)')\n"
   ]
  },
  {
   "cell_type": "code",
   "execution_count": null,
   "metadata": {
    "collapsed": false
   },
   "outputs": [],
   "source": [
    "data['r'] = np.sqrt(data['y']**2 + data['x']**2)\n",
    "phidiff = (data['phi_f'] - data['phi_i'])\n",
    "phidiff[phidiff<0] += np.pi*2\n",
    "data['phidiff'] = phidiff"
   ]
  },
  {
   "cell_type": "code",
   "execution_count": null,
   "metadata": {
    "collapsed": false
   },
   "outputs": [],
   "source": [
    "print data['phi_i'][:10]\n",
    "print data['phi_f'][:10]\n"
   ]
  },
  {
   "cell_type": "code",
   "execution_count": null,
   "metadata": {
    "collapsed": false
   },
   "outputs": [],
   "source": [
    "b,x = np.histogram(data['nsteps'],np.arange(0, 50, 1))\n",
    "jplot.unfilledBar(x,b)"
   ]
  },
  {
   "cell_type": "code",
   "execution_count": null,
   "metadata": {
    "collapsed": false
   },
   "outputs": [],
   "source": [
    "np.sum(data['nsteps'] < 16)"
   ]
  },
  {
   "cell_type": "code",
   "execution_count": null,
   "metadata": {
    "collapsed": true
   },
   "outputs": [],
   "source": [
    "import pickle\n",
    "pickle.dump(data, open('/home/jp/projects/snoplus/rundir/greydisc_validation/onepmt_geo/condensed.pckl','w'))"
   ]
  },
  {
   "cell_type": "code",
   "execution_count": null,
   "metadata": {
    "collapsed": true
   },
   "outputs": [],
   "source": []
  }
 ],
 "metadata": {
  "kernelspec": {
   "display_name": "Python 2",
   "language": "python",
   "name": "python2"
  },
  "language_info": {
   "codemirror_mode": {
    "name": "ipython",
    "version": 2
   },
   "file_extension": ".py",
   "mimetype": "text/x-python",
   "name": "python",
   "nbconvert_exporter": "python",
   "pygments_lexer": "ipython2",
   "version": "2.7.11"
  }
 },
 "nbformat": 4,
 "nbformat_minor": 0
}
