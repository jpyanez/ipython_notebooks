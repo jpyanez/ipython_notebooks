{
 "cells": [
  {
   "cell_type": "code",
   "execution_count": 1,
   "metadata": {
    "collapsed": true
   },
   "outputs": [],
   "source": [
    "import os, sys\n",
    "import matplotlib.pyplot as plt\n",
    "import numpy as np\n",
    "%matplotlib inline \n",
    "sys.path.append('/home/jp/projects/python_tools')\n",
    "import jp_mpl as jplot\n",
    "from itertools import cycle\n",
    "from scipy.stats import truncnorm"
   ]
  },
  {
   "cell_type": "code",
   "execution_count": 19,
   "metadata": {
    "collapsed": false
   },
   "outputs": [],
   "source": [
    "\n",
    "def plotContact(position, direction):\n",
    "\n",
    "\n",
    "    pmt_size = 95.\n",
    "    #plt.plot()\n",
    "    #plt.figure()\n",
    "    fig, ax = plt.subplots()\n",
    "    circle1 = plt.Circle((0, 0), 95, color='r')\n",
    "    ax.add_artist(circle1)\n",
    "\n",
    "    depths = [56.7, 59, 113.]\n",
    "    for d in depths:\n",
    "        t = d/direction[2]\n",
    "\n",
    "        x = position[0] + direction[0]*t\n",
    "        y = position[1] + direction[1]*t\n",
    "        plt.plot(x,y, 'x', markersize=10)\n",
    "\n",
    "    plt.xlim([-200,200])\n",
    "    plt.ylim(-200,200)\n",
    "    return\n",
    "\n"
   ]
  },
  {
   "cell_type": "code",
   "execution_count": 20,
   "metadata": {
    "collapsed": false
   },
   "outputs": [],
   "source": [
    "\n",
    "def thetaChange(direction, direction_new):\n",
    "    original_angle = np.arccos(-direction[2])\n",
    "    new_angle = np.arccos(direction_new[2])\n",
    "    \n",
    "    print 'Angles', original_angle, new_angle\n",
    "    print 'Difference', new_angle-original_angle"
   ]
  },
  {
   "cell_type": "code",
   "execution_count": 28,
   "metadata": {
    "collapsed": true
   },
   "outputs": [],
   "source": [
    "def PMTmultiple(random_value, dir_z):\n",
    "    theta_i = np.arccos(-dir_z)\n",
    "    rot_angle = 0.603749333397\n",
    "    delta = (random_value - theta_i *np.sin(rot_angle))/np.cos(rot_angle)\n",
    "    print delta\n",
    "\n",
    "def PMTsingle(random_value, dir_z):\n",
    "    rot_angle = np.pi/4.\n",
    "    theta_i = np.arccos(-dir_z)\n",
    "    delta = (random_value - theta_i *np.sin(rot_angle))/np.cos(rot_angle)\n",
    "    print delta\n",
    "\n",
    "def PMTreflections( dirz, radius):\n",
    "    rot_angle = 1.56686777558\n",
    "    value = -dirz*np.sin(rot_angle) + radius*np.cos(rot_angle)\n",
    "    print value\n",
    "\n",
    "    \n",
    "def CONCrefPDF(dirz):\n",
    "    x = np.arccos(-dirz)\n",
    "    value = -0.3794*x**5 - 0.3118*x**4 + 2.51*x**3 - 2.745*x**2 + 1.005*x + 0.8163\n",
    "    print 'Concentrator reflection PDF', value"
   ]
  },
  {
   "cell_type": "code",
   "execution_count": 32,
   "metadata": {
    "collapsed": false
   },
   "outputs": [
    {
     "name": "stdout",
     "output_type": "stream",
     "text": [
      " Angles 1.40593960201 1.38850033155\n",
      "Difference -0.0174392704671\n",
      "Radius  90.5419007754\n",
      "PMT parameters\n",
      "0.361125065745\n",
      "-0.200800736377\n",
      "0.261645257908\n",
      "CONC parameters\n",
      "Concentrator reflection PDF 0.476368670506\n"
     ]
    },
    {
     "data": {
      "image/png": "[encoded data removed]",
      "text/plain": [
       "<matplotlib.figure.Figure at 0x7fa40115db90>"
      ]
     },
     "metadata": {},
     "output_type": "display_data"
    }
   ],
   "source": [
    "\n",
    "position=[87.9899, -21.3451, 130.4]\n",
    "direction=[0.7764, -0.608498, -0.164111]\n",
    "direction_new=[-0.933287, -0.310017, 0.181288]\n",
    "\n",
    "plotContact(position,direction)\n",
    "thetaChange(direction,direction_new)\n",
    "\n",
    "myrand = 0.458801#None\n",
    "print 'Radius ', np.sqrt(position[0]**2 + position[1]**2)\n",
    "\n",
    "print 'PMT parameters'\n",
    "PMTmultiple(myrand,-0.959803 )\n",
    "PMTreflections(myrand, 65.6724)\n",
    "PMTsingle( 0.487763 , -0.909733)\n",
    "\n",
    "print 'CONC parameters'\n",
    "CONCrefPDF(direction[2])"
   ]
  },
  {
   "cell_type": "code",
   "execution_count": null,
   "metadata": {
    "collapsed": true
   },
   "outputs": [],
   "source": []
  }
 ],
 "metadata": {
  "kernelspec": {
   "display_name": "Python 2",
   "language": "python",
   "name": "python2"
  },
  "language_info": {
   "codemirror_mode": {
    "name": "ipython",
    "version": 2
   },
   "file_extension": ".py",
   "mimetype": "text/x-python",
   "name": "python",
   "nbconvert_exporter": "python",
   "pygments_lexer": "ipython2",
   "version": "2.7.11"
  }
 },
 "nbformat": 4,
 "nbformat_minor": 0
}
