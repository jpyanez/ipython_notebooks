{
 "cells": [
  {
   "cell_type": "code",
   "execution_count": 102,
   "metadata": {},
   "outputs": [],
   "source": [
    "from icecube import dataclasses, phys_services\n",
    "import numpy as np\n",
    "%matplotlib inline\n",
    "import matplotlib.pyplot as plt\n",
    "from scipy import spatial"
   ]
  },
  {
   "cell_type": "code",
   "execution_count": 200,
   "metadata": {},
   "outputs": [],
   "source": [
    "# Nice plots\n",
    "import matplotlib\n",
    "matplotlib.rc('xtick', labelsize=14)#, labelweight = 'bold')\n",
    "matplotlib.rc('ytick', labelsize=14)\n",
    "#matplotlib.rc('title', labelsize=14)\n",
    "matplotlib.rc('axes', labelsize = 14)\n",
    "matplotlib.rc('ytick.minor', size=10)\n",
    "matplotlib.rc('xtick.major', size=10)\n",
    "matplotlib.rc(\"axes\", linewidth=1.0, grid=True, facecolor='white')#, labelweight = 'bold')\n",
    "matplotlib.rc(\"figure\", facecolor='white', titlesize=14)\n",
    "matplotlib.rc(\"lines\", markeredgewidth=2.0, linewidth = 2)\n",
    "#matplotlib.rc('figure', autolayout = True)\n",
    "matplotlib.rc(\"grid\", color='#888888', linewidth = 0.3)"
   ]
  },
  {
   "cell_type": "code",
   "execution_count": null,
   "metadata": {},
   "outputs": [],
   "source": []
  },
  {
   "cell_type": "code",
   "execution_count": 6,
   "metadata": {},
   "outputs": [],
   "source": [
    "## Let's define the 3 positions of the SDOMs I want\n",
    "## Icecube uses meters for distances\n",
    "sdom_positions = [dataclasses.I3Position(0, 0, 20),\n",
    "                  dataclasses.I3Position(0, 0, 0.),\n",
    "                  dataclasses.I3Position(0, 0, -20)]"
   ]
  },
  {
   "cell_type": "code",
   "execution_count": 58,
   "metadata": {},
   "outputs": [],
   "source": [
    "# Let's define an example muon using the icecube dataclasses\n",
    "# Make an instance of the class\n",
    "muon = dataclasses.I3Particle()\n",
    "# Add an injection point and time\n",
    "muon.pos = dataclasses.I3Position(1, 1, 100)\n",
    "muon.time = 0.\n",
    "# Set the direction\n",
    "zenith = 0.\n",
    "theta = np.pi - zenith \n",
    "muon.dir.set_theta_phi(theta, np.pi)\n",
    "# Make it infinite\n",
    "muon.shape = dataclasses.I3Particle.InfiniteTrack"
   ]
  },
  {
   "cell_type": "code",
   "execution_count": 68,
   "metadata": {},
   "outputs": [
    {
     "name": "stdout",
     "output_type": "stream",
     "text": [
      "Arrival time 271.178592654\n",
      "Arrival time 337.891411693\n",
      "Delta t 66.7128190396\n",
      "Arrival time 404.604230733\n",
      "Delta t 66.7128190396\n"
     ]
    }
   ],
   "source": [
    "# Now calculate the arrival times using the I3Calculator that takes (particle, position) as arguments\n",
    "times = []\n",
    "for one_dom in sdom_positions:\n",
    "    times.append(phys_services.I3Calculator.cherenkov_time(muon, one_dom))\n",
    "    print 'Arrival time', times[-1]\n",
    "    if len(times)>1:\n",
    "        delta_t = times[-1]-times[-2]\n",
    "        print 'Delta t', delta_t\n",
    "        "
   ]
  },
  {
   "cell_type": "code",
   "execution_count": 163,
   "metadata": {},
   "outputs": [],
   "source": [
    "# Let's write this in a function now\n",
    "def getDeltaT(muon, sdoms, dist_threshold = 30):\n",
    "    delta_times = []\n",
    "    times = []\n",
    "    distances = []\n",
    "    for one_dom in sdoms:\n",
    "        times.append(phys_services.I3Calculator.cherenkov_time(muon, one_dom))\n",
    "        distances.append(phys_services.I3Calculator.cherenkov_distance(muon, one_dom))\n",
    "        if len(times)>1:\n",
    "            delta_t = times[-1]-times[-2]\n",
    "            delta_times.append(times[-1]-times[-2])\n",
    "    # Check if the distances are reasonable\n",
    "    if np.max(distances) > dist_threshold:\n",
    "        return np.array([np.nan, np.nan])\n",
    "    else:\n",
    "        return np.array(delta_times)"
   ]
  },
  {
   "cell_type": "code",
   "execution_count": 158,
   "metadata": {},
   "outputs": [],
   "source": [
    "phys_services.I3Calculator.cherenkov_distance?"
   ]
  },
  {
   "cell_type": "code",
   "execution_count": 161,
   "metadata": {},
   "outputs": [
    {
     "name": "stdout",
     "output_type": "stream",
     "text": [
      "[66.71281904 66.71281904]\n"
     ]
    }
   ],
   "source": [
    "t = getDeltaT(muon, sdom_positions)\n",
    "print t"
   ]
  },
  {
   "cell_type": "code",
   "execution_count": 140,
   "metadata": {},
   "outputs": [],
   "source": [
    "# We will pick the cos(zenith) angle, and do the random sampling in \n",
    "# azimuth and position in the top cap (radius and angle)\n",
    "def pickCylinderPoint(cos_zenith,\n",
    "                     chalf_height = 50., # cylinder properties, in m\n",
    "                     cradius = 80): # cylinder properties, in m\n",
    "    \n",
    "    # Random azimuth angle\n",
    "    azimuth = np.random.rand()*2*np.pi\n",
    "    \n",
    "    # Axis of the rotated cylinder\n",
    "    zenith = np.arccos(cos_zenith)\n",
    "    uvec = np.array([np.cos(azimuth)*np.sin(zenith),\n",
    "                     np.sin(azimuth)*np.sin(zenith),\n",
    "                     np.cos(zenith)])\n",
    "    \n",
    "    # Random angle for the position on the cap\n",
    "    cap_angle = np.random.rand()*2.*np.pi\n",
    "    \n",
    "    # Find the vector from the axis of the rotated cylinder to that point in the cap\n",
    "    # They are perpendicular, so uvec dot capvec = 0, let's figure out the third component\n",
    "    capvec = np.array([np.cos(cap_angle), np.sin(cap_angle), np.nan])\n",
    "    # uvec[0]*capvec[0] + uvec[1]*capvec[1] + uvec[2]*capvec[2] = 0\n",
    "    capvec[2] = -(uvec[0]*capvec[0] + uvec[1]*capvec[1])/uvec[2]\n",
    "    \n",
    "    # Now let's find the radial position of that vector  \n",
    "    \n",
    "    # This is the area trick, the area of a disc is pi*r**2\n",
    "    # To make the area equally likely, I must pick a point\n",
    "    # And iterpret it to be R**2\n",
    "    cap_radius = np.sqrt(np.random.rand())*cradius\n",
    "    \n",
    "    # To get the position of injection, simply sum the two vectors with magnitudes\n",
    "    pos = uvec*chalf_height + capvec*cap_radius\n",
    "    return pos\n",
    "    \n",
    "    # Lauren: check the cap distribution if you use radius instead of sqrt(radius)\n",
    "    #cap_radius = np.random.rand()*cradius\n",
    "    \n",
    "    # Cap x,y\n",
    "    #x = cap_radius*np.cos(cap_angle)\n",
    "    #y = cap_radius*np.sin(cap_angle)\n",
    "    #z = chalf_height\n",
    "    #return x,y"
   ]
  },
  {
   "cell_type": "code",
   "execution_count": 141,
   "metadata": {},
   "outputs": [
    {
     "name": "stdout",
     "output_type": "stream",
     "text": [
      "[-63.87884838  56.4952503   14.2585975 ]\n"
     ]
    }
   ],
   "source": [
    "# Test the function\n",
    "p = pickCylinderPoint(0.9)\n",
    "print p"
   ]
  },
  {
   "cell_type": "code",
   "execution_count": 187,
   "metadata": {},
   "outputs": [],
   "source": [
    "def sampleDeltaT(cos_zenith,\n",
    "                 sdoms,\n",
    "                 max_distance = 30.,\n",
    "                 cheight = 50.,\n",
    "                 cradius = 60.,\n",
    "                nsamples = 5000):\n",
    "    deltat_array = np.zeros([nsamples,2])\n",
    "    muon = dataclasses.I3Particle()\n",
    "    # Only relative times matter, use zero here\n",
    "    muon.time = 0.\n",
    "    # Make it infinite\n",
    "    muon.shape = dataclasses.I3Particle.InfiniteTrack\n",
    "    for k in range(nsamples):\n",
    "        # Make the muon\n",
    "        pos = pickCylinderPoint(cos_zenith,\n",
    "                               cheight, cradius)\n",
    "        # Place it in the right position\n",
    "        muon.pos = dataclasses.I3Position(pos[0], pos[1], pos[2])\n",
    "        # Set the direction\n",
    "        zenith = np.arccos(cos_zenith)\n",
    "        theta = np.pi - zenith \n",
    "        muon.dir.set_theta_phi(theta, np.pi)\n",
    "        \n",
    "        # Calculate time differences\n",
    "        deltat_array[k,:] = getDeltaT(muon, sdoms, max_distance)\n",
    "    return deltat_array"
   ]
  },
  {
   "cell_type": "code",
   "execution_count": 196,
   "metadata": {},
   "outputs": [
    {
     "name": "stdout",
     "output_type": "stream",
     "text": [
      "Muons that were close enough to sample 1847\n"
     ]
    }
   ],
   "source": [
    "d = sampleDeltaT(0.9, sdom_positions, max_distance = 50., nsamples = 10000)\n",
    "# Remove the bad distances (signals that are too far)\n",
    "far_muons = np.isnan(d[:,0])\n",
    "d = d[~far_muons,:]\n",
    "print 'Muons that were close enough to sample', d.shape[0]"
   ]
  },
  {
   "cell_type": "code",
   "execution_count": 197,
   "metadata": {},
   "outputs": [
    {
     "data": {
      "text/plain": [
       "<matplotlib.text.Text at 0x7f38be4d53d0>"
      ]
     },
     "execution_count": 197,
     "metadata": {},
     "output_type": "execute_result"
    },
    {
     "data": {
      "image/png": "[encoded data removed]",
      "text/plain": [
       "<matplotlib.figure.Figure at 0x7f38be5aced0>"
      ]
     },
     "metadata": {
      "needs_background": "light"
     },
     "output_type": "display_data"
    }
   ],
   "source": [
    "fig = plt.figure(figsize=(7,5))\n",
    "plt.scatter(d[:,0], d[:,1],1, color='C0')\n",
    "plt.xlabel('Delta t 1-2 (ns)')\n",
    "plt.ylabel('Delta t 2-3 (ns)')"
   ]
  },
  {
   "cell_type": "code",
   "execution_count": null,
   "metadata": {},
   "outputs": [
    {
     "name": "stdout",
     "output_type": "stream",
     "text": [
      "Cos(zenith) 1.0  - muons remaining 7580\n",
      "Cos(zenith) 0.999  - muons remaining 7438\n",
      "Cos(zenith) 0.95  - muons remaining 5831\n"
     ]
    }
   ],
   "source": [
    "fig = plt.figure(figsize=(7,5))\n",
    "# Now trying at 5 different cos(zenith) positions\n",
    "coszen = np.array([1., 0.999, 0.95, 0.9, 0.8, 0.6])\n",
    "#coszen = np.array([1., 0.999, 0.95, 0.9, 0.8, 0.6])\n",
    "for i in range(len(coszen)):\n",
    "    d = sampleDeltaT(coszen[i], sdom_positions, \n",
    "                     max_distance = 80., nsamples = 10000)\n",
    "    # Remove the bad distances (signals that are too far)\n",
    "    far_muons = np.isnan(d[:,0])\n",
    "    d = d[~far_muons,:]\n",
    "    \n",
    "    print 'Cos(zenith)', coszen[i], ' - muons remaining', d.shape[0]\n",
    "    plt.scatter(d[:,0], d[:,1],1, color='C'+\"%i\" % i,\n",
    "               label = 'coszen = ' + \"%0.2f\" % coszen[i])\n",
    "    \n",
    "plt.xlabel('Delta t 1-2 (ns)', fontsize='large')\n",
    "plt.ylabel('Delta t 2-3 (ns)', fontsize='large')\n",
    "plt.legend(loc=0, fontsize='large')"
   ]
  },
  {
   "cell_type": "code",
   "execution_count": null,
   "metadata": {},
   "outputs": [],
   "source": []
  }
 ],
 "metadata": {
  "kernelspec": {
   "display_name": "Python 3",
   "language": "python",
   "name": "python3"
  },
  "language_info": {
   "codemirror_mode": {
    "name": "ipython",
    "version": 2
   },
   "file_extension": ".py",
   "mimetype": "text/x-python",
   "name": "python",
   "nbconvert_exporter": "python",
   "pygments_lexer": "ipython2",
   "version": "2.7.15"
  }
 },
 "nbformat": 4,
 "nbformat_minor": 2
}
