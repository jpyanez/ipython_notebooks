{
 "cells": [
  {
   "cell_type": "code",
   "execution_count": 1,
   "metadata": {
    "collapsed": false
   },
   "outputs": [],
   "source": [
    "import numpy as np\n",
    "import scipy.stats, sys\n",
    "import itertools\n",
    "\n",
    "import matplotlib.pyplot as plt\n",
    "sys.path.append('/home/jp/projects/python_tools') # This is just a plotting tool\n",
    "import jp_mpl as jplot\n",
    "%matplotlib inline   \n"
   ]
  },
  {
   "cell_type": "code",
   "execution_count": 22,
   "metadata": {
    "collapsed": true
   },
   "outputs": [],
   "source": [
    "def histchi2(data, pdf):\n",
    "    return np.sum((data - pdf)**2/pdf)"
   ]
  },
  {
   "cell_type": "markdown",
   "metadata": {},
   "source": [
    "### Assume you are analyzing a zenith distribution\n",
    "#### Define a number of bins, sample size and shape of the distribution. All these should be irrelevant. It is just to make it more comprehensible"
   ]
  },
  {
   "cell_type": "code",
   "execution_count": 92,
   "metadata": {
    "collapsed": false
   },
   "outputs": [
    {
     "data": {
      "image/png": "[encoded data removed]",
      "text/plain": [
       "<matplotlib.figure.Figure at 0x7f1420d31610>"
      ]
     },
     "metadata": {},
     "output_type": "display_data"
    }
   ],
   "source": [
    "# cos(zenith) edges\n",
    "xedges = [-1,1]\n",
    "# Number of bins\n",
    "xbins  = 24\n",
    "# The z-axis of all histograms\n",
    "zaxis  = np.linspace(xedges[0],xedges[1], xbins+1)\n",
    "\n",
    "# The size of our experiment\n",
    "events_to_draw = 100\n",
    "\n",
    "# Our infinite MC - it just has to be huge in comparison to the events \"observed\"\n",
    "zenith = np.linspace(xedges[0],xedges[1], events_to_draw*100)\n",
    "\n",
    "# This is the shape of the distribution. I just wanted to avoid it being flat and having zero bins\n",
    "# You can modify it at will. Just make it positive\n",
    "true_pdf  = 2.+np.sin(zenith*2)\n",
    "true_pdf *= 1/np.sum(true_pdf)\n",
    "plt.plot(zenith, true_pdf)\n",
    "plt.xlabel('cos(zenith)')\n",
    "plt.ylabel('PDF (normalized)')\n",
    "\n",
    "plt.show()"
   ]
  },
  {
   "cell_type": "markdown",
   "metadata": {},
   "source": [
    "### Get some events from your infinite MC - that's your data"
   ]
  },
  {
   "cell_type": "code",
   "execution_count": 93,
   "metadata": {
    "collapsed": false
   },
   "outputs": [
    {
     "name": "stdout",
     "output_type": "stream",
     "text": [
      "Chi2  25.5758533325\n"
     ]
    },
    {
     "data": {
      "image/png": "[encoded data removed]",
      "text/plain": [
       "<matplotlib.figure.Figure at 0x7f142209c7d0>"
      ]
     },
     "metadata": {},
     "output_type": "display_data"
    }
   ],
   "source": [
    "# Draw some events from that true pdf without replacement\n",
    "data = np.random.choice(zenith, \n",
    "                        events_to_draw, \n",
    "                        replace=False,\n",
    "                        p = true_pdf)\n",
    "\n",
    "# Compare the true values between your events and the infinite MC\n",
    "dbins, x = np.histogram(data, zaxis)\n",
    "jplot.unfilledBar(zaxis, dbins)\n",
    "\n",
    "perfect_data = true_pdf*events_to_draw\n",
    "perfbins, x = np.histogram(zenith, zaxis, weights=perfect_data)\n",
    "jplot.unfilledBar(zaxis, perfbins, linestyle='--', color='red')\n",
    "plt.xlabel('cos(zenith)')\n",
    "plt.ylabel('Events')\n",
    "\n",
    "\n",
    "chi2 = np.sum((perfbins-dbins)**2/perfbins)\n",
    "print 'Chi2 ', chi2"
   ]
  },
  {
   "cell_type": "markdown",
   "metadata": {},
   "source": [
    "### Define your reconstruction parameters - including the unstable behavior"
   ]
  },
  {
   "cell_type": "code",
   "execution_count": 94,
   "metadata": {
    "collapsed": true
   },
   "outputs": [],
   "source": [
    "# Let's reconstruct that data N times\n",
    "nrecos = 10\n",
    "\n",
    "# These parameters are the usual ones for a reconstruction\n",
    "fit_bias      = 0.03\n",
    "fit_sigma     = 0.05\n",
    "\n",
    "# This parameter is the stability. Changes for every event, every time it is reconstructed\n",
    "fit_stability = 0.3\n",
    "fit_stability_bias = 0.1"
   ]
  },
  {
   "cell_type": "markdown",
   "metadata": {},
   "source": [
    "### Reconstruct your infinite MC - with and without unstable behavior. Bin it."
   ]
  },
  {
   "cell_type": "code",
   "execution_count": 95,
   "metadata": {
    "collapsed": false
   },
   "outputs": [],
   "source": [
    "# Let's get the reconstructed PDF using only the perfect reco\n",
    "reco_pdf = zenith+np.random.normal(fit_bias, fit_sigma, zenith.shape)\n",
    "reco_hist, x = np.histogram(reco_pdf, zaxis, weights=perfect_data)\n",
    "\n",
    "# Now let's reconstruct the PDF using perfect reco + unstable behavior\n",
    "unstable_pdf = reco_pdf+np.random.normal(fit_stability_bias, fit_stability, zenith.shape)\n",
    "unstable_hist, x = np.histogram(unstable_pdf, zaxis, weights=perfect_data)"
   ]
  },
  {
   "cell_type": "markdown",
   "metadata": {},
   "source": [
    "### Reconstruct the \"data\" - with and without unstable behavior "
   ]
  },
  {
   "cell_type": "code",
   "execution_count": 96,
   "metadata": {
    "collapsed": false
   },
   "outputs": [],
   "source": [
    "# First the normal reco - well defined\n",
    "reco_resolution = np.random.normal(fit_bias, fit_sigma, data.shape)\n",
    "\n",
    "# Then the reco stability - changes every time\n",
    "reco_stability = np.random.normal(fit_stability_bias, fit_stability, (nrecos,len(data)))\n",
    "\n",
    "# Reconstruction (stable behavior)\n",
    "perfect_reco = data+reco_resolution\n",
    "\n",
    "# Reconstruction (with unstable behavior)\n",
    "myreco = reco_stability+data+reco_resolution"
   ]
  },
  {
   "cell_type": "markdown",
   "metadata": {},
   "source": [
    "### Expected statistical precision to normalization"
   ]
  },
  {
   "cell_type": "code",
   "execution_count": 97,
   "metadata": {
    "collapsed": false
   },
   "outputs": [
    {
     "data": {
      "text/plain": [
       "[<matplotlib.lines.Line2D at 0x7f14220dc290>]"
      ]
     },
     "execution_count": 97,
     "metadata": {},
     "output_type": "execute_result"
    },
    {
     "data": {
      "image/png": "[encoded data removed]",
      "text/plain": [
       "<matplotlib.figure.Figure at 0x7f14220dc490>"
      ]
     },
     "metadata": {},
     "output_type": "display_data"
    }
   ],
   "source": [
    "jplot.unfilledBar(zaxis, reco_hist)\n",
    "n, x = np.histogram(perfect_reco, zaxis)\n",
    "jplot.unfilledBar(zaxis, n, color = 'red')"
   ]
  },
  {
   "cell_type": "code",
   "execution_count": 102,
   "metadata": {
    "collapsed": false
   },
   "outputs": [],
   "source": [
    "# Calculate chi2 of 2 histograms\n",
    "nvalues = np.linspace(0.9, 1.2, 101)\n",
    "chi2values = np.zeros_like(nvalues)\n",
    "for i, value in enumerate(nvalues):\n",
    "    chi2values[i] = histchi2(n, value*reco_hist)"
   ]
  },
  {
   "cell_type": "code",
   "execution_count": 103,
   "metadata": {
    "collapsed": false
   },
   "outputs": [
    {
     "data": {
      "text/plain": [
       "(0.9, 1.2)"
      ]
     },
     "execution_count": 103,
     "metadata": {},
     "output_type": "execute_result"
    },
    {
     "data": {
      "image/png": "[encoded data removed]",
      "text/plain": [
       "<matplotlib.figure.Figure at 0x7f14245a6f50>"
      ]
     },
     "metadata": {},
     "output_type": "display_data"
    }
   ],
   "source": [
    "plt.plot(nvalues, chi2values-chi2values.min())\n",
    "plt.ylim([0, 2])\n",
    "plt.xlim([0.9, 1.2])"
   ]
  },
  {
   "cell_type": "markdown",
   "metadata": {},
   "source": [
    "### Verification - resolution with/without instability"
   ]
  },
  {
   "cell_type": "code",
   "execution_count": 104,
   "metadata": {
    "collapsed": false
   },
   "outputs": [
    {
     "data": {
      "text/plain": [
       "<matplotlib.text.Text at 0x7f1420c30a50>"
      ]
     },
     "execution_count": 104,
     "metadata": {},
     "output_type": "execute_result"
    },
    {
     "data": {
      "image/png": "[encoded data removed]",
      "text/plain": [
       "<matplotlib.figure.Figure at 0x7f1420cfea90>"
      ]
     },
     "metadata": {},
     "output_type": "display_data"
    }
   ],
   "source": [
    "# Verifying resolutions\n",
    "raxis = np.linspace(-1, 1, 100)\n",
    "resolution = (reco_pdf - zenith)/zenith\n",
    "r, newx = np.histogram(resolution, raxis , weights=perfect_data)\n",
    "\n",
    "resolution_unstable = ((myreco - data)/data).flatten()\n",
    "r2, newx = np.histogram(resolution_unstable, raxis)\n",
    "\n",
    "jplot.unfilledBar(newx,r2*np.sum(r)/np.sum(r2), color = 'red', label='With instability')\n",
    "jplot.unfilledBar(newx,r, label='Perfect reco')\n",
    "plt.legend(loc=0)\n",
    "plt.ylabel('Events')\n",
    "plt.xlabel('cos(zenith) resolution')"
   ]
  },
  {
   "cell_type": "markdown",
   "metadata": {},
   "source": [
    "### Verify one of the 10 reconstructions"
   ]
  },
  {
   "cell_type": "code",
   "execution_count": 105,
   "metadata": {
    "collapsed": false
   },
   "outputs": [
    {
     "name": "stdout",
     "output_type": "stream",
     "text": [
      "Chi2 vs stable  19.3059319024\n",
      "Chi2 vs unstable  21.2187655627\n"
     ]
    },
    {
     "data": {
      "image/png": "[encoded data removed]",
      "text/plain": [
       "<matplotlib.figure.Figure at 0x7f1420bda7d0>"
      ]
     },
     "metadata": {},
     "output_type": "display_data"
    }
   ],
   "source": [
    "# Compare the i-th reconstruction\n",
    "i = 4\n",
    "\n",
    "one_reco, x = np.histogram(myreco[i,:], zaxis)\n",
    "jplot.unfilledBar(x, one_reco)\n",
    "jplot.unfilledBar(zaxis, reco_hist, linestyle='--', color='red')\n",
    "jplot.unfilledBar(zaxis, unstable_hist, linestyle='--', color='green')\n",
    "chi2 = np.sum((one_reco - reco_hist)**2/reco_hist)\n",
    "chi2u= np.sum((one_reco - unstable_hist)**2/unstable_hist)\n",
    "plt.xlabel('cos(zenith)')\n",
    "plt.ylabel('Events')\n",
    "print 'Chi2 vs stable ', chi2\n",
    "print 'Chi2 vs unstable ', chi2u"
   ]
  },
  {
   "cell_type": "code",
   "execution_count": 106,
   "metadata": {
    "collapsed": false
   },
   "outputs": [],
   "source": [
    "# Calculate the chi2 of all re-reconstructions\n",
    "norms = []\n",
    "nvalues = np.linspace(0.97, 1.03, 201)\n",
    "for i in range(myreco.shape[0]):\n",
    "    chi2values = np.zeros_like(nvalues)\n",
    "    for iv, value in enumerate(nvalues):\n",
    "        n, x = np.histogram(myreco[i,:], zaxis)\n",
    "        chi2values[iv] = histchi2(n, value*unstable_hist)\n",
    "    norms.append(nvalues[chi2values.argmin()])"
   ]
  },
  {
   "cell_type": "code",
   "execution_count": 107,
   "metadata": {
    "collapsed": false
   },
   "outputs": [
    {
     "name": "stdout",
     "output_type": "stream",
     "text": [
      "2.22044604925e-16\n"
     ]
    }
   ],
   "source": [
    "print np.std(norms)"
   ]
  },
  {
   "cell_type": "markdown",
   "metadata": {},
   "source": [
    "### Histogram all of the data"
   ]
  },
  {
   "cell_type": "code",
   "execution_count": 9,
   "metadata": {
    "collapsed": false
   },
   "outputs": [],
   "source": [
    "# Calculate the relative errors of each MC with respect to all of them\n",
    "# Get the histograms\n",
    "\n",
    "data_histograms = np.zeros([myreco.shape[0], len(zaxis)-1])\n",
    "for i in range(myreco.shape[0]):\n",
    "    data_histograms[i,:], x = np.histogram(myreco[i,:], zaxis)"
   ]
  },
  {
   "cell_type": "code",
   "execution_count": 10,
   "metadata": {
    "collapsed": false
   },
   "outputs": [
    {
     "data": {
      "text/plain": [
       "(10, 24)"
      ]
     },
     "execution_count": 10,
     "metadata": {},
     "output_type": "execute_result"
    }
   ],
   "source": [
    "data_histograms.shape"
   ]
  },
  {
   "cell_type": "code",
   "execution_count": 11,
   "metadata": {
    "collapsed": false
   },
   "outputs": [],
   "source": [
    "# Now get the deviations for each histogram wrt all the others\n",
    "deviations = np.zeros([myreco.shape[0], (myreco.shape[0]-1)*data_histograms.shape[1]])\n",
    "for i in range(myreco.shape[0]):\n",
    "    alldevs = (data_histograms[i,:] - data_histograms)/data_histograms\n",
    "    \n",
    "    deviations[i,:] = np.concatenate((alldevs[:i,:].flatten(), alldevs[(i+1):, :].flatten()))"
   ]
  },
  {
   "cell_type": "code",
   "execution_count": 12,
   "metadata": {
    "collapsed": false
   },
   "outputs": [
    {
     "name": "stdout",
     "output_type": "stream",
     "text": [
      "[ 0.75352904  1.44970037  0.89671386  0.56519317  1.03673061  2.68359661\n",
      "  1.19750543 -0.48610678  0.72560013  1.66825639]\n",
      "7\n"
     ]
    },
    {
     "data": {
      "image/png": "[encoded data removed]",
      "text/plain": [
       "<matplotlib.figure.Figure at 0x7f14213163d0>"
      ]
     },
     "metadata": {},
     "output_type": "display_data"
    }
   ],
   "source": [
    "plt.plot()\n",
    "mycolors = ['b','r','g','m','c','y','brown', 'k', '0.5','darkgreen','darkred']\n",
    "color = itertools.cycle(mycolors)\n",
    "devaxis = np.linspace(-0.5, 0.5, 20)\n",
    "for i in range(myreco.shape[0]):\n",
    "    n, x = np.histogram(deviations[i,:], devaxis)\n",
    "    jplot.unfilledBar(x, n, color = color.next(), label = str(i))\n",
    "plt.legend(loc=0)\n",
    "devsum = np.sum(deviations, axis=1)\n",
    "print devsum\n",
    "print np.abs(devsum).argmin()\n",
    "#plt.yscale('log')"
   ]
  },
  {
   "cell_type": "code",
   "execution_count": 14,
   "metadata": {
    "collapsed": false
   },
   "outputs": [
    {
     "data": {
      "text/plain": [
       "[<matplotlib.lines.Line2D at 0x7f1422066790>]"
      ]
     },
     "execution_count": 14,
     "metadata": {},
     "output_type": "execute_result"
    },
    {
     "data": {
      "image/png": "[encoded data removed]",
      "text/plain": [
       "<matplotlib.figure.Figure at 0x7f14211fa790>"
      ]
     },
     "metadata": {},
     "output_type": "display_data"
    }
   ],
   "source": [
    "plt.plot(np.abs(devsum), [1.]*len(devsum), 'x')"
   ]
  },
  {
   "cell_type": "code",
   "execution_count": null,
   "metadata": {
    "collapsed": true
   },
   "outputs": [],
   "source": [
    "# I still need to make a fit to make my point clear\n",
    "# Let's just get the prediction for the normalization as my parameter"
   ]
  },
  {
   "cell_type": "code",
   "execution_count": 60,
   "metadata": {
    "collapsed": false
   },
   "outputs": [
    {
     "data": {
      "text/plain": [
       "(500000,)"
      ]
     },
     "execution_count": 60,
     "metadata": {},
     "output_type": "execute_result"
    }
   ],
   "source": [
    "unstable_pdf.shape"
   ]
  },
  {
   "cell_type": "code",
   "execution_count": null,
   "metadata": {
    "collapsed": true
   },
   "outputs": [],
   "source": []
  }
 ],
 "metadata": {
  "kernelspec": {
   "display_name": "Python 2",
   "language": "python",
   "name": "python2"
  },
  "language_info": {
   "codemirror_mode": {
    "name": "ipython",
    "version": 2
   },
   "file_extension": ".py",
   "mimetype": "text/x-python",
   "name": "python",
   "nbconvert_exporter": "python",
   "pygments_lexer": "ipython2",
   "version": "2.7.11"
  }
 },
 "nbformat": 4,
 "nbformat_minor": 0
}
