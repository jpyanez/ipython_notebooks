{
 "cells": [
  {
   "cell_type": "code",
   "execution_count": 1,
   "metadata": {
    "collapsed": true
   },
   "outputs": [],
   "source": [
    "import profile, cProfile, re, pstats, StringIO"
   ]
  },
  {
   "cell_type": "code",
   "execution_count": 2,
   "metadata": {
    "collapsed": false
   },
   "outputs": [
    {
     "data": {
      "text/plain": [
       "<module 'dataLoader' from '/home/jp/projects/icecube/oscFit/modules/dataLoader.pyc'>"
      ]
     },
     "execution_count": 2,
     "metadata": {},
     "output_type": "execute_result"
    }
   ],
   "source": [
    "import os, sys\n",
    "import matplotlib.pyplot as plt\n",
    "%matplotlib inline \n",
    "sys.path.append('/home/jp/projects/python_tools')\n",
    "import jp_mpl as jplot\n",
    "sys.path.append('/home/jp/projects/icecube/oscFit/modules')\n",
    "import pickle, dataLoader\n",
    "import numpy as np\n",
    "from copy import deepcopy\n",
    "reload(dataLoader)"
   ]
  },
  {
   "cell_type": "raw",
   "metadata": {
    "collapsed": false,
    "scrolled": false
   },
   "source": [
    "loader =  dataLoader.dataLoader(observables = \n",
    "                                ['reco_energy', 'reco_zenith'],# 'reco_energy'],\n",
    "                                bin_edges   =    \n",
    "                                [10**np.linspace(0.8,1.75,9),\n",
    "                                 np.arccos(np.linspace(-1,0.,9))[::-1]],\n",
    "                                user = 'quickstart', \n",
    "                                LEaxis = [],      \n",
    "                                weight_keys = ['weight_e', 'weight_mu'],\n",
    "                                detsys_nuspecs = {'domeff': [1., 1],\n",
    "                                                  'hole_ice': [0.02, 2]},\n",
    "                                detsys_muspecs = {'domeff': [1.0, -1]},\n",
    "                                table_nbins = False,\n",
    "                                use_kde_bg  = True,\n",
    "                                use_kde_sys = True,\n",
    "                                detsys_redo = False,\n",
    "                                verbose = False)"
   ]
  },
  {
   "cell_type": "code",
   "execution_count": 4,
   "metadata": {
    "collapsed": false
   },
   "outputs": [
    {
     "name": "stdout",
     "output_type": "stream",
     "text": [
      "\n",
      " ************************************ \n",
      " **** oscFit3D v1.1 - dataLoader ****\n",
      " ************************************\n",
      "\n",
      "dataLoader: Initializing user larson\n",
      "NOT LOADING DOM EFFICIENCY SETS!\n",
      "NOT LOADING HOLE ICE SETS!\n",
      "dataLoader: Dummy observable(s) created to use 3D histograms\n",
      "dataLoader: Trying to load systematic histograms from file\n",
      "dataLoader: MC loaded successfully!\n",
      "dataLoader: Muon background templates loaded successfully!\n",
      "dataLoader: Generating new systematic histograms\n",
      "dataLoader: Requesting hole_ice nu systematic which is not defined in user. Removing.\n",
      "dataLoader: Requesting domeff nu systematic which is not defined in user. Removing.\n",
      "dataLoader: Requesting domeff mu systematic which is not defined in user. Removing.\n",
      "dataLoader: No MC for atmospheric muons\n",
      "dataLoader: Done loading systematic variations\n",
      "dataLoader: Combining systematics for  nue\n",
      "dataLoader: Not building systematic functions for nue\n",
      "dataLoader: Combining systematics for  numu\n",
      "dataLoader: Not building systematic functions for numu\n",
      "dataLoader: Combining systematics for  nutau\n",
      "dataLoader: Not building systematic functions for nutau\n",
      "dataLoader: Combining systematics for  nc\n",
      "dataLoader: Not building systematic functions for nc\n",
      "dataLoader: Combining systematics for  atmmu\n",
      "dataLoader: Not building systematic functions for atmmu\n"
     ]
    }
   ],
   "source": [
    "loader =  dataLoader.dataLoader(observables = \n",
    "                                ['reco_energy', 'reco_zenith'],# 'reco_energy'],\n",
    "                                bin_edges   =    \n",
    "                                [10**np.linspace(0.8,2.2,9),\n",
    "                                 np.arccos(np.linspace(-1,1.,9))[::-1]],\n",
    "                                user = 'larson', \n",
    "                                LEaxis = [],      \n",
    "                                weight_keys = ['weight_e', 'weight_mu'],\n",
    "                                detsys_nuspecs = {'domeff': [1., 1],\n",
    "                                                  'hole_ice': [0.02, 2]},\n",
    "                                detsys_muspecs = {'domeff': [1.0, -1]},\n",
    "                                table_nbins = 150,\n",
    "                                use_kde_bg  = False,\n",
    "                                use_kde_sys = False,\n",
    "                                detsys_redo = False,\n",
    "                                verbose = False)"
   ]
  },
  {
   "cell_type": "code",
   "execution_count": 5,
   "metadata": {
    "collapsed": false,
    "scrolled": false
   },
   "outputs": [
    {
     "name": "stdout",
     "output_type": "stream",
     "text": [
      "         90557 function calls (83009 primitive calls) in 32.460 seconds\n",
      "\n",
      "   Ordered by: cumulative time\n",
      "\n",
      "   ncalls  tottime  percall  cumtime  percall filename:lineno(function)\n",
      "        3    0.000    0.000   32.460   10.820 /home/jp/anaconda2/lib/python2.7/site-packages/IPython/core/interactiveshell.py:2855(run_code)\n",
      "        1    0.001    0.001   32.460   32.460 <ipython-input-5-0c34c31c568c>:5(<module>)\n",
      "       51    0.001    0.000   32.459    0.636 /home/jp/projects/icecube/oscFit/modules/dataLoader.py:501(getFullNuHistogram)\n",
      "       51    2.824    0.055   32.449    0.636 /home/jp/projects/icecube/oscFit/modules/dataLoader.py:548(getNuHistogram)\n",
      "      153   15.962    0.104   19.587    0.128 /home/jp/projects/icecube/oscFit/modules/oscCalc.py:237(Vacuum)\n",
      "      204    0.633    0.003    3.959    0.019 /home/jp/anaconda2/lib/python2.7/site-packages/numpy/lib/function_base.py:298(histogramdd)\n",
      "      153    3.334    0.022    3.334    0.022 /home/jp/projects/icecube/oscFit/modules/oscCalc.py:12(propagationDistance)\n",
      "      612    2.048    0.003    2.048    0.003 {numpy.core.multiarray.digitize}\n",
      "      204    1.865    0.009    1.910    0.009 /home/jp/projects/icecube/oscFit/modules/modNuFlux.py:48(tmodNuBar_NuMu)\n",
      "      204    1.849    0.009    1.891    0.009 /home/jp/projects/icecube/oscFit/modules/modNuFlux.py:38(tmodNuBar_NuE)\n",
      "       51    0.115    0.002    1.554    0.030 /home/jp/projects/icecube/oscFit/modules/modNuFlux.py:175(makeFluxTables)\n",
      "      510    0.889    0.002    0.889    0.002 /home/jp/projects/icecube/oscFit/modules/modNuFlux.py:20(LogLogParam)\n",
      "      816    0.002    0.000    0.590    0.001 /home/jp/anaconda2/lib/python2.7/site-packages/numpy/core/fromnumeric.py:2698(around)\n",
      "      408    0.584    0.001    0.584    0.001 {method 'round' of 'numpy.ndarray' objects}\n",
      "      102    0.055    0.001    0.476    0.005 /home/jp/projects/icecube/oscFit/modules/modNuFlux.py:122(modRatioNuEBar)\n",
      "      102    0.054    0.001    0.468    0.005 /home/jp/projects/icecube/oscFit/modules/modNuFlux.py:105(modRatioNuMuBar)\n",
      "     5508    0.454    0.000    0.454    0.000 {numpy.core.multiarray.array}\n",
      "      102    0.011    0.000    0.419    0.004 /home/jp/projects/icecube/oscFit/modules/modNuFlux.py:86(ModNuEFlux)\n",
      "      102    0.009    0.000    0.413    0.004 /home/jp/projects/icecube/oscFit/modules/modNuFlux.py:68(ModNuMuFlux)\n",
      "      204    0.324    0.002    0.324    0.002 /home/jp/projects/icecube/oscFit/modules/modNuFlux.py:58(tmodUpHor_NuE)\n",
      "      204    0.318    0.002    0.318    0.002 /home/jp/projects/icecube/oscFit/modules/modNuFlux.py:62(tmodUpHor_NuMu)\n",
      "      306    0.299    0.001    0.299    0.001 {numpy.core.multiarray.concatenate}\n",
      "      153    0.002    0.000    0.279    0.002 /home/jp/anaconda2/lib/python2.7/site-packages/numpy/core/shape_base.py:180(vstack)\n",
      "     3264    0.008    0.000    0.275    0.000 /home/jp/anaconda2/lib/python2.7/site-packages/numpy/core/numeric.py:476(asanyarray)\n",
      "      510    0.005    0.000    0.272    0.001 /home/jp/anaconda2/lib/python2.7/site-packages/numpy/core/shape_base.py:61(atleast_2d)\n",
      "     2244    0.239    0.000    0.239    0.000 {method 'reduce' of 'numpy.ufunc' objects}\n",
      "      306    0.179    0.001    0.179    0.001 /home/jp/projects/icecube/oscFit/modules/modNuFlux.py:15(norm_fcn)\n",
      "       51    0.022    0.000    0.150    0.003 /home/jp/projects/icecube/oscFit/modules/modNuFlux.py:160(modRatioUpHor_NuE)\n",
      "       51    0.021    0.000    0.149    0.003 /home/jp/projects/icecube/oscFit/modules/modNuFlux.py:146(modRatioUpHor_NuMu)\n",
      "      816    0.002    0.000    0.134    0.000 {method 'min' of 'numpy.ndarray' objects}\n",
      "      816    0.001    0.000    0.133    0.000 /home/jp/anaconda2/lib/python2.7/site-packages/numpy/core/_methods.py:28(_amin)\n",
      "      204    0.115    0.001    0.115    0.001 {numpy.core.multiarray.bincount}\n",
      "      816    0.108    0.000    0.108    0.000 {numpy.core.multiarray.zeros}\n",
      "      204    0.000    0.000    0.100    0.000 {method 'max' of 'numpy.ndarray' objects}\n",
      "      204    0.000    0.000    0.099    0.000 /home/jp/anaconda2/lib/python2.7/site-packages/numpy/core/_methods.py:25(_amax)\n",
      "      306    0.049    0.000    0.049    0.000 /home/jp/projects/icecube/oscFit/modules/systematicFunctions.py:127(axialMassVar)\n",
      " 7650/102    0.007    0.000    0.016    0.000 /home/jp/anaconda2/lib/python2.7/copy.py:145(deepcopy)\n",
      "      102    0.002    0.000    0.015    0.000 /home/jp/anaconda2/lib/python2.7/copy.py:253(_deepcopy_dict)\n",
      "      918    0.005    0.000    0.011    0.000 /home/jp/anaconda2/lib/python2.7/site-packages/numpy/lib/type_check.py:107(real)\n",
      "      204    0.008    0.000    0.008    0.000 {method 'flatten' of 'numpy.ndarray' objects}\n",
      "      408    0.008    0.000    0.008    0.000 {numpy.core.multiarray.where}\n",
      "      816    0.001    0.000    0.006    0.000 {method 'any' of 'numpy.ndarray' objects}\n",
      "      612    0.005    0.000    0.006    0.000 /home/jp/anaconda2/lib/python2.7/site-packages/numpy/lib/function_base.py:1116(diff)\n",
      "      816    0.001    0.000    0.005    0.000 /home/jp/anaconda2/lib/python2.7/site-packages/numpy/core/_methods.py:37(_any)\n",
      "      612    0.001    0.000    0.005    0.000 /home/jp/anaconda2/lib/python2.7/site-packages/numpy/core/fromnumeric.py:1887(any)\n",
      "      408    0.001    0.000    0.005    0.000 {method 'prod' of 'numpy.ndarray' objects}\n",
      "     1429    0.005    0.000    0.005    0.000 {numpy.core.multiarray.arange}\n",
      "      408    0.004    0.000    0.004    0.000 {method 'round' of 'numpy.generic' objects}\n",
      "     5100    0.003    0.000    0.004    0.000 /home/jp/anaconda2/lib/python2.7/copy.py:267(_keep_alive)\n",
      "      408    0.000    0.000    0.004    0.000 /home/jp/anaconda2/lib/python2.7/site-packages/numpy/core/_methods.py:34(_prod)\n",
      "      204    0.001    0.000    0.004    0.000 /home/jp/anaconda2/lib/python2.7/site-packages/numpy/core/numeric.py:141(ones)\n",
      "      408    0.002    0.000    0.004    0.000 /home/jp/anaconda2/lib/python2.7/site-packages/numpy/core/shape_base.py:9(atleast_1d)\n",
      "      204    0.001    0.000    0.003    0.000 /home/jp/anaconda2/lib/python2.7/site-packages/numpy/core/fromnumeric.py:712(sort)\n",
      "      714    0.002    0.000    0.002    0.000 {method 'reshape' of 'numpy.ndarray' objects}\n",
      "      204    0.002    0.000    0.002    0.000 {numpy.core.multiarray.copyto}\n",
      "     5661    0.002    0.000    0.002    0.000 {len}\n",
      "      612    0.002    0.000    0.002    0.000 /home/jp/anaconda2/lib/python2.7/site-packages/numpy/core/numeric.py:1970(isscalar)\n",
      "     1632    0.001    0.000    0.002    0.000 /home/jp/anaconda2/lib/python2.7/site-packages/numpy/core/numeric.py:406(asarray)\n",
      "      408    0.002    0.000    0.002    0.000 {numpy.core.multiarray.empty}\n",
      "      816    0.001    0.000    0.001    0.000 {method 'argsort' of 'numpy.ndarray' objects}\n",
      "      204    0.001    0.000    0.001    0.000 /home/jp/anaconda2/lib/python2.7/site-packages/numpy/core/numerictypes.py:728(issubdtype)\n",
      "    12750    0.001    0.000    0.001    0.000 {method 'get' of 'dict' objects}\n",
      "     5916    0.001    0.000    0.001    0.000 {method 'append' of 'list' objects}\n",
      "    12954    0.001    0.000    0.001    0.000 {id}\n",
      "      204    0.001    0.000    0.001    0.000 {method 'copy' of 'numpy.ndarray' objects}\n",
      "      204    0.001    0.000    0.001    0.000 {method 'sort' of 'numpy.ndarray' objects}\n",
      "      612    0.001    0.000    0.001    0.000 {isinstance}\n",
      "     4998    0.000    0.000    0.000    0.000 /home/jp/anaconda2/lib/python2.7/copy.py:198(_deepcopy_atomic)\n",
      "      204    0.000    0.000    0.000    0.000 /home/jp/anaconda2/lib/python2.7/site-packages/numpy/core/numerictypes.py:660(issubclass_)\n",
      "      612    0.000    0.000    0.000    0.000 {method 'swapaxes' of 'numpy.ndarray' objects}\n",
      "      408    0.000    0.000    0.000    0.000 {issubclass}\n",
      "       51    0.000    0.000    0.000    0.000 /home/jp/projects/icecube/oscFit/modules/modNuFlux.py:288(useTables)\n",
      "      306    0.000    0.000    0.000    0.000 {abs}\n",
      "      102    0.000    0.000    0.000    0.000 {method 'update' of 'dict' objects}\n",
      "       51    0.000    0.000    0.000    0.000 /home/jp/projects/icecube/oscFit/modules/oscCalc.py:129(setParameters)\n",
      "        3    0.000    0.000    0.000    0.000 /home/jp/anaconda2/lib/python2.7/codeop.py:132(__call__)\n",
      "        3    0.000    0.000    0.000    0.000 {compile}\n",
      "      104    0.000    0.000    0.000    0.000 {method 'lower' of 'str' objects}\n",
      "      102    0.000    0.000    0.000    0.000 {method 'iteritems' of 'dict' objects}\n",
      "        1    0.000    0.000    0.000    0.000 /home/jp/anaconda2/lib/python2.7/site-packages/numpy/core/function_base.py:9(linspace)\n",
      "        1    0.000    0.000    0.000    0.000 /home/jp/projects/icecube/oscFit/modules/oscCalc.py:20(__init__)\n",
      "        3    0.000    0.000    0.000    0.000 /home/jp/anaconda2/lib/python2.7/site-packages/IPython/core/hooks.py:127(__call__)\n",
      "        1    0.000    0.000    0.000    0.000 {numpy.core.multiarray.result_type}\n",
      "        1    0.000    0.000    0.000    0.000 <ipython-input-5-0c34c31c568c>:11(<module>)\n",
      "        3    0.000    0.000    0.000    0.000 /home/jp/anaconda2/lib/python2.7/site-packages/IPython/utils/ipstruct.py:125(__getattr__)\n",
      "        1    0.000    0.000    0.000    0.000 {method 'astype' of 'numpy.ndarray' objects}\n",
      "        3    0.000    0.000    0.000    0.000 /home/jp/anaconda2/lib/python2.7/site-packages/IPython/core/interactiveshell.py:1087(user_global_ns)\n",
      "        1    0.000    0.000    0.000    0.000 {method 'disable' of '_lsprof.Profiler' objects}\n",
      "        3    0.000    0.000    0.000    0.000 /home/jp/anaconda2/lib/python2.7/site-packages/IPython/core/hooks.py:192(pre_run_code_hook)\n",
      "        1    0.000    0.000    0.000    0.000 <ipython-input-5-0c34c31c568c>:4(<module>)\n",
      "\n",
      "\n",
      "\n"
     ]
    }
   ],
   "source": [
    "pr = cProfile.Profile()\n",
    "pr.enable()\n",
    "\n",
    "theta23 = 0.6\n",
    "for theta23_var in np.linspace(0, 0.1, 51):\n",
    "    \n",
    "     test = loader.getFullNuHistogram({'add_detector_systematics':False,\n",
    "                                      'theta23': theta23 + theta23_var,\n",
    "                                      'fluxTables':True})\n",
    "\n",
    "pr.disable()\n",
    "s = StringIO.StringIO()\n",
    "sortby = 'cumulative'\n",
    "ps = pstats.Stats(pr, stream=s).sort_stats(sortby)\n",
    "ps.print_stats()\n",
    "print s.getvalue()"
   ]
  },
  {
   "cell_type": "code",
   "execution_count": 20,
   "metadata": {
    "collapsed": false,
    "scrolled": false
   },
   "outputs": [
    {
     "name": "stdout",
     "output_type": "stream",
     "text": [
      "         89075 function calls (81731 primitive calls) in 41.234 seconds\n",
      "\n",
      "   Ordered by: cumulative time\n",
      "\n",
      "   ncalls  tottime  percall  cumtime  percall filename:lineno(function)\n",
      "        3    0.000    0.000   41.234   13.745 /home/jp/anaconda2/lib/python2.7/site-packages/IPython/core/interactiveshell.py:2855(run_code)\n",
      "        1    0.001    0.001   41.233   41.233 <ipython-input-20-605b964f3e1e>:5(<module>)\n",
      "       51    0.001    0.000   41.233    0.808 /home/jp/projects/icecube/oscFit/modules/dataLoader.py:487(getFullNuHistogram)\n",
      "       51    2.420    0.047   41.223    0.808 /home/jp/projects/icecube/oscFit/modules/dataLoader.py:534(getNuHistogram)\n",
      "      153   14.027    0.092   17.407    0.114 /home/jp/projects/icecube/oscFit/modules/oscCalc.py:237(Vacuum)\n",
      "     1224    5.367    0.004    5.367    0.004 /home/jp/projects/icecube/oscFit/modules/systematicFunctions.py:148(LogLogParam)\n",
      "      204    2.004    0.010    5.073    0.025 /home/jp/projects/icecube/oscFit/modules/systematicFunctions.py:232(modRatioNuEBar)\n",
      "      204    2.024    0.010    5.065    0.025 /home/jp/projects/icecube/oscFit/modules/systematicFunctions.py:219(modRatioNuMuBar)\n",
      "      816    4.725    0.006    4.725    0.006 /home/jp/projects/icecube/oscFit/modules/systematicFunctions.py:145(norm_fcn)\n",
      "      204    1.467    0.007    3.854    0.019 /home/jp/projects/icecube/oscFit/modules/systematicFunctions.py:252(modRatioUpHor_NuMu)\n",
      "      204    1.458    0.007    3.819    0.019 /home/jp/projects/icecube/oscFit/modules/systematicFunctions.py:262(modRatioUpHor_NuE)\n",
      "      204    0.499    0.002    3.521    0.017 /home/jp/anaconda2/lib/python2.7/site-packages/numpy/lib/function_base.py:298(histogramdd)\n",
      "      153    3.125    0.020    3.125    0.020 /home/jp/projects/icecube/oscFit/modules/oscCalc.py:12(propagationDistance)\n",
      "      204    0.380    0.002    3.038    0.015 /home/jp/projects/icecube/oscFit/modules/systematicFunctions.py:203(ModNuEFlux)\n",
      "      204    0.332    0.002    3.016    0.015 /home/jp/projects/icecube/oscFit/modules/systematicFunctions.py:188(ModNuMuFlux)\n",
      "      612    1.929    0.003    1.929    0.003 {numpy.core.multiarray.digitize}\n",
      "      816    0.002    0.000    0.520    0.001 /home/jp/anaconda2/lib/python2.7/site-packages/numpy/core/fromnumeric.py:2698(around)\n",
      "      408    0.516    0.001    0.516    0.001 {method 'round' of 'numpy.ndarray' objects}\n",
      "      306    0.262    0.001    0.262    0.001 {numpy.core.multiarray.concatenate}\n",
      "      153    0.001    0.000    0.246    0.002 /home/jp/anaconda2/lib/python2.7/site-packages/numpy/core/shape_base.py:180(vstack)\n",
      "     3264    0.006    0.000    0.237    0.000 /home/jp/anaconda2/lib/python2.7/site-packages/numpy/core/numeric.py:476(asanyarray)\n",
      "      510    0.004    0.000    0.235    0.000 /home/jp/anaconda2/lib/python2.7/site-packages/numpy/core/shape_base.py:61(atleast_2d)\n",
      "     5304    0.233    0.000    0.233    0.000 {numpy.core.multiarray.array}\n",
      "     2244    0.197    0.000    0.197    0.000 {method 'reduce' of 'numpy.ufunc' objects}\n",
      "      816    0.001    0.000    0.111    0.000 {method 'min' of 'numpy.ndarray' objects}\n",
      "      816    0.001    0.000    0.110    0.000 /home/jp/anaconda2/lib/python2.7/site-packages/numpy/core/_methods.py:28(_amin)\n",
      "      204    0.091    0.000    0.091    0.000 {numpy.core.multiarray.bincount}\n",
      "      204    0.000    0.000    0.081    0.000 {method 'max' of 'numpy.ndarray' objects}\n",
      "      204    0.000    0.000    0.081    0.000 /home/jp/anaconda2/lib/python2.7/site-packages/numpy/core/_methods.py:25(_amax)\n",
      "      408    0.002    0.000    0.055    0.000 /home/jp/anaconda2/lib/python2.7/site-packages/numpy/core/numeric.py:141(ones)\n",
      "      408    0.048    0.000    0.048    0.000 {numpy.core.multiarray.copyto}\n",
      "      306    0.039    0.000    0.039    0.000 /home/jp/projects/icecube/oscFit/modules/systematicFunctions.py:127(axialMassVar)\n",
      "      408    0.015    0.000    0.015    0.000 {numpy.core.multiarray.zeros}\n",
      " 7446/102    0.007    0.000    0.015    0.000 /home/jp/anaconda2/lib/python2.7/copy.py:145(deepcopy)\n",
      "      102    0.002    0.000    0.014    0.000 /home/jp/anaconda2/lib/python2.7/copy.py:253(_deepcopy_dict)\n",
      "      918    0.005    0.000    0.009    0.000 /home/jp/anaconda2/lib/python2.7/site-packages/numpy/lib/type_check.py:107(real)\n",
      "      408    0.006    0.000    0.006    0.000 {numpy.core.multiarray.where}\n",
      "      612    0.005    0.000    0.005    0.000 {numpy.core.multiarray.empty}\n",
      "      612    0.005    0.000    0.005    0.000 /home/jp/anaconda2/lib/python2.7/site-packages/numpy/lib/function_base.py:1116(diff)\n",
      "      816    0.001    0.000    0.005    0.000 {method 'any' of 'numpy.ndarray' objects}\n",
      "      408    0.001    0.000    0.004    0.000 {method 'prod' of 'numpy.ndarray' objects}\n",
      "      816    0.001    0.000    0.004    0.000 /home/jp/anaconda2/lib/python2.7/site-packages/numpy/core/_methods.py:37(_any)\n",
      "     4998    0.003    0.000    0.004    0.000 /home/jp/anaconda2/lib/python2.7/copy.py:267(_keep_alive)\n",
      "      612    0.001    0.000    0.004    0.000 /home/jp/anaconda2/lib/python2.7/site-packages/numpy/core/fromnumeric.py:1887(any)\n",
      "     1429    0.004    0.000    0.004    0.000 {numpy.core.multiarray.arange}\n",
      "      408    0.000    0.000    0.004    0.000 /home/jp/anaconda2/lib/python2.7/site-packages/numpy/core/_methods.py:34(_prod)\n",
      "      408    0.002    0.000    0.003    0.000 /home/jp/anaconda2/lib/python2.7/site-packages/numpy/core/shape_base.py:9(atleast_1d)\n",
      "      204    0.001    0.000    0.003    0.000 /home/jp/anaconda2/lib/python2.7/site-packages/numpy/core/fromnumeric.py:712(sort)\n",
      "      408    0.003    0.000    0.003    0.000 {method 'round' of 'numpy.generic' objects}\n",
      "      612    0.001    0.000    0.002    0.000 /home/jp/anaconda2/lib/python2.7/site-packages/numpy/core/numeric.py:1970(isscalar)\n",
      "     1632    0.001    0.000    0.002    0.000 /home/jp/anaconda2/lib/python2.7/site-packages/numpy/core/numeric.py:406(asarray)\n",
      "     5814    0.002    0.000    0.002    0.000 {method 'append' of 'list' objects}\n",
      "     4794    0.002    0.000    0.002    0.000 {len}\n",
      "      204    0.001    0.000    0.001    0.000 /home/jp/anaconda2/lib/python2.7/site-packages/numpy/core/numerictypes.py:728(issubdtype)\n",
      "      816    0.001    0.000    0.001    0.000 {method 'argsort' of 'numpy.ndarray' objects}\n",
      "      408    0.001    0.000    0.001    0.000 {method 'reshape' of 'numpy.ndarray' objects}\n",
      "    12444    0.001    0.000    0.001    0.000 {method 'get' of 'dict' objects}\n",
      "    12648    0.001    0.000    0.001    0.000 {id}\n",
      "      204    0.001    0.000    0.001    0.000 {method 'copy' of 'numpy.ndarray' objects}\n",
      "      204    0.001    0.000    0.001    0.000 {method 'sort' of 'numpy.ndarray' objects}\n",
      "      612    0.000    0.000    0.000    0.000 {isinstance}\n",
      "        3    0.000    0.000    0.000    0.000 /home/jp/anaconda2/lib/python2.7/codeop.py:132(__call__)\n",
      "     4896    0.000    0.000    0.000    0.000 /home/jp/anaconda2/lib/python2.7/copy.py:198(_deepcopy_atomic)\n",
      "        3    0.000    0.000    0.000    0.000 {compile}\n",
      "      204    0.000    0.000    0.000    0.000 /home/jp/anaconda2/lib/python2.7/site-packages/numpy/core/numerictypes.py:660(issubclass_)\n",
      "      612    0.000    0.000    0.000    0.000 {method 'swapaxes' of 'numpy.ndarray' objects}\n",
      "      408    0.000    0.000    0.000    0.000 {issubclass}\n",
      "      306    0.000    0.000    0.000    0.000 {abs}\n",
      "      102    0.000    0.000    0.000    0.000 {method 'update' of 'dict' objects}\n",
      "       51    0.000    0.000    0.000    0.000 /home/jp/projects/icecube/oscFit/modules/oscCalc.py:129(setParameters)\n",
      "      102    0.000    0.000    0.000    0.000 {method 'lower' of 'str' objects}\n",
      "        1    0.000    0.000    0.000    0.000 /home/jp/anaconda2/lib/python2.7/site-packages/numpy/core/function_base.py:9(linspace)\n",
      "      102    0.000    0.000    0.000    0.000 {method 'iteritems' of 'dict' objects}\n",
      "        3    0.000    0.000    0.000    0.000 /home/jp/anaconda2/lib/python2.7/site-packages/IPython/core/hooks.py:127(__call__)\n",
      "        1    0.000    0.000    0.000    0.000 {numpy.core.multiarray.result_type}\n",
      "        3    0.000    0.000    0.000    0.000 /home/jp/anaconda2/lib/python2.7/site-packages/IPython/utils/ipstruct.py:125(__getattr__)\n",
      "        1    0.000    0.000    0.000    0.000 {method 'astype' of 'numpy.ndarray' objects}\n",
      "        1    0.000    0.000    0.000    0.000 <ipython-input-20-605b964f3e1e>:10(<module>)\n",
      "        3    0.000    0.000    0.000    0.000 /home/jp/anaconda2/lib/python2.7/site-packages/IPython/core/interactiveshell.py:1087(user_global_ns)\n",
      "        3    0.000    0.000    0.000    0.000 /home/jp/anaconda2/lib/python2.7/site-packages/IPython/core/hooks.py:192(pre_run_code_hook)\n",
      "        1    0.000    0.000    0.000    0.000 <ipython-input-20-605b964f3e1e>:4(<module>)\n",
      "        1    0.000    0.000    0.000    0.000 {method 'disable' of '_lsprof.Profiler' objects}\n",
      "\n",
      "\n",
      "\n"
     ]
    }
   ],
   "source": [
    "pr = cProfile.Profile()\n",
    "pr.enable()\n",
    "\n",
    "theta23 = 0.6\n",
    "for theta23_var in np.linspace(0, 0.1, 51):\n",
    "    \n",
    "     test = loader.getFullNuHistogram({'add_detector_systematics':False,\n",
    "                                      'theta23': theta23 + theta23_var})\n",
    "\n",
    "pr.disable()\n",
    "s = StringIO.StringIO()\n",
    "sortby = 'cumulative'\n",
    "ps = pstats.Stats(pr, stream=s).sort_stats(sortby)\n",
    "ps.print_stats()\n",
    "print s.getvalue()"
   ]
  },
  {
   "cell_type": "code",
   "execution_count": 14,
   "metadata": {
    "collapsed": false
   },
   "outputs": [
    {
     "name": "stdout",
     "output_type": "stream",
     "text": [
      "(364750,)\n",
      "(364750,)\n",
      "(364750,)\n",
      "(364750,)\n",
      "(364750,)\n",
      "(364750,)\n",
      "(358761,)\n",
      "(358761,)\n",
      "(358761,)\n",
      "(358761,)\n",
      "(358761,)\n",
      "(358761,)\n",
      "(114167,)\n",
      "(114167,)\n",
      "(114167,)\n",
      "(114167,)\n",
      "(114167,)\n",
      "(114167,)\n",
      "(28546,)\n",
      "(28546,)\n",
      "(28546,)\n",
      "(36296,)\n",
      "(36296,)\n",
      "(36296,)\n"
     ]
    }
   ],
   "source": [
    "test = loader.getFullNuHistogram()"
   ]
  },
  {
   "cell_type": "code",
   "execution_count": null,
   "metadata": {
    "collapsed": true
   },
   "outputs": [],
   "source": [
    "364750+358761+"
   ]
  }
 ],
 "metadata": {
  "kernelspec": {
   "display_name": "Python 2",
   "language": "python",
   "name": "python2"
  },
  "language_info": {
   "codemirror_mode": {
    "name": "ipython",
    "version": 2
   },
   "file_extension": ".py",
   "mimetype": "text/x-python",
   "name": "python",
   "nbconvert_exporter": "python",
   "pygments_lexer": "ipython2",
   "version": "2.7.11"
  }
 },
 "nbformat": 4,
 "nbformat_minor": 0
}
