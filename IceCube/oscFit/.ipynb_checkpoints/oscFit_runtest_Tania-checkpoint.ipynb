{
 "cells": [
  {
   "cell_type": "code",
   "execution_count": 10,
   "metadata": {
    "collapsed": false
   },
   "outputs": [],
   "source": [
    "import os, sys\n",
    "import matplotlib.pyplot as plt\n",
    "%matplotlib inline \n",
    "sys.path.append('/home/jp/projects/python_tools')\n",
    "import jp_mpl as jplot\n",
    "sys.path.append('/home/jp/projects/icecube/oscFit_Tania/modules')\n",
    "import pickle, dataLoader\n",
    "import numpy as np\n",
    "from copy import deepcopy\n",
    "reload(dataLoader)\n",
    "import oscFit"
   ]
  },
  {
   "cell_type": "code",
   "execution_count": 17,
   "metadata": {
    "collapsed": false
   },
   "outputs": [],
   "source": [
    "true_axis = [[0.0, 10.],\n",
    "             [10., 20.],\n",
    "             [20., 40.],\n",
    "             [40., np.inf]]\n",
    "bin_edges = [10**np.linspace(0.8, 1.75, 11),\n",
    "             np.arccos(np.linspace(-1,0.,9))[::-1]]"
   ]
  },
  {
   "cell_type": "code",
   "execution_count": 18,
   "metadata": {
    "collapsed": false,
    "scrolled": true
   },
   "outputs": [
    {
     "name": "stdout",
     "output_type": "stream",
     "text": [
      "\n",
      " ************************************ \n",
      " **** oscFit3D v1.1 - dataLoader ****\n",
      " ************************************\n",
      "\n",
      "dataLoader: Initializing user quickstart\n",
      "dataLoader: Dummy observable(s) created to use 3D histograms\n",
      "dataLoader: MC loaded successfully!\n",
      "dataLoader: Muon background templates loaded successfully!\n",
      "dataLoader: Generating new systematic histograms\n",
      "dataLoader: Requesting hole_ice nu systematic which is not defined in user. Removing.\n",
      "dataLoader: Requesting domeff nu systematic which is not defined in user. Removing.\n",
      "dataLoader: Done loading systematic variations\n",
      "dataLoader: Systematic functions for atmmu  -  domeff\n",
      "dataLoader: Combining systematics for  nue\n",
      "dataLoader: Not building systematic functions for nue\n",
      "dataLoader: Combining systematics for  numu\n",
      "dataLoader: Not building systematic functions for numu\n",
      "dataLoader: Combining systematics for  nutau\n",
      "dataLoader: Not building systematic functions for nutau\n",
      "dataLoader: Combining systematics for  nc\n",
      "dataLoader: Not building systematic functions for nc\n",
      "dataLoader: Combining systematics for  atmmu\n"
     ]
    }
   ],
   "source": [
    "loader_data =  dataLoader.dataLoader(observables = \n",
    "                                ['reco_energy', 'reco_zenith'],# 'reco_energy'],\n",
    "                                bin_edges   = deepcopy(bin_edges),\n",
    "                                user = 'quickstart', \n",
    "                                LEaxis = [],      \n",
    "                                weight_keys = ['weight_e', 'weight_mu', 'weight_mu_pi'],\n",
    "                                detsys_nuspecs = {'domeff': [1., 1],\n",
    "                                                  'hole_ice': [0.02, 2]},\n",
    "                                detsys_muspecs = {'domeff': [1.0, -1]},\n",
    "                                table_nbins = False,\n",
    "                                use_kde_bg  = False,\n",
    "                                use_kde_sys = False,\n",
    "                                detsys_redo = True,\n",
    "                                verbose = False)"
   ]
  },
  {
   "cell_type": "code",
   "execution_count": 19,
   "metadata": {
    "collapsed": true
   },
   "outputs": [],
   "source": [
    "data_settings = {  'dm31':                     0.0025, \n",
    "                   'theta23':                  0.78,\n",
    "                   'theta13':                  0.155,\n",
    "                   'norm_nu':                  2.6, # In years!\n",
    "                   'norm_e':                   1.,\n",
    "                   'domeff':                   1., \n",
    "                   'norm_noise':               0.,\n",
    "                   'norm_atmmu':               0.,\n",
    "                   'atmmu_f':                  0.0,\n",
    "                   'nu_pi_scale':              1.,\n",
    "                   'hole_ice':                 0.02, \n",
    "                   'atmmu_template':           'data',\n",
    "                   'simulation':               'baseline', \n",
    "                   'oscTables':                False,\n",
    "                   'oscMode':                  'Vacuum',  \n",
    "                   'ma_variations':            True,   \n",
    "                   'add_detector_systematics': False}\n"
   ]
  },
  {
   "cell_type": "code",
   "execution_count": 20,
   "metadata": {
    "collapsed": false
   },
   "outputs": [
    {
     "name": "stdout",
     "output_type": "stream",
     "text": [
      "dataLoader: atmmu_norm  0.0 , noise_norm 0.0\n"
     ]
    }
   ],
   "source": [
    "data = loader_data.loadMCasData(data_settings,\n",
    "                                     statistical_fluctuations=False)"
   ]
  },
  {
   "cell_type": "code",
   "execution_count": 21,
   "metadata": {
    "collapsed": false,
    "scrolled": true
   },
   "outputs": [
    {
     "name": "stdout",
     "output_type": "stream",
     "text": [
      "\n",
      " ************************************ \n",
      " **** oscFit3D v1.1 - dataLoader ****\n",
      " ************************************\n",
      "\n",
      "dataLoader: Initializing user quickstart_onlybkg\n",
      "dataLoader: Dummy observable(s) created to use 3D histograms\n",
      "dataLoader: MC loaded successfully!\n",
      "dataLoader: Muon background templates loaded successfully!\n",
      "dataLoader: Generating new systematic histograms\n",
      "dataLoader: Requesting hole_ice nu systematic which is not defined in user. Removing.\n",
      "dataLoader: Requesting domeff nu systematic which is not defined in user. Removing.\n",
      "dataLoader: Done loading systematic variations\n",
      "dataLoader: Systematic functions for atmmu  -  domeff\n",
      "dataLoader: Combining systematics for  nue\n",
      "dataLoader: Not building systematic functions for nue\n",
      "dataLoader: Combining systematics for  numu\n",
      "dataLoader: Not building systematic functions for numu\n",
      "dataLoader: Combining systematics for  nutau\n",
      "dataLoader: Not building systematic functions for nutau\n",
      "dataLoader: Combining systematics for  nc\n",
      "dataLoader: Not building systematic functions for nc\n",
      "dataLoader: Combining systematics for  atmmu\n"
     ]
    }
   ],
   "source": [
    "loader_bkg =  dataLoader.dataLoader(observables = \n",
    "                                ['reco_energy', 'reco_zenith'],\n",
    "                                bin_edges   =  deepcopy(bin_edges),\n",
    "                                user = 'quickstart_onlybkg', \n",
    "                                LEaxis = [],      \n",
    "                                weight_keys = ['weight_e', 'weight_mu', 'weight_mu_pi'],\n",
    "                                detsys_nuspecs = {'domeff': [1., 1],\n",
    "                                                  'hole_ice': [0.02, 2]},\n",
    "                                detsys_muspecs = {'domeff': [1.0, -1]},\n",
    "                                table_nbins = False,\n",
    "                                use_kde_bg  = False,\n",
    "                                use_kde_sys = False,\n",
    "                                detsys_redo = True,\n",
    "                                verbose = False)"
   ]
  },
  {
   "cell_type": "code",
   "execution_count": 22,
   "metadata": {
    "collapsed": false,
    "scrolled": true
   },
   "outputs": [
    {
     "name": "stdout",
     "output_type": "stream",
     "text": [
      "\n",
      " ************************************ \n",
      " **** oscFit3D v1.1 - dataLoader ****\n",
      " ************************************\n",
      "\n",
      "dataLoader: Initializing user quickstart_nobkg\n",
      "dataLoader: Dummy observable(s) created to use 3D histograms\n",
      "dataLoader: MC loaded successfully!\n",
      "dataLoader: Muon background templates loaded successfully!\n",
      "dataLoader: Generating new systematic histograms\n",
      "dataLoader: Requesting hole_ice nu systematic which is not defined in user. Removing.\n",
      "dataLoader: Requesting domeff nu systematic which is not defined in user. Removing.\n",
      "dataLoader: Requesting domeff mu systematic which is not defined in user. Removing.\n",
      "dataLoader: No MC for atmospheric muons\n",
      "dataLoader: Done loading systematic variations\n",
      "dataLoader: Combining systematics for  nue\n",
      "dataLoader: Not building systematic functions for nue\n",
      "dataLoader: Combining systematics for  numu\n",
      "dataLoader: Not building systematic functions for numu\n",
      "dataLoader: Combining systematics for  nutau\n",
      "dataLoader: Not building systematic functions for nutau\n",
      "dataLoader: Combining systematics for  nc\n",
      "dataLoader: Not building systematic functions for nc\n",
      "dataLoader: Combining systematics for  atmmu\n",
      "dataLoader: Not building systematic functions for atmmu\n"
     ]
    }
   ],
   "source": [
    "loader_one =  dataLoader.dataLoader(observables = \n",
    "                                ['reco_energy', 'reco_zenith'],# 'reco_energy'],\n",
    "                                bin_edges   = deepcopy(bin_edges),\n",
    "                                user = 'quickstart_nobkg', \n",
    "                                LEaxis = [],      \n",
    "                                weight_keys = ['weight_e', 'weight_mu', 'weight_mu_pi'],\n",
    "                                detsys_nuspecs = {'domeff': [1., 1],\n",
    "                                                  'hole_ice': [0.02, 2]},\n",
    "                                detsys_muspecs = {'domeff': [1.0, -1]},\n",
    "                                extra_cuts = {'energy':true_axis[0]},\n",
    "                                table_nbins = False,\n",
    "                                use_kde_bg  = False,\n",
    "                                use_kde_sys = False,\n",
    "                                detsys_redo = True,\n",
    "                                verbose = False)"
   ]
  },
  {
   "cell_type": "code",
   "execution_count": 23,
   "metadata": {
    "collapsed": true
   },
   "outputs": [],
   "source": [
    "from copy import deepcopy\n",
    "loader_dict = deepcopy(loader_one.iniDict)\n",
    "loader_dict['extra_cuts']['energy'] =true_axis[1]"
   ]
  },
  {
   "cell_type": "code",
   "execution_count": 24,
   "metadata": {
    "collapsed": false,
    "scrolled": true
   },
   "outputs": [
    {
     "name": "stdout",
     "output_type": "stream",
     "text": [
      "\n",
      " ************************************ \n",
      " **** oscFit3D v1.1 - dataLoader ****\n",
      " ************************************\n",
      "\n",
      "dataLoader: Initializing user quickstart_nobkg\n",
      "dataLoader: Dummy observable(s) created to use 3D histograms\n",
      "dataLoader: MC loaded successfully!\n",
      "dataLoader: Muon background templates loaded successfully!\n",
      "dataLoader: Generating new systematic histograms\n",
      "dataLoader: Requesting hole_ice nu systematic which is not defined in user. Removing.\n",
      "dataLoader: Requesting domeff nu systematic which is not defined in user. Removing.\n",
      "dataLoader: Requesting domeff mu systematic which is not defined in user. Removing.\n",
      "dataLoader: No MC for atmospheric muons\n",
      "dataLoader: Done loading systematic variations\n",
      "dataLoader: Combining systematics for  nue\n",
      "dataLoader: Not building systematic functions for nue\n",
      "dataLoader: Combining systematics for  numu\n",
      "dataLoader: Not building systematic functions for numu\n",
      "dataLoader: Combining systematics for  nutau\n",
      "dataLoader: Not building systematic functions for nutau\n",
      "dataLoader: Combining systematics for  nc\n",
      "dataLoader: Not building systematic functions for nc\n",
      "dataLoader: Combining systematics for  atmmu\n",
      "dataLoader: Not building systematic functions for atmmu\n"
     ]
    }
   ],
   "source": [
    "loader_two =  dataLoader.dataLoader(**loader_dict)"
   ]
  },
  {
   "cell_type": "code",
   "execution_count": 25,
   "metadata": {
    "collapsed": false
   },
   "outputs": [],
   "source": [
    "loader_dict = deepcopy(loader_one.iniDict)\n",
    "loader_dict['extra_cuts']['energy'] =true_axis[2]"
   ]
  },
  {
   "cell_type": "code",
   "execution_count": 26,
   "metadata": {
    "collapsed": false,
    "scrolled": true
   },
   "outputs": [
    {
     "name": "stdout",
     "output_type": "stream",
     "text": [
      "\n",
      " ************************************ \n",
      " **** oscFit3D v1.1 - dataLoader ****\n",
      " ************************************\n",
      "\n",
      "dataLoader: Initializing user quickstart_nobkg\n",
      "dataLoader: Dummy observable(s) created to use 3D histograms\n",
      "dataLoader: MC loaded successfully!\n",
      "dataLoader: Muon background templates loaded successfully!\n",
      "dataLoader: Generating new systematic histograms\n",
      "dataLoader: Requesting hole_ice nu systematic which is not defined in user. Removing.\n",
      "dataLoader: Requesting domeff nu systematic which is not defined in user. Removing.\n",
      "dataLoader: Requesting domeff mu systematic which is not defined in user. Removing.\n",
      "dataLoader: No MC for atmospheric muons\n",
      "dataLoader: Done loading systematic variations\n",
      "dataLoader: Combining systematics for  nue\n",
      "dataLoader: Not building systematic functions for nue\n",
      "dataLoader: Combining systematics for  numu\n",
      "dataLoader: Not building systematic functions for numu\n",
      "dataLoader: Combining systematics for  nutau\n",
      "dataLoader: Not building systematic functions for nutau\n",
      "dataLoader: Combining systematics for  nc\n",
      "dataLoader: Not building systematic functions for nc\n",
      "dataLoader: Combining systematics for  atmmu\n",
      "dataLoader: Not building systematic functions for atmmu\n"
     ]
    }
   ],
   "source": [
    "loader_three =  dataLoader.dataLoader(**loader_dict)"
   ]
  },
  {
   "cell_type": "code",
   "execution_count": 27,
   "metadata": {
    "collapsed": false
   },
   "outputs": [
    {
     "name": "stdout",
     "output_type": "stream",
     "text": [
      "\n",
      " ************************************ \n",
      " **** oscFit3D v1.1 - dataLoader ****\n",
      " ************************************\n",
      "\n",
      "dataLoader: Initializing user quickstart_nobkg\n",
      "dataLoader: Dummy observable(s) created to use 3D histograms\n",
      "dataLoader: MC loaded successfully!\n",
      "dataLoader: Muon background templates loaded successfully!\n",
      "dataLoader: Generating new systematic histograms\n",
      "dataLoader: Requesting hole_ice nu systematic which is not defined in user. Removing.\n",
      "dataLoader: Requesting domeff nu systematic which is not defined in user. Removing.\n",
      "dataLoader: Requesting domeff mu systematic which is not defined in user. Removing.\n",
      "dataLoader: No MC for atmospheric muons\n",
      "dataLoader: Done loading systematic variations\n",
      "dataLoader: Combining systematics for  nue\n",
      "dataLoader: Not building systematic functions for nue\n",
      "dataLoader: Combining systematics for  numu\n",
      "dataLoader: Not building systematic functions for numu\n",
      "dataLoader: Combining systematics for  nutau\n",
      "dataLoader: Not building systematic functions for nutau\n",
      "dataLoader: Combining systematics for  nc\n",
      "dataLoader: Not building systematic functions for nc\n",
      "dataLoader: Combining systematics for  atmmu\n",
      "dataLoader: Not building systematic functions for atmmu\n"
     ]
    }
   ],
   "source": [
    "loader_dict = deepcopy(loader_one.iniDict)\n",
    "loader_dict['extra_cuts']['energy'] =true_axis[3]\n",
    "loader_four =  dataLoader.dataLoader(**loader_dict)"
   ]
  },
  {
   "cell_type": "code",
   "execution_count": 28,
   "metadata": {
    "collapsed": false
   },
   "outputs": [
    {
     "name": "stdout",
     "output_type": "stream",
     "text": [
      "dataLoader: atmmu_norm  0.0 , noise_norm 0.0\n"
     ]
    }
   ],
   "source": [
    "data_h1 = loader_one.loadMCasData(data_settings,\n",
    "                                     statistical_fluctuations=False)"
   ]
  },
  {
   "cell_type": "code",
   "execution_count": 29,
   "metadata": {
    "collapsed": false,
    "scrolled": true
   },
   "outputs": [
    {
     "data": {
      "text/plain": [
       "array([[[  8.738e+00],\n",
       "        [  1.124e+01],\n",
       "        [  1.289e+01],\n",
       "        [  1.520e+01],\n",
       "        [  1.906e+01],\n",
       "        [  2.126e+01],\n",
       "        [  2.825e+01],\n",
       "        [  3.408e+01]],\n",
       "\n",
       "       [[  1.424e+01],\n",
       "        [  1.325e+01],\n",
       "        [  1.803e+01],\n",
       "        [  2.200e+01],\n",
       "        [  2.486e+01],\n",
       "        [  2.798e+01],\n",
       "        [  3.264e+01],\n",
       "        [  3.897e+01]],\n",
       "\n",
       "       [[  1.521e+01],\n",
       "        [  1.661e+01],\n",
       "        [  1.897e+01],\n",
       "        [  2.145e+01],\n",
       "        [  2.535e+01],\n",
       "        [  2.742e+01],\n",
       "        [  2.892e+01],\n",
       "        [  3.454e+01]],\n",
       "\n",
       "       [[  1.163e+01],\n",
       "        [  1.738e+01],\n",
       "        [  1.324e+01],\n",
       "        [  1.857e+01],\n",
       "        [  1.802e+01],\n",
       "        [  1.687e+01],\n",
       "        [  1.900e+01],\n",
       "        [  2.228e+01]],\n",
       "\n",
       "       [[  8.428e+00],\n",
       "        [  1.089e+01],\n",
       "        [  7.732e+00],\n",
       "        [  1.023e+01],\n",
       "        [  8.813e+00],\n",
       "        [  8.010e+00],\n",
       "        [  7.621e+00],\n",
       "        [  1.031e+01]],\n",
       "\n",
       "       [[  3.483e+00],\n",
       "        [  3.581e+00],\n",
       "        [  2.764e+00],\n",
       "        [  3.443e+00],\n",
       "        [  2.515e+00],\n",
       "        [  2.238e+00],\n",
       "        [  2.232e+00],\n",
       "        [  4.055e+00]],\n",
       "\n",
       "       [[  1.007e-01],\n",
       "        [  5.846e-01],\n",
       "        [  4.744e-01],\n",
       "        [  5.662e-01],\n",
       "        [  4.046e-01],\n",
       "        [  2.932e-01],\n",
       "        [  3.302e-01],\n",
       "        [  1.281e+00]],\n",
       "\n",
       "       [[  8.672e-02],\n",
       "        [  1.835e-01],\n",
       "        [  1.644e-02],\n",
       "        [  5.084e-02],\n",
       "        [  3.030e-01],\n",
       "        [  2.491e-01],\n",
       "        [  1.809e-01],\n",
       "        [  1.787e-01]],\n",
       "\n",
       "       [[  0.000e+00],\n",
       "        [  0.000e+00],\n",
       "        [  6.960e-02],\n",
       "        [  0.000e+00],\n",
       "        [  9.162e-02],\n",
       "        [  3.426e-02],\n",
       "        [  1.279e-01],\n",
       "        [  2.933e-02]],\n",
       "\n",
       "       [[  0.000e+00],\n",
       "        [  0.000e+00],\n",
       "        [  9.086e-02],\n",
       "        [  0.000e+00],\n",
       "        [  0.000e+00],\n",
       "        [  5.892e-02],\n",
       "        [  7.645e-02],\n",
       "        [  3.571e-01]]])"
      ]
     },
     "execution_count": 29,
     "metadata": {},
     "output_type": "execute_result"
    }
   ],
   "source": [
    "data_h1"
   ]
  },
  {
   "cell_type": "code",
   "execution_count": 30,
   "metadata": {
    "collapsed": false,
    "scrolled": true
   },
   "outputs": [
    {
     "name": "stdout",
     "output_type": "stream",
     "text": [
      "dataLoader: atmmu_norm  0.0 , noise_norm 0.0\n",
      "[[[  6.404]\n",
      "  [  6.495]\n",
      "  [  5.685]\n",
      "  [  8.644]\n",
      "  [  9.553]\n",
      "  [ 14.453]\n",
      "  [ 21.316]\n",
      "  [ 28.76 ]]\n",
      "\n",
      " [[ 15.495]\n",
      "  [ 17.735]\n",
      "  [ 15.562]\n",
      "  [ 17.964]\n",
      "  [ 24.172]\n",
      "  [ 27.033]\n",
      "  [ 35.76 ]\n",
      "  [ 51.979]]\n",
      "\n",
      " [[ 31.433]\n",
      "  [ 36.342]\n",
      "  [ 34.127]\n",
      "  [ 33.693]\n",
      "  [ 34.469]\n",
      "  [ 43.164]\n",
      "  [ 51.748]\n",
      "  [ 75.984]]\n",
      "\n",
      " [[ 47.996]\n",
      "  [ 52.283]\n",
      "  [ 47.933]\n",
      "  [ 46.096]\n",
      "  [ 46.467]\n",
      "  [ 48.119]\n",
      "  [ 62.459]\n",
      "  [ 85.005]]\n",
      "\n",
      " [[ 54.322]\n",
      "  [ 63.637]\n",
      "  [ 55.301]\n",
      "  [ 50.143]\n",
      "  [ 41.612]\n",
      "  [ 45.159]\n",
      "  [ 53.078]\n",
      "  [ 82.032]]\n",
      "\n",
      " [[ 42.407]\n",
      "  [ 47.04 ]\n",
      "  [ 41.709]\n",
      "  [ 35.467]\n",
      "  [ 28.195]\n",
      "  [ 23.074]\n",
      "  [ 30.512]\n",
      "  [ 48.052]]\n",
      "\n",
      " [[ 19.798]\n",
      "  [ 17.72 ]\n",
      "  [ 20.684]\n",
      "  [ 14.548]\n",
      "  [ 11.56 ]\n",
      "  [  9.881]\n",
      "  [ 13.005]\n",
      "  [ 22.198]]\n",
      "\n",
      " [[  6.073]\n",
      "  [  4.892]\n",
      "  [  7.085]\n",
      "  [  6.148]\n",
      "  [  5.102]\n",
      "  [  2.985]\n",
      "  [  4.417]\n",
      "  [  6.82 ]]\n",
      "\n",
      " [[  1.901]\n",
      "  [  3.248]\n",
      "  [  2.52 ]\n",
      "  [  1.248]\n",
      "  [  1.33 ]\n",
      "  [  0.704]\n",
      "  [  0.818]\n",
      "  [  1.916]]\n",
      "\n",
      " [[  0.689]\n",
      "  [  0.224]\n",
      "  [  0.287]\n",
      "  [  0.519]\n",
      "  [  0.324]\n",
      "  [  0.474]\n",
      "  [  0.256]\n",
      "  [  0.87 ]]]\n"
     ]
    }
   ],
   "source": [
    "data_h2 = loader_two.loadMCasData(data_settings,\n",
    "                                     statistical_fluctuations=False)\n",
    "print data_h2"
   ]
  },
  {
   "cell_type": "code",
   "execution_count": 31,
   "metadata": {
    "collapsed": false,
    "scrolled": true
   },
   "outputs": [
    {
     "name": "stdout",
     "output_type": "stream",
     "text": [
      "dataLoader: atmmu_norm  0.0 , noise_norm 0.0\n",
      "[[[   1.161]\n",
      "  [   1.009]\n",
      "  [   1.263]\n",
      "  [   1.452]\n",
      "  [   2.723]\n",
      "  [   3.622]\n",
      "  [   4.807]\n",
      "  [   5.529]]\n",
      "\n",
      " [[   2.549]\n",
      "  [   3.36 ]\n",
      "  [   5.144]\n",
      "  [   4.717]\n",
      "  [   7.135]\n",
      "  [   9.328]\n",
      "  [  10.229]\n",
      "  [  10.321]]\n",
      "\n",
      " [[   9.908]\n",
      "  [  13.362]\n",
      "  [  12.689]\n",
      "  [  14.922]\n",
      "  [  14.564]\n",
      "  [  14.613]\n",
      "  [  17.935]\n",
      "  [  17.937]]\n",
      "\n",
      " [[  26.363]\n",
      "  [  30.57 ]\n",
      "  [  26.178]\n",
      "  [  34.551]\n",
      "  [  30.978]\n",
      "  [  27.38 ]\n",
      "  [  27.94 ]\n",
      "  [  31.017]]\n",
      "\n",
      " [[  55.959]\n",
      "  [  75.52 ]\n",
      "  [  66.624]\n",
      "  [  54.227]\n",
      "  [  47.067]\n",
      "  [  44.567]\n",
      "  [  37.87 ]\n",
      "  [  35.182]]\n",
      "\n",
      " [[  87.842]\n",
      "  [ 102.275]\n",
      "  [ 101.117]\n",
      "  [  84.621]\n",
      "  [  81.967]\n",
      "  [  58.053]\n",
      "  [  44.715]\n",
      "  [  43.939]]\n",
      "\n",
      " [[ 108.085]\n",
      "  [ 136.603]\n",
      "  [ 119.606]\n",
      "  [ 105.435]\n",
      "  [  89.829]\n",
      "  [  64.539]\n",
      "  [  48.823]\n",
      "  [  47.977]]\n",
      "\n",
      " [[  99.891]\n",
      "  [ 113.64 ]\n",
      "  [ 107.532]\n",
      "  [  96.249]\n",
      "  [  86.743]\n",
      "  [  55.531]\n",
      "  [  40.89 ]\n",
      "  [  36.169]]\n",
      "\n",
      " [[  63.328]\n",
      "  [  78.002]\n",
      "  [  68.811]\n",
      "  [  62.571]\n",
      "  [  55.658]\n",
      "  [  38.894]\n",
      "  [  29.559]\n",
      "  [  22.35 ]]\n",
      "\n",
      " [[  29.909]\n",
      "  [  30.355]\n",
      "  [  30.545]\n",
      "  [  26.036]\n",
      "  [  22.146]\n",
      "  [  18.752]\n",
      "  [  12.773]\n",
      "  [   9.798]]]\n"
     ]
    }
   ],
   "source": [
    "data_h3 = loader_three.loadMCasData(data_settings,\n",
    "                                     statistical_fluctuations=False)\n",
    "print data_h3"
   ]
  },
  {
   "cell_type": "code",
   "execution_count": 32,
   "metadata": {
    "collapsed": false,
    "scrolled": true
   },
   "outputs": [
    {
     "name": "stdout",
     "output_type": "stream",
     "text": [
      "dataLoader: atmmu_norm  0.0 , noise_norm 0.0\n",
      "[[[   0.316]\n",
      "  [   0.418]\n",
      "  [   0.32 ]\n",
      "  [   0.652]\n",
      "  [   1.16 ]\n",
      "  [   0.683]\n",
      "  [   1.16 ]\n",
      "  [   1.682]]\n",
      "\n",
      " [[   0.799]\n",
      "  [   1.32 ]\n",
      "  [   0.607]\n",
      "  [   1.945]\n",
      "  [   2.333]\n",
      "  [   2.602]\n",
      "  [   2.142]\n",
      "  [   1.837]]\n",
      "\n",
      " [[   2.565]\n",
      "  [   2.327]\n",
      "  [   3.292]\n",
      "  [   3.925]\n",
      "  [   4.469]\n",
      "  [   5.021]\n",
      "  [   5.276]\n",
      "  [   5.639]]\n",
      "\n",
      " [[   4.44 ]\n",
      "  [   6.515]\n",
      "  [   7.623]\n",
      "  [   8.029]\n",
      "  [   8.137]\n",
      "  [   8.924]\n",
      "  [  10.351]\n",
      "  [  11.331]]\n",
      "\n",
      " [[  12.945]\n",
      "  [  15.589]\n",
      "  [  16.692]\n",
      "  [  16.722]\n",
      "  [  18.223]\n",
      "  [  16.504]\n",
      "  [  14.709]\n",
      "  [  15.121]]\n",
      "\n",
      " [[  29.91 ]\n",
      "  [  30.647]\n",
      "  [  31.342]\n",
      "  [  32.923]\n",
      "  [  34.505]\n",
      "  [  28.86 ]\n",
      "  [  29.578]\n",
      "  [  34.796]]\n",
      "\n",
      " [[  46.979]\n",
      "  [  61.759]\n",
      "  [  62.44 ]\n",
      "  [  58.983]\n",
      "  [  58.653]\n",
      "  [  48.772]\n",
      "  [  44.664]\n",
      "  [  47.161]]\n",
      "\n",
      " [[  85.661]\n",
      "  [ 112.784]\n",
      "  [ 106.6  ]\n",
      "  [  99.493]\n",
      "  [  97.964]\n",
      "  [  76.521]\n",
      "  [  72.725]\n",
      "  [  73.012]]\n",
      "\n",
      " [[ 138.392]\n",
      "  [ 164.347]\n",
      "  [ 170.27 ]\n",
      "  [ 156.906]\n",
      "  [ 148.136]\n",
      "  [ 117.083]\n",
      "  [  98.308]\n",
      "  [  95.881]]\n",
      "\n",
      " [[ 174.062]\n",
      "  [ 211.033]\n",
      "  [ 207.686]\n",
      "  [ 189.203]\n",
      "  [ 179.15 ]\n",
      "  [ 154.336]\n",
      "  [ 126.037]\n",
      "  [ 117.246]]]\n"
     ]
    }
   ],
   "source": [
    "data_h4 = loader_four.loadMCasData(data_settings,\n",
    "                                     statistical_fluctuations=False)\n",
    "print data_h4"
   ]
  },
  {
   "cell_type": "code",
   "execution_count": 47,
   "metadata": {
    "collapsed": false
   },
   "outputs": [
    {
     "data": {
      "text/plain": [
       "<matplotlib.colorbar.Colorbar at 0x7f3d962e4410>"
      ]
     },
     "execution_count": 47,
     "metadata": {},
     "output_type": "execute_result"
    },
    {
     "data": {
      "image/png": "[encoded data removed]",
      "text/plain": [
       "<matplotlib.figure.Figure at 0x7f3d96fe1f50>"
      ]
     },
     "metadata": {},
     "output_type": "display_data"
    }
   ],
   "source": [
    "plt.pcolor(np.log10(loader_data.bin_edges[0]), np.cos(loader_data.bin_edges[1]),np.sum(data_h4/data,axis=2).T)\n",
    "plt.colorbar()"
   ]
  },
  {
   "cell_type": "code",
   "execution_count": 49,
   "metadata": {
    "collapsed": false
   },
   "outputs": [
    {
     "name": "stdout",
     "output_type": "stream",
     "text": [
      "7.75171040899e-16\n"
     ]
    },
    {
     "data": {
      "image/png": "[encoded data removed]",
      "text/plain": [
       "<matplotlib.figure.Figure at 0x7f3d9612b490>"
      ]
     },
     "metadata": {},
     "output_type": "display_data"
    }
   ],
   "source": [
    "full_ratio = np.sum((data_h4+data_h3+data_h2+data_h1)/data,axis=2)\n",
    "plt.pcolor(loader_data.bin_edges[0], loader_data.bin_edges[1],full_ratio.T)\n",
    "plt.colorbar()\n",
    "print full_ratio.std()"
   ]
  },
  {
   "cell_type": "code",
   "execution_count": 53,
   "metadata": {
    "collapsed": false
   },
   "outputs": [],
   "source": [
    "fit_settings  = {\n",
    "    # Oscillations\n",
    "    'simulation':     'baseline',\n",
    "    'dm31':           [0.0025, False, 'NH'],\n",
    "    'theta23':        [0.78, False], \n",
    "    'theta13':        [0.153, True],\n",
    "    'mix_angle':      [0.95, False, 1.],\n",
    "    'oscMode':        'TwoNeutrino',\n",
    "    'oscTables':      False,\n",
    "    'baseline_llh':   0.0,\n",
    "    ### Sterile neutrinos - fixing all, if want to fit - specify explicitly\n",
    "    'dm41':           [0.0, True],\n",
    "    'theta24':        [0.0, True],\n",
    "    'theta34':        [0.0, True],\n",
    "    # Normalizations and flux\n",
    "    'norm':           [1., True], # Set to False only for your final result. Saves time.\n",
    "    'norm_1':         [1., True],\n",
    "    'norm_2':         [1., True],\n",
    "    'norm_3':         [1., True],\n",
    "\n",
    "    'norm_e':         [1., False],\n",
    "    'norm_nc':        [1., True],\n",
    "    'norm_tau':       [1., True], # Set to false for nutau apperance studies\n",
    "    'gamma':          [0., True],  \n",
    "    'nu_nubar':       [1., True],\n",
    "    'nubar_ratio':     [0., True],\n",
    "    'uphor_ratio':     [0., True],\n",
    "    'nu_pi_scale':     [1., True],\n",
    "    # Non-DIS cross sections\n",
    "    'axm_qe':         [0., True],\n",
    "    'axm_res':        [0., True],\n",
    "    # Detector parameters\n",
    "    'pid_bias':       [0., True], # Assumes a linear PID bias. Think carefully before you use it.\n",
    "    'hole_ice':       [0.02, True], \n",
    "    'hi_fwd':         [0., True],     # Set to False only if you know what you are doing.\n",
    "    'domeff':         [1., True],\n",
    "    'had_escale':     [1., True],\n",
    "    # Backgrounds\n",
    "    'atmmu_f':        [0.0, False, 'data'],\n",
    "    'noise_f':        [0.0, True],\n",
    "    # Other details\n",
    "    'detector_syst':  True,\n",
    "    'include_priors': True, \n",
    "    'printMode':      -1, # Select 0,1,2,3 for the iminuit print_levels. Select -1 for every step.\n",
    "    # Minimization\n",
    "    'minimizer'     : \"migrad\", #used to be migrad \n",
    "    \"octant\"        : \"B\" , # B: both, L: left, R: right - A good fit should be run in both A and B.\n",
    "    \"llh_space\"     : 'poisson',\n",
    "    \"blind_keys\"    : [],\n",
    "    \"remove_blind_keys\": True # Sets the results from blind_keys to \"BLIND\", otherwise the results will be stored. \n",
    "    # False might be needed for studying difference between different years/sets, \n",
    "    # default is True - no keys from blind_keys will be printed and stored\n",
    "            }"
   ]
  },
  {
   "cell_type": "code",
   "execution_count": 54,
   "metadata": {
    "collapsed": false
   },
   "outputs": [
    {
     "name": "stdout",
     "output_type": "stream",
     "text": [
      "\n",
      " ************************************ \n",
      " ****** oscFit3D v1.1 - oscFit ******\n",
      " ************************************\n",
      "\n"
     ]
    }
   ],
   "source": [
    "reload(oscFit)\n",
    "fitter = oscFit.fitOscParams()"
   ]
  },
  {
   "cell_type": "code",
   "execution_count": null,
   "metadata": {
    "collapsed": false,
    "scrolled": false
   },
   "outputs": [
    {
     "name": "stdout",
     "output_type": "stream",
     "text": [
      "oscFit: Fitter running in TwoNeutrino mode\n",
      "oscFit: 10290.0243259  events in data\n",
      "oscFit: Fitting in normal hierarchy mode\n",
      "oscFit: found octant in settings B\n",
      "found octant constrain to theta23 as (0.0, 1.5707963267948966)\n",
      "0.15625\n",
      "oscFit: Testing the LLH function  0.15625\n",
      "oscFit: Fit settings\n",
      "\tnoise_f \t[0.0, True]\n",
      "\tpid_bias \t[0.0, True]\n",
      "\toctant \tB\n",
      "\thi_fwd \t[0.0, True]\n",
      "\tblind_keys \t[]\n",
      "\tprintMode \t-1\n",
      "\toscMode \tTwoNeutrino\n",
      "\tinclude_priors \tTrue\n",
      "\tnorm_4 \t[1.0, False]\n",
      "\tatmmu_f \t[0.0, False, 'data']\n",
      "\tnorm_1 \t[1.0, False]\n",
      "\tdm31 \t[0.0025, False, 'NH']\n",
      "\ttheta23 \t[0.78, False]\n",
      "\tnorm_2 \t[1.0, False]\n",
      "\tdetector_syst \tTrue\n",
      "\tremove_blind_keys \tTrue\n",
      "\tuphor_ratio \t[0.0, True]\n",
      "\toscTables \tFalse\n",
      "\tnorm \t[1.0, True]\n",
      "\tnorm_3 \t[1.0, False]\n",
      "\taxm_res \t[0.0, True]\n",
      "\tnorm_tau \t[1.0, True]\n",
      "\ttheta24 \t[0.0, True]\n",
      "\tnubar_ratio \t[0.0, True]\n",
      "\tdm41 \t[0.0, True]\n",
      "\tnorm_nc \t[1.0, True]\n",
      "\tdomeff \t[1.0, True]\n",
      "\tminimizer \tmigrad\n",
      "\thole_ice \t[0.02, True]\n",
      "\tnu_nubar \t[1.0, True]\n",
      "\tbaseline_llh \t0.0\n",
      "\thad_escale \t[1.0, True]\n",
      "\ttheta34 \t[0.0, True]\n",
      "\tmix_angle \t[0.95, False, 1.0]\n",
      "\tnu_pi_scale \t[1.0, True]\n",
      "\tsimulation \tbaseline\n",
      "\tnorm_e \t[1.0, False]\n",
      "\taxm_qe \t[0.0, True]\n",
      "\tllh_space \tpoisson\n",
      "\ttheta13 \t[0.153, True]\n",
      "\tgamma \t[0.0, True]\n",
      "\n",
      "oscFitL: Tolerance for iminuit:  0.01\n",
      "oscFit: Firing up the minimizer!\n",
      "\n",
      "\n",
      "      -LLH   |   dm31 | mix_angle | norm_1 | norm_2 | norm_3 | norm_4 | atmmu_f | norm_e | \n",
      "90471.35113  +0.00250  +0.95000  +1.00000  +1.00000  +1.00000  +1.00000  +0.00000  +1.00000\n",
      "90471.35113  +0.00271  +0.95000  +1.00000  +1.00000  +1.00000  +1.00000  +0.00000  +1.00000\n",
      "90471.35113  +0.00229  +0.95000  +1.00000  +1.00000  +1.00000  +1.00000  +0.00000  +1.00000\n",
      "90471.35113  +0.00423  +0.95000  +1.00000  +1.00000  +1.00000  +1.00000  +0.00000  +1.00000\n",
      "90471.35113  +0.00101  +0.95000  +1.00000  +1.00000  +1.00000  +1.00000  +0.00000  +1.00000\n",
      "90471.35113  +0.00250  +0.96641  +1.00000  +1.00000  +1.00000  +1.00000  +0.00000  +1.00000\n",
      "90471.35113  +0.00250  +0.93053  +1.00000  +1.00000  +1.00000  +1.00000  +0.00000  +1.00000\n",
      "90471.35113  +0.00250  +0.99940  +1.00000  +1.00000  +1.00000  +1.00000  +0.00000  +1.00000\n",
      "90471.35113  +0.00250  +0.79042  +1.00000  +1.00000  +1.00000  +1.00000  +0.00000  +1.00000\n",
      "90471.35113  +0.00250  +0.95000  +1.06324  +1.00000  +1.00000  +1.00000  +0.00000  +1.00000\n",
      "90471.35113  +0.00250  +0.95000  +0.93676  +1.00000  +1.00000  +1.00000  +0.00000  +1.00000\n",
      "90471.35113  +0.00250  +0.95000  +1.47943  +1.00000  +1.00000  +1.00000  +0.00000  +1.00000\n",
      "90471.35113  +0.00250  +0.95000  +0.52057  +1.00000  +1.00000  +1.00000  +0.00000  +1.00000\n",
      "90471.35113  +0.00250  +0.95000  +1.00000  +1.06324  +1.00000  +1.00000  +0.00000  +1.00000\n",
      "90471.35113  +0.00250  +0.95000  +1.00000  +0.93676  +1.00000  +1.00000  +0.00000  +1.00000\n",
      "90471.35113  +0.00250  +0.95000  +1.00000  +1.47943  +1.00000  +1.00000  +0.00000  +1.00000\n",
      "90471.35113  +0.00250  +0.95000  +1.00000  +0.52057  +1.00000  +1.00000  +0.00000  +1.00000\n",
      "90471.35113  +0.00250  +0.95000  +1.00000  +1.00000  +1.06324  +1.00000  +0.00000  +1.00000\n",
      "90471.35113  +0.00250  +0.95000  +1.00000  +1.00000  +0.93676  +1.00000  +0.00000  +1.00000\n",
      "90471.35113  +0.00250  +0.95000  +1.00000  +1.00000  +1.47943  +1.00000  +0.00000  +1.00000\n",
      "90471.35113  +0.00250  +0.95000  +1.00000  +1.00000  +0.52057  +1.00000  +0.00000  +1.00000\n",
      "90471.35113  +0.00250  +0.95000  +1.00000  +1.00000  +1.00000  +1.06324  +0.00000  +1.00000\n",
      "90471.35113  +0.00250  +0.95000  +1.00000  +1.00000  +1.00000  +0.93676  +0.00000  +1.00000\n",
      "90471.35113  +0.00250  +0.95000  +1.00000  +1.00000  +1.00000  +1.47943  +0.00000  +1.00000\n",
      "90471.35113  +0.00250  +0.95000  +1.00000  +1.00000  +1.00000  +0.52057  +0.00000  +1.00000\n",
      "90471.37279  +0.00250  +0.95000  +1.00000  +1.00000  +1.00000  +1.00000  +0.00000  +1.01041\n",
      "90471.37264  +0.00250  +0.95000  +1.00000  +1.00000  +1.00000  +1.00000  +0.00000  +0.98963\n",
      "41785.27903  +0.00250  +0.95000  +1.00000  +1.00000  +1.00000  +1.00000  +0.00013  +1.00000\n",
      "45569.08347  +0.00250  +0.95000  +1.00000  +1.00000  +1.00000  +1.00000  +0.00009  +1.00000\n",
      "76138.81032  +0.00250  +0.95000  +1.00000  +1.00000  +1.00000  +1.00000  +0.00000  +1.00000\n",
      "148232.94805  +0.00250  +0.95000  +1.00000  +1.00000  +1.00000  +1.00000  +0.00000  +1.00000\n",
      "88475.60837  +0.00250  +0.95000  +1.00000  +1.00000  +1.00000  +1.00000  +0.00000  +1.00000\n",
      "92689.78190  +0.00250  +0.95000  +1.00000  +1.00000  +1.00000  +1.00000  +0.00000  +1.00000\n",
      "76696.09543  +0.00250  +0.95000  +1.00000  +1.00000  +1.00000  +1.00000  +0.00000  +0.99998\n",
      "71344.08699  +0.00250  +0.95000  +1.00000  +1.00000  +1.00000  +1.00000  +0.00001  +0.99997\n",
      "64570.57865  +0.00250  +0.95000  +1.00000  +1.00000  +1.00000  +1.00000  +0.00001  +0.99995\n",
      "56609.73601  +0.00250  +0.95000  +1.00000  +1.00000  +1.00000  +1.00000  +0.00003  +0.99992\n",
      "49696.23513  +0.00250  +0.95000  +1.00000  +1.00000  +1.00000  +1.00000  +0.00006  +0.99988\n",
      "42480.46140  +0.00250  +0.95000  +1.00000  +1.00000  +1.00000  +1.00000  +0.00012  +0.99982\n",
      "35180.29696  +0.00250  +0.95000  +1.00000  +1.00000  +1.00000  +1.00000  +0.00025  +0.99973\n",
      "28007.97824  +0.00250  +0.95000  +1.00000  +1.00000  +1.00000  +1.00000  +0.00051  +0.99960\n",
      "20792.14866  +0.00250  +0.95000  +1.00000  +1.00000  +1.00000  +1.00000  +0.00105  +0.99942\n",
      "13587.21543  +0.00250  +0.95000  +1.00000  +1.00000  +1.00000  +1.00000  +0.00217  +0.99916\n",
      "6423.37489  +0.00250  +0.95000  +1.00000  +1.00000  +1.00000  +1.00000  +0.00447  +0.99878\n",
      "6423.37489  +0.00423  +0.95000  +1.00000  +1.00000  +1.00000  +1.00000  +0.00447  +0.99878\n",
      "6423.37489  +0.00101  +0.95000  +1.00000  +1.00000  +1.00000  +1.00000  +0.00447  +0.99878\n",
      "6423.37489  +0.00250  +0.99940  +1.00000  +1.00000  +1.00000  +1.00000  +0.00447  +0.99878\n",
      "6423.37489  +0.00250  +0.79042  +1.00000  +1.00000  +1.00000  +1.00000  +0.00447  +0.99878\n",
      "6423.37489  +0.00250  +0.95000  +1.47943  +1.00000  +1.00000  +1.00000  +0.00447  +0.99878\n",
      "6423.37489  +0.00250  +0.95000  +0.52057  +1.00000  +1.00000  +1.00000  +0.00447  +0.99878\n",
      "6423.37489  +0.00250  +0.95000  +1.00000  +1.47943  +1.00000  +1.00000  +0.00447  +0.99878\n",
      "6423.37489  +0.00250  +0.95000  +1.00000  +0.52057  +1.00000  +1.00000  +0.00447  +0.99878\n",
      "6423.37489  +0.00250  +0.95000  +1.00000  +1.00000  +1.47943  +1.00000  +0.00447  +0.99878\n",
      "6423.37489  +0.00250  +0.95000  +1.00000  +1.00000  +0.52057  +1.00000  +0.00447  +0.99878\n",
      "6423.37489  +0.00250  +0.95000  +1.00000  +1.00000  +1.00000  +1.47943  +0.00447  +0.99878\n",
      "6423.37489  +0.00250  +0.95000  +1.00000  +1.00000  +1.00000  +0.52057  +0.00447  +0.99878\n",
      "6423.37507  +0.00250  +0.95000  +1.00000  +1.00000  +1.00000  +1.00000  +0.00447  +1.00155\n",
      "6423.37776  +0.00250  +0.95000  +1.00000  +1.00000  +1.00000  +1.00000  +0.00447  +0.99602\n",
      "6420.32822  +0.00250  +0.95000  +1.00000  +1.00000  +1.00000  +1.00000  +0.00447  +0.99878\n",
      "6426.42203  +0.00250  +0.95000  +1.00000  +1.00000  +1.00000  +1.00000  +0.00446  +0.99878\n",
      "6415.64000  +0.00250  +0.95000  +1.00000  +1.00000  +1.00000  +1.00000  +0.00447  +0.99878\n",
      "6431.11284  +0.00250  +0.95000  +1.00000  +1.00000  +1.00000  +1.00000  +0.00446  +0.99878\n",
      "6139.48099  +0.00250  +0.95000  +1.00000  +1.00000  +1.00000  +1.00000  +0.00460  +1.00000\n",
      "5043.48486  +0.00250  +0.95000  +1.00000  +1.00000  +1.00000  +1.00000  +0.00513  +1.00486\n",
      "2546.49430  +0.00250  +0.95000  +1.00000  +1.00000  +1.00000  +1.00000  +0.00661  +1.01704\n",
      "-3444.56600  +0.00250  +0.95000  +1.00000  +1.00000  +1.00000  +1.00000  +0.01213  +1.05389\n",
      "-12157.58179  +0.00250  +0.95000  +1.00000  +1.00000  +1.00000  +1.00000  +0.02967  +1.13498\n",
      "-17967.96242  +0.00250  +0.95000  +1.00000  +1.00000  +1.00000  +1.00000  +0.05463  +1.21793\n",
      "-23928.37793  +0.00250  +0.95000  +1.00000  +1.00000  +1.00000  +1.00000  +0.10490  +1.34498\n",
      "-29027.87728  +0.00250  +0.95000  +1.00000  +1.00000  +1.00000  +1.00000  +0.19225  +1.51737\n",
      "-32556.16431  +0.00250  +0.95000  +1.00000  +1.00000  +1.00000  +1.00000  +0.31158  +1.71410\n",
      "-34747.49192  +0.00250  +0.95000  +1.00000  +1.00000  +1.00000  +1.00000  +0.45229  +1.92397\n",
      "-35856.92859  +0.00250  +0.95000  +1.00000  +1.00000  +1.00000  +1.00000  +0.58397  +2.11550\n",
      "-35856.92859  +0.00423  +0.95000  +1.00000  +1.00000  +1.00000  +1.00000  +0.58397  +2.11550\n",
      "-35856.92859  +0.00101  +0.95000  +1.00000  +1.00000  +1.00000  +1.00000  +0.58397  +2.11550\n",
      "-35856.92859  +0.00250  +0.99940  +1.00000  +1.00000  +1.00000  +1.00000  +0.58397  +2.11550\n",
      "-35856.92859  +0.00250  +0.79042  +1.00000  +1.00000  +1.00000  +1.00000  +0.58397  +2.11550\n",
      "-35856.92859  +0.00250  +0.95000  +1.47943  +1.00000  +1.00000  +1.00000  +0.58397  +2.11550\n",
      "-35856.92859  +0.00250  +0.95000  +0.52057  +1.00000  +1.00000  +1.00000  +0.58397  +2.11550\n",
      "-35856.92859  +0.00250  +0.95000  +1.00000  +1.47943  +1.00000  +1.00000  +0.58397  +2.11550\n",
      "-35856.92859  +0.00250  +0.95000  +1.00000  +0.52057  +1.00000  +1.00000  +0.58397  +2.11550\n",
      "-35856.92859  +0.00250  +0.95000  +1.00000  +1.00000  +1.47943  +1.00000  +0.58397  +2.11550\n",
      "-35856.92859  +0.00250  +0.95000  +1.00000  +1.00000  +0.52057  +1.00000  +0.58397  +2.11550\n",
      "-35856.92859  +0.00250  +0.95000  +1.00000  +1.00000  +1.00000  +1.47943  +0.58397  +2.11550\n",
      "-35856.92859  +0.00250  +0.95000  +1.00000  +1.00000  +1.00000  +0.52057  +0.58397  +2.11550\n",
      "-35853.55260  +0.00250  +0.95000  +1.00000  +1.00000  +1.00000  +1.00000  +0.58397  +2.12305\n",
      "-35860.28257  +0.00250  +0.95000  +1.00000  +1.00000  +1.00000  +1.00000  +0.58397  +2.10796\n",
      "-35857.33967  +0.00250  +0.95000  +1.00000  +1.00000  +1.00000  +1.00000  +0.58403  +2.11550\n",
      "-35856.51739  +0.00250  +0.95000  +1.00000  +1.00000  +1.00000  +1.00000  +0.58391  +2.11550\n",
      "-35861.03415  +0.00250  +0.95000  +1.00000  +1.00000  +1.00000  +1.00000  +0.58458  +2.11550\n",
      "-35852.81133  +0.00250  +0.95000  +1.00000  +1.00000  +1.00000  +1.00000  +0.58336  +2.11550\n",
      "-36212.35241  +0.00250  +0.95000  +1.00000  +1.00000  +1.00000  +1.00000  +0.60261  +0.73264\n",
      "-36211.01234  +0.00250  +0.95000  +1.00000  +1.00000  +1.00000  +1.00000  +0.60094  +0.83936\n",
      "-36212.35241  +0.00423  +0.95000  +1.00000  +1.00000  +1.00000  +1.00000  +0.60261  +0.73264\n",
      "-36212.35241  +0.00101  +0.95000  +1.00000  +1.00000  +1.00000  +1.00000  +0.60261  +0.73264\n",
      "-36212.35241  +0.00250  +0.99940  +1.00000  +1.00000  +1.00000  +1.00000  +0.60261  +0.73264\n",
      "-36212.35241  +0.00250  +0.79042  +1.00000  +1.00000  +1.00000  +1.00000  +0.60261  +0.73264\n",
      "-36212.35241  +0.00250  +0.95000  +1.47943  +1.00000  +1.00000  +1.00000  +0.60261  +0.73264\n",
      "-36212.35241  +0.00250  +0.95000  +0.52057  +1.00000  +1.00000  +1.00000  +0.60261  +0.73264\n",
      "-36212.35241  +0.00250  +0.95000  +1.00000  +1.47943  +1.00000  +1.00000  +0.60261  +0.73264\n",
      "-36212.35241  +0.00250  +0.95000  +1.00000  +0.52057  +1.00000  +1.00000  +0.60261  +0.73264\n",
      "-36212.35241  +0.00250  +0.95000  +1.00000  +1.00000  +1.47943  +1.00000  +0.60261  +0.73264\n",
      "-36212.35241  +0.00250  +0.95000  +1.00000  +1.00000  +0.52057  +1.00000  +0.60261  +0.73264\n",
      "-36212.35241  +0.00250  +0.95000  +1.00000  +1.00000  +1.00000  +1.47943  +0.60261  +0.73264\n",
      "-36212.35241  +0.00250  +0.95000  +1.00000  +1.00000  +1.00000  +0.52057  +0.60261  +0.73264\n",
      "-36212.90129  +0.00250  +0.95000  +1.00000  +1.00000  +1.00000  +1.00000  +0.60261  +0.73783\n",
      "-36211.79434  +0.00250  +0.95000  +1.00000  +1.00000  +1.00000  +1.00000  +0.60261  +0.72748\n",
      "-36216.91694  +0.00250  +0.95000  +1.00000  +1.00000  +1.00000  +1.00000  +0.60335  +0.73264\n",
      "-36207.77164  +0.00250  +0.95000  +1.00000  +1.00000  +1.00000  +1.00000  +0.60188  +0.73264\n",
      "-36314.10384  +0.00250  +0.95000  +1.00000  +1.00000  +1.00000  +1.00000  +0.61914  +0.75788\n",
      "-36644.67014  +0.00250  +0.95000  +1.00000  +1.00000  +1.00000  +1.00000  +0.68372  +0.86199\n",
      "-37038.04040  +0.00250  +0.95000  +1.00000  +1.00000  +1.00000  +1.00000  +0.81247  +1.10756\n",
      "-37098.29465  +0.00250  +0.95000  +1.00000  +1.00000  +1.00000  +1.00000  +0.85194  +1.19914\n",
      "-37129.17727  +0.00250  +0.95000  +1.00000  +1.00000  +1.00000  +1.00000  +0.88606  +1.28874\n",
      "-37138.19712  +0.00250  +0.95000  +1.00000  +1.00000  +1.00000  +1.00000  +0.90694  +1.35042\n",
      "-37138.19712  +0.00423  +0.95000  +1.00000  +1.00000  +1.00000  +1.00000  +0.90694  +1.35042\n",
      "-37138.19712  +0.00101  +0.95000  +1.00000  +1.00000  +1.00000  +1.00000  +0.90694  +1.35042\n",
      "-37138.19712  +0.00250  +0.99940  +1.00000  +1.00000  +1.00000  +1.00000  +0.90694  +1.35042\n",
      "-37138.19712  +0.00250  +0.79042  +1.00000  +1.00000  +1.00000  +1.00000  +0.90694  +1.35042\n",
      "-37138.19712  +0.00250  +0.95000  +1.47943  +1.00000  +1.00000  +1.00000  +0.90694  +1.35042\n",
      "-37138.19712  +0.00250  +0.95000  +0.52057  +1.00000  +1.00000  +1.00000  +0.90694  +1.35042\n",
      "-37138.19712  +0.00250  +0.95000  +1.00000  +1.47943  +1.00000  +1.00000  +0.90694  +1.35042\n",
      "-37138.19712  +0.00250  +0.95000  +1.00000  +0.52057  +1.00000  +1.00000  +0.90694  +1.35042\n",
      "-37138.19712  +0.00250  +0.95000  +1.00000  +1.00000  +1.47943  +1.00000  +0.90694  +1.35042\n",
      "-37138.19712  +0.00250  +0.95000  +1.00000  +1.00000  +0.52057  +1.00000  +0.90694  +1.35042\n",
      "-37138.19712  +0.00250  +0.95000  +1.00000  +1.00000  +1.00000  +1.47943  +0.90694  +1.35042\n",
      "-37138.19712  +0.00250  +0.95000  +1.00000  +1.00000  +1.00000  +0.52057  +0.90694  +1.35042\n",
      "-37136.95005  +0.00250  +0.95000  +1.00000  +1.00000  +1.00000  +1.00000  +0.90694  +1.35920\n",
      "-37139.41138  +0.00250  +0.95000  +1.00000  +1.00000  +1.00000  +1.00000  +0.90694  +1.34164\n",
      "-37137.28393  +0.00250  +0.95000  +1.00000  +1.00000  +1.00000  +1.00000  +0.90694  +1.35687\n",
      "-37139.09259  +0.00250  +0.95000  +1.00000  +1.00000  +1.00000  +1.00000  +0.90694  +1.34397\n",
      "-37138.50584  +0.00250  +0.95000  +1.00000  +1.00000  +1.00000  +1.00000  +0.90740  +1.35042\n",
      "-37137.88520  +0.00250  +0.95000  +1.00000  +1.00000  +1.00000  +1.00000  +0.90649  +1.35042\n",
      "-37138.91912  +0.00250  +0.95000  +1.00000  +1.00000  +1.00000  +1.00000  +0.90801  +1.35042\n",
      "-37137.45740  +0.00250  +0.95000  +1.00000  +1.00000  +1.00000  +1.00000  +0.90587  +1.35042\n",
      "-37170.39826  +0.00250  +0.95000  +1.00000  +1.00000  +1.00000  +1.00000  +0.91978  +1.02405\n",
      "-37171.41137  +0.00250  +0.95000  +1.00000  +1.00000  +1.00000  +1.00000  +0.92179  +0.97361\n",
      "-37171.41137  +0.00423  +0.95000  +1.00000  +1.00000  +1.00000  +1.00000  +0.92179  +0.97361\n",
      "-37171.41137  +0.00101  +0.95000  +1.00000  +1.00000  +1.00000  +1.00000  +0.92179  +0.97361\n",
      "-37171.41137  +0.00250  +0.99940  +1.00000  +1.00000  +1.00000  +1.00000  +0.92179  +0.97361\n",
      "-37171.41137  +0.00250  +0.79042  +1.00000  +1.00000  +1.00000  +1.00000  +0.92179  +0.97361\n",
      "-37171.41137  +0.00250  +0.95000  +1.47943  +1.00000  +1.00000  +1.00000  +0.92179  +0.97361\n",
      "-37171.41137  +0.00250  +0.95000  +0.52057  +1.00000  +1.00000  +1.00000  +0.92179  +0.97361\n",
      "-37171.41137  +0.00250  +0.95000  +1.00000  +1.47943  +1.00000  +1.00000  +0.92179  +0.97361\n",
      "-37171.41137  +0.00250  +0.95000  +1.00000  +0.52057  +1.00000  +1.00000  +0.92179  +0.97361\n",
      "-37171.41137  +0.00250  +0.95000  +1.00000  +1.00000  +1.47943  +1.00000  +0.92179  +0.97361\n",
      "-37171.41137  +0.00250  +0.95000  +1.00000  +1.00000  +0.52057  +1.00000  +0.92179  +0.97361\n",
      "-37171.41137  +0.00250  +0.95000  +1.00000  +1.00000  +1.00000  +1.47943  +0.92179  +0.97361\n",
      "-37171.41137  +0.00250  +0.95000  +1.00000  +1.00000  +1.00000  +0.52057  +0.92179  +0.97361\n",
      "-37171.46640  +0.00250  +0.95000  +1.00000  +1.00000  +1.00000  +1.00000  +0.92179  +0.97947\n",
      "-37171.34274  +0.00250  +0.95000  +1.00000  +1.00000  +1.00000  +1.00000  +0.92179  +0.96775\n",
      "-37171.90455  +0.00250  +0.95000  +1.00000  +1.00000  +1.00000  +1.00000  +0.92278  +0.97361\n",
      "-37170.90375  +0.00250  +0.95000  +1.00000  +1.00000  +1.00000  +1.00000  +0.92080  +0.97361\n",
      "-37176.17509  +0.00250  +0.95000  +1.00000  +1.00000  +1.00000  +1.00000  +0.93272  +0.96881\n",
      "-37181.49048  +0.00250  +0.95000  +1.00000  +1.00000  +1.00000  +1.00000  +0.95385  +0.95839\n",
      "-37182.01412  +0.00250  +0.95000  +1.00000  +1.00000  +1.00000  +1.00000  +0.95885  +0.95562\n",
      "-37182.24087  +0.00250  +0.95000  +1.00000  +1.00000  +1.00000  +1.00000  +0.96306  +0.95315\n",
      "-37182.28027  +0.00250  +0.95000  +1.00000  +1.00000  +1.00000  +1.00000  +0.96511  +0.95190\n",
      "-37182.28027  +0.00423  +0.95000  +1.00000  +1.00000  +1.00000  +1.00000  +0.96511  +0.95190\n",
      "-37182.28027  +0.00101  +0.95000  +1.00000  +1.00000  +1.00000  +1.00000  +0.96511  +0.95190\n",
      "-37182.28027  +0.00250  +0.99940  +1.00000  +1.00000  +1.00000  +1.00000  +0.96511  +0.95190\n",
      "-37182.28027  +0.00250  +0.79042  +1.00000  +1.00000  +1.00000  +1.00000  +0.96511  +0.95190\n",
      "-37182.28027  +0.00250  +0.95000  +1.47943  +1.00000  +1.00000  +1.00000  +0.96511  +0.95190\n",
      "-37182.28027  +0.00250  +0.95000  +0.52057  +1.00000  +1.00000  +1.00000  +0.96511  +0.95190\n",
      "-37182.28027  +0.00250  +0.95000  +1.00000  +1.47943  +1.00000  +1.00000  +0.96511  +0.95190\n",
      "-37182.28027  +0.00250  +0.95000  +1.00000  +0.52057  +1.00000  +1.00000  +0.96511  +0.95190\n",
      "-37182.28027  +0.00250  +0.95000  +1.00000  +1.00000  +1.47943  +1.00000  +0.96511  +0.95190\n",
      "-37182.28027  +0.00250  +0.95000  +1.00000  +1.00000  +0.52057  +1.00000  +0.96511  +0.95190\n",
      "-37182.28027  +0.00250  +0.95000  +1.00000  +1.00000  +1.00000  +1.47943  +0.96511  +0.95190\n",
      "-37182.28027  +0.00250  +0.95000  +1.00000  +1.00000  +1.00000  +0.52057  +0.96511  +0.95190\n",
      "-37182.39928  +0.00250  +0.95000  +1.00000  +1.00000  +1.00000  +1.00000  +0.96511  +0.95855\n",
      "-37182.14394  +0.00250  +0.95000  +1.00000  +1.00000  +1.00000  +1.00000  +0.96511  +0.94527\n",
      "-37182.29209  +0.00250  +0.95000  +1.00000  +1.00000  +1.00000  +1.00000  +0.96586  +0.95190\n",
      "-37182.26225  +0.00250  +0.95000  +1.00000  +1.00000  +1.00000  +1.00000  +0.96436  +0.95190\n",
      "-37182.29676  +0.00250  +0.95000  +1.00000  +1.00000  +1.00000  +1.00000  +0.96637  +0.95190\n",
      "-37182.24605  +0.00250  +0.95000  +1.00000  +1.00000  +1.00000  +1.00000  +0.96383  +0.95190\n",
      "-37182.73837  +0.00250  +0.95000  +1.00000  +1.00000  +1.00000  +1.00000  +0.96596  +0.99064\n",
      "-37182.75781  +0.00250  +0.95000  +1.00000  +1.00000  +1.00000  +1.00000  +0.96619  +1.00104\n",
      "-37182.75781  +0.00423  +0.95000  +1.00000  +1.00000  +1.00000  +1.00000  +0.96619  +1.00104\n",
      "-37182.75781  +0.00101  +0.95000  +1.00000  +1.00000  +1.00000  +1.00000  +0.96619  +1.00104\n",
      "-37182.75781  +0.00250  +0.99940  +1.00000  +1.00000  +1.00000  +1.00000  +0.96619  +1.00104\n",
      "-37182.75781  +0.00250  +0.79042  +1.00000  +1.00000  +1.00000  +1.00000  +0.96619  +1.00104\n",
      "-37182.75781  +0.00250  +0.95000  +1.47943  +1.00000  +1.00000  +1.00000  +0.96619  +1.00104\n",
      "-37182.75781  +0.00250  +0.95000  +0.52057  +1.00000  +1.00000  +1.00000  +0.96619  +1.00104\n",
      "-37182.75781  +0.00250  +0.95000  +1.00000  +1.47943  +1.00000  +1.00000  +0.96619  +1.00104\n",
      "-37182.75781  +0.00250  +0.95000  +1.00000  +0.52057  +1.00000  +1.00000  +0.96619  +1.00104\n",
      "-37182.75781  +0.00250  +0.95000  +1.00000  +1.00000  +1.47943  +1.00000  +0.96619  +1.00104\n",
      "-37182.75781  +0.00250  +0.95000  +1.00000  +1.00000  +0.52057  +1.00000  +0.96619  +1.00104\n",
      "-37182.75781  +0.00250  +0.95000  +1.00000  +1.00000  +1.00000  +1.47943  +0.96619  +1.00104\n",
      "-37182.75781  +0.00250  +0.95000  +1.00000  +1.00000  +1.00000  +0.52057  +0.96619  +1.00104\n",
      "-37182.74562  +0.00250  +0.95000  +1.00000  +1.00000  +1.00000  +1.00000  +0.96619  +1.00788\n",
      "-37182.75133  +0.00250  +0.95000  +1.00000  +1.00000  +1.00000  +1.00000  +0.96619  +0.99421\n",
      "-37182.75996  +0.00250  +0.95000  +1.00000  +1.00000  +1.00000  +1.00000  +0.96743  +1.00104\n",
      "-37182.73874  +0.00250  +0.95000  +1.00000  +1.00000  +1.00000  +1.00000  +0.96492  +1.00104\n",
      "-37182.76050  +0.00250  +0.95000  +1.00000  +1.00000  +1.00000  +1.00000  +0.96659  +1.00019\n",
      "-37182.76122  +0.00250  +0.95000  +1.00000  +1.00000  +1.00000  +1.00000  +0.96689  +0.99953\n",
      "-37182.76122  +0.00423  +0.95000  +1.00000  +1.00000  +1.00000  +1.00000  +0.96689  +0.99953\n",
      "-37182.76122  +0.00101  +0.95000  +1.00000  +1.00000  +1.00000  +1.00000  +0.96689  +0.99953\n",
      "-37182.76122  +0.00250  +0.99940  +1.00000  +1.00000  +1.00000  +1.00000  +0.96689  +0.99953\n",
      "-37182.76122  +0.00250  +0.79042  +1.00000  +1.00000  +1.00000  +1.00000  +0.96689  +0.99953\n",
      "-37182.76122  +0.00250  +0.95000  +1.47943  +1.00000  +1.00000  +1.00000  +0.96689  +0.99953\n",
      "-37182.76122  +0.00250  +0.95000  +0.52057  +1.00000  +1.00000  +1.00000  +0.96689  +0.99953\n",
      "-37182.76122  +0.00250  +0.95000  +1.00000  +1.47943  +1.00000  +1.00000  +0.96689  +0.99953\n"
     ]
    }
   ],
   "source": [
    "result = fitter(data_histograms=[data],\n",
    "                data_loaders=[loader_one, loader_two, loader_three, loader_four, loader_bkg],\n",
    "                fit_settings=fit_settings,\n",
    "                ncalls = 1000,\n",
    "                store_fit_details = True)\n"
   ]
  },
  {
   "cell_type": "code",
   "execution_count": 39,
   "metadata": {
    "collapsed": false
   },
   "outputs": [
    {
     "data": {
      "text/plain": [
       "14247.725989692419"
      ]
     },
     "execution_count": 39,
     "metadata": {},
     "output_type": "execute_result"
    }
   ],
   "source": [
    "np.sum(data)"
   ]
  },
  {
   "cell_type": "code",
   "execution_count": null,
   "metadata": {
    "collapsed": true
   },
   "outputs": [],
   "source": []
  },
  {
   "cell_type": "code",
   "execution_count": null,
   "metadata": {
    "collapsed": true
   },
   "outputs": [],
   "source": []
  }
 ],
 "metadata": {
  "kernelspec": {
   "display_name": "Python 2",
   "language": "python",
   "name": "python2"
  },
  "language_info": {
   "codemirror_mode": {
    "name": "ipython",
    "version": 2
   },
   "file_extension": ".py",
   "mimetype": "text/x-python",
   "name": "python",
   "nbconvert_exporter": "python",
   "pygments_lexer": "ipython2",
   "version": "2.7.11"
  }
 },
 "nbformat": 4,
 "nbformat_minor": 0
}
