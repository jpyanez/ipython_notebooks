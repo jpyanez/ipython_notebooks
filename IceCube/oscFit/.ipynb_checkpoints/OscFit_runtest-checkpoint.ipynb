{
 "cells": [
  {
   "cell_type": "code",
   "execution_count": 7,
   "metadata": {
    "collapsed": false
   },
   "outputs": [
    {
     "data": {
      "text/plain": [
       "<module 'dataLoader' from '/home/jp/projects/icecube/oscFit_trunk_martin/modules/dataLoader.pyc'>"
      ]
     },
     "execution_count": 7,
     "metadata": {},
     "output_type": "execute_result"
    }
   ],
   "source": [
    "import os, sys\n",
    "sys.path.append('/home/jp/projects/icecube/oscFit_trunk_martin/modules')\n",
    "import pickle, dataLoader\n",
    "import numpy as np\n",
    "reload(dataLoader)"
   ]
  },
  {
   "cell_type": "code",
   "execution_count": 8,
   "metadata": {
    "collapsed": false
   },
   "outputs": [
    {
     "name": "stdout",
     "output_type": "stream",
     "text": [
      "\n",
      " ************************************ \n",
      " **** oscFit3D v1.0 - dataLoader ****\n",
      " ************************************\n",
      "dataLoader: Initializing user quickstart\n",
      "dataLoader: no alignment of systematic splines applied.\n",
      "dataLoader: no baseline correction from systematic data.\n",
      "Generating tables for nbins:  150\n",
      "Generated osccalc with:  True\n",
      "Reading MC set ...  holeice   0.0333333333333\n",
      "Reading MC set ...  holeice   0.02\n",
      "Reading MC set ...  holeice   0.01\n",
      "Reading MC set ...  baseline   baseline\n",
      "Reading MC set ...  domeff   1.0\n",
      "Reading MC set ...  domeff   1.1\n",
      "Reading MC set ...  domeff   0.954\n",
      "Reading MC set ...  domeff   0.909\n",
      "Reading MC set ...  domeff   0.864\n",
      "Reading MC set ...  domeff   1.05\n",
      "Reading MC set ...  domeff   0.818\n",
      "dataLoader: MC loaded successfully!\n",
      "dataLoader: Start reading atm. muon datasamples (all systematics)\n",
      "dataLoader: Muon background templates loaded successfully!\n",
      "dataLoader: Loading systematic variations using default values.\n",
      "\n",
      "dataLoader: Intializing fits for all found detector systematics ..\n",
      "\t -> Intializing fits for systematic parameter:  domeff\n"
     ]
    },
    {
     "ename": "UnboundLocalError",
     "evalue": "local variable 'cov' referenced before assignment",
     "output_type": "error",
     "traceback": [
      "\u001b[1;31m---------------------------------------------------------------------------\u001b[0m",
      "\u001b[1;31mUnboundLocalError\u001b[0m                         Traceback (most recent call last)",
      "\u001b[1;32m<ipython-input-8-67dab874bea3>\u001b[0m in \u001b[0;36m<module>\u001b[1;34m()\u001b[0m\n\u001b[0;32m      9\u001b[0m                                 \u001b[0mweight_keys\u001b[0m \u001b[1;33m=\u001b[0m \u001b[1;33m[\u001b[0m\u001b[1;34m'weight_e'\u001b[0m\u001b[1;33m,\u001b[0m \u001b[1;34m'weight_mu'\u001b[0m\u001b[1;33m]\u001b[0m\u001b[1;33m,\u001b[0m\u001b[1;33m\u001b[0m\u001b[0m\n\u001b[0;32m     10\u001b[0m                                 \u001b[0matmmu_detSys\u001b[0m \u001b[1;33m=\u001b[0m \u001b[0mFalse\u001b[0m\u001b[1;33m,\u001b[0m\u001b[1;33m\u001b[0m\u001b[0m\n\u001b[1;32m---> 11\u001b[1;33m                                 verbose = False)\n\u001b[0m",
      "\u001b[1;32m/home/jp/projects/icecube/oscFit_trunk_martin/modules/dataLoader.pyc\u001b[0m in \u001b[0;36m__init__\u001b[1;34m(self, observables, bin_edges, user, LEaxis, weight_keys, break_energy, extra_cuts, table_nbins, bin_sigma, detailed_detsys, detsys_perflavor, legacy_detsys, verbose, use_kde_bg, use_kde_sys, bootstrap_bg, get_fake_atmmu, mirroring, save_memory, raw_muon_scaling, raw_noise_scaling, align_sys, best_bsln_from_sys, hist2KDE, quantile_MC, atmmu_detSys, atmmu_ignore_cuts, default_settings)\u001b[0m\n\u001b[0;32m   2040\u001b[0m         \u001b[1;32mif\u001b[0m \u001b[0mself\u001b[0m\u001b[1;33m.\u001b[0m\u001b[0mdetsys_available\u001b[0m \u001b[1;32mand\u001b[0m \u001b[1;33m(\u001b[0m\u001b[1;32mnot\u001b[0m \u001b[0mdetailed_detsys\u001b[0m\u001b[1;33m)\u001b[0m\u001b[1;33m:\u001b[0m\u001b[1;33m\u001b[0m\u001b[0m\n\u001b[0;32m   2041\u001b[0m             \u001b[1;32mprint\u001b[0m \u001b[1;34m'dataLoader: Loading systematic variations using default values.'\u001b[0m\u001b[1;33m\u001b[0m\u001b[0m\n\u001b[1;32m-> 2042\u001b[1;33m             \u001b[0mself\u001b[0m\u001b[1;33m.\u001b[0m\u001b[0mloadSystematicVariations\u001b[0m\u001b[1;33m(\u001b[0m\u001b[0mparams\u001b[0m \u001b[1;33m=\u001b[0m \u001b[0mdeepcopy\u001b[0m\u001b[1;33m(\u001b[0m  \u001b[0mself\u001b[0m\u001b[1;33m.\u001b[0m\u001b[0mdefault_data_settings\u001b[0m  \u001b[1;33m)\u001b[0m \u001b[1;33m)\u001b[0m\u001b[1;33m\u001b[0m\u001b[0m\n\u001b[0m\u001b[0;32m   2043\u001b[0m             \u001b[1;31m#self.oscCalc = None # Not sure any more, why I commented this out, but I think there was a good reason\u001b[0m\u001b[1;33m\u001b[0m\u001b[1;33m\u001b[0m\u001b[0m\n\u001b[0;32m   2044\u001b[0m \u001b[1;33m\u001b[0m\u001b[0m\n",
      "\u001b[1;32m/home/jp/projects/icecube/oscFit_trunk_martin/modules/dataLoader.pyc\u001b[0m in \u001b[0;36mloadSystematicVariations\u001b[1;34m(self, params)\u001b[0m\n\u001b[0;32m   1595\u001b[0m                                                                                     \u001b[1;34m\"domeff\"\u001b[0m\u001b[1;33m,\u001b[0m\u001b[1;33m\u001b[0m\u001b[0m\n\u001b[0;32m   1596\u001b[0m                                                                                     \u001b[0mself\u001b[0m\u001b[1;33m.\u001b[0m\u001b[0mx_domeff\u001b[0m\u001b[1;33m,\u001b[0m\u001b[1;33m\u001b[0m\u001b[0m\n\u001b[1;32m-> 1597\u001b[1;33m                                                                                     self.x_domeff_nominal        )\n\u001b[0m\u001b[0;32m   1598\u001b[0m \u001b[1;33m\u001b[0m\u001b[0m\n\u001b[0;32m   1599\u001b[0m         \u001b[1;31m# HOLE ICE\u001b[0m\u001b[1;33m\u001b[0m\u001b[1;33m\u001b[0m\u001b[0m\n",
      "\u001b[1;32m/home/jp/projects/icecube/oscFit_trunk_martin/modules/dataLoader.pyc\u001b[0m in \u001b[0;36mloadOneSystematicVariation\u001b[1;34m(self, params, baseline, baseline_w2, sys_name, x, x_nominal)\u001b[0m\n\u001b[0;32m   1517\u001b[0m                                                   \u001b[0mpoly_degree\u001b[0m \u001b[1;33m=\u001b[0m \u001b[0mpoly_degree\u001b[0m\u001b[1;33m,\u001b[0m\u001b[1;33m\u001b[0m\u001b[0m\n\u001b[0;32m   1518\u001b[0m                                                   \u001b[0mfull_cov\u001b[0m    \u001b[1;33m=\u001b[0m \u001b[0mself\u001b[0m\u001b[1;33m.\u001b[0m\u001b[0malign_sys\u001b[0m\u001b[1;33m,\u001b[0m\u001b[1;33m\u001b[0m\u001b[0m\n\u001b[1;32m-> 1519\u001b[1;33m                                                   legacy_mode = self.legacy_detsys)\n\u001b[0m\u001b[0;32m   1520\u001b[0m                 \u001b[1;32mif\u001b[0m \u001b[0mself\u001b[0m\u001b[1;33m.\u001b[0m\u001b[0malign_sys\u001b[0m\u001b[1;33m:\u001b[0m\u001b[1;33m\u001b[0m\u001b[0m\n\u001b[0;32m   1521\u001b[0m                     \u001b[0mpmatrix\u001b[0m\u001b[1;33m,\u001b[0m \u001b[0mcovmatrix\u001b[0m\u001b[1;33m,\u001b[0m \u001b[0my\u001b[0m\u001b[1;33m,\u001b[0m \u001b[0my_w2\u001b[0m\u001b[1;33m,\u001b[0m \u001b[0mall_indices\u001b[0m \u001b[1;33m=\u001b[0m \u001b[0mout\u001b[0m\u001b[1;33m\u001b[0m\u001b[0m\n",
      "\u001b[1;32m/home/jp/projects/icecube/oscFit_trunk_martin/modules/systematicFunctions.pyc\u001b[0m in \u001b[0;36mgetSystematicFunctions\u001b[1;34m(y_values, y_valuesw2, xpoints, xi_nominal, poly_degree, use_interp, legacy_mode, full_cov)\u001b[0m\n\u001b[0;32m    195\u001b[0m         \u001b[0mpoly_matrix\u001b[0m\u001b[1;33m[\u001b[0m\u001b[0mtuple\u001b[0m\u001b[1;33m(\u001b[0m\u001b[0mone_index\u001b[0m\u001b[1;33m)\u001b[0m\u001b[1;33m]\u001b[0m \u001b[1;33m=\u001b[0m \u001b[0mone_fit\u001b[0m\u001b[1;33m\u001b[0m\u001b[0m\n\u001b[0;32m    196\u001b[0m         \u001b[1;32mif\u001b[0m \u001b[0mfull_cov\u001b[0m\u001b[1;33m:\u001b[0m \u001b[0mcov_matrix\u001b[0m\u001b[1;33m[\u001b[0m\u001b[0mtuple\u001b[0m\u001b[1;33m(\u001b[0m\u001b[0mone_index\u001b[0m\u001b[1;33m)\u001b[0m\u001b[1;33m]\u001b[0m \u001b[1;33m=\u001b[0m \u001b[0mcov\u001b[0m\u001b[1;33m\u001b[0m\u001b[0m\n\u001b[1;32m--> 197\u001b[1;33m         \u001b[1;32mif\u001b[0m \u001b[0mtype\u001b[0m\u001b[1;33m(\u001b[0m\u001b[0mcov\u001b[0m\u001b[1;33m)\u001b[0m \u001b[1;33m==\u001b[0m \u001b[0mfloat\u001b[0m\u001b[1;33m:\u001b[0m\u001b[1;33m\u001b[0m\u001b[0m\n\u001b[0m\u001b[0;32m    198\u001b[0m             \u001b[1;32mprint\u001b[0m \u001b[0mcov\u001b[0m\u001b[1;33m\u001b[0m\u001b[0m\n\u001b[0;32m    199\u001b[0m             \u001b[1;32mprint\u001b[0m \u001b[0mone_fit\u001b[0m\u001b[1;33m\u001b[0m\u001b[0m\n",
      "\u001b[1;31mUnboundLocalError\u001b[0m: local variable 'cov' referenced before assignment"
     ]
    }
   ],
   "source": [
    "loader =  dataLoader.dataLoader(observables = \n",
    "                                ['reco_energy', 'reco_zenith', 'reco_energy'],\n",
    "                                bin_edges   =    \n",
    "                                [10**np.linspace(0.8,1.75,9),\n",
    "                                 np.arccos(np.linspace(-1,0.,9))[::-1],\n",
    "                                 [0, np.inf]],\n",
    "                                user = 'quickstart', \n",
    "                                LEaxis = [],      \n",
    "                                weight_keys = ['weight_e', 'weight_mu'],\n",
    "                                atmmu_detSys = False,\n",
    "                                verbose = False)"
   ]
  },
  {
   "cell_type": "code",
   "execution_count": 20,
   "metadata": {
    "collapsed": false
   },
   "outputs": [
    {
     "data": {
      "text/plain": [
       "array([  9.78e-10,   4.00e-10,   5.44e-10, ...,   2.73e-10,   6.92e-10,   6.86e-10])"
      ]
     },
     "execution_count": 20,
     "metadata": {},
     "output_type": "execute_result"
    }
   ],
   "source": [
    "loader.numu['50']['CC']['weight']"
   ]
  },
  {
   "cell_type": "code",
   "execution_count": 12,
   "metadata": {
    "collapsed": false
   },
   "outputs": [
    {
     "data": {
      "text/plain": [
       "{'corsika': {1.0: {}, 2.0: {}},\n",
       " 'data': {1.0: array([[ 0.,  0.,  0.,  0.,  0.,  0.,  0.,  0.],\n",
       "         [ 0.,  0.,  0.,  0.,  0.,  0.,  0.,  0.],\n",
       "         [ 0.,  0.,  0.,  0.,  0.,  0.,  0.,  0.],\n",
       "         [ 0.,  0.,  0.,  0.,  0.,  0.,  0.,  0.],\n",
       "         [ 0.,  0.,  0.,  0.,  0.,  0.,  0.,  0.],\n",
       "         [ 0.,  0.,  0.,  0.,  0.,  0.,  0.,  0.],\n",
       "         [ 0.,  0.,  0.,  0.,  0.,  0.,  0.,  0.],\n",
       "         [ 0.,  0.,  0.,  0.,  0.,  0.,  0.,  0.]]),\n",
       "  2.0: array([[ 0.,  0.,  0.,  0.,  0.,  0.,  0.,  0.],\n",
       "         [ 0.,  0.,  0.,  0.,  0.,  0.,  0.,  0.],\n",
       "         [ 0.,  0.,  0.,  0.,  0.,  0.,  0.,  0.],\n",
       "         [ 0.,  0.,  0.,  0.,  0.,  0.,  0.,  0.],\n",
       "         [ 0.,  0.,  0.,  0.,  0.,  0.,  0.,  0.],\n",
       "         [ 0.,  0.,  0.,  0.,  0.,  0.,  0.,  0.],\n",
       "         [ 0.,  0.,  0.,  0.,  0.,  0.,  0.,  0.],\n",
       "         [ 0.,  0.,  0.,  0.,  0.,  0.,  0.,  0.]])}}"
      ]
     },
     "execution_count": 12,
     "metadata": {},
     "output_type": "execute_result"
    }
   ],
   "source": [
    "loader.atmmu_unweighted"
   ]
  },
  {
   "cell_type": "code",
   "execution_count": null,
   "metadata": {
    "collapsed": true
   },
   "outputs": [],
   "source": []
  }
 ],
 "metadata": {
  "kernelspec": {
   "display_name": "Python 2",
   "language": "python",
   "name": "python2"
  },
  "language_info": {
   "codemirror_mode": {
    "name": "ipython",
    "version": 2
   },
   "file_extension": ".py",
   "mimetype": "text/x-python",
   "name": "python",
   "nbconvert_exporter": "python",
   "pygments_lexer": "ipython2",
   "version": "2.7.11"
  }
 },
 "nbformat": 4,
 "nbformat_minor": 0
}
