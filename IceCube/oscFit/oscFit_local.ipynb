{
 "cells": [
  {
   "cell_type": "code",
   "execution_count": 6,
   "metadata": {
    "collapsed": false
   },
   "outputs": [
    {
     "data": {
      "text/plain": [
       "<module 'dataLoader' from '/home/jp/i3software/oscFit/modules/dataLoader.py'>"
      ]
     },
     "execution_count": 6,
     "metadata": {},
     "output_type": "execute_result"
    }
   ],
   "source": [
    "import os, sys\n",
    "sys.path.append('/home/jp/i3software/oscFit/modules')\n",
    "import pickle, dataLoader\n",
    "import numpy as np\n",
    "reload(dataLoader)"
   ]
  },
  {
   "cell_type": "code",
   "execution_count": 7,
   "metadata": {
    "collapsed": false
   },
   "outputs": [
    {
     "name": "stdout",
     "output_type": "stream",
     "text": [
      "\n",
      " ************************************ \n",
      " **** oscFit3D v1.0 - dataLoader ****\n",
      " ************************************\n",
      "dataLoader: Initializing user jpall_newdetector\n",
      "dataLoader: ERROR! Applying a cut on a non-existant variable  nveto\n",
      "dataLoader: ERROR! Applying a cut on a non-existant variable  nveto\n",
      "dataLoader: ERROR! Applying a cut on a non-existant variable  nveto\n",
      "dataLoader: ERROR! Applying a cut on a non-existant variable  nveto\n",
      "dataLoader: ERROR! Applying a cut on a non-existant variable  nveto\n",
      "dataLoader: ERROR! Applying a cut on a non-existant variable  nveto\n",
      "dataLoader: ERROR! Applying a cut on a non-existant variable  nveto\n",
      "dataLoader: ERROR! Applying a cut on a non-existant variable  nveto\n",
      "dataLoader: ERROR! Applying a cut on a non-existant variable  nveto\n",
      "dataLoader: ERROR! Applying a cut on a non-existant variable  nveto\n",
      "dataLoader: ERROR! Applying a cut on a non-existant variable  nveto\n",
      "dataLoader: ERROR! Applying a cut on a non-existant variable  nveto\n",
      "dataLoader: ERROR! Applying a cut on a non-existant variable  nveto\n",
      "dataLoader: ERROR! Applying a cut on a non-existant variable  nveto\n",
      "dataLoader: ERROR! Applying a cut on a non-existant variable  nveto\n",
      "dataLoader: ERROR! Applying a cut on a non-existant variable  nveto\n",
      "dataLoader: ERROR! Applying a cut on a non-existant variable  nveto\n",
      "dataLoader: ERROR! Applying a cut on a non-existant variable  nveto\n",
      "dataLoader: ERROR! Applying a cut on a non-existant variable  nveto\n",
      "dataLoader: ERROR! Applying a cut on a non-existant variable  nveto\n",
      "dataLoader: ERROR! Applying a cut on a non-existant variable  nveto\n",
      "dataLoader: ERROR! Applying a cut on a non-existant variable  nveto\n",
      "dataLoader: ERROR! Applying a cut on a non-existant variable  nveto\n",
      "dataLoader: ERROR! Applying a cut on a non-existant variable  nveto\n",
      "dataLoader: ERROR! Applying a cut on a non-existant variable  nveto\n",
      "dataLoader: ERROR! Applying a cut on a non-existant variable  nveto\n",
      "dataLoader: ERROR! Applying a cut on a non-existant variable  nveto\n",
      "dataLoader: ERROR! Applying a cut on a non-existant variable  nveto\n",
      "dataLoader: ERROR! Applying a cut on a non-existant variable  nveto\n",
      "dataLoader: ERROR! Applying a cut on a non-existant variable  nveto\n",
      "dataLoader: ERROR! Applying a cut on a non-existant variable  nveto\n",
      "dataLoader: ERROR! Applying a cut on a non-existant variable  nveto\n",
      "dataLoader: ERROR! Applying a cut on a non-existant variable  nveto\n",
      "dataLoader: MC loaded successfully!\n",
      "dataLoader: Muon background templates loaded successfully!\n",
      "dataLoader: Loading systematic variations using default values.\n"
     ]
    }
   ],
   "source": [
    "loader =  dataLoader.dataLoader(observables =  # Define the name of the observables in the pickle file\n",
    "                                ['reco_energy', 'reco_zenith', 'pid'],\n",
    "                                bin_edges   =  #Define the edges that you want to use per observable\n",
    "                                [10**np.linspace(0.8,1.75,9),\n",
    "                                 np.arccos(np.linspace(-1,0.,9))[::-1],\n",
    "                                 np.array([-np.inf, 0.7, np.inf])],\n",
    "                                user = 'jpall_newdetector', # Name of the user\n",
    "                                LEaxis = [],      # LE axis? To use LE, respect the order of observables given\n",
    "                                weight_keys = ['weight_e', 'weight_mu'], # Name of the weight keys [nu_e, nu_mu]\n",
    "                                extra_cuts = {'nveto':[-1,5]},    # Data missing some cuts? Use 'variable':[llimit,hlimit]\n",
    "                                break_energy = 1000.,# Where should GENIE stop and NuGen start? (GeV)\n",
    "                                verbose = False)    # Print lots of stuff?"
   ]
  },
  {
   "cell_type": "code",
   "execution_count": 8,
   "metadata": {
    "collapsed": false
   },
   "outputs": [],
   "source": [
    "muons2 = loader.atmmu_histo['data']"
   ]
  },
  {
   "cell_type": "code",
   "execution_count": 9,
   "metadata": {
    "collapsed": false
   },
   "outputs": [
    {
     "name": "stdout",
     "output_type": "stream",
     "text": [
      "145.0\n"
     ]
    }
   ],
   "source": [
    "print np.sum(muons2)"
   ]
  },
  {
   "cell_type": "code",
   "execution_count": 10,
   "metadata": {
    "collapsed": false
   },
   "outputs": [],
   "source": [
    "import oscFit"
   ]
  },
  {
   "cell_type": "code",
   "execution_count": 11,
   "metadata": {
    "collapsed": false
   },
   "outputs": [],
   "source": [
    "data_settings = {  'dm31':                     0.0025, \n",
    "              'theta23':                  0.78,\n",
    "              'theta13':                  0.155,\n",
    "              'mix_angle':                1., \n",
    "              'norm_nu':                  3., # In years!\n",
    "              'norm_e':                   1.,\n",
    "              'norm_tau':                 1.,\n",
    "              'gamma':                    0., \n",
    "              'axm_qe':                   0.,\n",
    "              'axm_res':                  0.,\n",
    "              'pid_bias':                 0.,\n",
    "              'domeff':                   1., \n",
    "              'hole_ice':                 0.02, \n",
    "              'had_escale':               1.,\n",
    "              'norm_nc':                  1.,\n",
    "              'atmmu_template':           'data',\n",
    "              'norm_atmmu':               0.01, \n",
    "              'simulation':               'baseline', \n",
    "              'oscMode':                  'Vacuum',  # Vacuum works by default.\n",
    "              'ma_variations':            True,      # False if axial mass syst. are missing in pickle files\n",
    "              'add_detector_systematics': False}"
   ]
  },
  {
   "cell_type": "code",
   "execution_count": 12,
   "metadata": {
    "collapsed": false
   },
   "outputs": [
    {
     "name": "stdout",
     "output_type": "stream",
     "text": [
      "dataLoader: atmmu_norm  0.01 , noise_norm 1.0\n"
     ]
    }
   ],
   "source": [
    "data_histogram = loader.loadMCasData(data_settings,statistical_fluctuations=False)\n"
   ]
  },
  {
   "cell_type": "code",
   "execution_count": 13,
   "metadata": {
    "collapsed": false
   },
   "outputs": [
    {
     "name": "stdout",
     "output_type": "stream",
     "text": [
      "This is your data\n",
      "[[[  18.61   44.37]\n",
      "  [  20.6    63.33]\n",
      "  [  21.46   80.9 ]\n",
      "  [  25.11   85.32]\n",
      "  [  35.8    89.33]\n",
      "  [  42.7   104.36]\n",
      "  [  61.06   84.54]\n",
      "  [  69.3    18.3 ]]\n",
      "\n",
      " [[  40.36   81.6 ]\n",
      "  [  41.47  113.18]\n",
      "  [  44.22  131.72]\n",
      "  [  46.86  134.78]\n",
      "  [  64.56  118.38]\n",
      "  [  65.63  128.94]\n",
      "  [  85.02   95.88]\n",
      "  [ 101.91   23.33]]\n",
      "\n",
      " [[  72.73  113.84]\n",
      "  [  76.71  148.08]\n",
      "  [  72.78  160.79]\n",
      "  [  71.41  160.68]\n",
      "  [  76.77  134.62]\n",
      "  [  87.18  129.67]\n",
      "  [  99.52   91.01]\n",
      "  [ 123.5    22.07]]\n",
      "\n",
      " [[  99.05  136.67]\n",
      "  [ 106.57  179.64]\n",
      "  [ 102.84  189.74]\n",
      "  [  96.76  179.67]\n",
      "  [  94.54  127.17]\n",
      "  [  90.21  114.64]\n",
      "  [  97.89   77.4 ]\n",
      "  [ 114.06   22.74]]\n",
      "\n",
      " [[ 125.74  143.53]\n",
      "  [ 131.94  185.04]\n",
      "  [ 126.47  207.35]\n",
      "  [ 120.02  184.67]\n",
      "  [ 108.75  132.01]\n",
      "  [  94.48   97.23]\n",
      "  [  82.56   59.84]\n",
      "  [  94.64   20.11]]\n",
      "\n",
      " [[ 137.16  139.01]\n",
      "  [ 157.16  182.74]\n",
      "  [ 146.03  200.46]\n",
      "  [ 137.75  169.64]\n",
      "  [ 123.93  114.87]\n",
      "  [  96.17   82.11]\n",
      "  [  84.64   51.6 ]\n",
      "  [  84.73   13.1 ]]\n",
      "\n",
      " [[ 151.59  139.29]\n",
      "  [ 175.07  181.34]\n",
      "  [ 169.5   200.22]\n",
      "  [ 147.12  168.2 ]\n",
      "  [ 139.91  108.75]\n",
      "  [ 117.96   72.24]\n",
      "  [  91.06   41.21]\n",
      "  [  91.09   11.96]]\n",
      "\n",
      " [[ 140.63  130.14]\n",
      "  [ 163.2   174.5 ]\n",
      "  [ 162.32  183.85]\n",
      "  [ 159.68  148.64]\n",
      "  [ 149.54   99.28]\n",
      "  [ 123.2    63.89]\n",
      "  [ 103.31   35.05]\n",
      "  [  88.55    9.92]]]\n"
     ]
    }
   ],
   "source": [
    "print 'This is your data'\n",
    "print data_histogram"
   ]
  },
  {
   "cell_type": "code",
   "execution_count": 14,
   "metadata": {
    "collapsed": false
   },
   "outputs": [
    {
     "name": "stdout",
     "output_type": "stream",
     "text": [
      "\n",
      " ************************************ \n",
      " ****** oscFit3D v1.0 - oscFit ******\n",
      " ************************************\n"
     ]
    }
   ],
   "source": [
    "fitter = oscFit.fitOscParams()\n",
    "data_loaders    = [loader]          # Here you could list many samples to be fit at once\n",
    "data_histograms = [data_histogram]  # The data histogram for each of the samples"
   ]
  },
  {
   "cell_type": "code",
   "execution_count": 15,
   "metadata": {
    "collapsed": false
   },
   "outputs": [],
   "source": [
    "fit_settings    = {\n",
    "    'simulation':     'baseline',      # This patches GENIE simulation with NuGen.\n",
    "    'dm31':           [0.0025, False, 'NH'], # Need to specify the hierarchy of the fit\n",
    "    'theta23':        [0.78, False],         # Not used in the \"TwoNeutrino\" mode\n",
    "    'theta13':        [0.155, True],        # Not used in the \"TwoNeutrino\" mode\n",
    "    'mix_angle':      [0.95, False, 1.4],     # Only used in the \"TwoNeutrino\" mode. Leave as is otherwise.\n",
    "    'oscMode':        'TwoNeutrino',         # How do you want to fit the data?\n",
    "    'oscTables':      True,\n",
    "    'norm':           [1., True],\n",
    "    'norm_e':         [1., False],\n",
    "    'norm_tau':       [1., True],            # Set to false for nutau apperance studies\n",
    "    'gamma':          [0., False],  \n",
    "    'axm_qe':         [0., True],\n",
    "    'axm_res':        [0., True],\n",
    "    'pid_bias':       [0., True],\n",
    "    'hole_ice':       [0.02, True], \n",
    "    'norm_nc':        [1., True],\n",
    "    'domeff':         [1., True],\n",
    "    'had_escale':     [1., True],\n",
    "    'atmmu_f':        [0.05, False, 'data'],\n",
    "    'noise_f':        [0.0, True],\n",
    "    'fix_norm_region':[1.7],\n",
    "    'detector_syst':  True,\n",
    "    'include_priors': True, \n",
    "    'printMode':      True}                  # Do you want to see every step MINUIT takes?\n"
   ]
  },
  {
   "cell_type": "code",
   "execution_count": 16,
   "metadata": {
    "collapsed": false
   },
   "outputs": [
    {
     "name": "stdout",
     "output_type": "stream",
     "text": [
      "oscFit: Fitter running in TwoNeutrino mode\n",
      "oscFit: 13431.5761684  events in data\n",
      "oscFit: Control region\n",
      "\t[{'bool_bins': array([ True,  True, False, False, False, False, False, False], dtype=bool), 'axis': (0, 2)}] \n",
      "\tEvents:  [3814.8831834806242]\n",
      "oscFit: Fitting in normal hierarchy mode\n",
      "oscFit: Testing the LLH2 function  "
     ]
    },
    {
     "ename": "AttributeError",
     "evalue": "'iminuit._libiminuit.Minuit' object has no attribute 'fixed'",
     "output_type": "error",
     "traceback": [
      "\u001b[0;31m---------------------------------------------------------------------------\u001b[0m\n\u001b[0;31mAttributeError\u001b[0m                            Traceback (most recent call last)",
      "\u001b[0;32m<ipython-input-16-f6d91a4e3054>\u001b[0m in \u001b[0;36m<module>\u001b[0;34m()\u001b[0m\n\u001b[1;32m      1\u001b[0m result = fitter(data_histograms=data_histograms,\n\u001b[1;32m      2\u001b[0m                 \u001b[0mdata_loaders\u001b[0m\u001b[0;34m=\u001b[0m\u001b[0mdata_loaders\u001b[0m\u001b[0;34m,\u001b[0m\u001b[0;34m\u001b[0m\u001b[0m\n\u001b[0;32m----> 3\u001b[0;31m                 fit_settings=fit_settings)\n\u001b[0m",
      "\u001b[0;32m/home/jp/i3software/oscFit/modules/oscFit.py\u001b[0m in \u001b[0;36m__call__\u001b[0;34m(self, data_histograms, data_loaders, fit_settings, fit_priors, store_fit_details)\u001b[0m\n\u001b[1;32m    376\u001b[0m             \u001b[0mfsettings\u001b[0m\u001b[0;34m[\u001b[0m\u001b[0;34m'had_escale'\u001b[0m\u001b[0;34m]\u001b[0m\u001b[0;34m[\u001b[0m\u001b[0;36m1\u001b[0m\u001b[0;34m]\u001b[0m \u001b[0;34m=\u001b[0m \u001b[0mTrue\u001b[0m\u001b[0;34m\u001b[0m\u001b[0m\n\u001b[1;32m    377\u001b[0m \u001b[0;34m\u001b[0m\u001b[0m\n\u001b[0;32m--> 378\u001b[0;31m         \u001b[0;32mfor\u001b[0m \u001b[0mparam_key\u001b[0m \u001b[0;32min\u001b[0m \u001b[0mm\u001b[0m\u001b[0;34m.\u001b[0m\u001b[0mfixed\u001b[0m\u001b[0;34m.\u001b[0m\u001b[0mkeys\u001b[0m\u001b[0;34m(\u001b[0m\u001b[0;34m)\u001b[0m\u001b[0;34m:\u001b[0m\u001b[0;34m\u001b[0m\u001b[0m\n\u001b[0m\u001b[1;32m    379\u001b[0m             \u001b[0mm\u001b[0m\u001b[0;34m.\u001b[0m\u001b[0mfixed\u001b[0m\u001b[0;34m[\u001b[0m\u001b[0mparam_key\u001b[0m\u001b[0;34m]\u001b[0m \u001b[0;34m=\u001b[0m \u001b[0mfsettings\u001b[0m\u001b[0;34m[\u001b[0m\u001b[0mparam_key\u001b[0m\u001b[0;34m]\u001b[0m\u001b[0;34m[\u001b[0m\u001b[0;36m1\u001b[0m\u001b[0;34m]\u001b[0m\u001b[0;34m\u001b[0m\u001b[0m\n\u001b[1;32m    380\u001b[0m \u001b[0;34m\u001b[0m\u001b[0m\n",
      "\u001b[0;31mAttributeError\u001b[0m: 'iminuit._libiminuit.Minuit' object has no attribute 'fixed'"
     ]
    },
    {
     "name": "stdout",
     "output_type": "stream",
     "text": [
      "-50657.587101\n",
      "oscFit: Fit settings\n",
      "\tnoise_f \t[0.0, True]\n",
      "\tnorm_tau \t[1.0, True]\n",
      "\tprintMode \tTrue\n",
      "\toscMode \tTwoNeutrino\n",
      "\tinclude_priors \tTrue\n",
      "\tatmmu_f \t[0.05, False, 'data']\n",
      "\tdm31 \t[0.0025, False, 'NH']\n",
      "\ttheta23 \t[0.78, False]\n",
      "\tdetector_syst \tTrue\n",
      "\toscTables \tTrue\n",
      "\tnorm \t[1.0, True]\n",
      "\taxm_res \t[0.0, True]\n",
      "\tpid_bias \t[0.0, True]\n",
      "\tnumubar_z2 \t[0.0, False]\n",
      "\tnu_nubar \t[1.0, False]\n",
      "\tnorm_nc \t[1.0, True]\n",
      "\tdomeff \t[1.0, True]\n",
      "\thole_ice \t[0.02, True]\n",
      "\tnumubar_e2 \t[0.0, False]\n",
      "\thad_escale \t[1.0, True]\n",
      "\tmix_angle \t[0.95, False, 1.4]\n",
      "\tsimulation \tbaseline\n",
      "\tnorm_e \t[1.0, False]\n",
      "\taxm_qe \t[0.0, True]\n",
      "\tfix_norm_region \t[1.7]\n",
      "\ttheta13 \t[0.155, True]\n",
      "\tgamma \t[0.0, False]\n",
      "\n"
     ]
    },
    {
     "name": "stderr",
     "output_type": "stream",
     "text": [
      "/home/jp/i3software/oscFit/modules/oscFit.py:345: InitialParamWarning: errordef is not given. Default to 1.\n",
      "  limit_pid_bias       = (-0.06, 0.06),\n",
      "/home/jp/i3software/oscFit/modules/oscFit.py:345: InitialParamWarning: Parameter dm31 is floating but does not have initial step size. Assume 1.\n",
      "  limit_pid_bias       = (-0.06, 0.06),\n",
      "/home/jp/i3software/oscFit/modules/oscFit.py:345: InitialParamWarning: Parameter theta23 is floating but does not have initial step size. Assume 1.\n",
      "  limit_pid_bias       = (-0.06, 0.06),\n",
      "/home/jp/i3software/oscFit/modules/oscFit.py:345: InitialParamWarning: Parameter theta13 is floating but does not have initial step size. Assume 1.\n",
      "  limit_pid_bias       = (-0.06, 0.06),\n",
      "/home/jp/i3software/oscFit/modules/oscFit.py:345: InitialParamWarning: Parameter mix_angle is floating but does not have initial step size. Assume 1.\n",
      "  limit_pid_bias       = (-0.06, 0.06),\n",
      "/home/jp/i3software/oscFit/modules/oscFit.py:345: InitialParamWarning: Parameter norm is floating but does not have initial step size. Assume 1.\n",
      "  limit_pid_bias       = (-0.06, 0.06),\n",
      "/home/jp/i3software/oscFit/modules/oscFit.py:345: InitialParamWarning: Parameter gamma is floating but does not have initial step size. Assume 1.\n",
      "  limit_pid_bias       = (-0.06, 0.06),\n",
      "/home/jp/i3software/oscFit/modules/oscFit.py:345: InitialParamWarning: Parameter norm_e is floating but does not have initial step size. Assume 1.\n",
      "  limit_pid_bias       = (-0.06, 0.06),\n",
      "/home/jp/i3software/oscFit/modules/oscFit.py:345: InitialParamWarning: Parameter norm_tau is floating but does not have initial step size. Assume 1.\n",
      "  limit_pid_bias       = (-0.06, 0.06),\n",
      "/home/jp/i3software/oscFit/modules/oscFit.py:345: InitialParamWarning: Parameter nu_nubar is floating but does not have initial step size. Assume 1.\n",
      "  limit_pid_bias       = (-0.06, 0.06),\n",
      "/home/jp/i3software/oscFit/modules/oscFit.py:345: InitialParamWarning: Parameter numubar_e2 is floating but does not have initial step size. Assume 1.\n",
      "  limit_pid_bias       = (-0.06, 0.06),\n",
      "/home/jp/i3software/oscFit/modules/oscFit.py:345: InitialParamWarning: Parameter numubar_z2 is floating but does not have initial step size. Assume 1.\n",
      "  limit_pid_bias       = (-0.06, 0.06),\n",
      "/home/jp/i3software/oscFit/modules/oscFit.py:345: InitialParamWarning: Parameter atmmu_f is floating but does not have initial step size. Assume 1.\n",
      "  limit_pid_bias       = (-0.06, 0.06),\n",
      "/home/jp/i3software/oscFit/modules/oscFit.py:345: InitialParamWarning: Parameter noise_f is floating but does not have initial step size. Assume 1.\n",
      "  limit_pid_bias       = (-0.06, 0.06),\n",
      "/home/jp/i3software/oscFit/modules/oscFit.py:345: InitialParamWarning: Parameter axm_qe is floating but does not have initial step size. Assume 1.\n",
      "  limit_pid_bias       = (-0.06, 0.06),\n",
      "/home/jp/i3software/oscFit/modules/oscFit.py:345: InitialParamWarning: Parameter axm_res is floating but does not have initial step size. Assume 1.\n",
      "  limit_pid_bias       = (-0.06, 0.06),\n",
      "/home/jp/i3software/oscFit/modules/oscFit.py:345: InitialParamWarning: Parameter norm_nc is floating but does not have initial step size. Assume 1.\n",
      "  limit_pid_bias       = (-0.06, 0.06),\n",
      "/home/jp/i3software/oscFit/modules/oscFit.py:345: InitialParamWarning: Parameter pid_bias is floating but does not have initial step size. Assume 1.\n",
      "  limit_pid_bias       = (-0.06, 0.06),\n",
      "/home/jp/i3software/oscFit/modules/oscFit.py:345: InitialParamWarning: Parameter domeff is floating but does not have initial step size. Assume 1.\n",
      "  limit_pid_bias       = (-0.06, 0.06),\n",
      "/home/jp/i3software/oscFit/modules/oscFit.py:345: InitialParamWarning: Parameter had_escale is floating but does not have initial step size. Assume 1.\n",
      "  limit_pid_bias       = (-0.06, 0.06),\n",
      "/home/jp/i3software/oscFit/modules/oscFit.py:345: InitialParamWarning: Parameter hole_ice is floating but does not have initial step size. Assume 1.\n",
      "  limit_pid_bias       = (-0.06, 0.06),\n"
     ]
    }
   ],
   "source": [
    "result = fitter(data_histograms=data_histograms,\n",
    "                data_loaders=data_loaders,\n",
    "                fit_settings=fit_settings)"
   ]
  },
  {
   "cell_type": "code",
   "execution_count": 17,
   "metadata": {
    "collapsed": false
   },
   "outputs": [],
   "source": [
    "import iminuit"
   ]
  },
  {
   "cell_type": "code",
   "execution_count": 21,
   "metadata": {
    "collapsed": false
   },
   "outputs": [
    {
     "name": "stderr",
     "output_type": "stream",
     "text": [
      "-c:1: InitialParamWarning: errordef is not given. Default to 1.\n",
      "-c:1: InitialParamWarning: Parameter a does not have initial value. Assume 0.\n",
      "-c:1: InitialParamWarning: Parameter a is floating but does not have initial step size. Assume 1.\n"
     ]
    }
   ],
   "source": [
    "a = iminuit.Minuit(fcn)"
   ]
  },
  {
   "cell_type": "code",
   "execution_count": 20,
   "metadata": {
    "collapsed": false
   },
   "outputs": [],
   "source": [
    "def fcn(a):\n",
    "    return 10*a**2 + 3*a + 2."
   ]
  },
  {
   "cell_type": "code",
   "execution_count": 22,
   "metadata": {
    "collapsed": false
   },
   "outputs": [],
   "source": [
    "a.errors?"
   ]
  },
  {
   "cell_type": "code",
   "execution_count": null,
   "metadata": {
    "collapsed": false
   },
   "outputs": [],
   "source": []
  }
 ],
 "metadata": {
  "kernelspec": {
   "display_name": "Python 2",
   "language": "python",
   "name": "python2"
  },
  "language_info": {
   "codemirror_mode": {
    "name": "ipython",
    "version": 2
   },
   "file_extension": ".py",
   "mimetype": "text/x-python",
   "name": "python",
   "nbconvert_exporter": "python",
   "pygments_lexer": "ipython2",
   "version": "2.7.11"
  }
 },
 "nbformat": 4,
 "nbformat_minor": 0
}
