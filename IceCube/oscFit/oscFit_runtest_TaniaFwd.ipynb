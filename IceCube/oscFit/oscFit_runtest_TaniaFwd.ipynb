{
 "cells": [
  {
   "cell_type": "code",
   "execution_count": 16,
   "metadata": {
    "collapsed": false
   },
   "outputs": [
    {
     "data": {
      "text/plain": [
       "<module 'dataLoader' from '/home/jp/projects/icecube/oscFit_Tania/modules/dataLoader.py'>"
      ]
     },
     "execution_count": 16,
     "metadata": {},
     "output_type": "execute_result"
    }
   ],
   "source": [
    "import os, sys\n",
    "import matplotlib.pyplot as plt\n",
    "%matplotlib inline \n",
    "sys.path.append('/home/jp/projects/python_tools')\n",
    "import jp_mpl as jplot\n",
    "sys.path.append('/home/jp/projects/icecube/oscFit_Tania/modules')\n",
    "import pickle, dataLoader\n",
    "import numpy as np\n",
    "from copy import deepcopy\n",
    "reload(dataLoader)"
   ]
  },
  {
   "cell_type": "code",
   "execution_count": 19,
   "metadata": {
    "collapsed": false
   },
   "outputs": [
    {
     "data": {
      "text/plain": [
       "array([   6.31 ,   14.125,   31.623,   70.795,  158.489])"
      ]
     },
     "execution_count": 19,
     "metadata": {},
     "output_type": "execute_result"
    }
   ],
   "source": [
    "10**np.linspace(0.8,2.2,5)"
   ]
  },
  {
   "cell_type": "code",
   "execution_count": 18,
   "metadata": {
    "collapsed": false,
    "scrolled": true
   },
   "outputs": [
    {
     "name": "stdout",
     "output_type": "stream",
     "text": [
      "\n",
      " ************************************ \n",
      " **** oscFit3D v1.1 - dataLoader ****\n",
      " ************************************\n",
      "\n",
      "dataLoader: Initializing user quickstart\n",
      "dataLoader: Dummy observable(s) created to use 3D histograms\n",
      "dataLoader: KDE is set ON, importing KDE tools\n",
      "dataLoader: Trying to load systematic histograms from file\n",
      "Reading from file\n",
      "dataLoader: MC loaded successfully!\n",
      "SMOOTH by KDE  /home/jp/projects/icecube/oscFit_results/kdedb/atmmuData_\n",
      "Reading kdes from file and compare truth dicts ...\n",
      "\t -> use matchKeys from truth.keys() ...\n",
      "... done.\n",
      "dataLoader: Muon background templates loaded successfully!\n",
      "dataLoader: Systematic functions for nue  -  hole_ice\n",
      "dataLoader: Systematic functions for nue  -  domeff\n",
      "dataLoader: Systematic functions for numu  -  hole_ice\n",
      "dataLoader: Systematic functions for numu  -  domeff\n",
      "dataLoader: Systematic functions for nutau  -  hole_ice\n",
      "dataLoader: Systematic functions for nutau  -  domeff\n",
      "dataLoader: Systematic functions for nc  -  hole_ice\n",
      "dataLoader: Systematic functions for nc  -  domeff\n",
      "dataLoader: Systematic functions for atmmu  -  domeff\n",
      "dataLoader: Combining systematics for  nue\n",
      "dataLoader: Combining systematics for  numu\n",
      "dataLoader: Combining systematics for  nutau\n",
      "dataLoader: Combining systematics for  nc\n",
      "dataLoader: Combining systematics for  atmmu\n"
     ]
    }
   ],
   "source": [
    "loader =  dataLoader.dataLoader(observables = \n",
    "                                ['reco_energy', 'reco_zenith'],# 'reco_energy'],\n",
    "                                bin_edges   =    \n",
    "                                [np.array([6.31, 14.125]),\n",
    "                                 np.arccos(np.linspace(-1,0.,9))[::-1]],\n",
    "                                user = 'quickstart', \n",
    "                                LEaxis = [],      \n",
    "                                weight_keys = ['weight_e', 'weight_mu', 'weight_mu_pi'],\n",
    "                                detsys_nuspecs = {'domeff': [1., 1],\n",
    "                                                  'hole_ice': [0.02, 2]},\n",
    "                                detsys_muspecs = {'domeff': [1.0, -1]},\n",
    "                                table_nbins = False,\n",
    "                                use_kde_bg  = True,\n",
    "                                use_kde_sys = False,\n",
    "                                detsys_redo = False,\n",
    "                                verbose = False)"
   ]
  },
  {
   "cell_type": "code",
   "execution_count": 20,
   "metadata": {
    "collapsed": false,
    "scrolled": true
   },
   "outputs": [
    {
     "name": "stdout",
     "output_type": "stream",
     "text": [
      "\n",
      " ************************************ \n",
      " **** oscFit3D v1.1 - dataLoader ****\n",
      " ************************************\n",
      "\n",
      "dataLoader: Initializing user quickstart\n",
      "dataLoader: Dummy observable(s) created to use 3D histograms\n",
      "dataLoader: KDE is set ON, importing KDE tools\n",
      "dataLoader: Trying to load systematic histograms from file\n",
      "dataLoader: MC loaded successfully!\n",
      "SMOOTH by KDE  /home/jp/projects/icecube/oscFit_results/kdedb/atmmuData_\n",
      "Reading kdes from file and compare truth dicts ...\n",
      "\t -> use matchKeys from truth.keys() ...\n",
      "... done.\n",
      "dataLoader: Muon background templates loaded successfully!\n",
      "dataLoader: Generating new systematic histograms\n",
      "dataLoader: Done loading systematic variations\n",
      "dataLoader: Systematic functions for nue  -  hole_ice\n",
      "dataLoader: Systematic functions for nue  -  domeff\n",
      "dataLoader: Systematic functions for numu  -  hole_ice\n",
      "dataLoader: Systematic functions for numu  -  domeff\n",
      "dataLoader: Systematic functions for nutau  -  hole_ice\n",
      "dataLoader: Systematic functions for nutau  -  domeff\n",
      "dataLoader: Systematic functions for nc  -  hole_ice\n",
      "dataLoader: Systematic functions for nc  -  domeff\n",
      "dataLoader: Systematic functions for atmmu  -  domeff\n",
      "dataLoader: Combining systematics for  nue\n",
      "dataLoader: Combining systematics for  numu\n",
      "dataLoader: Combining systematics for  nutau\n",
      "dataLoader: Combining systematics for  nc\n",
      "dataLoader: Combining systematics for  atmmu\n"
     ]
    }
   ],
   "source": [
    "loader2 =  dataLoader.dataLoader(observables = \n",
    "                                ['reco_energy', 'reco_zenith'],# 'reco_energy'],\n",
    "                                bin_edges   =    \n",
    "                                [np.array([14.125,   31.623,]),\n",
    "                                 np.arccos(np.linspace(-1,0.,9))[::-1]],\n",
    "                                user = 'quickstart', \n",
    "                                LEaxis = [],      \n",
    "                                weight_keys = ['weight_e', 'weight_mu', 'weight_mu_pi'],\n",
    "                                detsys_nuspecs = {'domeff': [1., 1],\n",
    "                                                  'hole_ice': [0.02, 2]},\n",
    "                                detsys_muspecs = {'domeff': [1.0, -1]},\n",
    "                                table_nbins = False,\n",
    "                                use_kde_bg  = True,\n",
    "                                use_kde_sys = False,\n",
    "                                detsys_redo = False,\n",
    "                                verbose = False)"
   ]
  },
  {
   "cell_type": "code",
   "execution_count": 21,
   "metadata": {
    "collapsed": false,
    "scrolled": true
   },
   "outputs": [
    {
     "name": "stdout",
     "output_type": "stream",
     "text": [
      "\n",
      " ************************************ \n",
      " **** oscFit3D v1.1 - dataLoader ****\n",
      " ************************************\n",
      "\n",
      "dataLoader: Initializing user quickstart\n",
      "dataLoader: Dummy observable(s) created to use 3D histograms\n",
      "dataLoader: KDE is set ON, importing KDE tools\n",
      "dataLoader: Trying to load systematic histograms from file\n",
      "dataLoader: MC loaded successfully!\n",
      "SMOOTH by KDE  /home/jp/projects/icecube/oscFit_results/kdedb/atmmuData_\n",
      "Reading kdes from file and compare truth dicts ...\n",
      "\t -> use matchKeys from truth.keys() ...\n",
      "... done.\n",
      "dataLoader: Muon background templates loaded successfully!\n",
      "dataLoader: Generating new systematic histograms\n",
      "dataLoader: Done loading systematic variations\n",
      "dataLoader: Systematic functions for nue  -  hole_ice\n",
      "dataLoader: Systematic functions for nue  -  domeff\n",
      "dataLoader: Systematic functions for numu  -  hole_ice\n",
      "dataLoader: Systematic functions for numu  -  domeff\n",
      "dataLoader: Systematic functions for nutau  -  hole_ice\n",
      "dataLoader: Systematic functions for nutau  -  domeff\n",
      "dataLoader: Systematic functions for nc  -  hole_ice\n",
      "dataLoader: Systematic functions for nc  -  domeff\n",
      "dataLoader: Systematic functions for atmmu  -  domeff\n",
      "dataLoader: Combining systematics for  nue\n",
      "dataLoader: Combining systematics for  numu\n",
      "dataLoader: Combining systematics for  nutau\n",
      "dataLoader: Combining systematics for  nc\n",
      "dataLoader: Combining systematics for  atmmu\n"
     ]
    }
   ],
   "source": [
    "loader3 =  dataLoader.dataLoader(observables = \n",
    "                                ['reco_energy', 'reco_zenith'],# 'reco_energy'],\n",
    "                                bin_edges   =    \n",
    "                                [np.array([31.623,   70.795]),\n",
    "                                 np.arccos(np.linspace(-1,0.,9))[::-1]],\n",
    "                                user = 'quickstart', \n",
    "                                LEaxis = [],      \n",
    "                                weight_keys = ['weight_e', 'weight_mu', 'weight_mu_pi'],\n",
    "                                detsys_nuspecs = {'domeff': [1., 1],\n",
    "                                                  'hole_ice': [0.02, 2]},\n",
    "                                detsys_muspecs = {'domeff': [1.0, -1]},\n",
    "                                table_nbins = False,\n",
    "                                use_kde_bg  = True,\n",
    "                                use_kde_sys = False,\n",
    "                                detsys_redo = False,\n",
    "                                verbose = False)"
   ]
  },
  {
   "cell_type": "code",
   "execution_count": 22,
   "metadata": {
    "collapsed": false
   },
   "outputs": [
    {
     "name": "stdout",
     "output_type": "stream",
     "text": [
      "\n",
      " ************************************ \n",
      " **** oscFit3D v1.1 - dataLoader ****\n",
      " ************************************\n",
      "\n",
      "dataLoader: Initializing user quickstart\n",
      "dataLoader: Dummy observable(s) created to use 3D histograms\n",
      "dataLoader: KDE is set ON, importing KDE tools\n",
      "dataLoader: Trying to load systematic histograms from file\n",
      "dataLoader: MC loaded successfully!\n",
      "SMOOTH by KDE  /home/jp/projects/icecube/oscFit_results/kdedb/atmmuData_\n",
      "Reading kdes from file and compare truth dicts ...\n",
      "\t -> use matchKeys from truth.keys() ...\n",
      "... done.\n",
      "dataLoader: Muon background templates loaded successfully!\n",
      "dataLoader: Generating new systematic histograms\n",
      "dataLoader: Done loading systematic variations\n",
      "dataLoader: Systematic functions for nue  -  hole_ice\n",
      "dataLoader: Systematic functions for nue  -  domeff\n",
      "dataLoader: Systematic functions for numu  -  hole_ice\n",
      "dataLoader: Systematic functions for numu  -  domeff\n",
      "dataLoader: Systematic functions for nutau  -  hole_ice\n",
      "dataLoader: Systematic functions for nutau  -  domeff\n",
      "dataLoader: Systematic functions for nc  -  hole_ice\n",
      "dataLoader: Systematic functions for nc  -  domeff\n",
      "dataLoader: Systematic functions for atmmu  -  domeff\n",
      "dataLoader: Combining systematics for  nue\n",
      "dataLoader: Combining systematics for  numu\n",
      "dataLoader: Combining systematics for  nutau\n",
      "dataLoader: Combining systematics for  nc\n",
      "dataLoader: Combining systematics for  atmmu\n"
     ]
    }
   ],
   "source": [
    "loader4 =  dataLoader.dataLoader(observables = \n",
    "                                ['reco_energy', 'reco_zenith'],# 'reco_energy'],\n",
    "                                bin_edges   =    \n",
    "                                [np.array([70.795,  158.489]),\n",
    "                                 np.arccos(np.linspace(-1,0.,9))[::-1]],\n",
    "                                user = 'quickstart', \n",
    "                                LEaxis = [],      \n",
    "                                weight_keys = ['weight_e', 'weight_mu', 'weight_mu_pi'],\n",
    "                                detsys_nuspecs = {'domeff': [1., 1],\n",
    "                                                  'hole_ice': [0.02, 2]},\n",
    "                                detsys_muspecs = {'domeff': [1.0, -1]},\n",
    "                                table_nbins = False,\n",
    "                                use_kde_bg  = True,\n",
    "                                use_kde_sys = False,\n",
    "                                detsys_redo = False,\n",
    "                                verbose = False)"
   ]
  },
  {
   "cell_type": "code",
   "execution_count": null,
   "metadata": {
    "collapsed": true
   },
   "outputs": [],
   "source": []
  },
  {
   "cell_type": "code",
   "execution_count": null,
   "metadata": {
    "collapsed": true
   },
   "outputs": [],
   "source": []
  },
  {
   "cell_type": "code",
   "execution_count": null,
   "metadata": {
    "collapsed": true
   },
   "outputs": [],
   "source": []
  },
  {
   "cell_type": "code",
   "execution_count": null,
   "metadata": {
    "collapsed": true
   },
   "outputs": [],
   "source": []
  },
  {
   "cell_type": "code",
   "execution_count": 28,
   "metadata": {
    "collapsed": false
   },
   "outputs": [
    {
     "name": "stdout",
     "output_type": "stream",
     "text": [
      "Baseline correction test\n",
      "Mean should be close to zero; the std should be small [0.05,0.1]\n",
      "\n",
      "nue_histo  correction\n",
      " mean -0.00344193049716 , std 0.0652145092525\n",
      "numu_histo  correction\n",
      " mean -0.00188597288132 , std 0.0410567784482\n",
      "nutau_histo  correction\n",
      " mean -0.00255589137035 , std 0.117583437444\n",
      "nc_histo  correction\n",
      " mean 0.00634716204329 , std 0.109744179833\n"
     ]
    }
   ],
   "source": [
    "# Test - magnitude of the baseline correction\n",
    "# Compare the baseline correction vs original baseline mc set\n",
    "print 'Baseline correction test'\n",
    "print 'Mean should be close to zero; the std should be small [0.05,0.1]\\n'\n",
    "nu_corrected     = loader.getFullNuHistogram()\n",
    "nu_no_correction = loader.getFullNuHistogram({'add_detector_systematics':False})\n",
    "for histo in ['nue_histo','numu_histo','nutau_histo','nc_histo']:\n",
    "    correction = (nu_corrected[histo] - nu_no_correction[histo] )/nu_no_correction[histo]\n",
    "    print histo, ' correction\\n mean', correction.mean(), ', std', correction.std()\n",
    "\n"
   ]
  },
  {
   "cell_type": "code",
   "execution_count": 29,
   "metadata": {
    "collapsed": false
   },
   "outputs": [
    {
     "name": "stdout",
     "output_type": "stream",
     "text": [
      "AtmMu correction\n",
      " mean -0.0436899890724 , std 0.0235560695541\n"
     ]
    }
   ],
   "source": [
    "# Do the muons as well\n",
    "atmmu_corrected = loader.getFullAtmMuHistogram()\n",
    "atmmu_no_correction = loader.getFullAtmMuHistogram({'add_detector_systematics':False})\n",
    "correction = (atmmu_corrected - atmmu_no_correction)/atmmu_no_correction\n",
    "print 'AtmMu correction\\n mean', correction.mean(), ', std', correction.std()"
   ]
  },
  {
   "cell_type": "code",
   "execution_count": 30,
   "metadata": {
    "collapsed": false
   },
   "outputs": [
    {
     "data": {
      "text/plain": [
       "<module 'oscfit_default_values' from '/home/jp/projects/icecube/oscFit_Tania/modules/oscfit_default_values.pyc'>"
      ]
     },
     "execution_count": 30,
     "metadata": {},
     "output_type": "execute_result"
    }
   ],
   "source": [
    "import oscfit_default_values as dv\n",
    "reload(dv)"
   ]
  },
  {
   "cell_type": "code",
   "execution_count": 31,
   "metadata": {
    "collapsed": false
   },
   "outputs": [
    {
     "data": {
      "text/plain": [
       "array([  7.058e-10,   7.593e-10,   7.061e-10, ...,   8.498e-10,   6.366e-10,   1.074e-09])"
      ]
     },
     "execution_count": 31,
     "metadata": {},
     "output_type": "execute_result"
    }
   ],
   "source": [
    "loader.numu['baseline']['CC']['weight_mu']"
   ]
  },
  {
   "cell_type": "code",
   "execution_count": 32,
   "metadata": {
    "collapsed": false
   },
   "outputs": [
    {
     "name": "stdout",
     "output_type": "stream",
     "text": [
      "dataLoader: atmmu_norm  0.0 , noise_norm 1.0\n"
     ]
    }
   ],
   "source": [
    "dv.default_data_settings['nu_pi_scale'] = 1.\n",
    "data1 = loader.loadMCasData(settings=dv.default_data_settings)"
   ]
  },
  {
   "cell_type": "code",
   "execution_count": 33,
   "metadata": {
    "collapsed": false
   },
   "outputs": [
    {
     "name": "stdout",
     "output_type": "stream",
     "text": [
      "dataLoader: atmmu_norm  0.0 , noise_norm 1.0\n"
     ]
    }
   ],
   "source": [
    "dv.default_data_settings['nu_pi_scale'] = 0.\n",
    "data2 = loader.loadMCasData(settings=dv.default_data_settings)\n"
   ]
  },
  {
   "cell_type": "code",
   "execution_count": 35,
   "metadata": {
    "collapsed": false
   },
   "outputs": [
    {
     "data": {
      "text/plain": [
       "2135.5775027668892"
      ]
     },
     "execution_count": 35,
     "metadata": {},
     "output_type": "execute_result"
    }
   ],
   "source": [
    "data2.sum()"
   ]
  },
  {
   "cell_type": "code",
   "execution_count": 9,
   "metadata": {
    "collapsed": false
   },
   "outputs": [
    {
     "data": {
      "text/plain": [
       "1.0"
      ]
     },
     "execution_count": 9,
     "metadata": {},
     "output_type": "execute_result"
    }
   ],
   "source": [
    "dv.default_data_settings['norm_nu']"
   ]
  },
  {
   "cell_type": "code",
   "execution_count": 10,
   "metadata": {
    "collapsed": false
   },
   "outputs": [
    {
     "data": {
      "text/plain": [
       "['vtxz',\n",
       " 'ma_qe',\n",
       " 'interaction',\n",
       " 'zenith',\n",
       " 'weight_mu',\n",
       " 'energy',\n",
       " 'pid',\n",
       " 'ptype',\n",
       " 'weight_e',\n",
       " 'reco_energy',\n",
       " 'oneweight',\n",
       " 'ma_res',\n",
       " 'scattering',\n",
       " 'reco_zenith']"
      ]
     },
     "execution_count": 10,
     "metadata": {},
     "output_type": "execute_result"
    }
   ],
   "source": [
    "loader.numu['baseline']['CC'].keys()"
   ]
  },
  {
   "cell_type": "code",
   "execution_count": 11,
   "metadata": {
    "collapsed": false
   },
   "outputs": [],
   "source": [
    "loader.calculateEventParams(params=dv.default_data_settings, output_name = 'test')"
   ]
  },
  {
   "cell_type": "code",
   "execution_count": 12,
   "metadata": {
    "collapsed": false
   },
   "outputs": [
    {
     "data": {
      "text/plain": [
       "2279.3769753009633"
      ]
     },
     "execution_count": 12,
     "metadata": {},
     "output_type": "execute_result"
    }
   ],
   "source": [
    "(np.sum(loader.nue['baseline']['CC']['out_weight'])+\n",
    "np.sum(loader.nue['baseline']['NC']['out_weight'])+\n",
    "np.sum(loader.numu['baseline']['CC']['out_weight'])+\n",
    "np.sum(loader.numu['baseline']['NC']['out_weight'])+\n",
    "np.sum(loader.nutau['baseline']['CC']['out_weight'])+\n",
    "np.sum(loader.atmmu['baseline']['out_weight']))\n"
   ]
  },
  {
   "cell_type": "code",
   "execution_count": 10,
   "metadata": {
    "collapsed": false
   },
   "outputs": [],
   "source": [
    "data = pickle.load(open('/home/jp/projects/icecube/oscFit_data/tables/oscFit_quickstart_data/test.pckl'))"
   ]
  },
  {
   "cell_type": "code",
   "execution_count": 11,
   "metadata": {
    "collapsed": false
   },
   "outputs": [],
   "source": [
    "w = 0\n",
    "for x in data.keys():\n",
    "    w += np.sum(data[x]['out_weight'])"
   ]
  },
  {
   "cell_type": "code",
   "execution_count": 12,
   "metadata": {
    "collapsed": false
   },
   "outputs": [
    {
     "data": {
      "text/plain": [
       "['vtxz',\n",
       " 'ma_qe',\n",
       " 'interaction',\n",
       " 'zenith',\n",
       " 'weight_mu',\n",
       " 'energy',\n",
       " 'pid',\n",
       " 'ptype',\n",
       " 'out_weight',\n",
       " 'weight_e',\n",
       " 'reco_energy',\n",
       " 'oneweight',\n",
       " 'ma_res',\n",
       " 'scattering',\n",
       " 'reco_zenith']"
      ]
     },
     "execution_count": 12,
     "metadata": {},
     "output_type": "execute_result"
    }
   ],
   "source": [
    "data['numu'].keys()"
   ]
  },
  {
   "cell_type": "code",
   "execution_count": 13,
   "metadata": {
    "collapsed": false
   },
   "outputs": [
    {
     "name": "stdout",
     "output_type": "stream",
     "text": [
      "2279.3769753\n"
     ]
    }
   ],
   "source": [
    "print w"
   ]
  },
  {
   "cell_type": "code",
   "execution_count": 14,
   "metadata": {
    "collapsed": false
   },
   "outputs": [
    {
     "data": {
      "text/plain": [
       "(0.6, 0.7853981633974483)"
      ]
     },
     "execution_count": 14,
     "metadata": {},
     "output_type": "execute_result"
    },
    {
     "data": {
      "image/png": "[encoded data removed]",
      "text/plain": [
       "<matplotlib.figure.Figure at 0x7f72a0537c50>"
      ]
     },
     "metadata": {},
     "output_type": "display_data"
    }
   ],
   "source": [
    "import numpy as np\n",
    "x = np.linspace(0, np.pi/2.)\n",
    "plt.plot(x, np.sin(2*x)**2)\n",
    "plt.xlim([0.6, np.pi/4])"
   ]
  },
  {
   "cell_type": "code",
   "execution_count": 75,
   "metadata": {
    "collapsed": false
   },
   "outputs": [
    {
     "data": {
      "text/plain": [
       "<module 'oscfit_default_values' from '/home/jp/projects/icecube/oscFit/modules/oscfit_default_values.py'>"
      ]
     },
     "execution_count": 75,
     "metadata": {},
     "output_type": "execute_result"
    }
   ],
   "source": [
    "tArgs       = [ \"dm31\",  \"theta23\", \"theta13\",\"mix_angle\", \"norm\",\"gamma\", \"norm_e\", \"norm_tau\", \"nu_nubar\",\"nubar_ratio\", \"uphor_ratio\",\n",
    "                            \"atmmu_f\", \"noise_f\",\"hi_fwd\", \"dm41\", \"theta24\", \"theta34\", \"norm_nc\", \"pid_bias\", \"domeff\", \"had_escale\", \"hole_ice\",\n",
    "                            \"axm_qe\", \"axm_res\" ]\n",
    "import oscfit_default_values as of\n",
    "reload(of)"
   ]
  },
  {
   "cell_type": "code",
   "execution_count": 77,
   "metadata": {
    "collapsed": false
   },
   "outputs": [],
   "source": [
    "tArgs.sort()\n",
    "of.fit_keys.sort()"
   ]
  },
  {
   "cell_type": "code",
   "execution_count": 78,
   "metadata": {
    "collapsed": false
   },
   "outputs": [
    {
     "data": {
      "text/plain": [
       "True"
      ]
     },
     "execution_count": 78,
     "metadata": {},
     "output_type": "execute_result"
    }
   ],
   "source": [
    "tArgs == of.fit_keys"
   ]
  },
  {
   "cell_type": "code",
   "execution_count": 139,
   "metadata": {
    "collapsed": false
   },
   "outputs": [
    {
     "name": "stdout",
     "output_type": "stream",
     "text": [
      "[ 0.04 -9.88  0.95]\n"
     ]
    },
    {
     "data": {
      "text/plain": [
       "[<matplotlib.lines.Line2D at 0x7f2086e4ae10>]"
      ]
     },
     "execution_count": 139,
     "metadata": {},
     "output_type": "execute_result"
    },
    {
     "data": {
      "image/png": "[encoded data removed]",
      "text/plain": [
       "<matplotlib.figure.Figure at 0x7f20866b18d0>"
      ]
     },
     "metadata": {},
     "output_type": "display_data"
    }
   ],
   "source": [
    "xpoints = np.linspace(0.8, 1.2, 100)\n",
    "detsys = 'domeff'\n",
    "ptype = 'atmmu'\n",
    "ei, zi = 1,1\n",
    "xnominal = loader.detsys[ptype][detsys]['xnominal']\n",
    "print loader.detsys[ptype][detsys]['coeffs'][ei,zi,0]\n",
    "fcn = sf.exp_func(*loader.detsys[ptype][detsys]['coeffs'][ei,zi,0], x0=1.)\n",
    "y = fcn(xpoints)\n",
    "plt.plot(xpoints, y)\n",
    "plt.plot(loader.detsys[ptype][detsys]['xpoints'],\n",
    "         loader.detsys[ptype][detsys]['y'][:,ei,zi,0]/loader.detsys[ptype][detsys]['y'][xnominal,ei,zi,0], 'x')\n"
   ]
  },
  {
   "cell_type": "code",
   "execution_count": 131,
   "metadata": {
    "collapsed": false
   },
   "outputs": [
    {
     "name": "stdout",
     "output_type": "stream",
     "text": [
      "[  0.02 -17.01   1.  ]\n"
     ]
    },
    {
     "data": {
      "image/png": "[encoded data removed]",
      "text/plain": [
       "<matplotlib.figure.Figure at 0x7f2086839790>"
      ]
     },
     "metadata": {},
     "output_type": "display_data"
    }
   ],
   "source": [
    "reload(sf)\n",
    "from scipy.optimize import curve_fit\n",
    "# Let's create a bunch of points\n",
    "xvalues = np.linspace(0.8, 1.2, 3)\n",
    "yvalues = 0.9+0.1*np.exp(-13.2*(xvalues-1.0)/1.0)\n",
    "yvalues +=np.random.rand(len(yvalues))*0.3\n",
    "\n",
    "xvalues = np.array([ 0.85,  1. ,   1.04 , 1.2  , 1.3 ])\n",
    "yvalues = np.array([ 1.22 , 1.02 ,   1.  ,  1. ,   1.  ])\n",
    "\n",
    "\n",
    "plt.plot(xvalues, yvalues, 'x')\n",
    "\n",
    "# Try do a fit myself\n",
    "f = lambda x,a,b,c: sf.exp_func.eval(x,a,b,c,x0=1.)\n",
    "opt, cov = curve_fit(f, xvalues, yvalues,\n",
    "                    p0=[0.1, -2, 0.8])\n",
    "one_fit = sf.exp_func(*opt, x0=1.)\n",
    "plt.plot(xvalues, one_fit(xvalues), 'xr')\n",
    "print opt"
   ]
  },
  {
   "cell_type": "code",
   "execution_count": null,
   "metadata": {
    "collapsed": true
   },
   "outputs": [],
   "source": [
    "xpoints = np.linspace(0.8, 1.2, 100)\n",
    "detsys = 'domeff'\n",
    "ptype = 'atmmu'\n",
    "ei, zi = 1,1\n",
    "xnominal = loader.detsys[ptype][detsys]['xnominal']\n",
    "print loader.detsys[ptype][detsys]['coeffs'][ei,zi,0]\n",
    "fcn = exp_func(*loader.detsys[ptype][detsys]['coeffs'][ei,zi,0], \n",
    "               x0 = loader.detsys[ptype][detsys]['xpoints'][xnominal])\n",
    "y = fcn(xpoints)\n",
    "plt.plot(xpoints, y)\n",
    "plt.plot(loader.detsys[ptype][detsys]['xpoints'],\n",
    "         loader.detsys[ptype][detsys]['y'][:,ei,zi,0]/loader.detsys[ptype][detsys]['y'][xnominal,ei,zi,0], 'x')\n"
   ]
  },
  {
   "cell_type": "code",
   "execution_count": 42,
   "metadata": {
    "collapsed": false
   },
   "outputs": [
    {
     "data": {
      "text/plain": [
       "[<matplotlib.lines.Line2D at 0x7f20881420d0>]"
      ]
     },
     "execution_count": 42,
     "metadata": {},
     "output_type": "execute_result"
    },
    {
     "data": {
      "image/png": "[encoded data removed]",
      "text/plain": [
       "<matplotlib.figure.Figure at 0x7f20888461d0>"
      ]
     },
     "metadata": {},
     "output_type": "display_data"
    }
   ],
   "source": [
    "plt.plot(xpoints,\n",
    "        exp_func.eval(xpoints, 1., -10, 1.))\n",
    "plt.plot(xpoints,\n",
    "        exp_func.eval(xpoints, 0.5, -12, 1.)+1.3)"
   ]
  },
  {
   "cell_type": "code",
   "execution_count": 110,
   "metadata": {
    "collapsed": false
   },
   "outputs": [
    {
     "data": {
      "text/plain": [
       "[<matplotlib.lines.Line2D at 0x7f9d6e616e10>]"
      ]
     },
     "execution_count": 110,
     "metadata": {},
     "output_type": "execute_result"
    },
    {
     "data": {
      "image/png": "[encoded data removed]",
      "text/plain": [
       "<matplotlib.figure.Figure at 0x7f9d6f204d50>"
      ]
     },
     "metadata": {},
     "output_type": "display_data"
    }
   ],
   "source": [
    "ptype='numu'\n",
    "detsys = 'domeff'\n",
    "xnominal = loader.detsys[ptype][detsys]['xnominal']\n",
    "plt.plot(loader.detsys[ptype][detsys]['xpoints'],\n",
    "         loader.detsys[ptype][detsys]['y'][:,3,6,0]/loader.detsys[ptype][detsys]['y'][xnominal,3,6,0], 'x')\n",
    "xpoints = np.linspace(0.85, 1.15, 200)\n",
    "plt.plot(xpoints, np.poly1d(loader.detsys[ptype][detsys]['coeffs'][3,6,0,:])(xpoints))"
   ]
  },
  {
   "cell_type": "code",
   "execution_count": 201,
   "metadata": {
    "collapsed": false
   },
   "outputs": [
    {
     "data": {
      "text/plain": [
       "[<matplotlib.lines.Line2D at 0x7f2086e91b90>]"
      ]
     },
     "execution_count": 201,
     "metadata": {},
     "output_type": "execute_result"
    },
    {
     "data": {
      "image/png": "[encoded data removed]",
      "text/plain": [
       "<matplotlib.figure.Figure at 0x7f2086512f90>"
      ]
     },
     "metadata": {},
     "output_type": "display_data"
    }
   ],
   "source": [
    "ptype='numu'\n",
    "detsys = 'hole_ice'\n",
    "xnominal = loader.detsys[ptype][detsys]['xnominal']\n",
    "plt.plot(loader.detsys[ptype][detsys]['xpoints'],\n",
    "         loader.detsys[ptype][detsys]['y'][:,3,6,0]/loader.detsys[ptype][detsys]['y'][xnominal,3,6,0], 'x')\n",
    "xpoints = np.linspace(0.007, 0.033, 200)\n",
    "plt.plot(xpoints, np.poly1d(loader.detsys[ptype][detsys]['coeffs'][3,6,0,:])(xpoints))"
   ]
  },
  {
   "cell_type": "code",
   "execution_count": 158,
   "metadata": {
    "collapsed": false
   },
   "outputs": [],
   "source": [
    "mylist = np.zeros_like(np.array([2,2]), dtype=object)"
   ]
  },
  {
   "cell_type": "code",
   "execution_count": 160,
   "metadata": {
    "collapsed": false
   },
   "outputs": [],
   "source": [
    "mylist[0] = exp_func"
   ]
  },
  {
   "cell_type": "code",
   "execution_count": 5,
   "metadata": {
    "collapsed": true
   },
   "outputs": [],
   "source": [
    "class exp_func:\n",
    "    def __init__(self,a, b, x0):\n",
    "        self.a, self.b, self.x0 = a, b, x0\n",
    "        \n",
    "    def __call__(self,x):\n",
    "        return self.eval(x, self.a, self.b, self.x0)\n",
    "        \n",
    "    def derive(self,x):\n",
    "        return np.array([np.exp(self.b*(x-self.x0)/self.x0), \n",
    "                         self.a*self.b/self.x0*np.exp(self.b*(x-self.x0)/self.x0)])\n",
    "        \n",
    "    @staticmethod\n",
    "    def eval(x, a, b, x0):\n",
    "        return a*np.exp(b*(x-x0)/x0)\n",
    "\n",
    "    @property\n",
    "    def coeffs(self):\n",
    "        return [self.a, self.b]\n",
    "\n",
    "    @coeffs.setter\n",
    "    def coeffs(self, val):\n",
    "        self.a, self.b = val"
   ]
  },
  {
   "cell_type": "code",
   "execution_count": null,
   "metadata": {
    "collapsed": true
   },
   "outputs": [],
   "source": []
  }
 ],
 "metadata": {
  "kernelspec": {
   "display_name": "Python 2",
   "language": "python",
   "name": "python2"
  },
  "language_info": {
   "codemirror_mode": {
    "name": "ipython",
    "version": 2
   },
   "file_extension": ".py",
   "mimetype": "text/x-python",
   "name": "python",
   "nbconvert_exporter": "python",
   "pygments_lexer": "ipython2",
   "version": "2.7.11"
  }
 },
 "nbformat": 4,
 "nbformat_minor": 0
}
