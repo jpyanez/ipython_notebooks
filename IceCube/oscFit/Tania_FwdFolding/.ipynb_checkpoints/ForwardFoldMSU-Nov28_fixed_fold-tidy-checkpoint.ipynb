{
 "cells": [
  {
   "cell_type": "markdown",
   "metadata": {
    "collapsed": true
   },
   "source": [
    "import os, sys\n",
    "#sys.path.append('/Users/trwood/oscFit3D_v2.0_Tania/resources/ipython_notebooks')\n",
    "sys.path.append('/Users/trwood/oscFit3D_v2.0_Tania_clean/oscFit3D_v2.0_Tania_Nov28_fwdFold')\n",
    "sys.path.append('/Users/trwood/MSU_sample_sept2016/oscfit/MSU_tania_repickle/oscfitv2_repickle')"
   ]
  },
  {
   "cell_type": "code",
   "execution_count": 4,
   "metadata": {
    "collapsed": false
   },
   "outputs": [],
   "source": [
    "import sys, os\n",
    "modules_dir = '/home/jp/projects/icecube/oscFit_Tania/modules'"
   ]
  },
  {
   "cell_type": "code",
   "execution_count": 5,
   "metadata": {
    "collapsed": false
   },
   "outputs": [],
   "source": [
    "#modules_dir = '/Users/trwood/oscFit3D_v2.0_Tania_clean/oscFit3D_v2.0_Tania_Nov28_fwdFold/modules/'\n",
    "sys.path.append(modules_dir)\n",
    "# Importing modules\n",
    "import pickle\n",
    "import dataLoader, oscFit\n",
    "import numpy as np\n",
    "import oscfit_default_values as defs\n",
    "from copy import deepcopy"
   ]
  },
  {
   "cell_type": "markdown",
   "metadata": {
    "collapsed": true
   },
   "source": [
    "data_dir = '/Users/trwood/MSU_sample_sept2016/data/'\n",
    "#sim_dir = '/Users/trwood/MSU_sample_sept2016/oscfit/'\n",
    "sim_dir = '/Users/trwood/MSU_sample_sept2016/oscfit/MSU_tania_repickle/oscfitv2_repickle/'"
   ]
  },
  {
   "cell_type": "code",
   "execution_count": 6,
   "metadata": {
    "collapsed": false
   },
   "outputs": [],
   "source": [
    "true_axis = np.array([[0.01, 10.],[10., 20.],[20.,40.],[40., np.inf]])"
   ]
  },
  {
   "cell_type": "code",
   "execution_count": null,
   "metadata": {
    "collapsed": false
   },
   "outputs": [
    {
     "name": "stdout",
     "output_type": "stream",
     "text": [
      "\n",
      " ************************************ \n",
      " **** oscFit3D v1.1 - dataLoader ****\n",
      " ************************************\n",
      "\n",
      "dataLoader: Initializing user msu_no_background_noData_baselineONLY\n"
     ]
    }
   ],
   "source": [
    "#msu_no_background_noData_baselineONLY.py\n",
    "loader_nobkrd_a =  dataLoader.dataLoader(observables =\n",
    "                                ['reco_energy', 'reco_zenith', 'delta_llh'],\n",
    "                                bin_edges   =\n",
    "                                #no events below 10GeV so start binning at 1\n",
    "                                #smarter way cut out the frist 3 bins.  \n",
    "                                #retain the same binning but get rid of below 10GeV\n",
    "                                  #was 10**np.linspace([0.75,1.25,2])\n",
    "                                [10**np.linspace(0.875,1.75,9),\n",
    "                                 np.arccos(np.linspace(-1.,1.,9))[::-1],\n",
    "                                 np.array([-3, 2, np.inf])],\n",
    "                                 user = 'msu_no_background_noData_baselineONLY',\n",
    "                                LEaxis = [],#np.linspace(1, 3.2, 21),      \n",
    "                                #tells the fit if you want to use the polynomial or not\n",
    "                                #do linear instead (see one at end of brackets\n",
    "                #ask about nuspecs and muspecs.. not in msu original user i have as reference\n",
    "                #but i want this to be as similar to my larson evaluation as possible\n",
    "                                detsys_nuspecs = {},\n",
    "                                detsys_muspecs = {},\n",
    "                                weight_keys = ['tweight_e', 'tweight_mu_k', 'tweight_mu_p'],\n",
    "                                extra_cuts = {'energy':true_axis[0]},\n",
    "                                detsys_redo = True,\n",
    "                                verbose = False,\n",
    "                                table_nbins = 150)"
   ]
  },
  {
   "cell_type": "code",
   "execution_count": 23,
   "metadata": {
    "collapsed": true
   },
   "outputs": [],
   "source": [
    "#make a fully new copy of loader_dict, ie don't just copy the location of the pointer\n",
    "loader_dict = deepcopy(loader_nobkrd_a.iniDict)"
   ]
  },
  {
   "cell_type": "code",
   "execution_count": 24,
   "metadata": {
    "collapsed": true
   },
   "outputs": [],
   "source": [
    "#change this entry in the \n",
    "loader_dict['extra_cuts'] =  {'energy':true_axis[1]}\n"
   ]
  },
  {
   "cell_type": "code",
   "execution_count": null,
   "metadata": {
    "collapsed": false
   },
   "outputs": [
    {
     "name": "stdout",
     "output_type": "stream",
     "text": [
      "\n",
      " ************************************ \n",
      " **** oscFit3D v1.1 - dataLoader ****\n",
      " ************************************\n",
      "\n",
      "dataLoader: Initializing user msu_no_background_noData_baselineONLY\n"
     ]
    }
   ],
   "source": [
    "loader_nobkrd_b= dataLoader.dataLoader(**loader_dict)"
   ]
  },
  {
   "cell_type": "code",
   "execution_count": null,
   "metadata": {
    "collapsed": false
   },
   "outputs": [],
   "source": [
    "loader_dict['extra_cuts'] =  {'energy':true_axis[2]}\n",
    "loader_nobkrd_c= dataLoader.dataLoader(**loader_dict)"
   ]
  },
  {
   "cell_type": "code",
   "execution_count": 10,
   "metadata": {
    "collapsed": false
   },
   "outputs": [
    {
     "name": "stdout",
     "output_type": "stream",
     "text": [
      "\n",
      " ************************************ \n",
      " **** oscFit3D v1.1 - dataLoader ****\n",
      " ************************************\n",
      "\n",
      "dataLoader: Initializing user msu_no_background_noData_baselineONLY\n",
      "dataLoader: MC loaded successfully!\n",
      "dataLoader: Muon background templates loaded successfully!\n",
      "dataLoader: Generating new systematic histograms\n",
      "dataLoader: No MC for atmospheric muons\n",
      "dataLoader: Done loading systematic variations\n",
      "dataLoader: Combining systematics for  nue\n",
      "dataLoader: Not building systematic functions for nue\n",
      "dataLoader: Combining systematics for  numu\n",
      "dataLoader: Not building systematic functions for numu\n",
      "dataLoader: Combining systematics for  nutau\n",
      "dataLoader: Not building systematic functions for nutau\n",
      "dataLoader: Combining systematics for  nc\n",
      "dataLoader: Not building systematic functions for nc\n",
      "dataLoader: Combining systematics for  atmmu\n",
      "dataLoader: Not building systematic functions for atmmu\n"
     ]
    }
   ],
   "source": [
    "loader_dict['extra_cuts'] =  {'energy':true_axis[3]}\n",
    "loader_nobkrd_d= dataLoader.dataLoader(**loader_dict)"
   ]
  },
  {
   "cell_type": "code",
   "execution_count": 11,
   "metadata": {
    "collapsed": false
   },
   "outputs": [
    {
     "name": "stdout",
     "output_type": "stream",
     "text": [
      "\n",
      " ************************************ \n",
      " **** oscFit3D v1.1 - dataLoader ****\n",
      " ************************************\n",
      "\n",
      "dataLoader: Initializing user new_finalized_msu_20122014_holeice\n",
      "dataLoader: MC loaded successfully!\n",
      "dataLoader: Muon background templates loaded successfully!\n",
      "dataLoader: Generating new systematic histograms\n",
      "dataLoader: Requesting hole_ice mu systematic which is not defined in user. Removing.\n",
      "dataLoader: Requesting domeff mu systematic which is not defined in user. Removing.\n",
      "dataLoader: No MC for atmospheric muons\n",
      "dataLoader: Done loading systematic variations\n",
      "dataLoader: Systematic functions for nue  -  hole_ice\n",
      "dataLoader: Systematic functions for nue  -  domeff\n",
      "dataLoader: Systematic functions for numu  -  hole_ice\n",
      "dataLoader: Systematic functions for numu  -  domeff\n",
      "dataLoader: Systematic functions for nutau  -  hole_ice\n",
      "dataLoader: Systematic functions for nutau  -  domeff\n",
      "dataLoader: Systematic functions for nc  -  hole_ice\n",
      "dataLoader: Systematic functions for nc  -  domeff\n",
      "dataLoader: Combining systematics for  nue\n",
      "dataLoader: Combining systematics for  numu\n",
      "dataLoader: Combining systematics for  nutau\n",
      "dataLoader: Combining systematics for  nc\n",
      "dataLoader: Combining systematics for  atmmu\n",
      "dataLoader: Not building systematic functions for atmmu\n"
     ]
    }
   ],
   "source": [
    "loader_bkrd_nu =  dataLoader.dataLoader(observables =\n",
    "                                ['reco_energy', 'reco_zenith', 'delta_llh'],\n",
    "                                bin_edges   =\n",
    "                                #no events below 10GeV so start binning at 1\n",
    "                                #smarter way cut out the frist 3 bins.  \n",
    "                                #retain the same binning but get rid of below 10GeV\n",
    "                                [10**np.linspace(0.75,1.75,9),\n",
    "                                 np.arccos(np.linspace(-1.,1.,9))[::-1],\n",
    "                                 np.array([-3, 2, np.inf])],\n",
    "                                 user = 'new_finalized_msu_20122014_holeice',\n",
    "                                LEaxis = [],#np.linspace(1, 3.2, 21),      \n",
    "                                #tells the fit if you want to use the polynomial or not\n",
    "                                #do linear instead (see one at end of brackets\n",
    "                #ask about nuspecs and muspecs.. not in msu original user i have as reference\n",
    "                #but i want this to be as similar to my larson evaluation as possible\n",
    "                                detsys_nuspecs = {'domeff': [1.,1],\n",
    "                                                 'hole_ice': [0.02,1]},\n",
    "                                detsys_muspecs = {'domeff': [1.,0],\n",
    "                                                 'hole_ice': [0.02,1]},\n",
    "                                weight_keys = ['tweight_e', 'tweight_mu_k', 'tweight_mu_p'],\n",
    "                                detsys_redo = True,\n",
    "                                verbose = False,\n",
    "                                table_nbins = 150)"
   ]
  },
  {
   "cell_type": "code",
   "execution_count": 28,
   "metadata": {
    "collapsed": false
   },
   "outputs": [],
   "source": [
    "data_settings = deepcopy(defs.default_data_settings)\n",
    "data_settings.update({'dm31':                  0.0025,\n",
    "                   'theta23':                  0.78,\n",
    "                   'theta13':                  0.155,\n",
    "                   'norm_tau':                 1.,\n",
    "                   'axm_qe':                   0.,\n",
    "                   'axm_res':                  0.,\n",
    "                   'norm_nu':                  3.6, # In years!\n",
    "                   'norm_e':                   1.,\n",
    "                   'domeff':                   1.,\n",
    "                   'nu_pi_scale':              1.,\n",
    "                   'hole_ice':                 0.02,\n",
    "                   'atmmu_template':           'data',\n",
    "                   'simulation':               'baseline',\n",
    "                   'oscTables':                'False',\n",
    "                   'oscMode':                  'Vacuum',\n",
    "                   'ma_variations':            False,\n",
    "                   'add_detector_systematics': False,\n",
    "                   'norm_atmu':                0.0,\n",
    "                   'pid_bias':                0.,\n",
    "                   'domeff':                   1.,\n",
    "                   'hole_ice':                 0.02,\n",
    "                   'hi_fwd':                   0., # MSU parameterization of the forward impact angle\n",
    "                   'had_escale':               1.,\n",
    "                   'oscMode':                  'Vacuum',\n",
    "                   'ma_variations':            False,\n",
    "                   'add_detector_systematics': False,   \n",
    "                   'norm_noise':                0.0})\n",
    "\n",
    "#data_settings = {  'dm31':                     0.0025,\n",
    "#                   'theta23':                  0.78,\n",
    "#                 'norm_nu':                  3.6, # In years!\n",
    "#                   'norm_tau':                 1.,\n",
    "#                 'domeff':                   1.,\n",
    "#                   'nu_pi_scale':              1.,\n",
    "#                   'hole_ice':                 0.02,\n",
    "        #          'atmmu_template':           'new_data', \n",
    "#                   'atmmu_template':           'data',\n",
    "#                   'simulation':               'baseline',\n",
    "#                   'oscTables':                'False',\n",
    "#                   'axm_qe':                   0.,\n",
    " #                  'axm_res':                  0.,\n",
    "                 #  'pid_bias':                 0.,\n",
    "#                   'domeff':                   1.,\n",
    "##                   'hole_ice':                 0.02,\n",
    " #                  'hi_fwd':                   0., # MSU parameterization of the forward impact angle\n",
    "#                  'had_escale':               1.,\n",
    "#                   'oscMode':                  'Vacuum',\n",
    "##                   'ma_variations':            True,\n",
    " #                  'add_detector_systematics': True}"
   ]
  },
  {
   "cell_type": "code",
   "execution_count": 26,
   "metadata": {
    "collapsed": false
   },
   "outputs": [
    {
     "name": "stdout",
     "output_type": "stream",
     "text": [
      "\n",
      " ************************************ \n",
      " **** oscFit3D v1.1 - dataLoader ****\n",
      " ************************************\n",
      "\n",
      "dataLoader: Initializing user msu_BKGRND_only\n",
      "dataLoader: MC loaded successfully!\n",
      "dataLoader: Muon background templates loaded successfully!\n",
      "dataLoader: Generating new systematic histograms\n",
      "dataLoader: No MC for atmospheric muons\n",
      "dataLoader: Done loading systematic variations\n",
      "dataLoader: Combining systematics for  nue\n",
      "dataLoader: Not building systematic functions for nue\n",
      "dataLoader: Combining systematics for  numu\n",
      "dataLoader: Not building systematic functions for numu\n",
      "dataLoader: Combining systematics for  nutau\n",
      "dataLoader: Not building systematic functions for nutau\n",
      "dataLoader: Combining systematics for  nc\n",
      "dataLoader: Not building systematic functions for nc\n",
      "dataLoader: Combining systematics for  atmmu\n",
      "dataLoader: Not building systematic functions for atmmu\n"
     ]
    }
   ],
   "source": [
    "loader_pureBkrd =  dataLoader.dataLoader(observables =\n",
    "                                ['reco_energy', 'reco_zenith', 'delta_llh'],\n",
    "                                bin_edges   =\n",
    "                                #no events below 10GeV so start binning at 1\n",
    "                                #smarter way cut out the frist 3 bins.  \n",
    "                                #retain the same binning but get rid of below 10GeV\n",
    "                                [10**np.linspace(0.75,1.75,9),\n",
    "                                 np.arccos(np.linspace(-1.,1.,9))[::-1],\n",
    "                                 np.array([-3, 2, np.inf])],\n",
    "                                 user = 'msu_BKGRND_only',\n",
    "                                LEaxis = [],#np.linspace(1, 3.2, 21),      \n",
    "                                #tells the fit if you want to use the polynomial or not\n",
    "                                #do linear instead (see one at end of brackets\n",
    "                #ask about nuspecs and muspecs.. not in msu original user i have as reference\n",
    "                #but i want this to be as similar to my larson evaluation as possible\n",
    "                                detsys_nuspecs = {},\n",
    "                                detsys_muspecs = {},\n",
    "                                weight_keys = ['tweight_e', 'tweight_mu_k', 'tweight_mu_p'],\n",
    "                                detsys_redo = True,\n",
    "                                verbose = False,\n",
    "                                table_nbins = 150)"
   ]
  },
  {
   "cell_type": "code",
   "execution_count": 27,
   "metadata": {
    "collapsed": true
   },
   "outputs": [],
   "source": [
    "#data_settings = {  'dm31':                     0.0025,\n",
    "#                   'theta23':                  0.78,\n",
    "#                 'norm_nu':                  3.6, # In years!\n",
    "#                   'norm_tau':                 1.,\n",
    "#                 'domeff':                   1.,\n",
    "#                   'nu_pi_scale':              1.,\n",
    "#                   'hole_ice':                 0.02,\n",
    "        #          'atmmu_template':           'new_data', \n",
    "#                   'atmmu_template':           'data',\n",
    "#                   'simulation':               'baseline',\n",
    "#                   'oscTables':                'False',\n",
    "#                   'axm_qe':                   0.,\n",
    " #                  'axm_res':                  0.,\n",
    "                 #  'pid_bias':                 0.,\n",
    "#                   'domeff':                   1.,\n",
    "##                   'hole_ice':                 0.02,\n",
    " #                  'hi_fwd':                   0., # MSU parameterization of the forward impact angle\n",
    "#                  'had_escale':               1.,\n",
    "#                   'oscMode':                  'Vacuum',\n",
    "##                   'ma_variations':            True,\n",
    " #                  'add_detector_systematics': True}\n"
   ]
  },
  {
   "cell_type": "code",
   "execution_count": 29,
   "metadata": {
    "collapsed": false
   },
   "outputs": [
    {
     "name": "stdout",
     "output_type": "stream",
     "text": [
      "dataLoader: atmmu_norm  0.0 , noise_norm 0.0\n",
      "dataLoader: atmmu_norm  0.0 , noise_norm 0.0\n",
      "dataLoader: atmmu_norm  0.0 , noise_norm 0.0\n",
      "dataLoader: atmmu_norm  0.0 , noise_norm 0.0\n"
     ]
    }
   ],
   "source": [
    "data_hiso_a = loader_nobkrd_a.loadMCasData(data_settings,\n",
    "                                     statistical_fluctuations=False)\n",
    "data_hiso_b = loader_nobkrd_b.loadMCasData(data_settings,\n",
    "                                     statistical_fluctuations=False)\n",
    "data_histo_c = loader_nobkrd_c.loadMCasData(data_settings,\n",
    "                                     statistical_fluctuations=False)\n",
    "data_histo_d = loader_nobkrd_d.loadMCasData(data_settings,\n",
    "                                     statistical_fluctuations=False)"
   ]
  },
  {
   "cell_type": "code",
   "execution_count": 74,
   "metadata": {
    "collapsed": false
   },
   "outputs": [],
   "source": [
    "#data_settings.update({'norm_atmu':      100.})"
   ]
  },
  {
   "cell_type": "code",
   "execution_count": null,
   "metadata": {
    "collapsed": true
   },
   "outputs": [],
   "source": []
  },
  {
   "cell_type": "code",
   "execution_count": 30,
   "metadata": {
    "collapsed": false
   },
   "outputs": [
    {
     "name": "stdout",
     "output_type": "stream",
     "text": [
      "dataLoader: atmmu_norm  0.0 , noise_norm 0.0\n"
     ]
    }
   ],
   "source": [
    "data_histo_pureBKD = loader_pureBkrd.loadMCasData(data_settings,\n",
    "                               statistical_fluctuations=False)"
   ]
  },
  {
   "cell_type": "code",
   "execution_count": 31,
   "metadata": {
    "collapsed": false
   },
   "outputs": [
    {
     "name": "stdout",
     "output_type": "stream",
     "text": [
      "dataLoader: atmmu_norm  0.0 , noise_norm 0.0\n"
     ]
    }
   ],
   "source": [
    "data_histo_bkrd_PlusNu =loader_bkrd_nu.loadMCasData(data_settings,\n",
    "                                         statistical_fluctuations=False)"
   ]
  },
  {
   "cell_type": "code",
   "execution_count": 12,
   "metadata": {
    "collapsed": true
   },
   "outputs": [],
   "source": [
    "#need to check that my fit settings that I am fixing match the data settings\n",
    "\n",
    "fit_settings    = {\n",
    "    'simulation':     'baseline',\n",
    "    'dm31':           [0.0025, True, 'NH'],\n",
    "    'theta23':        [0.78, True],\n",
    "    'theta13':        [0.155, True],\n",
    "    'oscMode':        'TwoNeutrino',\n",
    "    'oscTables':      False,         #used to be False.  need to think about the tables.  need to understand resolution to set n bins\n",
    "    'norm':           [1., True],\n",
    "    'norm_1':         [1., True],    #minuit qestion \" is it Fixed? True means yes, it is fixed.\n",
    "    'norm_2':         [1., True], \n",
    "    'norm_3':         [1., True], \n",
    "    'norm_4':         [1., True], \n",
    "    'norm_e':         [1., True],\n",
    "    'norm_tau':       [1., True],\n",
    "    'nu_nubar':       [1., True],\n",
    "    'nubar_ratio':    [0., True],\n",
    "    'uphor_ratio':    [0., True],\n",
    "    'nu_pi_scale':    [1, True ],\n",
    "\n",
    "    'gamma':          [0., True],\n",
    "    'axm_qe':         [0., True],\n",
    "    'axm_res':        [0., True],\n",
    "    'pid_bias':       [0., True],\n",
    "    'hole_ice':       [0.02, True],\n",
    "    'mix_angle':      [0.95, True, 1.],\n",
    "\n",
    "    'norm_nc':        [1., True],\n",
    "    'domeff':         [1., True],\n",
    "    'had_escale':     [1., True],\n",
    "    'atmmu_f':        [0.05, True, 'data'],\n",
    "    'noise_f':        [0.0, True],\n",
    "    'detector_syst':  True,\n",
    "    'include_priors': True,\n",
    "    'printMode':      -1}\n"
   ]
  },
  {
   "cell_type": "code",
   "execution_count": 14,
   "metadata": {
    "collapsed": true
   },
   "outputs": [],
   "source": [
    "import iminuit"
   ]
  },
  {
   "cell_type": "code",
   "execution_count": 15,
   "metadata": {
    "collapsed": false
   },
   "outputs": [
    {
     "name": "stdout",
     "output_type": "stream",
     "text": [
      "\n",
      " ************************************ \n",
      " ****** oscFit3D v1.1 - oscFit ******\n",
      " ************************************\n",
      "\n"
     ]
    }
   ],
   "source": [
    "fitter = oscFit.fitOscParams()"
   ]
  },
  {
   "cell_type": "code",
   "execution_count": 16,
   "metadata": {
    "collapsed": true
   },
   "outputs": [],
   "source": [
    "#fit_priors = {'hole_ice':[0.02, 0.01],\n",
    "#              'gamma':[0.05, 0.1],\n",
    "#              'norm_e':[1., 0.2]}"
   ]
  },
  {
   "cell_type": "code",
   "execution_count": 17,
   "metadata": {
    "collapsed": false,
    "scrolled": false
   },
   "outputs": [
    {
     "ename": "NameError",
     "evalue": "name 'data_histo_bkrd_PlusNu' is not defined",
     "output_type": "error",
     "traceback": [
      "\u001b[0;31m---------------------------------------------------------------------------\u001b[0m",
      "\u001b[0;31mNameError\u001b[0m                                 Traceback (most recent call last)",
      "\u001b[0;32m<ipython-input-17-6e33c0ea4caf>\u001b[0m in \u001b[0;36m<module>\u001b[0;34m()\u001b[0m\n\u001b[0;32m----> 1\u001b[0;31m m, results=fitter(data_histograms=[data_histo_bkrd_PlusNu],\n\u001b[0m\u001b[1;32m      2\u001b[0m         \u001b[0mdata_loaders\u001b[0m\u001b[0;34m=\u001b[0m\u001b[0;34m[\u001b[0m\u001b[0mloader_nobkrd_a\u001b[0m\u001b[0;34m,\u001b[0m\u001b[0mloader_nobkrd_b\u001b[0m\u001b[0;34m,\u001b[0m\u001b[0mloader_nobkrd_c\u001b[0m\u001b[0;34m,\u001b[0m\u001b[0mloader_nobkrd_d\u001b[0m\u001b[0;34m,\u001b[0m\u001b[0mloader_pureBkrd\u001b[0m\u001b[0;34m]\u001b[0m\u001b[0;34m,\u001b[0m\u001b[0;34m\u001b[0m\u001b[0m\n\u001b[1;32m      3\u001b[0m               \u001b[0mfit_settings\u001b[0m\u001b[0;34m=\u001b[0m\u001b[0mfit_settings\u001b[0m\u001b[0;34m,\u001b[0m\u001b[0;34m\u001b[0m\u001b[0m\n\u001b[1;32m      4\u001b[0m                \u001b[0mncalls\u001b[0m               \u001b[0;34m=\u001b[0m \u001b[0;36m1000\u001b[0m\u001b[0;34m,\u001b[0m \u001b[0;31m# For migrad. Simplex will use twice the number.\u001b[0m\u001b[0;34m\u001b[0m\u001b[0m\n\u001b[1;32m      5\u001b[0m                \u001b[0mstore_fit_details\u001b[0m    \u001b[0;34m=\u001b[0m \u001b[0mTrue\u001b[0m\u001b[0;34m,\u001b[0m\u001b[0;34m\u001b[0m\u001b[0m\n",
      "\u001b[0;31mNameError\u001b[0m: name 'data_histo_bkrd_PlusNu' is not defined"
     ]
    }
   ],
   "source": [
    "m, results=fitter(data_histograms=[data_histo_bkrd_PlusNu],\n",
    "        data_loaders=[loader_nobkrd_a,loader_nobkrd_b,loader_nobkrd_c,loader_nobkrd_d,loader_pureBkrd],\n",
    "              fit_settings=fit_settings,\n",
    "               ncalls               = 1000, # For migrad. Simplex will use twice the number.\n",
    "               store_fit_details    = True,\n",
    "               return_minuit_object = True) "
   ]
  },
  {
   "cell_type": "code",
   "execution_count": 28,
   "metadata": {
    "collapsed": false
   },
   "outputs": [
    {
     "data": {
      "text/plain": [
       "['had_escale',\n",
       " 'nu_pi_scale',\n",
       " 'noise_f',\n",
       " 'pid_bias',\n",
       " 'fit_settings',\n",
       " 'hesse_errors',\n",
       " 'hi_fwd',\n",
       " 'llh',\n",
       " 'add_detector_systematics',\n",
       " 'oscMode',\n",
       " 'norm_4',\n",
       " 'atmmu_f',\n",
       " 'errors',\n",
       " 'norm_1',\n",
       " 'atmmu_template',\n",
       " 'parameters',\n",
       " 'norm_2',\n",
       " 'successful_fit',\n",
       " 'expected_events_mc',\n",
       " 'dm41',\n",
       " 'uphor_ratio',\n",
       " 'nonzero_bins',\n",
       " 'norm_noise',\n",
       " 'norm',\n",
       " 'norm_3',\n",
       " 'axm_res',\n",
       " 'norm_tau',\n",
       " 'norm_nu',\n",
       " 'min_routine',\n",
       " 'theta24',\n",
       " 'covariance',\n",
       " 'nubar_ratio',\n",
       " 'nu_nubar',\n",
       " 'norm_nc',\n",
       " 'domeff',\n",
       " 'norm_atmmu',\n",
       " 'hole_ice',\n",
       " 'dm31',\n",
       " 'corr_matrix',\n",
       " 'theta23',\n",
       " 'theta34',\n",
       " 'mix_angle',\n",
       " 'expected_events',\n",
       " 'simulation',\n",
       " 'norm_e',\n",
       " 'axm_qe',\n",
       " 'theta13',\n",
       " 'chi_squared',\n",
       " 'gamma']"
      ]
     },
     "execution_count": 28,
     "metadata": {},
     "output_type": "execute_result"
    }
   ],
   "source": [
    "m.keys()"
   ]
  },
  {
   "cell_type": "code",
   "execution_count": 29,
   "metadata": {
    "collapsed": false
   },
   "outputs": [
    {
     "data": {
      "text/plain": [
       "array([[  1.000e+00,  -2.805e-02,   9.475e-04,  -4.740e-02,   2.883e-03,   1.169e-02,  -1.231e-01,  -1.514e-01],\n",
       "       [ -2.805e-02,   1.000e+00,  -3.038e-02,  -2.758e-02,  -1.307e-02,  -1.770e-02,  -1.482e-01,  -4.261e-01],\n",
       "       [  9.475e-04,  -3.038e-02,   1.000e+00,   9.729e-01,   9.908e-01,   9.759e-01,  -1.296e-02,   7.828e-02],\n",
       "       [ -4.740e-02,  -2.758e-02,   9.729e-01,   1.000e+00,   9.747e-01,   9.854e-01,   2.208e-02,   1.000e-01],\n",
       "       [  2.883e-03,  -1.307e-02,   9.908e-01,   9.747e-01,   1.000e+00,   9.686e-01,   7.001e-03,   3.445e-02],\n",
       "       [  1.169e-02,  -1.770e-02,   9.759e-01,   9.854e-01,   9.686e-01,   1.000e+00,   1.070e-02,   6.658e-02],\n",
       "       [ -1.231e-01,  -1.482e-01,  -1.296e-02,   2.208e-02,   7.001e-03,   1.070e-02,   1.000e+00,   2.151e-01],\n",
       "       [ -1.514e-01,  -4.261e-01,   7.828e-02,   1.000e-01,   3.445e-02,   6.658e-02,   2.151e-01,   1.000e+00]])"
      ]
     },
     "execution_count": 29,
     "metadata": {},
     "output_type": "execute_result"
    }
   ],
   "source": [
    "m['corr_matrix']"
   ]
  },
  {
   "cell_type": "code",
   "execution_count": 31,
   "metadata": {
    "collapsed": false
   },
   "outputs": [
    {
     "data": {
      "text/plain": [
       "<function draw_contour>"
      ]
     },
     "execution_count": 31,
     "metadata": {},
     "output_type": "execute_result"
    }
   ],
   "source": [
    "results.draw_contour\n"
   ]
  },
  {
   "cell_type": "code",
   "execution_count": 32,
   "metadata": {
    "collapsed": false
   },
   "outputs": [
    {
     "data": {
      "text/plain": [
       "{('atmmu_f', 'atmmu_f'): 1.3847761360625646e-05,\n",
       " ('atmmu_f', 'dm31'): -6.009110618380078e-08,\n",
       " ('atmmu_f', 'mix_angle'): -3.643821787344139e-05,\n",
       " ('atmmu_f', 'norm_1'): 4.8047285386258146e-05,\n",
       " ('atmmu_f', 'norm_2'): 7.084561159157681e-05,\n",
       " ('atmmu_f', 'norm_3'): 3.23196784888177e-05,\n",
       " ('atmmu_f', 'norm_4'): 5.648789575105459e-05,\n",
       " ('atmmu_f', 'norm_e'): 2.9965235143206883e-05,\n",
       " ('dm31', 'atmmu_f'): -6.009110618380078e-08,\n",
       " ('dm31', 'dm31'): 1.1371557738279194e-08,\n",
       " ('dm31', 'mix_angle'): -6.874630173198849e-08,\n",
       " ('dm31', 'norm_1'): 1.666614554907548e-08,\n",
       " ('dm31', 'norm_2'): -9.62213237069124e-07,\n",
       " ('dm31', 'norm_3'): 7.751323986210123e-08,\n",
       " ('dm31', 'norm_4'): 2.843106793718634e-07,\n",
       " ('dm31', 'norm_e'): -4.913921656071694e-07,\n",
       " ('mix_angle', 'atmmu_f'): -3.643821787344139e-05,\n",
       " ('mix_angle', 'dm31'): -6.874630173198849e-08,\n",
       " ('mix_angle', 'mix_angle'): 0.0005280516220352491,\n",
       " ('mix_angle', 'norm_1'): -0.0001151411957750638,\n",
       " ('mix_angle', 'norm_2'): -0.00012063728200047963,\n",
       " ('mix_angle', 'norm_3'): -7.573337056998273e-05,\n",
       " ('mix_angle', 'norm_4'): -9.271926087187516e-05,\n",
       " ('mix_angle', 'norm_e'): -0.00012747513864274526,\n",
       " ('norm_1', 'atmmu_f'): 4.8047285386258146e-05,\n",
       " ('norm_1', 'dm31'): 1.666614554907548e-08,\n",
       " ('norm_1', 'mix_angle'): -0.0001151411957750638,\n",
       " ('norm_1', 'norm_1'): 0.027207403847643124,\n",
       " ('norm_1', 'norm_2'): 0.030549994126805043,\n",
       " ('norm_1', 'norm_3'): 0.04120056290562084,\n",
       " ('norm_1', 'norm_4'): 0.036702222148585734,\n",
       " ('norm_1', 'norm_e'): -8.004451742899326e-05,\n",
       " ('norm_2', 'atmmu_f'): 7.084561159157681e-05,\n",
       " ('norm_2', 'dm31'): -9.62213237069124e-07,\n",
       " ('norm_2', 'mix_angle'): -0.00012063728200047963,\n",
       " ('norm_2', 'norm_1'): 0.030549994126805043,\n",
       " ('norm_2', 'norm_2'): 0.03623743010932396,\n",
       " ('norm_2', 'norm_3'): 0.04677553956167278,\n",
       " ('norm_2', 'norm_4'): 0.04277210431312155,\n",
       " ('norm_2', 'norm_e'): 0.00015732729678956015,\n",
       " ('norm_3', 'atmmu_f'): 3.23196784888177e-05,\n",
       " ('norm_3', 'dm31'): 7.751323986210123e-08,\n",
       " ('norm_3', 'mix_angle'): -7.573337056998273e-05,\n",
       " ('norm_3', 'norm_1'): 0.04120056290562084,\n",
       " ('norm_3', 'norm_2'): 0.04677553956167278,\n",
       " ('norm_3', 'norm_3'): 0.06355623816807729,\n",
       " ('norm_3', 'norm_4'): 0.0556749614433426,\n",
       " ('norm_3', 'norm_e'): 6.606440947339292e-05,\n",
       " ('norm_4', 'atmmu_f'): 5.648789575105459e-05,\n",
       " ('norm_4', 'dm31'): 2.843106793718634e-07,\n",
       " ('norm_4', 'mix_angle'): -9.271926087187516e-05,\n",
       " ('norm_4', 'norm_1'): 0.036702222148585734,\n",
       " ('norm_4', 'norm_2'): 0.04277210431312155,\n",
       " ('norm_4', 'norm_3'): 0.0556749614433426,\n",
       " ('norm_4', 'norm_4'): 0.05198734080477303,\n",
       " ('norm_4', 'norm_e'): 9.136023301353084e-05,\n",
       " ('norm_e', 'atmmu_f'): 2.9965235143206883e-05,\n",
       " ('norm_e', 'dm31'): -4.913921656071694e-07,\n",
       " ('norm_e', 'mix_angle'): -0.00012747513864274526,\n",
       " ('norm_e', 'norm_1'): -8.004451742899326e-05,\n",
       " ('norm_e', 'norm_2'): 0.00015732729678956015,\n",
       " ('norm_e', 'norm_3'): 6.606440947339292e-05,\n",
       " ('norm_e', 'norm_4'): 9.136023301353084e-05,\n",
       " ('norm_e', 'norm_e'): 0.001401249035042769}"
      ]
     },
     "execution_count": 32,
     "metadata": {},
     "output_type": "execute_result"
    }
   ],
   "source": [
    "results.covariance"
   ]
  },
  {
   "cell_type": "code",
   "execution_count": null,
   "metadata": {
    "collapsed": true
   },
   "outputs": [],
   "source": []
  }
 ],
 "metadata": {
  "kernelspec": {
   "display_name": "Python 2",
   "language": "python",
   "name": "python2"
  },
  "language_info": {
   "codemirror_mode": {
    "name": "ipython",
    "version": 2
   },
   "file_extension": ".py",
   "mimetype": "text/x-python",
   "name": "python",
   "nbconvert_exporter": "python",
   "pygments_lexer": "ipython2",
   "version": "2.7.11"
  }
 },
 "nbformat": 4,
 "nbformat_minor": 0
}
