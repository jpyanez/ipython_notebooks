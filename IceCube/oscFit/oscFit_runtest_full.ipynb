{
 "cells": [
  {
   "cell_type": "code",
   "execution_count": 1,
   "metadata": {
    "collapsed": false
   },
   "outputs": [
    {
     "data": {
      "text/plain": [
       "<module 'dataLoader' from '/home/jp/projects/icecube/oscFit/modules/dataLoader.pyc'>"
      ]
     },
     "execution_count": 1,
     "metadata": {},
     "output_type": "execute_result"
    }
   ],
   "source": [
    "import os, sys\n",
    "import matplotlib.pyplot as plt\n",
    "%matplotlib inline \n",
    "sys.path.append('/home/jp/projects/python_tools')\n",
    "import jp_mpl as jplot\n",
    "sys.path.append('/home/jp/projects/icecube/oscFit/modules')\n",
    "import pickle, dataLoader\n",
    "import numpy as np\n",
    "from copy import deepcopy\n",
    "reload(dataLoader)"
   ]
  },
  {
   "cell_type": "code",
   "execution_count": 2,
   "metadata": {
    "collapsed": false,
    "scrolled": false
   },
   "outputs": [
    {
     "name": "stdout",
     "output_type": "stream",
     "text": [
      "\n",
      " ************************************ \n",
      " **** oscFit3D v1.1 - dataLoader ****\n",
      " ************************************\n",
      "\n",
      "dataLoader: Initializing user quickstart\n",
      "dataLoader: Dummy observable(s) created to use 3D histograms\n",
      "dataLoader: KDE is set ON, importing KDE tools\n",
      "KDE_tools: KDE tool imported successfully.\n",
      "dataLoader: Trying to load systematic histograms from file\n",
      "Reading from file\n",
      "dataLoader: MC loaded successfully!\n",
      "dataLoader: Start loading muon MC (baseline_only= True , use_kde= False , quantile= (0.0, 1.0) ).\n",
      "dataLoader: Muon background templates loaded successfully!\n",
      "dataLoader: Systematic functions for nue  -  hole_ice\n",
      "dataLoader: Systematic functions for nue  -  domeff\n",
      "dataLoader: Systematic functions for numu  -  hole_ice\n",
      "dataLoader: Systematic functions for numu  -  domeff\n",
      "dataLoader: Systematic functions for nutau  -  hole_ice\n",
      "dataLoader: Systematic functions for nutau  -  domeff\n",
      "dataLoader: Systematic functions for nc  -  hole_ice\n",
      "dataLoader: Systematic functions for nc  -  domeff\n",
      "dataLoader: Combining systematics for  nue\n",
      "dataLoader: Combining systematics for  numu\n",
      "dataLoader: Combining systematics for  nutau\n",
      "dataLoader: Combining systematics for  nc\n",
      "dataLoader: Combining systematics for  atmmu\n",
      "dataLoader: Not building systematic functions for atmmu\n"
     ]
    }
   ],
   "source": [
    "loader =  dataLoader.dataLoader(observables = \n",
    "                                ['reco_energy', 'reco_zenith'],# 'reco_energy'],\n",
    "                                bin_edges   =    \n",
    "                                [10**np.linspace(0.8,1.75,9),\n",
    "                                 np.arccos(np.linspace(-1,0.,9))[::-1]],\n",
    "                                user = 'quickstart', \n",
    "                                LEaxis = [],      \n",
    "                                weight_keys = ['weight_e', 'weight_mu'],\n",
    "                                detsys_nuspecs = {'domeff': [1., 1],\n",
    "                                                  'hole_ice': [0.02, 2]},\n",
    "                                detsys_muspecs = {'domeff': [1.0, -1]},\n",
    "                                table_nbins = 150,\n",
    "                                use_kde_bg  = False,\n",
    "                                use_kde_sys = True,\n",
    "                                detsys_redo = False,\n",
    "                                verbose = False)"
   ]
  },
  {
   "cell_type": "code",
   "execution_count": 3,
   "metadata": {
    "collapsed": false
   },
   "outputs": [
    {
     "data": {
      "text/plain": [
       "1.0036930545226268"
      ]
     },
     "execution_count": 3,
     "metadata": {},
     "output_type": "execute_result"
    }
   ],
   "source": [
    "loader.sysfcn['nue']['baseline_correction'][1,1,0](1)"
   ]
  },
  {
   "cell_type": "code",
   "execution_count": 4,
   "metadata": {
    "collapsed": false
   },
   "outputs": [],
   "source": [
    "test1 = loader.getFullNuHistogram({'uphor_ratio':1., 'fluxTables':False, 'oscTables':True})\n",
    "test2 = loader.getFullNuHistogram({'uphor_ratio':1., 'fluxTables':False, 'oscTables':False})"
   ]
  },
  {
   "cell_type": "code",
   "execution_count": 5,
   "metadata": {
    "collapsed": false
   },
   "outputs": [
    {
     "name": "stdout",
     "output_type": "stream",
     "text": [
      "[[[  9997.5 ]\n",
      "  [  9998.27]\n",
      "  [  9998.55]\n",
      "  [  9999.03]\n",
      "  [  9999.04]\n",
      "  [  9999.53]\n",
      "  [  9999.59]\n",
      "  [  9999.84]]\n",
      "\n",
      " [[  9998.59]\n",
      "  [  9999.3 ]\n",
      "  [  9999.43]\n",
      "  [  9999.47]\n",
      "  [  9999.69]\n",
      "  [  9999.65]\n",
      "  [  9999.77]\n",
      "  [  9999.91]]\n",
      "\n",
      " [[  9999.33]\n",
      "  [  9999.61]\n",
      "  [  9999.74]\n",
      "  [  9999.78]\n",
      "  [  9999.71]\n",
      "  [  9999.71]\n",
      "  [  9999.76]\n",
      "  [  9999.9 ]]\n",
      "\n",
      " [[  9999.62]\n",
      "  [  9999.82]\n",
      "  [  9999.83]\n",
      "  [  9999.89]\n",
      "  [  9999.86]\n",
      "  [  9999.86]\n",
      "  [  9999.86]\n",
      "  [  9999.95]]\n",
      "\n",
      " [[  9999.88]\n",
      "  [  9999.91]\n",
      "  [  9999.95]\n",
      "  [  9999.96]\n",
      "  [  9999.92]\n",
      "  [  9999.92]\n",
      "  [  9999.93]\n",
      "  [  9999.94]]\n",
      "\n",
      " [[  9999.95]\n",
      "  [  9999.96]\n",
      "  [  9999.96]\n",
      "  [  9999.98]\n",
      "  [  9999.97]\n",
      "  [  9999.98]\n",
      "  [  9999.98]\n",
      "  [ 10000.01]]\n",
      "\n",
      " [[  9999.98]\n",
      "  [  9999.99]\n",
      "  [  9999.99]\n",
      "  [  9999.99]\n",
      "  [  9999.98]\n",
      "  [  9999.99]\n",
      "  [  9999.98]\n",
      "  [ 10000.  ]]\n",
      "\n",
      " [[  9999.99]\n",
      "  [ 10000.  ]\n",
      "  [  9999.99]\n",
      "  [  9999.99]\n",
      "  [  9999.99]\n",
      "  [  9999.99]\n",
      "  [ 10000.  ]\n",
      "  [ 10000.01]]]\n"
     ]
    }
   ],
   "source": [
    "print 10000*test1['numu_histo']/test2['numu_histo']"
   ]
  },
  {
   "cell_type": "code",
   "execution_count": 6,
   "metadata": {
    "collapsed": true
   },
   "outputs": [],
   "source": [
    "loader.modFlux.modNuBar_NuE?"
   ]
  },
  {
   "cell_type": "code",
   "execution_count": 7,
   "metadata": {
    "collapsed": false
   },
   "outputs": [
    {
     "name": "stdout",
     "output_type": "stream",
     "text": [
      "Baseline correction test\n",
      "Mean should be close to zero; the std should be small [0.05,0.1]\n",
      "\n",
      "nue_histo  correction\n",
      " mean -0.00436663404833 , std 0.0409532475699\n",
      "numu_histo  correction\n",
      " mean 0.000975220644245 , std 0.020415015953\n",
      "nutau_histo  correction\n",
      " mean -0.00553368339314 , std 0.0552121499304\n",
      "nc_histo  correction\n",
      " mean -0.0037236462367 , std 0.0551815880052\n"
     ]
    }
   ],
   "source": [
    "# Test - magnitude of the baseline correction\n",
    "# Compare the baseline correction vs original baseline mc set\n",
    "print 'Baseline correction test'\n",
    "print 'Mean should be close to zero; the std should be small [0.05,0.1]\\n'\n",
    "nu_corrected     = loader.getFullNuHistogram()\n",
    "nu_no_correction = loader.getFullNuHistogram({'add_detector_systematics':False})\n",
    "for histo in ['nue_histo','numu_histo','nutau_histo','nc_histo']:\n",
    "    correction = (nu_corrected[histo] - nu_no_correction[histo] )/nu_no_correction[histo]\n",
    "    print histo, ' correction\\n mean', correction.mean(), ', std', correction.std()\n",
    "\n"
   ]
  },
  {
   "cell_type": "code",
   "execution_count": 8,
   "metadata": {
    "collapsed": false
   },
   "outputs": [
    {
     "data": {
      "text/plain": [
       "<matplotlib.colorbar.Colorbar at 0x7f32a00fd490>"
      ]
     },
     "execution_count": 8,
     "metadata": {},
     "output_type": "execute_result"
    },
    {
     "data": {
      "image/png": "[encoded data removed]",
      "text/plain": [
       "<matplotlib.figure.Figure at 0x7f3272d1e3d0>"
      ]
     },
     "metadata": {},
     "output_type": "display_data"
    }
   ],
   "source": [
    "plt.pcolor(correction[:,:,0])\n",
    "plt.colorbar()"
   ]
  },
  {
   "cell_type": "code",
   "execution_count": 9,
   "metadata": {
    "collapsed": false
   },
   "outputs": [
    {
     "ename": "KeyError",
     "evalue": "'baseline'",
     "output_type": "error",
     "traceback": [
      "\u001b[1;31m---------------------------------------------------------------------------\u001b[0m",
      "\u001b[1;31mKeyError\u001b[0m                                  Traceback (most recent call last)",
      "\u001b[1;32m<ipython-input-9-8b3160b27bb2>\u001b[0m in \u001b[0;36m<module>\u001b[1;34m()\u001b[0m\n\u001b[0;32m      1\u001b[0m \u001b[1;31m# Do the muons as well\u001b[0m\u001b[1;33m\u001b[0m\u001b[1;33m\u001b[0m\u001b[0m\n\u001b[1;32m----> 2\u001b[1;33m \u001b[0matmmu_corrected\u001b[0m \u001b[1;33m=\u001b[0m \u001b[0mloader\u001b[0m\u001b[1;33m.\u001b[0m\u001b[0mgetFullAtmMuHistogram\u001b[0m\u001b[1;33m(\u001b[0m\u001b[1;33m)\u001b[0m\u001b[1;33m\u001b[0m\u001b[0m\n\u001b[0m\u001b[0;32m      3\u001b[0m \u001b[0matmmu_no_correction\u001b[0m \u001b[1;33m=\u001b[0m \u001b[0mloader\u001b[0m\u001b[1;33m.\u001b[0m\u001b[0mgetFullAtmMuHistogram\u001b[0m\u001b[1;33m(\u001b[0m\u001b[1;33m{\u001b[0m\u001b[1;34m'add_detector_systematics'\u001b[0m\u001b[1;33m:\u001b[0m\u001b[0mFalse\u001b[0m\u001b[1;33m}\u001b[0m\u001b[1;33m)\u001b[0m\u001b[1;33m\u001b[0m\u001b[0m\n\u001b[0;32m      4\u001b[0m \u001b[0mcorrection\u001b[0m \u001b[1;33m=\u001b[0m \u001b[1;33m(\u001b[0m\u001b[0matmmu_corrected\u001b[0m \u001b[1;33m-\u001b[0m \u001b[0matmmu_no_correction\u001b[0m\u001b[1;33m)\u001b[0m\u001b[1;33m/\u001b[0m\u001b[0matmmu_no_correction\u001b[0m\u001b[1;33m\u001b[0m\u001b[0m\n\u001b[0;32m      5\u001b[0m \u001b[1;32mprint\u001b[0m \u001b[1;34m'AtmMu correction\\n mean'\u001b[0m\u001b[1;33m,\u001b[0m \u001b[0mcorrection\u001b[0m\u001b[1;33m.\u001b[0m\u001b[0mmean\u001b[0m\u001b[1;33m(\u001b[0m\u001b[1;33m)\u001b[0m\u001b[1;33m,\u001b[0m \u001b[1;34m', std'\u001b[0m\u001b[1;33m,\u001b[0m \u001b[0mcorrection\u001b[0m\u001b[1;33m.\u001b[0m\u001b[0mstd\u001b[0m\u001b[1;33m(\u001b[0m\u001b[1;33m)\u001b[0m\u001b[1;33m\u001b[0m\u001b[0m\n",
      "\u001b[1;32m/home/jp/projects/icecube/oscFit/modules/dataLoader.pyc\u001b[0m in \u001b[0;36mgetFullAtmMuHistogram\u001b[1;34m(self, inparams, use_kde, return_weights)\u001b[0m\n\u001b[0;32m   1121\u001b[0m         \u001b[1;32mif\u001b[0m \u001b[0muse_kde\u001b[0m \u001b[1;32mand\u001b[0m \u001b[0mparams\u001b[0m\u001b[1;33m[\u001b[0m\u001b[1;34m'simulation'\u001b[0m\u001b[1;33m]\u001b[0m \u001b[1;33m==\u001b[0m \u001b[1;34m'baseline'\u001b[0m\u001b[1;33m:\u001b[0m\u001b[1;33m\u001b[0m\u001b[0m\n\u001b[0;32m   1122\u001b[0m                 \u001b[0matmmu_histo\u001b[0m \u001b[1;33m=\u001b[0m \u001b[0mdeepcopy\u001b[0m\u001b[1;33m(\u001b[0m \u001b[0mself\u001b[0m\u001b[1;33m.\u001b[0m\u001b[0mbaseline_sys_kde\u001b[0m\u001b[1;33m[\u001b[0m\u001b[1;34m\"atmmu_histo\"\u001b[0m\u001b[1;33m]\u001b[0m \u001b[1;33m)\u001b[0m\u001b[1;33m\u001b[0m\u001b[0m\n\u001b[1;32m-> 1123\u001b[1;33m         \u001b[1;32melse\u001b[0m\u001b[1;33m:\u001b[0m   \u001b[0matmmu_histo\u001b[0m \u001b[1;33m=\u001b[0m \u001b[0mself\u001b[0m\u001b[1;33m.\u001b[0m\u001b[0mgetAtmMuHistogram\u001b[0m\u001b[1;33m(\u001b[0m\u001b[0mparams\u001b[0m\u001b[1;33m,\u001b[0m \u001b[0muse_kde\u001b[0m \u001b[1;33m=\u001b[0m \u001b[0muse_kde\u001b[0m\u001b[1;33m,\u001b[0m \u001b[0mreturn_weights\u001b[0m \u001b[1;33m=\u001b[0m \u001b[0mreturn_weights\u001b[0m\u001b[1;33m)\u001b[0m\u001b[1;33m\u001b[0m\u001b[0m\n\u001b[0m\u001b[0;32m   1124\u001b[0m \u001b[1;33m\u001b[0m\u001b[0m\n\u001b[0;32m   1125\u001b[0m         \u001b[1;31m# Applying the detector-related systematics\u001b[0m\u001b[1;33m\u001b[0m\u001b[1;33m\u001b[0m\u001b[0m\n",
      "\u001b[1;32m/home/jp/projects/icecube/oscFit/modules/dataLoader.pyc\u001b[0m in \u001b[0;36mgetAtmMuHistogram\u001b[1;34m(self, inparams, weight_power, use_kde, return_weights)\u001b[0m\n\u001b[0;32m   1052\u001b[0m \u001b[1;33m\u001b[0m\u001b[0m\n\u001b[0;32m   1053\u001b[0m         \u001b[1;31m# Apply the changes in the PID\u001b[0m\u001b[1;33m\u001b[0m\u001b[1;33m\u001b[0m\u001b[0m\n\u001b[1;32m-> 1054\u001b[1;33m         \u001b[0mself\u001b[0m\u001b[1;33m.\u001b[0m\u001b[0matmmu\u001b[0m\u001b[1;33m[\u001b[0m\u001b[0mparams\u001b[0m\u001b[1;33m[\u001b[0m\u001b[1;34m'simulation'\u001b[0m\u001b[1;33m]\u001b[0m\u001b[1;33m]\u001b[0m\u001b[1;33m[\u001b[0m\u001b[0mself\u001b[0m\u001b[1;33m.\u001b[0m\u001b[0mobservables\u001b[0m\u001b[1;33m[\u001b[0m\u001b[1;33m-\u001b[0m\u001b[1;36m1\u001b[0m\u001b[1;33m]\u001b[0m\u001b[1;33m]\u001b[0m \u001b[1;33m+=\u001b[0m \u001b[0mparams\u001b[0m\u001b[1;33m[\u001b[0m\u001b[1;34m'pid_bias'\u001b[0m\u001b[1;33m]\u001b[0m\u001b[1;33m\u001b[0m\u001b[0m\n\u001b[0m\u001b[0;32m   1055\u001b[0m \u001b[1;33m\u001b[0m\u001b[0m\n\u001b[0;32m   1056\u001b[0m         \u001b[1;31m# Store the weights\u001b[0m\u001b[1;33m\u001b[0m\u001b[1;33m\u001b[0m\u001b[0m\n",
      "\u001b[1;31mKeyError\u001b[0m: 'baseline'"
     ]
    }
   ],
   "source": [
    "# Do the muons as well\n",
    "atmmu_corrected = loader.getFullAtmMuHistogram()\n",
    "atmmu_no_correction = loader.getFullAtmMuHistogram({'add_detector_systematics':False})\n",
    "correction = (atmmu_corrected - atmmu_no_correction)/atmmu_no_correction\n",
    "print 'AtmMu correction\\n mean', correction.mean(), ', std', correction.std()"
   ]
  },
  {
   "cell_type": "code",
   "execution_count": 10,
   "metadata": {
    "collapsed": false
   },
   "outputs": [
    {
     "data": {
      "text/plain": [
       "<module 'oscfit_default_values' from '/home/jp/projects/icecube/oscFit/modules/oscfit_default_values.pyc'>"
      ]
     },
     "execution_count": 10,
     "metadata": {},
     "output_type": "execute_result"
    }
   ],
   "source": [
    "import oscfit_default_values as dv\n",
    "reload(dv)"
   ]
  },
  {
   "cell_type": "code",
   "execution_count": 11,
   "metadata": {
    "collapsed": false
   },
   "outputs": [],
   "source": [
    "dv.default_data_settings['norm_e'] = 1.1\n",
    "dv.default_data_settings['hole_ice'] = 0.015\n",
    "dv.default_data_settings['domeff'] = 1.05\n",
    "dv.default_data_settings['atmmu_template']='data'"
   ]
  },
  {
   "cell_type": "code",
   "execution_count": 12,
   "metadata": {
    "collapsed": false
   },
   "outputs": [
    {
     "name": "stdout",
     "output_type": "stream",
     "text": [
      "dataLoader: atmmu_norm  0.0 , noise_norm 1.0\n"
     ]
    }
   ],
   "source": [
    "mydata = loader.loadMCasData(settings=dv.default_data_settings)"
   ]
  },
  {
   "cell_type": "code",
   "execution_count": 13,
   "metadata": {
    "collapsed": false
   },
   "outputs": [
    {
     "data": {
      "text/plain": [
       "1.0"
      ]
     },
     "execution_count": 13,
     "metadata": {},
     "output_type": "execute_result"
    }
   ],
   "source": [
    "dv.default_data_settings['norm_nu']"
   ]
  },
  {
   "cell_type": "code",
   "execution_count": 14,
   "metadata": {
    "collapsed": false
   },
   "outputs": [
    {
     "data": {
      "text/plain": [
       "['ebin',\n",
       " 'vtxz',\n",
       " 'ma_qe',\n",
       " 'interaction',\n",
       " 'zenith',\n",
       " 'weight_mu',\n",
       " 'energy',\n",
       " 'pid',\n",
       " 'ptype',\n",
       " 'zbin',\n",
       " 'weight_e',\n",
       " 'logE',\n",
       " 'oneweight',\n",
       " 'coszbin',\n",
       " 'reco_zenith',\n",
       " 'ma_res',\n",
       " 'scattering',\n",
       " 'logebin',\n",
       " 'reco_energy']"
      ]
     },
     "execution_count": 14,
     "metadata": {},
     "output_type": "execute_result"
    }
   ],
   "source": [
    "loader.numu['baseline']['CC'].keys()"
   ]
  },
  {
   "cell_type": "code",
   "execution_count": 15,
   "metadata": {
    "collapsed": false
   },
   "outputs": [
    {
     "ename": "KeyError",
     "evalue": "'baseline'",
     "output_type": "error",
     "traceback": [
      "\u001b[1;31m---------------------------------------------------------------------------\u001b[0m",
      "\u001b[1;31mKeyError\u001b[0m                                  Traceback (most recent call last)",
      "\u001b[1;32m<ipython-input-15-0cea2095ea78>\u001b[0m in \u001b[0;36m<module>\u001b[1;34m()\u001b[0m\n\u001b[1;32m----> 1\u001b[1;33m \u001b[0mloader\u001b[0m\u001b[1;33m.\u001b[0m\u001b[0mcalculateEventParams\u001b[0m\u001b[1;33m(\u001b[0m\u001b[0mparams\u001b[0m\u001b[1;33m=\u001b[0m\u001b[0mdv\u001b[0m\u001b[1;33m.\u001b[0m\u001b[0mdefault_data_settings\u001b[0m\u001b[1;33m,\u001b[0m \u001b[0moutput_name\u001b[0m \u001b[1;33m=\u001b[0m \u001b[1;34m'test'\u001b[0m\u001b[1;33m)\u001b[0m\u001b[1;33m\u001b[0m\u001b[0m\n\u001b[0m",
      "\u001b[1;32m/home/jp/projects/icecube/oscFit/modules/dataLoader.pyc\u001b[0m in \u001b[0;36mcalculateEventParams\u001b[1;34m(self, params, output_name)\u001b[0m\n\u001b[0;32m   1154\u001b[0m         \u001b[1;31m# These instructions will get the detsys factors and the neutrino/muon weights\u001b[0m\u001b[1;33m\u001b[0m\u001b[1;33m\u001b[0m\u001b[0m\n\u001b[0;32m   1155\u001b[0m         \u001b[0mself\u001b[0m\u001b[1;33m.\u001b[0m\u001b[0mgetFullNuHistogram\u001b[0m\u001b[1;33m(\u001b[0m\u001b[0minparams\u001b[0m \u001b[1;33m=\u001b[0m \u001b[0mparams\u001b[0m\u001b[1;33m,\u001b[0m \u001b[0mreturn_weights\u001b[0m \u001b[1;33m=\u001b[0m \u001b[0mTrue\u001b[0m\u001b[1;33m)\u001b[0m\u001b[1;33m\u001b[0m\u001b[0m\n\u001b[1;32m-> 1156\u001b[1;33m         \u001b[0mself\u001b[0m\u001b[1;33m.\u001b[0m\u001b[0mgetFullAtmMuHistogram\u001b[0m\u001b[1;33m(\u001b[0m\u001b[0minparams\u001b[0m \u001b[1;33m=\u001b[0m \u001b[0mparams\u001b[0m\u001b[1;33m,\u001b[0m \u001b[0mreturn_weights\u001b[0m \u001b[1;33m=\u001b[0m \u001b[0mTrue\u001b[0m\u001b[1;33m)\u001b[0m\u001b[1;33m\u001b[0m\u001b[0m\n\u001b[0m\u001b[0;32m   1157\u001b[0m \u001b[1;33m\u001b[0m\u001b[0m\n\u001b[0;32m   1158\u001b[0m         \u001b[0mparams\u001b[0m\u001b[1;33m[\u001b[0m\u001b[1;34m'norm_nu'\u001b[0m\u001b[1;33m]\u001b[0m \u001b[1;33m*=\u001b[0m \u001b[0mself\u001b[0m\u001b[1;33m.\u001b[0m\u001b[0msec2years\u001b[0m\u001b[1;33m\u001b[0m\u001b[0m\n",
      "\u001b[1;32m/home/jp/projects/icecube/oscFit/modules/dataLoader.pyc\u001b[0m in \u001b[0;36mgetFullAtmMuHistogram\u001b[1;34m(self, inparams, use_kde, return_weights)\u001b[0m\n\u001b[0;32m   1121\u001b[0m         \u001b[1;32mif\u001b[0m \u001b[0muse_kde\u001b[0m \u001b[1;32mand\u001b[0m \u001b[0mparams\u001b[0m\u001b[1;33m[\u001b[0m\u001b[1;34m'simulation'\u001b[0m\u001b[1;33m]\u001b[0m \u001b[1;33m==\u001b[0m \u001b[1;34m'baseline'\u001b[0m\u001b[1;33m:\u001b[0m\u001b[1;33m\u001b[0m\u001b[0m\n\u001b[0;32m   1122\u001b[0m                 \u001b[0matmmu_histo\u001b[0m \u001b[1;33m=\u001b[0m \u001b[0mdeepcopy\u001b[0m\u001b[1;33m(\u001b[0m \u001b[0mself\u001b[0m\u001b[1;33m.\u001b[0m\u001b[0mbaseline_sys_kde\u001b[0m\u001b[1;33m[\u001b[0m\u001b[1;34m\"atmmu_histo\"\u001b[0m\u001b[1;33m]\u001b[0m \u001b[1;33m)\u001b[0m\u001b[1;33m\u001b[0m\u001b[0m\n\u001b[1;32m-> 1123\u001b[1;33m         \u001b[1;32melse\u001b[0m\u001b[1;33m:\u001b[0m   \u001b[0matmmu_histo\u001b[0m \u001b[1;33m=\u001b[0m \u001b[0mself\u001b[0m\u001b[1;33m.\u001b[0m\u001b[0mgetAtmMuHistogram\u001b[0m\u001b[1;33m(\u001b[0m\u001b[0mparams\u001b[0m\u001b[1;33m,\u001b[0m \u001b[0muse_kde\u001b[0m \u001b[1;33m=\u001b[0m \u001b[0muse_kde\u001b[0m\u001b[1;33m,\u001b[0m \u001b[0mreturn_weights\u001b[0m \u001b[1;33m=\u001b[0m \u001b[0mreturn_weights\u001b[0m\u001b[1;33m)\u001b[0m\u001b[1;33m\u001b[0m\u001b[0m\n\u001b[0m\u001b[0;32m   1124\u001b[0m \u001b[1;33m\u001b[0m\u001b[0m\n\u001b[0;32m   1125\u001b[0m         \u001b[1;31m# Applying the detector-related systematics\u001b[0m\u001b[1;33m\u001b[0m\u001b[1;33m\u001b[0m\u001b[0m\n",
      "\u001b[1;32m/home/jp/projects/icecube/oscFit/modules/dataLoader.pyc\u001b[0m in \u001b[0;36mgetAtmMuHistogram\u001b[1;34m(self, inparams, weight_power, use_kde, return_weights)\u001b[0m\n\u001b[0;32m   1052\u001b[0m \u001b[1;33m\u001b[0m\u001b[0m\n\u001b[0;32m   1053\u001b[0m         \u001b[1;31m# Apply the changes in the PID\u001b[0m\u001b[1;33m\u001b[0m\u001b[1;33m\u001b[0m\u001b[0m\n\u001b[1;32m-> 1054\u001b[1;33m         \u001b[0mself\u001b[0m\u001b[1;33m.\u001b[0m\u001b[0matmmu\u001b[0m\u001b[1;33m[\u001b[0m\u001b[0mparams\u001b[0m\u001b[1;33m[\u001b[0m\u001b[1;34m'simulation'\u001b[0m\u001b[1;33m]\u001b[0m\u001b[1;33m]\u001b[0m\u001b[1;33m[\u001b[0m\u001b[0mself\u001b[0m\u001b[1;33m.\u001b[0m\u001b[0mobservables\u001b[0m\u001b[1;33m[\u001b[0m\u001b[1;33m-\u001b[0m\u001b[1;36m1\u001b[0m\u001b[1;33m]\u001b[0m\u001b[1;33m]\u001b[0m \u001b[1;33m+=\u001b[0m \u001b[0mparams\u001b[0m\u001b[1;33m[\u001b[0m\u001b[1;34m'pid_bias'\u001b[0m\u001b[1;33m]\u001b[0m\u001b[1;33m\u001b[0m\u001b[0m\n\u001b[0m\u001b[0;32m   1055\u001b[0m \u001b[1;33m\u001b[0m\u001b[0m\n\u001b[0;32m   1056\u001b[0m         \u001b[1;31m# Store the weights\u001b[0m\u001b[1;33m\u001b[0m\u001b[1;33m\u001b[0m\u001b[0m\n",
      "\u001b[1;31mKeyError\u001b[0m: 'baseline'"
     ]
    }
   ],
   "source": [
    "loader.calculateEventParams(params=dv.default_data_settings, output_name = 'test')"
   ]
  },
  {
   "cell_type": "code",
   "execution_count": 16,
   "metadata": {
    "collapsed": false
   },
   "outputs": [
    {
     "ename": "KeyError",
     "evalue": "'baseline'",
     "output_type": "error",
     "traceback": [
      "\u001b[1;31m---------------------------------------------------------------------------\u001b[0m",
      "\u001b[1;31mKeyError\u001b[0m                                  Traceback (most recent call last)",
      "\u001b[1;32m<ipython-input-16-87d8bbd887ff>\u001b[0m in \u001b[0;36m<module>\u001b[1;34m()\u001b[0m\n\u001b[0;32m      4\u001b[0m \u001b[0mnp\u001b[0m\u001b[1;33m.\u001b[0m\u001b[0msum\u001b[0m\u001b[1;33m(\u001b[0m\u001b[0mloader\u001b[0m\u001b[1;33m.\u001b[0m\u001b[0mnumu\u001b[0m\u001b[1;33m[\u001b[0m\u001b[1;34m'baseline'\u001b[0m\u001b[1;33m]\u001b[0m\u001b[1;33m[\u001b[0m\u001b[1;34m'NC'\u001b[0m\u001b[1;33m]\u001b[0m\u001b[1;33m[\u001b[0m\u001b[1;34m'out_weight'\u001b[0m\u001b[1;33m]\u001b[0m\u001b[1;33m)\u001b[0m\u001b[1;33m+\u001b[0m\u001b[1;33m\u001b[0m\u001b[0m\n\u001b[0;32m      5\u001b[0m \u001b[0mnp\u001b[0m\u001b[1;33m.\u001b[0m\u001b[0msum\u001b[0m\u001b[1;33m(\u001b[0m\u001b[0mloader\u001b[0m\u001b[1;33m.\u001b[0m\u001b[0mnutau\u001b[0m\u001b[1;33m[\u001b[0m\u001b[1;34m'baseline'\u001b[0m\u001b[1;33m]\u001b[0m\u001b[1;33m[\u001b[0m\u001b[1;34m'CC'\u001b[0m\u001b[1;33m]\u001b[0m\u001b[1;33m[\u001b[0m\u001b[1;34m'out_weight'\u001b[0m\u001b[1;33m]\u001b[0m\u001b[1;33m)\u001b[0m\u001b[1;33m+\u001b[0m\u001b[1;33m\u001b[0m\u001b[0m\n\u001b[1;32m----> 6\u001b[1;33m np.sum(loader.atmmu['baseline']['out_weight']))\n\u001b[0m",
      "\u001b[1;31mKeyError\u001b[0m: 'baseline'"
     ]
    }
   ],
   "source": [
    "(np.sum(loader.nue['baseline']['CC']['out_weight'])+\n",
    "np.sum(loader.nue['baseline']['NC']['out_weight'])+\n",
    "np.sum(loader.numu['baseline']['CC']['out_weight'])+\n",
    "np.sum(loader.numu['baseline']['NC']['out_weight'])+\n",
    "np.sum(loader.nutau['baseline']['CC']['out_weight'])+\n",
    "np.sum(loader.atmmu['baseline']['out_weight']))\n"
   ]
  },
  {
   "cell_type": "code",
   "execution_count": 17,
   "metadata": {
    "collapsed": false
   },
   "outputs": [],
   "source": [
    "data = pickle.load(open('/home/jp/projects/icecube/oscFit_data/tables/oscFit_quickstart_data/test.pckl'))"
   ]
  },
  {
   "cell_type": "code",
   "execution_count": 18,
   "metadata": {
    "collapsed": false
   },
   "outputs": [],
   "source": [
    "w = 0\n",
    "for x in data.keys():\n",
    "    w += np.sum(data[x]['out_weight'])"
   ]
  },
  {
   "cell_type": "code",
   "execution_count": 19,
   "metadata": {
    "collapsed": false
   },
   "outputs": [
    {
     "data": {
      "text/plain": [
       "['vtxz',\n",
       " 'ma_qe',\n",
       " 'interaction',\n",
       " 'zenith',\n",
       " 'weight_mu',\n",
       " 'energy',\n",
       " 'pid',\n",
       " 'ptype',\n",
       " 'out_weight',\n",
       " 'weight_e',\n",
       " 'reco_energy',\n",
       " 'oneweight',\n",
       " 'ma_res',\n",
       " 'scattering',\n",
       " 'reco_zenith']"
      ]
     },
     "execution_count": 19,
     "metadata": {},
     "output_type": "execute_result"
    }
   ],
   "source": [
    "data['numu'].keys()"
   ]
  },
  {
   "cell_type": "code",
   "execution_count": 20,
   "metadata": {
    "collapsed": false
   },
   "outputs": [
    {
     "name": "stdout",
     "output_type": "stream",
     "text": [
      "2279.3769753\n"
     ]
    }
   ],
   "source": [
    "print w"
   ]
  },
  {
   "cell_type": "code",
   "execution_count": 21,
   "metadata": {
    "collapsed": false
   },
   "outputs": [
    {
     "data": {
      "text/plain": [
       "(0.6, 0.7853981633974483)"
      ]
     },
     "execution_count": 21,
     "metadata": {},
     "output_type": "execute_result"
    },
    {
     "data": {
      "image/png": "[encoded data removed]",
      "text/plain": [
       "<matplotlib.figure.Figure at 0x7f3272d1e190>"
      ]
     },
     "metadata": {},
     "output_type": "display_data"
    }
   ],
   "source": [
    "import numpy as np\n",
    "x = np.linspace(0, np.pi/2.)\n",
    "plt.plot(x, np.sin(2*x)**2)\n",
    "plt.xlim([0.6, np.pi/4])"
   ]
  },
  {
   "cell_type": "code",
   "execution_count": 22,
   "metadata": {
    "collapsed": false
   },
   "outputs": [
    {
     "data": {
      "text/plain": [
       "<module 'oscfit_default_values' from '/home/jp/projects/icecube/oscFit/modules/oscfit_default_values.pyc'>"
      ]
     },
     "execution_count": 22,
     "metadata": {},
     "output_type": "execute_result"
    }
   ],
   "source": [
    "tArgs       = [ \"dm31\",  \"theta23\", \"theta13\",\"mix_angle\", \"norm\",\"gamma\", \"norm_e\", \"norm_tau\", \"nu_nubar\",\"nubar_ratio\", \"uphor_ratio\",\n",
    "                            \"atmmu_f\", \"noise_f\",\"hi_fwd\", \"dm41\", \"theta24\", \"theta34\", \"norm_nc\", \"pid_bias\", \"domeff\", \"had_escale\", \"hole_ice\",\n",
    "                            \"axm_qe\", \"axm_res\" ]\n",
    "import oscfit_default_values as of\n",
    "reload(of)"
   ]
  },
  {
   "cell_type": "code",
   "execution_count": 23,
   "metadata": {
    "collapsed": false
   },
   "outputs": [],
   "source": [
    "tArgs.sort()\n",
    "of.fit_keys.sort()"
   ]
  },
  {
   "cell_type": "code",
   "execution_count": 24,
   "metadata": {
    "collapsed": false
   },
   "outputs": [
    {
     "data": {
      "text/plain": [
       "False"
      ]
     },
     "execution_count": 24,
     "metadata": {},
     "output_type": "execute_result"
    }
   ],
   "source": [
    "tArgs == of.fit_keys"
   ]
  },
  {
   "cell_type": "code",
   "execution_count": 25,
   "metadata": {
    "collapsed": false
   },
   "outputs": [
    {
     "ename": "KeyError",
     "evalue": "'domeff'",
     "output_type": "error",
     "traceback": [
      "\u001b[1;31m---------------------------------------------------------------------------\u001b[0m",
      "\u001b[1;31mKeyError\u001b[0m                                  Traceback (most recent call last)",
      "\u001b[1;32m<ipython-input-25-f7d97766d81b>\u001b[0m in \u001b[0;36m<module>\u001b[1;34m()\u001b[0m\n\u001b[0;32m      3\u001b[0m \u001b[0mptype\u001b[0m \u001b[1;33m=\u001b[0m \u001b[1;34m'atmmu'\u001b[0m\u001b[1;33m\u001b[0m\u001b[0m\n\u001b[0;32m      4\u001b[0m \u001b[0mei\u001b[0m\u001b[1;33m,\u001b[0m \u001b[0mzi\u001b[0m \u001b[1;33m=\u001b[0m \u001b[1;36m1\u001b[0m\u001b[1;33m,\u001b[0m\u001b[1;36m1\u001b[0m\u001b[1;33m\u001b[0m\u001b[0m\n\u001b[1;32m----> 5\u001b[1;33m \u001b[0mxnominal\u001b[0m \u001b[1;33m=\u001b[0m \u001b[0mloader\u001b[0m\u001b[1;33m.\u001b[0m\u001b[0mdetsys\u001b[0m\u001b[1;33m[\u001b[0m\u001b[0mptype\u001b[0m\u001b[1;33m]\u001b[0m\u001b[1;33m[\u001b[0m\u001b[0mdetsys\u001b[0m\u001b[1;33m]\u001b[0m\u001b[1;33m[\u001b[0m\u001b[1;34m'xnominal'\u001b[0m\u001b[1;33m]\u001b[0m\u001b[1;33m\u001b[0m\u001b[0m\n\u001b[0m\u001b[0;32m      6\u001b[0m \u001b[1;32mprint\u001b[0m \u001b[0mloader\u001b[0m\u001b[1;33m.\u001b[0m\u001b[0mdetsys\u001b[0m\u001b[1;33m[\u001b[0m\u001b[0mptype\u001b[0m\u001b[1;33m]\u001b[0m\u001b[1;33m[\u001b[0m\u001b[0mdetsys\u001b[0m\u001b[1;33m]\u001b[0m\u001b[1;33m[\u001b[0m\u001b[1;34m'coeffs'\u001b[0m\u001b[1;33m]\u001b[0m\u001b[1;33m[\u001b[0m\u001b[0mei\u001b[0m\u001b[1;33m,\u001b[0m\u001b[0mzi\u001b[0m\u001b[1;33m,\u001b[0m\u001b[1;36m0\u001b[0m\u001b[1;33m]\u001b[0m\u001b[1;33m\u001b[0m\u001b[0m\n\u001b[0;32m      7\u001b[0m \u001b[0mfcn\u001b[0m \u001b[1;33m=\u001b[0m \u001b[0msf\u001b[0m\u001b[1;33m.\u001b[0m\u001b[0mexp_func\u001b[0m\u001b[1;33m(\u001b[0m\u001b[1;33m*\u001b[0m\u001b[0mloader\u001b[0m\u001b[1;33m.\u001b[0m\u001b[0mdetsys\u001b[0m\u001b[1;33m[\u001b[0m\u001b[0mptype\u001b[0m\u001b[1;33m]\u001b[0m\u001b[1;33m[\u001b[0m\u001b[0mdetsys\u001b[0m\u001b[1;33m]\u001b[0m\u001b[1;33m[\u001b[0m\u001b[1;34m'coeffs'\u001b[0m\u001b[1;33m]\u001b[0m\u001b[1;33m[\u001b[0m\u001b[0mei\u001b[0m\u001b[1;33m,\u001b[0m\u001b[0mzi\u001b[0m\u001b[1;33m,\u001b[0m\u001b[1;36m0\u001b[0m\u001b[1;33m]\u001b[0m\u001b[1;33m,\u001b[0m \u001b[0mx0\u001b[0m\u001b[1;33m=\u001b[0m\u001b[1;36m1.\u001b[0m\u001b[1;33m)\u001b[0m\u001b[1;33m\u001b[0m\u001b[0m\n",
      "\u001b[1;31mKeyError\u001b[0m: 'domeff'"
     ]
    }
   ],
   "source": [
    "xpoints = np.linspace(0.8, 1.2, 100)\n",
    "detsys = 'domeff'\n",
    "ptype = 'atmmu'\n",
    "ei, zi = 1,1\n",
    "xnominal = loader.detsys[ptype][detsys]['xnominal']\n",
    "print loader.detsys[ptype][detsys]['coeffs'][ei,zi,0]\n",
    "fcn = sf.exp_func(*loader.detsys[ptype][detsys]['coeffs'][ei,zi,0], x0=1.)\n",
    "y = fcn(xpoints)\n",
    "plt.plot(xpoints, y)\n",
    "plt.plot(loader.detsys[ptype][detsys]['xpoints'],\n",
    "         loader.detsys[ptype][detsys]['y'][:,ei,zi,0]/loader.detsys[ptype][detsys]['y'][xnominal,ei,zi,0], 'x')\n"
   ]
  },
  {
   "cell_type": "code",
   "execution_count": 26,
   "metadata": {
    "collapsed": false
   },
   "outputs": [
    {
     "ename": "NameError",
     "evalue": "name 'sf' is not defined",
     "output_type": "error",
     "traceback": [
      "\u001b[1;31m---------------------------------------------------------------------------\u001b[0m",
      "\u001b[1;31mNameError\u001b[0m                                 Traceback (most recent call last)",
      "\u001b[1;32m<ipython-input-26-7245d1ef466b>\u001b[0m in \u001b[0;36m<module>\u001b[1;34m()\u001b[0m\n\u001b[1;32m----> 1\u001b[1;33m \u001b[0mreload\u001b[0m\u001b[1;33m(\u001b[0m\u001b[0msf\u001b[0m\u001b[1;33m)\u001b[0m\u001b[1;33m\u001b[0m\u001b[0m\n\u001b[0m\u001b[0;32m      2\u001b[0m \u001b[1;32mfrom\u001b[0m \u001b[0mscipy\u001b[0m\u001b[1;33m.\u001b[0m\u001b[0moptimize\u001b[0m \u001b[1;32mimport\u001b[0m \u001b[0mcurve_fit\u001b[0m\u001b[1;33m\u001b[0m\u001b[0m\n\u001b[0;32m      3\u001b[0m \u001b[1;31m# Let's create a bunch of points\u001b[0m\u001b[1;33m\u001b[0m\u001b[1;33m\u001b[0m\u001b[0m\n\u001b[0;32m      4\u001b[0m \u001b[0mxvalues\u001b[0m \u001b[1;33m=\u001b[0m \u001b[0mnp\u001b[0m\u001b[1;33m.\u001b[0m\u001b[0mlinspace\u001b[0m\u001b[1;33m(\u001b[0m\u001b[1;36m0.8\u001b[0m\u001b[1;33m,\u001b[0m \u001b[1;36m1.2\u001b[0m\u001b[1;33m,\u001b[0m \u001b[1;36m3\u001b[0m\u001b[1;33m)\u001b[0m\u001b[1;33m\u001b[0m\u001b[0m\n\u001b[0;32m      5\u001b[0m \u001b[0myvalues\u001b[0m \u001b[1;33m=\u001b[0m \u001b[1;36m0.9\u001b[0m\u001b[1;33m+\u001b[0m\u001b[1;36m0.1\u001b[0m\u001b[1;33m*\u001b[0m\u001b[0mnp\u001b[0m\u001b[1;33m.\u001b[0m\u001b[0mexp\u001b[0m\u001b[1;33m(\u001b[0m\u001b[1;33m-\u001b[0m\u001b[1;36m13.2\u001b[0m\u001b[1;33m*\u001b[0m\u001b[1;33m(\u001b[0m\u001b[0mxvalues\u001b[0m\u001b[1;33m-\u001b[0m\u001b[1;36m1.0\u001b[0m\u001b[1;33m)\u001b[0m\u001b[1;33m/\u001b[0m\u001b[1;36m1.0\u001b[0m\u001b[1;33m)\u001b[0m\u001b[1;33m\u001b[0m\u001b[0m\n",
      "\u001b[1;31mNameError\u001b[0m: name 'sf' is not defined"
     ]
    }
   ],
   "source": [
    "reload(sf)\n",
    "from scipy.optimize import curve_fit\n",
    "# Let's create a bunch of points\n",
    "xvalues = np.linspace(0.8, 1.2, 3)\n",
    "yvalues = 0.9+0.1*np.exp(-13.2*(xvalues-1.0)/1.0)\n",
    "yvalues +=np.random.rand(len(yvalues))*0.3\n",
    "\n",
    "xvalues = np.array([ 0.85,  1. ,   1.04 , 1.2  , 1.3 ])\n",
    "yvalues = np.array([ 1.22 , 1.02 ,   1.  ,  1. ,   1.  ])\n",
    "\n",
    "\n",
    "plt.plot(xvalues, yvalues, 'x')\n",
    "\n",
    "# Try do a fit myself\n",
    "f = lambda x,a,b,c: sf.exp_func.eval(x,a,b,c,x0=1.)\n",
    "opt, cov = curve_fit(f, xvalues, yvalues,\n",
    "                    p0=[0.1, -2, 0.8])\n",
    "one_fit = sf.exp_func(*opt, x0=1.)\n",
    "plt.plot(xvalues, one_fit(xvalues), 'xr')\n",
    "print opt"
   ]
  },
  {
   "cell_type": "code",
   "execution_count": null,
   "metadata": {
    "collapsed": true
   },
   "outputs": [],
   "source": [
    "xpoints = np.linspace(0.8, 1.2, 100)\n",
    "detsys = 'domeff'\n",
    "ptype = 'atmmu'\n",
    "ei, zi = 1,1\n",
    "xnominal = loader.detsys[ptype][detsys]['xnominal']\n",
    "print loader.detsys[ptype][detsys]['coeffs'][ei,zi,0]\n",
    "fcn = exp_func(*loader.detsys[ptype][detsys]['coeffs'][ei,zi,0], \n",
    "               x0 = loader.detsys[ptype][detsys]['xpoints'][xnominal])\n",
    "y = fcn(xpoints)\n",
    "plt.plot(xpoints, y)\n",
    "plt.plot(loader.detsys[ptype][detsys]['xpoints'],\n",
    "         loader.detsys[ptype][detsys]['y'][:,ei,zi,0]/loader.detsys[ptype][detsys]['y'][xnominal,ei,zi,0], 'x')\n"
   ]
  },
  {
   "cell_type": "code",
   "execution_count": 42,
   "metadata": {
    "collapsed": false
   },
   "outputs": [
    {
     "data": {
      "text/plain": [
       "[<matplotlib.lines.Line2D at 0x7f20881420d0>]"
      ]
     },
     "execution_count": 42,
     "metadata": {},
     "output_type": "execute_result"
    },
    {
     "data": {
      "image/png": "[encoded data removed]",
      "text/plain": [
       "<matplotlib.figure.Figure at 0x7f20888461d0>"
      ]
     },
     "metadata": {},
     "output_type": "display_data"
    }
   ],
   "source": [
    "plt.plot(xpoints,\n",
    "        exp_func.eval(xpoints, 1., -10, 1.))\n",
    "plt.plot(xpoints,\n",
    "        exp_func.eval(xpoints, 0.5, -12, 1.)+1.3)"
   ]
  },
  {
   "cell_type": "code",
   "execution_count": 110,
   "metadata": {
    "collapsed": false
   },
   "outputs": [
    {
     "data": {
      "text/plain": [
       "[<matplotlib.lines.Line2D at 0x7f9d6e616e10>]"
      ]
     },
     "execution_count": 110,
     "metadata": {},
     "output_type": "execute_result"
    },
    {
     "data": {
      "image/png": "[encoded data removed]",
      "text/plain": [
       "<matplotlib.figure.Figure at 0x7f9d6f204d50>"
      ]
     },
     "metadata": {},
     "output_type": "display_data"
    }
   ],
   "source": [
    "ptype='numu'\n",
    "detsys = 'domeff'\n",
    "xnominal = loader.detsys[ptype][detsys]['xnominal']\n",
    "plt.plot(loader.detsys[ptype][detsys]['xpoints'],\n",
    "         loader.detsys[ptype][detsys]['y'][:,3,6,0]/loader.detsys[ptype][detsys]['y'][xnominal,3,6,0], 'x')\n",
    "xpoints = np.linspace(0.85, 1.15, 200)\n",
    "plt.plot(xpoints, np.poly1d(loader.detsys[ptype][detsys]['coeffs'][3,6,0,:])(xpoints))"
   ]
  },
  {
   "cell_type": "code",
   "execution_count": 201,
   "metadata": {
    "collapsed": false
   },
   "outputs": [
    {
     "data": {
      "text/plain": [
       "[<matplotlib.lines.Line2D at 0x7f2086e91b90>]"
      ]
     },
     "execution_count": 201,
     "metadata": {},
     "output_type": "execute_result"
    },
    {
     "data": {
      "image/png": "[encoded data removed]",
      "text/plain": [
       "<matplotlib.figure.Figure at 0x7f2086512f90>"
      ]
     },
     "metadata": {},
     "output_type": "display_data"
    }
   ],
   "source": [
    "ptype='numu'\n",
    "detsys = 'hole_ice'\n",
    "xnominal = loader.detsys[ptype][detsys]['xnominal']\n",
    "plt.plot(loader.detsys[ptype][detsys]['xpoints'],\n",
    "         loader.detsys[ptype][detsys]['y'][:,3,6,0]/loader.detsys[ptype][detsys]['y'][xnominal,3,6,0], 'x')\n",
    "xpoints = np.linspace(0.007, 0.033, 200)\n",
    "plt.plot(xpoints, np.poly1d(loader.detsys[ptype][detsys]['coeffs'][3,6,0,:])(xpoints))"
   ]
  },
  {
   "cell_type": "code",
   "execution_count": 158,
   "metadata": {
    "collapsed": false
   },
   "outputs": [],
   "source": [
    "mylist = np.zeros_like(np.array([2,2]), dtype=object)"
   ]
  },
  {
   "cell_type": "code",
   "execution_count": 160,
   "metadata": {
    "collapsed": false
   },
   "outputs": [],
   "source": [
    "mylist[0] = exp_func"
   ]
  },
  {
   "cell_type": "code",
   "execution_count": 5,
   "metadata": {
    "collapsed": true
   },
   "outputs": [],
   "source": [
    "class exp_func:\n",
    "    def __init__(self,a, b, x0):\n",
    "        self.a, self.b, self.x0 = a, b, x0\n",
    "        \n",
    "    def __call__(self,x):\n",
    "        return self.eval(x, self.a, self.b, self.x0)\n",
    "        \n",
    "    def derive(self,x):\n",
    "        return np.array([np.exp(self.b*(x-self.x0)/self.x0), \n",
    "                         self.a*self.b/self.x0*np.exp(self.b*(x-self.x0)/self.x0)])\n",
    "        \n",
    "    @staticmethod\n",
    "    def eval(x, a, b, x0):\n",
    "        return a*np.exp(b*(x-x0)/x0)\n",
    "\n",
    "    @property\n",
    "    def coeffs(self):\n",
    "        return [self.a, self.b]\n",
    "\n",
    "    @coeffs.setter\n",
    "    def coeffs(self, val):\n",
    "        self.a, self.b = val"
   ]
  },
  {
   "cell_type": "code",
   "execution_count": null,
   "metadata": {
    "collapsed": true
   },
   "outputs": [],
   "source": []
  }
 ],
 "metadata": {
  "kernelspec": {
   "display_name": "Python 2",
   "language": "python",
   "name": "python2"
  },
  "language_info": {
   "codemirror_mode": {
    "name": "ipython",
    "version": 2
   },
   "file_extension": ".py",
   "mimetype": "text/x-python",
   "name": "python",
   "nbconvert_exporter": "python",
   "pygments_lexer": "ipython2",
   "version": "2.7.11"
  }
 },
 "nbformat": 4,
 "nbformat_minor": 0
}
