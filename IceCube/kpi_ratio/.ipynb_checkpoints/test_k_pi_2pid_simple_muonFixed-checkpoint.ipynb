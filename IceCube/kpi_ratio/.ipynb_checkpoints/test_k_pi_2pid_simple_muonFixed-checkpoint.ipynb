{
 "cells": [
  {
   "cell_type": "code",
   "execution_count": 1,
   "metadata": {},
   "outputs": [],
   "source": [
    "import os, sys\n",
    "import numpy as np\n",
    "import matplotlib.pyplot as plt"
   ]
  },
  {
   "cell_type": "code",
   "execution_count": 2,
   "metadata": {},
   "outputs": [],
   "source": [
    "# OscFit path\n",
    "sys.path.append('/home/jpyanez/projects/rpp-kenclark/jpyanez/oscfit_code/oscfit_dragon/modules')"
   ]
  },
  {
   "cell_type": "code",
   "execution_count": 3,
   "metadata": {},
   "outputs": [],
   "source": [
    "import dataLoader, oscFit\n",
    "reload(dataLoader)\n",
    "import MCEqFlux"
   ]
  },
  {
   "cell_type": "code",
   "execution_count": 4,
   "metadata": {},
   "outputs": [],
   "source": [
    "user = 'kpi_user_simple'\n",
    "pid_array = np.array([-3, 2., np.inf])\n",
    "sky_start = -1\n",
    "sky_stop = 1\n",
    "bins = 9"
   ]
  },
  {
   "cell_type": "code",
   "execution_count": 5,
   "metadata": {},
   "outputs": [
    {
     "name": "stdout",
     "output_type": "stream",
     "text": [
      "\n",
      " ************************************ \n",
      " **** oscFit3D v1.0 - dataLoader ****\n",
      " ************************************\n",
      "dataLoader: Initializing user kpi_user_simple\n"
     ]
    },
    {
     "name": "stderr",
     "output_type": "stream",
     "text": [
      "/home/jpyanez/projects/rpp-kenclark/jpyanez/oscfit_code/oscfit_dragon/modules/dataLoader.py:45: RuntimeWarning: divide by zero encountered in divide\n",
      "  in_dict['LE'] = np.log10(propagationDistance(in_dict['reco_zenith'])/in_dict['reco_energy'])\n"
     ]
    },
    {
     "name": "stdout",
     "output_type": "stream",
     "text": [
      "dataLoader: MC loaded successfully!\n",
      "dataLoader: Setting MCEq fluxes for all mc sets, including systematic variations\n",
      "List of files used for atmmu_data estimation (with weight of 1):\n",
      " + /project/6033576/jpyanez/dragon_data/pckl_old/Level6.0000.data_bkg2.IC86_2.11082016.pckl\n",
      " + /project/6033576/jpyanez/dragon_data/pckl_old/Level6.0000.data_bkg2.IC86_3.11082016.pckl\n",
      " + /project/6033576/jpyanez/dragon_data/pckl_old/Level6.0000.data_bkg2.IC86_4.11082016.pckl\n",
      "List of files used for atmmu_new_data estimation (with weight of 1):\n",
      " + /project/6033576/jpyanez/dragon_data/pckl_old/Level6.0000.data_bkg1.IC86_2.11082016.pckl\n",
      " + /project/6033576/jpyanez/dragon_data/pckl_old/Level6.0000.data_bkg1.IC86_3.11082016.pckl\n",
      " + /project/6033576/jpyanez/dragon_data/pckl_old/Level6.0000.data_bkg1.IC86_4.11082016.pckl\n",
      "dataLoader: Muon background templates loaded successfully!\n"
     ]
    }
   ],
   "source": [
    "loader =  dataLoader.dataLoader(bin_edges   = [10**np.linspace(0.75,2.15,11),\n",
    "                                               np.arccos(np.linspace(sky_start,sky_stop,bins))[::-1],\n",
    "                                               pid_array],\n",
    "                                    observables = ['reco_energy', 'reco_zenith', 'delta_llh'],\n",
    "                                    user = user,\n",
    "                                    LEaxis = [],\n",
    "                                    bkg_diff_is_syst = True,\n",
    "                                    #user_init = [0],\n",
    "                                    expected_years = 3,\n",
    "                                    weight_keys = ['weight_e', 'weight_mu'],\n",
    "                                    detsys_perflavor=False, # Calculate the detector variations per flavor\n",
    "                                    legacy_detsys = False, # Calcualte the detector variations as in the PRD paper\n",
    "                                    detailed_detsys=False, # Re-calculate the detector variations at each minimization step\n",
    "                                    verbose = False)"
   ]
  },
  {
   "cell_type": "code",
   "execution_count": 6,
   "metadata": {},
   "outputs": [
    {
     "name": "stdout",
     "output_type": "stream",
     "text": [
      "DONE\n"
     ]
    }
   ],
   "source": [
    "print 'DONE'"
   ]
  },
  {
   "cell_type": "code",
   "execution_count": 7,
   "metadata": {},
   "outputs": [],
   "source": [
    "livetime = loader.sec2years*2.8"
   ]
  },
  {
   "cell_type": "code",
   "execution_count": 8,
   "metadata": {},
   "outputs": [
    {
     "data": {
      "text/plain": [
       "<module 'oscFit' from '/home/jpyanez/projects/rpp-kenclark/jpyanez/oscfit_code/oscfit_dragon/modules/oscFit.pyc'>"
      ]
     },
     "execution_count": 8,
     "metadata": {},
     "output_type": "execute_result"
    }
   ],
   "source": [
    "import oscFit\n",
    "reload(oscFit)"
   ]
  },
  {
   "cell_type": "code",
   "execution_count": 11,
   "metadata": {},
   "outputs": [
    {
     "name": "stdout",
     "output_type": "stream",
     "text": [
      "dataLoader: atmmu_norm  0 , noise_norm 1.0\n",
      "Events in pseudo-data sample 42133.43411399768\n"
     ]
    }
   ],
   "source": [
    "ref = loader.loadMCasData({'norm_nu':2.9,\n",
    "                          'norm_atmmu':0,\n",
    "                          'oscMode':'TwoNeutrino'})\n",
    "print 'Events in pseudo-data sample', np.sum(ref)"
   ]
  },
  {
   "cell_type": "code",
   "execution_count": 12,
   "metadata": {},
   "outputs": [
    {
     "name": "stdout",
     "output_type": "stream",
     "text": [
      "\n",
      " ************************************ \n",
      " ****** oscFit3D v1.0 - oscFit ******\n",
      " ************************************\n"
     ]
    }
   ],
   "source": [
    "fitter = oscFit.fitOscParams()\n",
    "data_loaders    = [loader]          # Here you could list many samples to be fit at once\n",
    "data_histograms = [ref]  # The data histogram for each of the samples"
   ]
  },
  {
   "cell_type": "raw",
   "metadata": {},
   "source": [
    "# The settings of the fit are given as [ini_value, fix?]\n",
    "fit_settings    = {\n",
    "    'simulation':     'baseline',      # This patches GENIE simulation with NuGen.\n",
    "    'dm31':           [0.0025, False, 'NH'], # Need to specify the hierarchy of the fit\n",
    "    'theta23':        [0.78, False],         # Not used in the \"TwoNeutrino\" mode\n",
    "    'theta13':        [0.148, True],        # Not used in the \"TwoNeutrino\" mode\n",
    "    'mix_angle':      [0.95, False, 1.4],     # Only used in the \"TwoNeutrino\" mode. Leave as is otherwise.\n",
    "    'oscMode':        'TwoNeutrino',         # How do you want to fit the data?\n",
    "    'oscTables':      False,\n",
    "    'norm':           [1.0, True],\n",
    "    'norm_e':         [1., True],\n",
    "    'norm_tau':       [1., True],            # Set to false for nutau apperance studies\n",
    "    'nu_nubar':       [1., True],\n",
    "    'nubar_ratio':     [0., True],\n",
    "    'uphor_ratio':    [0., True],\n",
    "\n",
    "    'gamma':          [0.00, False],\n",
    "    # New parameters\n",
    "    'w_pi':           [0.01, True],\n",
    "    'w_k':            [0.02, False],\n",
    "    \n",
    "    \n",
    "    'axm_qe':         [0., True],\n",
    "    'axm_res':        [0., False],\n",
    "    'pid_bias':       [0., True],\n",
    "    'hole_ice':       [0.02, False],\n",
    "    'hi_fwd':         [0.0, False],\n",
    "\n",
    "    'norm_nc':        [1., False],\n",
    "    'domeff':         [1., False],\n",
    "    'had_escale':     [1., True],\n",
    "    'atmmu_f':        [0.06, False, 'new_data'],\n",
    "    'noise_f':        [0.0, True],\n",
    "#    'fix_norm_region':[1.7],\n",
    "    'detector_syst':  True,\n",
    "    'include_priors': True,\n",
    "    'printMode':      -1}                  # Do you want to see every step MINUIT takes?"
   ]
  },
  {
   "cell_type": "code",
   "execution_count": 13,
   "metadata": {},
   "outputs": [],
   "source": [
    "# The settings of the fit are given as [ini_value, fix?]\n",
    "fit_settings    = {\n",
    "    'simulation':     'baseline',      # This patches GENIE simulation with NuGen.\n",
    "    'dm31':           [0.0025, False, 'NH'], # Need to specify the hierarchy of the fit\n",
    "    'theta23':        [0.76, False],         # Not used in the \"TwoNeutrino\" mode\n",
    "    'theta13':        [0.148, True],        # Not used in the \"TwoNeutrino\" mode\n",
    "    'mix_angle':      [0.97, False, 1.4],     # Only used in the \"TwoNeutrino\" mode. Leave as is otherwise.\n",
    "    'oscMode':        'TwoNeutrino',         # How do you want to fit the data?\n",
    "    'oscTables':      False,\n",
    "    'norm':           [1.0, False],\n",
    "    'norm_e':         [1., True],\n",
    "    'norm_tau':       [1., True],            # Set to false for nutau apperance studies\n",
    "    'nu_nubar':       [1., True],\n",
    "    'nubar_ratio':     [0., True],\n",
    "    'uphor_ratio':    [0., True],\n",
    "\n",
    "    'gamma':          [0.00, False],\n",
    "    # New parameters\n",
    "    'w_pi':           [0.00, True],\n",
    "    'w_k':            [0.02, False],\n",
    "    \n",
    "    \n",
    "    'axm_qe':         [0., True],\n",
    "    'axm_res':        [0., False],\n",
    "    'pid_bias':       [0., True],\n",
    "    'hole_ice':       [0.02, True],\n",
    "    'hi_fwd':         [0.0, True],\n",
    "\n",
    "    'norm_nc':        [1., False],\n",
    "    'domeff':         [1., True],\n",
    "    'had_escale':     [1., True],\n",
    "    'atmmu_f':        [0.0, False, 'new_data'],\n",
    "    'noise_f':        [0.0, True],\n",
    "#    'fix_norm_region':[1.7],\n",
    "    'detector_syst':  True,\n",
    "    'include_priors': True,\n",
    "    'printMode':      -1}                  # Do you want to see every step MINUIT takes?"
   ]
  },
  {
   "cell_type": "code",
   "execution_count": null,
   "metadata": {},
   "outputs": [
    {
     "name": "stdout",
     "output_type": "stream",
     "text": [
      "oscFit: Fitter running in TwoNeutrino mode\n",
      "oscFit: 42133.43411399768  events in data\n",
      "oscFit: Fitting in normal hierarchy mode\n",
      "1.70481\n",
      "oscFit: Testing the LLH2 function  1.704808009484326\n",
      "Baseline LLH value given in settings:  0.0\n",
      "oscFit: Fit settings\n",
      "\tnoise_f \t[0.0, True]\n",
      "\tpid_bias \t[0.0, True]\n",
      "\tdeltacp \t[0.0, True]\n",
      "\thi_fwd \t[0.0, True]\n",
      "\tprintMode \t-1\n",
      "\toscMode \tTwoNeutrino\n",
      "\tinclude_priors \tTrue\n",
      "\ttheta24 \t[0.0, True]\n",
      "\tatmmu_f \t[0.0, False, 'new_data']\n",
      "\tw_k \t[0.02, False]\n",
      "\ttheta23 \t[0.76, False]\n",
      "\tuphor_ratio \t[0.0, True]\n",
      "\tdetector_syst \tTrue\n",
      "\ttheta34 \t[0.0, True]\n",
      "\tw_pi \t[0.0, True]\n",
      "\tnorm \t[1.0, False]\n",
      "\taxm_res \t[0.0, False]\n",
      "\tnorm_tau \t[1.0, True]\n",
      "\toscTables \tFalse\n",
      "\tnubar_ratio \t[0.0, True]\n",
      "\tdm41 \t[0.0, True]\n",
      "\tnorm_nc \t[1.0, False]\n",
      "\tdomeff \t[1.0, True]\n",
      "\thole_ice \t[0.02, True]\n",
      "\tdm31 \t[0.0025, False, 'NH']\n",
      "\tnu_nubar \t[1.0, True]\n",
      "\tbaseline_llh \t[0.0, True]\n",
      "\thad_escale \t[1.0, True]\n",
      "\tdm21 \t[7.53e-05, True]\n",
      "\tmix_angle \t[0.97, False, 1.4]\n",
      "\tsimulation \tbaseline\n",
      "\tnorm_e \t[1.0, True]\n",
      "\taxm_qe \t[0.0, True]\n",
      "\ttheta12 \t[0.584, True]\n",
      "\ttheta13 \t[0.148, True]\n",
      "\tgamma \t[0.0, False]\n",
      "\n",
      "\n",
      "\n",
      "-LLH | dm31 | mix_angle | norm | gamma | w_k | atmmu_f | axm_res | norm_nc\n",
      "oscFit: Firing up the minimizer!\n",
      "\n",
      "\n",
      "-LLH | dm31 | mix_angle | norm | gamma | w_k | atmmu_f | axm_res | norm_nc\n",
      "1.70460  +0.00250  +0.97000  +1.00000  +0.00000  +0.02000  +0.00000  +0.00000  +1.00000\n",
      "1.70997  +0.00251  +0.97000  +1.00000  +0.00000  +0.02000  +0.00000  +0.00000  +1.00000\n",
      "1.72843  +0.00249  +0.97000  +1.00000  +0.00000  +0.02000  +0.00000  +0.00000  +1.00000\n",
      "1.70382  +0.00250  +0.97000  +1.00000  +0.00000  +0.02000  +0.00000  +0.00000  +1.00000\n",
      "1.70566  +0.00250  +0.97000  +1.00000  +0.00000  +0.02000  +0.00000  +0.00000  +1.00000\n",
      "1.59482  +0.00250  +0.97101  +1.00000  +0.00000  +0.02000  +0.00000  +0.00000  +1.00000\n",
      "1.81814  +0.00250  +0.96899  +1.00000  +0.00000  +0.02000  +0.00000  +0.00000  +1.00000\n",
      "1.69345  +0.00250  +0.97010  +1.00000  +0.00000  +0.02000  +0.00000  +0.00000  +1.00000\n",
      "1.71578  +0.00250  +0.96990  +1.00000  +0.00000  +0.02000  +0.00000  +0.00000  +1.00000\n",
      "1.70460  +0.00250  +0.97000  +1.00000  +0.00000  +0.02000  +0.00000  +0.00000  +1.00000\n",
      "1.70460  +0.00250  +0.97000  +1.00000  +0.00000  +0.02000  +0.00000  +0.00000  +1.00000\n",
      "1.70461  +0.00250  +0.97000  +1.00000  +0.00000  +0.02000  +0.00000  +0.00000  +1.00000\n",
      "1.70459  +0.00250  +0.97000  +1.00000  +0.00000  +0.02000  +0.00000  +0.00000  +1.00000\n",
      "1.68222  +0.00250  +0.97000  +1.00000  +0.00101  +0.02000  +0.00000  +0.00000  +1.00000\n",
      "1.76247  +0.00250  +0.97000  +1.00000  -0.00101  +0.02000  +0.00000  +0.00000  +1.00000\n",
      "1.70076  +0.00250  +0.97000  +1.00000  +0.00010  +0.02000  +0.00000  +0.00000  +1.00000\n",
      "1.70879  +0.00250  +0.97000  +1.00000  -0.00010  +0.02000  +0.00000  +0.00000  +1.00000\n",
      "1.72326  +0.00250  +0.97000  +1.00000  +0.00000  +0.02524  +0.00000  +0.00000  +1.00000\n",
      "1.69070  +0.00250  +0.97000  +1.00000  +0.00000  +0.01476  +0.00000  +0.00000  +1.00000\n",
      "1.70625  +0.00250  +0.97000  +1.00000  +0.00000  +0.02052  +0.00000  +0.00000  +1.00000\n",
      "1.70299  +0.00250  +0.97000  +1.00000  +0.00000  +0.01948  +0.00000  +0.00000  +1.00000\n",
      "1.70433  +0.00250  +0.97000  +1.00000  +0.00000  +0.02000  +0.00000  +0.00000  +1.00000\n",
      "1.70476  +0.00250  +0.97000  +1.00000  +0.00000  +0.02000  +0.00000  +0.00000  +1.00000\n",
      "1.70458  +0.00250  +0.97000  +1.00000  +0.00000  +0.02000  +0.00000  +0.00000  +1.00000\n",
      "1.70462  +0.00250  +0.97000  +1.00000  +0.00000  +0.02000  +0.00000  +0.00000  +1.00000\n",
      "1.71126  +0.00250  +0.97000  +1.00000  +0.00000  +0.02000  +0.00000  +0.00502  +1.00000\n",
      "1.69851  +0.00250  +0.97000  +1.00000  +0.00000  +0.02000  +0.00000  -0.00502  +1.00000\n",
      "1.70524  +0.00250  +0.97000  +1.00000  +0.00000  +0.02000  +0.00000  +0.00050  +1.00000\n",
      "1.70396  +0.00250  +0.97000  +1.00000  +0.00000  +0.02000  +0.00000  -0.00050  +1.00000\n",
      "1.70278  +0.00250  +0.97000  +1.00000  +0.00000  +0.02000  +0.00000  +0.00000  +1.00101\n",
      "1.70670  +0.00250  +0.97000  +1.00000  +0.00000  +0.02000  +0.00000  +0.00000  +0.99899\n",
      "1.70440  +0.00250  +0.97000  +1.00000  +0.00000  +0.02000  +0.00000  +0.00000  +1.00010\n",
      "1.70480  +0.00250  +0.97000  +1.00000  +0.00000  +0.02000  +0.00000  +0.00000  +0.99990\n",
      "1.70458  +0.00250  +0.97000  +1.00000  +0.00000  +0.02000  +0.00000  +0.00000  +1.00000\n",
      "1.70448  +0.00250  +0.97000  +1.00000  +0.00000  +0.02000  +0.00000  +0.00000  +1.00000\n",
      "1.70416  +0.00250  +0.97000  +1.00000  +0.00000  +0.02000  +0.00000  +0.00000  +1.00000\n",
      "1.70255  +0.00250  +0.97000  +1.00000  +0.00000  +0.02000  +0.00001  +0.00000  +1.00000\n",
      "1.69215  +0.00250  +0.97000  +1.00000  +0.00000  +0.02000  +0.00006  +0.00000  +1.00000\n",
      "1.62387  +0.00250  +0.97000  +1.00000  +0.00000  +0.02000  +0.00044  +0.00000  +1.00000\n",
      "1.69470  +0.00250  +0.97000  +1.00000  +0.00000  +0.02000  +0.00256  +0.00000  +1.00000\n",
      "1.57985  +0.00250  +0.97000  +1.00000  +0.00000  +0.02000  +0.00084  +0.00000  +1.00000\n",
      "1.69465  +0.00250  +0.97000  +1.00000  +0.00000  +0.02000  +0.00256  +0.00000  +1.00000\n",
      "1.56834  +0.00250  +0.97000  +1.00000  +0.00000  +0.02000  +0.00158  +0.00000  +1.00000\n",
      "1.56185  +0.00250  +0.97000  +1.00000  +0.00000  +0.02000  +0.00134  +0.00000  +1.00000\n",
      "1.56179  +0.00250  +0.97000  +1.00000  +0.00000  +0.02000  +0.00134  +0.00000  +1.00000\n",
      "1.56192  +0.00250  +0.97000  +1.00000  +0.00000  +0.02000  +0.00134  +0.00000  +1.00000\n",
      "1.56181  +0.00250  +0.97000  +1.00000  +0.00000  +0.02000  +0.00134  +0.00000  +1.00000\n",
      "1.56189  +0.00250  +0.97000  +1.00000  +0.00000  +0.02000  +0.00134  +0.00000  +1.00000\n",
      "1.56023  +0.00250  +0.97002  +1.00000  +0.00000  +0.02000  +0.00134  +0.00000  +1.00000\n",
      "1.56348  +0.00250  +0.96998  +1.00000  +0.00000  +0.02000  +0.00134  +0.00000  +1.00000\n",
      "1.56188  +0.00250  +0.97000  +1.00000  +0.00000  +0.02000  +0.00134  +0.00000  +1.00000\n",
      "1.56183  +0.00250  +0.97000  +1.00000  +0.00000  +0.02000  +0.00134  +0.00000  +1.00000\n",
      "1.56171  +0.00250  +0.97000  +1.00000  +0.00001  +0.02000  +0.00134  +0.00000  +1.00000\n",
      "1.56200  +0.00250  +0.97000  +1.00000  -0.00001  +0.02000  +0.00134  +0.00000  +1.00000\n",
      "1.56178  +0.00250  +0.97000  +1.00000  +0.00001  +0.02000  +0.00134  +0.00000  +1.00000\n",
      "1.56193  +0.00250  +0.97000  +1.00000  -0.00001  +0.02000  +0.00134  +0.00000  +1.00000\n",
      "1.56224  +0.00250  +0.97000  +1.00000  +0.00000  +0.02008  +0.00134  +0.00000  +1.00000\n",
      "1.56146  +0.00250  +0.97000  +1.00000  +0.00000  +0.01992  +0.00134  +0.00000  +1.00000\n",
      "1.56188  +0.00250  +0.97000  +1.00000  +0.00000  +0.02000  +0.00134  +0.00000  +1.00000\n",
      "1.56183  +0.00250  +0.97000  +1.00000  +0.00000  +0.02000  +0.00133  +0.00000  +1.00000\n",
      "1.56187  +0.00250  +0.97000  +1.00000  +0.00000  +0.02000  +0.00134  +0.00000  +1.00000\n",
      "1.56184  +0.00250  +0.97000  +1.00000  +0.00000  +0.02000  +0.00133  +0.00000  +1.00000\n",
      "1.56197  +0.00250  +0.97000  +1.00000  +0.00000  +0.02000  +0.00134  +0.00021  +1.00000\n",
      "1.56174  +0.00250  +0.97000  +1.00000  +0.00000  +0.02000  +0.00134  -0.00021  +1.00000\n",
      "1.56172  +0.00250  +0.97000  +1.00000  +0.00000  +0.02000  +0.00134  +0.00000  +1.00006\n",
      "1.56199  +0.00250  +0.97000  +1.00000  +0.00000  +0.02000  +0.00134  +0.00000  +0.99994\n",
      "0.14117  +0.00250  +0.99669  +0.99992  +0.00041  -0.01012  +0.00130  -0.02469  +1.00804\n",
      "0.14120  +0.00250  +0.99669  +0.99992  +0.00041  -0.01012  +0.00130  -0.02469  +1.00804\n",
      "0.14114  +0.00250  +0.99669  +0.99992  +0.00041  -0.01012  +0.00130  -0.02469  +1.00804\n",
      "0.14119  +0.00250  +0.99670  +0.99992  +0.00041  -0.01012  +0.00130  -0.02469  +1.00804\n",
      "0.14115  +0.00250  +0.99668  +0.99992  +0.00041  -0.01012  +0.00130  -0.02469  +1.00804\n",
      "0.14116  +0.00250  +0.99669  +0.99992  +0.00041  -0.01012  +0.00130  -0.02469  +1.00804\n",
      "0.14118  +0.00250  +0.99669  +0.99992  +0.00041  -0.01012  +0.00130  -0.02469  +1.00804\n",
      "0.14128  +0.00250  +0.99669  +0.99992  +0.00042  -0.01012  +0.00130  -0.02469  +1.00804\n",
      "0.14106  +0.00250  +0.99669  +0.99992  +0.00041  -0.01012  +0.00130  -0.02469  +1.00804\n",
      "0.14128  +0.00250  +0.99669  +0.99992  +0.00041  -0.01008  +0.00130  -0.02469  +1.00804\n",
      "0.14105  +0.00250  +0.99669  +0.99992  +0.00041  -0.01016  +0.00130  -0.02469  +1.00804\n",
      "0.14143  +0.00250  +0.99669  +0.99992  +0.00041  -0.01012  +0.00130  -0.02469  +1.00804\n",
      "0.14091  +0.00250  +0.99669  +0.99992  +0.00041  -0.01012  +0.00130  -0.02469  +1.00804\n"
     ]
    },
    {
     "name": "stdout",
     "output_type": "stream",
     "text": [
      "0.14104  +0.00250  +0.99669  +0.99992  +0.00041  -0.01012  +0.00130  -0.02457  +1.00804\n",
      "0.14129  +0.00250  +0.99669  +0.99992  +0.00041  -0.01012  +0.00130  -0.02480  +1.00804\n",
      "0.14124  +0.00250  +0.99669  +0.99992  +0.00041  -0.01012  +0.00130  -0.02469  +1.00808\n",
      "0.14110  +0.00250  +0.99669  +0.99992  +0.00041  -0.01012  +0.00130  -0.02469  +1.00801\n",
      "0.10978  +0.00250  +0.99918  +0.99998  -0.00049  -0.02728  +0.00051  +0.01467  +1.00225\n",
      "0.05596  +0.00250  +0.99807  +0.99995  -0.00009  -0.01962  +0.00082  -0.00290  +1.00484\n",
      "0.05601  +0.00250  +0.99807  +0.99995  -0.00009  -0.01962  +0.00082  -0.00290  +1.00484\n",
      "0.05592  +0.00250  +0.99807  +0.99995  -0.00009  -0.01962  +0.00082  -0.00290  +1.00484\n",
      "0.05596  +0.00250  +0.99808  +0.99995  -0.00009  -0.01962  +0.00082  -0.00290  +1.00484\n",
      "0.05597  +0.00250  +0.99806  +0.99995  -0.00009  -0.01962  +0.00082  -0.00290  +1.00484\n",
      "0.05596  +0.00250  +0.99807  +0.99995  -0.00009  -0.01962  +0.00082  -0.00290  +1.00484\n",
      "0.05597  +0.00250  +0.99807  +0.99995  -0.00009  -0.01962  +0.00082  -0.00290  +1.00484\n",
      "0.05589  +0.00250  +0.99807  +0.99995  -0.00008  -0.01962  +0.00082  -0.00290  +1.00484\n",
      "0.05604  +0.00250  +0.99807  +0.99995  -0.00009  -0.01962  +0.00082  -0.00290  +1.00484\n",
      "0.05589  +0.00250  +0.99807  +0.99995  -0.00009  -0.01958  +0.00082  -0.00290  +1.00484\n",
      "0.05604  +0.00250  +0.99807  +0.99995  -0.00009  -0.01966  +0.00082  -0.00290  +1.00484\n",
      "0.05604  +0.00250  +0.99807  +0.99995  -0.00009  -0.01962  +0.00082  -0.00290  +1.00484\n",
      "0.05589  +0.00250  +0.99807  +0.99995  -0.00009  -0.01962  +0.00082  -0.00290  +1.00484\n",
      "0.05602  +0.00250  +0.99807  +0.99995  -0.00009  -0.01962  +0.00082  -0.00279  +1.00484\n",
      "0.05591  +0.00250  +0.99807  +0.99995  -0.00009  -0.01962  +0.00082  -0.00300  +1.00484\n",
      "0.05595  +0.00250  +0.99807  +0.99995  -0.00009  -0.01962  +0.00082  -0.00290  +1.00487\n",
      "0.05598  +0.00250  +0.99807  +0.99995  -0.00009  -0.01962  +0.00082  -0.00290  +1.00481\n",
      "0.01754  +0.00250  +0.99863  +1.00000  +0.00030  -0.01414  +0.00046  -0.01142  +1.00506\n",
      "0.01635  +0.00250  +0.99872  +1.00001  +0.00036  -0.01322  +0.00041  -0.01284  +1.00510\n",
      "0.01632  +0.00250  +0.99872  +1.00001  +0.00036  -0.01322  +0.00041  -0.01284  +1.00510\n",
      "0.01637  +0.00250  +0.99872  +1.00001  +0.00036  -0.01322  +0.00041  -0.01284  +1.00510\n",
      "0.01635  +0.00250  +0.99873  +1.00001  +0.00036  -0.01322  +0.00041  -0.01284  +1.00510\n",
      "0.01634  +0.00250  +0.99871  +1.00001  +0.00036  -0.01322  +0.00041  -0.01284  +1.00510\n",
      "0.01635  +0.00250  +0.99872  +1.00001  +0.00036  -0.01322  +0.00041  -0.01284  +1.00510\n",
      "0.01635  +0.00250  +0.99872  +1.00001  +0.00036  -0.01322  +0.00041  -0.01284  +1.00510\n",
      "0.01637  +0.00250  +0.99872  +1.00001  +0.00036  -0.01322  +0.00041  -0.01284  +1.00510\n",
      "0.01632  +0.00250  +0.99872  +1.00001  +0.00036  -0.01322  +0.00041  -0.01284  +1.00510\n",
      "0.01635  +0.00250  +0.99872  +1.00001  +0.00036  -0.01319  +0.00041  -0.01284  +1.00510\n",
      "0.01634  +0.00250  +0.99872  +1.00001  +0.00036  -0.01326  +0.00041  -0.01284  +1.00510\n",
      "0.01638  +0.00250  +0.99872  +1.00001  +0.00036  -0.01322  +0.00041  -0.01284  +1.00510\n",
      "0.01631  +0.00250  +0.99872  +1.00001  +0.00036  -0.01322  +0.00041  -0.01284  +1.00510\n",
      "0.01631  +0.00250  +0.99872  +1.00001  +0.00036  -0.01322  +0.00041  -0.01274  +1.00510\n",
      "0.01638  +0.00250  +0.99872  +1.00001  +0.00036  -0.01322  +0.00041  -0.01295  +1.00510\n",
      "0.01637  +0.00250  +0.99872  +1.00001  +0.00036  -0.01322  +0.00041  -0.01284  +1.00513\n",
      "0.01632  +0.00250  +0.99872  +1.00001  +0.00036  -0.01322  +0.00041  -0.01284  +1.00507\n",
      "0.00775  +0.00250  +0.99896  +1.00001  +0.00036  -0.01031  +0.00030  -0.00648  +1.00303\n",
      "0.00246  +0.00250  +0.99929  +1.00001  +0.00036  -0.00631  +0.00017  +0.00225  +1.00018\n",
      "0.00219  +0.00250  +0.99935  +1.00001  +0.00036  -0.00551  +0.00015  +0.00399  +0.99962\n",
      "0.00213  +0.00250  +0.99939  +1.00001  +0.00036  -0.00506  +0.00014  +0.00498  +0.99929\n",
      "0.00215  +0.00250  +0.99939  +1.00001  +0.00036  -0.00506  +0.00014  +0.00498  +0.99929\n",
      "0.00212  +0.00250  +0.99939  +1.00001  +0.00036  -0.00506  +0.00014  +0.00498  +0.99929\n",
      "0.00213  +0.00250  +0.99940  +1.00001  +0.00036  -0.00506  +0.00014  +0.00498  +0.99929\n",
      "0.00214  +0.00250  +0.99938  +1.00001  +0.00036  -0.00506  +0.00014  +0.00498  +0.99929\n",
      "0.00213  +0.00250  +0.99939  +1.00001  +0.00036  -0.00506  +0.00014  +0.00498  +0.99929\n",
      "0.00213  +0.00250  +0.99939  +1.00001  +0.00036  -0.00506  +0.00014  +0.00498  +0.99929\n",
      "0.00213  +0.00250  +0.99939  +1.00001  +0.00036  -0.00506  +0.00014  +0.00498  +0.99929\n",
      "0.00214  +0.00250  +0.99939  +1.00001  +0.00036  -0.00506  +0.00014  +0.00498  +0.99929\n",
      "0.00212  +0.00250  +0.99939  +1.00001  +0.00036  -0.00502  +0.00014  +0.00498  +0.99929\n",
      "0.00214  +0.00250  +0.99939  +1.00001  +0.00036  -0.00509  +0.00014  +0.00498  +0.99929\n",
      "0.00214  +0.00250  +0.99939  +1.00001  +0.00036  -0.00506  +0.00014  +0.00498  +0.99929\n",
      "0.00212  +0.00250  +0.99939  +1.00001  +0.00036  -0.00506  +0.00014  +0.00498  +0.99929\n",
      "0.00215  +0.00250  +0.99939  +1.00001  +0.00036  -0.00506  +0.00014  +0.00498  +0.99929\n",
      "0.00212  +0.00250  +0.99939  +1.00001  +0.00036  -0.00506  +0.00014  +0.00498  +0.99929\n",
      "0.00214  +0.00250  +0.99939  +1.00001  +0.00036  -0.00506  +0.00014  +0.00508  +0.99929\n",
      "0.00213  +0.00250  +0.99939  +1.00001  +0.00036  -0.00506  +0.00014  +0.00487  +0.99929\n",
      "0.00212  +0.00250  +0.99939  +1.00001  +0.00036  -0.00506  +0.00014  +0.00498  +0.99932\n",
      "0.00214  +0.00250  +0.99939  +1.00001  +0.00036  -0.00506  +0.00014  +0.00498  +0.99927\n"
     ]
    }
   ],
   "source": [
    "result_NH = fitter(data_histograms=data_histograms,\n",
    "                data_loaders=data_loaders,\n",
    "                fit_settings=fit_settings,\n",
    "                #fit_priors = fit_priors,\n",
    "                ncalls = 1000,\n",
    "                do_chi2_fit = True,\n",
    "                store_fit_details = True)"
   ]
  },
  {
   "cell_type": "code",
   "execution_count": null,
   "metadata": {},
   "outputs": [],
   "source": [
    "print 'DONE'"
   ]
  },
  {
   "cell_type": "code",
   "execution_count": null,
   "metadata": {},
   "outputs": [],
   "source": [
    "params = []\n",
    "for param in result_NH[\"parameters\"]:\n",
    "    if not result_NH[\"fit_settings\"][param][1]:\n",
    "        params.append(param)\n",
    "ticks = range(0,len(params))\n",
    "fig, ax = plt.subplots()\n",
    "im = ax.imshow(np.transpose(result_NH[\"corr_matrix\"]),cmap='RdBu_r', aspect='auto', interpolation='none', vmin=-1.0, vmax=1.0)\n",
    "fig.colorbar(im, ax=ax)\n",
    "ax.grid(False)\n",
    "ax.set_yticks(ticks)\n",
    "ax.set_xticks(ticks)\n",
    "ax.set_xticklabels(params)\n",
    "ax.set_yticklabels(params)\n",
    "plt.xticks(rotation=90)\n",
    "#x0, x1, y0, y1 = plt.axis()\n",
    "#plt.axis((x0+3.0,x1+3.0, y0, y1))\n",
    "fig.tight_layout()"
   ]
  },
  {
   "cell_type": "code",
   "execution_count": null,
   "metadata": {},
   "outputs": [],
   "source": []
  }
 ],
 "metadata": {
  "kernelspec": {
   "display_name": "Python 2",
   "language": "python",
   "name": "python2"
  },
  "language_info": {
   "codemirror_mode": {
    "name": "ipython",
    "version": 2
   },
   "file_extension": ".py",
   "mimetype": "text/x-python",
   "name": "python",
   "nbconvert_exporter": "python",
   "pygments_lexer": "ipython2",
   "version": "2.7.13"
  }
 },
 "nbformat": 4,
 "nbformat_minor": 2
}
