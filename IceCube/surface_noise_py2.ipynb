{
 "cells": [
  {
   "cell_type": "code",
   "execution_count": 31,
   "metadata": {},
   "outputs": [],
   "source": [
    "from icecube import dataio, dataclasses\n"
   ]
  },
  {
   "cell_type": "code",
   "execution_count": 2,
   "metadata": {},
   "outputs": [],
   "source": [
    "import numpy as np\n",
    "import matplotlib.pyplot as plt\n",
    "import jp_mpl as jplot\n",
    "%matplotlib inline"
   ]
  },
  {
   "cell_type": "code",
   "execution_count": 3,
   "metadata": {},
   "outputs": [],
   "source": [
    "infile_name = '/home/jp/icecube/data/noise_test/modified_test.i3.gz'"
   ]
  },
  {
   "cell_type": "code",
   "execution_count": 27,
   "metadata": {},
   "outputs": [],
   "source": [
    "infile = dataio.I3File(infile_name)"
   ]
  },
  {
   "cell_type": "code",
   "execution_count": 81,
   "metadata": {},
   "outputs": [],
   "source": [
    "def get_all_times(infile_name, omkey = None):\n",
    "    infile = dataio.I3File(infile_name)\n",
    "    times = []\n",
    "    for frame in infile:\n",
    "        inice = frame['InIceRawData']\n",
    "        for om, hits in inice:\n",
    "            if len(hits) < 2:\n",
    "                continue\n",
    "            prev_time = -1E9\n",
    "            for ihit, one_hit in enumerate(hits):\n",
    "                if ihit > 0:\n",
    "                    times.append(one_hit.time - prev_time)\n",
    "                prev_time = one_hit.time\n",
    "    infile.close()\n",
    "    return np.array(times)"
   ]
  },
  {
   "cell_type": "code",
   "execution_count": 76,
   "metadata": {},
   "outputs": [],
   "source": [
    "def get_launches_dt(infile_name):\n",
    "    infile = dataio.I3File(infile_name)\n",
    "    times = []\n",
    "    #dom_matrix = np.zeros([87, 61])\n",
    "    for frame in infile:\n",
    "        # New event, new dom matrix\n",
    "        inice = frame['InIceRawData']\n",
    "        for om, hits in inice:\n",
    "            # Only using first time anyway\n",
    "            if dom_matrix[om.string, om.om] != 0. :\n",
    "                times.append(hits[0].time - dom_matrix[om.string, om.om])\n",
    "            dom_matrix[om.string, om.om] = hits[0].time\n",
    "    infile.close()\n",
    "    return np.array(times)"
   ]
  },
  {
   "cell_type": "code",
   "execution_count": 52,
   "metadata": {},
   "outputs": [],
   "source": [
    "def get_om_hits(infile_name):\n",
    "    dom_matrix = np.zeros([87, 61])\n",
    "    infile = dataio.I3File(infile_name)\n",
    "    times = []\n",
    "    for frame in infile:\n",
    "        inice = frame['InIceRawData']\n",
    "        for om, hits in inice:\n",
    "            dom_matrix[om.string, om.om] += len(hits)\n",
    "    infile.close()\n",
    "    return dom_matrix"
   ]
  },
  {
   "cell_type": "code",
   "execution_count": 86,
   "metadata": {},
   "outputs": [],
   "source": [
    "times = get_all_times(infile_name)\n",
    "#times = get_launches_dt(infile_name)\n"
   ]
  },
  {
   "cell_type": "code",
   "execution_count": 87,
   "metadata": {},
   "outputs": [
    {
     "data": {
      "text/plain": [
       "array([ 8025., 11150., 59800., ...,  5875.,  2825.,  4425.])"
      ]
     },
     "execution_count": 87,
     "metadata": {},
     "output_type": "execute_result"
    }
   ],
   "source": [
    "times"
   ]
  },
  {
   "cell_type": "code",
   "execution_count": 88,
   "metadata": {},
   "outputs": [],
   "source": [
    "xaxis = np.linspace(3, 7, 41)\n",
    "b, x = np.histogram(np.log10(times), xaxis)"
   ]
  },
  {
   "cell_type": "code",
   "execution_count": 90,
   "metadata": {},
   "outputs": [
    {
     "data": {
      "text/plain": [
       "[<matplotlib.lines.Line2D at 0x7fdc0f61df10>]"
      ]
     },
     "execution_count": 90,
     "metadata": {},
     "output_type": "execute_result"
    },
    {
     "data": {
      "image/png": "[encoded data removed]",
      "text/plain": [
       "<Figure size 432x288 with 1 Axes>"
      ]
     },
     "metadata": {},
     "output_type": "display_data"
    }
   ],
   "source": [
    "jplot.unfilledBar(x,b, color='C0', label='Modified noise rate')"
   ]
  },
  {
   "cell_type": "code",
   "execution_count": 53,
   "metadata": {},
   "outputs": [],
   "source": [
    "dom_matrix = get_om_hits(infile_name)"
   ]
  },
  {
   "cell_type": "code",
   "execution_count": 56,
   "metadata": {},
   "outputs": [
    {
     "data": {
      "text/plain": [
       "77.0"
      ]
     },
     "execution_count": 56,
     "metadata": {},
     "output_type": "execute_result"
    }
   ],
   "source": [
    "dom_matrix.max()"
   ]
  },
  {
   "cell_type": "code",
   "execution_count": 21,
   "metadata": {},
   "outputs": [
    {
     "data": {
      "text/plain": [
       "1217028.6192332804"
      ]
     },
     "execution_count": 21,
     "metadata": {},
     "output_type": "execute_result"
    }
   ],
   "source": [
    "one_hit.time"
   ]
  },
  {
   "cell_type": "code",
   "execution_count": 91,
   "metadata": {},
   "outputs": [
    {
     "name": "stdout",
     "output_type": "stream",
     "text": [
      "[ I3Frame  (DAQ):\n",
      "  'CorsikaWeightMap' [DAQ] ==> I3Map<string, double> (231)\n",
      "  'I3EventHeader' [DAQ] ==> I3EventHeader (99)\n",
      "  'I3MCTree' [DAQ] ==> TreeBase::Tree<I3Particle, I3ParticleID, i3hash<I3ParticleID> > (32)\n",
      "  'I3TriggerHierarchy' [DAQ] ==> I3Tree<I3Trigger> (134)\n",
      "  'I3Triggers' [DAQ] ==> I3Tree<I3Trigger> (230)\n",
      "  'IceTopRawData' [DAQ] ==> I3Map<OMKey, vector<I3DOMLaunch> > (46)\n",
      "  'InIceRawData' [DAQ] ==> I3Map<OMKey, vector<I3DOMLaunch> > (7668)\n",
      "  'MCTimeIncEventID' [DAQ] ==> I3PODHolder<bool> (27)\n",
      "  'TimeShift' [DAQ] ==> I3PODHolder<double> (36)\n",
      "  'noise_weight' [DAQ] ==> I3Map<string, double> (181)\n",
      "]\n",
      "\n"
     ]
    }
   ],
   "source": [
    "print frame"
   ]
  },
  {
   "cell_type": "code",
   "execution_count": null,
   "metadata": {},
   "outputs": [],
   "source": []
  }
 ],
 "metadata": {
  "kernelspec": {
   "display_name": "Python 2",
   "language": "python",
   "name": "python2"
  },
  "language_info": {
   "codemirror_mode": {
    "name": "ipython",
    "version": 2
   },
   "file_extension": ".py",
   "mimetype": "text/x-python",
   "name": "python",
   "nbconvert_exporter": "python",
   "pygments_lexer": "ipython2",
   "version": "2.7.15+"
  }
 },
 "nbformat": 4,
 "nbformat_minor": 2
}
