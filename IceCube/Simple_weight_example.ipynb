{
 "cells": [
  {
   "cell_type": "code",
   "execution_count": 23,
   "metadata": {},
   "outputs": [],
   "source": [
    "import numpy as np\n",
    "import matplotlib.pyplot as plt\n",
    "%matplotlib inline\n",
    "import pickle, os, sys\n",
    "import jp_mpl as jplot"
   ]
  },
  {
   "cell_type": "code",
   "execution_count": 4,
   "metadata": {},
   "outputs": [],
   "source": [
    "indir = '/home/jpyanez/projects/rpp-dgrant/hignight/atmo_flux'\n",
    "numu = pickle.load(open(os.path.join(indir, 'Level5p_IC86.2013_genie_numu.14600.rlogL.pckl')))"
   ]
  },
  {
   "cell_type": "code",
   "execution_count": 5,
   "metadata": {},
   "outputs": [
    {
     "data": {
      "text/plain": [
       "['ma_qe',\n",
       " 'mn_stopped_contained',\n",
       " 'weight',\n",
       " 'weight_noflux',\n",
       " 'AhtBY',\n",
       " 'ptype',\n",
       " 'weight_e',\n",
       " 'GENIE_Ws',\n",
       " 'ma_res',\n",
       " 'rLogL',\n",
       " 'CV2uBY',\n",
       " 'MaNCEL',\n",
       " 'zenith',\n",
       " 'rLogL_good',\n",
       " 'CV1uBY',\n",
       " 'GENIE_xs',\n",
       " 'reco_energy',\n",
       " 'energy',\n",
       " 'MaNCRES',\n",
       " 'delta_llh',\n",
       " 'GENIE_Q2s',\n",
       " 'GENIE_x',\n",
       " 'GENIE_y',\n",
       " 'reco_azimuth',\n",
       " 'MaCOHpi',\n",
       " 'interaction',\n",
       " 'GENIE_Q2',\n",
       " 'weight_mu',\n",
       " 'GENIE_W',\n",
       " 'GENIE_ys',\n",
       " 'BhtBY',\n",
       " 'reco_zenith']"
      ]
     },
     "execution_count": 5,
     "metadata": {},
     "output_type": "execute_result"
    }
   ],
   "source": [
    "numu.keys()"
   ]
  },
  {
   "cell_type": "code",
   "execution_count": 18,
   "metadata": {},
   "outputs": [],
   "source": [
    "dis = (np.abs(numu['ma_res']).sum(axis=1) == 0)*(np.abs(numu['ma_qe']).sum(axis=1) == 0)"
   ]
  },
  {
   "cell_type": "code",
   "execution_count": 21,
   "metadata": {},
   "outputs": [
    {
     "data": {
      "text/plain": [
       "0.7774110490416033"
      ]
     },
     "execution_count": 21,
     "metadata": {},
     "output_type": "execute_result"
    }
   ],
   "source": [
    "dis.sum()*1./len(dis)"
   ]
  },
  {
   "cell_type": "code",
   "execution_count": 25,
   "metadata": {},
   "outputs": [],
   "source": [
    "x = np.linspace(0, 3., 101)\n",
    "\n",
    "b, _ = np.histogram(np.log10(numu['energy'][dis]), x, weights=numu['weight_mu'][dis])\n",
    "bres, _ = np.histogram(np.log10(numu['energy'][~dis]), x, weights=numu['weight_mu'][~dis])"
   ]
  },
  {
   "cell_type": "code",
   "execution_count": 27,
   "metadata": {},
   "outputs": [
    {
     "data": {
      "text/plain": [
       "[<matplotlib.lines.Line2D at 0x7fbc1f255f10>]"
      ]
     },
     "execution_count": 27,
     "metadata": {},
     "output_type": "execute_result"
    },
    {
     "data": {
      "image/png": "[encoded data removed]",
      "text/plain": [
       "<Figure size 432x288 with 1 Axes>"
      ]
     },
     "metadata": {},
     "output_type": "display_data"
    }
   ],
   "source": [
    "jplot.unfilledBar(x,b, color='C0')\n",
    "jplot.unfilledBar(x,bres, color='C1')\n"
   ]
  },
  {
   "cell_type": "code",
   "execution_count": 28,
   "metadata": {},
   "outputs": [
    {
     "data": {
      "text/plain": [
       "[<matplotlib.lines.Line2D at 0x7fbc1f5affd0>]"
      ]
     },
     "execution_count": 28,
     "metadata": {},
     "output_type": "execute_result"
    },
    {
     "data": {
      "image/png": "[encoded data removed]",
      "text/plain": [
       "<Figure size 432x288 with 1 Axes>"
      ]
     },
     "metadata": {},
     "output_type": "display_data"
    }
   ],
   "source": [
    "plt.figure()\n",
    "jplot.unfilledBar(x,b*1./(b+bres), color='C0')\n"
   ]
  },
  {
   "cell_type": "code",
   "execution_count": null,
   "metadata": {},
   "outputs": [],
   "source": []
  }
 ],
 "metadata": {
  "kernelspec": {
   "display_name": "Python 2",
   "language": "python",
   "name": "python2"
  },
  "language_info": {
   "codemirror_mode": {
    "name": "ipython",
    "version": 2
   },
   "file_extension": ".py",
   "mimetype": "text/x-python",
   "name": "python",
   "nbconvert_exporter": "python",
   "pygments_lexer": "ipython2",
   "version": "2.7.13"
  }
 },
 "nbformat": 4,
 "nbformat_minor": 2
}
