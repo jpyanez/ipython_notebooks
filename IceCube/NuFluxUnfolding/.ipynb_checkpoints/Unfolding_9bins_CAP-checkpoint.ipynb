{
 "cells": [
  {
   "cell_type": "code",
   "execution_count": 30,
   "metadata": {
    "collapsed": true
   },
   "outputs": [],
   "source": [
    "import os, sys\n",
    "import matplotlib.pyplot as plt\n",
    "import numpy as np\n",
    "%matplotlib inline \n",
    "sys.path.append('/home/jp/projects/python_tools')\n",
    "import jp_mpl as jplot\n",
    "from itertools import cycle\n",
    "import re\n"
   ]
  },
  {
   "cell_type": "code",
   "execution_count": 114,
   "metadata": {
    "collapsed": true
   },
   "outputs": [],
   "source": [
    "# This is the flux calculator. It has nothing to do with samples or any of that\n",
    "\n",
    "from scipy.interpolate import interp1d\n",
    "# This is to get the original flux used:\n",
    "import pickle\n",
    "data = pickle.load(open('/home/jp/projects/icecube/flux_unfolding/tw_neutrino_flux_wsums_original.pckl'))\n",
    "numu_tot_use_y =  ((data['sum_nue'] + data['sum_nuebar'])*data['ecenters']**3 +\n",
    "                   (data['sum_numu_from_p'] + data['sum_numubar_from_p'])*data['ecenters']**3 + \n",
    "                   (data['sum_numu_from_k'] + data['sum_numubar_from_k']) *data['ecenters']**3)\n",
    "#numu_tot_use_y =  ((data['sum_numu_from_p'] + data['sum_numubar_from_p'])*data['ecenters']**3 + \n",
    "#                   (data['sum_numu_from_k'] + data['sum_numubar_from_k']) *data['ecenters']**3)\n",
    "f2 = interp1d(data['ecenters'], numu_tot_use_y, kind='cubic' )\n",
    "#energies = np.linspace(0.3, 2.9)\n",
    "energies = np.linspace(1., 980., 1000)"
   ]
  },
  {
   "cell_type": "code",
   "execution_count": 115,
   "metadata": {
    "collapsed": true
   },
   "outputs": [],
   "source": [
    "true_axis = np.array([[0, 6.],[6., 10.], [10., 15.], [15., 25.],[25., 40.], [40., 63.], [63., 100.], [100., 160.], [160., 1000.]])\n"
   ]
  },
  {
   "cell_type": "code",
   "execution_count": 116,
   "metadata": {
    "collapsed": false
   },
   "outputs": [],
   "source": [
    "scaling_factor = 5.5"
   ]
  },
  {
   "cell_type": "code",
   "execution_count": 117,
   "metadata": {
    "collapsed": false
   },
   "outputs": [],
   "source": [
    "def readFitOutput(filename, nbins=6):\n",
    "    norms = np.zeros(nbins)\n",
    "    nu_fracs = np.zeros(nbins-1)\n",
    "    nu_errors = np.zeros(nbins-1)\n",
    "    infile = open(filename)\n",
    "    for i, line in enumerate(infile):\n",
    "        if i < (nbins-1):\n",
    "            split_line = line.split()\n",
    "            nu_fracs[i] = float(split_line[1])\n",
    "            nu_errors[i] = float(split_line[2])\n",
    "        if i == (nbins-1):\n",
    "            split_line = re.split(' +', line)\n",
    "            for j in range(1, len(split_line)):\n",
    "                split_line[j] = split_line[j].replace(\"[\", \"\")\n",
    "                split_line[j] = split_line[j].replace(\"]\", \"\")\n",
    "                split_line[j] = split_line[j].replace(\",\", \"\")\n",
    "                norms[j-1] = float(split_line[j])\n",
    "    relative_error = nu_errors/nu_fracs\n",
    "\n",
    "    nu_fracs = np.concatenate((nu_fracs, [1-np.sum(nu_fracs)]))\n",
    "    nu_errors = np.concatenate((nu_errors, [nu_errors[-1]]))\n",
    "    relative_error = np.concatenate((relative_error, [np.mean(relative_error)]))\n",
    "    return norms, nu_fracs, nu_errors, relative_error"
   ]
  },
  {
   "cell_type": "code",
   "execution_count": 118,
   "metadata": {
    "collapsed": false
   },
   "outputs": [],
   "source": [
    "norms_old, nu_fracs_old, nu_errors_old, relative_error_old = readFitOutput('result_9bins2.txt', 9)"
   ]
  },
  {
   "cell_type": "code",
   "execution_count": null,
   "metadata": {
    "collapsed": true
   },
   "outputs": [],
   "source": [
    "relative_error_old[-1] = 0.294"
   ]
  },
  {
   "cell_type": "code",
   "execution_count": 119,
   "metadata": {
    "collapsed": false
   },
   "outputs": [
    {
     "data": {
      "text/plain": [
       "array([ 0.08697375,  0.11379472,  0.11095656,  0.06744646,  0.05969356,\n",
       "        0.0631922 ,  0.06881503,  0.14075522,  0.08895344])"
      ]
     },
     "execution_count": 119,
     "metadata": {},
     "output_type": "execute_result"
    }
   ],
   "source": [
    "relative_error_old"
   ]
  },
  {
   "cell_type": "code",
   "execution_count": 120,
   "metadata": {
    "collapsed": false
   },
   "outputs": [
    {
     "name": "stdout",
     "output_type": "stream",
     "text": [
      "[ 0.01602612  0.01204868  0.01163354  0.01083009  0.01261457  0.01538335\n",
      "  0.01943738  0.02628876  0.0378069 ]\n",
      "[ 5.42700098  9.4445767   9.53764526  6.2276923   4.7321125   4.10783093\n",
      "  3.54034496  5.35419705  2.3528359 ]\n"
     ]
    }
   ],
   "source": [
    "# Guessing the error of the last bin\n",
    "\n",
    "true_fractions = np.array([ 0.09270308,  0.16401043,  0.17592479,  0.20299565,  0.14962559,\n",
    "        0.10061178,  0.06301955,  0.03445168,  0.01665745])\n",
    "nevents = true_fractions*42000\n",
    "stat_error = np.sqrt(nevents)/nevents\n",
    "error_scaling = relative_error_old/stat_error\n",
    "print stat_error\n",
    "print error_scaling"
   ]
  },
  {
   "cell_type": "code",
   "execution_count": 121,
   "metadata": {
    "collapsed": true
   },
   "outputs": [],
   "source": [
    "relative_error_old[-1] = stat_error[-1]*error_scaling[-2]"
   ]
  },
  {
   "cell_type": "code",
   "execution_count": 136,
   "metadata": {
    "collapsed": false
   },
   "outputs": [
    {
     "data": {
      "image/png": "[encoded data removed]",
      "text/plain": [
       "<matplotlib.figure.Figure at 0x7f6555a4dd90>"
      ]
     },
     "metadata": {},
     "output_type": "display_data"
    }
   ],
   "source": [
    "fig = plt.figure(figsize=(8,5))\n",
    "ax = fig.add_subplot(111)\n",
    "\n",
    "## The injected MCEq flux\n",
    "plt.plot(energies, f2(energies)/1.03, '--k', label = 'MCEq example flux')\n",
    "\n",
    "\n",
    "fit_color = 'darkgreen'\n",
    "for i, one_norm in enumerate(norms_old):\n",
    "    jplot.errorMark(true_axis[i], scaling_factor*norms_old[i], \n",
    "                    error = relative_error_old[i]*norms_old[i]*scaling_factor,\n",
    "                    color = fit_color)\n",
    "    jplot.errorMarkVert(true_axis[i], scaling_factor*norms_old[i], \n",
    "                        yerror = relative_error_old[i]*norms_old[i]*scaling_factor,\n",
    "                        color = fit_color)\n",
    "\n",
    "\n",
    "#plt.yscale('log')\n",
    "plt.xscale('log')\n",
    "plt.xlim([2, energies.max()])\n",
    "plt.ylim(3., 7.)\n",
    "\n",
    "\n",
    "plt.xlabel(r\"$E_\\nu$ (GeV)\", fontsize=16)\n",
    "plt.ylabel(r\"$\\Phi_{\\nu}$ (E/GeV)$^{\" + str(3) + \"}$ [cm$^{2}$ s sr GeV]$^{-1}$\", fontsize=16)\n",
    "plt.legend(loc=0)\n",
    "fig.subplots_adjust(bottom = 0.15)\n",
    "fig.savefig('Tania.pdf')\n",
    "fig.savefig('Tania.png')\n"
   ]
  },
  {
   "cell_type": "code",
   "execution_count": null,
   "metadata": {
    "collapsed": true
   },
   "outputs": [],
   "source": []
  }
 ],
 "metadata": {
  "kernelspec": {
   "display_name": "Python 2",
   "language": "python",
   "name": "python2"
  },
  "language_info": {
   "codemirror_mode": {
    "name": "ipython",
    "version": 2
   },
   "file_extension": ".py",
   "mimetype": "text/x-python",
   "name": "python",
   "nbconvert_exporter": "python",
   "pygments_lexer": "ipython2",
   "version": "2.7.13"
  }
 },
 "nbformat": 4,
 "nbformat_minor": 0
}
