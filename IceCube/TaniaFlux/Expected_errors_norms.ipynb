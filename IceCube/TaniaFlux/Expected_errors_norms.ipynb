{
 "cells": [
  {
   "cell_type": "code",
   "execution_count": 1,
   "metadata": {
    "collapsed": false
   },
   "outputs": [],
   "source": [
    "import os, sys\n",
    "import matplotlib.pyplot as plt\n",
    "import numpy as np\n",
    "%matplotlib inline \n",
    "sys.path.append('/home/jp/projects/python_tools')\n",
    "import jp_mpl as jplot\n",
    "from itertools import cycle\n"
   ]
  },
  {
   "cell_type": "code",
   "execution_count": 4,
   "metadata": {
    "collapsed": false
   },
   "outputs": [
    {
     "data": {
      "text/plain": [
       "[<matplotlib.lines.Line2D at 0x7fbb91bc2fd0>]"
      ]
     },
     "execution_count": 4,
     "metadata": {},
     "output_type": "execute_result"
    },
    {
     "data": {
      "image/png": "[encoded data removed]",
      "text/plain": [
       "<matplotlib.figure.Figure at 0x7fbb91d4ec50>"
      ]
     },
     "metadata": {},
     "output_type": "display_data"
    }
   ],
   "source": [
    "gamma_index = 0.04\n",
    "flux_e = np.linspace(0.8, 2.5, 101)\n",
    "gamma_change = (10**flux_e)**gamma_index\n",
    "plt.plot(flux_e, gamma_change-gamma_change.mean())\n"
   ]
  },
  {
   "cell_type": "code",
   "execution_count": 5,
   "metadata": {
    "collapsed": true
   },
   "outputs": [],
   "source": [
    "import pickle"
   ]
  },
  {
   "cell_type": "code",
   "execution_count": 16,
   "metadata": {
    "collapsed": true
   },
   "outputs": [],
   "source": [
    "data = pickle.load(open('/home/jp/projects/icecube/tania_results/DRAGONChi0.90_norm1234FreeNorm1Fixed.pckl'))"
   ]
  },
  {
   "cell_type": "code",
   "execution_count": 17,
   "metadata": {
    "collapsed": false
   },
   "outputs": [
    {
     "data": {
      "text/plain": [
       "['expected_events',\n",
       " 'noise_f',\n",
       " 'norm_tau',\n",
       " 'hesse_errors',\n",
       " 'hi_fwd',\n",
       " 'llh',\n",
       " 'add_detector_systematics',\n",
       " 'oscMode',\n",
       " 'theta23',\n",
       " 'norm_4',\n",
       " 'atmmu_f',\n",
       " 'errors',\n",
       " 'norm_1',\n",
       " 'atmmu_template',\n",
       " 'parameters',\n",
       " 'norm_2',\n",
       " 'dm31',\n",
       " 'expected_events_mc',\n",
       " 'successful_fit',\n",
       " 'uphor_ratio',\n",
       " 'axm_qe',\n",
       " 'nonzero_bins',\n",
       " 'corr_matrix',\n",
       " 'norm',\n",
       " 'norm_3',\n",
       " 'axm_res',\n",
       " 'pid_bias',\n",
       " 'norm_nu',\n",
       " 'min_routine',\n",
       " 'theta24',\n",
       " 'covariance',\n",
       " 'nubar_ratio',\n",
       " 'dm41',\n",
       " 'fit_settings',\n",
       " 'domeff',\n",
       " 'norm_atmmu',\n",
       " 'hole_ice',\n",
       " 'norm_noise',\n",
       " 'nu_nubar',\n",
       " 'had_escale',\n",
       " 'theta34',\n",
       " 'mix_angle',\n",
       " 'nu_pi_scale',\n",
       " 'simulation',\n",
       " 'norm_e',\n",
       " 'norm_nc',\n",
       " 'fit_function',\n",
       " 'data_settings',\n",
       " 'theta13',\n",
       " 'chi_squared',\n",
       " 'gamma']"
      ]
     },
     "execution_count": 17,
     "metadata": {},
     "output_type": "execute_result"
    }
   ],
   "source": [
    "data.keys()"
   ]
  },
  {
   "cell_type": "code",
   "execution_count": 18,
   "metadata": {
    "collapsed": false
   },
   "outputs": [
    {
     "data": {
      "text/plain": [
       "3.7154684873595669"
      ]
     },
     "execution_count": 18,
     "metadata": {},
     "output_type": "execute_result"
    }
   ],
   "source": [
    "data['chi_squared']"
   ]
  },
  {
   "cell_type": "code",
   "execution_count": 19,
   "metadata": {
    "collapsed": false
   },
   "outputs": [
    {
     "data": {
      "text/plain": [
       "5.510408228043033"
      ]
     },
     "execution_count": 19,
     "metadata": {},
     "output_type": "execute_result"
    }
   ],
   "source": [
    "data['llh']"
   ]
  },
  {
   "cell_type": "code",
   "execution_count": 20,
   "metadata": {
    "collapsed": false
   },
   "outputs": [
    {
     "data": {
      "text/plain": [
       "3.8932726019867179"
      ]
     },
     "execution_count": 20,
     "metadata": {},
     "output_type": "execute_result"
    }
   ],
   "source": [
    "data['norm_nu']"
   ]
  },
  {
   "cell_type": "code",
   "execution_count": 21,
   "metadata": {
    "collapsed": false
   },
   "outputs": [
    {
     "data": {
      "text/plain": [
       "0.9999798214221793"
      ]
     },
     "execution_count": 21,
     "metadata": {},
     "output_type": "execute_result"
    }
   ],
   "source": [
    "data['norm']"
   ]
  },
  {
   "cell_type": "code",
   "execution_count": 26,
   "metadata": {
    "collapsed": false
   },
   "outputs": [
    {
     "data": {
      "text/plain": [
       "array([ 0.89012776,  0.9       ,  0.95103164,  1.        ])"
      ]
     },
     "execution_count": 26,
     "metadata": {},
     "output_type": "execute_result"
    }
   ],
   "source": [
    "np.array([data['norm_1'],data['norm_2'],data['norm_3'],data['norm_4']])"
   ]
  },
  {
   "cell_type": "code",
   "execution_count": 28,
   "metadata": {
    "collapsed": false
   },
   "outputs": [
    {
     "data": {
      "text/plain": [
       "array([ 0.96264168,  0.97331815,  1.02850706,  1.08146461])"
      ]
     },
     "execution_count": 28,
     "metadata": {},
     "output_type": "execute_result"
    }
   ],
   "source": [
    "np.array([data['norm_1'],data['norm_2'],data['norm_3'],data['norm_4']])*(data['norm_nu']/3.6)"
   ]
  },
  {
   "cell_type": "code",
   "execution_count": 33,
   "metadata": {
    "collapsed": false
   },
   "outputs": [
    {
     "data": {
      "text/plain": [
       "0.05122103208023249"
      ]
     },
     "execution_count": 33,
     "metadata": {},
     "output_type": "execute_result"
    }
   ],
   "source": [
    "data['atmmu_f']"
   ]
  },
  {
   "cell_type": "code",
   "execution_count": null,
   "metadata": {
    "collapsed": true
   },
   "outputs": [],
   "source": []
  }
 ],
 "metadata": {
  "kernelspec": {
   "display_name": "Python 2",
   "language": "python",
   "name": "python2"
  },
  "language_info": {
   "codemirror_mode": {
    "name": "ipython",
    "version": 2
   },
   "file_extension": ".py",
   "mimetype": "text/x-python",
   "name": "python",
   "nbconvert_exporter": "python",
   "pygments_lexer": "ipython2",
   "version": "2.7.11"
  }
 },
 "nbformat": 4,
 "nbformat_minor": 0
}
