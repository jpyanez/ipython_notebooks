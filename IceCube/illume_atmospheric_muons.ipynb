{
 "cells": [
  {
   "cell_type": "code",
   "execution_count": 4,
   "metadata": {},
   "outputs": [],
   "source": [
    "from icecube import dataio, dataclasses, simclasses, phys_services\n",
    "import os, sys\n",
    "import numpy as np"
   ]
  },
  {
   "cell_type": "code",
   "execution_count": 7,
   "metadata": {},
   "outputs": [
    {
     "name": "stdout",
     "output_type": "stream",
     "text": [
      "/data/icecube/domeff_analysis/reco_sim_nominal/0000000-0000999/83.i3.bz2\n"
     ]
    }
   ],
   "source": [
    "# Let's open a file first\n",
    "mc_dir = '/data/icecube/domeff_analysis/reco_sim_nominal/0000000-0000999'\n",
    "file_list = os.listdir(mc_dir)\n",
    "infile_name = os.path.join(mc_dir, file_list[0])\n",
    "print(infile_name)"
   ]
  },
  {
   "cell_type": "code",
   "execution_count": 8,
   "metadata": {},
   "outputs": [
    {
     "name": "stdout",
     "output_type": "stream",
     "text": [
      "[ I3Frame  (Physics):\n",
      "  'AnalysisMuons' [Physics] ==> TreeBase::Tree<I3Particle, I3ParticleID, __gnu_cxx::hash<I3ParticleID> > (174)\n",
      "  'BackgroundCLSim_intermediatePhotons' [DAQ] ==> I3Map<ModuleKey, I3Vector<I3Photon> > (3167)\n",
      "  'BackgroundI3MCPESeriesMap_0.990' [DAQ] ==> I3Map<OMKey, vector<I3MCPE> > (90)\n",
      "  'BackgroundI3MCTree' [DAQ] ==> TreeBase::Tree<I3Particle, I3ParticleID, __gnu_cxx::hash<I3ParticleID> > (1786)\n",
      "  'BackgroundI3MCTree_preMuonProp' [DAQ] ==> TreeBase::Tree<I3Particle, I3ParticleID, __gnu_cxx::hash<I3ParticleID> > (918)\n",
      "  'BackgroundMMCTrackList' [DAQ] ==> I3Vector<I3MMCTrack> (304)\n",
      "  'BeaconLaunches' [DAQ] ==> I3Map<OMKey, vector<I3DOMLaunch> > (46)\n",
      "  'CalibratedWaveformRange' [DAQ] ==> I3TimeWindow (48)\n",
      "  'CascadeFilter_13' [Physics] ==> I3PODHolder<bool> (27)\n",
      "  'CorsikaInteractionHeight' [DAQ] ==> I3PODHolder<double> (36)\n",
      "  'CorsikaWeightMap' [DAQ] ==> I3Map<string, double> (482)\n",
      "  'DCAnalysisHits' [Physics] ==> I3PODHolder<double> (36)\n",
      "  'DCNHits' [Physics] ==> I3PODHolder<double> (36)\n",
      "  'DSTTriggers' [DAQ] ==> I3SuperDSTTriggerSeries (64)\n",
      "  'DebiasingForLineFitNew' [Physics] ==> I3RecoPulseSeriesMapMask (213)\n",
      "  'DeepCoreFilter_13' [Physics] ==> I3PODHolder<bool> (27)\n",
      "  'DeepCoreFilter_TwoLayerExp_13' [Physics] ==> I3PODHolder<bool> (27)\n",
      "  'DeepCoreSMTTriggered' [Physics] ==> I3PODHolder<bool> (27)\n",
      "  'DistAboveEndpoint' [Physics] ==> I3Vector<double> (646)\n",
      "  'DistToBorder' [Physics] ==> I3PODHolder<double> (36)\n",
      "  'EHEFilter_13' [Physics] ==> I3PODHolder<bool> (27)\n",
      "  'EventCharge' [Physics] ==> I3PODHolder<double> (36)\n",
      "  'FSSCandidate_13' [Physics] ==> I3PODHolder<bool> (27)\n",
      "  'FSSFilter_13' [Physics] ==> I3PODHolder<bool> (27)\n",
      "  'FSSFilter_STWC_pulsesTimeRange' [Physics] ==> I3TimeWindow (48)\n",
      "  'FilterMask' [Physics] ==> I3Map<string, I3FilterResult> (891)\n",
      "  'FiniteRecoCutsDOMeff' [Physics] ==> I3FiniteCuts (80)\n",
      "  'FiniteRecoFitDOMeff' [Physics] ==> I3Particle (150)\n",
      "  'FiniteRecoLLHRatio' [Physics] ==> I3PODHolder<double> (36)\n",
      "  'FiniteRecoLlhDOMeff' [Physics] ==> I3StartStopParams (61)\n",
      "  'FiniteReco_FiniteRecoLlhDOMeff_rusage' [Physics] ==> I3RUsage (52)\n",
      "  'FiniteReco_VertexRecoDOMeff_rusage' [Physics] ==> I3RUsage (52)\n",
      "  'FixedRateTriggered' [Physics] ==> I3PODHolder<bool> (27)\n",
      "  'GCFilter_13' [Physics] ==> I3PODHolder<bool> (27)\n",
      "  'HESEFilter_15' [Physics] ==> I3PODHolder<bool> (27)\n",
      "  'HitMultiplicityValues' [Physics] ==> I3HitMultiplicityValues (63)\n",
      "  'HitStatisticsValues' [Physics] ==> I3HitStatisticsValues (155)\n",
      "  'I3EventHeader' [Physics] ==> I3EventHeader (109)\n",
      "  'I3MCPESeriesMap_0.990' [DAQ] ==> I3Map<OMKey, vector<I3MCPE> > (7081)\n",
      "  'I3MCPESeriesMap_0.990WithoutNoise' [DAQ] ==> I3Map<OMKey, vector<I3MCPE> > (3184)\n",
      "  'I3MCPulseSeriesMap' [DAQ] ==> I3Map<OMKey, vector<I3MCPulse> > (5594)\n",
      "  'I3MCPulseSeriesMapParticleIDMap' [DAQ] ==> I3Map<OMKey, map<I3ParticleID, vector<unsigned int, allocator<unsigned int> >, less<I3ParticleID>, allocator<pair<I3ParticleID const, vector<unsigned int, allocator<unsigned int> > > > > > (5521)\n",
      "  'I3MCTree' [DAQ] ==> TreeBase::Tree<I3Particle, I3ParticleID, __gnu_cxx::hash<I3ParticleID> > (6630)\n",
      "  'I3SuperDST' [DAQ] ==> I3SuperDST (469)\n",
      "  'I3TriggerHierarchy' [Physics] ==> I3Tree<I3Trigger> (440)\n",
      "  'I3Triggers' [DAQ] ==> I3Tree<I3Trigger> (230)\n",
      "  'ICAnalysisHits' [Physics] ==> I3PODHolder<double> (36)\n",
      "  'ICNHits' [Physics] ==> I3PODHolder<double> (36)\n",
      "  'IceTopSMTTriggered' [Physics] ==> I3PODHolder<bool> (27)\n",
      "  'IceTopVolumeTriggered' [Physics] ==> I3PODHolder<bool> (27)\n",
      "  'ImpactAngle' [Physics] ==> I3Vector<double> (646)\n",
      "  'InIceDSTPulses' [DAQ] ==> I3RecoPulseSeriesMapMask (416)\n",
      "  'InIcePulses' [DAQ] ==> I3RecoPulseSeriesMapMask (420)\n",
      "  'InIceRawData' [DAQ] ==> I3Map<OMKey, vector<I3DOMLaunch> > (15140)\n",
      "  'InIceSMTTriggered' [Physics] ==> I3PODHolder<bool> (27)\n",
      "  'InIceStringTriggered' [Physics] ==> I3PODHolder<bool> (27)\n",
      "  'L4VetoLayer0' [Physics] ==> I3PODHolder<double> (36)\n",
      "  'L4VetoLayer1' [Physics] ==> I3PODHolder<double> (36)\n",
      "  'L4VetoLayerPulses0' [Physics] ==> I3RecoPulseSeriesMapMask (102)\n",
      "  'L4VetoLayerPulses1' [Physics] ==> I3RecoPulseSeriesMapMask (102)\n",
      "  'L4VetoLayerQTot' [Physics] ==> I3PODHolder<double> (36)\n",
      "  'L4VetoLayerVertexTime' [Physics] ==> I3PODHolder<double> (36)\n",
      "  'LineFitDOMeff' [Physics] ==> I3Particle (150)\n",
      "  'LineFitDOMeffParams' [Physics] ==> I3LineFitParams (71)\n",
      "  'LowUp_13' [Physics] ==> I3PODHolder<bool> (27)\n",
      "  'MESEFilter_15' [Physics] ==> I3PODHolder<bool> (27)\n",
      "  'MMCTrackList' [DAQ] ==> I3Vector<I3MMCTrack> (304)\n",
      "  'MPEFitCramerRaoDOMeffParams' [Physics] ==> CramerRaoParams (135)\n",
      "  'MPEFitDOMeff' [Physics] ==> I3Particle (150)\n",
      "  'MPEFitDOMeffFitParams' [Physics] ==> I3LogLikelihoodFitParams (68)\n",
      "  'MuEx' [Physics] ==> I3Particle (150)\n",
      "  'MuEx_EnUnc' [Physics] ==> I3PODHolder<double> (36)\n",
      "  'MuEx_Sigma' [Physics] ==> I3PODHolder<double> (36)\n",
      "  'MuEx_r' [Physics] ==> I3PODHolder<double> (36)\n",
      "  'MuEx_rlle' [Physics] ==> I3PODHolder<double> (36)\n",
      "  'MuEx_rllt' [Physics] ==> I3PODHolder<double> (36)\n",
      "  'MuonFilter_13' [Physics] ==> I3PODHolder<bool> (27)\n",
      "  'NDirDoms' [Physics] ==> I3PODHolder<double> (36)\n",
      "  'NumVisibleMuons_analysis_region' [Physics] ==> I3PODHolder<double> (36)\n",
      "  'OM' [Physics] ==> I3Vector<double> (646)\n",
      "  'PhotonArrivalAngle' [Physics] ==> I3Vector<double> (646)\n",
      "  'PhysMinBiasTriggered' [Physics] ==> I3PODHolder<bool> (27)\n",
      "  'PoleEHESummaryPulseInfo' [Physics] ==> I3PortiaEvent (172)\n",
      "  'PoleMuonLinefit' [Physics] ==> I3Particle (150)\n",
      "  'PoleMuonLinefitParams' [Physics] ==> I3LineFitParams (71)\n",
      "  'PoleMuonLlhFit' [Physics] ==> I3Particle (150)\n",
      "  'PoleMuonLlhFitDirectHitsBaseA' [Physics] ==> I3DirectHitsValues (126)\n",
      "  'PoleMuonLlhFitDirectHitsBaseB' [Physics] ==> I3DirectHitsValues (126)\n",
      "  'PoleMuonLlhFitDirectHitsBaseC' [Physics] ==> I3DirectHitsValues (126)\n",
      "  'PoleMuonLlhFitDirectHitsBaseD' [Physics] ==> I3DirectHitsValues (126)\n",
      "  'PoleMuonLlhFitFitParams' [Physics] ==> I3LogLikelihoodFitParams (68)\n",
      "  'PoleMuonLlhFitMuE' [Physics] ==> I3Particle (150)\n",
      "  'PoleMuonLlhFit_Finite' [Physics] ==> I3Particle (150)\n",
      "  'PoleMuonLlhFit_FiniteCuts' [Physics] ==> I3FiniteCuts (80)\n",
      "  'PolyplopiaInfo' [DAQ] ==> I3Map<string, double> (69)\n",
      "  'PolyplopiaPrimary' [DAQ] ==> I3Particle (150)\n",
      "  'PrimaryParticle' [DAQ] ==> I3Particle (150)\n",
      "  'RNGState' [DAQ] ==> I3SPRNGRandomServiceState (73)\n",
      "  'RTTWOfflinePulses_FR_WIMP_DOMeff' [Physics] ==> I3RecoPulseSeriesMapMask (335)\n",
      "  'RecoDistance' [Physics] ==> I3Vector<double> (646)\n",
      "  'RecoEndpoint' [Physics] ==> I3Position (54)\n",
      "  'RecoEndpointZ' [Physics] ==> I3PODHolder<double> (36)\n",
      "  'SPEFit2DOMeff' [Physics] ==> I3Particle (150)\n",
      "  'SPEFit2DOMeffFitParams' [Physics] ==> I3LogLikelihoodFitParams (68)\n",
      "  'SPEFitSingleDOMeff' [Physics] ==> I3Particle (150)\n",
      "  'SPEFitSingleDOMeffFitParams' [Physics] ==> I3LogLikelihoodFitParams (68)\n",
      "  'SRTInIcePulsesDOMeff' [Physics] ==> I3RecoPulseSeriesMapMask (290)\n",
      "  'ScintMinBiasTriggered' [Physics] ==> I3PODHolder<bool> (27)\n",
      "  'SignalCLSim_intermediatePhotons' [DAQ] ==> I3Map<ModuleKey, I3Vector<I3Photon> > (82751)\n",
      "  'SignalI3MCPESeriesMap_0.990' [DAQ] ==> I3Map<OMKey, vector<I3MCPE> > (3143)\n",
      "  'SlowParticleTriggered' [Physics] ==> I3PODHolder<bool> (27)\n",
      "  'SplineMPE' [Physics] ==> I3Particle (150)\n",
      "  'SplineMPEDirectHitsA' [Physics] ==> I3DirectHitsValues (126)\n",
      "  'SplineMPEDirectHitsB' [Physics] ==> I3DirectHitsValues (126)\n",
      "  'SplineMPEDirectHitsC' [Physics] ==> I3DirectHitsValues (126)\n",
      "  'SplineMPEDirectHitsD' [Physics] ==> I3DirectHitsValues (126)\n",
      "  'SplineMPEFitParams' [Physics] ==> I3LogLikelihoodFitParams (68)\n",
      "  'SplitInIceDSTPulses' [Physics] ==> I3RecoPulseSeriesMapMask (420)\n",
      "  'SplitInIcePulses' [Physics] ==> I3RecoPulseSeriesMapMask (425)\n",
      "  'SplitUncleanedInIcePulsesHLC_NoDC' [Physics] ==> I3RecoPulseSeriesMapMask (158)\n",
      "  'String' [Physics] ==> I3Vector<double> (646)\n",
      "  'TWOfflinePulses_FR_WIMP_DOMeff' [Physics] ==> I3RecoPulseSeriesMapMask (382)\n",
      "  'TWOfflinePulses_FR_WIMP_DOMeffTimeRange' [Physics] ==> I3TimeWindow (48)\n",
      "  'TimeShift' [DAQ] ==> I3PODHolder<double> (36)\n",
      "  'TotalCharge' [Physics] ==> I3Vector<double> (646)\n",
      "  'TriggerSplitterLaunchWindow' [Physics] ==> I3TimeWindow (48)\n",
      "  'TruthDistance' [Physics] ==> I3Vector<double> (646)\n",
      "  'TruthEndpoint' [Physics] ==> I3Position (54)\n",
      "  'TruthEnergy' [Physics] ==> I3PODHolder<double> (36)\n",
      "  'TruthMuon' [Physics] ==> I3Particle (150)\n",
      "  'VEF_13' [Physics] ==> I3PODHolder<bool> (27)\n",
      "  'VolumeTrigTriggered' [Physics] ==> I3PODHolder<bool> (27)\n",
      "  'rlogl' [Physics] ==> I3PODHolder<double> (36)\n",
      "]\n",
      "\n"
     ]
    }
   ],
   "source": [
    "infile = dataio.I3File(infile_name)\n",
    "frame = infile.pop_physics()\n",
    "print frame"
   ]
  },
  {
   "cell_type": "code",
   "execution_count": 10,
   "metadata": {},
   "outputs": [],
   "source": [
    "track_list = frame['MMCTrackList']\n",
    "mctree     = frame['I3MCTree']"
   ]
  },
  {
   "cell_type": "code",
   "execution_count": 11,
   "metadata": {},
   "outputs": [
    {
     "name": "stdout",
     "output_type": "stream",
     "text": [
      "[I3MMCTrack = [\n",
      " (xi, yi, zi, ti, Ei) = (-115.176 ,542.973 ,800 ,7702.91 ,559.519)\n",
      " (xc, yc, zc, tc, Ec) = (-29.4748 ,181.081 ,-77.554 ,10882.1 ,267.507)\n",
      " (xf, yf, zf, tf, Ef) = (41.079 ,-116.846 ,-800 ,13499.4 ,60.5039)\n",
      " Elost = 499.015\n",
      " Particle = [ I3Particle MajorID : 13469127016857373990\n",
      "             MinorID : 846\n",
      "              Zenith : 0.400847\n",
      "             Azimuth : 1.80333\n",
      "                   X : -227.484\n",
      "                   Y : 1017.22\n",
      "                   Z : 1949.99\n",
      "                Time : 3536.68\n",
      "              Energy : 1054.01\n",
      "               Speed : 0.299792\n",
      "              Length : 3125.59\n",
      "                Type : MuPlus\n",
      "        PDG encoding : -13\n",
      "               Shape : StartingTrack\n",
      "              Status : NotSet\n",
      "            Location : InIce\n",
      "]]\n",
      "]\n"
     ]
    }
   ],
   "source": [
    "# Let's find the muon\n",
    "print(track_list)"
   ]
  },
  {
   "cell_type": "code",
   "execution_count": 12,
   "metadata": {},
   "outputs": [],
   "source": [
    "# There's only one track in the list, so it is easy\n",
    "# Note that in some cases there will be multiple tracks in this list\n",
    "# If both tracks enter the smaller volume (500m one) we want to mark those events as a \"bundle\"\n",
    "# Bundles are bad. We don't want them, but we will cover that later. For now, you can restrict yourself to single muons"
   ]
  },
  {
   "cell_type": "code",
   "execution_count": 37,
   "metadata": {},
   "outputs": [
    {
     "name": "stdout",
     "output_type": "stream",
     "text": [
      "('Injection point of the muon', I3Position(-227.484,1017.22,1949.99))\n",
      "('Length that the muon traveled in total', 3125.5943701684264)\n",
      "('Point where it enters the 800m volume', I3Position(-115.176,542.973,800))\n",
      "('Distance from injection to 800m volume', 1249.0023827390578)\n",
      "('Ionization losses', 417.0204416509708)\n",
      "('Stochastic losses', 102.0584694051989)\n",
      "('Total E lost inside volume', 519.0789110561697)\n",
      "('Energy available upon entering volume', 559.5189264756167)\n",
      "This does not add up very nicely, why?\n"
     ]
    }
   ],
   "source": [
    "# Let's do the energy accounting exercise\n",
    "# Pick the muon track at its injection point and the length it traveled\n",
    "muon_track = track_list[0]\n",
    "print('Injection point of the muon', muon_track.particle.pos)\n",
    "print('Length that the muon traveled in total', muon_track.particle.length)\n",
    "\n",
    "# Let's calculate the distance the muon traveled *inside the 800m volume*\n",
    "entering_large_cylinder = dataclasses.I3Position(muon_track.xi, muon_track.yi, muon_track.zi)\n",
    "print('Point where it enters the 800m volume', entering_large_cylinder)\n",
    "d_injection_cylinder = (muon_track.particle.pos - entering_large_cylinder).magnitude\n",
    "print('Distance from injection to 800m volume', d_injection_cylinder)\n",
    "d_inside = muon_track.particle.length - d_injection_cylinder\n",
    "\n",
    "# Ionization energy loss\n",
    "econstant = 1/4.5 # GeV/m\n",
    "e_ion = econstant*d_inside\n",
    "print('Ionization losses', e_ion)\n",
    "\n",
    "# Sum all the stochastics\n",
    "daughters = mctree.get_daughters(muon_track.particle)\n",
    "e_stochastic = 0\n",
    "for d in daughters:\n",
    "    e_stochastic += d.energy\n",
    "\n",
    "print('Stochastic losses', e_stochastic)\n",
    "print('Total E lost inside volume', e_stochastic+e_ion)\n",
    "print('Energy available upon entering volume', muon_track.Ei)\n",
    "print('This does not add up very nicely, why?')"
   ]
  },
  {
   "cell_type": "code",
   "execution_count": 38,
   "metadata": {},
   "outputs": [
    {
     "name": "stdout",
     "output_type": "stream",
     "text": [
      "This is a good special example. This muon actually left the volume. It did not decay inside.\n",
      "I3Position(53.5633,-169.563,-927.836)\n",
      "That end point is outside the detector\n",
      "This muon entered and left. That is fine, but our energy accounting will not work as nicely\n",
      "There are probably some energy losses outside as it left, that we did not account for\n",
      "Still, we only care about stochastic energy losses INSIDE the 500m volume, so the fact the muon leaves is fine\n"
     ]
    }
   ],
   "source": [
    "print('This is a good special example. This muon actually left the volume. It did not decay inside.')\n",
    "# This function can be used to move along a track\n",
    "# I'm taking the muon, and moving along a track a distance equal to its length\n",
    "# Then I'm printing the end point\n",
    "print(muon_track.particle.shift_along_track(muon_track.particle.length))\n",
    "print('That end point is outside the detector')\n",
    "print('This muon entered and left. That is fine, but our energy accounting will not work as nicely')\n",
    "print('There are probably some energy losses outside as it left, that we did not account for')\n",
    "print('Still, we only care about stochastic energy losses INSIDE the 500m volume, so the fact the muon leaves is fine')"
   ]
  },
  {
   "cell_type": "code",
   "execution_count": 39,
   "metadata": {},
   "outputs": [],
   "source": [
    "# Let's do it again for anothermuon"
   ]
  },
  {
   "cell_type": "code",
   "execution_count": 50,
   "metadata": {},
   "outputs": [],
   "source": [
    "frame = infile.pop_physics()"
   ]
  },
  {
   "cell_type": "code",
   "execution_count": 51,
   "metadata": {},
   "outputs": [],
   "source": [
    "track_list = frame['MMCTrackList']\n",
    "mctree     = frame['I3MCTree']"
   ]
  },
  {
   "cell_type": "code",
   "execution_count": 52,
   "metadata": {},
   "outputs": [
    {
     "name": "stdout",
     "output_type": "stream",
     "text": [
      "I3Position(-114.322,151.015,-250.738)\n"
     ]
    }
   ],
   "source": [
    "muon_track = track_list[0]\n",
    "# Check where it decayed\n",
    "print(muon_track.particle.shift_along_track(muon_track.particle.length))\n"
   ]
  },
  {
   "cell_type": "code",
   "execution_count": null,
   "metadata": {},
   "outputs": [],
   "source": []
  }
 ],
 "metadata": {
  "kernelspec": {
   "display_name": "Python 3",
   "language": "python",
   "name": "python3"
  },
  "language_info": {
   "codemirror_mode": {
    "name": "ipython",
    "version": 2
   },
   "file_extension": ".py",
   "mimetype": "text/x-python",
   "name": "python",
   "nbconvert_exporter": "python",
   "pygments_lexer": "ipython2",
   "version": "2.7.15"
  }
 },
 "nbformat": 4,
 "nbformat_minor": 2
}
