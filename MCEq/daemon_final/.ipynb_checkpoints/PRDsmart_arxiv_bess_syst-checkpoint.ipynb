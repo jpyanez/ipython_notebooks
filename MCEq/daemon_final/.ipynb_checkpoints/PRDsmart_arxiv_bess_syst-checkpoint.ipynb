{
 "cells": [
  {
   "cell_type": "code",
   "execution_count": 1,
   "metadata": {},
   "outputs": [],
   "source": [
    "import os, sys\n",
    "import numpy as np\n",
    "import matplotlib.pyplot as plt\n",
    "import pickle\n",
    "from copy import deepcopy\n",
    "import CBcm"
   ]
  },
  {
   "cell_type": "code",
   "execution_count": 2,
   "metadata": {},
   "outputs": [],
   "source": [
    "from scipy import stats\n",
    "\n",
    "import iminuit"
   ]
  },
  {
   "cell_type": "code",
   "execution_count": 3,
   "metadata": {},
   "outputs": [],
   "source": [
    "sys.path.append('/home/jp/projects/atm_nu/mceq_tysak/muon_fit/modules')"
   ]
  },
  {
   "cell_type": "code",
   "execution_count": 4,
   "metadata": {},
   "outputs": [],
   "source": [
    "common_settings = pickle.load(open('/home/jp/projects/atm_nu/ddm_results/final_settings/common_settings_daemon.pkl'))"
   ]
  },
  {
   "cell_type": "code",
   "execution_count": 5,
   "metadata": {},
   "outputs": [
    {
     "name": "stdout",
     "output_type": "stream",
     "text": [
      "MUFIT: Using quickflux2!\n",
      "MUFIT: Using quickflux2!\n",
      "MufitPlots does not use the mceq flux evaluator directly\n",
      "MufitPlots does not use the mceq flux evaluator directly\n"
     ]
    },
    {
     "data": {
      "text/plain": [
       "<module 'mufit_plots' from '/home/jp/projects/atm_nu/mceq_tysak/muon_fit/modules/mufit_plots.pyc'>"
      ]
     },
     "execution_count": 5,
     "metadata": {},
     "output_type": "execute_result"
    }
   ],
   "source": [
    "import mufit\n",
    "reload(mufit)\n",
    "import mufit_plots as mfp\n",
    "reload(mfp)"
   ]
  },
  {
   "cell_type": "code",
   "execution_count": 6,
   "metadata": {},
   "outputs": [],
   "source": [
    "fitname = 'prd22_daemon_l3csyst_v1'\n",
    "filename = '/home/jp/projects/atm_nu/ddm_results/'+fitname+'.pkl'\n",
    "\n",
    "old_fitname = 'prd22_daemon_v3'\n",
    "old_filename = '/home/jp/projects/atm_nu/ddm_results/'+old_fitname+'.pkl'"
   ]
  },
  {
   "cell_type": "code",
   "execution_count": 7,
   "metadata": {},
   "outputs": [
    {
     "name": "stdout",
     "output_type": "stream",
     "text": [
      "/home/jp/projects/atm_nu/mceq_tysak/muon_fit/modules/resources/daemonsplines_20230207_nousertab.pkl\n",
      "Excluded params removed from known_params.\n",
      "No calibration file for daemon-v3\n",
      "Adjusting DEIS name\n",
      "daemon-v3\n",
      "('Using errors in mode: ', 'mixed')\n"
     ]
    }
   ],
   "source": [
    "fit = mufit.MuFit(datasets = ['l3c'                              ],\n",
    "\n",
    "                 flux_splines = 'daemon-v3',)\n"
   ]
  },
  {
   "cell_type": "code",
   "execution_count": 8,
   "metadata": {},
   "outputs": [],
   "source": [
    "physics_params = common_settings['physics_params']"
   ]
  },
  {
   "cell_type": "code",
   "execution_count": 9,
   "metadata": {},
   "outputs": [],
   "source": [
    "my_flux_parameters = {}\n",
    "for onep in physics_params:\n",
    "    if 'GSF' in onep:\n",
    "        my_flux_parameters[onep] = [0., False, -4, 4, 0., 1]\n",
    "    elif ('31G' in onep) or ('158G' in onep):\n",
    "        my_flux_parameters[onep] = [0., False, -10, 10, 0., 1]\n",
    "    elif ('20T' in onep) or ('2P' in onep):\n",
    "        if 'pi+' in onep:\n",
    "            my_flux_parameters[onep] = [0, False, -5., 5.,  0.,  2.]\n",
    "        elif 'pi-' in onep:\n",
    "            my_flux_parameters[onep] = [0,False, -33,  33,    0,  10]\n",
    "        elif 'K+' in onep:\n",
    "            my_flux_parameters[onep]= [ 0., False, -19,  19,  0,  10]\n",
    "        elif 'K-' in onep:\n",
    "            my_flux_parameters[onep]=[0., False, -25,  30, 10.,  20.]\n",
    "        elif 'p' in onep:\n",
    "            my_flux_parameters[onep]=[0., False, -16, 16,  0., 6]\n",
    "        elif 'n' in onep:\n",
    "            my_flux_parameters[onep]=[0., False, -6, 6,   0,  2.5]\n",
    "#for onep in physics_params:\n",
    "#    print(onep, my_flux_parameters[onep])\n",
    "    \n",
    "mysyst = deepcopy(fit.systematics)\n",
    "mysyst.update({# Fixing DEIS because errors are included by default\n",
    "               'deis_mscat':  [0.0, True, -3, 3],\n",
    "               'deis_bfield':  [0.0, True, -3, 3],\n",
    "               'deis_norm':  [0.0, True, -3, 3],\n",
    "\n",
    "               # L3c (all)\n",
    "               'l3c_align': 1, #np.random.uniform(-3,3),\n",
    "               'l3c_bfield': 0, #np.random.uniform(-3,3),\n",
    "               'l3c_eloss': 0, #np.random.uniform(-3,3),\n",
    "               'l3c_overb': 0., #np.random.uniform(-3,3),\n",
    "               'l3c_normHor': 0., #np.random.uniform(-3,3),\n",
    "               'l3c_normVert': 0., #np.random.uniform(-3,3),\n",
    "               'l3c_pres': 0., #np.random.uniform(-3,3),\n",
    "\n",
    "               'mn_escale': 0., #np.random.uniform(-3,3),\n",
    "\n",
    "               # Bess\n",
    "               'bess_align': 0., #np.random.uniform(-3,3),\n",
    "               'bess_finres': 0., #np.random.uniform(-3,3),\n",
    "               })"
   ]
  },
  {
   "cell_type": "code",
   "execution_count": 10,
   "metadata": {
    "scrolled": true
   },
   "outputs": [
    {
     "name": "stdout",
     "output_type": "stream",
     "text": [
      "Internal fit  0\n",
      "MuFit // Dry Run\n",
      "('Chi2', 1253.425544346597)\n"
     ]
    },
    {
     "name": "stderr",
     "output_type": "stream",
     "text": [
      "/home/jp/projects/atm_nu/mceq_tysak/muon_fit/modules/mufit.py:309: RuntimeWarning: invalid value encountered in divide\n",
      "  phys_priors_mean)**2/phys_priors_err**2)[prior_bool]\n"
     ]
    }
   ],
   "source": [
    "nfits = 1\n",
    "counter = 0\n",
    "bestfit = 1E9\n",
    "defprior = 60\n",
    "for ifit in range(nfits):\n",
    "    print 'Internal fit ', ifit\n",
    "    \n",
    "    # Start at best fit from previous fit\n",
    "    if bestfit<1E9:\n",
    "        for onekey in my_flux_parameters:\n",
    "            my_flux_parameters[onekey][0] = fit.results['params'][onekey]['value']\n",
    "        for onekey in mysyst:\n",
    "            if type(mysyst[onekey]) == list:\n",
    "                mysyst[onekey][0] = fit.results['params'][onekey]['value']    \n",
    "            else:\n",
    "                mysyst[onekey] = fit.results['params'][onekey]['value']  \n",
    "            \n",
    "#     # Change some parameters slightly\n",
    "#     for i in range(4):\n",
    "#         randkey = my_flux_parameters.keys()[np.random.randint(len(my_flux_parameters))]\n",
    "#         my_flux_parameters[randkey][0] += np.random.normal()\n",
    "    \n",
    "    #print(my_flux_parameters)\n",
    "    \n",
    "    one_m, one_f = fit.run_fit(\n",
    "        flux_parameters = my_flux_parameters,        \n",
    "        exp_parameters = mysyst,\n",
    "        fit_data = 'all',\n",
    "        fit_mode = 'physics',\n",
    "        use_priors = True,\n",
    "        print_mode = False,\n",
    "        dry_run = True,\n",
    "        emin=5.,\n",
    "        emax=1E9,\n",
    "        fake_data = False,\n",
    "        )\n",
    "    "
   ]
  },
  {
   "cell_type": "code",
   "execution_count": 11,
   "metadata": {},
   "outputs": [],
   "source": [
    "exp = fit.explist['l3c']"
   ]
  },
  {
   "cell_type": "code",
   "execution_count": 12,
   "metadata": {},
   "outputs": [],
   "source": [
    "angle = '16.9617'"
   ]
  },
  {
   "cell_type": "code",
   "execution_count": 13,
   "metadata": {},
   "outputs": [
    {
     "data": {
      "text/plain": [
       "Text(0,0.5,'Error')"
      ]
     },
     "execution_count": 13,
     "metadata": {},
     "output_type": "execute_result"
    },
    {
     "data": {
      "image/png": "[encoded data removed]",
      "text/plain": [
       "<Figure size 432x288 with 1 Axes>"
      ]
     },
     "metadata": {},
     "output_type": "display_data"
    }
   ],
   "source": [
    "plt.plot(exp.data_flux[angle][0], exp.model_flux[angle]/exp.model_flux_prefit[angle], label = 'MuFlux')\n",
    "plt.xscale('log')\n",
    "plt.legend(loc=0)\n",
    "plt.xlabel('p (GeV)')\n",
    "plt.ylabel('Error')"
   ]
  },
  {
   "cell_type": "code",
   "execution_count": 14,
   "metadata": {},
   "outputs": [
    {
     "data": {
      "text/plain": [
       "Text(0,0.5,'Error')"
      ]
     },
     "execution_count": 14,
     "metadata": {},
     "output_type": "execute_result"
    },
    {
     "data": {
      "image/png": "[encoded data removed]",
      "text/plain": [
       "<Figure size 432x288 with 1 Axes>"
      ]
     },
     "metadata": {},
     "output_type": "display_data"
    }
   ],
   "source": [
    "plt.plot(exp.data_ratio[angle][0], exp.model_ratio[angle]/exp.model_ratio_prefit[angle], label = 'MuFlux')\n",
    "plt.xscale('log')\n",
    "plt.legend(loc=0)\n",
    "plt.xlabel('p (GeV)')\n",
    "plt.ylabel('Error')"
   ]
  },
  {
   "cell_type": "markdown",
   "metadata": {},
   "source": [
    "## Do not touch figures below, need to overwrite prefit stuff to get them"
   ]
  },
  {
   "cell_type": "code",
   "execution_count": 32,
   "metadata": {},
   "outputs": [
    {
     "data": {
      "text/plain": [
       "Text(0,0.5,'Error')"
      ]
     },
     "execution_count": 32,
     "metadata": {},
     "output_type": "execute_result"
    },
    {
     "data": {
      "image/png": "[encoded data removed]",
      "text/plain": [
       "<Figure size 432x288 with 1 Axes>"
      ]
     },
     "metadata": {},
     "output_type": "display_data"
    }
   ],
   "source": [
    "plt.plot(exp.data_flux[angle][0],  exp.model_flux_mup_prefit[angle]/exp.model_flux_mup[angle]-1, label='Mu+ only')\n",
    "plt.plot(exp.data_flux[angle][0],  exp.model_flux_mum_prefit[angle]/exp.model_flux_mum[angle]-1, label='Mu- only')\n",
    "plt.plot(exp.data_flux[angle][0], model_eval/model_prefit-1, label = 'MuFlux')\n",
    "plt.xscale('log')\n",
    "plt.legend(loc=0)\n",
    "plt.xlabel('p (GeV)')\n",
    "plt.ylabel('Error')"
   ]
  },
  {
   "cell_type": "code",
   "execution_count": 35,
   "metadata": {},
   "outputs": [
    {
     "data": {
      "text/plain": [
       "Text(0,0.5,'Error')"
      ]
     },
     "execution_count": 35,
     "metadata": {},
     "output_type": "execute_result"
    },
    {
     "data": {
      "image/png": "[encoded data removed]",
      "text/plain": [
       "<Figure size 432x288 with 1 Axes>"
      ]
     },
     "metadata": {},
     "output_type": "display_data"
    }
   ],
   "source": [
    "original_qratio = exp.model_flux_mup_prefit[angle]/exp.model_flux_mum_prefit[angle]\n",
    "mod_qratio = exp.model_flux_mup[angle]/exp.model_flux_mum[angle]\n",
    "plt.plot(exp.data_flux[angle][0],mod_qratio/original_qratio, label='Charge ratio')\n",
    "plt.xscale('log')\n",
    "plt.legend(loc=0)\n",
    "plt.xlabel('p (GeV)')\n",
    "plt.ylabel('Error')"
   ]
  },
  {
   "cell_type": "code",
   "execution_count": null,
   "metadata": {},
   "outputs": [],
   "source": []
  }
 ],
 "metadata": {
  "kernelspec": {
   "display_name": "Python 2",
   "language": "python",
   "name": "python2"
  },
  "language_info": {
   "codemirror_mode": {
    "name": "ipython",
    "version": 2
   },
   "file_extension": ".py",
   "mimetype": "text/x-python",
   "name": "python",
   "nbconvert_exporter": "python",
   "pygments_lexer": "ipython2",
   "version": "2.7.17"
  }
 },
 "nbformat": 4,
 "nbformat_minor": 2
}
