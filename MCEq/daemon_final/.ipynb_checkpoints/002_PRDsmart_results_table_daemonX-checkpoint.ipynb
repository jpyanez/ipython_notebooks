{
 "cells": [
  {
   "cell_type": "code",
   "execution_count": 1,
   "metadata": {},
   "outputs": [],
   "source": [
    "# Standard tools\n",
    "\n",
    "import os, sys \n",
    "import numpy as np\n",
    "import scipy\n",
    "from copy import deepcopy\n",
    "import pickle\n",
    "import CBcm\n",
    "import matplotlib.pyplot as plt\n",
    "import jp_mpl as jplot"
   ]
  },
  {
   "cell_type": "code",
   "execution_count": 2,
   "metadata": {},
   "outputs": [],
   "source": [
    "settings_file = '/home/jp/projects/atm_nu/ddm_results/final_settings/common_settings_splitVHE.pkl'\n",
    "settings = pickle.load(open(settings_file, 'rb'))\n",
    "zfac = pickle.load(open('zfac_lib_smart.pkl', 'rb'), encoding='latin1')"
   ]
  },
  {
   "cell_type": "code",
   "execution_count": 3,
   "metadata": {},
   "outputs": [],
   "source": [
    "def get_vlist(target, plist):\n",
    "    vlist = []\n",
    "    for onep in plist:\n",
    "        parameter = zfac[onep]\n",
    "        value = parameter[0]\n",
    "        error = parameter[1]\n",
    "        scale = target/(error/value)\n",
    "        vlist.append(scale)\n",
    "    return vlist"
   ]
  },
  {
   "cell_type": "code",
   "execution_count": 4,
   "metadata": {},
   "outputs": [],
   "source": [
    "all_keys = zfac.keys()"
   ]
  },
  {
   "cell_type": "markdown",
   "metadata": {},
   "source": [
    "### Formatting the keys"
   ]
  },
  {
   "cell_type": "code",
   "execution_count": 5,
   "metadata": {},
   "outputs": [],
   "source": [
    "sorted_raw = [\n",
    "              'le_pi+',\n",
    "              'le_pi-',\n",
    "              'le_K+',\n",
    "              'le_K-',\n",
    "              'he_pi+',\n",
    "              'he_pi-',\n",
    "              'he_K+',\n",
    "              'he_K-', \n",
    "              'he_p',\n",
    "              'he_n',\n",
    "\n",
    "              'vhe1_pi+',\n",
    "              'vhe1_pi-',\n",
    "              'vhe3_pi+',\n",
    "              'vhe3_pi-',\n",
    "              'vhe3_K+',\n",
    "              'vhe3_K-',\n",
    "              'vhe3_p',\n",
    "              'vhe3_n',\n",
    "'GSF_1',\n",
    "               'GSF_2',\n",
    "               'GSF_3',\n",
    "               'GSF_4',\n",
    "               'GSF_5',\n",
    "               'GSF_6',\n",
    "              ]"
   ]
  },
  {
   "cell_type": "code",
   "execution_count": 10,
   "metadata": {},
   "outputs": [],
   "source": [
    "sorted_raw = deepcopy(sorted_keys)\n",
    "sorted_keys = []\n",
    "for onekey in sorted_raw:\n",
    "    sorted_keys.append(settings['param_legend'][onekey])"
   ]
  },
  {
   "cell_type": "markdown",
   "metadata": {},
   "source": [
    "### Loading the results"
   ]
  },
  {
   "cell_type": "code",
   "execution_count": 11,
   "metadata": {},
   "outputs": [],
   "source": [
    "#fitname = 'prd22_qf2_v17_postPrior' #'prd22_qf2_v17_noScale_final'\n",
    "fitname = 'prd22_qf2_v19_final' #'prd22_qf2_v17_noScale_final'\n",
    "\n",
    "calibration_file = '/home/jp/projects/atm_nu/ddm_results/'+fitname+'.pkl'\n",
    "\n",
    "with open(calibration_file, 'rb') as data_file:\n",
    "    result = pickle.load(data_file, encoding='latin1')"
   ]
  },
  {
   "cell_type": "code",
   "execution_count": 12,
   "metadata": {},
   "outputs": [
    {
     "data": {
      "text/plain": [
       "{'he_K-': [0.0, False, -10, 10, 0.0, 1],\n",
       " 'he_K+': [0.0, False, -10, 10, 0.0, 1],\n",
       " 'he_pi-': [8, False, -10, 10, 0.0, 1],\n",
       " 'he_pi+': [-0.08, False, -10, 10, 0.0, 1],\n",
       " 'vhe3_n': [0.0, False, -6, 6, 0, 2.5],\n",
       " 'vhe1_pi+': [-0.3, False, -5.0, 5.0, 0.0, 2.5],\n",
       " 'vhe3_K-': [0.0, False, -25, 30, 0.0, 20.0],\n",
       " 'vhe3_K+': [0.0, False, -19, 19, 0, 10],\n",
       " 'vhe1_pi-': [0, False, -33, 33, 0, 10],\n",
       " 'vhe3_p': [0.0, False, -16, 16, 0.0, 6],\n",
       " 'le_pi+': [0.8, False, -10, 10, 0.0, 1],\n",
       " 'le_pi-': [-0.0, False, -10, 10, 0.0, 1],\n",
       " 'le_K+': [0.0, False, -10, 10, 0.0, 1],\n",
       " 'le_K-': [0.0, False, -10, 10, 0.0, 1],\n",
       " 'GSF_4': [0.0, False, -4, 4, 0.0, 1],\n",
       " 'GSF_5': [-1.0, False, -4, 4, 0.0, 1],\n",
       " 'GSF_6': [0.0, False, -4, 4, 0.0, 1],\n",
       " 'GSF_1': [0.0, False, -4, 4, 0.0, 1],\n",
       " 'GSF_2': [0.0, False, -4, 4, 0.0, 1],\n",
       " 'GSF_3': [0.0, False, -4, 4, 0.0, 1],\n",
       " 'vhe3_pi+': [0, False, -5.0, 5.0, 0.0, 2.5],\n",
       " 'he_p': [0.0, False, -10, 10, 0.0, 1],\n",
       " 'vhe3_pi-': [0, False, -33, 33, 0, 10],\n",
       " 'he_n': [0.0, False, -10, 10, 0.0, 1]}"
      ]
     },
     "execution_count": 12,
     "metadata": {},
     "output_type": "execute_result"
    }
   ],
   "source": [
    "result['flux_parameters']"
   ]
  },
  {
   "cell_type": "markdown",
   "metadata": {},
   "source": [
    "### Format the results in units of original error"
   ]
  },
  {
   "cell_type": "code",
   "execution_count": 13,
   "metadata": {},
   "outputs": [],
   "source": [
    "# Do the table with original error and how they moved\n",
    "yvalues = np.zeros(len(sorted_keys))\n",
    "xvalues = np.zeros_like(yvalues)\n",
    "xerrors = np.zeros_like(yvalues)\n",
    "for ik in range(len(sorted_keys)):\n",
    "    if 'vhe2' in sorted_raw[ik]:\n",
    "        continue\n",
    "    fit_value = result['params'][sorted_raw[ik]]['value']\n",
    "    fit_error = result['params'][sorted_raw[ik]]['error']\n",
    "    \n",
    "    yvalues[ik] = ik\n",
    "    xvalues[ik] = fit_value / result['flux_parameters'][sorted_raw[ik]][5]\n",
    "    xerrors[ik] = fit_error / result['flux_parameters'][sorted_raw[ik]][5]\n"
   ]
  },
  {
   "cell_type": "code",
   "execution_count": 14,
   "metadata": {},
   "outputs": [
    {
     "data": {
      "image/png": "[encoded data removed]",
      "text/plain": [
       "<Figure size 360x720 with 1 Axes>"
      ]
     },
     "metadata": {
      "needs_background": "light"
     },
     "output_type": "display_data"
    }
   ],
   "source": [
    "fig = plt.figure(figsize=(5,10))\n",
    "ax = fig.add_subplot(111)\n",
    "ax.errorbar(xvalues, yvalues[::-1], xerr=xerrors, yerr=0., \n",
    "            marker = '+', markersize=10,\n",
    "            linestyle='none', capsize=5, color='C0')\n",
    "ax.set_yticks(range(len(sorted_keys)))\n",
    "ax.set_yticklabels(sorted_keys[::-1])\n",
    "ax.tick_params(which='both',\n",
    "               bottom=True, top=True, left=True, right=True, direction=\"in\")\n",
    "plt.axvline(0,0,1,color='k')\n",
    "plt.axhline(5.5, -5, 5, color = 'k', linestyle = '--')\n",
    "plt.fill_betweenx([-2,len(sorted_keys)+2], -1, 1, \n",
    "                 color='C3', alpha=0.2)\n",
    "plt.xlim([-4,4])\n",
    "plt.ylim(-0.5, len(sorted_keys))\n",
    "plt.xlabel(r'Best fit deviation from nominal ($\\sigma$)')\n",
    "plt.grid(False)\n",
    "plt.tight_layout()\n",
    "\n",
    "fig.savefig('/home/jp/projects/atm_nu/ddm_results/muon_results/results_figure_qf2smart.pdf')"
   ]
  },
  {
   "cell_type": "code",
   "execution_count": 15,
   "metadata": {},
   "outputs": [
    {
     "data": {
      "image/png": "[encoded data removed]",
      "text/plain": [
       "<Figure size 360x720 with 1 Axes>"
      ]
     },
     "metadata": {
      "needs_background": "light"
     },
     "output_type": "display_data"
    }
   ],
   "source": [
    "fig = plt.figure(figsize=(5,10))\n",
    "ax = fig.add_subplot(111)\n",
    "ax.errorbar(xvalues, yvalues, xerr=xerrors, yerr=0., \n",
    "            marker = '+', markersize=10,\n",
    "            linestyle='none', capsize=5, color='C0')\n",
    "ax.set_yticks(range(len(sorted_keys)))\n",
    "ax.set_yticklabels(sorted_keys)\n",
    "plt.axvline(0,0,1,color='k')\n",
    "plt.axhline(-5.5, -5, 5, color = 'k', linestyle = '--')\n",
    "plt.fill_betweenx([-2,len(sorted_keys)+2], -1, 1, \n",
    "                 color='C3', alpha=0.2)\n",
    "ax.tick_params(which='both',\n",
    "               bottom=True, top=True, left=True, right=True, direction=\"in\")\n",
    "plt.xlim([-4,4])\n",
    "plt.ylim(-0.5, len(sorted_keys))\n",
    "plt.xlabel(r'Best fit deviation from nominal ($\\sigma$)')\n",
    "plt.grid(False)\n",
    "plt.tight_layout()\n",
    "\n",
    "#fig.savefig('/home/jp/projects/atm_nu/ddm_results/muon_results/results_figure_qf2smart.pdf')"
   ]
  },
  {
   "cell_type": "markdown",
   "metadata": {},
   "source": [
    "### Do this for the n-1 results"
   ]
  },
  {
   "cell_type": "code",
   "execution_count": 30,
   "metadata": {},
   "outputs": [],
   "source": [
    "indir = '/home/jp/projects/atm_nu/ddm_results/nminusone_final'\n",
    "fnames_full = os.listdir(indir)\n",
    "tests = []\n",
    "for fname in fnames_full:\n",
    "    if 'v19' in fname and '_no' in fname and 'pkl' in fname and not 'ams' in fname:\n",
    "        tests.append(fname)"
   ]
  },
  {
   "cell_type": "code",
   "execution_count": 31,
   "metadata": {},
   "outputs": [
    {
     "data": {
      "text/plain": [
       "['/home/jp/projects/atm_nu/ddm_results/prd22_qf2_v19_final.pkl',\n",
       " 'prd22_qf2_v19_final_nocms.pkl',\n",
       " 'prd22_qf2_v19_final_nobess.pkl',\n",
       " 'prd22_qf2_v19_final_nomutron.pkl',\n",
       " 'prd22_qf2_v19_final_nol3c.pkl',\n",
       " 'prd22_qf2_v19_final_nominos.pkl',\n",
       " 'prd22_qf2_v19_final_noopera.pkl',\n",
       " 'prd22_qf2_v19_final_nodeis.pkl']"
      ]
     },
     "execution_count": 31,
     "metadata": {},
     "output_type": "execute_result"
    }
   ],
   "source": [
    "alltests = [calibration_file]+tests\n",
    "labels = []\n",
    "for i, tst in enumerate(alltests):\n",
    "    if i == 0:\n",
    "        labels.append('Full fit')\n",
    "        continue\n",
    "    labels.append('w/o ' +(tst.split('_no')[-1].rstrip('.pkl')).upper())\n",
    "alltests"
   ]
  },
  {
   "cell_type": "code",
   "execution_count": 33,
   "metadata": {},
   "outputs": [
    {
     "name": "stdout",
     "output_type": "stream",
     "text": [
      "['Full fit', 'w/o CMS', 'w/o BESS-TeV', 'w/o MUTRON', 'w/o L3+c', 'w/o MINOS', 'w/o OPERA', 'w/o DEIS']\n"
     ]
    }
   ],
   "source": [
    "for i in range(len(labels)):\n",
    "    if 'BESS' in labels[i]:\n",
    "        labels[i] = 'w/o BESS-TeV'\n",
    "    if 'L3C' in labels[i]:\n",
    "        labels[i] = 'w/o L3+c'\n",
    "print(labels)"
   ]
  },
  {
   "cell_type": "code",
   "execution_count": 34,
   "metadata": {},
   "outputs": [],
   "source": [
    "def getResults(fname):\n",
    "    #print(os.path.join(indir, fname))\n",
    "    result = pickle.load(open(os.path.join(indir, fname), 'rb'), encoding='latin1')\n",
    "    # Do the table with original error and how they moved\n",
    "    yvalues = np.zeros(len(sorted_keys))\n",
    "    xvalues = np.zeros_like(yvalues)\n",
    "    xerrors = np.zeros_like(yvalues)\n",
    "    for ik in range(len(sorted_keys)):\n",
    "        if 'vhe2' in sorted_raw[ik]:\n",
    "            continue\n",
    "        fit_value = result['params'][sorted_raw[ik]]['value']\n",
    "        fit_error = result['params'][sorted_raw[ik]]['error']\n",
    "\n",
    "        yvalues[ik] = ik\n",
    "        xvalues[ik] = fit_value / result['flux_parameters'][sorted_raw[ik]][5]\n",
    "        xerrors[ik] = fit_error / result['flux_parameters'][sorted_raw[ik]][5]\n",
    "    return xvalues, xerrors, yvalues"
   ]
  },
  {
   "cell_type": "code",
   "execution_count": 35,
   "metadata": {},
   "outputs": [
    {
     "data": {
      "image/png": "[encoded data removed]",
      "text/plain": [
       "<Figure size 360x720 with 1 Axes>"
      ]
     },
     "metadata": {
      "needs_background": "light"
     },
     "output_type": "display_data"
    }
   ],
   "source": [
    "fig = plt.figure(figsize=(5,10))\n",
    "ax = fig.add_subplot(111)\n",
    "errors = np.zeros((len(sorted_keys), len(tests)+1))\n",
    "\n",
    "fits = np.zeros_like(errors)\n",
    "for itest, fname in enumerate(alltests):\n",
    "    xvalues, xerrors, yvalues = getResults(fname)\n",
    "    \n",
    "\n",
    "    ax.errorbar(xvalues, yvalues[::-1]+0.4-0.8*itest/7., xerr=xerrors, yerr=0., \n",
    "                marker = '+', markersize=10,\n",
    "                linestyle='none', capsize=0, #color='C0',\n",
    "               label = labels[itest])\n",
    "ax.set_yticks(range(len(sorted_keys)))\n",
    "ax.set_yticklabels(sorted_keys[::-1])\n",
    "ax.tick_params(which='both',\n",
    "               bottom=True, top=True, left=True, right=True, direction=\"in\")\n",
    "plt.axvline(0,0,1,color='k')\n",
    "plt.axhline(5.5, -5, 5, color = 'k', linestyle = '--')\n",
    "plt.fill_betweenx([-2,len(sorted_keys)+2], -1, 1, \n",
    "                 color='C3', alpha=0.2)\n",
    "plt.xlim([-4,4])\n",
    "plt.ylim(-0.5, len(sorted_keys))\n",
    "plt.xlabel(r'Best fit deviation from nominal ($\\sigma$)')\n",
    "plt.grid(False)\n",
    "\n",
    "plt.legend(bbox_to_anchor=(0.5, 1.14), loc='upper center', ncol=2)\n",
    "plt.tight_layout()\n",
    "fig.savefig('/home/jp/projects/atm_nu/ddm_results/muon_results/results_figure_qf2smart_nminus1.pdf')"
   ]
  },
  {
   "cell_type": "code",
   "execution_count": 36,
   "metadata": {},
   "outputs": [
    {
     "data": {
      "text/plain": [
       "7"
      ]
     },
     "execution_count": 36,
     "metadata": {},
     "output_type": "execute_result"
    }
   ],
   "source": [
    "itest"
   ]
  },
  {
   "cell_type": "code",
   "execution_count": null,
   "metadata": {},
   "outputs": [],
   "source": []
  },
  {
   "cell_type": "code",
   "execution_count": 37,
   "metadata": {},
   "outputs": [
    {
     "name": "stdout",
     "output_type": "stream",
     "text": [
      "['bess_align' 'bess_finres' 'l3c_align' 'l3c_bfield' 'l3c_eloss'\n",
      " 'l3c_normHor' 'l3c_normVert' 'l3c_overb' 'l3c_pres' 'mn_escale']\n"
     ]
    }
   ],
   "source": [
    "syst_params = []\n",
    "for param in result['params']:\n",
    "    if param in result['flux_parameters']:\n",
    "        continue\n",
    "    if not result['params'][param]['is_fixed']:\n",
    "        syst_params.append(param)\n",
    "syst_params = np.sort(syst_params)\n",
    "print(syst_params)"
   ]
  },
  {
   "cell_type": "code",
   "execution_count": 38,
   "metadata": {},
   "outputs": [],
   "source": [
    "syst_labels = {\n",
    "'bess_align': 'BESS-TeV alignment',\n",
    "'bess_finres': 'BESS-TeV resolution',\n",
    "'l3c_align': 'L3+c alignment',\n",
    " 'l3c_bfield':'L3+c $B$ field',\n",
    " 'l3c_eloss': 'L3+c $E$ losses',\n",
    " 'l3c_normHor':'L3+c horizontal scale',\n",
    " 'l3c_normVert':'L3+c vertical scale',\n",
    "    'l3c_overb':'L3+c overburden',\n",
    " 'l3c_pres':'L3+c $p$ resolution',\n",
    " 'mn_escale': 'MINOS $E$ scale'}"
   ]
  },
  {
   "cell_type": "code",
   "execution_count": 39,
   "metadata": {},
   "outputs": [],
   "source": [
    "yvalues = np.zeros(len(syst_params))\n",
    "xvalues = np.zeros_like(yvalues)\n",
    "xerrors = np.zeros_like(yvalues)\n",
    "labels = []\n",
    "for ik in range(len(syst_params)):\n",
    "    fit_value = result['params'][syst_params[ik]]['value']\n",
    "    fit_error = result['params'][syst_params[ik]]['error']\n",
    "    labels.append(syst_labels[syst_params[ik]])\n",
    "    \n",
    "    yvalues[ik] = ik\n",
    "    xvalues[ik] = fit_value# / result['params'][syst_params[ik]][5]\n",
    "    xerrors[ik] = fit_error "
   ]
  },
  {
   "cell_type": "code",
   "execution_count": 40,
   "metadata": {},
   "outputs": [
    {
     "data": {
      "image/png": "[encoded data removed]",
      "text/plain": [
       "<Figure size 396x360 with 1 Axes>"
      ]
     },
     "metadata": {
      "needs_background": "light"
     },
     "output_type": "display_data"
    }
   ],
   "source": [
    "fig = plt.figure(figsize=(5.5,5))\n",
    "ax = fig.add_subplot(111)\n",
    "ax.errorbar(xvalues, yvalues, xerr=xerrors, yerr=0., \n",
    "            marker = '+', markersize=10,\n",
    "            linestyle='none', capsize=5, color='C0')\n",
    "ax.set_yticks(range(len(syst_params)))\n",
    "ax.set_yticklabels(labels)\n",
    "plt.axvline(0,0,1,color='k')\n",
    "#plt.axhline(5.5, -5, 5, color = 'k', linestyle = '--')\n",
    "plt.fill_betweenx([-2,len(syst_params)+2], -1, 1, \n",
    "                 color='C3', alpha=0.2)\n",
    "ax.tick_params(which='both',\n",
    "               bottom=True, top=True, left=True, right=True, direction=\"in\")\n",
    "plt.xlim([-4,4])\n",
    "plt.ylim(-0.5, len(syst_params))\n",
    "plt.xlabel(r'Fit deviation from nominal ($\\sigma$)')\n",
    "plt.grid(False)\n",
    "plt.tight_layout()\n",
    "plt.subplots_adjust(wspace=20)\n",
    "\n",
    "fig.savefig('/home/jp/projects/atm_nu/ddm_results/muon_results/syst_figure_qf2smart.pdf')"
   ]
  },
  {
   "cell_type": "code",
   "execution_count": 41,
   "metadata": {},
   "outputs": [],
   "source": [
    "formatted_labels = []\n",
    "formatted_labels.append(['_pi+', '$\\\\pi+$'])\n",
    "formatted_labels.append(['_pi-', '$\\\\pi-$'])\n",
    "formatted_labels.append(['_p','$p$'])\n",
    "formatted_labels.append(['_n','$n$'])\n",
    "formatted_labels.append(['_K-','$K-$'])\n",
    "formatted_labels.append(['_K+','$K+$'])"
   ]
  },
  {
   "cell_type": "code",
   "execution_count": 75,
   "metadata": {},
   "outputs": [],
   "source": [
    "# NEW SORTING\n",
    "sorted_keys = [\n",
    "              'le_pi+',\n",
    "              'le_pi-',\n",
    "              'le_K+',\n",
    "              'le_K-',\n",
    "    \n",
    "              'he_pi+',\n",
    "              'he_pi-',\n",
    "              'he_K+',\n",
    "              'he_K-',  \n",
    "              'he_p',\n",
    "              'he_n',\n",
    "\n",
    "              'vhe1_pi+',\n",
    "              'vhe1_pi-',\n",
    "#               'vhe2_pi+',\n",
    "#               'vhe2_pi-',\n",
    "              'vhe3_pi+',\n",
    "              'vhe3_pi-',\n",
    "              'vhe3_K+',\n",
    "              'vhe3_K-',\n",
    "              'vhe3_p',\n",
    "              'vhe3_n',\n",
    "              ]\n",
    "sorted_raw = deepcopy(sorted_keys)\n",
    "\n",
    "for ik in range(len(sorted_keys)):\n",
    "    sorted_keys[ik] = '_'+sorted_keys[ik].split('_')[-1]\n",
    "\n",
    "for il in range(len(formatted_labels)):\n",
    "    #print(label, formatted_labels[label])\n",
    "    for ik in range(len(sorted_keys)):\n",
    "        sorted_keys[ik] = sorted_keys[ik].replace(formatted_labels[il][0], formatted_labels[il][1])\n"
   ]
  },
  {
   "cell_type": "code",
   "execution_count": 76,
   "metadata": {},
   "outputs": [
    {
     "data": {
      "text/plain": [
       "['$\\\\pi+$',\n",
       " '$\\\\pi-$',\n",
       " '$K+$',\n",
       " '$K-$',\n",
       " '$\\\\pi+$',\n",
       " '$\\\\pi-$',\n",
       " '$K+$',\n",
       " '$K-$',\n",
       " '$p$',\n",
       " '$n$',\n",
       " '$\\\\pi+$',\n",
       " '$\\\\pi-$',\n",
       " '$\\\\pi+$',\n",
       " '$\\\\pi-$',\n",
       " '$K+$',\n",
       " '$K-$',\n",
       " '$p$',\n",
       " '$n$']"
      ]
     },
     "execution_count": 76,
     "metadata": {},
     "output_type": "execute_result"
    }
   ],
   "source": [
    "sorted_keys"
   ]
  },
  {
   "cell_type": "code",
   "execution_count": 77,
   "metadata": {},
   "outputs": [
    {
     "data": {
      "text/plain": [
       "{'he_K-': [0.0, False, -10, 10, 0.0, 1],\n",
       " 'he_K+': [0.0, False, -10, 10, 0.0, 1],\n",
       " 'he_pi-': [8, False, -10, 10, 0.0, 1],\n",
       " 'he_pi+': [-0.08, False, -10, 10, 0.0, 1],\n",
       " 'vhe3_n': [0.0, False, -6, 6, 0, 2.5],\n",
       " 'vhe1_pi+': [-0.3, False, -5.0, 5.0, 0.0, 2.5],\n",
       " 'vhe3_K-': [0.0, False, -25, 30, 0.0, 20.0],\n",
       " 'vhe3_K+': [0.0, False, -19, 19, 0, 10],\n",
       " 'vhe1_pi-': [0, False, -33, 33, 0, 10],\n",
       " 'vhe3_p': [0.0, False, -16, 16, 0.0, 6],\n",
       " 'le_pi+': [0.8, False, -10, 10, 0.0, 1],\n",
       " 'le_pi-': [-0.0, False, -10, 10, 0.0, 1],\n",
       " 'le_K+': [0.0, False, -10, 10, 0.0, 1],\n",
       " 'le_K-': [0.0, False, -10, 10, 0.0, 1],\n",
       " 'GSF_4': [0.0, False, -4, 4, 0.0, 1],\n",
       " 'GSF_5': [-1.0, False, -4, 4, 0.0, 1],\n",
       " 'GSF_6': [0.0, False, -4, 4, 0.0, 1],\n",
       " 'GSF_1': [0.0, False, -4, 4, 0.0, 1],\n",
       " 'GSF_2': [0.0, False, -4, 4, 0.0, 1],\n",
       " 'GSF_3': [0.0, False, -4, 4, 0.0, 1],\n",
       " 'vhe3_pi+': [0, False, -5.0, 5.0, 0.0, 2.5],\n",
       " 'he_p': [0.0, False, -10, 10, 0.0, 1],\n",
       " 'vhe3_pi-': [0, False, -33, 33, 0, 10],\n",
       " 'he_n': [0.0, False, -10, 10, 0.0, 1]}"
      ]
     },
     "execution_count": 77,
     "metadata": {},
     "output_type": "execute_result"
    }
   ],
   "source": [
    "result['flux_parameters']"
   ]
  },
  {
   "cell_type": "code",
   "execution_count": 78,
   "metadata": {},
   "outputs": [
    {
     "name": "stdout",
     "output_type": "stream",
     "text": [
      "\\hline $p$C, 31 GeV& & & \\\\ \\hline\n",
      "$\\pi+$  &  0.0463  &  $\\pm$  &  2.4\\%\\\\\n",
      "$\\pi-$  &  0.0257  &  $\\pm$  &  3.6\\%\\\\\n",
      "$K+$  &  0.0057  &  $\\pm$  &  22.7\\%\\\\\n",
      "$K-$  &  0.0016  &  $\\pm$  &  26.4\\%\\\\\n",
      "\\hline $p$C, 158 GeV& & & \\\\ \\hline\n",
      "$\\pi+$  &  0.0480  &  $\\pm$  &  1.7\\%\\\\\n",
      "$\\pi-$  &  0.0295  &  $\\pm$  &  1.9\\%\\\\\n",
      "$K+$  &  0.0050  &  $\\pm$  &  5.0\\%\\\\\n",
      "$K-$  &  0.0024  &  $\\pm$  &  3.4\\%\\\\\n",
      "$p$  &  0.1564  &  $\\pm$  &  3.7\\%\\\\\n",
      "$n$  &  0.1008  &  $\\pm$  &  8.6\\%\\\\\n",
      "\\hline $p$C, 20 TeV& & & \\\\ \\hline\n",
      "$\\pi+$  &  0.0380  &  $\\pm$  &  7.5\\%\\\\\n",
      "$\\pi-$  &  0.0251  &  $\\pm$  &  7.2\\%\\\\\n",
      "\\hline $p$C, 2 PeV& & & \\\\ \\hline\n",
      "$\\pi+$  &  0.0079  &  $\\pm$  &  189.3\\%\\\\\n",
      "$\\pi-$  &  0.0257  &  $\\pm$  &  22.2\\%\\\\\n",
      "$K+$  &  0.0064  &  $\\pm$  &  27.7\\%\\\\\n",
      "$K-$  &  0.0008  &  $\\pm$  &  131.5\\%\\\\\n",
      "$p$  &  0.2284  &  $\\pm$  &  16.0\\%\\\\\n",
      "$n$  &  0.1061  &  $\\pm$  &  23.4\\%\\\\\n"
     ]
    }
   ],
   "source": [
    "### Make my table\n",
    "addstr = '& & & \\\\\\\\ \\hline'\n",
    "for ik in range(len(sorted_keys)):\n",
    "    if 'GSF' in sorted_raw[ik]:\n",
    "        continue\n",
    "    fit_value = result['params'][sorted_raw[ik]]['value']\n",
    "    fit_error = result['params'][sorted_raw[ik]]['error']\n",
    "    raw_value = settings['zfactors_labeled'][sorted_raw[ik]][0]\n",
    "    raw_error = settings['zfactors_labeled'][sorted_raw[ik]][1]#result['flux_parameters'][sorted_raw[ik]][5]\n",
    "    \n",
    "    scaled_error = raw_error*result['flux_parameters'][sorted_raw[ik]][5]\n",
    "\n",
    "    \n",
    "    new_value = raw_value + fit_value*raw_error\n",
    "    new_error = raw_error*fit_error\n",
    "    #print(raw_error, fit_error, new_value)\n",
    "    \n",
    "    deviation = (new_value - raw_value)/raw_value\n",
    "    \n",
    "    if ik == 0:\n",
    "        print('\\hline $p$C, 31 GeV'+addstr)\n",
    "    if ik == 4:\n",
    "        print('\\hline $p$C, 158 GeV'+addstr)\n",
    "    if ik == 10:\n",
    "        print('\\hline $p$C, 20 TeV'+addstr)\n",
    "    if ik == 12:\n",
    "        print('\\hline $p$C, 2 PeV'+addstr)\n",
    "        \n",
    "    print( '  &  '.join([ sorted_keys[ik], ## Name\n",
    "                       #f\"{new_value:.2E}\" , # Parameter value\n",
    "                         \"%0.4f\" % new_value,\n",
    "                       ##\"%0.1f\" % (100*deviation), # Deviation from DDM\n",
    "                         '$\\pm$',\n",
    "                       \"%0.1f\" % (100*new_error/new_value) + '\\\\%'+  '\\\\\\\\'])) # Old error in %\n",
    "    \n",
    "    \n"
   ]
  },
  {
   "cell_type": "code",
   "execution_count": 79,
   "metadata": {},
   "outputs": [
    {
     "data": {
      "text/plain": [
       "{'he_K-': [0.0, False, -10, 10, 0.0, 1],\n",
       " 'he_K+': [0.0, False, -10, 10, 0.0, 1],\n",
       " 'he_pi-': [8, False, -10, 10, 0.0, 1],\n",
       " 'he_pi+': [-0.08, False, -10, 10, 0.0, 1],\n",
       " 'vhe3_n': [0.0, False, -6, 6, 0, 2.5],\n",
       " 'vhe1_pi+': [-0.3, False, -5.0, 5.0, 0.0, 2.5],\n",
       " 'vhe3_K-': [0.0, False, -25, 30, 0.0, 20.0],\n",
       " 'vhe3_K+': [0.0, False, -19, 19, 0, 10],\n",
       " 'vhe1_pi-': [0, False, -33, 33, 0, 10],\n",
       " 'vhe3_p': [0.0, False, -16, 16, 0.0, 6],\n",
       " 'le_pi+': [0.8, False, -10, 10, 0.0, 1],\n",
       " 'le_pi-': [-0.0, False, -10, 10, 0.0, 1],\n",
       " 'le_K+': [0.0, False, -10, 10, 0.0, 1],\n",
       " 'le_K-': [0.0, False, -10, 10, 0.0, 1],\n",
       " 'GSF_4': [0.0, False, -4, 4, 0.0, 1],\n",
       " 'GSF_5': [-1.0, False, -4, 4, 0.0, 1],\n",
       " 'GSF_6': [0.0, False, -4, 4, 0.0, 1],\n",
       " 'GSF_1': [0.0, False, -4, 4, 0.0, 1],\n",
       " 'GSF_2': [0.0, False, -4, 4, 0.0, 1],\n",
       " 'GSF_3': [0.0, False, -4, 4, 0.0, 1],\n",
       " 'vhe3_pi+': [0, False, -5.0, 5.0, 0.0, 2.5],\n",
       " 'he_p': [0.0, False, -10, 10, 0.0, 1],\n",
       " 'vhe3_pi-': [0, False, -33, 33, 0, 10],\n",
       " 'he_n': [0.0, False, -10, 10, 0.0, 1]}"
      ]
     },
     "execution_count": 79,
     "metadata": {},
     "output_type": "execute_result"
    }
   ],
   "source": [
    "result['flux_parameters']"
   ]
  },
  {
   "cell_type": "code",
   "execution_count": null,
   "metadata": {},
   "outputs": [],
   "source": []
  },
  {
   "cell_type": "code",
   "execution_count": null,
   "metadata": {},
   "outputs": [],
   "source": []
  },
  {
   "cell_type": "code",
   "execution_count": null,
   "metadata": {},
   "outputs": [],
   "source": []
  }
 ],
 "metadata": {
  "kernelspec": {
   "display_name": "Python 3",
   "language": "python",
   "name": "python3"
  },
  "language_info": {
   "codemirror_mode": {
    "name": "ipython",
    "version": 3
   },
   "file_extension": ".py",
   "mimetype": "text/x-python",
   "name": "python",
   "nbconvert_exporter": "python",
   "pygments_lexer": "ipython3",
   "version": "3.6.9"
  }
 },
 "nbformat": 4,
 "nbformat_minor": 2
}
