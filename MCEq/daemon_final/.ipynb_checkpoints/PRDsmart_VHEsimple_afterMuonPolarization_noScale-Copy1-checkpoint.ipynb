{
 "cells": [
  {
   "cell_type": "code",
   "execution_count": 29,
   "metadata": {},
   "outputs": [],
   "source": [
    "import os, sys\n",
    "import numpy as np\n",
    "import matplotlib.pyplot as plt\n",
    "import pickle\n",
    "from copy import deepcopy\n",
    "import CBcm"
   ]
  },
  {
   "cell_type": "code",
   "execution_count": 30,
   "metadata": {},
   "outputs": [],
   "source": [
    "from scipy import stats\n",
    "\n",
    "import iminuit"
   ]
  },
  {
   "cell_type": "code",
   "execution_count": 31,
   "metadata": {},
   "outputs": [],
   "source": [
    "sys.path.append('/home/jp/projects/atm_nu/mceq_tysak/muon_fit/modules')"
   ]
  },
  {
   "cell_type": "code",
   "execution_count": 32,
   "metadata": {},
   "outputs": [],
   "source": [
    "physics_params = ['le_pi+','le_pi-','le_K+','le_K-',\n",
    "                  #'le_p','le_n',\n",
    "\n",
    "                  'he_pi+','he_pi-', 'he_K+','he_K-',\n",
    "                   'he_p','he_n',\n",
    "                  \n",
    "                  'vhe1_pi+', 'vhe1_pi-', \n",
    "                  #'vhe1_K+','vhe1_K-',\n",
    "                   #'vhe1_p','vhe1_n',\n",
    "                  \n",
    "                  'vhe2_pi+', 'vhe2_pi-', \n",
    "                  #'vhe2_K+','vhe2_K-',\n",
    "                  # 'vhe2_p','vhe2_n',\n",
    "                  \n",
    "                  'vhe3_pi+', 'vhe3_pi-', \n",
    "                  'vhe3_K+','vhe3_K-',\n",
    "                   'vhe3_p','vhe3_n',\n",
    "                  #'scale',\n",
    "\n",
    "                   'GSF_1','GSF_2',\n",
    "                   'GSF_3','GSF_4',\n",
    "                   'GSF_5','GSF_6']"
   ]
  },
  {
   "cell_type": "code",
   "execution_count": 33,
   "metadata": {},
   "outputs": [
    {
     "name": "stdout",
     "output_type": "stream",
     "text": [
      "MUFIT: Using quickflux2!\n",
      "MufitPlots does not use the mceq flux evaluator directly\n"
     ]
    },
    {
     "data": {
      "text/plain": [
       "<module 'mufit_plots' from '/home/jp/projects/atm_nu/mceq_tysak/muon_fit/modules/mufit_plots.pyc'>"
      ]
     },
     "execution_count": 33,
     "metadata": {},
     "output_type": "execute_result"
    }
   ],
   "source": [
    "import mufit\n",
    "reload(mufit)\n",
    "import mufit_plots as mfp\n",
    "reload(mfp)"
   ]
  },
  {
   "cell_type": "code",
   "execution_count": 34,
   "metadata": {},
   "outputs": [],
   "source": [
    "fitname = 'prd22_qf2_v17_postPrior'\n",
    "filename = '/home/jp/projects/atm_nu/ddm_results/'+fitname+'.pkl'\n"
   ]
  },
  {
   "cell_type": "code",
   "execution_count": 35,
   "metadata": {},
   "outputs": [
    {
     "name": "stdout",
     "output_type": "stream",
     "text": [
      "/home/jp/projects/atm_nu/mceq_tysak/muon_fit/modules/resources/DDM_splines_20221114_newstyle_smart.pkl\n",
      "Excluded params removed from known_params.\n",
      "No calibration file for ddmgsf-v17\n",
      "Adjusting DEIS name\n",
      "ddmgsf-v17\n",
      "('Using errors in mode: ', 'mixed')\n",
      "MUTRON ratio: adding ALL errors in quadrature\n",
      "DEIS ratio: adding ALL errors in quadrature\n"
     ]
    }
   ],
   "source": [
    "fit = mufit.MuFit(datasets = ['bess',\n",
    "                              'l3c', \n",
    "                              'opera', \n",
    "                              'minos',\n",
    "                              'cms',\n",
    "                              'deis',\n",
    "                              'mutronratio',\n",
    "                             'deisratio'],\n",
    "                  vhe_relations = {},\n",
    "                 flux_splines = 'ddmgsf-v17',)\n"
   ]
  },
  {
   "cell_type": "raw",
   "metadata": {},
   "source": [
    "my_flux_parameters = {\n",
    "            # The fit only has power for GSF_1 and the scale parameter\n",
    "            'GSF_1': [0., False, -4, 4, 0., 1], \n",
    "            'GSF_2': [0., False, -4, 4, 0., 1], \n",
    "            'GSF_3': [0., False, -4, 4, 0., 1], \n",
    "            'GSF_4': [0., False, -4, 4, 0., 1], \n",
    "            'GSF_5': [0., False, -4, 4, 0., 1], \n",
    "            'GSF_6': [0., False, -4, 4, 0., 1], \n",
    "            #'scale':[0., True, -4, 4, 0., 0.5], # Don't mention scale at all in new tables\n",
    "\n",
    "            # LE - sensitivity except K-\n",
    "            'le_pi+': [0.8, False, -10, 10, 0., 1],\n",
    "            'le_pi-': [-0., False, -10, 10, 0., 1],\n",
    "            'le_K+': [0., False, -10, 10, 0., 1], \n",
    "            'le_K-': [0., False, -10, 10, 0., 1], \n",
    "\n",
    "           \n",
    "            # HE - sensitivity for all (increased errors for K by 4x)\n",
    "            'he_pi+': [-0.08, False, -10, 10, 0., 1], \n",
    "            'he_pi-': [8, False, -10, 10, 0., 1], \n",
    "            'he_K+': [0., False, -10, 10, 0., 1], \n",
    "            'he_K-': [0., False, -10, 10, 0., 1], \n",
    "            'he_p':[0., False, -10, 10, 0., 1], \n",
    "            'he_n':[0., False, -10, 10, 0., 1], \n",
    "\n",
    "            # VHE1 - Little power over all, very weak for K+\n",
    "            'vhe1_pi+':[-0.3, False, -5., 5.,  0.,  2.], # Verified, power\n",
    "            'vhe1_pi-':[0,False, -33,  33,    0,  8], # Verified, power\n",
    "           \n",
    "            \n",
    "            # VHE2 - Very little power for K, p and n\n",
    "            'vhe2_pi+':[-0, False, -5., 5.,  0.,  2.], # Verified, fit has power\n",
    "            'vhe2_pi-':[0, False, -33,  33,    0,   8], # Verified, little power\n",
    "\n",
    "            # VHE3 - Power for pi-, marginal for everyone else\n",
    "            'vhe3_pi+':[-0, False, -5., 5.,  0.,  2.], # Verified, NO POWER\n",
    "            'vhe3_pi-':[0, False, -33,  33,    0,   8], # Verified, little power\n",
    "            'vhe3_K+': [ 0., False, -19,  19,  0,  8], # Verified, NO POWER\n",
    "            'vhe3_K-': [0., False, -25,  30, 0.,  18.], # Verified, NO POWER\n",
    "            'vhe3_p':[0., False, -16, 16,  0., 8], # Verified, NO POWER\n",
    "            'vhe3_n':[0., False, -6, 6,   0,  3], # Verified, NO POWER\n",
    "        }"
   ]
  },
  {
   "cell_type": "code",
   "execution_count": 66,
   "metadata": {},
   "outputs": [],
   "source": [
    "my_flux_parameters = {\n",
    "            # The fit only has power for GSF_1 and the scale parameter\n",
    "            'GSF_1': [0., False, -4, 4, 0., 1], \n",
    "            'GSF_2': [0., False, -4, 4, 0., 1], \n",
    "            'GSF_3': [0., False, -4, 4, 0., 1], \n",
    "            'GSF_4': [0., False, -4, 4, 0., 1], \n",
    "            'GSF_5': [-1., False, -4, 4, 0., 1], \n",
    "            'GSF_6': [0., False, -4, 4, 0., 1], \n",
    "            #'scale':[0., True, -4, 4, 0., 0.5], # Don't mention scale at all in new tables\n",
    "\n",
    "            # LE - sensitivity except K-\n",
    "            'le_pi+': [0.8, False, -10, 10, 0., 1],\n",
    "            'le_pi-': [-0., False, -10, 10, 0., 1],\n",
    "            'le_K+': [0., False, -10, 10, 0., 1], \n",
    "            'le_K-': [0., False, -10, 10, 0., 1], \n",
    "\n",
    "           \n",
    "            # HE - sensitivity for all (increased errors for K by 4x)\n",
    "            'he_pi+': [-0.08, False, -10, 10, 0., 1], \n",
    "            'he_pi-': [8, False, -10, 10, 0., 1], \n",
    "            'he_K+': [0., False, -10, 10, 0., 1], \n",
    "            'he_K-': [0., False, -10, 10, 0., 1], \n",
    "            'he_p':[0., False, -10, 10, 0., 1], \n",
    "            'he_n':[0., False, -10, 10, 0., 1], \n",
    "\n",
    "            # VHE1 - Little power over all, very weak for K+\n",
    "            'vhe1_pi+':[-0.3, False, -5., 5.,  0.,  3.], # Verified, power\n",
    "            'vhe1_pi-':[0,False, -33,  33,    0,  14], # Verified, power\n",
    "           \n",
    "            \n",
    "            # VHE2 - Very little power for K, p and n\n",
    "            'vhe2_pi+':[-0, False, -5., 5.,  0.,  3.], # Verified, fit has power\n",
    "            'vhe2_pi-':[0, False, -33,  33,    0,   14], # Verified, little power\n",
    "\n",
    "            # VHE3 - Power for pi-, marginal for everyone else\n",
    "            'vhe3_pi+':[-0, False, -5., 5.,  0.,  3.], # Verified, NO POWER\n",
    "            'vhe3_pi-':[0, False, -33,  33,    0,   14], # Verified, little power\n",
    "            'vhe3_K+': [ 0., False, -19,  19,  0,  12], # Verified, NO POWER\n",
    "            'vhe3_K-': [0., False, -25,  30, 0.,  20.], # Verified, NO POWER\n",
    "            'vhe3_p':[0., False, -16, 16,  0., 8], # Verified, NO POWER\n",
    "            'vhe3_n':[0., False, -6, 6,   0,  3], # Verified, NO POWER\n",
    "        }"
   ]
  },
  {
   "cell_type": "code",
   "execution_count": 67,
   "metadata": {},
   "outputs": [],
   "source": [
    "mysyst = deepcopy(fit.systematics)\n",
    "mysyst.update({# Fixing DEIS because errors are included by default\n",
    "               'deis_mscat':  [0.0, True, -3, 3],\n",
    "               'deis_bfield':  [0.0, True, -3, 3],\n",
    "               'deis_norm':  [0.0, True, -3, 3],\n",
    "\n",
    "               # # Added for testing\n",
    "#                    'amsratio_mc': 0., # np.random.uniform(-3,3),\n",
    "#                    'amsratio_statistics':  0., #np.random.uniform(-3,3),\n",
    "#                    'amsratio_protons':  0., #np.random.uniform(-3,3),\n",
    "\n",
    "               # L3c (all)\n",
    "               'l3c_align': 0.0042, #np.random.uniform(-3,3),\n",
    "               'l3c_bfield': -3.30, #np.random.uniform(-3,3),\n",
    "               'l3c_eloss': -2.92, #np.random.uniform(-3,3),\n",
    "               'l3c_overb': -0.5, #np.random.uniform(-3,3),\n",
    "               'l3c_normHor': -1.41, #np.random.uniform(-3,3),\n",
    "               'l3c_normVert': -1.591, #np.random.uniform(-3,3),\n",
    "               'l3c_pres': 1.352, #np.random.uniform(-3,3),\n",
    "\n",
    "               'mn_escale': -1.59, #np.random.uniform(-3,3),\n",
    "\n",
    "               # Bess\n",
    "               'bess_align': -1.72, #np.random.uniform(-3,3),\n",
    "               'bess_finres': 0.2, #np.random.uniform(-3,3),\n",
    "               })"
   ]
  },
  {
   "cell_type": "raw",
   "metadata": {},
   "source": [
    "# Start at best fit point of a previous fit - this can be avoided if you prefer\n",
    "old_results_file = '/home/jp/projects/atm_nu/ddm_results/prd22_v16_noScale_final.pkl'\n",
    "old_results = pickle.load(open(old_results_file,'rb'))\n",
    "for param in my_flux_parameters:\n",
    "    my_flux_parameters[param][0] = old_results['params'][param]['value']\n",
    "    \n",
    "for sysparam in mysyst:\n",
    "    if sysparam in old_results['params']:\n",
    "        if not old_results['params'][sysparam]['is_fixed']:\n",
    "            mysyst[sysparam] = old_results['params'][sysparam]['value']"
   ]
  },
  {
   "cell_type": "code",
   "execution_count": null,
   "metadata": {
    "scrolled": true
   },
   "outputs": [
    {
     "name": "stdout",
     "output_type": "stream",
     "text": [
      "Internal fit  0\n"
     ]
    }
   ],
   "source": [
    "nfits = 1\n",
    "counter = 0\n",
    "bestfit = 1E9\n",
    "defprior = 60\n",
    "for ifit in range(nfits):\n",
    "    print 'Internal fit ', ifit\n",
    "    one_m, one_f = fit.run_fit(\n",
    "        flux_parameters = my_flux_parameters,        \n",
    "        exp_parameters = mysyst,\n",
    "        fit_data = 'all',\n",
    "        fit_mode = 'physics',\n",
    "        use_priors = True,\n",
    "        print_mode = False,\n",
    "        dry_run = False,\n",
    "        emin=5.,\n",
    "        fake_data = False,\n",
    "        )\n",
    "    \n",
    "    this_fit = fit.results['fmin']['fval']\n",
    "    print 'This fit', this_fit\n",
    "    if this_fit < bestfit:\n",
    "        print 'Updated results for fit', this_fit, bestfit\n",
    "        bestfit = deepcopy(this_fit)\n",
    "        results = deepcopy(fit.results)\n",
    "        m = one_m\n",
    "        f = one_f"
   ]
  },
  {
   "cell_type": "code",
   "execution_count": null,
   "metadata": {},
   "outputs": [],
   "source": [
    "free_params = 0\n",
    "for one_param in fit.fit_keys:\n",
    "    if not fit.minuit_settings['fix_'+one_param]:\n",
    "        free_params += 1\n",
    "#print(free_params, len(fit.fit_keys))"
   ]
  },
  {
   "cell_type": "code",
   "execution_count": null,
   "metadata": {},
   "outputs": [],
   "source": [
    "all_keys = results['params'].keys()\n",
    "dof = fit.results['bins']-free_params\n",
    "print 'Chi2',fit.results['chi2'], '/', dof, 'dof (approximate)'\n",
    "p_value = 1-stats.chi2.cdf(fit.results['chi2'], dof)\n",
    "print('P-value', p_value)\n",
    "syst_keys = []\n",
    "print '\\t'.join(['Param', 'value','error'])\n",
    "for one_param in physics_params:\n",
    "    all_keys.remove(one_param)\n",
    "    print '\\t'.join([one_param, \n",
    "                     \"%0.2f\" % results['params'][one_param]['value'],\n",
    "                    \"%0.2f\" % results['params'][one_param]['error']])\n",
    "all_keys.sort()\n",
    "for one_param in all_keys:\n",
    "    print '\\t'.join([one_param, \n",
    "                     \"%0.2f\" % results['params'][one_param]['value'],\n",
    "                    \"%0.2f\" % results['params'][one_param]['error']])\n",
    "\n"
   ]
  },
  {
   "cell_type": "code",
   "execution_count": null,
   "metadata": {},
   "outputs": [],
   "source": [
    "fit.results['flux_parameters'] = my_flux_parameters"
   ]
  },
  {
   "cell_type": "code",
   "execution_count": null,
   "metadata": {},
   "outputs": [],
   "source": [
    "pickle.dump(fit.results, open(filename, 'wb'))\n",
    "print('Written', filename)"
   ]
  },
  {
   "cell_type": "code",
   "execution_count": null,
   "metadata": {},
   "outputs": [],
   "source": [
    "m.matrix(correlation=True)"
   ]
  },
  {
   "cell_type": "code",
   "execution_count": null,
   "metadata": {},
   "outputs": [],
   "source": [
    "fit.results['cov_params'] = m.list_of_vary_param()\n",
    "ordered_matrix = np.zeros_like(fit.results['corr_matrix'])\n",
    "# Need to reorder this business\n",
    "syst_params = ['l3c_bfield','l3c_overb','l3c_normVert', 'bess_align','bess_finres',\n",
    "               'l3c_normHor','l3c_eloss','l3c_pres','l3c_align', 'mn_escale']\n",
    "syst_params.sort()\n",
    "ordered_phys = np.zeros(len(physics_params))\n",
    "ordered_syst = np.zeros(len(syst_params))\n",
    "for ip, one_param in enumerate(physics_params):\n",
    "    ordered_phys[ip] = fit.results['cov_params'].index(one_param)\n",
    "for ip, one_param in enumerate(syst_params):\n",
    "    ordered_syst[ip] = fit.results['cov_params'].index(one_param)\n",
    "    \n",
    "full_list = physics_params + syst_params\n",
    "full_in = np.array(np.concatenate((ordered_phys, ordered_syst)),dtype=int)\n",
    "for j, one_param in enumerate(full_list):\n",
    "    for k in range(len(full_in)):\n",
    "        ordered_matrix[j,k] = fit.results['corr_matrix'][full_in[j], full_in[k]]"
   ]
  },
  {
   "cell_type": "code",
   "execution_count": null,
   "metadata": {},
   "outputs": [],
   "source": [
    "if not os.path.exists('/home/jp/projects/atm_nu/ddm_results/'+fitname):\n",
    "    os.mkdir('/home/jp/projects/atm_nu/ddm_results/'+fitname)"
   ]
  },
  {
   "cell_type": "code",
   "execution_count": null,
   "metadata": {},
   "outputs": [],
   "source": [
    "maxb = len(physics_params)\n",
    "corr_matrix = deepcopy(ordered_matrix)\n",
    "\n",
    "for i in range(corr_matrix.shape[0]):\n",
    "    for j in range(corr_matrix.shape[0]):\n",
    "        if i<j: corr_matrix[i,j]=0.\n",
    "\n",
    "params = deepcopy(full_list)\n",
    "\n",
    "# Adjust parameter names\n",
    "for i, onep in enumerate(params):\n",
    "    if 'he' in onep or 'K' in onep or 'pi' in onep:\n",
    "        if 'K+' in onep:\n",
    "            params[i] = onep.replace('_K+', ' $K^+$')\n",
    "        elif 'K-' in onep:\n",
    "            params[i] = onep.replace('_K-', ' $K^-$')\n",
    "        elif 'pi+' in onep:\n",
    "            params[i] = onep.replace('_pi+', ' $\\pi^+$')\n",
    "        elif 'pi-' in onep:\n",
    "            params[i] = onep.replace('_pi-', ' $\\pi^-$')\n",
    "        elif '_p' in params[i]:\n",
    "            params[i] = onep.replace('_p', ' $p$')\n",
    "        elif '_n' in params[i]:\n",
    "            params[i] = onep.replace('_n', ' $n$')    \n",
    "    elif 'l3c' in params[i]:\n",
    "        params[i] = 'L3+c ' + params[i].lstrip('l3c_')\n",
    "    elif 'mn' in params[i]:\n",
    "        params[i] ='MINOS '  + params[i].lstrip('mn_')\n",
    "    elif 'bess' in params[i]:\n",
    "        params[i] = 'BessTeV ' + params[i].lstrip('bess_')\n",
    "    elif 'GSF' in params[i]:\n",
    "        params[i] = onep.replace('_', '')\n",
    "        \n",
    "    #if 'align' in params[i]:\n",
    "    #    params[i] = params[i].replace('align','alignment')\n",
    "    if 'bfield' in params[i]:\n",
    "       params[i] = params[i].replace('bfield','$B$ field')\n",
    "    if 'eloss' in params[i]:\n",
    "       params[i] = params[i].replace('eloss','$E$ loss')\n",
    "    if 'pres' in params[i]:\n",
    "       params[i] = params[i].replace('pres','$p_{res}$')\n",
    "    if 'escale' in params[i]:\n",
    "       params[i] = params[i].replace('escale','$E$ scale')\n",
    "    \n",
    "fig = plt.figure(figsize=(12*0.7,10*0.7))\n",
    "ax = fig.add_subplot(111)\n",
    "xmarks = np.arange(0.5, corr_matrix.shape[0], 1.)\n",
    "plt.pcolor(corr_matrix[:maxb,:maxb], cmap='RdBu', vmin=-1, vmax=1)\n",
    "plt.xticks(xmarks, params[:maxb], rotation=90)\n",
    "plt.yticks(xmarks, params[:maxb])\n",
    "plt.ylim(0,maxb)\n",
    "plt.xlim(0,maxb)\n",
    "ax.set_ylim(ax.get_ylim()[::-1])\n",
    "ax.xaxis.tick_top()\n",
    "plt.colorbar()\n",
    "plt.tight_layout()\n",
    "\n",
    "\n",
    "\n",
    "fig.savefig('/home/jp/projects/atm_nu/ddm_results/'+fitname+'/corr_phys_noscale_qf2.png', dpi=300)\n",
    "fig.savefig('/home/jp/projects/atm_nu/ddm_results/'+fitname+'/corr_phys_noscale_qf2.pdf')\n"
   ]
  },
  {
   "cell_type": "code",
   "execution_count": null,
   "metadata": {},
   "outputs": [],
   "source": [
    "maxb = None\n",
    "corr_matrix = deepcopy(ordered_matrix)\n",
    "\n",
    "for i in range(corr_matrix.shape[0]):\n",
    "    for j in range(corr_matrix.shape[0]):\n",
    "        if i<j: corr_matrix[i,j]=0.\n",
    "\n",
    "params = deepcopy(full_list)\n",
    "\n",
    "# Adjust parameter names\n",
    "for i, onep in enumerate(params):\n",
    "    if 'he' in onep or 'K' in onep or 'pi' in onep:\n",
    "        if 'K+' in onep:\n",
    "            params[i] = onep.replace('_K+', ' $K^+$')\n",
    "        elif 'K-' in onep:\n",
    "            params[i] = onep.replace('_K-', ' $K^-$')\n",
    "        elif 'pi+' in onep:\n",
    "            params[i] = onep.replace('_pi+', ' $\\pi^+$')\n",
    "        elif 'pi-' in onep:\n",
    "            params[i] = onep.replace('_pi-', ' $\\pi^-$')\n",
    "        elif '_p' in params[i]:\n",
    "            params[i] = onep.replace('_p', ' $p$')\n",
    "        elif '_n' in params[i]:\n",
    "            params[i] = onep.replace('_n', ' $n$')    \n",
    "    elif 'l3c' in params[i]:\n",
    "        params[i] = 'L3+c ' + params[i].lstrip('l3c_')\n",
    "    elif 'mn' in params[i]:\n",
    "        params[i] ='MINOS '  + params[i].lstrip('mn_')\n",
    "    elif 'bess' in params[i]:\n",
    "        params[i] = 'BessTeV ' + params[i].lstrip('bess_')\n",
    "    elif 'GSF' in params[i]:\n",
    "        params[i] = onep.replace('_', '')\n",
    "        \n",
    "    #if 'align' in params[i]:\n",
    "    #    params[i] = params[i].replace('align','alignment')\n",
    "    if 'bfield' in params[i]:\n",
    "       params[i] = params[i].replace('bfield','$B$ field')\n",
    "    if 'eloss' in params[i]:\n",
    "       params[i] = params[i].replace('eloss','$E$ loss')\n",
    "    if 'pres' in params[i]:\n",
    "       params[i] = params[i].replace('pres','$p_{res}$')\n",
    "    if 'escale' in params[i]:\n",
    "       params[i] = params[i].replace('escale','$E$ scale')\n",
    "    \n",
    "fig = plt.figure(figsize=(14,10))\n",
    "ax = fig.add_subplot(111)\n",
    "xmarks = np.arange(0.5, corr_matrix.shape[0], 1.)\n",
    "plt.pcolor(corr_matrix[:maxb,:maxb], cmap='RdBu', vmin=-1, vmax=1)\n",
    "plt.xticks(xmarks, params[:maxb], rotation=90)\n",
    "plt.yticks(xmarks, params[:maxb])\n",
    "plt.ylim(0,maxb)\n",
    "plt.xlim(0,maxb)\n",
    "ax.set_ylim(ax.get_ylim()[::-1])\n",
    "ax.xaxis.tick_top()\n",
    "plt.colorbar()\n",
    "#fig.savefig('/home/jp/projects/atm_nu/ddm_results/prd22_results_may9_v12_final/corr_full.png', dpi=300)\n",
    "#fig.savefig('/home/jp/projects/atm_nu/ddm_results/prd22_results_may9_v12_final/corr_full.pdf')\n"
   ]
  },
  {
   "cell_type": "code",
   "execution_count": null,
   "metadata": {},
   "outputs": [],
   "source": [
    "inb = 27\n",
    "maxb = None\n",
    "    \n",
    "fig = plt.figure(figsize=(14,10))\n",
    "ax = fig.add_subplot(111)\n",
    "xmarks = np.arange(0.5, corr_matrix[inb:maxb,inb:maxb].shape[0], 1.)\n",
    "plt.pcolor(corr_matrix[inb:maxb,inb:maxb], cmap='RdBu', vmin=-1, vmax=1)\n",
    "plt.xticks(xmarks, params[inb:maxb], rotation=90)\n",
    "plt.yticks(xmarks, params[inb:maxb])\n",
    "plt.ylim(0,maxb)\n",
    "plt.xlim(0,maxb)\n",
    "ax.set_ylim(ax.get_ylim()[::-1])\n",
    "ax.xaxis.tick_top()\n",
    "plt.colorbar()\n",
    "#fig.savefig('/home/jp/projects/atm_nu/ddm_results/prd22_results_may9_v12_final/corr_syst.png', dpi=300)\n",
    "#fig.savefig('/home/jp/projects/atm_nu/ddm_results/prd22_results_may9_v12_final/corr_syst.pdf')\n"
   ]
  },
  {
   "cell_type": "code",
   "execution_count": null,
   "metadata": {
    "scrolled": false
   },
   "outputs": [],
   "source": [
    "# Plots of the stored fit fluxes, ratios directly - does not evaluate splines again\n",
    "reload(mfp)\n",
    "mfp.plot_comparison(fit, pullflag=10.,\n",
    "                   emin=5)"
   ]
  },
  {
   "cell_type": "code",
   "execution_count": null,
   "metadata": {},
   "outputs": [],
   "source": [
    "reload(mfp)"
   ]
  },
  {
   "cell_type": "code",
   "execution_count": null,
   "metadata": {
    "scrolled": false
   },
   "outputs": [],
   "source": [
    "# Plots of the stored fit fluxes, ratios directly - does not evaluate splines again\n",
    "f1 = mfp.plotICRC21(fit, data_prefit = True)\n",
    "f1.savefig('/home/jp/projects/atm_nu/ddm_results/muon_results/flux_vert_postmufix_noscale_qf2smart.pdf')"
   ]
  },
  {
   "cell_type": "code",
   "execution_count": null,
   "metadata": {
    "scrolled": false
   },
   "outputs": [],
   "source": [
    "reload(mfp)\n",
    "f2 = mfp.plotICRC21(fit, data= 'ratio',data_prefit = True)\n",
    "f2.savefig('/home/jp/projects/atm_nu/ddm_results/muon_results/ratio_vert_postmufix_noscale_qf2smart.pdf')"
   ]
  },
  {
   "cell_type": "code",
   "execution_count": null,
   "metadata": {},
   "outputs": [],
   "source": [
    "# Plots of the stored fit fluxes, ratios directly - does not evaluate splines again\n",
    "reload(mfp)\n",
    "f3 = mfp.plotICRC21(fit, data='deis', data_prefit = True)\n",
    "f3.savefig('/home/jp/projects/atm_nu/ddm_results/muon_results/flux_deis_postmufix_noscale_qf2smart.pdf')"
   ]
  },
  {
   "cell_type": "code",
   "execution_count": null,
   "metadata": {},
   "outputs": [],
   "source": [
    "reload(mfp)\n",
    "f1 = mfp.plotPulls(mufit=fit, pull_scale=20, log_pulls=False\n",
    "                  )"
   ]
  },
  {
   "cell_type": "code",
   "execution_count": null,
   "metadata": {},
   "outputs": [],
   "source": [
    "fit.results['cov_matrix'].shape"
   ]
  },
  {
   "cell_type": "code",
   "execution_count": null,
   "metadata": {},
   "outputs": [],
   "source": [
    "len(fit.results['cov_params'])"
   ]
  },
  {
   "cell_type": "code",
   "execution_count": null,
   "metadata": {},
   "outputs": [],
   "source": []
  },
  {
   "cell_type": "code",
   "execution_count": null,
   "metadata": {},
   "outputs": [],
   "source": []
  }
 ],
 "metadata": {
  "kernelspec": {
   "display_name": "Python 2",
   "language": "python",
   "name": "python2"
  },
  "language_info": {
   "codemirror_mode": {
    "name": "ipython",
    "version": 2
   },
   "file_extension": ".py",
   "mimetype": "text/x-python",
   "name": "python",
   "nbconvert_exporter": "python",
   "pygments_lexer": "ipython2",
   "version": "2.7.17"
  }
 },
 "nbformat": 4,
 "nbformat_minor": 2
}
